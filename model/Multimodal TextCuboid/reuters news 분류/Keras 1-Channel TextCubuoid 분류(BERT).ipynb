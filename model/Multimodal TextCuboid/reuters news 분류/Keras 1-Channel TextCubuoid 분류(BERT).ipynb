{
 "cells": [
  {
   "cell_type": "markdown",
   "id": "34ae181b",
   "metadata": {},
   "source": [
    "Base에서 실행"
   ]
  },
  {
   "cell_type": "markdown",
   "id": "184f59ff",
   "metadata": {},
   "source": [
    "# Textcuboid\n"
   ]
  },
  {
   "cell_type": "code",
   "execution_count": 1,
   "id": "eb399714",
   "metadata": {},
   "outputs": [],
   "source": [
    "import os\n",
    "os.environ[\"CUDA_VISIBLE_DEVICES\"] = \"-1\""
   ]
  },
  {
   "cell_type": "markdown",
   "id": "8c61eba1",
   "metadata": {},
   "source": [
    "## 1) Dataload 20newsgroups  data"
   ]
  },
  {
   "cell_type": "code",
   "execution_count": 1,
   "id": "849c1414",
   "metadata": {},
   "outputs": [],
   "source": [
    "import matplotlib.pyplot as plt\n",
    "import numpy as np\n",
    "import pandas as pd\n",
    "import tensorflow as tf\n",
    "from tensorflow.keras.preprocessing.text import Tokenizer\n",
    "from tensorflow.keras.datasets import reuters\n",
    "\n",
    "from sklearn.metrics import precision_score, recall_score, f1_score\n",
    "from sklearn.model_selection import train_test_split\n",
    "from sklearn.preprocessing import LabelEncoder"
   ]
  },
  {
   "cell_type": "code",
   "execution_count": 2,
   "id": "acf55854",
   "metadata": {},
   "outputs": [
    {
     "name": "stdout",
     "output_type": "stream",
     "text": [
      "46\n"
     ]
    }
   ],
   "source": [
    "(train_data, train_labels), (test_data, test_labels) = reuters.load_data(test_split=0.2)\n",
    "\n",
    "category_list = []\n",
    "for i in range(46):\n",
    "    category_list.append(0)\n",
    "print(len(category_list))\n",
    "\n",
    "for i in train_labels:\n",
    "    category_list[i] += 1\n",
    "\n",
    "extracted_index = []\n",
    "\n",
    "for i, v in enumerate(category_list):\n",
    "    if v >= 100:\n",
    "#         print(i, v)\n",
    "        extracted_index.append(i)\n",
    "\n",
    "\n",
    "extracted_train_data = []\n",
    "for i, v in enumerate(train_labels):\n",
    "    if v in extracted_index:\n",
    "        extracted_train_data.append(train_data[i])\n",
    "\n",
    "extracted_test_data = []\n",
    "for i, v in enumerate(test_labels):\n",
    "    if v in extracted_index:\n",
    "        extracted_test_data.append(test_data[i])\n",
    "\n",
    "extracted_train_labels = []\n",
    "for i, v in enumerate(train_labels):\n",
    "    if v in extracted_index:\n",
    "        extracted_train_labels.append(train_labels[i])\n",
    "\n",
    "extracted_test_labels = []\n",
    "for i, v in enumerate(test_labels):\n",
    "    if v in extracted_index:\n",
    "        extracted_test_labels.append(test_labels[i])\n",
    "\n",
    "word_to_index = reuters.get_word_index()\n",
    "\n",
    "index_to_word = {}\n",
    "for key, value in word_to_index.items():\n",
    "    index_to_word[value+3] = key # pad, sos, unk, NULL 포함\n",
    "\n",
    "for index, token in enumerate((\"<pad>\", \"<sos>\", \"<unk>\")): # index=3은 NULL\n",
    "    index_to_word[index] = token\n",
    "\n",
    "#문장 추출\n",
    "to_txt=[]\n",
    "for i in range(7828):\n",
    "  \n",
    "    to_txt.append(' '.join([index_to_word[index] for index in extracted_train_data[i]])[6:])\n",
    "    \n",
    "for i in range(1934):\n",
    "    to_txt.append(' '.join([index_to_word[index] for index in extracted_test_data[i]])[6:])"
   ]
  },
  {
   "cell_type": "code",
   "execution_count": 3,
   "id": "b8e084dd",
   "metadata": {},
   "outputs": [],
   "source": [
    "y=extracted_train_labels+extracted_test_labels\n",
    "\n",
    "encoder=LabelEncoder()\n",
    "\n",
    "encoder.fit(y)\n",
    "\n",
    "label=encoder.transform(y)\n",
    "\n",
    "y_train=label[:7828]\n",
    "y_test=label[7828:]"
   ]
  },
  {
   "cell_type": "code",
   "execution_count": 4,
   "id": "8158ed08",
   "metadata": {},
   "outputs": [],
   "source": [
    "# 방법2) 케라스 내장함수 활용\n",
    "from keras.utils.np_utils import to_categorical\n",
    "\n",
    "one_hot_train_labels = to_categorical(y_train)\n",
    "one_hot_test_labels = to_categorical(y_test)"
   ]
  },
  {
   "cell_type": "markdown",
   "id": "c02f3e46",
   "metadata": {},
   "source": [
    "## 2) textcuboid 분류"
   ]
  },
  {
   "cell_type": "code",
   "execution_count": 5,
   "id": "2ffa92ca",
   "metadata": {},
   "outputs": [],
   "source": [
    "textcuboid=np.load('./1-Channel textcuboid_reuters(bert).npy')"
   ]
  },
  {
   "cell_type": "code",
   "execution_count": 6,
   "id": "55f29d23",
   "metadata": {},
   "outputs": [],
   "source": [
    "textcuboid_test=np.load('./1-Channel textcuboid_test_reuters(bert).npy')"
   ]
  },
  {
   "cell_type": "code",
   "execution_count": 91,
   "id": "1f178135",
   "metadata": {},
   "outputs": [],
   "source": [
    "import keras\n",
    "from tensorflow.keras import layers"
   ]
  },
  {
   "cell_type": "code",
   "execution_count": 92,
   "id": "ddec5841",
   "metadata": {},
   "outputs": [],
   "source": [
    "callbacks = [\n",
    "    keras.callbacks.ModelCheckpoint(\n",
    "        \"best_model.h5\", save_best_only=True, monitor=\"val_loss\"\n",
    "    ),\n",
    "    keras.callbacks.ReduceLROnPlateau(\n",
    "        monitor=\"val_loss\", factor=0.5, patience=2, min_lr=0.0001\n",
    "    ),\n",
    "#     keras.callbacks.EarlyStopping(monitor=\"val_loss\", patience=8, verbose=1),\n",
    "]"
   ]
  },
  {
   "cell_type": "code",
   "execution_count": 93,
   "id": "ce1b3b58",
   "metadata": {},
   "outputs": [],
   "source": [
    "from tensorflow.keras.layers import Input, Conv1D, GlobalMaxPooling1D, Dense, Dropout\n",
    "from tensorflow.keras.models import Model\n",
    "\n",
    "\n",
    "input_layer = Input(shape=(119, 768))\n",
    "conv1 = Conv1D(1024, 1, padding='valid', activation='relu')(input_layer)\n",
    "pooling = GlobalMaxPooling1D()(conv1)\n",
    "\n",
    "x = Dense(1024, activation='relu')(pooling)\n",
    "x = Dropout(0.5)(x)\n",
    "output_layer = Dense(12, activation='softmax')(x)\n",
    "\n",
    "model = Model(inputs=input_layer, outputs=output_layer)"
   ]
  },
  {
   "cell_type": "code",
   "execution_count": 94,
   "id": "de8bb000",
   "metadata": {},
   "outputs": [],
   "source": [
    "model.compile(optimizer='adam', loss='categorical_crossentropy', metrics=['accuracy'])"
   ]
  },
  {
   "cell_type": "code",
   "execution_count": 95,
   "id": "a4cb157c",
   "metadata": {},
   "outputs": [
    {
     "name": "stdout",
     "output_type": "stream",
     "text": [
      "Model: \"model_11\"\n",
      "_________________________________________________________________\n",
      " Layer (type)                Output Shape              Param #   \n",
      "=================================================================\n",
      " input_12 (InputLayer)       [(None, 119, 768)]        0         \n",
      "                                                                 \n",
      " conv1d_11 (Conv1D)          (None, 119, 1024)         787456    \n",
      "                                                                 \n",
      " global_max_pooling1d_11 (Gl  (None, 1024)             0         \n",
      " obalMaxPooling1D)                                               \n",
      "                                                                 \n",
      " dense_22 (Dense)            (None, 1024)              1049600   \n",
      "                                                                 \n",
      " dropout_11 (Dropout)        (None, 1024)              0         \n",
      "                                                                 \n",
      " dense_23 (Dense)            (None, 12)                12300     \n",
      "                                                                 \n",
      "=================================================================\n",
      "Total params: 1,849,356\n",
      "Trainable params: 1,849,356\n",
      "Non-trainable params: 0\n",
      "_________________________________________________________________\n"
     ]
    }
   ],
   "source": [
    "model.summary()"
   ]
  },
  {
   "cell_type": "code",
   "execution_count": 96,
   "id": "8fa47ead",
   "metadata": {},
   "outputs": [],
   "source": [
    "x_train=textcuboid[1000:]\n",
    "x_val=textcuboid[:1000]\n",
    "y_train=one_hot_train_labels[1000:]\n",
    "y_val=one_hot_train_labels[:1000]"
   ]
  },
  {
   "cell_type": "code",
   "execution_count": 97,
   "id": "a3071295",
   "metadata": {
    "scrolled": true
   },
   "outputs": [
    {
     "name": "stdout",
     "output_type": "stream",
     "text": [
      "Epoch 1/20\n",
      "27/27 [==============================] - 2s 46ms/step - loss: 6.9755 - accuracy: 0.4940 - val_loss: 1.0871 - val_accuracy: 0.7000 - lr: 0.0010\n",
      "Epoch 2/20\n",
      "27/27 [==============================] - 1s 34ms/step - loss: 0.9845 - accuracy: 0.7066 - val_loss: 0.8032 - val_accuracy: 0.7890 - lr: 0.0010\n",
      "Epoch 3/20\n",
      "27/27 [==============================] - 1s 34ms/step - loss: 0.7450 - accuracy: 0.7963 - val_loss: 0.6588 - val_accuracy: 0.8170 - lr: 0.0010\n",
      "Epoch 4/20\n",
      "27/27 [==============================] - 1s 34ms/step - loss: 0.5777 - accuracy: 0.8462 - val_loss: 0.5777 - val_accuracy: 0.8530 - lr: 0.0010\n",
      "Epoch 5/20\n",
      "27/27 [==============================] - 1s 34ms/step - loss: 0.4725 - accuracy: 0.8806 - val_loss: 0.5444 - val_accuracy: 0.8590 - lr: 0.0010\n",
      "Epoch 6/20\n",
      "27/27 [==============================] - 1s 34ms/step - loss: 0.3813 - accuracy: 0.9033 - val_loss: 0.5093 - val_accuracy: 0.8720 - lr: 0.0010\n",
      "Epoch 7/20\n",
      "27/27 [==============================] - 1s 34ms/step - loss: 0.3236 - accuracy: 0.9184 - val_loss: 0.5090 - val_accuracy: 0.8750 - lr: 0.0010\n",
      "Epoch 8/20\n",
      "27/27 [==============================] - 1s 34ms/step - loss: 0.2589 - accuracy: 0.9338 - val_loss: 0.5106 - val_accuracy: 0.8720 - lr: 0.0010\n",
      "Epoch 9/20\n",
      "27/27 [==============================] - 1s 34ms/step - loss: 0.2028 - accuracy: 0.9486 - val_loss: 0.5315 - val_accuracy: 0.8730 - lr: 0.0010\n",
      "Epoch 10/20\n",
      "27/27 [==============================] - 1s 35ms/step - loss: 0.1633 - accuracy: 0.9594 - val_loss: 0.5076 - val_accuracy: 0.8810 - lr: 5.0000e-04\n",
      "Epoch 11/20\n",
      "27/27 [==============================] - 1s 31ms/step - loss: 0.1292 - accuracy: 0.9697 - val_loss: 0.5272 - val_accuracy: 0.8790 - lr: 5.0000e-04\n",
      "Epoch 12/20\n",
      "27/27 [==============================] - 1s 34ms/step - loss: 0.1108 - accuracy: 0.9739 - val_loss: 0.5302 - val_accuracy: 0.8800 - lr: 5.0000e-04\n",
      "Epoch 13/20\n",
      "27/27 [==============================] - 1s 34ms/step - loss: 0.0964 - accuracy: 0.9773 - val_loss: 0.5334 - val_accuracy: 0.8830 - lr: 2.5000e-04\n",
      "Epoch 14/20\n",
      "27/27 [==============================] - 1s 34ms/step - loss: 0.0868 - accuracy: 0.9807 - val_loss: 0.5455 - val_accuracy: 0.8770 - lr: 2.5000e-04\n",
      "Epoch 15/20\n",
      "27/27 [==============================] - 1s 33ms/step - loss: 0.0775 - accuracy: 0.9836 - val_loss: 0.5373 - val_accuracy: 0.8780 - lr: 1.2500e-04\n",
      "Epoch 16/20\n",
      "27/27 [==============================] - 1s 34ms/step - loss: 0.0709 - accuracy: 0.9839 - val_loss: 0.5379 - val_accuracy: 0.8820 - lr: 1.2500e-04\n",
      "Epoch 17/20\n",
      "27/27 [==============================] - 1s 34ms/step - loss: 0.0675 - accuracy: 0.9861 - val_loss: 0.5498 - val_accuracy: 0.8780 - lr: 1.0000e-04\n",
      "Epoch 18/20\n",
      "27/27 [==============================] - 1s 34ms/step - loss: 0.0657 - accuracy: 0.9859 - val_loss: 0.5484 - val_accuracy: 0.8790 - lr: 1.0000e-04\n",
      "Epoch 19/20\n",
      "27/27 [==============================] - 1s 34ms/step - loss: 0.0658 - accuracy: 0.9870 - val_loss: 0.5534 - val_accuracy: 0.8810 - lr: 1.0000e-04\n",
      "Epoch 20/20\n",
      "27/27 [==============================] - 1s 32ms/step - loss: 0.0607 - accuracy: 0.9865 - val_loss: 0.5528 - val_accuracy: 0.8800 - lr: 1.0000e-04\n"
     ]
    }
   ],
   "source": [
    "history = model.fit(x_train, y_train,callbacks=callbacks, epochs=20,batch_size=256,validation_data=(x_val, y_val))"
   ]
  },
  {
   "cell_type": "code",
   "execution_count": 98,
   "id": "0b8710f9",
   "metadata": {},
   "outputs": [
    {
     "name": "stdout",
     "output_type": "stream",
     "text": [
      "61/61 [==============================] - 0s 4ms/step - loss: 0.5679 - accuracy: 0.8775\n"
     ]
    },
    {
     "data": {
      "text/plain": [
       "[0.5678754448890686, 0.8774560689926147]"
      ]
     },
     "execution_count": 98,
     "metadata": {},
     "output_type": "execute_result"
    }
   ],
   "source": [
    "model.evaluate(textcuboid_test,one_hot_test_labels)"
   ]
  },
  {
   "cell_type": "code",
   "execution_count": 99,
   "id": "eb178a78",
   "metadata": {},
   "outputs": [
    {
     "name": "stdout",
     "output_type": "stream",
     "text": [
      "61/61 [==============================] - 0s 4ms/step - loss: 0.5275 - accuracy: 0.8764\n"
     ]
    },
    {
     "data": {
      "text/plain": [
       "[0.5275211334228516, 0.8764219284057617]"
      ]
     },
     "execution_count": 99,
     "metadata": {},
     "output_type": "execute_result"
    }
   ],
   "source": [
    "from keras.models import load_model\n",
    "model = load_model('best_model.h5')\n",
    "model.evaluate(textcuboid_test,one_hot_test_labels)"
   ]
  },
  {
   "cell_type": "code",
   "execution_count": null,
   "id": "3c319af6",
   "metadata": {},
   "outputs": [],
   "source": []
  },
  {
   "cell_type": "code",
   "execution_count": 100,
   "id": "0be15b04",
   "metadata": {},
   "outputs": [
    {
     "data": {
      "text/plain": [
       "87.43333333333334"
      ]
     },
     "execution_count": 100,
     "metadata": {},
     "output_type": "execute_result"
    }
   ],
   "source": [
    "np.average([87.2, 87.3, 87.8])"
   ]
  },
  {
   "cell_type": "code",
   "execution_count": null,
   "id": "84b116e1",
   "metadata": {},
   "outputs": [],
   "source": []
  },
  {
   "cell_type": "code",
   "execution_count": null,
   "id": "6c6fcc10",
   "metadata": {},
   "outputs": [],
   "source": []
  },
  {
   "cell_type": "code",
   "execution_count": null,
   "id": "2775172f",
   "metadata": {},
   "outputs": [],
   "source": []
  }
 ],
 "metadata": {
  "kernelspec": {
   "display_name": "Python 3 (ipykernel)",
   "language": "python",
   "name": "python3"
  },
  "language_info": {
   "codemirror_mode": {
    "name": "ipython",
    "version": 3
   },
   "file_extension": ".py",
   "mimetype": "text/x-python",
   "name": "python",
   "nbconvert_exporter": "python",
   "pygments_lexer": "ipython3",
   "version": "3.9.12"
  }
 },
 "nbformat": 4,
 "nbformat_minor": 5
}
