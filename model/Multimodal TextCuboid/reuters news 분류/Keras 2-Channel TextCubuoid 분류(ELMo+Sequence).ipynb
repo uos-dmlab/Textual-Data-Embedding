{
 "cells": [
  {
   "cell_type": "markdown",
   "id": "ea1cae89",
   "metadata": {},
   "source": [
    "Base에서 실행"
   ]
  },
  {
   "cell_type": "markdown",
   "id": "184f59ff",
   "metadata": {},
   "source": [
    "# Textcuboid\n"
   ]
  },
  {
   "cell_type": "code",
   "execution_count": 1,
   "id": "e5f5e87a",
   "metadata": {},
   "outputs": [],
   "source": [
    "import os\n",
    "os.environ[\"CUDA_VISIBLE_DEVICES\"] = \"-1\""
   ]
  },
  {
   "cell_type": "markdown",
   "id": "8c61eba1",
   "metadata": {},
   "source": [
    "## 1) Dataload Reuters  data"
   ]
  },
  {
   "cell_type": "code",
   "execution_count": 1,
   "id": "849c1414",
   "metadata": {
    "scrolled": true
   },
   "outputs": [],
   "source": [
    "import matplotlib.pyplot as plt\n",
    "import numpy as np\n",
    "import pandas as pd\n",
    "import tensorflow as tf\n",
    "from tensorflow.keras.preprocessing.text import Tokenizer\n",
    "from tensorflow.keras.datasets import reuters\n",
    "\n",
    "from sklearn.metrics import precision_score, recall_score, f1_score\n",
    "from sklearn.model_selection import train_test_split\n",
    "from sklearn.preprocessing import LabelEncoder"
   ]
  },
  {
   "cell_type": "code",
   "execution_count": 2,
   "id": "c928e546",
   "metadata": {},
   "outputs": [
    {
     "name": "stdout",
     "output_type": "stream",
     "text": [
      "46\n"
     ]
    }
   ],
   "source": [
    "(train_data, train_labels), (test_data, test_labels) = reuters.load_data(test_split=0.2)\n",
    "\n",
    "category_list = []\n",
    "for i in range(46):\n",
    "    category_list.append(0)\n",
    "print(len(category_list))\n",
    "\n",
    "for i in train_labels:\n",
    "    category_list[i] += 1\n",
    "\n",
    "extracted_index = []\n",
    "\n",
    "for i, v in enumerate(category_list):\n",
    "    if v >= 100:\n",
    "#         print(i, v)\n",
    "        extracted_index.append(i)\n",
    "\n",
    "\n",
    "extracted_train_data = []\n",
    "for i, v in enumerate(train_labels):\n",
    "    if v in extracted_index:\n",
    "        extracted_train_data.append(train_data[i])\n",
    "\n",
    "extracted_test_data = []\n",
    "for i, v in enumerate(test_labels):\n",
    "    if v in extracted_index:\n",
    "        extracted_test_data.append(test_data[i])\n",
    "\n",
    "extracted_train_labels = []\n",
    "for i, v in enumerate(train_labels):\n",
    "    if v in extracted_index:\n",
    "        extracted_train_labels.append(train_labels[i])\n",
    "\n",
    "extracted_test_labels = []\n",
    "for i, v in enumerate(test_labels):\n",
    "    if v in extracted_index:\n",
    "        extracted_test_labels.append(test_labels[i])\n",
    "\n",
    "word_to_index = reuters.get_word_index()\n",
    "\n",
    "index_to_word = {}\n",
    "for key, value in word_to_index.items():\n",
    "    index_to_word[value+3] = key # pad, sos, unk, NULL 포함\n",
    "\n",
    "for index, token in enumerate((\"<pad>\", \"<sos>\", \"<unk>\")): # index=3은 NULL\n",
    "    index_to_word[index] = token\n",
    "\n",
    "#문장 추출\n",
    "to_txt=[]\n",
    "for i in range(7828):\n",
    "  \n",
    "    to_txt.append(' '.join([index_to_word[index] for index in extracted_train_data[i]])[6:])\n",
    "    \n",
    "for i in range(1934):\n",
    "    to_txt.append(' '.join([index_to_word[index] for index in extracted_test_data[i]])[6:])"
   ]
  },
  {
   "cell_type": "code",
   "execution_count": 3,
   "id": "27f8dcab",
   "metadata": {},
   "outputs": [],
   "source": [
    "y=extracted_train_labels+extracted_test_labels\n",
    "\n",
    "encoder=LabelEncoder()\n",
    "\n",
    "encoder.fit(y)\n",
    "\n",
    "label=encoder.transform(y)\n",
    "\n",
    "y_train=label[:7828]\n",
    "y_test=label[7828:]"
   ]
  },
  {
   "cell_type": "code",
   "execution_count": 4,
   "id": "90bfb720",
   "metadata": {},
   "outputs": [],
   "source": [
    "# 방법2) 케라스 내장함수 활용\n",
    "from keras.utils.np_utils import to_categorical\n",
    "\n",
    "one_hot_train_labels = to_categorical(y_train)\n",
    "one_hot_test_labels = to_categorical(y_test)"
   ]
  },
  {
   "cell_type": "code",
   "execution_count": 5,
   "id": "532b2e90",
   "metadata": {},
   "outputs": [],
   "source": [
    "x_train=to_txt[:7828]\n",
    "x_test=to_txt[7828:]\n",
    "\n",
    "sos_x_train=[]\n",
    "sos_x_test=[]\n",
    "for sen in x_train:\n",
    "    sos_x_train.append('<sos> '+sen)\n",
    "for sen in x_test:\n",
    "    sos_x_test.append('<sos> '+sen)\n",
    "\n",
    "all_txt=sos_x_train+sos_x_test\n",
    "\n",
    "from tensorflow.keras.preprocessing.text import Tokenizer\n",
    "tokenizer = Tokenizer()\n",
    "tokenizer.fit_on_texts(all_txt)\n",
    "\n",
    "vocab_size =len(tokenizer.word_index)+1 #1을 더해야 에러가 안터짐 토큰 영향으로 보임\n",
    "\n",
    "x_train_encoded = tokenizer.texts_to_sequences(sos_x_train)\n",
    "x_test_encoded = tokenizer.texts_to_sequences(sos_x_test)\n",
    "\n",
    "max_len = 300\n",
    "\n",
    "xtext_train = tf.keras.preprocessing.sequence.pad_sequences(x_train_encoded, maxlen=max_len)\n",
    "xtext_test = tf.keras.preprocessing.sequence.pad_sequences(x_test_encoded, maxlen=max_len)"
   ]
  },
  {
   "cell_type": "markdown",
   "id": "fc576c00",
   "metadata": {},
   "source": [
    "## 2) 어텐션 레이어 정의"
   ]
  },
  {
   "cell_type": "code",
   "execution_count": 6,
   "id": "501a2985",
   "metadata": {},
   "outputs": [],
   "source": [
    "class MultiHeadAttention(tf.keras.layers.Layer):\n",
    "    def __init__(self, embedding_dim, num_heads=8):\n",
    "        super(MultiHeadAttention, self).__init__()\n",
    "        self.embedding_dim = embedding_dim # d_model\n",
    "        self.num_heads = num_heads\n",
    "\n",
    "        assert embedding_dim % self.num_heads == 0\n",
    "\n",
    "        self.projection_dim = embedding_dim // num_heads\n",
    "        self.query_dense = tf.keras.layers.Dense(embedding_dim)\n",
    "        self.key_dense = tf.keras.layers.Dense(embedding_dim)\n",
    "        self.value_dense = tf.keras.layers.Dense(embedding_dim)\n",
    "        self.dense = tf.keras.layers.Dense(embedding_dim)\n",
    "\n",
    "    def scaled_dot_product_attention(self, query, key, value):\n",
    "        matmul_qk = tf.matmul(query, key, transpose_b=True)\n",
    "        depth = tf.cast(tf.shape(key)[-1], tf.float32)\n",
    "        logits = matmul_qk / tf.math.sqrt(depth)\n",
    "        attention_weights = tf.nn.softmax(logits, axis=-1)\n",
    "        output = tf.matmul(attention_weights, value)\n",
    "        return output, attention_weights\n",
    "\n",
    "    def split_heads(self, x, batch_size):\n",
    "        x = tf.reshape(x, (batch_size, -1, self.num_heads, self.projection_dim))\n",
    "        return tf.transpose(x, perm=[0, 2, 1, 3])\n",
    "\n",
    "    def call(self, inputs):\n",
    "        # x.shape = [batch_size, seq_len, embedding_dim]\n",
    "        batch_size = tf.shape(inputs)[0]\n",
    "\n",
    "        # (batch_size, seq_len, embedding_dim)\n",
    "        query = self.query_dense(inputs)\n",
    "        key = self.key_dense(inputs)\n",
    "        value = self.value_dense(inputs)\n",
    "\n",
    "        # (batch_size, num_heads, seq_len, projection_dim)\n",
    "        query = self.split_heads(query, batch_size)  \n",
    "        key = self.split_heads(key, batch_size)\n",
    "        value = self.split_heads(value, batch_size)\n",
    "\n",
    "        scaled_attention, _ = self.scaled_dot_product_attention(query, key, value)\n",
    "        # (batch_size, seq_len, num_heads, projection_dim)\n",
    "        scaled_attention = tf.transpose(scaled_attention, perm=[0, 2, 1, 3])  \n",
    "\n",
    "        # (batch_size, seq_len, embedding_dim)\n",
    "        concat_attention = tf.reshape(scaled_attention, (batch_size, -1, self.embedding_dim))\n",
    "        outputs = self.dense(concat_attention)\n",
    "        return outputs\n",
    "\n",
    "\n",
    "class TransformerBlock(tf.keras.layers.Layer):\n",
    "    \n",
    "        \n",
    "    def __init__(self, embedding_dim, num_heads, dff, rate=0.1, **kwargs):\n",
    "        super(TransformerBlock, self).__init__(**kwargs)\n",
    "        self.embedding_dim = embedding_dim\n",
    "        self.num_heads = num_heads\n",
    "        self.dff = dff\n",
    "        self.rate = rate\n",
    "        self.att = MultiHeadAttention(embedding_dim, num_heads)\n",
    "        self.ffn = tf.keras.Sequential(\n",
    "            [tf.keras.layers.Dense(dff, activation=\"relu\"),\n",
    "             tf.keras.layers.Dense(embedding_dim),]\n",
    "        )\n",
    "        self.layernorm1 = tf.keras.layers.LayerNormalization(epsilon=1e-6)\n",
    "        self.layernorm2 = tf.keras.layers.LayerNormalization(epsilon=1e-6)\n",
    "        self.dropout1 = tf.keras.layers.Dropout(rate)\n",
    "        self.dropout2 = tf.keras.layers.Dropout(rate)\n",
    "\n",
    "    def call(self, inputs, training):\n",
    "        attn_output = self.att(inputs) # 첫번째 서브층 : 멀티 헤드 어텐션\n",
    "        attn_output = self.dropout1(attn_output, training=training)\n",
    "        out1 = self.layernorm1(inputs + attn_output) # Add & Norm\n",
    "        ffn_output = self.ffn(out1) # 두번째 서브층 : 포지션 와이즈 피드 포워드 신경망\n",
    "        ffn_output = self.dropout2(ffn_output, training=training)\n",
    "        return self.layernorm2(out1 + ffn_output) # Add & Norm\n",
    "    \n",
    "    def get_config(self):\n",
    "        config = super(TransformerBlock, self).get_config()\n",
    "        config.update({\n",
    "            'embedding_dim': self.embedding_dim,\n",
    "            'num_heads': self.num_heads,\n",
    "            'dff': self.dff,\n",
    "            'rate': self.rate\n",
    "        })\n",
    "        return config\n",
    "\n",
    "\n",
    "class TokenAndPositionEmbedding(tf.keras.layers.Layer):\n",
    "    def __init__(self, max_len, vocab_size, embedding_dim, **kwargs):\n",
    "        super(TokenAndPositionEmbedding, self).__init__(**kwargs)\n",
    "    \n",
    "        self.max_len = max_len\n",
    "        self.vocab_size = vocab_size\n",
    "        self.embedding_dim = embedding_dim\n",
    "        self.token_emb = keras.layers.Embedding(input_dim=vocab_size, output_dim=embedding_dim)\n",
    "        self.pos_emb = keras.layers.Embedding(input_dim=max_len, output_dim=embedding_dim)\n",
    "\n",
    "    def call(self, x):\n",
    "        max_len = tf.shape(x)[-1]\n",
    "        positions = tf.range(start=0, limit=max_len, delta=1)\n",
    "        positions = self.pos_emb(positions)\n",
    "        x = self.token_emb(x)\n",
    "        return x + positions\n",
    "    \n",
    "    def get_config(self):\n",
    "        config = super(TokenAndPositionEmbedding, self).get_config()\n",
    "        config.update({\n",
    "            'max_len': self.max_len,\n",
    "            'vocab_size': self.vocab_size,\n",
    "            'embedding_dim': self.embedding_dim\n",
    "        })\n",
    "        return config"
   ]
  },
  {
   "cell_type": "markdown",
   "id": "c02f3e46",
   "metadata": {},
   "source": [
    "## 3) textcuboid 분류"
   ]
  },
  {
   "cell_type": "code",
   "execution_count": 7,
   "id": "2ffa92ca",
   "metadata": {},
   "outputs": [],
   "source": [
    "textcuboid=np.load('./1-Channel textcuboid_reuters(elmo).npy')"
   ]
  },
  {
   "cell_type": "code",
   "execution_count": 8,
   "id": "55f29d23",
   "metadata": {},
   "outputs": [],
   "source": [
    "textcuboid_test=np.load('./1-Channel textcuboid_test_reuters(elmo).npy')"
   ]
  },
  {
   "cell_type": "code",
   "execution_count": 9,
   "id": "1f178135",
   "metadata": {},
   "outputs": [],
   "source": [
    "import keras\n",
    "from tensorflow.keras import layers"
   ]
  },
  {
   "cell_type": "code",
   "execution_count": 27,
   "id": "ddec5841",
   "metadata": {},
   "outputs": [],
   "source": [
    "callbacks = [\n",
    "    keras.callbacks.ModelCheckpoint(\n",
    "        \"best_model.h5\", save_best_only=True, monitor=\"val_loss\"\n",
    "    ),\n",
    "    keras.callbacks.ReduceLROnPlateau(\n",
    "        monitor=\"val_loss\", factor=0.5, patience=2, min_lr=0.0001\n",
    "    ),\n",
    "#     keras.callbacks.EarlyStopping(monitor=\"val_loss\", patience=8, verbose=1),\n",
    "]"
   ]
  },
  {
   "cell_type": "code",
   "execution_count": 37,
   "id": "008846ae",
   "metadata": {
    "scrolled": true
   },
   "outputs": [],
   "source": [
    "from tensorflow.keras.layers import Input, Conv1D, GlobalMaxPooling1D, Dense, Dropout\n",
    "from tensorflow.keras.models import Model\n",
    "from tensorflow.keras import layers\n",
    "\n",
    "embedding_dim = 1024  # 각 단어의 임베딩 벡터의 차원   #2048  #1024\n",
    "num_heads = 1  # 어텐션 헤드의 수\n",
    "dff = 1024  # 포지션 와이즈 피드 포워드 신경망의 은닉층의 크기  #128  #1024\n",
    " \n",
    "Text_inputs = Input(shape=(max_len,))\n",
    "embedding_layer = TokenAndPositionEmbedding(max_len, vocab_size, embedding_dim)\n",
    "Text_x = embedding_layer(Text_inputs)\n",
    "transformer_block = TransformerBlock(embedding_dim, num_heads, dff)\n",
    "Text_x = transformer_block(Text_x)\n",
    "Text_x = transformer_block(Text_x)\n",
    "Text_x = tf.keras.layers.GlobalAveragePooling1D()(Text_x)\n",
    "Text_x = tf.keras.layers.Dropout(0.5)(Text_x)\n",
    "Text_x = tf.keras.layers.Dense(1024, activation=\"relu\")(Text_x)\n",
    "\n",
    "ELMo_input = Input(shape=(252, 256))\n",
    "conv1 = Conv1D(1024, 1, padding='valid', activation='relu')(ELMo_input)\n",
    "pooling = GlobalMaxPooling1D()(conv1)\n",
    "ELMo_x = Dense(1024, activation='relu')(pooling)\n",
    "\n",
    "x = layers.concatenate([ELMo_x, Text_x], axis=-1)\n",
    "x = Dropout(0.5)(x)\n",
    "\n",
    "output_layer = Dense(12, activation='softmax')(x)\n",
    "\n",
    "model = Model(inputs=[ELMo_input, Text_inputs], outputs=output_layer)"
   ]
  },
  {
   "cell_type": "code",
   "execution_count": 38,
   "id": "de8bb000",
   "metadata": {},
   "outputs": [],
   "source": [
    "model.compile(optimizer='adam', loss='categorical_crossentropy', metrics=['accuracy'])"
   ]
  },
  {
   "cell_type": "code",
   "execution_count": 39,
   "id": "a4cb157c",
   "metadata": {
    "scrolled": true
   },
   "outputs": [
    {
     "name": "stdout",
     "output_type": "stream",
     "text": [
      "Model: \"model_5\"\n",
      "__________________________________________________________________________________________________\n",
      " Layer (type)                   Output Shape         Param #     Connected to                     \n",
      "==================================================================================================\n",
      " input_11 (InputLayer)          [(None, 300)]        0           []                               \n",
      "                                                                                                  \n",
      " token_and_position_embedding_5  (None, 300, 1024)   29427712    ['input_11[0][0]']               \n",
      "  (TokenAndPositionEmbedding)                                                                     \n",
      "                                                                                                  \n",
      " transformer_block_5 (Transform  (None, 300, 1024)   6301696     ['token_and_position_embedding_5[\n",
      " erBlock)                                                        0][0]',                          \n",
      "                                                                  'transformer_block_5[0][0]']    \n",
      "                                                                                                  \n",
      " input_12 (InputLayer)          [(None, 252, 256)]   0           []                               \n",
      "                                                                                                  \n",
      " conv1d_5 (Conv1D)              (None, 252, 1024)    263168      ['input_12[0][0]']               \n",
      "                                                                                                  \n",
      " global_average_pooling1d_5 (Gl  (None, 1024)        0           ['transformer_block_5[1][0]']    \n",
      " obalAveragePooling1D)                                                                            \n",
      "                                                                                                  \n",
      " global_max_pooling1d_5 (Global  (None, 1024)        0           ['conv1d_5[0][0]']               \n",
      " MaxPooling1D)                                                                                    \n",
      "                                                                                                  \n",
      " dropout_28 (Dropout)           (None, 1024)         0           ['global_average_pooling1d_5[0][0\n",
      "                                                                 ]']                              \n",
      "                                                                                                  \n",
      " dense_70 (Dense)               (None, 1024)         1049600     ['global_max_pooling1d_5[0][0]'] \n",
      "                                                                                                  \n",
      " dense_69 (Dense)               (None, 1024)         1049600     ['dropout_28[0][0]']             \n",
      "                                                                                                  \n",
      " concatenate_5 (Concatenate)    (None, 2048)         0           ['dense_70[0][0]',               \n",
      "                                                                  'dense_69[0][0]']               \n",
      "                                                                                                  \n",
      " dropout_29 (Dropout)           (None, 2048)         0           ['concatenate_5[0][0]']          \n",
      "                                                                                                  \n",
      " dense_71 (Dense)               (None, 12)           24588       ['dropout_29[0][0]']             \n",
      "                                                                                                  \n",
      "==================================================================================================\n",
      "Total params: 38,116,364\n",
      "Trainable params: 38,116,364\n",
      "Non-trainable params: 0\n",
      "__________________________________________________________________________________________________\n"
     ]
    }
   ],
   "source": [
    "model.summary()"
   ]
  },
  {
   "cell_type": "code",
   "execution_count": 40,
   "id": "8fa47ead",
   "metadata": {},
   "outputs": [],
   "source": [
    "textcuboid_train=textcuboid[1000:]\n",
    "text_train=xtext_train[1000:]\n",
    "textcuboid__val=textcuboid[:1000]\n",
    "text_val=xtext_train[:1000]\n",
    "y_train=one_hot_train_labels[1000:]\n",
    "y_val=one_hot_train_labels[:1000]\n",
    "\n",
    "text_test=xtext_test\n",
    "y_test=one_hot_test_labels"
   ]
  },
  {
   "cell_type": "code",
   "execution_count": 41,
   "id": "144bfc90",
   "metadata": {
    "scrolled": true
   },
   "outputs": [
    {
     "name": "stdout",
     "output_type": "stream",
     "text": [
      "Epoch 1/15\n",
      "27/27 [==============================] - 12s 406ms/step - loss: 2.8142 - accuracy: 0.5400 - val_loss: 0.9071 - val_accuracy: 0.7590 - lr: 0.0010\n",
      "Epoch 2/15\n",
      "27/27 [==============================] - 11s 395ms/step - loss: 0.7818 - accuracy: 0.7954 - val_loss: 0.6642 - val_accuracy: 0.8160 - lr: 0.0010\n",
      "Epoch 3/15\n",
      "27/27 [==============================] - 10s 388ms/step - loss: 0.6075 - accuracy: 0.8382 - val_loss: 0.5865 - val_accuracy: 0.8500 - lr: 0.0010\n",
      "Epoch 4/15\n",
      "27/27 [==============================] - 10s 388ms/step - loss: 0.5319 - accuracy: 0.8616 - val_loss: 0.5463 - val_accuracy: 0.8560 - lr: 0.0010\n",
      "Epoch 5/15\n",
      "27/27 [==============================] - 10s 389ms/step - loss: 0.4692 - accuracy: 0.8783 - val_loss: 0.5227 - val_accuracy: 0.8630 - lr: 0.0010\n",
      "Epoch 6/15\n",
      "27/27 [==============================] - 12s 428ms/step - loss: 0.4211 - accuracy: 0.8931 - val_loss: 0.5052 - val_accuracy: 0.8750 - lr: 0.0010\n",
      "Epoch 7/15\n",
      "27/27 [==============================] - 11s 426ms/step - loss: 0.3779 - accuracy: 0.8982 - val_loss: 0.5017 - val_accuracy: 0.8790 - lr: 0.0010\n",
      "Epoch 8/15\n",
      "27/27 [==============================] - 10s 388ms/step - loss: 0.3575 - accuracy: 0.9054 - val_loss: 0.5080 - val_accuracy: 0.8800 - lr: 0.0010\n",
      "Epoch 9/15\n",
      "27/27 [==============================] - 11s 390ms/step - loss: 0.3239 - accuracy: 0.9115 - val_loss: 0.5088 - val_accuracy: 0.8720 - lr: 0.0010\n",
      "Epoch 10/15\n",
      "27/27 [==============================] - 12s 430ms/step - loss: 0.2761 - accuracy: 0.9252 - val_loss: 0.4889 - val_accuracy: 0.8820 - lr: 5.0000e-04\n",
      "Epoch 11/15\n",
      "27/27 [==============================] - 11s 404ms/step - loss: 0.2530 - accuracy: 0.9300 - val_loss: 0.4935 - val_accuracy: 0.8810 - lr: 5.0000e-04\n",
      "Epoch 12/15\n",
      "27/27 [==============================] - 11s 391ms/step - loss: 0.2314 - accuracy: 0.9339 - val_loss: 0.4965 - val_accuracy: 0.8750 - lr: 5.0000e-04\n",
      "Epoch 13/15\n",
      "27/27 [==============================] - 11s 390ms/step - loss: 0.2043 - accuracy: 0.9424 - val_loss: 0.4955 - val_accuracy: 0.8720 - lr: 2.5000e-04\n",
      "Epoch 14/15\n",
      "27/27 [==============================] - 11s 391ms/step - loss: 0.1963 - accuracy: 0.9443 - val_loss: 0.5007 - val_accuracy: 0.8750 - lr: 2.5000e-04\n",
      "Epoch 15/15\n",
      "27/27 [==============================] - 11s 390ms/step - loss: 0.1843 - accuracy: 0.9477 - val_loss: 0.4994 - val_accuracy: 0.8780 - lr: 1.2500e-04\n"
     ]
    }
   ],
   "source": [
    "history = model.fit([textcuboid_train,text_train], y_train,callbacks=callbacks, epochs=15,batch_size=256,validation_data=([textcuboid__val,text_val], y_val))"
   ]
  },
  {
   "cell_type": "code",
   "execution_count": 42,
   "id": "9f851bf5",
   "metadata": {},
   "outputs": [
    {
     "name": "stdout",
     "output_type": "stream",
     "text": [
      "61/61 [==============================] - 1s 20ms/step - loss: 0.5076 - accuracy: 0.8775\n"
     ]
    },
    {
     "data": {
      "text/plain": [
       "[0.5075827240943909, 0.8774560689926147]"
      ]
     },
     "execution_count": 42,
     "metadata": {},
     "output_type": "execute_result"
    }
   ],
   "source": [
    "model.evaluate([textcuboid_test,text_test],y_test)"
   ]
  },
  {
   "cell_type": "code",
   "execution_count": 43,
   "id": "7d925b4b",
   "metadata": {
    "scrolled": true
   },
   "outputs": [
    {
     "name": "stdout",
     "output_type": "stream",
     "text": [
      "61/61 [==============================] - 2s 20ms/step - loss: 0.4989 - accuracy: 0.8800\n"
     ]
    },
    {
     "data": {
      "text/plain": [
       "[0.4989457130432129, 0.8800413608551025]"
      ]
     },
     "execution_count": 43,
     "metadata": {},
     "output_type": "execute_result"
    }
   ],
   "source": [
    "from keras.models import load_model\n",
    "custom_objects = {\"TokenAndPositionEmbedding\": TokenAndPositionEmbedding, \"TransformerBlock\": TransformerBlock}\n",
    "model = load_model('best_model.h5', custom_objects=custom_objects)\n",
    "model.evaluate([textcuboid_test,text_test],y_test)"
   ]
  },
  {
   "cell_type": "code",
   "execution_count": 27,
   "id": "46320b1e",
   "metadata": {},
   "outputs": [
    {
     "data": {
      "text/plain": [
       "88.03333333333335"
      ]
     },
     "execution_count": 27,
     "metadata": {},
     "output_type": "execute_result"
    }
   ],
   "source": [
    "np.average([88.5,87.6,88.0])"
   ]
  },
  {
   "cell_type": "code",
   "execution_count": null,
   "id": "9020ba90",
   "metadata": {},
   "outputs": [],
   "source": []
  }
 ],
 "metadata": {
  "kernelspec": {
   "display_name": "Python 3 (ipykernel)",
   "language": "python",
   "name": "python3"
  },
  "language_info": {
   "codemirror_mode": {
    "name": "ipython",
    "version": 3
   },
   "file_extension": ".py",
   "mimetype": "text/x-python",
   "name": "python",
   "nbconvert_exporter": "python",
   "pygments_lexer": "ipython3",
   "version": "3.9.12"
  }
 },
 "nbformat": 4,
 "nbformat_minor": 5
}
