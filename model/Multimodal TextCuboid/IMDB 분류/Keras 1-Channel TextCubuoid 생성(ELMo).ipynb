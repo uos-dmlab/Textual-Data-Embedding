{
 "cells": [
  {
   "cell_type": "markdown",
   "id": "184f59ff",
   "metadata": {},
   "source": [
    "# Textcuboid\n"
   ]
  },
  {
   "cell_type": "code",
   "execution_count": 1,
   "id": "849c1414",
   "metadata": {},
   "outputs": [],
   "source": [
    "import numpy as np\n",
    "import pandas as pd\n",
    "import os\n",
    "import json\n",
    "import re\n",
    "import string\n",
    "import wordninja\n",
    "import nltk\n",
    "from num2words import num2words\n",
    "from sklearn.metrics import precision_score, recall_score, f1_score\n",
    "from sklearn.model_selection import train_test_split\n",
    "from sklearn.preprocessing import LabelEncoder"
   ]
  },
  {
   "cell_type": "code",
   "execution_count": 2,
   "id": "e0128117",
   "metadata": {},
   "outputs": [],
   "source": [
    "TRAIN_DATA_PATH = \"C:/Users/user/Desktop/bilm-tf-master/textdataset/IMDB/aclImdb/train\"\n",
    "TEST_DATA_PATH = \"C:/Users/user/Desktop/bilm-tf-master/textdataset/IMDB/aclImdb/test\"\n",
    "\n",
    "def read_text_file(path):\n",
    "    labels = ['neg','pos']\n",
    "    if os.path.exists(path):\n",
    "        text=[]\n",
    "        text_label =[]\n",
    "        for directory_name in os.listdir(path):\n",
    "            if directory_name in labels:\n",
    "                label_index = labels.index(directory_name)\n",
    "                data_path = os.path.join(path,directory_name)\n",
    "                for file in os.listdir(data_path):\n",
    "                    with open(os.path.join(data_path,file),'r', encoding='utf-8') as f:\n",
    "                        text.append(f.read())\n",
    "                        text_label.append(label_index)\n",
    "        return pd.DataFrame(text,columns =['texts']),pd.DataFrame(text_label,columns =['label'])\n",
    "    \n",
    "x_train,y_train = read_text_file(TRAIN_DATA_PATH) \n",
    "x_test,y_test = read_text_file(TEST_DATA_PATH) \n",
    "\n",
    "train = pd.concat([x_train, y_train], axis=1)\n",
    "test = pd.concat([x_test, y_test], axis=1)\n",
    "\n",
    "train.drop_duplicates(inplace=True)\n",
    "test.drop_duplicates(inplace=True)\n",
    "\n",
    "def remove_punctuation(text):\n",
    "    punctuationfree=\"\".join([i for i in text if i not in string.punctuation])\n",
    "    return punctuationfree\n",
    "\n",
    "train[['texts']] = train[['texts']].applymap(lambda x:remove_punctuation(x))\n",
    "train[['texts']] = train[['texts']].applymap(lambda x:x.lower())\n",
    "test[['texts']] = test[['texts']].applymap(lambda x:remove_punctuation(x))\n",
    "test[['texts']] = test[['texts']].applymap(lambda x:x.lower())\n",
    "\n",
    "def clean_text(text):\n",
    "    text=str(text).lower() #Converts text to lowercase\n",
    "    text=re.sub('\\d+', '', text) #removes numbers\n",
    "    text=re.sub('\\[.*?\\]', '', text) #removes HTML tags\n",
    "    text=re.sub('https?://\\S+|www\\.\\S+', '', text) #removes url\n",
    "    text=re.sub(r\"[\"\n",
    "                           u\"\\U0001F600-\\U0001F64F\"  # emoticons\n",
    "                           u\"\\U0001F300-\\U0001F5FF\"  # symbols & pictographs\n",
    "                           u\"\\U0001F680-\\U0001F6FF\"  # transport & map symbols\n",
    "                           u\"\\U0001F1E0-\\U0001F1FF\"  # flags (iOS)\n",
    "                           u\"\\U00002702-\\U000027B0\"\n",
    "                           u\"\\U000024C2-\\U0001F251\"\n",
    "                           \"]+\", \"\", text) #removes emojis\n",
    "    text=re.sub('[%s]' % re.escape(string.punctuation),'',text) #removes punctuations\n",
    "    #text = re.sub('\\n', '', text)\n",
    "    #text = re.sub('\\w*\\d\\w*', '', text)\n",
    "    return text\n",
    "\n",
    "X_train = train.drop(columns=['label'])\n",
    "X_test = test.drop(columns=['label'])\n",
    "y_train = train['label']\n",
    "y_test = test['label']\n",
    "\n",
    "X_train = X_train['texts'].apply(clean_text)\n",
    "X_test = X_test['texts'].apply(clean_text)\n",
    "\n",
    "pattern = '[^a-z ]'\n",
    "Clean_X_train=[]\n",
    "Clean_X_test=[]\n",
    "\n",
    "for sen in X_train:\n",
    "    Clean_X_train.append(re.sub(pattern, '', str(sen)))\n",
    "    \n",
    "for sen in X_test:\n",
    "    Clean_X_test.append(re.sub(pattern, '', str(sen)))\n",
    "\n",
    "y_train=list(y_train)\n",
    "y_test=list(y_test)\n",
    "\n",
    "train_df = pd.DataFrame({'X_train': Clean_X_train, 'y_train': y_train})\n",
    "test_df = pd.DataFrame({'X_test': Clean_X_test, 'y_test': y_test})\n",
    "\n",
    "# 레이블 값에 따라 데이터프레임을 그룹화하고 각 그룹에서 8000개의 샘플을 랜덤하게 추출\n",
    "train_df = train_df.groupby('y_train').apply(lambda x: x.sample(n=8000, random_state=42))\n",
    "\n",
    "# 레이블 값에 따라 데이터프레임을 그룹화하고 각 그룹에서 2000개의 샘플을 랜덤하게 추출\n",
    "test_df = test_df.groupby('y_test').apply(lambda x: x.sample(n=2000, random_state=42))\n",
    "\n",
    "# 인덱스를 재설정합니다. drop=True 옵션을 사용하여 기존 인덱스를 제거합니다.\n",
    "train_df = train_df.reset_index(drop=True)\n",
    "test_df = test_df.reset_index(drop=True)\n",
    "\n",
    "x_train = train_df['X_train'].tolist()\n",
    "y_train = train_df['y_train'].tolist()\n",
    "x_test = test_df['X_test'].tolist()\n",
    "y_test = test_df['y_test'].tolist()\n",
    "\n",
    "to_txt=x_train+x_test\n",
    "y=y_train+y_test"
   ]
  },
  {
   "cell_type": "code",
   "execution_count": 3,
   "id": "5dfc9762",
   "metadata": {},
   "outputs": [],
   "source": [
    "encoder=LabelEncoder()\n",
    "\n",
    "encoder.fit(y)\n",
    "\n",
    "label=encoder.transform(y)\n",
    "\n",
    "y_train=list(label[:16000])\n",
    "y_test=list(label[16000:])"
   ]
  },
  {
   "cell_type": "code",
   "execution_count": 4,
   "id": "54c716c3",
   "metadata": {},
   "outputs": [],
   "source": [
    "#수동으로 cross validation을 하기위한 코드\n",
    "cnt=5  #cnt가 2일때 두번째 시행\n",
    "cnt=cnt-2\n",
    "\n",
    "def exclude_list(input_list, cnt):\n",
    "    return input_list[:cnt*2000]+input_list[cnt*2000+2000:8000]+input_list[8000:cnt*2000+8000]+input_list[cnt*2000+10000:]\n",
    "\n",
    "if cnt>-1:\n",
    "    x_train_cnt=exclude_list(x_train,cnt)+x_test\n",
    "    y_train_cnt=exclude_list(y_train,cnt)+y_test\n",
    "    x_test_cnt=x_train[cnt*2000:cnt*2000+2000]+x_train[cnt*2000+8000:cnt*2000+10000]\n",
    "    y_test_cnt=y_train[cnt*2000:cnt*2000+2000]+y_train[cnt*2000+8000:cnt*2000+10000]"
   ]
  },
  {
   "cell_type": "code",
   "execution_count": 6,
   "id": "bae486d4",
   "metadata": {},
   "outputs": [],
   "source": [
    "#텍스트 큐보이드 생성을 위한 인덱스\n",
    "def train_idx_list(cnt):\n",
    "    original_train_lst=[i for i in range(16000)]\n",
    "    return original_train_lst[:cnt*2000]+original_train_lst[cnt*2000+2000:8000]+original_train_lst[8000:cnt*2000+8000]+original_train_lst[cnt*2000+10000:]\n",
    "\n",
    "def test_idx_list(cnt):\n",
    "    original_train_lst=[i for i in range(16000)]\n",
    "    return original_train_lst[cnt*2000:cnt*2000+2000]+original_train_lst[cnt*2000+8000:cnt*2000+10000]\n",
    "    \n",
    "if cnt>-1:\n",
    "    train_idx=train_idx_list(cnt)\n",
    "    test_idx=test_idx_list(cnt)"
   ]
  },
  {
   "cell_type": "code",
   "execution_count": 7,
   "id": "39504c04",
   "metadata": {},
   "outputs": [],
   "source": [
    "#불용어 불러오기\n",
    "with open('C:/Users/user/Desktop/english.txt', 'r', encoding='utf-8') as file:\n",
    "    stopwords = [line.strip() for line in file]"
   ]
  },
  {
   "cell_type": "code",
   "execution_count": 8,
   "id": "b8c0c41a",
   "metadata": {},
   "outputs": [
    {
     "name": "stderr",
     "output_type": "stream",
     "text": [
      "C:\\Users\\user\\anaconda3\\lib\\site-packages\\sklearn\\feature_extraction\\text.py:404: UserWarning: Your stop_words may be inconsistent with your preprocessing. Tokenizing the stop words generated tokens ['ain', 'daren', 'hadn', 'herse', 'himse', 'itse', 'mayn', 'mightn', 'mon', 'mustn', 'myse', 'needn', 'oughtn', 'shan'] not in stop_words.\n",
      "  warnings.warn(\n",
      "C:\\Users\\user\\anaconda3\\lib\\site-packages\\sklearn\\utils\\deprecation.py:87: FutureWarning: Function get_feature_names is deprecated; get_feature_names is deprecated in 1.0 and will be removed in 1.2. Please use get_feature_names_out instead.\n",
      "  warnings.warn(msg, category=FutureWarning)\n"
     ]
    }
   ],
   "source": [
    "from sklearn.feature_selection import SelectKBest\n",
    "from sklearn.feature_selection import chi2\n",
    "from sklearn.feature_extraction.text import CountVectorizer\n",
    "vect = CountVectorizer(stop_words=stopwords)\n",
    "X_dtm = vect.fit_transform(to_txt)\n",
    "X_dtm = X_dtm.toarray()\n",
    "X_new = SelectKBest(chi2, k=10000).fit(X_dtm, y)\n",
    "TorF = X_new.get_support()\n",
    "TorF\n",
    "import numpy as np\n",
    "word_view=np.array(vect.get_feature_names())\n",
    "sw=word_view[TorF]"
   ]
  },
  {
   "cell_type": "code",
   "execution_count": 9,
   "id": "c530d167",
   "metadata": {
    "scrolled": true
   },
   "outputs": [
    {
     "data": {
      "text/plain": [
       "array(['aag', 'aames', 'aardman', ..., 'zp', 'zu', 'zucco'], dtype='<U64')"
      ]
     },
     "execution_count": 9,
     "metadata": {},
     "output_type": "execute_result"
    }
   ],
   "source": [
    "#선별된 10000개 단어\n",
    "sw"
   ]
  },
  {
   "cell_type": "code",
   "execution_count": 10,
   "id": "54a05eb9",
   "metadata": {},
   "outputs": [],
   "source": [
    "feature_lst10000=sw"
   ]
  },
  {
   "cell_type": "markdown",
   "id": "c02f3e46",
   "metadata": {},
   "source": [
    "## 2) textcuboid 생성"
   ]
  },
  {
   "cell_type": "code",
   "execution_count": 11,
   "id": "1fcda7dc",
   "metadata": {},
   "outputs": [],
   "source": [
    "doc_lst=[]\n",
    "for sen in x_train:\n",
    "    doc_lst.append(sen.split())"
   ]
  },
  {
   "cell_type": "code",
   "execution_count": 12,
   "id": "8219b3a7",
   "metadata": {},
   "outputs": [],
   "source": [
    "test_lst=[]\n",
    "for sen in x_test:\n",
    "    test_lst.append(sen.split())"
   ]
  },
  {
   "cell_type": "code",
   "execution_count": null,
   "id": "c00fdd22",
   "metadata": {},
   "outputs": [],
   "source": [
    "#Train_data에서 문서가 갖고 있는 선별한 feauture의 수 확인\n",
    "count_lst=[]\n",
    "for i in range(16000):\n",
    "    total_feature_cnt=0\n",
    "    for j in range(10000):\n",
    "        if feature_lst10000[j] in doc_lst[i]:\n",
    "            total_feature_cnt+=1\n",
    "    count_lst.append(total_feature_cnt)\n",
    "    \n",
    "print('Train_data에서 가장 많은 feature를 가진 문서의 경우 feature',max(count_lst),' 개를 가짐')\n",
    "print('Train_data에서 가장 적은 feature를 가진 문서의 경우 feature',min(count_lst),' 개를 가짐')"
   ]
  },
  {
   "cell_type": "code",
   "execution_count": null,
   "id": "986eda6d",
   "metadata": {},
   "outputs": [],
   "source": [
    "#Test_data에서 문서가 갖고 있는 선별한 feauture의 수 확인\n",
    "count_lst=[]\n",
    "for i in range(4000):\n",
    "    \n",
    "    total_feature_cnt=0\n",
    "    for j in range(10000):\n",
    "        if feature_lst10000[j] in test_lst[i]:\n",
    "            total_feature_cnt+=1\n",
    "    count_lst.append(total_feature_cnt)\n",
    "    \n",
    "print('Test_data에서 가장 많은 feature를 가진 문서의 경우 feature',max(count_lst),' 개를 가짐')\n",
    "print('Test_data에서 가장 적은 feature를 가진 문서의 경우 feature',min(count_lst),' 개를 가짐')"
   ]
  },
  {
   "cell_type": "code",
   "execution_count": 13,
   "id": "450c858e",
   "metadata": {},
   "outputs": [],
   "source": [
    "#1-Channel TextCuboid 생성\n",
    "textcuboid=[]\n",
    "if cnt>-1:   #cross vaidation을 위한 2번째 이후의 시행인 경우\n",
    "    for i in train_idx:\n",
    "        frame1=np.zeros((264,256)) #(maximum number of features, 256)\n",
    "        idx_cnt=0\n",
    "        for j in range(10000):\n",
    "            if feature_lst10000[j] in doc_lst[i]:\n",
    "                #문서에서 선별한 단어(feature)의 위치를 찾아 임베딩 벡터 추출\n",
    "                frame1[idx_cnt]=np.load('C:/Users/user/Desktop/Multimodal TextCuboid/IMDB 분류/elmo_embedding/train(IMDB256)/doc%d.npy'%i)[doc_lst[i].index(feature_lst10000[j])]\n",
    "                idx_cnt+=1\n",
    "        textcuboid.append(frame1) #train data의 일부 문서에 대한 TexrCuboid가 추가됨\n",
    "        \n",
    "    for i in range(4000):\n",
    "        frame1=np.zeros((264,256)) #(maximum number of features, 256)\n",
    "        idx_cnt=0\n",
    "        for j in range(10000):\n",
    "            if feature_lst10000[j] in test_lst[i]:\n",
    "                #문서에서 선별한 단어(feature)의 위치를 찾아 임베딩 벡터 추출\n",
    "                frame1[idx_cnt]=np.load('C:/Users/user/Desktop/Multimodal TextCuboid/IMDB 분류/elmo_embedding/test(IMDB256)/test%d.npy'%i)[test_lst[i].index(feature_lst10000[j])]\n",
    "                idx_cnt+=1\n",
    "        textcuboid.append(frame1) #test data의 문서에 대한 TexrCuboid가 추가됨\n",
    "        \n",
    "\n",
    "    textcuboid=np.array(textcuboid)\n",
    "\n",
    "    np.save('./1-Channel textcuboid_IMDB(elmo).npy',textcuboid)   \n",
    "    \n",
    "else: #첫번째 시행인 경우\n",
    "    for i in range(16000):\n",
    "        frame1=np.zeros((264,256)) #(maximum number of features, 256)\n",
    "        idx_cnt=0\n",
    "        for j in range(10000):\n",
    "            if feature_lst10000[j] in doc_lst[i]:\n",
    "                #문서에서 선별한 단어(feature)의 위치를 찾아 임베딩 벡터 추출\n",
    "                frame1[idx_cnt]=np.load('C:/Users/user/Desktop/Multimodal TextCuboid/IMDB 분류/elmo_embedding/train(IMDB256)/doc%d.npy'%i)[doc_lst[i].index(feature_lst10000[j])]\n",
    "                idx_cnt+=1\n",
    "        textcuboid.append(frame1)\n",
    "\n",
    "    textcuboid=np.array(textcuboid)\n",
    "\n",
    "    np.save('./1-Channel textcuboid_IMDB(elmo).npy',textcuboid)"
   ]
  },
  {
   "cell_type": "code",
   "execution_count": 14,
   "id": "d62745a4",
   "metadata": {},
   "outputs": [],
   "source": [
    "#1-Channel TextCuboid 생성\n",
    "textcuboid_test=[]\n",
    "\n",
    "if cnt>-1:\n",
    "    for i in test_idx:\n",
    "        frame1=np.zeros((264,256)) #(maximum number of features, 256)\n",
    "        idx_cnt=0\n",
    "        for j in range(10000):\n",
    "            if feature_lst10000[j] in doc_lst[i]:\n",
    "                #문서에서 선별한 단어(feature)의 위치를 찾아 임베딩 벡터 추출\n",
    "                frame1[idx_cnt]=np.load('C:/Users/user/Desktop/Multimodal TextCuboid/IMDB 분류/elmo_embedding/train(IMDB256)/doc%d.npy'%i)[doc_lst[i].index(feature_lst10000[j])]\n",
    "                idx_cnt+=1\n",
    "        textcuboid_test.append(frame1) #train data의 일부 문서에 대한 TexrCuboid가 추가됨\n",
    "        \n",
    "    textcuboid_test=np.array(textcuboid_test)\n",
    "    np.save('./1-Channel textcuboid_test_IMDB(elmo).npy',textcuboid_test)\n",
    "    \n",
    "else:\n",
    "    for i in range(4000):\n",
    "        frame1=np.zeros((264,256)) #(maximum number of features, 256)\n",
    "        idx_cnt=0\n",
    "        for j in range(10000):\n",
    "            if feature_lst10000[j] in test_lst[i]:\n",
    "                #문서에서 선별한 단어(feature)의 위치를 찾아 임베딩 벡터 추출\n",
    "                frame1[idx_cnt]=np.load('C:/Users/user/Desktop/Multimodal TextCuboid/IMDB 분류/elmo_embedding/test(IMDB256)/test%d.npy'%i)[test_lst[i].index(feature_lst10000[j])]\n",
    "                idx_cnt+=1\n",
    "        textcuboid_test.append(frame1)\n",
    "\n",
    "    textcuboid_test=np.array(textcuboid_test)\n",
    "    np.save('./1-Channel textcuboid_test_IMDB(elmo).npy',textcuboid_test)"
   ]
  },
  {
   "cell_type": "code",
   "execution_count": null,
   "id": "d2e448d4",
   "metadata": {},
   "outputs": [],
   "source": []
  },
  {
   "cell_type": "code",
   "execution_count": null,
   "id": "a3071295",
   "metadata": {},
   "outputs": [],
   "source": []
  }
 ],
 "metadata": {
  "kernelspec": {
   "display_name": "Python 3 (ipykernel)",
   "language": "python",
   "name": "python3"
  },
  "language_info": {
   "codemirror_mode": {
    "name": "ipython",
    "version": 3
   },
   "file_extension": ".py",
   "mimetype": "text/x-python",
   "name": "python",
   "nbconvert_exporter": "python",
   "pygments_lexer": "ipython3",
   "version": "3.9.12"
  }
 },
 "nbformat": 4,
 "nbformat_minor": 5
}
