{
 "cells": [
  {
   "cell_type": "markdown",
   "id": "49c1238e",
   "metadata": {},
   "source": [
    "Base에서 실행"
   ]
  },
  {
   "cell_type": "markdown",
   "id": "184f59ff",
   "metadata": {},
   "source": [
    "# Textcuboid\n"
   ]
  },
  {
   "cell_type": "code",
   "execution_count": 1,
   "id": "e5f5e87a",
   "metadata": {},
   "outputs": [],
   "source": [
    "import os\n",
    "os.environ[\"CUDA_VISIBLE_DEVICES\"] = \"-1\""
   ]
  },
  {
   "cell_type": "code",
   "execution_count": 1,
   "id": "4f1abff7",
   "metadata": {},
   "outputs": [],
   "source": [
    "import matplotlib.pyplot as plt\n",
    "import numpy as np\n",
    "import pandas as pd\n",
    "import tensorflow as tf\n",
    "import re\n",
    "import string\n",
    "import keras\n",
    "from sklearn.metrics import precision_score, recall_score, f1_score\n",
    "from sklearn.model_selection import train_test_split\n",
    "from sklearn.preprocessing import LabelEncoder"
   ]
  },
  {
   "cell_type": "code",
   "execution_count": 2,
   "id": "56befbf7",
   "metadata": {},
   "outputs": [],
   "source": [
    "train_df = pd.read_csv('C:/Users/user/Desktop/bilm-tf-master/ag_news_dataset/train.csv')\n",
    "test_df = pd.read_csv('C:/Users/user/Desktop/bilm-tf-master/ag_news_dataset/test.csv')\n",
    "\n",
    "train_df.head(10)\n",
    "\n",
    "TEXT_LABELS = {0: \"World\", 1: \"Sports\", 2: \"Business\", 3: \"Sci/Tech\"}\n",
    "\n",
    "def combine_title_and_description(df):\n",
    "    # Returns a dataset with the title and description fields combined\n",
    "    df['text'] = df[['Title', 'Description']].agg('. '.join, axis=1)\n",
    "    df = df.drop(['Title', 'Description'], axis=1)\n",
    "    return df\n",
    "\n",
    "train_df = combine_title_and_description(train_df)\n",
    "test_df = combine_title_and_description(test_df)\n",
    "\n",
    "#각 클래스별로 5000개씩 총 2만개의 데이터를 샘플랭(너무 크면 TextCuboid의 용량이 너무 커진다)\n",
    "sampled_df = train_df.groupby(\"Class Index\").apply(lambda x: x.sample(5000, random_state=10))\n",
    "\n",
    "def clean_text(text):\n",
    "    text=str(text).lower() #Converts text to lowercase\n",
    "    text=re.sub('\\d+', '', text) #removes numbers\n",
    "    text=re.sub('\\[.*?\\]', '', text) #removes HTML tags\n",
    "    text=re.sub('https?://\\S+|www\\.\\S+', '', text) #removes url\n",
    "    text=re.sub(r\"[\"\n",
    "                           u\"\\U0001F600-\\U0001F64F\"  # emoticons\n",
    "                           u\"\\U0001F300-\\U0001F5FF\"  # symbols & pictographs\n",
    "                           u\"\\U0001F680-\\U0001F6FF\"  # transport & map symbols\n",
    "                           u\"\\U0001F1E0-\\U0001F1FF\"  # flags (iOS)\n",
    "                           u\"\\U00002702-\\U000027B0\"\n",
    "                           u\"\\U000024C2-\\U0001F251\"\n",
    "                           \"]+\", \"\", text) #removes emojis\n",
    "    text=re.sub('[%s]' % re.escape(string.punctuation),'',text) #removes punctuations\n",
    "    #text = re.sub('\\n', '', text)\n",
    "    #text = re.sub('\\w*\\d\\w*', '', text)\n",
    "    return text\n",
    "\n",
    "#전처리 특수기호 없애기\n",
    "sampled_df['text']=sampled_df['text'].apply(clean_text)\n",
    "\n",
    "sampled_df = sampled_df.reset_index(drop=True)\n",
    "\n",
    "train_df = sampled_df.groupby(\"Class Index\").apply(lambda x: x.sample(4000, random_state=10))\n",
    "train_idx = [x[1] for x in train_df.index]\n",
    "test_df = sampled_df.drop(train_idx)\n",
    "\n",
    "x_train=list(train_df['text'])\n",
    "y_train=list(train_df['Class Index'])\n",
    "x_test=list(test_df['text'])\n",
    "y_test=list(test_df['Class Index'])\n",
    "\n",
    "to_txt_filter=x_train+x_test\n",
    "y=list(y_train)+list(y_test)"
   ]
  },
  {
   "cell_type": "code",
   "execution_count": 3,
   "id": "bee5d224",
   "metadata": {},
   "outputs": [],
   "source": [
    "encoder=LabelEncoder()\n",
    "\n",
    "encoder.fit(y)\n",
    "\n",
    "label=encoder.transform(y)\n",
    "\n",
    "y_train=label[:16000]\n",
    "y_test=label[16000:]"
   ]
  },
  {
   "cell_type": "code",
   "execution_count": 4,
   "id": "532b2e90",
   "metadata": {},
   "outputs": [],
   "source": [
    "sos_x_train=[]\n",
    "sos_x_test=[]\n",
    "for sen in x_train:\n",
    "    sos_x_train.append('<sos> '+sen)\n",
    "for sen in x_test:\n",
    "    sos_x_test.append('<sos> '+sen)\n",
    "\n",
    "all_txt=sos_x_train+sos_x_test\n",
    "\n",
    "from tensorflow.keras.preprocessing.text import Tokenizer\n",
    "tokenizer = Tokenizer()\n",
    "tokenizer.fit_on_texts(all_txt)\n",
    "\n",
    "vocab_size =len(tokenizer.word_index)+1 #1을 더해야 에러가 안터짐 토큰 영향으로 보임\n",
    "\n",
    "x_train_encoded = tokenizer.texts_to_sequences(sos_x_train)\n",
    "x_test_encoded = tokenizer.texts_to_sequences(sos_x_test)\n",
    "\n",
    "max_len = 176\n",
    "\n",
    "xtext_train = tf.keras.preprocessing.sequence.pad_sequences(x_train_encoded, maxlen=max_len)\n",
    "xtext_test = tf.keras.preprocessing.sequence.pad_sequences(x_test_encoded, maxlen=max_len)"
   ]
  },
  {
   "cell_type": "markdown",
   "id": "fc576c00",
   "metadata": {},
   "source": [
    "## 2) 어텐션 레이어 정의"
   ]
  },
  {
   "cell_type": "code",
   "execution_count": 6,
   "id": "501a2985",
   "metadata": {},
   "outputs": [],
   "source": [
    "class MultiHeadAttention(tf.keras.layers.Layer):\n",
    "    def __init__(self, embedding_dim, num_heads=8):\n",
    "        super(MultiHeadAttention, self).__init__()\n",
    "        self.embedding_dim = embedding_dim # d_model\n",
    "        self.num_heads = num_heads\n",
    "\n",
    "        assert embedding_dim % self.num_heads == 0\n",
    "\n",
    "        self.projection_dim = embedding_dim // num_heads\n",
    "        self.query_dense = tf.keras.layers.Dense(embedding_dim)\n",
    "        self.key_dense = tf.keras.layers.Dense(embedding_dim)\n",
    "        self.value_dense = tf.keras.layers.Dense(embedding_dim)\n",
    "        self.dense = tf.keras.layers.Dense(embedding_dim)\n",
    "\n",
    "    def scaled_dot_product_attention(self, query, key, value):\n",
    "        matmul_qk = tf.matmul(query, key, transpose_b=True)\n",
    "        depth = tf.cast(tf.shape(key)[-1], tf.float32)\n",
    "        logits = matmul_qk / tf.math.sqrt(depth)\n",
    "        attention_weights = tf.nn.softmax(logits, axis=-1)\n",
    "        output = tf.matmul(attention_weights, value)\n",
    "        return output, attention_weights\n",
    "\n",
    "    def split_heads(self, x, batch_size):\n",
    "        x = tf.reshape(x, (batch_size, -1, self.num_heads, self.projection_dim))\n",
    "        return tf.transpose(x, perm=[0, 2, 1, 3])\n",
    "\n",
    "    def call(self, inputs):\n",
    "        # x.shape = [batch_size, seq_len, embedding_dim]\n",
    "        batch_size = tf.shape(inputs)[0]\n",
    "\n",
    "        # (batch_size, seq_len, embedding_dim)\n",
    "        query = self.query_dense(inputs)\n",
    "        key = self.key_dense(inputs)\n",
    "        value = self.value_dense(inputs)\n",
    "\n",
    "        # (batch_size, num_heads, seq_len, projection_dim)\n",
    "        query = self.split_heads(query, batch_size)  \n",
    "        key = self.split_heads(key, batch_size)\n",
    "        value = self.split_heads(value, batch_size)\n",
    "\n",
    "        scaled_attention, _ = self.scaled_dot_product_attention(query, key, value)\n",
    "        # (batch_size, seq_len, num_heads, projection_dim)\n",
    "        scaled_attention = tf.transpose(scaled_attention, perm=[0, 2, 1, 3])  \n",
    "\n",
    "        # (batch_size, seq_len, embedding_dim)\n",
    "        concat_attention = tf.reshape(scaled_attention, (batch_size, -1, self.embedding_dim))\n",
    "        outputs = self.dense(concat_attention)\n",
    "        return outputs\n",
    "\n",
    "\n",
    "class TransformerBlock(tf.keras.layers.Layer):\n",
    "    \n",
    "        \n",
    "    def __init__(self, embedding_dim, num_heads, dff, rate=0.1, **kwargs):\n",
    "        super(TransformerBlock, self).__init__(**kwargs)\n",
    "        self.embedding_dim = embedding_dim\n",
    "        self.num_heads = num_heads\n",
    "        self.dff = dff\n",
    "        self.rate = rate\n",
    "        self.att = MultiHeadAttention(embedding_dim, num_heads)\n",
    "        self.ffn = tf.keras.Sequential(\n",
    "            [tf.keras.layers.Dense(dff, activation=\"relu\"),\n",
    "             tf.keras.layers.Dense(embedding_dim),]\n",
    "        )\n",
    "        self.layernorm1 = tf.keras.layers.LayerNormalization(epsilon=1e-6)\n",
    "        self.layernorm2 = tf.keras.layers.LayerNormalization(epsilon=1e-6)\n",
    "        self.dropout1 = tf.keras.layers.Dropout(rate)\n",
    "        self.dropout2 = tf.keras.layers.Dropout(rate)\n",
    "\n",
    "    def call(self, inputs, training):\n",
    "        attn_output = self.att(inputs) # 첫번째 서브층 : 멀티 헤드 어텐션\n",
    "        attn_output = self.dropout1(attn_output, training=training)\n",
    "        out1 = self.layernorm1(inputs + attn_output) # Add & Norm\n",
    "        ffn_output = self.ffn(out1) # 두번째 서브층 : 포지션 와이즈 피드 포워드 신경망\n",
    "        ffn_output = self.dropout2(ffn_output, training=training)\n",
    "        return self.layernorm2(out1 + ffn_output) # Add & Norm\n",
    "    \n",
    "    def get_config(self):\n",
    "        config = super(TransformerBlock, self).get_config()\n",
    "        config.update({\n",
    "            'embedding_dim': self.embedding_dim,\n",
    "            'num_heads': self.num_heads,\n",
    "            'dff': self.dff,\n",
    "            'rate': self.rate\n",
    "        })\n",
    "        return config\n",
    "\n",
    "\n",
    "class TokenAndPositionEmbedding(tf.keras.layers.Layer):\n",
    "    def __init__(self, max_len, vocab_size, embedding_dim, **kwargs):\n",
    "        super(TokenAndPositionEmbedding, self).__init__(**kwargs)\n",
    "    \n",
    "        self.max_len = max_len\n",
    "        self.vocab_size = vocab_size\n",
    "        self.embedding_dim = embedding_dim\n",
    "        self.token_emb = keras.layers.Embedding(input_dim=vocab_size, output_dim=embedding_dim)\n",
    "        self.pos_emb = keras.layers.Embedding(input_dim=max_len, output_dim=embedding_dim)\n",
    "\n",
    "    def call(self, x):\n",
    "        max_len = tf.shape(x)[-1]\n",
    "        positions = tf.range(start=0, limit=max_len, delta=1)\n",
    "        positions = self.pos_emb(positions)\n",
    "        x = self.token_emb(x)\n",
    "        return x + positions\n",
    "    \n",
    "    def get_config(self):\n",
    "        config = super(TokenAndPositionEmbedding, self).get_config()\n",
    "        config.update({\n",
    "            'max_len': self.max_len,\n",
    "            'vocab_size': self.vocab_size,\n",
    "            'embedding_dim': self.embedding_dim\n",
    "        })\n",
    "        return config"
   ]
  },
  {
   "cell_type": "markdown",
   "id": "c02f3e46",
   "metadata": {},
   "source": [
    "## 3) textcuboid 분류"
   ]
  },
  {
   "cell_type": "code",
   "execution_count": 7,
   "id": "2ffa92ca",
   "metadata": {},
   "outputs": [],
   "source": [
    "textcuboid=np.load('./1-Channel textcuboid_ag(elmo).npy')"
   ]
  },
  {
   "cell_type": "code",
   "execution_count": 8,
   "id": "55f29d23",
   "metadata": {},
   "outputs": [],
   "source": [
    "textcuboid_test=np.load('./1-Channel textcuboid_test_ag(elmo).npy')"
   ]
  },
  {
   "cell_type": "code",
   "execution_count": 9,
   "id": "592095bd",
   "metadata": {},
   "outputs": [],
   "source": [
    "tmp = [[x,y,z] for x, y, z in zip(xtext_train, textcuboid, y_train)]\n",
    "import random\n",
    "random.shuffle(tmp)\n",
    "xtext_train = [n[0] for n in tmp]\n",
    "textcuboid = [n[1] for n in tmp]\n",
    "y_train = [n[2] for n in tmp]\n",
    "xtext_train=np.array(xtext_train)\n",
    "textcuboid=np.array(textcuboid)\n",
    "y_train=np.array(y_train)"
   ]
  },
  {
   "cell_type": "code",
   "execution_count": 10,
   "id": "8e27c980",
   "metadata": {},
   "outputs": [],
   "source": [
    "textcuboid_train=textcuboid[1000:]\n",
    "text_train=xtext_train[1000:]\n",
    "textcuboid__val=textcuboid[:1000]\n",
    "text_val=xtext_train[:1000]\n",
    "y_val=y_train[:1000]\n",
    "y_train=y_train[1000:]\n",
    "\n",
    "\n",
    "text_test=xtext_test\n",
    "y_test=np.array(y_test)"
   ]
  },
  {
   "cell_type": "code",
   "execution_count": 11,
   "id": "1f178135",
   "metadata": {},
   "outputs": [],
   "source": [
    "import keras\n",
    "from tensorflow.keras import layers"
   ]
  },
  {
   "cell_type": "code",
   "execution_count": 35,
   "id": "ddec5841",
   "metadata": {},
   "outputs": [],
   "source": [
    "callbacks = [\n",
    "    keras.callbacks.ModelCheckpoint(\n",
    "        \"best_model.h5\", save_best_only=True, monitor=\"val_loss\"\n",
    "    ),\n",
    "    keras.callbacks.ReduceLROnPlateau(\n",
    "        monitor=\"val_loss\", factor=0.5, patience=2, min_lr=0.0001\n",
    "    ),\n",
    "#     keras.callbacks.EarlyStopping(monitor=\"val_loss\", patience=8, verbose=1),\n",
    "]"
   ]
  },
  {
   "cell_type": "code",
   "execution_count": 36,
   "id": "4d2a2fb1",
   "metadata": {
    "scrolled": true
   },
   "outputs": [],
   "source": [
    "from tensorflow.keras.layers import Input, Conv1D, GlobalMaxPooling1D, Dense, Dropout\n",
    "from tensorflow.keras.models import Model\n",
    "from tensorflow.keras import layers\n",
    "from tensorflow.keras.layers import Attention\n",
    "\n",
    "embedding_dim = 512  # 각 단어의 임베딩 벡터의 차원\n",
    "num_heads = 1  # 어텐션 헤드의 수\n",
    "dff = 32  # 포지션 와이즈 피드 포워드 신경망의 은닉층의 크기\n",
    "\n",
    "Text_inputs = Input(shape=(max_len,))\n",
    "embedding_layer = TokenAndPositionEmbedding(max_len, vocab_size, embedding_dim)\n",
    "Text_x = embedding_layer(Text_inputs)\n",
    "transformer_block = TransformerBlock(embedding_dim, num_heads, dff)\n",
    "Text_x = transformer_block(Text_x)\n",
    "Text_x = tf.keras.layers.GlobalAveragePooling1D()(Text_x)\n",
    "Text_x = tf.keras.layers.Dropout(0.5)(Text_x)\n",
    "Text_x = tf.keras.layers.Dense(256, activation=\"relu\")(Text_x)\n",
    "Text_attention_layer = Attention()\n",
    "Text_a=Text_attention_layer([Text_x,Text_x])\n",
    "\n",
    "ELMo_input = Input(shape=(46, 256))\n",
    "conv1 = Conv1D(1024, 1, padding='valid', activation='relu')(ELMo_input)\n",
    "pooling = GlobalMaxPooling1D()(conv1)\n",
    "ELMo_x = Dense(256, activation='relu')(pooling)\n",
    "ELMo_attention_layer = Attention()\n",
    "ELMo_a=ELMo_attention_layer([ELMo_x,ELMo_x])\n",
    "\n",
    "\n",
    "x = layers.concatenate([ELMo_x,ELMo_a, Text_x,Text_a], axis=-1)\n",
    "x = Dropout(0.5)(x)\n",
    "output_layer = Dense(4, activation='softmax')(x)\n",
    "\n",
    "model = Model(inputs=[ELMo_input, Text_inputs], outputs=output_layer)"
   ]
  },
  {
   "cell_type": "code",
   "execution_count": 37,
   "id": "de8bb000",
   "metadata": {},
   "outputs": [],
   "source": [
    "model.compile(optimizer='adam', loss='sparse_categorical_crossentropy', metrics=['accuracy'])"
   ]
  },
  {
   "cell_type": "code",
   "execution_count": 38,
   "id": "a4cb157c",
   "metadata": {
    "scrolled": true
   },
   "outputs": [
    {
     "name": "stdout",
     "output_type": "stream",
     "text": [
      "Model: \"model_4\"\n",
      "__________________________________________________________________________________________________\n",
      " Layer (type)                   Output Shape         Param #     Connected to                     \n",
      "==================================================================================================\n",
      " input_9 (InputLayer)           [(None, 176)]        0           []                               \n",
      "                                                                                                  \n",
      " token_and_position_embedding_4  (None, 176, 512)    20072960    ['input_9[0][0]']                \n",
      "  (TokenAndPositionEmbedding)                                                                     \n",
      "                                                                                                  \n",
      " input_10 (InputLayer)          [(None, 46, 256)]    0           []                               \n",
      "                                                                                                  \n",
      " transformer_block_4 (Transform  (None, 176, 512)    1085984     ['token_and_position_embedding_4[\n",
      " erBlock)                                                        0][0]']                          \n",
      "                                                                                                  \n",
      " conv1d_4 (Conv1D)              (None, 46, 1024)     263168      ['input_10[0][0]']               \n",
      "                                                                                                  \n",
      " global_average_pooling1d_4 (Gl  (None, 512)         0           ['transformer_block_4[0][0]']    \n",
      " obalAveragePooling1D)                                                                            \n",
      "                                                                                                  \n",
      " global_max_pooling1d_4 (Global  (None, 1024)        0           ['conv1d_4[0][0]']               \n",
      " MaxPooling1D)                                                                                    \n",
      "                                                                                                  \n",
      " dropout_25 (Dropout)           (None, 512)          0           ['global_average_pooling1d_4[0][0\n",
      "                                                                 ]']                              \n",
      "                                                                                                  \n",
      " dense_61 (Dense)               (None, 256)          262400      ['global_max_pooling1d_4[0][0]'] \n",
      "                                                                                                  \n",
      " dense_60 (Dense)               (None, 256)          131328      ['dropout_25[0][0]']             \n",
      "                                                                                                  \n",
      " attention_7 (Attention)        (None, 256)          0           ['dense_61[0][0]',               \n",
      "                                                                  'dense_61[0][0]']               \n",
      "                                                                                                  \n",
      " attention_6 (Attention)        (None, 256)          0           ['dense_60[0][0]',               \n",
      "                                                                  'dense_60[0][0]']               \n",
      "                                                                                                  \n",
      " concatenate_4 (Concatenate)    (None, 1024)         0           ['dense_61[0][0]',               \n",
      "                                                                  'attention_7[0][0]',            \n",
      "                                                                  'dense_60[0][0]',               \n",
      "                                                                  'attention_6[0][0]']            \n",
      "                                                                                                  \n",
      " dropout_26 (Dropout)           (None, 1024)         0           ['concatenate_4[0][0]']          \n",
      "                                                                                                  \n",
      " dense_62 (Dense)               (None, 4)            4100        ['dropout_26[0][0]']             \n",
      "                                                                                                  \n",
      "==================================================================================================\n",
      "Total params: 21,819,940\n",
      "Trainable params: 21,819,940\n",
      "Non-trainable params: 0\n",
      "__________________________________________________________________________________________________\n"
     ]
    }
   ],
   "source": [
    "model.summary()"
   ]
  },
  {
   "cell_type": "code",
   "execution_count": 39,
   "id": "1b735d5d",
   "metadata": {
    "scrolled": true
   },
   "outputs": [
    {
     "name": "stdout",
     "output_type": "stream",
     "text": [
      "Epoch 1/30\n",
      "59/59 [==============================] - 5s 69ms/step - loss: 1.0676 - accuracy: 0.6664 - val_loss: 0.3767 - val_accuracy: 0.8680 - lr: 0.0010\n",
      "Epoch 2/30\n",
      "59/59 [==============================] - 4s 65ms/step - loss: 0.3851 - accuracy: 0.8807 - val_loss: 0.3396 - val_accuracy: 0.8830 - lr: 0.0010\n",
      "Epoch 3/30\n",
      "59/59 [==============================] - 4s 63ms/step - loss: 0.3482 - accuracy: 0.8915 - val_loss: 0.2967 - val_accuracy: 0.9010 - lr: 0.0010\n",
      "Epoch 4/30\n",
      "59/59 [==============================] - 4s 63ms/step - loss: 0.3265 - accuracy: 0.8987 - val_loss: 0.2808 - val_accuracy: 0.9050 - lr: 0.0010\n",
      "Epoch 5/30\n",
      "59/59 [==============================] - 3s 52ms/step - loss: 0.2971 - accuracy: 0.9083 - val_loss: 0.3295 - val_accuracy: 0.8890 - lr: 0.0010\n",
      "Epoch 6/30\n",
      "59/59 [==============================] - 4s 63ms/step - loss: 0.3242 - accuracy: 0.9021 - val_loss: 0.2793 - val_accuracy: 0.9010 - lr: 0.0010\n",
      "Epoch 7/30\n",
      "59/59 [==============================] - 4s 63ms/step - loss: 0.2718 - accuracy: 0.9153 - val_loss: 0.2668 - val_accuracy: 0.9040 - lr: 0.0010\n",
      "Epoch 8/30\n",
      "59/59 [==============================] - 3s 53ms/step - loss: 0.2505 - accuracy: 0.9221 - val_loss: 0.3118 - val_accuracy: 0.8990 - lr: 0.0010\n",
      "Epoch 9/30\n",
      "59/59 [==============================] - 4s 63ms/step - loss: 0.2469 - accuracy: 0.9201 - val_loss: 0.2663 - val_accuracy: 0.9080 - lr: 0.0010\n",
      "Epoch 10/30\n",
      "59/59 [==============================] - 3s 53ms/step - loss: 0.2355 - accuracy: 0.9261 - val_loss: 0.2761 - val_accuracy: 0.8990 - lr: 0.0010\n",
      "Epoch 11/30\n",
      "59/59 [==============================] - 3s 53ms/step - loss: 0.2363 - accuracy: 0.9249 - val_loss: 0.3318 - val_accuracy: 0.8960 - lr: 0.0010\n",
      "Epoch 12/30\n",
      "59/59 [==============================] - 4s 65ms/step - loss: 0.2024 - accuracy: 0.9359 - val_loss: 0.2626 - val_accuracy: 0.9080 - lr: 5.0000e-04\n",
      "Epoch 13/30\n",
      "59/59 [==============================] - 4s 64ms/step - loss: 0.1720 - accuracy: 0.9462 - val_loss: 0.2555 - val_accuracy: 0.9110 - lr: 5.0000e-04\n",
      "Epoch 14/30\n",
      "59/59 [==============================] - 3s 54ms/step - loss: 0.1661 - accuracy: 0.9486 - val_loss: 0.2584 - val_accuracy: 0.9130 - lr: 5.0000e-04\n",
      "Epoch 15/30\n",
      "59/59 [==============================] - 3s 52ms/step - loss: 0.1532 - accuracy: 0.9513 - val_loss: 0.2825 - val_accuracy: 0.9110 - lr: 5.0000e-04\n",
      "Epoch 16/30\n",
      "59/59 [==============================] - 3s 52ms/step - loss: 0.1270 - accuracy: 0.9615 - val_loss: 0.2809 - val_accuracy: 0.9040 - lr: 2.5000e-04\n",
      "Epoch 17/30\n",
      "59/59 [==============================] - 3s 54ms/step - loss: 0.1222 - accuracy: 0.9637 - val_loss: 0.2768 - val_accuracy: 0.9030 - lr: 2.5000e-04\n",
      "Epoch 18/30\n",
      "59/59 [==============================] - 3s 52ms/step - loss: 0.1135 - accuracy: 0.9668 - val_loss: 0.2832 - val_accuracy: 0.9100 - lr: 1.2500e-04\n",
      "Epoch 19/30\n",
      "59/59 [==============================] - 3s 54ms/step - loss: 0.1091 - accuracy: 0.9676 - val_loss: 0.2782 - val_accuracy: 0.9080 - lr: 1.2500e-04\n",
      "Epoch 20/30\n",
      "59/59 [==============================] - 3s 53ms/step - loss: 0.1010 - accuracy: 0.9697 - val_loss: 0.3055 - val_accuracy: 0.9100 - lr: 1.0000e-04\n",
      "Epoch 21/30\n",
      "59/59 [==============================] - 3s 54ms/step - loss: 0.0997 - accuracy: 0.9700 - val_loss: 0.3067 - val_accuracy: 0.9050 - lr: 1.0000e-04\n",
      "Epoch 22/30\n",
      "59/59 [==============================] - 3s 53ms/step - loss: 0.0932 - accuracy: 0.9721 - val_loss: 0.2994 - val_accuracy: 0.9100 - lr: 1.0000e-04\n",
      "Epoch 23/30\n",
      "59/59 [==============================] - 3s 52ms/step - loss: 0.0909 - accuracy: 0.9746 - val_loss: 0.3067 - val_accuracy: 0.9040 - lr: 1.0000e-04\n",
      "Epoch 24/30\n",
      "59/59 [==============================] - 3s 53ms/step - loss: 0.0842 - accuracy: 0.9767 - val_loss: 0.3090 - val_accuracy: 0.9110 - lr: 1.0000e-04\n",
      "Epoch 25/30\n",
      "59/59 [==============================] - 3s 53ms/step - loss: 0.0806 - accuracy: 0.9763 - val_loss: 0.3168 - val_accuracy: 0.9120 - lr: 1.0000e-04\n",
      "Epoch 26/30\n",
      "59/59 [==============================] - 3s 52ms/step - loss: 0.0789 - accuracy: 0.9779 - val_loss: 0.3263 - val_accuracy: 0.9090 - lr: 1.0000e-04\n",
      "Epoch 27/30\n",
      "59/59 [==============================] - 3s 54ms/step - loss: 0.0776 - accuracy: 0.9787 - val_loss: 0.3520 - val_accuracy: 0.9060 - lr: 1.0000e-04\n",
      "Epoch 28/30\n",
      "59/59 [==============================] - 3s 53ms/step - loss: 0.0767 - accuracy: 0.9775 - val_loss: 0.3156 - val_accuracy: 0.9100 - lr: 1.0000e-04\n",
      "Epoch 29/30\n",
      "59/59 [==============================] - 3s 52ms/step - loss: 0.0675 - accuracy: 0.9818 - val_loss: 0.3354 - val_accuracy: 0.9070 - lr: 1.0000e-04\n",
      "Epoch 30/30\n",
      "59/59 [==============================] - 3s 53ms/step - loss: 0.0653 - accuracy: 0.9833 - val_loss: 0.3457 - val_accuracy: 0.9070 - lr: 1.0000e-04\n"
     ]
    }
   ],
   "source": [
    "history = model.fit([textcuboid_train,text_train], y_train,callbacks=callbacks, epochs=30,batch_size=256,validation_data=([textcuboid__val,text_val], y_val))"
   ]
  },
  {
   "cell_type": "code",
   "execution_count": 40,
   "id": "0b8710f9",
   "metadata": {},
   "outputs": [
    {
     "name": "stdout",
     "output_type": "stream",
     "text": [
      "125/125 [==============================] - 1s 5ms/step - loss: 0.1687 - accuracy: 0.9503\n"
     ]
    },
    {
     "data": {
      "text/plain": [
       "[0.1686539500951767, 0.9502500295639038]"
      ]
     },
     "execution_count": 40,
     "metadata": {},
     "output_type": "execute_result"
    }
   ],
   "source": [
    "model.evaluate([textcuboid_test,text_test],y_test)"
   ]
  },
  {
   "cell_type": "code",
   "execution_count": 41,
   "id": "eb178a78",
   "metadata": {},
   "outputs": [
    {
     "name": "stdout",
     "output_type": "stream",
     "text": [
      "125/125 [==============================] - 1s 4ms/step - loss: 0.1891 - accuracy: 0.9385\n"
     ]
    },
    {
     "data": {
      "text/plain": [
       "[0.18911370635032654, 0.9384999871253967]"
      ]
     },
     "execution_count": 41,
     "metadata": {},
     "output_type": "execute_result"
    }
   ],
   "source": [
    "from keras.models import load_model\n",
    "custom_objects = {\"TokenAndPositionEmbedding\": TokenAndPositionEmbedding, \"TransformerBlock\": TransformerBlock}\n",
    "model = load_model('best_model.h5', custom_objects=custom_objects)\n",
    "model.evaluate([textcuboid_test,text_test],y_test)"
   ]
  },
  {
   "cell_type": "code",
   "execution_count": 27,
   "id": "f22920dd",
   "metadata": {},
   "outputs": [
    {
     "data": {
      "text/plain": [
       "95.26666666666667"
      ]
     },
     "execution_count": 27,
     "metadata": {},
     "output_type": "execute_result"
    }
   ],
   "source": [
    "np.average([95.2,95.4,95.2])"
   ]
  },
  {
   "cell_type": "code",
   "execution_count": null,
   "id": "a9a9719d",
   "metadata": {},
   "outputs": [],
   "source": []
  },
  {
   "cell_type": "code",
   "execution_count": null,
   "id": "de71922e",
   "metadata": {},
   "outputs": [],
   "source": []
  },
  {
   "cell_type": "code",
   "execution_count": null,
   "id": "41bfa5a3",
   "metadata": {},
   "outputs": [],
   "source": []
  }
 ],
 "metadata": {
  "kernelspec": {
   "display_name": "Python 3 (ipykernel)",
   "language": "python",
   "name": "python3"
  },
  "language_info": {
   "codemirror_mode": {
    "name": "ipython",
    "version": 3
   },
   "file_extension": ".py",
   "mimetype": "text/x-python",
   "name": "python",
   "nbconvert_exporter": "python",
   "pygments_lexer": "ipython3",
   "version": "3.9.12"
  }
 },
 "nbformat": 4,
 "nbformat_minor": 5
}
