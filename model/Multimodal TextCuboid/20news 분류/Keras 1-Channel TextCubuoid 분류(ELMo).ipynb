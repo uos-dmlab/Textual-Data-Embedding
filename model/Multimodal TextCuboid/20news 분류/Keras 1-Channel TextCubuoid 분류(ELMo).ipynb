{
 "cells": [
  {
   "cell_type": "markdown",
   "id": "17d10f98",
   "metadata": {},
   "source": [
    "Base에서 실행"
   ]
  },
  {
   "cell_type": "markdown",
   "id": "184f59ff",
   "metadata": {},
   "source": [
    "# Textcuboid\n"
   ]
  },
  {
   "cell_type": "code",
   "execution_count": 1,
   "id": "e5f5e87a",
   "metadata": {},
   "outputs": [],
   "source": [
    "import os\n",
    "os.environ[\"CUDA_VISIBLE_DEVICES\"] = \"-1\""
   ]
  },
  {
   "cell_type": "markdown",
   "id": "8c61eba1",
   "metadata": {},
   "source": [
    "## 1) Dataload 20newsgroups  data"
   ]
  },
  {
   "cell_type": "code",
   "execution_count": 1,
   "id": "849c1414",
   "metadata": {},
   "outputs": [],
   "source": [
    "import matplotlib.pyplot as plt\n",
    "import numpy as np\n",
    "import pandas as pd\n",
    "import tensorflow as tf\n",
    "\n",
    "from sklearn.metrics import precision_score, recall_score, f1_score\n",
    "from sklearn.model_selection import train_test_split\n",
    "from sklearn.preprocessing import LabelEncoder"
   ]
  },
  {
   "cell_type": "code",
   "execution_count": 2,
   "id": "660f568b",
   "metadata": {},
   "outputs": [],
   "source": [
    "df_newsgroup = pd.read_csv('C:/Users/user/Desktop/bilm-tf-master/20news_dataset_clear/20newsgroup_preprocessed.csv', sep=';', usecols=['target', 'text_cleaned'])\n",
    "df_newsgroup.rename(columns={'text_cleaned' : 'text'}, inplace=True)"
   ]
  },
  {
   "cell_type": "code",
   "execution_count": 3,
   "id": "20182c08",
   "metadata": {},
   "outputs": [
    {
     "data": {
      "text/html": [
       "<style>#sk-container-id-1 {color: black;background-color: white;}#sk-container-id-1 pre{padding: 0;}#sk-container-id-1 div.sk-toggleable {background-color: white;}#sk-container-id-1 label.sk-toggleable__label {cursor: pointer;display: block;width: 100%;margin-bottom: 0;padding: 0.3em;box-sizing: border-box;text-align: center;}#sk-container-id-1 label.sk-toggleable__label-arrow:before {content: \"▸\";float: left;margin-right: 0.25em;color: #696969;}#sk-container-id-1 label.sk-toggleable__label-arrow:hover:before {color: black;}#sk-container-id-1 div.sk-estimator:hover label.sk-toggleable__label-arrow:before {color: black;}#sk-container-id-1 div.sk-toggleable__content {max-height: 0;max-width: 0;overflow: hidden;text-align: left;background-color: #f0f8ff;}#sk-container-id-1 div.sk-toggleable__content pre {margin: 0.2em;color: black;border-radius: 0.25em;background-color: #f0f8ff;}#sk-container-id-1 input.sk-toggleable__control:checked~div.sk-toggleable__content {max-height: 200px;max-width: 100%;overflow: auto;}#sk-container-id-1 input.sk-toggleable__control:checked~label.sk-toggleable__label-arrow:before {content: \"▾\";}#sk-container-id-1 div.sk-estimator input.sk-toggleable__control:checked~label.sk-toggleable__label {background-color: #d4ebff;}#sk-container-id-1 div.sk-label input.sk-toggleable__control:checked~label.sk-toggleable__label {background-color: #d4ebff;}#sk-container-id-1 input.sk-hidden--visually {border: 0;clip: rect(1px 1px 1px 1px);clip: rect(1px, 1px, 1px, 1px);height: 1px;margin: -1px;overflow: hidden;padding: 0;position: absolute;width: 1px;}#sk-container-id-1 div.sk-estimator {font-family: monospace;background-color: #f0f8ff;border: 1px dotted black;border-radius: 0.25em;box-sizing: border-box;margin-bottom: 0.5em;}#sk-container-id-1 div.sk-estimator:hover {background-color: #d4ebff;}#sk-container-id-1 div.sk-parallel-item::after {content: \"\";width: 100%;border-bottom: 1px solid gray;flex-grow: 1;}#sk-container-id-1 div.sk-label:hover label.sk-toggleable__label {background-color: #d4ebff;}#sk-container-id-1 div.sk-serial::before {content: \"\";position: absolute;border-left: 1px solid gray;box-sizing: border-box;top: 0;bottom: 0;left: 50%;z-index: 0;}#sk-container-id-1 div.sk-serial {display: flex;flex-direction: column;align-items: center;background-color: white;padding-right: 0.2em;padding-left: 0.2em;position: relative;}#sk-container-id-1 div.sk-item {position: relative;z-index: 1;}#sk-container-id-1 div.sk-parallel {display: flex;align-items: stretch;justify-content: center;background-color: white;position: relative;}#sk-container-id-1 div.sk-item::before, #sk-container-id-1 div.sk-parallel-item::before {content: \"\";position: absolute;border-left: 1px solid gray;box-sizing: border-box;top: 0;bottom: 0;left: 50%;z-index: -1;}#sk-container-id-1 div.sk-parallel-item {display: flex;flex-direction: column;z-index: 1;position: relative;background-color: white;}#sk-container-id-1 div.sk-parallel-item:first-child::after {align-self: flex-end;width: 50%;}#sk-container-id-1 div.sk-parallel-item:last-child::after {align-self: flex-start;width: 50%;}#sk-container-id-1 div.sk-parallel-item:only-child::after {width: 0;}#sk-container-id-1 div.sk-dashed-wrapped {border: 1px dashed gray;margin: 0 0.4em 0.5em 0.4em;box-sizing: border-box;padding-bottom: 0.4em;background-color: white;}#sk-container-id-1 div.sk-label label {font-family: monospace;font-weight: bold;display: inline-block;line-height: 1.2em;}#sk-container-id-1 div.sk-label-container {text-align: center;}#sk-container-id-1 div.sk-container {/* jupyter's `normalize.less` sets `[hidden] { display: none; }` but bootstrap.min.css set `[hidden] { display: none !important; }` so we also need the `!important` here to be able to override the default hidden behavior on the sphinx rendered scikit-learn.org. See: https://github.com/scikit-learn/scikit-learn/issues/21755 */display: inline-block !important;position: relative;}#sk-container-id-1 div.sk-text-repr-fallback {display: none;}</style><div id=\"sk-container-id-1\" class=\"sk-top-container\"><div class=\"sk-text-repr-fallback\"><pre>LabelEncoder()</pre><b>In a Jupyter environment, please rerun this cell to show the HTML representation or trust the notebook. <br />On GitHub, the HTML representation is unable to render, please try loading this page with nbviewer.org.</b></div><div class=\"sk-container\" hidden><div class=\"sk-item\"><div class=\"sk-estimator sk-toggleable\"><input class=\"sk-toggleable__control sk-hidden--visually\" id=\"sk-estimator-id-1\" type=\"checkbox\" checked><label for=\"sk-estimator-id-1\" class=\"sk-toggleable__label sk-toggleable__label-arrow\">LabelEncoder</label><div class=\"sk-toggleable__content\"><pre>LabelEncoder()</pre></div></div></div></div></div>"
      ],
      "text/plain": [
       "LabelEncoder()"
      ]
     },
     "execution_count": 3,
     "metadata": {},
     "output_type": "execute_result"
    }
   ],
   "source": [
    "le = LabelEncoder()\n",
    "le.fit(df_newsgroup['target'].unique())"
   ]
  },
  {
   "cell_type": "code",
   "execution_count": 4,
   "id": "d00d3c71",
   "metadata": {},
   "outputs": [],
   "source": [
    "df_newsgroup['target'] = le.transform(df_newsgroup['target'])"
   ]
  },
  {
   "cell_type": "code",
   "execution_count": 5,
   "id": "7aa761db",
   "metadata": {},
   "outputs": [],
   "source": [
    "X = df_newsgroup['text'].astype(str)\n",
    "# y = tf.keras.utils.to_categorical(df_newsgroup['target'], num_classes=df_newsgroup['target'].nunique())\n",
    "y=list(df_newsgroup['target'])\n",
    "X_train, X_test, y_train, y_test = train_test_split(X, y, test_size=0.2, random_state=42, stratify=df_newsgroup['target'])"
   ]
  },
  {
   "cell_type": "code",
   "execution_count": 6,
   "id": "509aa871",
   "metadata": {},
   "outputs": [],
   "source": [
    "# 방법2) 케라스 내장함수 활용\n",
    "from keras.utils.np_utils import to_categorical\n",
    "\n",
    "one_hot_train_labels = to_categorical(y_train)\n",
    "one_hot_test_labels = to_categorical(y_test)"
   ]
  },
  {
   "cell_type": "markdown",
   "id": "c02f3e46",
   "metadata": {},
   "source": [
    "## 2) textcuboid 분류"
   ]
  },
  {
   "cell_type": "code",
   "execution_count": 7,
   "id": "2ffa92ca",
   "metadata": {},
   "outputs": [],
   "source": [
    "textcuboid=np.load('./1-Channel textcuboid_20ng(elmo).npy')"
   ]
  },
  {
   "cell_type": "code",
   "execution_count": 8,
   "id": "55f29d23",
   "metadata": {},
   "outputs": [],
   "source": [
    "textcuboid_test=np.load('./1-Channel textcuboid_test_20ng(elmo).npy')"
   ]
  },
  {
   "cell_type": "code",
   "execution_count": 9,
   "id": "1f178135",
   "metadata": {},
   "outputs": [],
   "source": [
    "import keras\n",
    "from tensorflow.keras import layers"
   ]
  },
  {
   "cell_type": "code",
   "execution_count": 10,
   "id": "ddec5841",
   "metadata": {},
   "outputs": [],
   "source": [
    "callbacks = [\n",
    "    keras.callbacks.ModelCheckpoint(\n",
    "        \"best_model.h5\", save_best_only=True, monitor=\"val_loss\"\n",
    "    ),\n",
    "    keras.callbacks.ReduceLROnPlateau(\n",
    "        monitor=\"val_loss\", factor=0.5, patience=2, min_lr=0.0001\n",
    "    ),\n",
    "#     keras.callbacks.EarlyStopping(monitor=\"val_loss\", patience=8, verbose=1),\n",
    "]"
   ]
  },
  {
   "cell_type": "code",
   "execution_count": 11,
   "id": "ce1b3b58",
   "metadata": {},
   "outputs": [],
   "source": [
    "from tensorflow.keras.layers import Input, Conv1D, GlobalMaxPooling1D, Dense, Dropout\n",
    "from tensorflow.keras.models import Model\n",
    "\n",
    "\n",
    "input_layer = Input(shape=(952, 256))\n",
    "conv1 = Conv1D(256, 1, padding='valid', activation='relu')(input_layer)\n",
    "pooling = GlobalMaxPooling1D()(conv1)\n",
    "\n",
    "x = Dense(256, activation='relu')(pooling)\n",
    "x = Dropout(0.5)(x)\n",
    "output_layer = Dense(20, activation='softmax')(x)\n",
    "\n",
    "model = Model(inputs=input_layer, outputs=output_layer)\n",
    "\n"
   ]
  },
  {
   "cell_type": "code",
   "execution_count": 12,
   "id": "de8bb000",
   "metadata": {},
   "outputs": [],
   "source": [
    "model.compile(optimizer='adam', loss='categorical_crossentropy', metrics=['accuracy'])"
   ]
  },
  {
   "cell_type": "code",
   "execution_count": 13,
   "id": "a4cb157c",
   "metadata": {},
   "outputs": [
    {
     "name": "stdout",
     "output_type": "stream",
     "text": [
      "Model: \"model\"\n",
      "_________________________________________________________________\n",
      " Layer (type)                Output Shape              Param #   \n",
      "=================================================================\n",
      " input_1 (InputLayer)        [(None, 952, 256)]        0         \n",
      "                                                                 \n",
      " conv1d (Conv1D)             (None, 952, 256)          65792     \n",
      "                                                                 \n",
      " global_max_pooling1d (Globa  (None, 256)              0         \n",
      " lMaxPooling1D)                                                  \n",
      "                                                                 \n",
      " dense (Dense)               (None, 1024)              263168    \n",
      "                                                                 \n",
      " dropout (Dropout)           (None, 1024)              0         \n",
      "                                                                 \n",
      " dense_1 (Dense)             (None, 20)                20500     \n",
      "                                                                 \n",
      "=================================================================\n",
      "Total params: 349,460\n",
      "Trainable params: 349,460\n",
      "Non-trainable params: 0\n",
      "_________________________________________________________________\n"
     ]
    }
   ],
   "source": [
    "model.summary()"
   ]
  },
  {
   "cell_type": "code",
   "execution_count": 14,
   "id": "8fa47ead",
   "metadata": {},
   "outputs": [],
   "source": [
    "x_train=textcuboid[1000:]\n",
    "x_val=textcuboid[:1000]\n",
    "y_train=one_hot_train_labels[1000:]\n",
    "y_val=one_hot_train_labels[:1000]"
   ]
  },
  {
   "cell_type": "code",
   "execution_count": 16,
   "id": "a3071295",
   "metadata": {
    "scrolled": true
   },
   "outputs": [
    {
     "name": "stdout",
     "output_type": "stream",
     "text": [
      "Epoch 1/30\n",
      "55/55 [==============================] - 6s 87ms/step - loss: 1.9141 - accuracy: 0.4433 - val_loss: 0.9496 - val_accuracy: 0.7010 - lr: 0.0010\n",
      "Epoch 2/30\n",
      "55/55 [==============================] - 4s 72ms/step - loss: 0.8615 - accuracy: 0.7182 - val_loss: 0.7576 - val_accuracy: 0.7560 - lr: 0.0010\n",
      "Epoch 3/30\n",
      "55/55 [==============================] - 4s 71ms/step - loss: 0.6928 - accuracy: 0.7731 - val_loss: 0.6861 - val_accuracy: 0.7750 - lr: 0.0010\n",
      "Epoch 4/30\n",
      "55/55 [==============================] - 4s 73ms/step - loss: 0.5917 - accuracy: 0.8052 - val_loss: 0.6703 - val_accuracy: 0.7870 - lr: 0.0010\n",
      "Epoch 5/30\n",
      "55/55 [==============================] - 4s 72ms/step - loss: 0.5220 - accuracy: 0.8265 - val_loss: 0.6161 - val_accuracy: 0.8000 - lr: 0.0010\n",
      "Epoch 6/30\n",
      "55/55 [==============================] - 4s 71ms/step - loss: 0.4568 - accuracy: 0.8530 - val_loss: 0.5814 - val_accuracy: 0.8150 - lr: 0.0010\n",
      "Epoch 7/30\n",
      "55/55 [==============================] - 4s 72ms/step - loss: 0.3945 - accuracy: 0.8727 - val_loss: 0.5892 - val_accuracy: 0.8120 - lr: 0.0010\n",
      "Epoch 8/30\n",
      "55/55 [==============================] - 4s 72ms/step - loss: 0.3435 - accuracy: 0.8923 - val_loss: 0.5636 - val_accuracy: 0.8300 - lr: 0.0010\n",
      "Epoch 9/30\n",
      "55/55 [==============================] - 4s 70ms/step - loss: 0.2983 - accuracy: 0.9064 - val_loss: 0.5877 - val_accuracy: 0.8230 - lr: 0.0010\n",
      "Epoch 10/30\n",
      "55/55 [==============================] - 4s 72ms/step - loss: 0.2531 - accuracy: 0.9216 - val_loss: 0.5956 - val_accuracy: 0.8170 - lr: 0.0010\n",
      "Epoch 11/30\n",
      "55/55 [==============================] - 4s 72ms/step - loss: 0.2008 - accuracy: 0.9388 - val_loss: 0.5597 - val_accuracy: 0.8330 - lr: 5.0000e-04\n",
      "Epoch 12/30\n",
      "55/55 [==============================] - 4s 71ms/step - loss: 0.1739 - accuracy: 0.9497 - val_loss: 0.5664 - val_accuracy: 0.8290 - lr: 5.0000e-04\n",
      "Epoch 13/30\n",
      "55/55 [==============================] - 4s 72ms/step - loss: 0.1517 - accuracy: 0.9556 - val_loss: 0.5684 - val_accuracy: 0.8350 - lr: 5.0000e-04\n",
      "Epoch 14/30\n",
      "55/55 [==============================] - 4s 71ms/step - loss: 0.1318 - accuracy: 0.9654 - val_loss: 0.5822 - val_accuracy: 0.8370 - lr: 2.5000e-04\n",
      "Epoch 15/30\n",
      "55/55 [==============================] - 4s 72ms/step - loss: 0.1237 - accuracy: 0.9668 - val_loss: 0.5812 - val_accuracy: 0.8340 - lr: 2.5000e-04\n",
      "Epoch 16/30\n",
      "55/55 [==============================] - 4s 69ms/step - loss: 0.1103 - accuracy: 0.9721 - val_loss: 0.5696 - val_accuracy: 0.8380 - lr: 1.2500e-04\n",
      "Epoch 17/30\n",
      "55/55 [==============================] - 4s 71ms/step - loss: 0.1044 - accuracy: 0.9754 - val_loss: 0.5758 - val_accuracy: 0.8350 - lr: 1.2500e-04\n",
      "Epoch 18/30\n",
      "55/55 [==============================] - 4s 70ms/step - loss: 0.1008 - accuracy: 0.9775 - val_loss: 0.5829 - val_accuracy: 0.8370 - lr: 1.0000e-04\n",
      "Epoch 19/30\n",
      "55/55 [==============================] - 4s 73ms/step - loss: 0.1018 - accuracy: 0.9751 - val_loss: 0.5802 - val_accuracy: 0.8320 - lr: 1.0000e-04\n",
      "Epoch 20/30\n",
      "55/55 [==============================] - 4s 70ms/step - loss: 0.0973 - accuracy: 0.9784 - val_loss: 0.5748 - val_accuracy: 0.8390 - lr: 1.0000e-04\n",
      "Epoch 21/30\n",
      "55/55 [==============================] - 4s 70ms/step - loss: 0.0937 - accuracy: 0.9792 - val_loss: 0.5869 - val_accuracy: 0.8340 - lr: 1.0000e-04\n",
      "Epoch 22/30\n",
      "55/55 [==============================] - 4s 71ms/step - loss: 0.0928 - accuracy: 0.9784 - val_loss: 0.5834 - val_accuracy: 0.8350 - lr: 1.0000e-04\n",
      "Epoch 23/30\n",
      "55/55 [==============================] - 4s 72ms/step - loss: 0.0891 - accuracy: 0.9801 - val_loss: 0.5892 - val_accuracy: 0.8390 - lr: 1.0000e-04\n",
      "Epoch 24/30\n",
      "55/55 [==============================] - 4s 73ms/step - loss: 0.0857 - accuracy: 0.9808 - val_loss: 0.5896 - val_accuracy: 0.8380 - lr: 1.0000e-04\n",
      "Epoch 25/30\n",
      "55/55 [==============================] - 4s 71ms/step - loss: 0.0821 - accuracy: 0.9817 - val_loss: 0.5914 - val_accuracy: 0.8410 - lr: 1.0000e-04\n",
      "Epoch 26/30\n",
      "55/55 [==============================] - 4s 73ms/step - loss: 0.0809 - accuracy: 0.9819 - val_loss: 0.5972 - val_accuracy: 0.8380 - lr: 1.0000e-04\n",
      "Epoch 27/30\n",
      "55/55 [==============================] - 4s 72ms/step - loss: 0.0806 - accuracy: 0.9819 - val_loss: 0.5976 - val_accuracy: 0.8410 - lr: 1.0000e-04\n",
      "Epoch 28/30\n",
      "55/55 [==============================] - 4s 68ms/step - loss: 0.0779 - accuracy: 0.9832 - val_loss: 0.5983 - val_accuracy: 0.8420 - lr: 1.0000e-04\n",
      "Epoch 29/30\n",
      "55/55 [==============================] - 4s 72ms/step - loss: 0.0760 - accuracy: 0.9839 - val_loss: 0.6049 - val_accuracy: 0.8370 - lr: 1.0000e-04\n",
      "Epoch 30/30\n",
      "55/55 [==============================] - 4s 69ms/step - loss: 0.0741 - accuracy: 0.9839 - val_loss: 0.6040 - val_accuracy: 0.8350 - lr: 1.0000e-04\n"
     ]
    }
   ],
   "source": [
    "history = model.fit(x_train, y_train,callbacks=callbacks, epochs=30,batch_size=256,validation_data=(x_val, y_val))"
   ]
  },
  {
   "cell_type": "code",
   "execution_count": 17,
   "id": "0b8710f9",
   "metadata": {},
   "outputs": [
    {
     "name": "stdout",
     "output_type": "stream",
     "text": [
      "118/118 [==============================] - 1s 9ms/step - loss: 0.5814 - accuracy: 0.8367\n"
     ]
    },
    {
     "data": {
      "text/plain": [
       "[0.5814027190208435, 0.8366967439651489]"
      ]
     },
     "execution_count": 17,
     "metadata": {},
     "output_type": "execute_result"
    }
   ],
   "source": [
    "model.evaluate(textcuboid_test,one_hot_test_labels)"
   ]
  },
  {
   "cell_type": "code",
   "execution_count": 15,
   "id": "eb178a78",
   "metadata": {},
   "outputs": [
    {
     "name": "stdout",
     "output_type": "stream",
     "text": [
      "118/118 [==============================] - 2s 8ms/step - loss: 0.5476 - accuracy: 0.8372\n"
     ]
    },
    {
     "data": {
      "text/plain": [
       "[0.547626793384552, 0.8372278213500977]"
      ]
     },
     "execution_count": 15,
     "metadata": {},
     "output_type": "execute_result"
    }
   ],
   "source": [
    "from keras.models import load_model\n",
    "model = load_model('best_model.h5')\n",
    "model.evaluate(textcuboid_test,one_hot_test_labels)"
   ]
  },
  {
   "cell_type": "code",
   "execution_count": null,
   "id": "5ad22687",
   "metadata": {},
   "outputs": [],
   "source": []
  },
  {
   "cell_type": "code",
   "execution_count": null,
   "id": "3c319af6",
   "metadata": {},
   "outputs": [],
   "source": []
  }
 ],
 "metadata": {
  "kernelspec": {
   "display_name": "Python 3 (ipykernel)",
   "language": "python",
   "name": "python3"
  },
  "language_info": {
   "codemirror_mode": {
    "name": "ipython",
    "version": 3
   },
   "file_extension": ".py",
   "mimetype": "text/x-python",
   "name": "python",
   "nbconvert_exporter": "python",
   "pygments_lexer": "ipython3",
   "version": "3.9.12"
  }
 },
 "nbformat": 4,
 "nbformat_minor": 5
}
