{
 "cells": [
  {
   "cell_type": "markdown",
   "id": "184f59ff",
   "metadata": {},
   "source": [
    "# 패키지 임포트"
   ]
  },
  {
   "cell_type": "code",
   "execution_count": 1,
   "id": "eb399714",
   "metadata": {},
   "outputs": [],
   "source": [
    "import random\n",
    "import pandas as pd\n",
    "import numpy as np\n",
    "import tensorflow as tf\n",
    "import nltk\n",
    "import os\n",
    "import string\n",
    "import re\n",
    "import json\n",
    "import keras\n",
    "from tensorflow.keras import layers\n",
    "from tensorflow.keras.layers import Input, Conv1D, GlobalMaxPooling1D, Dense, Dropout\n",
    "from tensorflow.keras.models import Model\n",
    "from tensorflow.keras import layers\n",
    "from keras.models import load_model\n",
    "from keras.utils.np_utils import to_categorical\n",
    "from sklearn.preprocessing import LabelEncoder\n",
    "from sklearn.model_selection import train_test_split\n",
    "from sklearn.metrics import f1_score\n",
    "import sys\n",
    "sys.path.append('C:/Users/User/Desktop/News Category')\n",
    "from data_preprocessing import *"
   ]
  },
  {
   "cell_type": "markdown",
   "id": "ab2a706c-5021-4cd6-8065-db60743c2617",
   "metadata": {},
   "source": [
    "# 데이터 로드"
   ]
  },
  {
   "cell_type": "code",
   "execution_count": 2,
   "id": "7f1867c3-3150-425b-847a-f964d8a35a0e",
   "metadata": {},
   "outputs": [],
   "source": [
    "data=[]\n",
    "with open('C:/Users/user/Desktop/bilm-tf-master/textdataset/News_Category_Dataset_v3.json', 'r') as f:\n",
    "    for line in f:\n",
    "        content = json.loads(line)\n",
    "        data.append(content)\n",
    "df = pd.DataFrame(data=data)"
   ]
  },
  {
   "cell_type": "code",
   "execution_count": 3,
   "id": "81b9907f-49ec-4ece-93e1-2d0fee869733",
   "metadata": {},
   "outputs": [],
   "source": [
    "textcuboid=np.load('./1-Channel textcuboid_nc(bert).npy')\n",
    "textcuboid_test=np.load('./1-Channel textcuboid_test_nc(bert).npy')"
   ]
  },
  {
   "cell_type": "markdown",
   "id": "999a6645-a028-4c79-aa21-dff22505dab6",
   "metadata": {},
   "source": [
    "# 전처리"
   ]
  },
  {
   "cell_type": "code",
   "execution_count": 4,
   "id": "849c1414",
   "metadata": {},
   "outputs": [],
   "source": [
    "df = df[~df['short_description'].apply(lambda x: len(x)==0)]\n",
    "\n",
    "#중복되는 카테고리 통합\n",
    "df[\"category\"] = df.category.replace(\n",
    "    {\n",
    "        \"THE WORLDPOST\": \"WORLD NEWS\",\n",
    "        \"WORLDPOST\": \"WORLD NEWS\",\n",
    "        \"ARTS\": \"ARTS & CULTURE\",\n",
    "        \"CULTURE & ARTS\": \"ARTS & CULTURE\",\n",
    "        \"HEALTHY LIVING\": \"WELLNESS\",\n",
    "        \"QUEER VOICES\": \"VOICES\",\n",
    "        \"LATINO VOICES\": \"VOICES\",\n",
    "        \"BLACK VOICES\": \"VOICES\",\n",
    "        \"STYLE\": \"STYLE & BEATUY\",\n",
    "        \"GREEN\": \"ENVIRONMENT\",\n",
    "        \"TASTE\": \"FOOD & DRINK\",\n",
    "        \"MONEY\": \"BUSINESS\",\n",
    "        \"PARENTING\": \"PARENTS\"\n",
    "    }\n",
    ")\n",
    "\n",
    "df = df[['headline', 'short_description','category']]\n",
    "df['input_data']= df.apply(lambda x: str(x['headline']) + str(x['short_description']), axis=1)\n",
    "\n",
    "df['clean_text']=df['input_data'].apply(clean_text)\n",
    "\n",
    "class0=list(df[df['category'] == 'POLITICS'].sample(1000, random_state=1)['clean_text'])\n",
    "class1=list(df[df['category'] == 'WELLNESS'].sample(1000, random_state=1)['clean_text'])\n",
    "class2=list(df[df['category'] == 'ENTERTAINMENT'].sample(1000, random_state=1)['clean_text'])\n",
    "class3=list(df[df['category'] == 'PARENTS'].sample(1000, random_state=1)['clean_text'])\n",
    "class4=list(df[df['category'] == 'VOICES'].sample(1000, random_state=1)['clean_text'])\n",
    "class5=list(df[df['category'] == 'STYLE & BEAUTY'].sample(1000, random_state=1)['clean_text'])\n",
    "class6=list(df[df['category'] == 'TRAVEL'].sample(1000, random_state=1)['clean_text'])\n",
    "class7=list(df[df['category'] == 'FOOD & DRINK'].sample(1000, random_state=1)['clean_text'])\n",
    "class8=list(df[df['category'] == 'WORLD NEWS'].sample(1000, random_state=1)['clean_text'])\n",
    "class9=list(df[df['category'] == 'BUSINESS'].sample(1000, random_state=1)['clean_text'])\n",
    "\n",
    "X_list=class0+class1+class2+class3+class4+class5+class6+class7+class8+class9\n",
    "\n",
    "y=[]\n",
    "for i in range(10):\n",
    "    y+=[i]*1000\n",
    "    \n",
    "clr_x_data=[]\n",
    "pattern = '[^a-z ]'\n",
    "for sen in X_list:\n",
    "    clr_x_data.append(re.sub(pattern, ' ', sen))\n",
    "    \n",
    "X_list=[]\n",
    "for sen in clr_x_data:\n",
    "    X_list.append(' '.join(sen.split()))\n",
    "    \n",
    "train_idx=[]\n",
    "for i in range(10):\n",
    "    train_idx+=[j+i*1000 for j in range(800)]\n",
    "\n",
    "test_idx=[]\n",
    "for i in range(10):\n",
    "    test_idx+=[j+800+i*1000 for j in range(200)]\n",
    "    \n",
    "x_train=[]\n",
    "y_train=[]\n",
    "for i in train_idx:\n",
    "    x_train.append(X_list[i])\n",
    "    y_train.append(y[i])\n",
    "\n",
    "x_test=[]\n",
    "y_test=[]\n",
    "for i in test_idx:\n",
    "    x_test.append(X_list[i])\n",
    "    y_test.append(y[i])"
   ]
  },
  {
   "cell_type": "code",
   "execution_count": 5,
   "id": "ba42344b",
   "metadata": {},
   "outputs": [],
   "source": [
    "tmp = [[x,y] for x, y in zip(textcuboid, y_train)]\n",
    "random.shuffle(tmp)\n",
    "textcuboid = [n[0] for n in tmp]\n",
    "y_train = [n[1] for n in tmp]\n",
    "textcuboid=np.array(textcuboid)\n",
    "y_train=np.array(y_train)\n",
    "y_test=np.array(y_test)"
   ]
  },
  {
   "cell_type": "code",
   "execution_count": 6,
   "id": "2a37d456-205a-4f29-8e01-5ac7529db7f1",
   "metadata": {},
   "outputs": [],
   "source": [
    "x_train=textcuboid[1000:]\n",
    "x_val=textcuboid[:1000]\n",
    "y_train1=y_train[1000:]\n",
    "y_val=y_train[:1000]"
   ]
  },
  {
   "cell_type": "markdown",
   "id": "10b88936-d7c4-4695-ad85-28fcc4dfe786",
   "metadata": {},
   "source": [
    "# 모델 빌드"
   ]
  },
  {
   "cell_type": "code",
   "execution_count": 7,
   "id": "ddec5841",
   "metadata": {},
   "outputs": [
    {
     "name": "stdout",
     "output_type": "stream",
     "text": [
      "WARNING:tensorflow:`period` argument is deprecated. Please use `save_freq` to specify the frequency in number of batches seen.\n"
     ]
    }
   ],
   "source": [
    "callbacks = [\n",
    "    keras.callbacks.ModelCheckpoint(\n",
    "        \"best_model_{epoch}.h5\", save_best_only=False, period=5\n",
    "    ),\n",
    "    keras.callbacks.ReduceLROnPlateau(\n",
    "        monitor=\"val_loss\", factor=0.5, patience=2, min_lr=0.0001\n",
    "    ),\n",
    "]"
   ]
  },
  {
   "cell_type": "code",
   "execution_count": 8,
   "id": "ce1b3b58",
   "metadata": {},
   "outputs": [
    {
     "name": "stdout",
     "output_type": "stream",
     "text": [
      "Model: \"model\"\n",
      "_________________________________________________________________\n",
      " Layer (type)                Output Shape              Param #   \n",
      "=================================================================\n",
      " input_1 (InputLayer)        [(None, 68, 768)]         0         \n",
      "                                                                 \n",
      " conv1d (Conv1D)             (None, 68, 1024)          787456    \n",
      "                                                                 \n",
      " global_max_pooling1d (Globa  (None, 1024)             0         \n",
      " lMaxPooling1D)                                                  \n",
      "                                                                 \n",
      " dense (Dense)               (None, 1024)              1049600   \n",
      "                                                                 \n",
      " dropout (Dropout)           (None, 1024)              0         \n",
      "                                                                 \n",
      " dense_1 (Dense)             (None, 10)                10250     \n",
      "                                                                 \n",
      "=================================================================\n",
      "Total params: 1,847,306\n",
      "Trainable params: 1,847,306\n",
      "Non-trainable params: 0\n",
      "_________________________________________________________________\n"
     ]
    }
   ],
   "source": [
    "input_layer = Input(shape=(68, 768))\n",
    "conv1 = Conv1D(1024, 1, padding='valid', activation='relu')(input_layer)\n",
    "pooling = GlobalMaxPooling1D()(conv1)\n",
    "x = Dense(1024, activation='relu')(pooling)\n",
    "x = Dropout(0.5)(x)\n",
    "output_layer = Dense(10, activation='softmax')(x)\n",
    "\n",
    "model = Model(inputs=input_layer, outputs=output_layer)\n",
    "\n",
    "model.compile(optimizer='adam', loss='sparse_categorical_crossentropy', metrics=['accuracy'])\n",
    "\n",
    "model.summary()"
   ]
  },
  {
   "cell_type": "code",
   "execution_count": null,
   "id": "71df3daf",
   "metadata": {
    "scrolled": true
   },
   "outputs": [
    {
     "name": "stdout",
     "output_type": "stream",
     "text": [
      "Epoch 1/50\n",
      "28/28 [==============================] - 1s 24ms/step - loss: 4.4823 - accuracy: 0.3517 - val_loss: 1.0760 - val_accuracy: 0.6840 - lr: 0.0010\n",
      "Epoch 2/50\n",
      "28/28 [==============================] - 0s 14ms/step - loss: 0.9925 - accuracy: 0.6789 - val_loss: 0.8393 - val_accuracy: 0.7290 - lr: 0.0010\n",
      "Epoch 3/50\n",
      "21/28 [=====================>........] - ETA: 0s - loss: 0.7498 - accuracy: 0.7533"
     ]
    }
   ],
   "source": [
    "history = model.fit(x_train, y_train1,callbacks=callbacks, epochs=50,batch_size=256,validation_data=(x_val, y_val))"
   ]
  },
  {
   "cell_type": "code",
   "execution_count": 14,
   "id": "0b8710f9",
   "metadata": {},
   "outputs": [
    {
     "name": "stdout",
     "output_type": "stream",
     "text": [
      "63/63 [==============================] - 0s 2ms/step - loss: 1.0787 - accuracy: 0.7565\n"
     ]
    },
    {
     "data": {
      "text/plain": [
       "[1.0787315368652344, 0.7565000057220459]"
      ]
     },
     "execution_count": 14,
     "metadata": {},
     "output_type": "execute_result"
    }
   ],
   "source": [
    "model.evaluate(textcuboid_test,y_test)"
   ]
  },
  {
   "cell_type": "code",
   "execution_count": 23,
   "id": "eb178a78",
   "metadata": {},
   "outputs": [
    {
     "name": "stdout",
     "output_type": "stream",
     "text": [
      "63/63 [==============================] - 0s 3ms/step - loss: 1.0568 - accuracy: 0.7575\n"
     ]
    },
    {
     "data": {
      "text/plain": [
       "[1.0568013191223145, 0.7574999928474426]"
      ]
     },
     "execution_count": 23,
     "metadata": {},
     "output_type": "execute_result"
    }
   ],
   "source": [
    "from keras.models import load_model\n",
    "model = load_model('best_model_45.h5')\n",
    "model.evaluate(textcuboid_test,y_test)"
   ]
  },
  {
   "cell_type": "code",
   "execution_count": null,
   "id": "6c6fcc10",
   "metadata": {},
   "outputs": [],
   "source": []
  },
  {
   "cell_type": "code",
   "execution_count": null,
   "id": "2775172f",
   "metadata": {},
   "outputs": [],
   "source": []
  }
 ],
 "metadata": {
  "kernelspec": {
   "display_name": "Python 3 (ipykernel)",
   "language": "python",
   "name": "python3"
  },
  "language_info": {
   "codemirror_mode": {
    "name": "ipython",
    "version": 3
   },
   "file_extension": ".py",
   "mimetype": "text/x-python",
   "name": "python",
   "nbconvert_exporter": "python",
   "pygments_lexer": "ipython3",
   "version": "3.8.13"
  }
 },
 "nbformat": 4,
 "nbformat_minor": 5
}
