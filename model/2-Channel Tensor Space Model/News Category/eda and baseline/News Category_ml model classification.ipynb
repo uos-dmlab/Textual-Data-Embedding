{
 "cells": [
  {
   "cell_type": "markdown",
   "id": "7830afb1",
   "metadata": {},
   "source": [
    "# 패키지 임포트"
   ]
  },
  {
   "cell_type": "code",
   "execution_count": 1,
   "id": "3aa57114-fd05-437c-ae2c-1192342178b5",
   "metadata": {},
   "outputs": [],
   "source": [
    "import numpy as np\n",
    "import pandas as pd\n",
    "import json\n",
    "from sklearn.preprocessing import LabelEncoder\n",
    "from sklearn.feature_selection import SelectKBest\n",
    "from sklearn.feature_selection import chi2\n",
    "from sklearn.feature_extraction.text import CountVectorizer\n",
    "from sklearn.feature_extraction.text import TfidfTransformer\n",
    "from sklearn.svm import LinearSVC\n",
    "from sklearn.linear_model import LogisticRegression\n",
    "from sklearn.naive_bayes import MultinomialNB\n",
    "from sklearn.model_selection import GridSearchCV\n",
    "from sklearn.metrics import accuracy_score, f1_score\n",
    "from sklearn.model_selection import train_test_split\n",
    "import sys\n",
    "sys.path.append('C:/Users/User/Desktop/News Category')\n",
    "from data_preprocessing import *"
   ]
  },
  {
   "cell_type": "markdown",
   "id": "1b8e7b49-d5ee-4f43-bda4-d010d84e5fef",
   "metadata": {},
   "source": [
    "# 데이터 로드"
   ]
  },
  {
   "cell_type": "code",
   "execution_count": 2,
   "id": "28974df8",
   "metadata": {},
   "outputs": [],
   "source": [
    "data=[]\n",
    "with open('C:/Users/user/Desktop/bilm-tf-master/textdataset/News_Category_Dataset_v3.json', 'r') as f:\n",
    "    for line in f:\n",
    "        content = json.loads(line)\n",
    "        data.append(content)\n",
    "df = pd.DataFrame(data=data)"
   ]
  },
  {
   "cell_type": "markdown",
   "id": "02a1c6e1-8487-4a8d-a362-a1e286ffd9f2",
   "metadata": {},
   "source": [
    "# 전처리"
   ]
  },
  {
   "cell_type": "code",
   "execution_count": 3,
   "id": "13274410-9862-48cd-85a3-472ac7191524",
   "metadata": {},
   "outputs": [],
   "source": [
    "df = df[~df['short_description'].apply(lambda x: len(x)==0)]\n",
    "\n",
    "#중복되는 카테고리 통합\n",
    "df[\"category\"] = df.category.replace(\n",
    "    {\n",
    "        \"THE WORLDPOST\": \"WORLD NEWS\",\n",
    "        \"WORLDPOST\": \"WORLD NEWS\",\n",
    "        \"ARTS\": \"ARTS & CULTURE\",\n",
    "        \"CULTURE & ARTS\": \"ARTS & CULTURE\",\n",
    "        \"HEALTHY LIVING\": \"WELLNESS\",\n",
    "        \"QUEER VOICES\": \"VOICES\",\n",
    "        \"LATINO VOICES\": \"VOICES\",\n",
    "        \"BLACK VOICES\": \"VOICES\",\n",
    "        \"STYLE\": \"STYLE & BEATUY\",\n",
    "        \"GREEN\": \"ENVIRONMENT\",\n",
    "        \"TASTE\": \"FOOD & DRINK\",\n",
    "        \"MONEY\": \"BUSINESS\",\n",
    "        \"PARENTING\": \"PARENTS\"\n",
    "    }\n",
    ")\n",
    "\n",
    "df = df[['headline', 'short_description','category']]\n",
    "df['input_data']= df.apply(lambda x: str(x['headline']) + str(x['short_description']), axis=1)\n",
    "\n",
    "df['clean_text']=df['input_data'].apply(clean_text)\n",
    "\n",
    "class0=list(df[df['category'] == 'POLITICS'].sample(1000, random_state=1)['clean_text'])\n",
    "class1=list(df[df['category'] == 'WELLNESS'].sample(1000, random_state=1)['clean_text'])\n",
    "class2=list(df[df['category'] == 'ENTERTAINMENT'].sample(1000, random_state=1)['clean_text'])\n",
    "class3=list(df[df['category'] == 'PARENTS'].sample(1000, random_state=1)['clean_text'])\n",
    "class4=list(df[df['category'] == 'VOICES'].sample(1000, random_state=1)['clean_text'])\n",
    "class5=list(df[df['category'] == 'STYLE & BEAUTY'].sample(1000, random_state=1)['clean_text'])\n",
    "class6=list(df[df['category'] == 'TRAVEL'].sample(1000, random_state=1)['clean_text'])\n",
    "class7=list(df[df['category'] == 'FOOD & DRINK'].sample(1000, random_state=1)['clean_text'])\n",
    "class8=list(df[df['category'] == 'WORLD NEWS'].sample(1000, random_state=1)['clean_text'])\n",
    "class9=list(df[df['category'] == 'BUSINESS'].sample(1000, random_state=1)['clean_text'])\n",
    "\n",
    "X_list=class0+class1+class2+class3+class4+class5+class6+class7+class8+class9\n",
    "\n",
    "y=[]\n",
    "for i in range(10):\n",
    "    y+=[i]*1000\n",
    "    \n",
    "clr_x_data=[]\n",
    "pattern = '[^a-z ]'\n",
    "for sen in X_list:\n",
    "    clr_x_data.append(re.sub(pattern, ' ', sen))\n",
    "    \n",
    "X_list=[]\n",
    "for sen in clr_x_data:\n",
    "    X_list.append(' '.join(sen.split()))\n",
    "    \n",
    "train_idx=[]\n",
    "for i in range(10):\n",
    "    train_idx+=[j+i*1000 for j in range(800)]\n",
    "\n",
    "test_idx=[]\n",
    "for i in range(10):\n",
    "    test_idx+=[j+800+i*1000 for j in range(200)]\n",
    "    \n",
    "x_train=[]\n",
    "y_train=[]\n",
    "for i in train_idx:\n",
    "    x_train.append(X_list[i])\n",
    "    y_train.append(y[i])\n",
    "\n",
    "x_test=[]\n",
    "y_test=[]\n",
    "for i in test_idx:\n",
    "    x_test.append(X_list[i])\n",
    "    y_test.append(y[i])"
   ]
  },
  {
   "cell_type": "code",
   "execution_count": 4,
   "id": "7b0b0256",
   "metadata": {},
   "outputs": [],
   "source": [
    "to_txt=x_train+x_test\n",
    "y=list(y_train)+list(y_test)"
   ]
  },
  {
   "cell_type": "code",
   "execution_count": 5,
   "id": "587bbc22-eb0b-46d5-9a7d-ba6a3a92cc36",
   "metadata": {},
   "outputs": [],
   "source": [
    "#불용어 불러오기\n",
    "with open('C:/Users/user/Desktop/english.txt', 'r', encoding='utf-8') as file:\n",
    "    stopwords = [line.strip() for line in file]"
   ]
  },
  {
   "cell_type": "code",
   "execution_count": 6,
   "id": "fbbd9949",
   "metadata": {},
   "outputs": [
    {
     "name": "stderr",
     "output_type": "stream",
     "text": [
      "C:\\ProgramData\\anaconda3\\envs\\class\\lib\\site-packages\\sklearn\\feature_extraction\\text.py:408: UserWarning: Your stop_words may be inconsistent with your preprocessing. Tokenizing the stop words generated tokens ['ain', 'daren', 'hadn', 'herse', 'himse', 'itse', 'mayn', 'mightn', 'mon', 'mustn', 'myse', 'needn', 'oughtn', 'shan'] not in stop_words.\n",
      "  warnings.warn(\n"
     ]
    }
   ],
   "source": [
    "#단어 10000개 선별\n",
    "vect = CountVectorizer(stop_words=stopwords)\n",
    "X_dtm = vect.fit_transform(to_txt)\n",
    "X_dtm = X_dtm.toarray()\n",
    "X_new = SelectKBest(chi2, k=10000).fit(X_dtm, y)\n",
    "TorF = X_new.get_support()\n",
    "word_view=np.array(vect.get_feature_names_out())\n",
    "sw=word_view[TorF]"
   ]
  },
  {
   "cell_type": "code",
   "execution_count": 8,
   "id": "faa2d538",
   "metadata": {},
   "outputs": [],
   "source": [
    "#훈련데이터에서 선별한 10000개 단어 이외 단어는 <ukn>으로 변경\n",
    "train_transe=[]\n",
    "for i in range(len(x_train)):\n",
    "    a=x_train[i].split()\n",
    "    for j in range(len(a)):\n",
    "        if a[j] not in sw:\n",
    "            a[j] = '<ukn>'\n",
    "    train_transe.append(' '.join(a))"
   ]
  },
  {
   "cell_type": "code",
   "execution_count": 9,
   "id": "a40a4351",
   "metadata": {},
   "outputs": [],
   "source": [
    "#테스트데이터에서 선별한 10000개 단어 이외 단어는 <ukn>으로 변경\n",
    "test_transe=[]\n",
    "for i in range(len(x_test)):\n",
    "    a=x_test[i].split()\n",
    "    for j in range(len(a)):\n",
    "        if a[j] not in sw:\n",
    "            a[j] = '<ukn>'\n",
    "    test_transe.append(' '.join(a))"
   ]
  },
  {
   "cell_type": "code",
   "execution_count": 10,
   "id": "53d534aa",
   "metadata": {},
   "outputs": [
    {
     "name": "stdout",
     "output_type": "stream",
     "text": [
      "(8000, 9559)\n"
     ]
    }
   ],
   "source": [
    "# DTM 확인\n",
    "dtmvector = CountVectorizer()\n",
    "x_train_dtm = dtmvector.fit_transform(train_transe)\n",
    "# print(x_train.shape)\n",
    "\n",
    "# 테스트데이터\n",
    "x_test_dtm = dtmvector.transform(test_transe) #테스트 데이터를 DTM으로 변환\n",
    "\n",
    "# TF-IDF Matrix확인\n",
    "tfidf_transformer = TfidfTransformer()\n",
    "tfidfv = tfidf_transformer.fit_transform(x_train_dtm)\n",
    "print(tfidfv.shape)\n",
    "\n",
    "# 테스트데이터\n",
    "tfidfv_test = tfidf_transformer.transform(x_test_dtm) #DTM을 TF-IDF 행렬로 변환"
   ]
  },
  {
   "cell_type": "markdown",
   "id": "997f739d-dda8-4b60-b6d6-47613f4580e3",
   "metadata": {},
   "source": [
    "# 전통적인 머신러닝 모델로 학습"
   ]
  },
  {
   "cell_type": "code",
   "execution_count": 11,
   "id": "400f1571-2ee9-4e50-864a-e5e7727309d6",
   "metadata": {
    "scrolled": true
   },
   "outputs": [
    {
     "name": "stdout",
     "output_type": "stream",
     "text": [
      "Fitting 5 folds for each of 10 candidates, totalling 50 fits\n",
      "[CV 1/5] END .................C=0.1, penalty=l1;, score=0.501 total time=   0.0s\n",
      "[CV 2/5] END .................C=0.1, penalty=l1;, score=0.509 total time=   0.0s\n",
      "[CV 3/5] END .................C=0.1, penalty=l1;, score=0.521 total time=   0.0s\n",
      "[CV 4/5] END .................C=0.1, penalty=l1;, score=0.510 total time=   0.0s\n",
      "[CV 5/5] END .................C=0.1, penalty=l1;, score=0.501 total time=   0.0s\n",
      "[CV 1/5] END .................C=0.1, penalty=l2;, score=0.687 total time=   0.0s\n",
      "[CV 2/5] END .................C=0.1, penalty=l2;, score=0.703 total time=   0.0s\n",
      "[CV 3/5] END .................C=0.1, penalty=l2;, score=0.707 total time=   0.0s\n",
      "[CV 4/5] END .................C=0.1, penalty=l2;, score=0.691 total time=   0.0s\n",
      "[CV 5/5] END .................C=0.1, penalty=l2;, score=0.678 total time=   0.0s\n"
     ]
    },
    {
     "name": "stderr",
     "output_type": "stream",
     "text": [
      "C:\\ProgramData\\anaconda3\\envs\\class\\lib\\site-packages\\sklearn\\svm\\_base.py:1250: ConvergenceWarning: Liblinear failed to converge, increase the number of iterations.\n",
      "  warnings.warn(\n"
     ]
    },
    {
     "name": "stdout",
     "output_type": "stream",
     "text": [
      "[CV 1/5] END ...................C=1, penalty=l1;, score=0.657 total time=   0.3s\n"
     ]
    },
    {
     "name": "stderr",
     "output_type": "stream",
     "text": [
      "C:\\ProgramData\\anaconda3\\envs\\class\\lib\\site-packages\\sklearn\\svm\\_base.py:1250: ConvergenceWarning: Liblinear failed to converge, increase the number of iterations.\n",
      "  warnings.warn(\n"
     ]
    },
    {
     "name": "stdout",
     "output_type": "stream",
     "text": [
      "[CV 2/5] END ...................C=1, penalty=l1;, score=0.676 total time=   0.3s\n"
     ]
    },
    {
     "name": "stderr",
     "output_type": "stream",
     "text": [
      "C:\\ProgramData\\anaconda3\\envs\\class\\lib\\site-packages\\sklearn\\svm\\_base.py:1250: ConvergenceWarning: Liblinear failed to converge, increase the number of iterations.\n",
      "  warnings.warn(\n"
     ]
    },
    {
     "name": "stdout",
     "output_type": "stream",
     "text": [
      "[CV 3/5] END ...................C=1, penalty=l1;, score=0.681 total time=   0.3s\n"
     ]
    },
    {
     "name": "stderr",
     "output_type": "stream",
     "text": [
      "C:\\ProgramData\\anaconda3\\envs\\class\\lib\\site-packages\\sklearn\\svm\\_base.py:1250: ConvergenceWarning: Liblinear failed to converge, increase the number of iterations.\n",
      "  warnings.warn(\n"
     ]
    },
    {
     "name": "stdout",
     "output_type": "stream",
     "text": [
      "[CV 4/5] END ...................C=1, penalty=l1;, score=0.668 total time=   0.3s\n"
     ]
    },
    {
     "name": "stderr",
     "output_type": "stream",
     "text": [
      "C:\\ProgramData\\anaconda3\\envs\\class\\lib\\site-packages\\sklearn\\svm\\_base.py:1250: ConvergenceWarning: Liblinear failed to converge, increase the number of iterations.\n",
      "  warnings.warn(\n"
     ]
    },
    {
     "name": "stdout",
     "output_type": "stream",
     "text": [
      "[CV 5/5] END ...................C=1, penalty=l1;, score=0.635 total time=   0.4s\n",
      "[CV 1/5] END ...................C=1, penalty=l2;, score=0.700 total time=   0.0s\n",
      "[CV 2/5] END ...................C=1, penalty=l2;, score=0.716 total time=   0.0s\n",
      "[CV 3/5] END ...................C=1, penalty=l2;, score=0.719 total time=   0.0s\n",
      "[CV 4/5] END ...................C=1, penalty=l2;, score=0.706 total time=   0.0s\n",
      "[CV 5/5] END ...................C=1, penalty=l2;, score=0.688 total time=   0.0s\n"
     ]
    },
    {
     "name": "stderr",
     "output_type": "stream",
     "text": [
      "C:\\ProgramData\\anaconda3\\envs\\class\\lib\\site-packages\\sklearn\\svm\\_base.py:1250: ConvergenceWarning: Liblinear failed to converge, increase the number of iterations.\n",
      "  warnings.warn(\n"
     ]
    },
    {
     "name": "stdout",
     "output_type": "stream",
     "text": [
      "[CV 1/5] END ..................C=10, penalty=l1;, score=0.612 total time=   0.8s\n"
     ]
    },
    {
     "name": "stderr",
     "output_type": "stream",
     "text": [
      "C:\\ProgramData\\anaconda3\\envs\\class\\lib\\site-packages\\sklearn\\svm\\_base.py:1250: ConvergenceWarning: Liblinear failed to converge, increase the number of iterations.\n",
      "  warnings.warn(\n"
     ]
    },
    {
     "name": "stdout",
     "output_type": "stream",
     "text": [
      "[CV 2/5] END ..................C=10, penalty=l1;, score=0.629 total time=   0.8s\n"
     ]
    },
    {
     "name": "stderr",
     "output_type": "stream",
     "text": [
      "C:\\ProgramData\\anaconda3\\envs\\class\\lib\\site-packages\\sklearn\\svm\\_base.py:1250: ConvergenceWarning: Liblinear failed to converge, increase the number of iterations.\n",
      "  warnings.warn(\n"
     ]
    },
    {
     "name": "stdout",
     "output_type": "stream",
     "text": [
      "[CV 3/5] END ..................C=10, penalty=l1;, score=0.631 total time=   0.8s\n"
     ]
    },
    {
     "name": "stderr",
     "output_type": "stream",
     "text": [
      "C:\\ProgramData\\anaconda3\\envs\\class\\lib\\site-packages\\sklearn\\svm\\_base.py:1250: ConvergenceWarning: Liblinear failed to converge, increase the number of iterations.\n",
      "  warnings.warn(\n"
     ]
    },
    {
     "name": "stdout",
     "output_type": "stream",
     "text": [
      "[CV 4/5] END ..................C=10, penalty=l1;, score=0.618 total time=   0.8s\n"
     ]
    },
    {
     "name": "stderr",
     "output_type": "stream",
     "text": [
      "C:\\ProgramData\\anaconda3\\envs\\class\\lib\\site-packages\\sklearn\\svm\\_base.py:1250: ConvergenceWarning: Liblinear failed to converge, increase the number of iterations.\n",
      "  warnings.warn(\n"
     ]
    },
    {
     "name": "stdout",
     "output_type": "stream",
     "text": [
      "[CV 5/5] END ..................C=10, penalty=l1;, score=0.601 total time=   0.8s\n",
      "[CV 1/5] END ..................C=10, penalty=l2;, score=0.649 total time=   0.1s\n",
      "[CV 2/5] END ..................C=10, penalty=l2;, score=0.659 total time=   0.1s\n",
      "[CV 3/5] END ..................C=10, penalty=l2;, score=0.672 total time=   0.1s\n",
      "[CV 4/5] END ..................C=10, penalty=l2;, score=0.662 total time=   0.1s\n",
      "[CV 5/5] END ..................C=10, penalty=l2;, score=0.636 total time=   0.1s\n"
     ]
    },
    {
     "name": "stderr",
     "output_type": "stream",
     "text": [
      "C:\\ProgramData\\anaconda3\\envs\\class\\lib\\site-packages\\sklearn\\svm\\_base.py:1250: ConvergenceWarning: Liblinear failed to converge, increase the number of iterations.\n",
      "  warnings.warn(\n"
     ]
    },
    {
     "name": "stdout",
     "output_type": "stream",
     "text": [
      "[CV 1/5] END .................C=100, penalty=l1;, score=0.606 total time=   1.1s\n"
     ]
    },
    {
     "name": "stderr",
     "output_type": "stream",
     "text": [
      "C:\\ProgramData\\anaconda3\\envs\\class\\lib\\site-packages\\sklearn\\svm\\_base.py:1250: ConvergenceWarning: Liblinear failed to converge, increase the number of iterations.\n",
      "  warnings.warn(\n"
     ]
    },
    {
     "name": "stdout",
     "output_type": "stream",
     "text": [
      "[CV 2/5] END .................C=100, penalty=l1;, score=0.621 total time=   1.1s\n"
     ]
    },
    {
     "name": "stderr",
     "output_type": "stream",
     "text": [
      "C:\\ProgramData\\anaconda3\\envs\\class\\lib\\site-packages\\sklearn\\svm\\_base.py:1250: ConvergenceWarning: Liblinear failed to converge, increase the number of iterations.\n",
      "  warnings.warn(\n"
     ]
    },
    {
     "name": "stdout",
     "output_type": "stream",
     "text": [
      "[CV 3/5] END .................C=100, penalty=l1;, score=0.626 total time=   1.1s\n"
     ]
    },
    {
     "name": "stderr",
     "output_type": "stream",
     "text": [
      "C:\\ProgramData\\anaconda3\\envs\\class\\lib\\site-packages\\sklearn\\svm\\_base.py:1250: ConvergenceWarning: Liblinear failed to converge, increase the number of iterations.\n",
      "  warnings.warn(\n"
     ]
    },
    {
     "name": "stdout",
     "output_type": "stream",
     "text": [
      "[CV 4/5] END .................C=100, penalty=l1;, score=0.603 total time=   1.1s\n"
     ]
    },
    {
     "name": "stderr",
     "output_type": "stream",
     "text": [
      "C:\\ProgramData\\anaconda3\\envs\\class\\lib\\site-packages\\sklearn\\svm\\_base.py:1250: ConvergenceWarning: Liblinear failed to converge, increase the number of iterations.\n",
      "  warnings.warn(\n"
     ]
    },
    {
     "name": "stdout",
     "output_type": "stream",
     "text": [
      "[CV 5/5] END .................C=100, penalty=l1;, score=0.591 total time=   1.1s\n",
      "[CV 1/5] END .................C=100, penalty=l2;, score=0.619 total time=   0.4s\n",
      "[CV 2/5] END .................C=100, penalty=l2;, score=0.640 total time=   0.4s\n",
      "[CV 3/5] END .................C=100, penalty=l2;, score=0.659 total time=   0.3s\n",
      "[CV 4/5] END .................C=100, penalty=l2;, score=0.641 total time=   0.4s\n",
      "[CV 5/5] END .................C=100, penalty=l2;, score=0.616 total time=   0.4s\n"
     ]
    },
    {
     "name": "stderr",
     "output_type": "stream",
     "text": [
      "C:\\ProgramData\\anaconda3\\envs\\class\\lib\\site-packages\\sklearn\\svm\\_base.py:1250: ConvergenceWarning: Liblinear failed to converge, increase the number of iterations.\n",
      "  warnings.warn(\n"
     ]
    },
    {
     "name": "stdout",
     "output_type": "stream",
     "text": [
      "[CV 1/5] END ................C=1000, penalty=l1;, score=0.586 total time=   1.7s\n"
     ]
    },
    {
     "name": "stderr",
     "output_type": "stream",
     "text": [
      "C:\\ProgramData\\anaconda3\\envs\\class\\lib\\site-packages\\sklearn\\svm\\_base.py:1250: ConvergenceWarning: Liblinear failed to converge, increase the number of iterations.\n",
      "  warnings.warn(\n"
     ]
    },
    {
     "name": "stdout",
     "output_type": "stream",
     "text": [
      "[CV 2/5] END ................C=1000, penalty=l1;, score=0.605 total time=   1.7s\n"
     ]
    },
    {
     "name": "stderr",
     "output_type": "stream",
     "text": [
      "C:\\ProgramData\\anaconda3\\envs\\class\\lib\\site-packages\\sklearn\\svm\\_base.py:1250: ConvergenceWarning: Liblinear failed to converge, increase the number of iterations.\n",
      "  warnings.warn(\n"
     ]
    },
    {
     "name": "stdout",
     "output_type": "stream",
     "text": [
      "[CV 3/5] END ................C=1000, penalty=l1;, score=0.614 total time=   1.6s\n"
     ]
    },
    {
     "name": "stderr",
     "output_type": "stream",
     "text": [
      "C:\\ProgramData\\anaconda3\\envs\\class\\lib\\site-packages\\sklearn\\svm\\_base.py:1250: ConvergenceWarning: Liblinear failed to converge, increase the number of iterations.\n",
      "  warnings.warn(\n"
     ]
    },
    {
     "name": "stdout",
     "output_type": "stream",
     "text": [
      "[CV 4/5] END ................C=1000, penalty=l1;, score=0.594 total time=   1.7s\n"
     ]
    },
    {
     "name": "stderr",
     "output_type": "stream",
     "text": [
      "C:\\ProgramData\\anaconda3\\envs\\class\\lib\\site-packages\\sklearn\\svm\\_base.py:1250: ConvergenceWarning: Liblinear failed to converge, increase the number of iterations.\n",
      "  warnings.warn(\n"
     ]
    },
    {
     "name": "stdout",
     "output_type": "stream",
     "text": [
      "[CV 5/5] END ................C=1000, penalty=l1;, score=0.594 total time=   1.7s\n",
      "[CV 1/5] END ................C=1000, penalty=l2;, score=0.631 total time=   0.1s\n",
      "[CV 2/5] END ................C=1000, penalty=l2;, score=0.644 total time=   0.1s\n",
      "[CV 3/5] END ................C=1000, penalty=l2;, score=0.671 total time=   0.1s\n",
      "[CV 4/5] END ................C=1000, penalty=l2;, score=0.649 total time=   0.1s\n",
      "[CV 5/5] END ................C=1000, penalty=l2;, score=0.624 total time=   0.1s\n",
      "{'C': 1, 'penalty': 'l2'}\n",
      "정확도: 0.7185\n"
     ]
    }
   ],
   "source": [
    "# SVM 모델\n",
    "param_grid = {'C': [0.1, 1, 10, 100, 1000], \n",
    "              'penalty': ['l1', 'l2']}\n",
    "\n",
    "grid = GridSearchCV(LinearSVC(max_iter=500, dual=False), param_grid, refit=True, verbose=3)\n",
    "\n",
    "grid.fit(tfidfv, y_train)\n",
    "print(grid.best_params_)\n",
    "\n",
    "predicted = grid.predict(tfidfv_test)\n",
    "print(\"정확도:\", accuracy_score(y_test, predicted))"
   ]
  },
  {
   "cell_type": "code",
   "execution_count": 12,
   "id": "56441afc-9ced-42f9-8237-0bfc98a8eacd",
   "metadata": {
    "scrolled": true
   },
   "outputs": [
    {
     "name": "stdout",
     "output_type": "stream",
     "text": [
      "Fitting 5 folds for each of 12 candidates, totalling 60 fits\n",
      "[CV 1/5] END ........alpha=0.01, fit_prior=True;, score=0.686 total time=   0.0s\n",
      "[CV 2/5] END ........alpha=0.01, fit_prior=True;, score=0.707 total time=   0.0s\n",
      "[CV 3/5] END ........alpha=0.01, fit_prior=True;, score=0.688 total time=   0.0s\n",
      "[CV 4/5] END ........alpha=0.01, fit_prior=True;, score=0.686 total time=   0.0s\n",
      "[CV 5/5] END ........alpha=0.01, fit_prior=True;, score=0.675 total time=   0.0s\n",
      "[CV 1/5] END .......alpha=0.01, fit_prior=False;, score=0.686 total time=   0.0s\n",
      "[CV 2/5] END .......alpha=0.01, fit_prior=False;, score=0.707 total time=   0.0s\n",
      "[CV 3/5] END .......alpha=0.01, fit_prior=False;, score=0.688 total time=   0.0s\n",
      "[CV 4/5] END .......alpha=0.01, fit_prior=False;, score=0.686 total time=   0.0s\n",
      "[CV 5/5] END .......alpha=0.01, fit_prior=False;, score=0.675 total time=   0.0s\n",
      "[CV 1/5] END .........alpha=0.1, fit_prior=True;, score=0.712 total time=   0.0s\n",
      "[CV 2/5] END .........alpha=0.1, fit_prior=True;, score=0.723 total time=   0.0s\n",
      "[CV 3/5] END .........alpha=0.1, fit_prior=True;, score=0.713 total time=   0.0s\n",
      "[CV 4/5] END .........alpha=0.1, fit_prior=True;, score=0.704 total time=   0.0s\n",
      "[CV 5/5] END .........alpha=0.1, fit_prior=True;, score=0.696 total time=   0.0s\n",
      "[CV 1/5] END ........alpha=0.1, fit_prior=False;, score=0.712 total time=   0.0s\n",
      "[CV 2/5] END ........alpha=0.1, fit_prior=False;, score=0.723 total time=   0.0s\n",
      "[CV 3/5] END ........alpha=0.1, fit_prior=False;, score=0.713 total time=   0.0s\n",
      "[CV 4/5] END ........alpha=0.1, fit_prior=False;, score=0.704 total time=   0.0s\n",
      "[CV 5/5] END ........alpha=0.1, fit_prior=False;, score=0.696 total time=   0.0s\n",
      "[CV 1/5] END .........alpha=0.5, fit_prior=True;, score=0.716 total time=   0.0s\n",
      "[CV 2/5] END .........alpha=0.5, fit_prior=True;, score=0.718 total time=   0.0s\n",
      "[CV 3/5] END .........alpha=0.5, fit_prior=True;, score=0.721 total time=   0.0s\n",
      "[CV 4/5] END .........alpha=0.5, fit_prior=True;, score=0.708 total time=   0.0s\n",
      "[CV 5/5] END .........alpha=0.5, fit_prior=True;, score=0.693 total time=   0.0s\n",
      "[CV 1/5] END ........alpha=0.5, fit_prior=False;, score=0.716 total time=   0.0s\n",
      "[CV 2/5] END ........alpha=0.5, fit_prior=False;, score=0.718 total time=   0.0s\n",
      "[CV 3/5] END ........alpha=0.5, fit_prior=False;, score=0.721 total time=   0.0s\n",
      "[CV 4/5] END ........alpha=0.5, fit_prior=False;, score=0.708 total time=   0.0s\n",
      "[CV 5/5] END ........alpha=0.5, fit_prior=False;, score=0.693 total time=   0.0s\n",
      "[CV 1/5] END ...........alpha=1, fit_prior=True;, score=0.712 total time=   0.0s\n",
      "[CV 2/5] END ...........alpha=1, fit_prior=True;, score=0.709 total time=   0.0s\n",
      "[CV 3/5] END ...........alpha=1, fit_prior=True;, score=0.716 total time=   0.0s\n",
      "[CV 4/5] END ...........alpha=1, fit_prior=True;, score=0.699 total time=   0.0s\n",
      "[CV 5/5] END ...........alpha=1, fit_prior=True;, score=0.697 total time=   0.0s\n",
      "[CV 1/5] END ..........alpha=1, fit_prior=False;, score=0.712 total time=   0.0s\n",
      "[CV 2/5] END ..........alpha=1, fit_prior=False;, score=0.709 total time=   0.0s\n",
      "[CV 3/5] END ..........alpha=1, fit_prior=False;, score=0.716 total time=   0.0s\n",
      "[CV 4/5] END ..........alpha=1, fit_prior=False;, score=0.699 total time=   0.0s\n",
      "[CV 5/5] END ..........alpha=1, fit_prior=False;, score=0.697 total time=   0.0s\n",
      "[CV 1/5] END ..........alpha=10, fit_prior=True;, score=0.584 total time=   0.0s\n",
      "[CV 2/5] END ..........alpha=10, fit_prior=True;, score=0.594 total time=   0.0s\n",
      "[CV 3/5] END ..........alpha=10, fit_prior=True;, score=0.599 total time=   0.0s\n",
      "[CV 4/5] END ..........alpha=10, fit_prior=True;, score=0.586 total time=   0.0s\n",
      "[CV 5/5] END ..........alpha=10, fit_prior=True;, score=0.568 total time=   0.0s\n",
      "[CV 1/5] END .........alpha=10, fit_prior=False;, score=0.584 total time=   0.0s\n",
      "[CV 2/5] END .........alpha=10, fit_prior=False;, score=0.594 total time=   0.0s\n",
      "[CV 3/5] END .........alpha=10, fit_prior=False;, score=0.599 total time=   0.0s\n",
      "[CV 4/5] END .........alpha=10, fit_prior=False;, score=0.586 total time=   0.0s\n",
      "[CV 5/5] END .........alpha=10, fit_prior=False;, score=0.568 total time=   0.0s\n",
      "[CV 1/5] END .........alpha=100, fit_prior=True;, score=0.221 total time=   0.0s\n",
      "[CV 2/5] END .........alpha=100, fit_prior=True;, score=0.212 total time=   0.0s\n",
      "[CV 3/5] END .........alpha=100, fit_prior=True;, score=0.218 total time=   0.0s\n",
      "[CV 4/5] END .........alpha=100, fit_prior=True;, score=0.212 total time=   0.0s\n",
      "[CV 5/5] END .........alpha=100, fit_prior=True;, score=0.219 total time=   0.0s\n",
      "[CV 1/5] END ........alpha=100, fit_prior=False;, score=0.221 total time=   0.0s\n",
      "[CV 2/5] END ........alpha=100, fit_prior=False;, score=0.212 total time=   0.0s\n",
      "[CV 3/5] END ........alpha=100, fit_prior=False;, score=0.218 total time=   0.0s\n",
      "[CV 4/5] END ........alpha=100, fit_prior=False;, score=0.212 total time=   0.0s\n",
      "[CV 5/5] END ........alpha=100, fit_prior=False;, score=0.219 total time=   0.0s\n",
      "{'alpha': 0.5, 'fit_prior': True}\n",
      "정확도: 0.7165\n"
     ]
    }
   ],
   "source": [
    "#나이브 베이즈 모델\n",
    "param_grid = {'alpha': [0.01, 0.1, 0.5, 1, 10, 100],\n",
    "              'fit_prior': [True, False]}\n",
    "\n",
    "grid = GridSearchCV(MultinomialNB(), param_grid, refit=True, verbose=3)\n",
    "\n",
    "grid.fit(tfidfv, y_train)\n",
    "print(grid.best_params_)\n",
    "\n",
    "predicted = grid.predict(tfidfv_test)\n",
    "print(\"정확도:\", accuracy_score(y_test, predicted))"
   ]
  },
  {
   "cell_type": "code",
   "execution_count": 13,
   "id": "bd3337a9-dd4e-438b-8a9c-b13f83d405af",
   "metadata": {
    "scrolled": true
   },
   "outputs": [
    {
     "name": "stdout",
     "output_type": "stream",
     "text": [
      "Fitting 5 folds for each of 10 candidates, totalling 50 fits\n",
      "[CV 1/5] END ...................C=0.1, penalty=l1;, score=nan total time=   0.0s\n",
      "[CV 2/5] END ...................C=0.1, penalty=l1;, score=nan total time=   0.0s\n",
      "[CV 3/5] END ...................C=0.1, penalty=l1;, score=nan total time=   0.0s\n",
      "[CV 4/5] END ...................C=0.1, penalty=l1;, score=nan total time=   0.0s\n",
      "[CV 5/5] END ...................C=0.1, penalty=l1;, score=nan total time=   0.0s\n",
      "[CV 1/5] END .................C=0.1, penalty=l2;, score=0.534 total time=   0.1s\n",
      "[CV 2/5] END .................C=0.1, penalty=l2;, score=0.543 total time=   0.2s\n",
      "[CV 3/5] END .................C=0.1, penalty=l2;, score=0.547 total time=   0.2s\n",
      "[CV 4/5] END .................C=0.1, penalty=l2;, score=0.534 total time=   0.2s\n",
      "[CV 5/5] END .................C=0.1, penalty=l2;, score=0.521 total time=   0.2s\n",
      "[CV 1/5] END .....................C=1, penalty=l1;, score=nan total time=   0.0s\n",
      "[CV 2/5] END .....................C=1, penalty=l1;, score=nan total time=   0.0s\n",
      "[CV 3/5] END .....................C=1, penalty=l1;, score=nan total time=   0.0s\n",
      "[CV 4/5] END .....................C=1, penalty=l1;, score=nan total time=   0.0s\n",
      "[CV 5/5] END .....................C=1, penalty=l1;, score=nan total time=   0.0s\n",
      "[CV 1/5] END ...................C=1, penalty=l2;, score=0.672 total time=   0.6s\n"
     ]
    },
    {
     "name": "stderr",
     "output_type": "stream",
     "text": [
      "C:\\ProgramData\\anaconda3\\envs\\class\\lib\\site-packages\\sklearn\\linear_model\\_logistic.py:460: ConvergenceWarning: lbfgs failed to converge (status=1):\n",
      "STOP: TOTAL NO. of ITERATIONS REACHED LIMIT.\n",
      "\n",
      "Increase the number of iterations (max_iter) or scale the data as shown in:\n",
      "    https://scikit-learn.org/stable/modules/preprocessing.html\n",
      "Please also refer to the documentation for alternative solver options:\n",
      "    https://scikit-learn.org/stable/modules/linear_model.html#logistic-regression\n",
      "  n_iter_i = _check_optimize_result(\n"
     ]
    },
    {
     "name": "stdout",
     "output_type": "stream",
     "text": [
      "[CV 2/5] END ...................C=1, penalty=l2;, score=0.690 total time=   0.6s\n"
     ]
    },
    {
     "name": "stderr",
     "output_type": "stream",
     "text": [
      "C:\\ProgramData\\anaconda3\\envs\\class\\lib\\site-packages\\sklearn\\linear_model\\_logistic.py:460: ConvergenceWarning: lbfgs failed to converge (status=1):\n",
      "STOP: TOTAL NO. of ITERATIONS REACHED LIMIT.\n",
      "\n",
      "Increase the number of iterations (max_iter) or scale the data as shown in:\n",
      "    https://scikit-learn.org/stable/modules/preprocessing.html\n",
      "Please also refer to the documentation for alternative solver options:\n",
      "    https://scikit-learn.org/stable/modules/linear_model.html#logistic-regression\n",
      "  n_iter_i = _check_optimize_result(\n"
     ]
    },
    {
     "name": "stdout",
     "output_type": "stream",
     "text": [
      "[CV 3/5] END ...................C=1, penalty=l2;, score=0.694 total time=   0.6s\n"
     ]
    },
    {
     "name": "stderr",
     "output_type": "stream",
     "text": [
      "C:\\ProgramData\\anaconda3\\envs\\class\\lib\\site-packages\\sklearn\\linear_model\\_logistic.py:460: ConvergenceWarning: lbfgs failed to converge (status=1):\n",
      "STOP: TOTAL NO. of ITERATIONS REACHED LIMIT.\n",
      "\n",
      "Increase the number of iterations (max_iter) or scale the data as shown in:\n",
      "    https://scikit-learn.org/stable/modules/preprocessing.html\n",
      "Please also refer to the documentation for alternative solver options:\n",
      "    https://scikit-learn.org/stable/modules/linear_model.html#logistic-regression\n",
      "  n_iter_i = _check_optimize_result(\n"
     ]
    },
    {
     "name": "stdout",
     "output_type": "stream",
     "text": [
      "[CV 4/5] END ...................C=1, penalty=l2;, score=0.672 total time=   0.6s\n"
     ]
    },
    {
     "name": "stderr",
     "output_type": "stream",
     "text": [
      "C:\\ProgramData\\anaconda3\\envs\\class\\lib\\site-packages\\sklearn\\linear_model\\_logistic.py:460: ConvergenceWarning: lbfgs failed to converge (status=1):\n",
      "STOP: TOTAL NO. of ITERATIONS REACHED LIMIT.\n",
      "\n",
      "Increase the number of iterations (max_iter) or scale the data as shown in:\n",
      "    https://scikit-learn.org/stable/modules/preprocessing.html\n",
      "Please also refer to the documentation for alternative solver options:\n",
      "    https://scikit-learn.org/stable/modules/linear_model.html#logistic-regression\n",
      "  n_iter_i = _check_optimize_result(\n"
     ]
    },
    {
     "name": "stdout",
     "output_type": "stream",
     "text": [
      "[CV 5/5] END ...................C=1, penalty=l2;, score=0.651 total time=   0.6s\n",
      "[CV 1/5] END ....................C=10, penalty=l1;, score=nan total time=   0.0s\n",
      "[CV 2/5] END ....................C=10, penalty=l1;, score=nan total time=   0.0s\n",
      "[CV 3/5] END ....................C=10, penalty=l1;, score=nan total time=   0.0s\n",
      "[CV 4/5] END ....................C=10, penalty=l1;, score=nan total time=   0.0s\n",
      "[CV 5/5] END ....................C=10, penalty=l1;, score=nan total time=   0.0s\n"
     ]
    },
    {
     "name": "stderr",
     "output_type": "stream",
     "text": [
      "C:\\ProgramData\\anaconda3\\envs\\class\\lib\\site-packages\\sklearn\\linear_model\\_logistic.py:460: ConvergenceWarning: lbfgs failed to converge (status=1):\n",
      "STOP: TOTAL NO. of ITERATIONS REACHED LIMIT.\n",
      "\n",
      "Increase the number of iterations (max_iter) or scale the data as shown in:\n",
      "    https://scikit-learn.org/stable/modules/preprocessing.html\n",
      "Please also refer to the documentation for alternative solver options:\n",
      "    https://scikit-learn.org/stable/modules/linear_model.html#logistic-regression\n",
      "  n_iter_i = _check_optimize_result(\n"
     ]
    },
    {
     "name": "stdout",
     "output_type": "stream",
     "text": [
      "[CV 1/5] END ..................C=10, penalty=l2;, score=0.686 total time=   0.6s\n"
     ]
    },
    {
     "name": "stderr",
     "output_type": "stream",
     "text": [
      "C:\\ProgramData\\anaconda3\\envs\\class\\lib\\site-packages\\sklearn\\linear_model\\_logistic.py:460: ConvergenceWarning: lbfgs failed to converge (status=1):\n",
      "STOP: TOTAL NO. of ITERATIONS REACHED LIMIT.\n",
      "\n",
      "Increase the number of iterations (max_iter) or scale the data as shown in:\n",
      "    https://scikit-learn.org/stable/modules/preprocessing.html\n",
      "Please also refer to the documentation for alternative solver options:\n",
      "    https://scikit-learn.org/stable/modules/linear_model.html#logistic-regression\n",
      "  n_iter_i = _check_optimize_result(\n"
     ]
    },
    {
     "name": "stdout",
     "output_type": "stream",
     "text": [
      "[CV 2/5] END ..................C=10, penalty=l2;, score=0.716 total time=   0.6s\n"
     ]
    },
    {
     "name": "stderr",
     "output_type": "stream",
     "text": [
      "C:\\ProgramData\\anaconda3\\envs\\class\\lib\\site-packages\\sklearn\\linear_model\\_logistic.py:460: ConvergenceWarning: lbfgs failed to converge (status=1):\n",
      "STOP: TOTAL NO. of ITERATIONS REACHED LIMIT.\n",
      "\n",
      "Increase the number of iterations (max_iter) or scale the data as shown in:\n",
      "    https://scikit-learn.org/stable/modules/preprocessing.html\n",
      "Please also refer to the documentation for alternative solver options:\n",
      "    https://scikit-learn.org/stable/modules/linear_model.html#logistic-regression\n",
      "  n_iter_i = _check_optimize_result(\n"
     ]
    },
    {
     "name": "stdout",
     "output_type": "stream",
     "text": [
      "[CV 3/5] END ..................C=10, penalty=l2;, score=0.717 total time=   0.6s\n"
     ]
    },
    {
     "name": "stderr",
     "output_type": "stream",
     "text": [
      "C:\\ProgramData\\anaconda3\\envs\\class\\lib\\site-packages\\sklearn\\linear_model\\_logistic.py:460: ConvergenceWarning: lbfgs failed to converge (status=1):\n",
      "STOP: TOTAL NO. of ITERATIONS REACHED LIMIT.\n",
      "\n",
      "Increase the number of iterations (max_iter) or scale the data as shown in:\n",
      "    https://scikit-learn.org/stable/modules/preprocessing.html\n",
      "Please also refer to the documentation for alternative solver options:\n",
      "    https://scikit-learn.org/stable/modules/linear_model.html#logistic-regression\n",
      "  n_iter_i = _check_optimize_result(\n"
     ]
    },
    {
     "name": "stdout",
     "output_type": "stream",
     "text": [
      "[CV 4/5] END ..................C=10, penalty=l2;, score=0.703 total time=   0.6s\n"
     ]
    },
    {
     "name": "stderr",
     "output_type": "stream",
     "text": [
      "C:\\ProgramData\\anaconda3\\envs\\class\\lib\\site-packages\\sklearn\\linear_model\\_logistic.py:460: ConvergenceWarning: lbfgs failed to converge (status=1):\n",
      "STOP: TOTAL NO. of ITERATIONS REACHED LIMIT.\n",
      "\n",
      "Increase the number of iterations (max_iter) or scale the data as shown in:\n",
      "    https://scikit-learn.org/stable/modules/preprocessing.html\n",
      "Please also refer to the documentation for alternative solver options:\n",
      "    https://scikit-learn.org/stable/modules/linear_model.html#logistic-regression\n",
      "  n_iter_i = _check_optimize_result(\n"
     ]
    },
    {
     "name": "stdout",
     "output_type": "stream",
     "text": [
      "[CV 5/5] END ..................C=10, penalty=l2;, score=0.682 total time=   0.6s\n",
      "[CV 1/5] END ...................C=100, penalty=l1;, score=nan total time=   0.0s\n",
      "[CV 2/5] END ...................C=100, penalty=l1;, score=nan total time=   0.0s\n",
      "[CV 3/5] END ...................C=100, penalty=l1;, score=nan total time=   0.0s\n",
      "[CV 4/5] END ...................C=100, penalty=l1;, score=nan total time=   0.0s\n",
      "[CV 5/5] END ...................C=100, penalty=l1;, score=nan total time=   0.0s\n"
     ]
    },
    {
     "name": "stderr",
     "output_type": "stream",
     "text": [
      "C:\\ProgramData\\anaconda3\\envs\\class\\lib\\site-packages\\sklearn\\linear_model\\_logistic.py:460: ConvergenceWarning: lbfgs failed to converge (status=1):\n",
      "STOP: TOTAL NO. of ITERATIONS REACHED LIMIT.\n",
      "\n",
      "Increase the number of iterations (max_iter) or scale the data as shown in:\n",
      "    https://scikit-learn.org/stable/modules/preprocessing.html\n",
      "Please also refer to the documentation for alternative solver options:\n",
      "    https://scikit-learn.org/stable/modules/linear_model.html#logistic-regression\n",
      "  n_iter_i = _check_optimize_result(\n"
     ]
    },
    {
     "name": "stdout",
     "output_type": "stream",
     "text": [
      "[CV 1/5] END .................C=100, penalty=l2;, score=0.670 total time=   0.6s\n"
     ]
    },
    {
     "name": "stderr",
     "output_type": "stream",
     "text": [
      "C:\\ProgramData\\anaconda3\\envs\\class\\lib\\site-packages\\sklearn\\linear_model\\_logistic.py:460: ConvergenceWarning: lbfgs failed to converge (status=1):\n",
      "STOP: TOTAL NO. of ITERATIONS REACHED LIMIT.\n",
      "\n",
      "Increase the number of iterations (max_iter) or scale the data as shown in:\n",
      "    https://scikit-learn.org/stable/modules/preprocessing.html\n",
      "Please also refer to the documentation for alternative solver options:\n",
      "    https://scikit-learn.org/stable/modules/linear_model.html#logistic-regression\n",
      "  n_iter_i = _check_optimize_result(\n"
     ]
    },
    {
     "name": "stdout",
     "output_type": "stream",
     "text": [
      "[CV 2/5] END .................C=100, penalty=l2;, score=0.682 total time=   0.6s\n"
     ]
    },
    {
     "name": "stderr",
     "output_type": "stream",
     "text": [
      "C:\\ProgramData\\anaconda3\\envs\\class\\lib\\site-packages\\sklearn\\linear_model\\_logistic.py:460: ConvergenceWarning: lbfgs failed to converge (status=1):\n",
      "STOP: TOTAL NO. of ITERATIONS REACHED LIMIT.\n",
      "\n",
      "Increase the number of iterations (max_iter) or scale the data as shown in:\n",
      "    https://scikit-learn.org/stable/modules/preprocessing.html\n",
      "Please also refer to the documentation for alternative solver options:\n",
      "    https://scikit-learn.org/stable/modules/linear_model.html#logistic-regression\n",
      "  n_iter_i = _check_optimize_result(\n"
     ]
    },
    {
     "name": "stdout",
     "output_type": "stream",
     "text": [
      "[CV 3/5] END .................C=100, penalty=l2;, score=0.710 total time=   0.6s\n"
     ]
    },
    {
     "name": "stderr",
     "output_type": "stream",
     "text": [
      "C:\\ProgramData\\anaconda3\\envs\\class\\lib\\site-packages\\sklearn\\linear_model\\_logistic.py:460: ConvergenceWarning: lbfgs failed to converge (status=1):\n",
      "STOP: TOTAL NO. of ITERATIONS REACHED LIMIT.\n",
      "\n",
      "Increase the number of iterations (max_iter) or scale the data as shown in:\n",
      "    https://scikit-learn.org/stable/modules/preprocessing.html\n",
      "Please also refer to the documentation for alternative solver options:\n",
      "    https://scikit-learn.org/stable/modules/linear_model.html#logistic-regression\n",
      "  n_iter_i = _check_optimize_result(\n"
     ]
    },
    {
     "name": "stdout",
     "output_type": "stream",
     "text": [
      "[CV 4/5] END .................C=100, penalty=l2;, score=0.698 total time=   0.6s\n"
     ]
    },
    {
     "name": "stderr",
     "output_type": "stream",
     "text": [
      "C:\\ProgramData\\anaconda3\\envs\\class\\lib\\site-packages\\sklearn\\linear_model\\_logistic.py:460: ConvergenceWarning: lbfgs failed to converge (status=1):\n",
      "STOP: TOTAL NO. of ITERATIONS REACHED LIMIT.\n",
      "\n",
      "Increase the number of iterations (max_iter) or scale the data as shown in:\n",
      "    https://scikit-learn.org/stable/modules/preprocessing.html\n",
      "Please also refer to the documentation for alternative solver options:\n",
      "    https://scikit-learn.org/stable/modules/linear_model.html#logistic-regression\n",
      "  n_iter_i = _check_optimize_result(\n"
     ]
    },
    {
     "name": "stdout",
     "output_type": "stream",
     "text": [
      "[CV 5/5] END .................C=100, penalty=l2;, score=0.668 total time=   0.6s\n",
      "[CV 1/5] END ..................C=1000, penalty=l1;, score=nan total time=   0.0s\n",
      "[CV 2/5] END ..................C=1000, penalty=l1;, score=nan total time=   0.0s\n",
      "[CV 3/5] END ..................C=1000, penalty=l1;, score=nan total time=   0.0s\n",
      "[CV 4/5] END ..................C=1000, penalty=l1;, score=nan total time=   0.0s\n",
      "[CV 5/5] END ..................C=1000, penalty=l1;, score=nan total time=   0.0s\n"
     ]
    },
    {
     "name": "stderr",
     "output_type": "stream",
     "text": [
      "C:\\ProgramData\\anaconda3\\envs\\class\\lib\\site-packages\\sklearn\\linear_model\\_logistic.py:460: ConvergenceWarning: lbfgs failed to converge (status=1):\n",
      "STOP: TOTAL NO. of ITERATIONS REACHED LIMIT.\n",
      "\n",
      "Increase the number of iterations (max_iter) or scale the data as shown in:\n",
      "    https://scikit-learn.org/stable/modules/preprocessing.html\n",
      "Please also refer to the documentation for alternative solver options:\n",
      "    https://scikit-learn.org/stable/modules/linear_model.html#logistic-regression\n",
      "  n_iter_i = _check_optimize_result(\n"
     ]
    },
    {
     "name": "stdout",
     "output_type": "stream",
     "text": [
      "[CV 1/5] END ................C=1000, penalty=l2;, score=0.679 total time=   0.6s\n"
     ]
    },
    {
     "name": "stderr",
     "output_type": "stream",
     "text": [
      "C:\\ProgramData\\anaconda3\\envs\\class\\lib\\site-packages\\sklearn\\linear_model\\_logistic.py:460: ConvergenceWarning: lbfgs failed to converge (status=1):\n",
      "STOP: TOTAL NO. of ITERATIONS REACHED LIMIT.\n",
      "\n",
      "Increase the number of iterations (max_iter) or scale the data as shown in:\n",
      "    https://scikit-learn.org/stable/modules/preprocessing.html\n",
      "Please also refer to the documentation for alternative solver options:\n",
      "    https://scikit-learn.org/stable/modules/linear_model.html#logistic-regression\n",
      "  n_iter_i = _check_optimize_result(\n"
     ]
    },
    {
     "name": "stdout",
     "output_type": "stream",
     "text": [
      "[CV 2/5] END ................C=1000, penalty=l2;, score=0.686 total time=   0.6s\n"
     ]
    },
    {
     "name": "stderr",
     "output_type": "stream",
     "text": [
      "C:\\ProgramData\\anaconda3\\envs\\class\\lib\\site-packages\\sklearn\\linear_model\\_logistic.py:460: ConvergenceWarning: lbfgs failed to converge (status=1):\n",
      "STOP: TOTAL NO. of ITERATIONS REACHED LIMIT.\n",
      "\n",
      "Increase the number of iterations (max_iter) or scale the data as shown in:\n",
      "    https://scikit-learn.org/stable/modules/preprocessing.html\n",
      "Please also refer to the documentation for alternative solver options:\n",
      "    https://scikit-learn.org/stable/modules/linear_model.html#logistic-regression\n",
      "  n_iter_i = _check_optimize_result(\n"
     ]
    },
    {
     "name": "stdout",
     "output_type": "stream",
     "text": [
      "[CV 3/5] END ................C=1000, penalty=l2;, score=0.697 total time=   0.6s\n"
     ]
    },
    {
     "name": "stderr",
     "output_type": "stream",
     "text": [
      "C:\\ProgramData\\anaconda3\\envs\\class\\lib\\site-packages\\sklearn\\linear_model\\_logistic.py:460: ConvergenceWarning: lbfgs failed to converge (status=1):\n",
      "STOP: TOTAL NO. of ITERATIONS REACHED LIMIT.\n",
      "\n",
      "Increase the number of iterations (max_iter) or scale the data as shown in:\n",
      "    https://scikit-learn.org/stable/modules/preprocessing.html\n",
      "Please also refer to the documentation for alternative solver options:\n",
      "    https://scikit-learn.org/stable/modules/linear_model.html#logistic-regression\n",
      "  n_iter_i = _check_optimize_result(\n"
     ]
    },
    {
     "name": "stdout",
     "output_type": "stream",
     "text": [
      "[CV 4/5] END ................C=1000, penalty=l2;, score=0.683 total time=   0.6s\n"
     ]
    },
    {
     "name": "stderr",
     "output_type": "stream",
     "text": [
      "C:\\ProgramData\\anaconda3\\envs\\class\\lib\\site-packages\\sklearn\\linear_model\\_logistic.py:460: ConvergenceWarning: lbfgs failed to converge (status=1):\n",
      "STOP: TOTAL NO. of ITERATIONS REACHED LIMIT.\n",
      "\n",
      "Increase the number of iterations (max_iter) or scale the data as shown in:\n",
      "    https://scikit-learn.org/stable/modules/preprocessing.html\n",
      "Please also refer to the documentation for alternative solver options:\n",
      "    https://scikit-learn.org/stable/modules/linear_model.html#logistic-regression\n",
      "  n_iter_i = _check_optimize_result(\n",
      "C:\\ProgramData\\anaconda3\\envs\\class\\lib\\site-packages\\sklearn\\model_selection\\_validation.py:425: FitFailedWarning: \n",
      "25 fits failed out of a total of 50.\n",
      "The score on these train-test partitions for these parameters will be set to nan.\n",
      "If these failures are not expected, you can try to debug them by setting error_score='raise'.\n",
      "\n",
      "Below are more details about the failures:\n",
      "--------------------------------------------------------------------------------\n",
      "25 fits failed with the following error:\n",
      "Traceback (most recent call last):\n",
      "  File \"C:\\ProgramData\\anaconda3\\envs\\class\\lib\\site-packages\\sklearn\\model_selection\\_validation.py\", line 729, in _fit_and_score\n",
      "    estimator.fit(X_train, y_train, **fit_params)\n",
      "  File \"C:\\ProgramData\\anaconda3\\envs\\class\\lib\\site-packages\\sklearn\\base.py\", line 1152, in wrapper\n",
      "    return fit_method(estimator, *args, **kwargs)\n",
      "  File \"C:\\ProgramData\\anaconda3\\envs\\class\\lib\\site-packages\\sklearn\\linear_model\\_logistic.py\", line 1169, in fit\n",
      "    solver = _check_solver(self.solver, self.penalty, self.dual)\n",
      "  File \"C:\\ProgramData\\anaconda3\\envs\\class\\lib\\site-packages\\sklearn\\linear_model\\_logistic.py\", line 56, in _check_solver\n",
      "    raise ValueError(\n",
      "ValueError: Solver lbfgs supports only 'l2' or 'none' penalties, got l1 penalty.\n",
      "\n",
      "  warnings.warn(some_fits_failed_message, FitFailedWarning)\n",
      "C:\\ProgramData\\anaconda3\\envs\\class\\lib\\site-packages\\sklearn\\model_selection\\_search.py:979: UserWarning: One or more of the test scores are non-finite: [     nan 0.53575       nan 0.676125      nan 0.7005        nan 0.685625\n",
      "      nan 0.684125]\n",
      "  warnings.warn(\n"
     ]
    },
    {
     "name": "stdout",
     "output_type": "stream",
     "text": [
      "[CV 5/5] END ................C=1000, penalty=l2;, score=0.675 total time=   0.6s\n",
      "{'C': 10, 'penalty': 'l2'}\n",
      "정확도: 0.7065\n"
     ]
    },
    {
     "name": "stderr",
     "output_type": "stream",
     "text": [
      "C:\\ProgramData\\anaconda3\\envs\\class\\lib\\site-packages\\sklearn\\linear_model\\_logistic.py:460: ConvergenceWarning: lbfgs failed to converge (status=1):\n",
      "STOP: TOTAL NO. of ITERATIONS REACHED LIMIT.\n",
      "\n",
      "Increase the number of iterations (max_iter) or scale the data as shown in:\n",
      "    https://scikit-learn.org/stable/modules/preprocessing.html\n",
      "Please also refer to the documentation for alternative solver options:\n",
      "    https://scikit-learn.org/stable/modules/linear_model.html#logistic-regression\n",
      "  n_iter_i = _check_optimize_result(\n"
     ]
    }
   ],
   "source": [
    "#logistic regression 모델\n",
    "param_grid = {'C': [0.1, 1, 10, 100, 1000], \n",
    "              'penalty': ['l1', 'l2']}\n",
    "\n",
    "grid = GridSearchCV(LogisticRegression(), param_grid, refit=True, verbose=3)\n",
    "\n",
    "grid.fit(tfidfv, y_train)\n",
    "print(grid.best_params_)\n",
    "\n",
    "predicted = grid.predict(tfidfv_test)\n",
    "print(\"정확도:\", accuracy_score(y_test, predicted))"
   ]
  },
  {
   "cell_type": "code",
   "execution_count": null,
   "id": "cf353164",
   "metadata": {},
   "outputs": [],
   "source": []
  }
 ],
 "metadata": {
  "kernelspec": {
   "display_name": "Python 3 (ipykernel)",
   "language": "python",
   "name": "python3"
  },
  "language_info": {
   "codemirror_mode": {
    "name": "ipython",
    "version": 3
   },
   "file_extension": ".py",
   "mimetype": "text/x-python",
   "name": "python",
   "nbconvert_exporter": "python",
   "pygments_lexer": "ipython3",
   "version": "3.8.13"
  }
 },
 "nbformat": 4,
 "nbformat_minor": 5
}
