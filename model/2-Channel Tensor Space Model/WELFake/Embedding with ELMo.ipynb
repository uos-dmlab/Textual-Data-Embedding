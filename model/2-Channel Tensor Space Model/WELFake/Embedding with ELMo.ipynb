{
 "cells": [
  {
   "cell_type": "code",
   "execution_count": null,
   "id": "73a9c89d",
   "metadata": {},
   "outputs": [],
   "source": [
    "#참고링크 https://github.com/allenai/bilm-tf\n",
    "#참고링크 https://appliedmachinelearning.wordpress.com/2019/11/30/training-elmo-from-scratch-on-custom-data-set-for-generating-embeddings-tensorflow/"
   ]
  },
  {
   "cell_type": "code",
   "execution_count": null,
   "id": "d4fab19d",
   "metadata": {},
   "outputs": [],
   "source": [
    "# #cpu 사용\n",
    "# import os\n",
    "# os.environ[\"CUDA_VISIBLE_DEVICES\"] = \"-1\""
   ]
  },
  {
   "cell_type": "markdown",
   "id": "619814a6",
   "metadata": {},
   "source": [
    "# 패키지 임포트"
   ]
  },
  {
   "cell_type": "code",
   "execution_count": 1,
   "id": "e4152cef",
   "metadata": {},
   "outputs": [
    {
     "name": "stderr",
     "output_type": "stream",
     "text": [
      "C:\\ProgramData\\anaconda3\\envs\\elem\\lib\\site-packages\\tensorflow\\python\\framework\\dtypes.py:458: FutureWarning: Passing (type, 1) or '1type' as a synonym of type is deprecated; in a future version of numpy, it will be understood as (type, (1,)) / '(1,)type'.\n",
      "  _np_qint8 = np.dtype([(\"qint8\", np.int8, 1)])\n",
      "C:\\ProgramData\\anaconda3\\envs\\elem\\lib\\site-packages\\tensorflow\\python\\framework\\dtypes.py:459: FutureWarning: Passing (type, 1) or '1type' as a synonym of type is deprecated; in a future version of numpy, it will be understood as (type, (1,)) / '(1,)type'.\n",
      "  _np_quint8 = np.dtype([(\"quint8\", np.uint8, 1)])\n",
      "C:\\ProgramData\\anaconda3\\envs\\elem\\lib\\site-packages\\tensorflow\\python\\framework\\dtypes.py:460: FutureWarning: Passing (type, 1) or '1type' as a synonym of type is deprecated; in a future version of numpy, it will be understood as (type, (1,)) / '(1,)type'.\n",
      "  _np_qint16 = np.dtype([(\"qint16\", np.int16, 1)])\n",
      "C:\\ProgramData\\anaconda3\\envs\\elem\\lib\\site-packages\\tensorflow\\python\\framework\\dtypes.py:461: FutureWarning: Passing (type, 1) or '1type' as a synonym of type is deprecated; in a future version of numpy, it will be understood as (type, (1,)) / '(1,)type'.\n",
      "  _np_quint16 = np.dtype([(\"quint16\", np.uint16, 1)])\n",
      "C:\\ProgramData\\anaconda3\\envs\\elem\\lib\\site-packages\\tensorflow\\python\\framework\\dtypes.py:462: FutureWarning: Passing (type, 1) or '1type' as a synonym of type is deprecated; in a future version of numpy, it will be understood as (type, (1,)) / '(1,)type'.\n",
      "  _np_qint32 = np.dtype([(\"qint32\", np.int32, 1)])\n",
      "C:\\ProgramData\\anaconda3\\envs\\elem\\lib\\site-packages\\tensorflow\\python\\framework\\dtypes.py:465: FutureWarning: Passing (type, 1) or '1type' as a synonym of type is deprecated; in a future version of numpy, it will be understood as (type, (1,)) / '(1,)type'.\n",
      "  np_resource = np.dtype([(\"resource\", np.ubyte, 1)])\n"
     ]
    }
   ],
   "source": [
    "import numpy as np\n",
    "import pandas as pd\n",
    "import os\n",
    "import sys\n",
    "import re\n",
    "import string\n",
    "import nltk\n",
    "import pickle\n",
    "import json\n",
    "sys.path.append('C:/Users/User/Desktop/WELFake')\n",
    "import tensorflow as tf\n",
    "import scipy.spatial.distance as ds\n",
    "from sklearn.preprocessing import LabelEncoder\n",
    "from sklearn.model_selection import train_test_split\n",
    "from bilm import Batcher, BidirectionalLanguageModel, weight_layers\n",
    "from collections import Counter\n",
    "from data_preprocessing import *"
   ]
  },
  {
   "cell_type": "markdown",
   "id": "30e61337",
   "metadata": {},
   "source": [
    "# 데이터 로드"
   ]
  },
  {
   "cell_type": "code",
   "execution_count": 2,
   "id": "fe9b9814",
   "metadata": {},
   "outputs": [],
   "source": [
    "df = pd.read_csv('C:/Users/user/Desktop/bilm-tf-master/textdataset/WELFake/WELFake_Dataset.csv')"
   ]
  },
  {
   "cell_type": "markdown",
   "id": "b167fe81",
   "metadata": {},
   "source": [
    "# 전처리"
   ]
  },
  {
   "cell_type": "code",
   "execution_count": 3,
   "id": "79f70563",
   "metadata": {},
   "outputs": [],
   "source": [
    "df = df.dropna()\n",
    "df.isnull().sum()\n",
    "\n",
    "df.drop(columns=['Unnamed: 0'],inplace=True)\n",
    "\n",
    "df.drop_duplicates(inplace=True)\n",
    "\n",
    "X = df.drop(columns=['label'])\n",
    "y = df['label']\n",
    "\n",
    "X[['title','text']] = X[['title','text']].applymap(lambda x:remove_punctuation(x))\n",
    "X[['title','text']] = X[['title','text']].applymap(lambda x:x.lower())\n",
    "\n",
    "X=X['title']+' '+X['text']\n",
    "\n",
    "X = X.apply(clean_text)\n",
    "X = list(X)\n",
    "\n",
    "pattern = '[^a-z ]'\n",
    "Clean_X=[]\n",
    "for sen in X:\n",
    "    Clean_X.append(re.sub(pattern, '', str(sen)))\n",
    "\n",
    "clean_df = pd.DataFrame({'Clean_X': Clean_X, 'y': y})\n",
    "\n",
    "fake_df = clean_df[clean_df['y'] == 0]\n",
    "real_df = clean_df[clean_df['y'] == 1]\n",
    "\n",
    "fake_x=list(fake_df['Clean_X'])\n",
    "real_x=list(real_df['Clean_X'])\n",
    "\n",
    "real_selected_lst = []\n",
    "fake_selected_lst = []\n",
    "\n",
    "for sen in real_x:\n",
    "    word_count = len(sen.split())\n",
    "    if 10 <= word_count < 2000:\n",
    "        real_selected_lst.append(sen)\n",
    "        \n",
    "for sen in fake_x:\n",
    "    word_count = len(sen.split())\n",
    "    if 10 <= word_count < 2000:\n",
    "        fake_selected_lst.append(sen)\n",
    "        \n",
    "X=real_selected_lst[:10000]+fake_selected_lst[:10000]\n",
    "y=[0]*10000+[1]*10000\n",
    "\n",
    "x_train, x_test, y_train, y_test = train_test_split(X, y, test_size=0.2, random_state=42)\n",
    "to_txt=x_train+x_test"
   ]
  },
  {
   "cell_type": "markdown",
   "id": "20bfbd42",
   "metadata": {},
   "source": [
    "# 사전 학습 ELMo 불러오기"
   ]
  },
  {
   "cell_type": "code",
   "execution_count": 4,
   "id": "b7c7ff17",
   "metadata": {},
   "outputs": [
    {
     "name": "stdout",
     "output_type": "stream",
     "text": [
      "USING SKIP CONNECTIONS\n",
      "[['Technology', 'has', 'advanced', 'so', 'much', 'in', 'new', 'scientific', 'world'], ['My', 'child', 'participated', 'in', 'fancy', 'dress', 'competition'], ['Fashion', 'industry', 'has', 'seen', 'tremendous', 'growth', 'in', 'new', 'designs']]\n"
     ]
    }
   ],
   "source": [
    "#사전 학습된 모델이 있는 디렉토리\n",
    "datadir = 'elmo_model(WELFake256)'\n",
    "vocab_file = os.path.join(datadir, 'vocab.txt')\n",
    "options_file = os.path.join(datadir, 'options.json')\n",
    "weight_file = os.path.join(datadir, 'swb_weights.hdf5')\n",
    " \n",
    "batcher = Batcher(vocab_file, 50)\n",
    " \n",
    "context_character_ids = tf.placeholder('int32', shape=(None, None, 50))\n",
    " \n",
    "bilm = BidirectionalLanguageModel(options_file, weight_file)\n",
    " \n",
    "context_embeddings_op = bilm(context_character_ids)\n",
    " \n",
    "elmo_context_input = weight_layers('input', context_embeddings_op, l2_coef=0.0)\n",
    "\n",
    "#테스트 임베딩\n",
    "raw_context = ['Technology has advanced so much in new scientific world',\n",
    "                'My child participated in fancy dress competition',\n",
    "                'Fashion industry has seen tremendous growth in new designs']\n",
    " \n",
    "tokenized_context = [sentence.split() for sentence in raw_context]\n",
    "print(tokenized_context)"
   ]
  },
  {
   "cell_type": "code",
   "execution_count": 5,
   "id": "88a9744d",
   "metadata": {},
   "outputs": [
    {
     "name": "stdout",
     "output_type": "stream",
     "text": [
      "Shape of context ids =  (3, 11, 50)\n",
      "Shape of generated embeddings =  (3, 9, 256)\n"
     ]
    }
   ],
   "source": [
    "with tf.Session() as sess:    \n",
    "    sess.run(tf.global_variables_initializer())     \n",
    "    context_ids = batcher.batch_sentences(tokenized_context)\n",
    "    print(\"Shape of context ids = \", context_ids.shape)\n",
    "    elmo_context_input_ = sess.run(\n",
    "        elmo_context_input['weighted_op'],\n",
    "        feed_dict={context_character_ids: context_ids}\n",
    "    )\n",
    " \n",
    "print(\"Shape of generated embeddings = \",elmo_context_input_.shape)"
   ]
  },
  {
   "cell_type": "code",
   "execution_count": 6,
   "id": "7a5e5f0e",
   "metadata": {},
   "outputs": [
    {
     "name": "stdout",
     "output_type": "stream",
     "text": [
      "Euclidean Distance Comparison - \n",
      "\n",
      "Dress-Technology =  10.67 \n",
      "Dress-Fashion =  10.56\n",
      "\n",
      "\n",
      "Cosine Distance Comparison - \n",
      "\n",
      "Dress-Technology =  0.66 \n",
      "Dress-Fashion =  0.74\n"
     ]
    }
   ],
   "source": [
    "euc_dist_bet_tech_computer = np.linalg.norm(elmo_context_input_[1,5,:]-elmo_context_input_[0,0,:])\n",
    "euc_dist_bet_computer_fashion = np.linalg.norm(elmo_context_input_[1,5,:]-elmo_context_input_[2,0,:])\n",
    "cos_dist_bet_tech_computer = ds.cosine(elmo_context_input_[1,5,:],elmo_context_input_[0,0,:])\n",
    "cos_dist_bet_computer_fashion = ds.cosine(elmo_context_input_[1,5,:],elmo_context_input_[2,0,:])\n",
    " \n",
    "print(\"Euclidean Distance Comparison - \")\n",
    "print(\"\\nDress-Technology = \",np.round(euc_dist_bet_tech_computer,2),\"\\nDress-Fashion = \",\n",
    "      np.round(euc_dist_bet_computer_fashion,2))\n",
    "print(\"\\n\\nCosine Distance Comparison - \")\n",
    "print(\"\\nDress-Technology = \",np.round(cos_dist_bet_tech_computer,2),\"\\nDress-Fashion = \",\n",
    "      np.round(cos_dist_bet_computer_fashion,2))"
   ]
  },
  {
   "cell_type": "markdown",
   "id": "3f649384",
   "metadata": {},
   "source": [
    "임베딩"
   ]
  },
  {
   "cell_type": "code",
   "execution_count": 7,
   "id": "b7a3f9df",
   "metadata": {},
   "outputs": [],
   "source": [
    "#메모리 오류로 임베딩 되지 않는 문서의 인덱스를 찾기위한 리스트\n",
    "except_lst=[]"
   ]
  },
  {
   "cell_type": "code",
   "execution_count": null,
   "id": "dba81315",
   "metadata": {},
   "outputs": [
    {
     "name": "stdout",
     "output_type": "stream",
     "text": [
      "Shape of generated embeddings =  (1, 684, 256)\n",
      "Shape of generated embeddings =  (1, 431, 256)\n",
      "Shape of generated embeddings =  (1, 360, 256)\n",
      "Shape of generated embeddings =  (1, 57, 256)\n",
      "Shape of generated embeddings =  (1, 286, 256)\n",
      "Shape of generated embeddings =  (1, 349, 256)\n",
      "Shape of generated embeddings =  (1, 327, 256)\n",
      "Shape of generated embeddings =  (1, 37, 256)\n",
      "Shape of generated embeddings =  (1, 773, 256)\n"
     ]
    }
   ],
   "source": [
    "for i in range(16000):\n",
    "    try:\n",
    "        with tf.Session() as sess:\n",
    "            sess.run(tf.global_variables_initializer())\n",
    "            context_ids = batcher.batch_sentences([x_train[i].split()])\n",
    "            elmo_context_input_ = sess.run(elmo_context_input['weighted_op'],feed_dict={context_character_ids: context_ids}) \n",
    "        print(\"Shape of generated embeddings = \",elmo_context_input_.shape)\n",
    "        np.save('./elmo_embedding/train(WELFake256)/doc%d'%i,elmo_context_input_[0])\n",
    "    except:\n",
    "        except_lst.append(i)"
   ]
  },
  {
   "cell_type": "code",
   "execution_count": null,
   "id": "83b270e7",
   "metadata": {},
   "outputs": [],
   "source": [
    "except_lst"
   ]
  },
  {
   "cell_type": "code",
   "execution_count": null,
   "id": "13f4a3fc",
   "metadata": {},
   "outputs": [],
   "source": [
    "except_test_lst=[]"
   ]
  },
  {
   "cell_type": "code",
   "execution_count": null,
   "id": "b6552895",
   "metadata": {
    "scrolled": true
   },
   "outputs": [],
   "source": [
    "for i in range(len(x_test)):\n",
    "    try:\n",
    "        with tf.Session() as sess:\n",
    "            sess.run(tf.global_variables_initializer())\n",
    "            context_ids = batcher.batch_sentences([x_test[i].split()])\n",
    "            elmo_context_input_ = sess.run(elmo_context_input['weighted_op'],feed_dict={context_character_ids: context_ids}) \n",
    "        print(\"Shape of generated embeddings = \",elmo_context_input_.shape)\n",
    "        np.save('./elmo_embedding/test(WELFake256)/test%d'%i,elmo_context_input_[0])\n",
    "    except:\n",
    "        except_test_lst.append(i)"
   ]
  },
  {
   "cell_type": "code",
   "execution_count": 19,
   "id": "9e9d4dcd",
   "metadata": {},
   "outputs": [
    {
     "data": {
      "text/plain": [
       "[]"
      ]
     },
     "execution_count": 19,
     "metadata": {},
     "output_type": "execute_result"
    }
   ],
   "source": [
    "except_test_lst"
   ]
  },
  {
   "cell_type": "code",
   "execution_count": null,
   "id": "04f08b01",
   "metadata": {},
   "outputs": [],
   "source": []
  },
  {
   "cell_type": "code",
   "execution_count": null,
   "id": "721a2a82",
   "metadata": {},
   "outputs": [],
   "source": []
  },
  {
   "cell_type": "code",
   "execution_count": null,
   "id": "9de4eb59",
   "metadata": {},
   "outputs": [],
   "source": []
  },
  {
   "cell_type": "code",
   "execution_count": null,
   "id": "3f7fb7f2",
   "metadata": {},
   "outputs": [],
   "source": []
  }
 ],
 "metadata": {
  "kernelspec": {
   "display_name": "Python 3 (ipykernel)",
   "language": "python",
   "name": "python3"
  },
  "language_info": {
   "codemirror_mode": {
    "name": "ipython",
    "version": 3
   },
   "file_extension": ".py",
   "mimetype": "text/x-python",
   "name": "python",
   "nbconvert_exporter": "python",
   "pygments_lexer": "ipython3",
   "version": "3.8.13"
  }
 },
 "nbformat": 4,
 "nbformat_minor": 5
}
