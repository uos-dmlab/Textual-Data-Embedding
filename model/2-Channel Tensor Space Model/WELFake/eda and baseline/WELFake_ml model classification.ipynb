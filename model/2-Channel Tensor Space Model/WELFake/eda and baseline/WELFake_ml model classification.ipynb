{
 "cells": [
  {
   "cell_type": "markdown",
   "id": "7830afb1",
   "metadata": {},
   "source": [
    "# 패키지 임포트"
   ]
  },
  {
   "cell_type": "code",
   "execution_count": 1,
   "id": "dcf0dc58-475a-4193-b41f-81d32ed54dd4",
   "metadata": {},
   "outputs": [],
   "source": [
    "import numpy as np\n",
    "import pandas as pd\n",
    "from sklearn.preprocessing import LabelEncoder\n",
    "from sklearn.feature_selection import SelectKBest\n",
    "from sklearn.feature_selection import chi2\n",
    "from sklearn.feature_extraction.text import CountVectorizer\n",
    "from sklearn.feature_extraction.text import TfidfTransformer\n",
    "from sklearn.svm import LinearSVC\n",
    "from sklearn.linear_model import LogisticRegression\n",
    "from sklearn.naive_bayes import MultinomialNB\n",
    "from sklearn.model_selection import GridSearchCV\n",
    "from sklearn.metrics import accuracy_score, f1_score\n",
    "from sklearn.model_selection import train_test_split\n",
    "import sys\n",
    "sys.path.append('C:/Users/User/Desktop/WELFake')\n",
    "from data_preprocessing import *"
   ]
  },
  {
   "cell_type": "markdown",
   "id": "91b909dc-b34d-43a1-8a49-4abf749e6a80",
   "metadata": {},
   "source": [
    "# 데이터 로드"
   ]
  },
  {
   "cell_type": "code",
   "execution_count": 2,
   "id": "b2f7d5b7-1ed9-4721-a72b-4942e0a3bbf7",
   "metadata": {},
   "outputs": [],
   "source": [
    "df = pd.read_csv('C:/Users/user/Desktop/bilm-tf-master/textdataset/WELFake/WELFake_Dataset.csv')"
   ]
  },
  {
   "cell_type": "markdown",
   "id": "6c23ca48-d475-42af-a998-bb3eb422daaf",
   "metadata": {},
   "source": [
    "# 전처리"
   ]
  },
  {
   "cell_type": "code",
   "execution_count": 3,
   "id": "83e2c864-fd3f-45b6-bc2e-13fcb90557d6",
   "metadata": {},
   "outputs": [],
   "source": [
    "df = df.dropna()\n",
    "df.isnull().sum()\n",
    "\n",
    "df.drop(columns=['Unnamed: 0'],inplace=True)\n",
    "\n",
    "df.drop_duplicates(inplace=True)\n",
    "\n",
    "X = df.drop(columns=['label'])\n",
    "y = df['label']\n",
    "\n",
    "X[['title','text']] = X[['title','text']].applymap(lambda x:remove_punctuation(x))\n",
    "X[['title','text']] = X[['title','text']].applymap(lambda x:x.lower())\n",
    "\n",
    "X=X['title']+' '+X['text']\n",
    "\n",
    "X = X.apply(clean_text)\n",
    "X = list(X)\n",
    "\n",
    "pattern = '[^a-z ]'\n",
    "Clean_X=[]\n",
    "for sen in X:\n",
    "    Clean_X.append(re.sub(pattern, '', str(sen)))\n",
    "\n",
    "clean_df = pd.DataFrame({'Clean_X': Clean_X, 'y': y})\n",
    "\n",
    "fake_df = clean_df[clean_df['y'] == 0]\n",
    "real_df = clean_df[clean_df['y'] == 1]\n",
    "\n",
    "fake_x=list(fake_df['Clean_X'])\n",
    "real_x=list(real_df['Clean_X'])\n",
    "\n",
    "real_selected_lst = []\n",
    "fake_selected_lst = []\n",
    "\n",
    "for sen in real_x:\n",
    "    word_count = len(sen.split())\n",
    "    if 10 <= word_count < 2000:\n",
    "        real_selected_lst.append(sen)\n",
    "        \n",
    "for sen in fake_x:\n",
    "    word_count = len(sen.split())\n",
    "    if 10 <= word_count < 2000:\n",
    "        fake_selected_lst.append(sen)\n",
    "        \n",
    "X=real_selected_lst[:10000]+fake_selected_lst[:10000]\n",
    "y=[0]*10000+[1]*10000\n",
    "\n",
    "x_train, x_test, y_train, y_test = train_test_split(X, y, test_size=0.2, random_state=42)\n",
    "to_txt=x_train+x_test\n",
    "y=y_train+y_test"
   ]
  },
  {
   "cell_type": "code",
   "execution_count": 4,
   "id": "91e8ed91",
   "metadata": {},
   "outputs": [],
   "source": [
    "#불용어 불러오기\n",
    "with open('C:/Users/user/Desktop/english.txt', 'r', encoding='utf-8') as file:\n",
    "    stopwords = [line.strip() for line in file]"
   ]
  },
  {
   "cell_type": "code",
   "execution_count": 5,
   "id": "6c8d175e",
   "metadata": {},
   "outputs": [
    {
     "name": "stderr",
     "output_type": "stream",
     "text": [
      "C:\\ProgramData\\anaconda3\\envs\\class\\lib\\site-packages\\sklearn\\feature_extraction\\text.py:408: UserWarning: Your stop_words may be inconsistent with your preprocessing. Tokenizing the stop words generated tokens ['ain', 'daren', 'hadn', 'herse', 'himse', 'itse', 'mayn', 'mightn', 'mon', 'mustn', 'myse', 'needn', 'oughtn', 'shan'] not in stop_words.\n",
      "  warnings.warn(\n"
     ]
    }
   ],
   "source": [
    "#단어 10000개 선별\n",
    "vect = CountVectorizer(stop_words=stopwords)\n",
    "X_dtm = vect.fit_transform(to_txt)\n",
    "X_dtm = X_dtm.toarray()\n",
    "X_new = SelectKBest(chi2, k=10000).fit(X_dtm, y)\n",
    "TorF = X_new.get_support()\n",
    "word_view=np.array(vect.get_feature_names_out())\n",
    "sw=word_view[TorF]"
   ]
  },
  {
   "cell_type": "code",
   "execution_count": 6,
   "id": "4b18cb29",
   "metadata": {},
   "outputs": [],
   "source": [
    "#훈련데이터에서 선별한 10000개 단어 이외 단어는 <ukn>으로 변경\n",
    "train_transe=[]\n",
    "for i in range(len(x_train)):\n",
    "    a=x_train[i].split()\n",
    "    for j in range(len(a)):\n",
    "        if a[j] not in sw:\n",
    "            a[j] = '<ukn>'\n",
    "    train_transe.append(' '.join(a))"
   ]
  },
  {
   "cell_type": "code",
   "execution_count": 7,
   "id": "c0b571b4",
   "metadata": {},
   "outputs": [],
   "source": [
    "#테스트데이터에서 선별한 10000개 단어 이외 단어는 <ukn>으로 변경\n",
    "test_transe=[]\n",
    "for i in range(len(x_test)):\n",
    "    a=x_test[i].split()\n",
    "    for j in range(len(a)):\n",
    "        if a[j] not in sw:\n",
    "            a[j] = '<ukn>'\n",
    "    test_transe.append(' '.join(a))"
   ]
  },
  {
   "cell_type": "code",
   "execution_count": 8,
   "id": "407415e7",
   "metadata": {},
   "outputs": [],
   "source": [
    "# DTM 확인\n",
    "dtmvector = CountVectorizer()\n",
    "x_train_dtm = dtmvector.fit_transform(train_transe)\n",
    "# print(x_train.shape)\n",
    "\n",
    "# 테스트데이터\n",
    "x_test_dtm = dtmvector.transform(test_transe) #테스트 데이터를 DTM으로 변환"
   ]
  },
  {
   "cell_type": "code",
   "execution_count": 9,
   "id": "f1cdcb2e",
   "metadata": {},
   "outputs": [
    {
     "name": "stdout",
     "output_type": "stream",
     "text": [
      "(16000, 9931)\n"
     ]
    }
   ],
   "source": [
    "# TF-IDF Matrix확인\n",
    "tfidf_transformer = TfidfTransformer()\n",
    "tfidfv = tfidf_transformer.fit_transform(x_train_dtm)\n",
    "print(tfidfv.shape)\n",
    "\n",
    "# 테스트데이터\n",
    "tfidfv_test = tfidf_transformer.transform(x_test_dtm) #DTM을 TF-IDF 행렬로 변환"
   ]
  },
  {
   "cell_type": "markdown",
   "id": "1ab88406-f798-4427-99eb-a2646f0b9094",
   "metadata": {},
   "source": [
    "# 전통적인 머신러닝 모델로 학습"
   ]
  },
  {
   "cell_type": "code",
   "execution_count": 10,
   "id": "77bdf603",
   "metadata": {
    "scrolled": true
   },
   "outputs": [
    {
     "name": "stdout",
     "output_type": "stream",
     "text": [
      "Fitting 5 folds for each of 10 candidates, totalling 50 fits\n",
      "[CV 1/5] END .................C=0.1, penalty=l1;, score=0.846 total time=   0.0s\n"
     ]
    },
    {
     "name": "stderr",
     "output_type": "stream",
     "text": [
      "C:\\ProgramData\\anaconda3\\envs\\class\\lib\\site-packages\\sklearn\\svm\\_base.py:1250: ConvergenceWarning: Liblinear failed to converge, increase the number of iterations.\n",
      "  warnings.warn(\n",
      "C:\\ProgramData\\anaconda3\\envs\\class\\lib\\site-packages\\sklearn\\svm\\_base.py:1250: ConvergenceWarning: Liblinear failed to converge, increase the number of iterations.\n",
      "  warnings.warn(\n"
     ]
    },
    {
     "name": "stdout",
     "output_type": "stream",
     "text": [
      "[CV 2/5] END .................C=0.1, penalty=l1;, score=0.848 total time=   0.0s\n",
      "[CV 3/5] END .................C=0.1, penalty=l1;, score=0.855 total time=   0.0s\n"
     ]
    },
    {
     "name": "stderr",
     "output_type": "stream",
     "text": [
      "C:\\ProgramData\\anaconda3\\envs\\class\\lib\\site-packages\\sklearn\\svm\\_base.py:1250: ConvergenceWarning: Liblinear failed to converge, increase the number of iterations.\n",
      "  warnings.warn(\n",
      "C:\\ProgramData\\anaconda3\\envs\\class\\lib\\site-packages\\sklearn\\svm\\_base.py:1250: ConvergenceWarning: Liblinear failed to converge, increase the number of iterations.\n",
      "  warnings.warn(\n"
     ]
    },
    {
     "name": "stdout",
     "output_type": "stream",
     "text": [
      "[CV 4/5] END .................C=0.1, penalty=l1;, score=0.840 total time=   0.0s\n",
      "[CV 5/5] END .................C=0.1, penalty=l1;, score=0.855 total time=   0.0s\n",
      "[CV 1/5] END .................C=0.1, penalty=l2;, score=0.860 total time=   0.0s\n"
     ]
    },
    {
     "name": "stderr",
     "output_type": "stream",
     "text": [
      "C:\\ProgramData\\anaconda3\\envs\\class\\lib\\site-packages\\sklearn\\svm\\_base.py:1250: ConvergenceWarning: Liblinear failed to converge, increase the number of iterations.\n",
      "  warnings.warn(\n"
     ]
    },
    {
     "name": "stdout",
     "output_type": "stream",
     "text": [
      "[CV 2/5] END .................C=0.1, penalty=l2;, score=0.846 total time=   0.0s\n",
      "[CV 3/5] END .................C=0.1, penalty=l2;, score=0.861 total time=   0.0s\n",
      "[CV 4/5] END .................C=0.1, penalty=l2;, score=0.849 total time=   0.0s\n",
      "[CV 5/5] END .................C=0.1, penalty=l2;, score=0.854 total time=   0.0s\n"
     ]
    },
    {
     "name": "stderr",
     "output_type": "stream",
     "text": [
      "C:\\ProgramData\\anaconda3\\envs\\class\\lib\\site-packages\\sklearn\\svm\\_base.py:1250: ConvergenceWarning: Liblinear failed to converge, increase the number of iterations.\n",
      "  warnings.warn(\n"
     ]
    },
    {
     "name": "stdout",
     "output_type": "stream",
     "text": [
      "[CV 1/5] END ...................C=1, penalty=l1;, score=0.914 total time=   0.8s\n"
     ]
    },
    {
     "name": "stderr",
     "output_type": "stream",
     "text": [
      "C:\\ProgramData\\anaconda3\\envs\\class\\lib\\site-packages\\sklearn\\svm\\_base.py:1250: ConvergenceWarning: Liblinear failed to converge, increase the number of iterations.\n",
      "  warnings.warn(\n"
     ]
    },
    {
     "name": "stdout",
     "output_type": "stream",
     "text": [
      "[CV 2/5] END ...................C=1, penalty=l1;, score=0.911 total time=   0.9s\n"
     ]
    },
    {
     "name": "stderr",
     "output_type": "stream",
     "text": [
      "C:\\ProgramData\\anaconda3\\envs\\class\\lib\\site-packages\\sklearn\\svm\\_base.py:1250: ConvergenceWarning: Liblinear failed to converge, increase the number of iterations.\n",
      "  warnings.warn(\n"
     ]
    },
    {
     "name": "stdout",
     "output_type": "stream",
     "text": [
      "[CV 3/5] END ...................C=1, penalty=l1;, score=0.930 total time=   0.9s\n"
     ]
    },
    {
     "name": "stderr",
     "output_type": "stream",
     "text": [
      "C:\\ProgramData\\anaconda3\\envs\\class\\lib\\site-packages\\sklearn\\svm\\_base.py:1250: ConvergenceWarning: Liblinear failed to converge, increase the number of iterations.\n",
      "  warnings.warn(\n"
     ]
    },
    {
     "name": "stdout",
     "output_type": "stream",
     "text": [
      "[CV 4/5] END ...................C=1, penalty=l1;, score=0.914 total time=   0.8s\n"
     ]
    },
    {
     "name": "stderr",
     "output_type": "stream",
     "text": [
      "C:\\ProgramData\\anaconda3\\envs\\class\\lib\\site-packages\\sklearn\\svm\\_base.py:1250: ConvergenceWarning: Liblinear failed to converge, increase the number of iterations.\n",
      "  warnings.warn(\n"
     ]
    },
    {
     "name": "stdout",
     "output_type": "stream",
     "text": [
      "[CV 5/5] END ...................C=1, penalty=l1;, score=0.913 total time=   0.9s\n",
      "[CV 1/5] END ...................C=1, penalty=l2;, score=0.917 total time=   0.0s\n",
      "[CV 2/5] END ...................C=1, penalty=l2;, score=0.906 total time=   0.0s\n",
      "[CV 3/5] END ...................C=1, penalty=l2;, score=0.924 total time=   0.0s\n",
      "[CV 4/5] END ...................C=1, penalty=l2;, score=0.907 total time=   0.0s\n",
      "[CV 5/5] END ...................C=1, penalty=l2;, score=0.914 total time=   0.0s\n"
     ]
    },
    {
     "name": "stderr",
     "output_type": "stream",
     "text": [
      "C:\\ProgramData\\anaconda3\\envs\\class\\lib\\site-packages\\sklearn\\svm\\_base.py:1250: ConvergenceWarning: Liblinear failed to converge, increase the number of iterations.\n",
      "  warnings.warn(\n"
     ]
    },
    {
     "name": "stdout",
     "output_type": "stream",
     "text": [
      "[CV 1/5] END ..................C=10, penalty=l1;, score=0.927 total time=   1.8s\n"
     ]
    },
    {
     "name": "stderr",
     "output_type": "stream",
     "text": [
      "C:\\ProgramData\\anaconda3\\envs\\class\\lib\\site-packages\\sklearn\\svm\\_base.py:1250: ConvergenceWarning: Liblinear failed to converge, increase the number of iterations.\n",
      "  warnings.warn(\n"
     ]
    },
    {
     "name": "stdout",
     "output_type": "stream",
     "text": [
      "[CV 2/5] END ..................C=10, penalty=l1;, score=0.925 total time=   1.9s\n"
     ]
    },
    {
     "name": "stderr",
     "output_type": "stream",
     "text": [
      "C:\\ProgramData\\anaconda3\\envs\\class\\lib\\site-packages\\sklearn\\svm\\_base.py:1250: ConvergenceWarning: Liblinear failed to converge, increase the number of iterations.\n",
      "  warnings.warn(\n"
     ]
    },
    {
     "name": "stdout",
     "output_type": "stream",
     "text": [
      "[CV 3/5] END ..................C=10, penalty=l1;, score=0.930 total time=   1.9s\n"
     ]
    },
    {
     "name": "stderr",
     "output_type": "stream",
     "text": [
      "C:\\ProgramData\\anaconda3\\envs\\class\\lib\\site-packages\\sklearn\\svm\\_base.py:1250: ConvergenceWarning: Liblinear failed to converge, increase the number of iterations.\n",
      "  warnings.warn(\n"
     ]
    },
    {
     "name": "stdout",
     "output_type": "stream",
     "text": [
      "[CV 4/5] END ..................C=10, penalty=l1;, score=0.925 total time=   1.9s\n"
     ]
    },
    {
     "name": "stderr",
     "output_type": "stream",
     "text": [
      "C:\\ProgramData\\anaconda3\\envs\\class\\lib\\site-packages\\sklearn\\svm\\_base.py:1250: ConvergenceWarning: Liblinear failed to converge, increase the number of iterations.\n",
      "  warnings.warn(\n"
     ]
    },
    {
     "name": "stdout",
     "output_type": "stream",
     "text": [
      "[CV 5/5] END ..................C=10, penalty=l1;, score=0.920 total time=   1.9s\n",
      "[CV 1/5] END ..................C=10, penalty=l2;, score=0.935 total time=   0.0s\n",
      "[CV 2/5] END ..................C=10, penalty=l2;, score=0.931 total time=   0.0s\n",
      "[CV 3/5] END ..................C=10, penalty=l2;, score=0.941 total time=   0.0s\n",
      "[CV 4/5] END ..................C=10, penalty=l2;, score=0.938 total time=   0.0s\n",
      "[CV 5/5] END ..................C=10, penalty=l2;, score=0.933 total time=   0.0s\n"
     ]
    },
    {
     "name": "stderr",
     "output_type": "stream",
     "text": [
      "C:\\ProgramData\\anaconda3\\envs\\class\\lib\\site-packages\\sklearn\\svm\\_base.py:1250: ConvergenceWarning: Liblinear failed to converge, increase the number of iterations.\n",
      "  warnings.warn(\n"
     ]
    },
    {
     "name": "stdout",
     "output_type": "stream",
     "text": [
      "[CV 1/5] END .................C=100, penalty=l1;, score=0.914 total time=   1.7s\n"
     ]
    },
    {
     "name": "stderr",
     "output_type": "stream",
     "text": [
      "C:\\ProgramData\\anaconda3\\envs\\class\\lib\\site-packages\\sklearn\\svm\\_base.py:1250: ConvergenceWarning: Liblinear failed to converge, increase the number of iterations.\n",
      "  warnings.warn(\n"
     ]
    },
    {
     "name": "stdout",
     "output_type": "stream",
     "text": [
      "[CV 2/5] END .................C=100, penalty=l1;, score=0.913 total time=   1.7s\n"
     ]
    },
    {
     "name": "stderr",
     "output_type": "stream",
     "text": [
      "C:\\ProgramData\\anaconda3\\envs\\class\\lib\\site-packages\\sklearn\\svm\\_base.py:1250: ConvergenceWarning: Liblinear failed to converge, increase the number of iterations.\n",
      "  warnings.warn(\n"
     ]
    },
    {
     "name": "stdout",
     "output_type": "stream",
     "text": [
      "[CV 3/5] END .................C=100, penalty=l1;, score=0.917 total time=   1.8s\n"
     ]
    },
    {
     "name": "stderr",
     "output_type": "stream",
     "text": [
      "C:\\ProgramData\\anaconda3\\envs\\class\\lib\\site-packages\\sklearn\\svm\\_base.py:1250: ConvergenceWarning: Liblinear failed to converge, increase the number of iterations.\n",
      "  warnings.warn(\n"
     ]
    },
    {
     "name": "stdout",
     "output_type": "stream",
     "text": [
      "[CV 4/5] END .................C=100, penalty=l1;, score=0.922 total time=   1.8s\n"
     ]
    },
    {
     "name": "stderr",
     "output_type": "stream",
     "text": [
      "C:\\ProgramData\\anaconda3\\envs\\class\\lib\\site-packages\\sklearn\\svm\\_base.py:1250: ConvergenceWarning: Liblinear failed to converge, increase the number of iterations.\n",
      "  warnings.warn(\n"
     ]
    },
    {
     "name": "stdout",
     "output_type": "stream",
     "text": [
      "[CV 5/5] END .................C=100, penalty=l1;, score=0.909 total time=   1.8s\n",
      "[CV 1/5] END .................C=100, penalty=l2;, score=0.922 total time=   0.4s\n",
      "[CV 2/5] END .................C=100, penalty=l2;, score=0.925 total time=   0.4s\n",
      "[CV 3/5] END .................C=100, penalty=l2;, score=0.927 total time=   0.4s\n",
      "[CV 4/5] END .................C=100, penalty=l2;, score=0.928 total time=   0.6s\n",
      "[CV 5/5] END .................C=100, penalty=l2;, score=0.917 total time=   0.6s\n"
     ]
    },
    {
     "name": "stderr",
     "output_type": "stream",
     "text": [
      "C:\\ProgramData\\anaconda3\\envs\\class\\lib\\site-packages\\sklearn\\svm\\_base.py:1250: ConvergenceWarning: Liblinear failed to converge, increase the number of iterations.\n",
      "  warnings.warn(\n"
     ]
    },
    {
     "name": "stdout",
     "output_type": "stream",
     "text": [
      "[CV 1/5] END ................C=1000, penalty=l1;, score=0.919 total time=   2.2s\n"
     ]
    },
    {
     "name": "stderr",
     "output_type": "stream",
     "text": [
      "C:\\ProgramData\\anaconda3\\envs\\class\\lib\\site-packages\\sklearn\\svm\\_base.py:1250: ConvergenceWarning: Liblinear failed to converge, increase the number of iterations.\n",
      "  warnings.warn(\n"
     ]
    },
    {
     "name": "stdout",
     "output_type": "stream",
     "text": [
      "[CV 2/5] END ................C=1000, penalty=l1;, score=0.912 total time=   2.1s\n"
     ]
    },
    {
     "name": "stderr",
     "output_type": "stream",
     "text": [
      "C:\\ProgramData\\anaconda3\\envs\\class\\lib\\site-packages\\sklearn\\svm\\_base.py:1250: ConvergenceWarning: Liblinear failed to converge, increase the number of iterations.\n",
      "  warnings.warn(\n"
     ]
    },
    {
     "name": "stdout",
     "output_type": "stream",
     "text": [
      "[CV 3/5] END ................C=1000, penalty=l1;, score=0.911 total time=   2.1s\n"
     ]
    },
    {
     "name": "stderr",
     "output_type": "stream",
     "text": [
      "C:\\ProgramData\\anaconda3\\envs\\class\\lib\\site-packages\\sklearn\\svm\\_base.py:1250: ConvergenceWarning: Liblinear failed to converge, increase the number of iterations.\n",
      "  warnings.warn(\n"
     ]
    },
    {
     "name": "stdout",
     "output_type": "stream",
     "text": [
      "[CV 4/5] END ................C=1000, penalty=l1;, score=0.922 total time=   2.2s\n"
     ]
    },
    {
     "name": "stderr",
     "output_type": "stream",
     "text": [
      "C:\\ProgramData\\anaconda3\\envs\\class\\lib\\site-packages\\sklearn\\svm\\_base.py:1250: ConvergenceWarning: Liblinear failed to converge, increase the number of iterations.\n",
      "  warnings.warn(\n"
     ]
    },
    {
     "name": "stdout",
     "output_type": "stream",
     "text": [
      "[CV 5/5] END ................C=1000, penalty=l1;, score=0.911 total time=   2.1s\n"
     ]
    },
    {
     "name": "stderr",
     "output_type": "stream",
     "text": [
      "C:\\ProgramData\\anaconda3\\envs\\class\\lib\\site-packages\\sklearn\\svm\\_base.py:1250: ConvergenceWarning: Liblinear failed to converge, increase the number of iterations.\n",
      "  warnings.warn(\n"
     ]
    },
    {
     "name": "stdout",
     "output_type": "stream",
     "text": [
      "[CV 1/5] END ................C=1000, penalty=l2;, score=0.911 total time=   1.6s\n"
     ]
    },
    {
     "name": "stderr",
     "output_type": "stream",
     "text": [
      "C:\\ProgramData\\anaconda3\\envs\\class\\lib\\site-packages\\sklearn\\svm\\_base.py:1250: ConvergenceWarning: Liblinear failed to converge, increase the number of iterations.\n",
      "  warnings.warn(\n"
     ]
    },
    {
     "name": "stdout",
     "output_type": "stream",
     "text": [
      "[CV 2/5] END ................C=1000, penalty=l2;, score=0.916 total time=   1.6s\n"
     ]
    },
    {
     "name": "stderr",
     "output_type": "stream",
     "text": [
      "C:\\ProgramData\\anaconda3\\envs\\class\\lib\\site-packages\\sklearn\\svm\\_base.py:1250: ConvergenceWarning: Liblinear failed to converge, increase the number of iterations.\n",
      "  warnings.warn(\n"
     ]
    },
    {
     "name": "stdout",
     "output_type": "stream",
     "text": [
      "[CV 3/5] END ................C=1000, penalty=l2;, score=0.914 total time=   1.6s\n"
     ]
    },
    {
     "name": "stderr",
     "output_type": "stream",
     "text": [
      "C:\\ProgramData\\anaconda3\\envs\\class\\lib\\site-packages\\sklearn\\svm\\_base.py:1250: ConvergenceWarning: Liblinear failed to converge, increase the number of iterations.\n",
      "  warnings.warn(\n"
     ]
    },
    {
     "name": "stdout",
     "output_type": "stream",
     "text": [
      "[CV 4/5] END ................C=1000, penalty=l2;, score=0.919 total time=   1.6s\n",
      "[CV 5/5] END ................C=1000, penalty=l2;, score=0.907 total time=   1.5s\n",
      "{'C': 10, 'penalty': 'l2'}\n",
      "정확도: 0.94525\n"
     ]
    },
    {
     "name": "stderr",
     "output_type": "stream",
     "text": [
      "C:\\ProgramData\\anaconda3\\envs\\class\\lib\\site-packages\\sklearn\\svm\\_base.py:1250: ConvergenceWarning: Liblinear failed to converge, increase the number of iterations.\n",
      "  warnings.warn(\n"
     ]
    }
   ],
   "source": [
    "# SVM 모델\n",
    "param_grid = {'C': [0.1, 1, 10, 100, 1000], \n",
    "              'penalty': ['l1', 'l2']}\n",
    "\n",
    "grid = GridSearchCV(LinearSVC(max_iter=500, dual=False), param_grid, refit=True, verbose=3)\n",
    "\n",
    "grid.fit(tfidfv, y_train)\n",
    "print(grid.best_params_)\n",
    "\n",
    "predicted = grid.predict(tfidfv_test)\n",
    "print(\"정확도:\", accuracy_score(y_test, predicted))"
   ]
  },
  {
   "cell_type": "code",
   "execution_count": 11,
   "id": "de4832f8",
   "metadata": {
    "scrolled": true
   },
   "outputs": [
    {
     "name": "stdout",
     "output_type": "stream",
     "text": [
      "Fitting 5 folds for each of 12 candidates, totalling 60 fits\n",
      "[CV 1/5] END ........alpha=0.01, fit_prior=True;, score=0.882 total time=   0.0s\n",
      "[CV 2/5] END ........alpha=0.01, fit_prior=True;, score=0.869 total time=   0.0s\n",
      "[CV 3/5] END ........alpha=0.01, fit_prior=True;, score=0.867 total time=   0.0s\n",
      "[CV 4/5] END ........alpha=0.01, fit_prior=True;, score=0.869 total time=   0.0s\n",
      "[CV 5/5] END ........alpha=0.01, fit_prior=True;, score=0.871 total time=   0.0s\n",
      "[CV 1/5] END .......alpha=0.01, fit_prior=False;, score=0.882 total time=   0.0s\n",
      "[CV 2/5] END .......alpha=0.01, fit_prior=False;, score=0.867 total time=   0.0s\n",
      "[CV 3/5] END .......alpha=0.01, fit_prior=False;, score=0.866 total time=   0.0s\n",
      "[CV 4/5] END .......alpha=0.01, fit_prior=False;, score=0.869 total time=   0.0s\n",
      "[CV 5/5] END .......alpha=0.01, fit_prior=False;, score=0.871 total time=   0.0s\n",
      "[CV 1/5] END .........alpha=0.1, fit_prior=True;, score=0.868 total time=   0.0s\n",
      "[CV 2/5] END .........alpha=0.1, fit_prior=True;, score=0.849 total time=   0.0s\n",
      "[CV 3/5] END .........alpha=0.1, fit_prior=True;, score=0.855 total time=   0.0s\n",
      "[CV 4/5] END .........alpha=0.1, fit_prior=True;, score=0.851 total time=   0.0s\n",
      "[CV 5/5] END .........alpha=0.1, fit_prior=True;, score=0.853 total time=   0.0s\n",
      "[CV 1/5] END ........alpha=0.1, fit_prior=False;, score=0.868 total time=   0.0s\n",
      "[CV 2/5] END ........alpha=0.1, fit_prior=False;, score=0.849 total time=   0.0s\n",
      "[CV 3/5] END ........alpha=0.1, fit_prior=False;, score=0.854 total time=   0.0s\n",
      "[CV 4/5] END ........alpha=0.1, fit_prior=False;, score=0.852 total time=   0.0s\n",
      "[CV 5/5] END ........alpha=0.1, fit_prior=False;, score=0.852 total time=   0.0s\n",
      "[CV 1/5] END .........alpha=0.5, fit_prior=True;, score=0.860 total time=   0.0s\n",
      "[CV 2/5] END .........alpha=0.5, fit_prior=True;, score=0.837 total time=   0.0s\n",
      "[CV 3/5] END .........alpha=0.5, fit_prior=True;, score=0.843 total time=   0.0s\n",
      "[CV 4/5] END .........alpha=0.5, fit_prior=True;, score=0.838 total time=   0.0s\n",
      "[CV 5/5] END .........alpha=0.5, fit_prior=True;, score=0.839 total time=   0.0s\n",
      "[CV 1/5] END ........alpha=0.5, fit_prior=False;, score=0.859 total time=   0.0s\n",
      "[CV 2/5] END ........alpha=0.5, fit_prior=False;, score=0.837 total time=   0.0s\n",
      "[CV 3/5] END ........alpha=0.5, fit_prior=False;, score=0.843 total time=   0.0s\n",
      "[CV 4/5] END ........alpha=0.5, fit_prior=False;, score=0.838 total time=   0.0s\n",
      "[CV 5/5] END ........alpha=0.5, fit_prior=False;, score=0.839 total time=   0.0s\n",
      "[CV 1/5] END ...........alpha=1, fit_prior=True;, score=0.855 total time=   0.0s\n",
      "[CV 2/5] END ...........alpha=1, fit_prior=True;, score=0.834 total time=   0.0s\n",
      "[CV 3/5] END ...........alpha=1, fit_prior=True;, score=0.839 total time=   0.0s\n",
      "[CV 4/5] END ...........alpha=1, fit_prior=True;, score=0.833 total time=   0.0s\n",
      "[CV 5/5] END ...........alpha=1, fit_prior=True;, score=0.835 total time=   0.0s\n",
      "[CV 1/5] END ..........alpha=1, fit_prior=False;, score=0.853 total time=   0.0s\n",
      "[CV 2/5] END ..........alpha=1, fit_prior=False;, score=0.832 total time=   0.0s\n",
      "[CV 3/5] END ..........alpha=1, fit_prior=False;, score=0.837 total time=   0.0s\n",
      "[CV 4/5] END ..........alpha=1, fit_prior=False;, score=0.833 total time=   0.0s\n",
      "[CV 5/5] END ..........alpha=1, fit_prior=False;, score=0.835 total time=   0.0s\n",
      "[CV 1/5] END ..........alpha=10, fit_prior=True;, score=0.832 total time=   0.0s\n",
      "[CV 2/5] END ..........alpha=10, fit_prior=True;, score=0.820 total time=   0.0s\n",
      "[CV 3/5] END ..........alpha=10, fit_prior=True;, score=0.824 total time=   0.0s\n",
      "[CV 4/5] END ..........alpha=10, fit_prior=True;, score=0.813 total time=   0.0s\n",
      "[CV 5/5] END ..........alpha=10, fit_prior=True;, score=0.819 total time=   0.0s\n",
      "[CV 1/5] END .........alpha=10, fit_prior=False;, score=0.835 total time=   0.0s\n",
      "[CV 2/5] END .........alpha=10, fit_prior=False;, score=0.820 total time=   0.0s\n",
      "[CV 3/5] END .........alpha=10, fit_prior=False;, score=0.824 total time=   0.0s\n",
      "[CV 4/5] END .........alpha=10, fit_prior=False;, score=0.817 total time=   0.0s\n",
      "[CV 5/5] END .........alpha=10, fit_prior=False;, score=0.821 total time=   0.0s\n",
      "[CV 1/5] END .........alpha=100, fit_prior=True;, score=0.817 total time=   0.0s\n",
      "[CV 2/5] END .........alpha=100, fit_prior=True;, score=0.804 total time=   0.0s\n",
      "[CV 3/5] END .........alpha=100, fit_prior=True;, score=0.817 total time=   0.0s\n",
      "[CV 4/5] END .........alpha=100, fit_prior=True;, score=0.797 total time=   0.0s\n",
      "[CV 5/5] END .........alpha=100, fit_prior=True;, score=0.802 total time=   0.0s\n",
      "[CV 1/5] END ........alpha=100, fit_prior=False;, score=0.826 total time=   0.0s\n",
      "[CV 2/5] END ........alpha=100, fit_prior=False;, score=0.816 total time=   0.0s\n",
      "[CV 3/5] END ........alpha=100, fit_prior=False;, score=0.820 total time=   0.0s\n",
      "[CV 4/5] END ........alpha=100, fit_prior=False;, score=0.811 total time=   0.0s\n",
      "[CV 5/5] END ........alpha=100, fit_prior=False;, score=0.816 total time=   0.0s\n",
      "{'alpha': 0.01, 'fit_prior': True}\n",
      "정확도: 0.8735\n"
     ]
    }
   ],
   "source": [
    "#나이브 베이즈 모델\n",
    "param_grid = {'alpha': [0.01, 0.1, 0.5, 1, 10, 100],\n",
    "              'fit_prior': [True, False]}\n",
    "\n",
    "grid = GridSearchCV(MultinomialNB(), param_grid, refit=True, verbose=3)\n",
    "\n",
    "grid.fit(tfidfv, y_train)\n",
    "print(grid.best_params_)\n",
    "\n",
    "predicted = grid.predict(tfidfv_test)\n",
    "print(\"정확도:\", accuracy_score(y_test, predicted))"
   ]
  },
  {
   "cell_type": "code",
   "execution_count": 12,
   "id": "c0c583b5",
   "metadata": {},
   "outputs": [
    {
     "name": "stdout",
     "output_type": "stream",
     "text": [
      "Fitting 5 folds for each of 10 candidates, totalling 50 fits\n",
      "[CV 1/5] END ...................C=0.1, penalty=l1;, score=nan total time=   0.0s\n",
      "[CV 2/5] END ...................C=0.1, penalty=l1;, score=nan total time=   0.0s\n",
      "[CV 3/5] END ...................C=0.1, penalty=l1;, score=nan total time=   0.0s\n",
      "[CV 4/5] END ...................C=0.1, penalty=l1;, score=nan total time=   0.0s\n",
      "[CV 5/5] END ...................C=0.1, penalty=l1;, score=nan total time=   0.0s\n",
      "[CV 1/5] END .................C=0.1, penalty=l2;, score=0.819 total time=   0.0s\n",
      "[CV 2/5] END .................C=0.1, penalty=l2;, score=0.797 total time=   0.0s\n",
      "[CV 3/5] END .................C=0.1, penalty=l2;, score=0.811 total time=   0.0s\n",
      "[CV 4/5] END .................C=0.1, penalty=l2;, score=0.803 total time=   0.0s\n",
      "[CV 5/5] END .................C=0.1, penalty=l2;, score=0.808 total time=   0.0s\n",
      "[CV 1/5] END .....................C=1, penalty=l1;, score=nan total time=   0.0s\n",
      "[CV 2/5] END .....................C=1, penalty=l1;, score=nan total time=   0.0s\n",
      "[CV 3/5] END .....................C=1, penalty=l1;, score=nan total time=   0.0s\n",
      "[CV 4/5] END .....................C=1, penalty=l1;, score=nan total time=   0.0s\n",
      "[CV 5/5] END .....................C=1, penalty=l1;, score=nan total time=   0.0s\n",
      "[CV 1/5] END ...................C=1, penalty=l2;, score=0.863 total time=   0.0s\n",
      "[CV 2/5] END ...................C=1, penalty=l2;, score=0.852 total time=   0.1s\n",
      "[CV 3/5] END ...................C=1, penalty=l2;, score=0.862 total time=   0.0s\n",
      "[CV 4/5] END ...................C=1, penalty=l2;, score=0.853 total time=   0.0s\n",
      "[CV 5/5] END ...................C=1, penalty=l2;, score=0.857 total time=   0.0s\n",
      "[CV 1/5] END ....................C=10, penalty=l1;, score=nan total time=   0.0s\n",
      "[CV 2/5] END ....................C=10, penalty=l1;, score=nan total time=   0.0s\n",
      "[CV 3/5] END ....................C=10, penalty=l1;, score=nan total time=   0.0s\n",
      "[CV 4/5] END ....................C=10, penalty=l1;, score=nan total time=   0.0s\n",
      "[CV 5/5] END ....................C=10, penalty=l1;, score=nan total time=   0.0s\n",
      "[CV 1/5] END ..................C=10, penalty=l2;, score=0.914 total time=   0.1s\n"
     ]
    },
    {
     "name": "stderr",
     "output_type": "stream",
     "text": [
      "C:\\ProgramData\\anaconda3\\envs\\class\\lib\\site-packages\\sklearn\\linear_model\\_logistic.py:460: ConvergenceWarning: lbfgs failed to converge (status=1):\n",
      "STOP: TOTAL NO. of ITERATIONS REACHED LIMIT.\n",
      "\n",
      "Increase the number of iterations (max_iter) or scale the data as shown in:\n",
      "    https://scikit-learn.org/stable/modules/preprocessing.html\n",
      "Please also refer to the documentation for alternative solver options:\n",
      "    https://scikit-learn.org/stable/modules/linear_model.html#logistic-regression\n",
      "  n_iter_i = _check_optimize_result(\n"
     ]
    },
    {
     "name": "stdout",
     "output_type": "stream",
     "text": [
      "[CV 2/5] END ..................C=10, penalty=l2;, score=0.904 total time=   0.2s\n"
     ]
    },
    {
     "name": "stderr",
     "output_type": "stream",
     "text": [
      "C:\\ProgramData\\anaconda3\\envs\\class\\lib\\site-packages\\sklearn\\linear_model\\_logistic.py:460: ConvergenceWarning: lbfgs failed to converge (status=1):\n",
      "STOP: TOTAL NO. of ITERATIONS REACHED LIMIT.\n",
      "\n",
      "Increase the number of iterations (max_iter) or scale the data as shown in:\n",
      "    https://scikit-learn.org/stable/modules/preprocessing.html\n",
      "Please also refer to the documentation for alternative solver options:\n",
      "    https://scikit-learn.org/stable/modules/linear_model.html#logistic-regression\n",
      "  n_iter_i = _check_optimize_result(\n"
     ]
    },
    {
     "name": "stdout",
     "output_type": "stream",
     "text": [
      "[CV 3/5] END ..................C=10, penalty=l2;, score=0.922 total time=   0.2s\n"
     ]
    },
    {
     "name": "stderr",
     "output_type": "stream",
     "text": [
      "C:\\ProgramData\\anaconda3\\envs\\class\\lib\\site-packages\\sklearn\\linear_model\\_logistic.py:460: ConvergenceWarning: lbfgs failed to converge (status=1):\n",
      "STOP: TOTAL NO. of ITERATIONS REACHED LIMIT.\n",
      "\n",
      "Increase the number of iterations (max_iter) or scale the data as shown in:\n",
      "    https://scikit-learn.org/stable/modules/preprocessing.html\n",
      "Please also refer to the documentation for alternative solver options:\n",
      "    https://scikit-learn.org/stable/modules/linear_model.html#logistic-regression\n",
      "  n_iter_i = _check_optimize_result(\n"
     ]
    },
    {
     "name": "stdout",
     "output_type": "stream",
     "text": [
      "[CV 4/5] END ..................C=10, penalty=l2;, score=0.908 total time=   0.2s\n"
     ]
    },
    {
     "name": "stderr",
     "output_type": "stream",
     "text": [
      "C:\\ProgramData\\anaconda3\\envs\\class\\lib\\site-packages\\sklearn\\linear_model\\_logistic.py:460: ConvergenceWarning: lbfgs failed to converge (status=1):\n",
      "STOP: TOTAL NO. of ITERATIONS REACHED LIMIT.\n",
      "\n",
      "Increase the number of iterations (max_iter) or scale the data as shown in:\n",
      "    https://scikit-learn.org/stable/modules/preprocessing.html\n",
      "Please also refer to the documentation for alternative solver options:\n",
      "    https://scikit-learn.org/stable/modules/linear_model.html#logistic-regression\n",
      "  n_iter_i = _check_optimize_result(\n"
     ]
    },
    {
     "name": "stdout",
     "output_type": "stream",
     "text": [
      "[CV 5/5] END ..................C=10, penalty=l2;, score=0.911 total time=   0.2s\n",
      "[CV 1/5] END ...................C=100, penalty=l1;, score=nan total time=   0.0s\n",
      "[CV 2/5] END ...................C=100, penalty=l1;, score=nan total time=   0.0s\n",
      "[CV 3/5] END ...................C=100, penalty=l1;, score=nan total time=   0.0s\n",
      "[CV 4/5] END ...................C=100, penalty=l1;, score=nan total time=   0.0s\n",
      "[CV 5/5] END ...................C=100, penalty=l1;, score=nan total time=   0.0s\n"
     ]
    },
    {
     "name": "stderr",
     "output_type": "stream",
     "text": [
      "C:\\ProgramData\\anaconda3\\envs\\class\\lib\\site-packages\\sklearn\\linear_model\\_logistic.py:460: ConvergenceWarning: lbfgs failed to converge (status=1):\n",
      "STOP: TOTAL NO. of ITERATIONS REACHED LIMIT.\n",
      "\n",
      "Increase the number of iterations (max_iter) or scale the data as shown in:\n",
      "    https://scikit-learn.org/stable/modules/preprocessing.html\n",
      "Please also refer to the documentation for alternative solver options:\n",
      "    https://scikit-learn.org/stable/modules/linear_model.html#logistic-regression\n",
      "  n_iter_i = _check_optimize_result(\n"
     ]
    },
    {
     "name": "stdout",
     "output_type": "stream",
     "text": [
      "[CV 1/5] END .................C=100, penalty=l2;, score=0.933 total time=   0.2s\n"
     ]
    },
    {
     "name": "stderr",
     "output_type": "stream",
     "text": [
      "C:\\ProgramData\\anaconda3\\envs\\class\\lib\\site-packages\\sklearn\\linear_model\\_logistic.py:460: ConvergenceWarning: lbfgs failed to converge (status=1):\n",
      "STOP: TOTAL NO. of ITERATIONS REACHED LIMIT.\n",
      "\n",
      "Increase the number of iterations (max_iter) or scale the data as shown in:\n",
      "    https://scikit-learn.org/stable/modules/preprocessing.html\n",
      "Please also refer to the documentation for alternative solver options:\n",
      "    https://scikit-learn.org/stable/modules/linear_model.html#logistic-regression\n",
      "  n_iter_i = _check_optimize_result(\n"
     ]
    },
    {
     "name": "stdout",
     "output_type": "stream",
     "text": [
      "[CV 2/5] END .................C=100, penalty=l2;, score=0.927 total time=   0.2s\n"
     ]
    },
    {
     "name": "stderr",
     "output_type": "stream",
     "text": [
      "C:\\ProgramData\\anaconda3\\envs\\class\\lib\\site-packages\\sklearn\\linear_model\\_logistic.py:460: ConvergenceWarning: lbfgs failed to converge (status=1):\n",
      "STOP: TOTAL NO. of ITERATIONS REACHED LIMIT.\n",
      "\n",
      "Increase the number of iterations (max_iter) or scale the data as shown in:\n",
      "    https://scikit-learn.org/stable/modules/preprocessing.html\n",
      "Please also refer to the documentation for alternative solver options:\n",
      "    https://scikit-learn.org/stable/modules/linear_model.html#logistic-regression\n",
      "  n_iter_i = _check_optimize_result(\n"
     ]
    },
    {
     "name": "stdout",
     "output_type": "stream",
     "text": [
      "[CV 3/5] END .................C=100, penalty=l2;, score=0.939 total time=   0.2s\n"
     ]
    },
    {
     "name": "stderr",
     "output_type": "stream",
     "text": [
      "C:\\ProgramData\\anaconda3\\envs\\class\\lib\\site-packages\\sklearn\\linear_model\\_logistic.py:460: ConvergenceWarning: lbfgs failed to converge (status=1):\n",
      "STOP: TOTAL NO. of ITERATIONS REACHED LIMIT.\n",
      "\n",
      "Increase the number of iterations (max_iter) or scale the data as shown in:\n",
      "    https://scikit-learn.org/stable/modules/preprocessing.html\n",
      "Please also refer to the documentation for alternative solver options:\n",
      "    https://scikit-learn.org/stable/modules/linear_model.html#logistic-regression\n",
      "  n_iter_i = _check_optimize_result(\n"
     ]
    },
    {
     "name": "stdout",
     "output_type": "stream",
     "text": [
      "[CV 4/5] END .................C=100, penalty=l2;, score=0.937 total time=   0.2s\n"
     ]
    },
    {
     "name": "stderr",
     "output_type": "stream",
     "text": [
      "C:\\ProgramData\\anaconda3\\envs\\class\\lib\\site-packages\\sklearn\\linear_model\\_logistic.py:460: ConvergenceWarning: lbfgs failed to converge (status=1):\n",
      "STOP: TOTAL NO. of ITERATIONS REACHED LIMIT.\n",
      "\n",
      "Increase the number of iterations (max_iter) or scale the data as shown in:\n",
      "    https://scikit-learn.org/stable/modules/preprocessing.html\n",
      "Please also refer to the documentation for alternative solver options:\n",
      "    https://scikit-learn.org/stable/modules/linear_model.html#logistic-regression\n",
      "  n_iter_i = _check_optimize_result(\n"
     ]
    },
    {
     "name": "stdout",
     "output_type": "stream",
     "text": [
      "[CV 5/5] END .................C=100, penalty=l2;, score=0.932 total time=   0.2s\n",
      "[CV 1/5] END ..................C=1000, penalty=l1;, score=nan total time=   0.0s\n",
      "[CV 2/5] END ..................C=1000, penalty=l1;, score=nan total time=   0.0s\n",
      "[CV 3/5] END ..................C=1000, penalty=l1;, score=nan total time=   0.0s\n",
      "[CV 4/5] END ..................C=1000, penalty=l1;, score=nan total time=   0.0s\n",
      "[CV 5/5] END ..................C=1000, penalty=l1;, score=nan total time=   0.0s\n"
     ]
    },
    {
     "name": "stderr",
     "output_type": "stream",
     "text": [
      "C:\\ProgramData\\anaconda3\\envs\\class\\lib\\site-packages\\sklearn\\linear_model\\_logistic.py:460: ConvergenceWarning: lbfgs failed to converge (status=1):\n",
      "STOP: TOTAL NO. of ITERATIONS REACHED LIMIT.\n",
      "\n",
      "Increase the number of iterations (max_iter) or scale the data as shown in:\n",
      "    https://scikit-learn.org/stable/modules/preprocessing.html\n",
      "Please also refer to the documentation for alternative solver options:\n",
      "    https://scikit-learn.org/stable/modules/linear_model.html#logistic-regression\n",
      "  n_iter_i = _check_optimize_result(\n"
     ]
    },
    {
     "name": "stdout",
     "output_type": "stream",
     "text": [
      "[CV 1/5] END ................C=1000, penalty=l2;, score=0.932 total time=   0.2s\n"
     ]
    },
    {
     "name": "stderr",
     "output_type": "stream",
     "text": [
      "C:\\ProgramData\\anaconda3\\envs\\class\\lib\\site-packages\\sklearn\\linear_model\\_logistic.py:460: ConvergenceWarning: lbfgs failed to converge (status=1):\n",
      "STOP: TOTAL NO. of ITERATIONS REACHED LIMIT.\n",
      "\n",
      "Increase the number of iterations (max_iter) or scale the data as shown in:\n",
      "    https://scikit-learn.org/stable/modules/preprocessing.html\n",
      "Please also refer to the documentation for alternative solver options:\n",
      "    https://scikit-learn.org/stable/modules/linear_model.html#logistic-regression\n",
      "  n_iter_i = _check_optimize_result(\n"
     ]
    },
    {
     "name": "stdout",
     "output_type": "stream",
     "text": [
      "[CV 2/5] END ................C=1000, penalty=l2;, score=0.928 total time=   0.2s\n"
     ]
    },
    {
     "name": "stderr",
     "output_type": "stream",
     "text": [
      "C:\\ProgramData\\anaconda3\\envs\\class\\lib\\site-packages\\sklearn\\linear_model\\_logistic.py:460: ConvergenceWarning: lbfgs failed to converge (status=1):\n",
      "STOP: TOTAL NO. of ITERATIONS REACHED LIMIT.\n",
      "\n",
      "Increase the number of iterations (max_iter) or scale the data as shown in:\n",
      "    https://scikit-learn.org/stable/modules/preprocessing.html\n",
      "Please also refer to the documentation for alternative solver options:\n",
      "    https://scikit-learn.org/stable/modules/linear_model.html#logistic-regression\n",
      "  n_iter_i = _check_optimize_result(\n"
     ]
    },
    {
     "name": "stdout",
     "output_type": "stream",
     "text": [
      "[CV 3/5] END ................C=1000, penalty=l2;, score=0.940 total time=   0.1s\n"
     ]
    },
    {
     "name": "stderr",
     "output_type": "stream",
     "text": [
      "C:\\ProgramData\\anaconda3\\envs\\class\\lib\\site-packages\\sklearn\\linear_model\\_logistic.py:460: ConvergenceWarning: lbfgs failed to converge (status=1):\n",
      "STOP: TOTAL NO. of ITERATIONS REACHED LIMIT.\n",
      "\n",
      "Increase the number of iterations (max_iter) or scale the data as shown in:\n",
      "    https://scikit-learn.org/stable/modules/preprocessing.html\n",
      "Please also refer to the documentation for alternative solver options:\n",
      "    https://scikit-learn.org/stable/modules/linear_model.html#logistic-regression\n",
      "  n_iter_i = _check_optimize_result(\n"
     ]
    },
    {
     "name": "stdout",
     "output_type": "stream",
     "text": [
      "[CV 4/5] END ................C=1000, penalty=l2;, score=0.938 total time=   0.2s\n"
     ]
    },
    {
     "name": "stderr",
     "output_type": "stream",
     "text": [
      "C:\\ProgramData\\anaconda3\\envs\\class\\lib\\site-packages\\sklearn\\linear_model\\_logistic.py:460: ConvergenceWarning: lbfgs failed to converge (status=1):\n",
      "STOP: TOTAL NO. of ITERATIONS REACHED LIMIT.\n",
      "\n",
      "Increase the number of iterations (max_iter) or scale the data as shown in:\n",
      "    https://scikit-learn.org/stable/modules/preprocessing.html\n",
      "Please also refer to the documentation for alternative solver options:\n",
      "    https://scikit-learn.org/stable/modules/linear_model.html#logistic-regression\n",
      "  n_iter_i = _check_optimize_result(\n",
      "C:\\ProgramData\\anaconda3\\envs\\class\\lib\\site-packages\\sklearn\\model_selection\\_validation.py:425: FitFailedWarning: \n",
      "25 fits failed out of a total of 50.\n",
      "The score on these train-test partitions for these parameters will be set to nan.\n",
      "If these failures are not expected, you can try to debug them by setting error_score='raise'.\n",
      "\n",
      "Below are more details about the failures:\n",
      "--------------------------------------------------------------------------------\n",
      "25 fits failed with the following error:\n",
      "Traceback (most recent call last):\n",
      "  File \"C:\\ProgramData\\anaconda3\\envs\\class\\lib\\site-packages\\sklearn\\model_selection\\_validation.py\", line 729, in _fit_and_score\n",
      "    estimator.fit(X_train, y_train, **fit_params)\n",
      "  File \"C:\\ProgramData\\anaconda3\\envs\\class\\lib\\site-packages\\sklearn\\base.py\", line 1152, in wrapper\n",
      "    return fit_method(estimator, *args, **kwargs)\n",
      "  File \"C:\\ProgramData\\anaconda3\\envs\\class\\lib\\site-packages\\sklearn\\linear_model\\_logistic.py\", line 1169, in fit\n",
      "    solver = _check_solver(self.solver, self.penalty, self.dual)\n",
      "  File \"C:\\ProgramData\\anaconda3\\envs\\class\\lib\\site-packages\\sklearn\\linear_model\\_logistic.py\", line 56, in _check_solver\n",
      "    raise ValueError(\n",
      "ValueError: Solver lbfgs supports only 'l2' or 'none' penalties, got l1 penalty.\n",
      "\n",
      "  warnings.warn(some_fits_failed_message, FitFailedWarning)\n",
      "C:\\ProgramData\\anaconda3\\envs\\class\\lib\\site-packages\\sklearn\\model_selection\\_search.py:979: UserWarning: One or more of the test scores are non-finite: [      nan 0.807875        nan 0.8570625       nan 0.9119375       nan\n",
      " 0.9335          nan 0.9336875]\n",
      "  warnings.warn(\n"
     ]
    },
    {
     "name": "stdout",
     "output_type": "stream",
     "text": [
      "[CV 5/5] END ................C=1000, penalty=l2;, score=0.930 total time=   0.1s\n",
      "{'C': 1000, 'penalty': 'l2'}\n",
      "정확도: 0.9405\n"
     ]
    },
    {
     "name": "stderr",
     "output_type": "stream",
     "text": [
      "C:\\ProgramData\\anaconda3\\envs\\class\\lib\\site-packages\\sklearn\\linear_model\\_logistic.py:460: ConvergenceWarning: lbfgs failed to converge (status=1):\n",
      "STOP: TOTAL NO. of ITERATIONS REACHED LIMIT.\n",
      "\n",
      "Increase the number of iterations (max_iter) or scale the data as shown in:\n",
      "    https://scikit-learn.org/stable/modules/preprocessing.html\n",
      "Please also refer to the documentation for alternative solver options:\n",
      "    https://scikit-learn.org/stable/modules/linear_model.html#logistic-regression\n",
      "  n_iter_i = _check_optimize_result(\n"
     ]
    }
   ],
   "source": [
    "#logistic regression 모델\n",
    "param_grid = {'C': [0.1, 1, 10, 100, 1000], \n",
    "              'penalty': ['l1', 'l2']}\n",
    "\n",
    "grid = GridSearchCV(LogisticRegression(), param_grid, refit=True, verbose=3)\n",
    "\n",
    "grid.fit(tfidfv, y_train)\n",
    "print(grid.best_params_)\n",
    "\n",
    "predicted = grid.predict(tfidfv_test)\n",
    "print(\"정확도:\", accuracy_score(y_test, predicted))"
   ]
  },
  {
   "cell_type": "code",
   "execution_count": null,
   "id": "ca2ecaa8",
   "metadata": {},
   "outputs": [],
   "source": []
  }
 ],
 "metadata": {
  "kernelspec": {
   "display_name": "Python 3 (ipykernel)",
   "language": "python",
   "name": "python3"
  },
  "language_info": {
   "codemirror_mode": {
    "name": "ipython",
    "version": 3
   },
   "file_extension": ".py",
   "mimetype": "text/x-python",
   "name": "python",
   "nbconvert_exporter": "python",
   "pygments_lexer": "ipython3",
   "version": "3.8.13"
  }
 },
 "nbformat": 4,
 "nbformat_minor": 5
}
