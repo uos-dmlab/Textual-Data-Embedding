{
 "cells": [
  {
   "cell_type": "markdown",
   "id": "7830afb1",
   "metadata": {},
   "source": [
    "IMDB 데이터셋"
   ]
  },
  {
   "cell_type": "code",
   "execution_count": 1,
   "id": "0cddd6b9-6f66-4ed3-8286-57eb2e1598b0",
   "metadata": {},
   "outputs": [],
   "source": [
    "import numpy as np\n",
    "import pandas as pd\n",
    "from sklearn.preprocessing import LabelEncoder\n",
    "from sklearn.feature_selection import SelectKBest\n",
    "from sklearn.feature_selection import chi2\n",
    "from sklearn.feature_extraction.text import CountVectorizer\n",
    "from sklearn.feature_extraction.text import TfidfTransformer\n",
    "from sklearn.svm import LinearSVC\n",
    "from sklearn.linear_model import LogisticRegression\n",
    "from sklearn.naive_bayes import MultinomialNB\n",
    "from sklearn.model_selection import GridSearchCV\n",
    "from sklearn.metrics import accuracy_score, f1_score\n",
    "import sys\n",
    "sys.path.append('C:/Users/User/Desktop/IMDB')\n",
    "from data_preprocessing import *"
   ]
  },
  {
   "cell_type": "code",
   "execution_count": 2,
   "id": "439d9ea8",
   "metadata": {},
   "outputs": [],
   "source": [
    "TRAIN_DATA_PATH = \"C:/Users/user/Desktop/bilm-tf-master/textdataset/IMDB/aclImdb/train\"\n",
    "TEST_DATA_PATH = \"C:/Users/user/Desktop/bilm-tf-master/textdataset/IMDB/aclImdb/test\"\n",
    "\n",
    "def read_text_file(path):\n",
    "    labels = ['neg','pos']\n",
    "    if os.path.exists(path):\n",
    "        text=[]\n",
    "        text_label =[]\n",
    "        for directory_name in os.listdir(path):\n",
    "            if directory_name in labels:\n",
    "                label_index = labels.index(directory_name)\n",
    "                data_path = os.path.join(path,directory_name)\n",
    "                for file in os.listdir(data_path):\n",
    "                    with open(os.path.join(data_path,file),'r', encoding='utf-8') as f:\n",
    "                        text.append(f.read())\n",
    "                        text_label.append(label_index)\n",
    "        return pd.DataFrame(text,columns =['texts']),pd.DataFrame(text_label,columns =['label'])\n",
    "    \n",
    "x_train,y_train = read_text_file(TRAIN_DATA_PATH) \n",
    "x_test,y_test = read_text_file(TEST_DATA_PATH) "
   ]
  },
  {
   "cell_type": "markdown",
   "id": "c281c1bf-26c3-452e-91a7-7774b6aa1735",
   "metadata": {},
   "source": [
    "# 전처리"
   ]
  },
  {
   "cell_type": "code",
   "execution_count": 3,
   "id": "cdeebda2",
   "metadata": {},
   "outputs": [],
   "source": [
    "train = pd.concat([x_train, y_train], axis=1)\n",
    "test = pd.concat([x_test, y_test], axis=1)\n",
    "\n",
    "train.drop_duplicates(inplace=True)\n",
    "test.drop_duplicates(inplace=True)"
   ]
  },
  {
   "cell_type": "code",
   "execution_count": 4,
   "id": "fd909733",
   "metadata": {},
   "outputs": [],
   "source": [
    "train[['texts']] = train[['texts']].applymap(lambda x:remove_punctuation(x))\n",
    "train[['texts']] = train[['texts']].applymap(lambda x:x.lower())\n",
    "test[['texts']] = test[['texts']].applymap(lambda x:remove_punctuation(x))\n",
    "test[['texts']] = test[['texts']].applymap(lambda x:x.lower())"
   ]
  },
  {
   "cell_type": "code",
   "execution_count": 5,
   "id": "df49c2fe",
   "metadata": {},
   "outputs": [],
   "source": [
    "X_train = train.drop(columns=['label'])\n",
    "X_test = test.drop(columns=['label'])\n",
    "y_train = train['label']\n",
    "y_test = test['label']\n",
    "\n",
    "X_train = X_train['texts'].apply(clean_text)\n",
    "X_test = X_test['texts'].apply(clean_text)\n",
    "\n",
    "pattern = '[^a-z ]'\n",
    "Clean_X_train=[]\n",
    "Clean_X_test=[]\n",
    "\n",
    "for sen in X_train:\n",
    "    Clean_X_train.append(re.sub(pattern, '', str(sen)))\n",
    "    \n",
    "for sen in X_test:\n",
    "    Clean_X_test.append(re.sub(pattern, '', str(sen)))"
   ]
  },
  {
   "cell_type": "code",
   "execution_count": 6,
   "id": "48d8e685",
   "metadata": {},
   "outputs": [],
   "source": [
    "y_train=list(y_train)\n",
    "y_test=list(y_test)"
   ]
  },
  {
   "cell_type": "code",
   "execution_count": 7,
   "id": "df65a632",
   "metadata": {},
   "outputs": [],
   "source": [
    "train_df = pd.DataFrame({'X_train': Clean_X_train, 'y_train': y_train})\n",
    "test_df = pd.DataFrame({'X_test': Clean_X_test, 'y_test': y_test})"
   ]
  },
  {
   "cell_type": "code",
   "execution_count": 8,
   "id": "3654a1a9",
   "metadata": {},
   "outputs": [],
   "source": [
    "# 레이블 값에 따라 데이터프레임을 그룹화하고 각 그룹에서 8000개의 샘플을 랜덤하게 추출\n",
    "train_df = train_df.groupby('y_train').apply(lambda x: x.sample(n=8000, random_state=42))\n",
    "\n",
    "# 레이블 값에 따라 데이터프레임을 그룹화하고 각 그룹에서 2000개의 샘플을 랜덤하게 추출\n",
    "test_df = test_df.groupby('y_test').apply(lambda x: x.sample(n=2000, random_state=42))\n",
    "\n",
    "# 인덱스를 재설정합니다. drop=True 옵션을 사용하여 기존 인덱스를 제거합니다.\n",
    "train_df = train_df.reset_index(drop=True)\n",
    "test_df = test_df.reset_index(drop=True)"
   ]
  },
  {
   "cell_type": "code",
   "execution_count": 9,
   "id": "fa0abc8d",
   "metadata": {},
   "outputs": [],
   "source": [
    "x_train = train_df['X_train'].tolist()\n",
    "y_train = train_df['y_train'].tolist()\n",
    "x_test = test_df['X_test'].tolist()\n",
    "y_test = test_df['y_test'].tolist()"
   ]
  },
  {
   "cell_type": "code",
   "execution_count": 10,
   "id": "38106bcf",
   "metadata": {},
   "outputs": [],
   "source": [
    "to_txt=x_train+x_test\n",
    "y=y_train+y_test"
   ]
  },
  {
   "cell_type": "code",
   "execution_count": 12,
   "id": "91e8ed91",
   "metadata": {},
   "outputs": [],
   "source": [
    "#불용어 불러오기\n",
    "with open('C:/Users/user/Desktop/english.txt', 'r', encoding='utf-8') as file:\n",
    "    stopwords = [line.strip() for line in file]"
   ]
  },
  {
   "cell_type": "code",
   "execution_count": 13,
   "id": "6c8d175e",
   "metadata": {},
   "outputs": [
    {
     "name": "stderr",
     "output_type": "stream",
     "text": [
      "C:\\ProgramData\\anaconda3\\envs\\class\\lib\\site-packages\\sklearn\\feature_extraction\\text.py:408: UserWarning: Your stop_words may be inconsistent with your preprocessing. Tokenizing the stop words generated tokens ['ain', 'daren', 'hadn', 'herse', 'himse', 'itse', 'mayn', 'mightn', 'mon', 'mustn', 'myse', 'needn', 'oughtn', 'shan'] not in stop_words.\n",
      "  warnings.warn(\n"
     ]
    }
   ],
   "source": [
    "#단어 10000개 선별\n",
    "vect = CountVectorizer(stop_words=stopwords)\n",
    "X_dtm = vect.fit_transform(to_txt)\n",
    "X_dtm = X_dtm.toarray()\n",
    "X_new = SelectKBest(chi2, k=10000).fit(X_dtm, y)\n",
    "TorF = X_new.get_support()\n",
    "TorF\n",
    "import numpy as np\n",
    "word_view=np.array(vect.get_feature_names_out())\n",
    "sw=word_view[TorF]"
   ]
  },
  {
   "cell_type": "code",
   "execution_count": 14,
   "id": "4b18cb29",
   "metadata": {},
   "outputs": [],
   "source": [
    "#훈련데이터에서 선별한 10000개 단어 이외 단어는 <ukn>으로 변경\n",
    "train_transe=[]\n",
    "for i in range(len(x_train)):\n",
    "    a=x_train[i].split()\n",
    "    for j in range(len(a)):\n",
    "        if a[j] not in sw:\n",
    "            a[j] = '<ukn>'\n",
    "    train_transe.append(' '.join(a))"
   ]
  },
  {
   "cell_type": "code",
   "execution_count": 15,
   "id": "c0b571b4",
   "metadata": {},
   "outputs": [],
   "source": [
    "#테스트데이터에서 선별한 10000개 단어 이외 단어는 <ukn>으로 변경\n",
    "test_transe=[]\n",
    "for i in range(len(x_test)):\n",
    "    a=x_test[i].split()\n",
    "    for j in range(len(a)):\n",
    "        if a[j] not in sw:\n",
    "            a[j] = '<ukn>'\n",
    "    test_transe.append(' '.join(a))"
   ]
  },
  {
   "cell_type": "code",
   "execution_count": 16,
   "id": "407415e7",
   "metadata": {},
   "outputs": [],
   "source": [
    "# DTM 확인\n",
    "dtmvector = CountVectorizer()\n",
    "x_train_dtm = dtmvector.fit_transform(train_transe)\n",
    "# print(x_train.shape)\n",
    "\n",
    "# 테스트데이터\n",
    "x_test_dtm = dtmvector.transform(test_transe) #테스트 데이터를 DTM으로 변환"
   ]
  },
  {
   "cell_type": "code",
   "execution_count": 17,
   "id": "f1cdcb2e",
   "metadata": {},
   "outputs": [
    {
     "name": "stdout",
     "output_type": "stream",
     "text": [
      "(16000, 9781)\n"
     ]
    }
   ],
   "source": [
    "# TF-IDF Matrix확인\n",
    "tfidf_transformer = TfidfTransformer()\n",
    "tfidfv = tfidf_transformer.fit_transform(x_train_dtm)\n",
    "print(tfidfv.shape)\n",
    "\n",
    "# 테스트데이터\n",
    "tfidfv_test = tfidf_transformer.transform(x_test_dtm) #DTM을 TF-IDF 행렬로 변환"
   ]
  },
  {
   "cell_type": "markdown",
   "id": "91d83c8d-a352-4b95-bdf2-b6db98d1c533",
   "metadata": {},
   "source": [
    "# 전통적인 머신러닝 모델로 학습"
   ]
  },
  {
   "cell_type": "code",
   "execution_count": 19,
   "id": "77bdf603",
   "metadata": {
    "scrolled": true
   },
   "outputs": [
    {
     "name": "stderr",
     "output_type": "stream",
     "text": [
      "C:\\ProgramData\\anaconda3\\envs\\class\\lib\\site-packages\\sklearn\\svm\\_base.py:1250: ConvergenceWarning: Liblinear failed to converge, increase the number of iterations.\n",
      "  warnings.warn(\n",
      "C:\\ProgramData\\anaconda3\\envs\\class\\lib\\site-packages\\sklearn\\svm\\_base.py:1250: ConvergenceWarning: Liblinear failed to converge, increase the number of iterations.\n",
      "  warnings.warn(\n",
      "C:\\ProgramData\\anaconda3\\envs\\class\\lib\\site-packages\\sklearn\\svm\\_base.py:1250: ConvergenceWarning: Liblinear failed to converge, increase the number of iterations.\n",
      "  warnings.warn(\n"
     ]
    },
    {
     "name": "stdout",
     "output_type": "stream",
     "text": [
      "Fitting 5 folds for each of 10 candidates, totalling 50 fits\n",
      "[CV 1/5] END .................C=0.1, penalty=l1;, score=0.767 total time=   0.0s\n",
      "[CV 2/5] END .................C=0.1, penalty=l1;, score=0.760 total time=   0.0s\n",
      "[CV 3/5] END .................C=0.1, penalty=l1;, score=0.761 total time=   0.0s\n"
     ]
    },
    {
     "name": "stderr",
     "output_type": "stream",
     "text": [
      "C:\\ProgramData\\anaconda3\\envs\\class\\lib\\site-packages\\sklearn\\svm\\_base.py:1250: ConvergenceWarning: Liblinear failed to converge, increase the number of iterations.\n",
      "  warnings.warn(\n",
      "C:\\ProgramData\\anaconda3\\envs\\class\\lib\\site-packages\\sklearn\\svm\\_base.py:1250: ConvergenceWarning: Liblinear failed to converge, increase the number of iterations.\n",
      "  warnings.warn(\n"
     ]
    },
    {
     "name": "stdout",
     "output_type": "stream",
     "text": [
      "[CV 4/5] END .................C=0.1, penalty=l1;, score=0.757 total time=   0.0s\n",
      "[CV 5/5] END .................C=0.1, penalty=l1;, score=0.771 total time=   0.0s\n",
      "[CV 1/5] END .................C=0.1, penalty=l2;, score=0.837 total time=   0.0s\n",
      "[CV 2/5] END .................C=0.1, penalty=l2;, score=0.835 total time=   0.0s\n",
      "[CV 3/5] END .................C=0.1, penalty=l2;, score=0.843 total time=   0.0s\n",
      "[CV 4/5] END .................C=0.1, penalty=l2;, score=0.843 total time=   0.0s\n",
      "[CV 5/5] END .................C=0.1, penalty=l2;, score=0.847 total time=   0.0s\n"
     ]
    },
    {
     "name": "stderr",
     "output_type": "stream",
     "text": [
      "C:\\ProgramData\\anaconda3\\envs\\class\\lib\\site-packages\\sklearn\\svm\\_base.py:1250: ConvergenceWarning: Liblinear failed to converge, increase the number of iterations.\n",
      "  warnings.warn(\n"
     ]
    },
    {
     "name": "stdout",
     "output_type": "stream",
     "text": [
      "[CV 1/5] END ...................C=1, penalty=l1;, score=0.853 total time=   0.3s\n"
     ]
    },
    {
     "name": "stderr",
     "output_type": "stream",
     "text": [
      "C:\\ProgramData\\anaconda3\\envs\\class\\lib\\site-packages\\sklearn\\svm\\_base.py:1250: ConvergenceWarning: Liblinear failed to converge, increase the number of iterations.\n",
      "  warnings.warn(\n"
     ]
    },
    {
     "name": "stdout",
     "output_type": "stream",
     "text": [
      "[CV 2/5] END ...................C=1, penalty=l1;, score=0.848 total time=   0.3s\n"
     ]
    },
    {
     "name": "stderr",
     "output_type": "stream",
     "text": [
      "C:\\ProgramData\\anaconda3\\envs\\class\\lib\\site-packages\\sklearn\\svm\\_base.py:1250: ConvergenceWarning: Liblinear failed to converge, increase the number of iterations.\n",
      "  warnings.warn(\n"
     ]
    },
    {
     "name": "stdout",
     "output_type": "stream",
     "text": [
      "[CV 3/5] END ...................C=1, penalty=l1;, score=0.854 total time=   0.3s\n"
     ]
    },
    {
     "name": "stderr",
     "output_type": "stream",
     "text": [
      "C:\\ProgramData\\anaconda3\\envs\\class\\lib\\site-packages\\sklearn\\svm\\_base.py:1250: ConvergenceWarning: Liblinear failed to converge, increase the number of iterations.\n",
      "  warnings.warn(\n"
     ]
    },
    {
     "name": "stdout",
     "output_type": "stream",
     "text": [
      "[CV 4/5] END ...................C=1, penalty=l1;, score=0.843 total time=   0.3s\n"
     ]
    },
    {
     "name": "stderr",
     "output_type": "stream",
     "text": [
      "C:\\ProgramData\\anaconda3\\envs\\class\\lib\\site-packages\\sklearn\\svm\\_base.py:1250: ConvergenceWarning: Liblinear failed to converge, increase the number of iterations.\n",
      "  warnings.warn(\n"
     ]
    },
    {
     "name": "stdout",
     "output_type": "stream",
     "text": [
      "[CV 5/5] END ...................C=1, penalty=l1;, score=0.854 total time=   0.3s\n",
      "[CV 1/5] END ...................C=1, penalty=l2;, score=0.873 total time=   0.0s\n",
      "[CV 2/5] END ...................C=1, penalty=l2;, score=0.873 total time=   0.0s\n",
      "[CV 3/5] END ...................C=1, penalty=l2;, score=0.882 total time=   0.0s\n",
      "[CV 4/5] END ...................C=1, penalty=l2;, score=0.876 total time=   0.0s\n",
      "[CV 5/5] END ...................C=1, penalty=l2;, score=0.879 total time=   0.0s\n"
     ]
    },
    {
     "name": "stderr",
     "output_type": "stream",
     "text": [
      "C:\\ProgramData\\anaconda3\\envs\\class\\lib\\site-packages\\sklearn\\svm\\_base.py:1250: ConvergenceWarning: Liblinear failed to converge, increase the number of iterations.\n",
      "  warnings.warn(\n"
     ]
    },
    {
     "name": "stdout",
     "output_type": "stream",
     "text": [
      "[CV 1/5] END ..................C=10, penalty=l1;, score=0.865 total time=   1.3s\n"
     ]
    },
    {
     "name": "stderr",
     "output_type": "stream",
     "text": [
      "C:\\ProgramData\\anaconda3\\envs\\class\\lib\\site-packages\\sklearn\\svm\\_base.py:1250: ConvergenceWarning: Liblinear failed to converge, increase the number of iterations.\n",
      "  warnings.warn(\n"
     ]
    },
    {
     "name": "stdout",
     "output_type": "stream",
     "text": [
      "[CV 2/5] END ..................C=10, penalty=l1;, score=0.859 total time=   1.3s\n"
     ]
    },
    {
     "name": "stderr",
     "output_type": "stream",
     "text": [
      "C:\\ProgramData\\anaconda3\\envs\\class\\lib\\site-packages\\sklearn\\svm\\_base.py:1250: ConvergenceWarning: Liblinear failed to converge, increase the number of iterations.\n",
      "  warnings.warn(\n"
     ]
    },
    {
     "name": "stdout",
     "output_type": "stream",
     "text": [
      "[CV 3/5] END ..................C=10, penalty=l1;, score=0.864 total time=   1.3s\n"
     ]
    },
    {
     "name": "stderr",
     "output_type": "stream",
     "text": [
      "C:\\ProgramData\\anaconda3\\envs\\class\\lib\\site-packages\\sklearn\\svm\\_base.py:1250: ConvergenceWarning: Liblinear failed to converge, increase the number of iterations.\n",
      "  warnings.warn(\n"
     ]
    },
    {
     "name": "stdout",
     "output_type": "stream",
     "text": [
      "[CV 4/5] END ..................C=10, penalty=l1;, score=0.853 total time=   1.3s\n"
     ]
    },
    {
     "name": "stderr",
     "output_type": "stream",
     "text": [
      "C:\\ProgramData\\anaconda3\\envs\\class\\lib\\site-packages\\sklearn\\svm\\_base.py:1250: ConvergenceWarning: Liblinear failed to converge, increase the number of iterations.\n",
      "  warnings.warn(\n"
     ]
    },
    {
     "name": "stdout",
     "output_type": "stream",
     "text": [
      "[CV 5/5] END ..................C=10, penalty=l1;, score=0.851 total time=   1.3s\n",
      "[CV 1/5] END ..................C=10, penalty=l2;, score=0.886 total time=   0.0s\n",
      "[CV 2/5] END ..................C=10, penalty=l2;, score=0.881 total time=   0.0s\n",
      "[CV 3/5] END ..................C=10, penalty=l2;, score=0.891 total time=   0.0s\n",
      "[CV 4/5] END ..................C=10, penalty=l2;, score=0.883 total time=   0.0s\n",
      "[CV 5/5] END ..................C=10, penalty=l2;, score=0.885 total time=   0.0s\n"
     ]
    },
    {
     "name": "stderr",
     "output_type": "stream",
     "text": [
      "C:\\ProgramData\\anaconda3\\envs\\class\\lib\\site-packages\\sklearn\\svm\\_base.py:1250: ConvergenceWarning: Liblinear failed to converge, increase the number of iterations.\n",
      "  warnings.warn(\n"
     ]
    },
    {
     "name": "stdout",
     "output_type": "stream",
     "text": [
      "[CV 1/5] END .................C=100, penalty=l1;, score=0.850 total time=   1.1s\n"
     ]
    },
    {
     "name": "stderr",
     "output_type": "stream",
     "text": [
      "C:\\ProgramData\\anaconda3\\envs\\class\\lib\\site-packages\\sklearn\\svm\\_base.py:1250: ConvergenceWarning: Liblinear failed to converge, increase the number of iterations.\n",
      "  warnings.warn(\n"
     ]
    },
    {
     "name": "stdout",
     "output_type": "stream",
     "text": [
      "[CV 2/5] END .................C=100, penalty=l1;, score=0.836 total time=   1.1s\n"
     ]
    },
    {
     "name": "stderr",
     "output_type": "stream",
     "text": [
      "C:\\ProgramData\\anaconda3\\envs\\class\\lib\\site-packages\\sklearn\\svm\\_base.py:1250: ConvergenceWarning: Liblinear failed to converge, increase the number of iterations.\n",
      "  warnings.warn(\n"
     ]
    },
    {
     "name": "stdout",
     "output_type": "stream",
     "text": [
      "[CV 3/5] END .................C=100, penalty=l1;, score=0.844 total time=   1.1s\n"
     ]
    },
    {
     "name": "stderr",
     "output_type": "stream",
     "text": [
      "C:\\ProgramData\\anaconda3\\envs\\class\\lib\\site-packages\\sklearn\\svm\\_base.py:1250: ConvergenceWarning: Liblinear failed to converge, increase the number of iterations.\n",
      "  warnings.warn(\n"
     ]
    },
    {
     "name": "stdout",
     "output_type": "stream",
     "text": [
      "[CV 4/5] END .................C=100, penalty=l1;, score=0.831 total time=   1.1s\n"
     ]
    },
    {
     "name": "stderr",
     "output_type": "stream",
     "text": [
      "C:\\ProgramData\\anaconda3\\envs\\class\\lib\\site-packages\\sklearn\\svm\\_base.py:1250: ConvergenceWarning: Liblinear failed to converge, increase the number of iterations.\n",
      "  warnings.warn(\n"
     ]
    },
    {
     "name": "stdout",
     "output_type": "stream",
     "text": [
      "[CV 5/5] END .................C=100, penalty=l1;, score=0.837 total time=   1.2s\n",
      "[CV 1/5] END .................C=100, penalty=l2;, score=0.868 total time=   0.0s\n",
      "[CV 2/5] END .................C=100, penalty=l2;, score=0.865 total time=   0.0s\n",
      "[CV 3/5] END .................C=100, penalty=l2;, score=0.870 total time=   0.1s\n",
      "[CV 4/5] END .................C=100, penalty=l2;, score=0.863 total time=   0.1s\n",
      "[CV 5/5] END .................C=100, penalty=l2;, score=0.870 total time=   0.0s\n"
     ]
    },
    {
     "name": "stderr",
     "output_type": "stream",
     "text": [
      "C:\\ProgramData\\anaconda3\\envs\\class\\lib\\site-packages\\sklearn\\svm\\_base.py:1250: ConvergenceWarning: Liblinear failed to converge, increase the number of iterations.\n",
      "  warnings.warn(\n"
     ]
    },
    {
     "name": "stdout",
     "output_type": "stream",
     "text": [
      "[CV 1/5] END ................C=1000, penalty=l1;, score=0.847 total time=   1.2s\n"
     ]
    },
    {
     "name": "stderr",
     "output_type": "stream",
     "text": [
      "C:\\ProgramData\\anaconda3\\envs\\class\\lib\\site-packages\\sklearn\\svm\\_base.py:1250: ConvergenceWarning: Liblinear failed to converge, increase the number of iterations.\n",
      "  warnings.warn(\n"
     ]
    },
    {
     "name": "stdout",
     "output_type": "stream",
     "text": [
      "[CV 2/5] END ................C=1000, penalty=l1;, score=0.837 total time=   1.2s\n"
     ]
    },
    {
     "name": "stderr",
     "output_type": "stream",
     "text": [
      "C:\\ProgramData\\anaconda3\\envs\\class\\lib\\site-packages\\sklearn\\svm\\_base.py:1250: ConvergenceWarning: Liblinear failed to converge, increase the number of iterations.\n",
      "  warnings.warn(\n"
     ]
    },
    {
     "name": "stdout",
     "output_type": "stream",
     "text": [
      "[CV 3/5] END ................C=1000, penalty=l1;, score=0.843 total time=   1.2s\n"
     ]
    },
    {
     "name": "stderr",
     "output_type": "stream",
     "text": [
      "C:\\ProgramData\\anaconda3\\envs\\class\\lib\\site-packages\\sklearn\\svm\\_base.py:1250: ConvergenceWarning: Liblinear failed to converge, increase the number of iterations.\n",
      "  warnings.warn(\n"
     ]
    },
    {
     "name": "stdout",
     "output_type": "stream",
     "text": [
      "[CV 4/5] END ................C=1000, penalty=l1;, score=0.835 total time=   1.2s\n"
     ]
    },
    {
     "name": "stderr",
     "output_type": "stream",
     "text": [
      "C:\\ProgramData\\anaconda3\\envs\\class\\lib\\site-packages\\sklearn\\svm\\_base.py:1250: ConvergenceWarning: Liblinear failed to converge, increase the number of iterations.\n",
      "  warnings.warn(\n"
     ]
    },
    {
     "name": "stdout",
     "output_type": "stream",
     "text": [
      "[CV 5/5] END ................C=1000, penalty=l1;, score=0.832 total time=   1.2s\n"
     ]
    },
    {
     "name": "stderr",
     "output_type": "stream",
     "text": [
      "C:\\ProgramData\\anaconda3\\envs\\class\\lib\\site-packages\\sklearn\\svm\\_base.py:1250: ConvergenceWarning: Liblinear failed to converge, increase the number of iterations.\n",
      "  warnings.warn(\n"
     ]
    },
    {
     "name": "stdout",
     "output_type": "stream",
     "text": [
      "[CV 1/5] END ................C=1000, penalty=l2;, score=0.851 total time=   0.9s\n",
      "[CV 2/5] END ................C=1000, penalty=l2;, score=0.843 total time=   0.7s\n",
      "[CV 3/5] END ................C=1000, penalty=l2;, score=0.845 total time=   0.8s\n",
      "[CV 4/5] END ................C=1000, penalty=l2;, score=0.839 total time=   0.8s\n",
      "[CV 5/5] END ................C=1000, penalty=l2;, score=0.842 total time=   0.9s\n",
      "{'C': 10, 'penalty': 'l2'}\n",
      "정확도: 0.872\n",
      "F1 스코어: 0.8711625566180171\n",
      "Recall 값: 0.8655\n"
     ]
    },
    {
     "name": "stderr",
     "output_type": "stream",
     "text": [
      "C:\\ProgramData\\anaconda3\\envs\\class\\lib\\site-packages\\sklearn\\svm\\_base.py:1250: ConvergenceWarning: Liblinear failed to converge, increase the number of iterations.\n",
      "  warnings.warn(\n"
     ]
    }
   ],
   "source": [
    "#SVM 모델\n",
    "param_grid = {'C': [0.1, 1, 10, 100, 1000], \n",
    "              'penalty': ['l1', 'l2']}\n",
    "\n",
    "grid = GridSearchCV(LinearSVC(max_iter=500, dual=False), param_grid, refit=True, verbose=3)\n",
    "\n",
    "grid.fit(tfidfv, y_train)\n",
    "print(grid.best_params_)\n",
    "\n",
    "predicted = grid.predict(tfidfv_test)\n",
    "print(\"정확도:\", accuracy_score(y_test, predicted))"
   ]
  },
  {
   "cell_type": "code",
   "execution_count": 21,
   "id": "de4832f8",
   "metadata": {
    "scrolled": true
   },
   "outputs": [
    {
     "name": "stdout",
     "output_type": "stream",
     "text": [
      "Fitting 5 folds for each of 12 candidates, totalling 60 fits\n",
      "[CV 1/5] END ........alpha=0.01, fit_prior=True;, score=0.887 total time=   0.0s\n",
      "[CV 2/5] END ........alpha=0.01, fit_prior=True;, score=0.880 total time=   0.0s\n",
      "[CV 3/5] END ........alpha=0.01, fit_prior=True;, score=0.896 total time=   0.0s\n",
      "[CV 4/5] END ........alpha=0.01, fit_prior=True;, score=0.897 total time=   0.0s\n",
      "[CV 5/5] END ........alpha=0.01, fit_prior=True;, score=0.888 total time=   0.0s\n",
      "[CV 1/5] END .......alpha=0.01, fit_prior=False;, score=0.887 total time=   0.0s\n",
      "[CV 2/5] END .......alpha=0.01, fit_prior=False;, score=0.880 total time=   0.0s\n",
      "[CV 3/5] END .......alpha=0.01, fit_prior=False;, score=0.896 total time=   0.0s\n",
      "[CV 4/5] END .......alpha=0.01, fit_prior=False;, score=0.897 total time=   0.0s\n",
      "[CV 5/5] END .......alpha=0.01, fit_prior=False;, score=0.888 total time=   0.0s\n",
      "[CV 1/5] END .........alpha=0.1, fit_prior=True;, score=0.878 total time=   0.0s\n",
      "[CV 2/5] END .........alpha=0.1, fit_prior=True;, score=0.871 total time=   0.0s\n",
      "[CV 3/5] END .........alpha=0.1, fit_prior=True;, score=0.888 total time=   0.0s\n",
      "[CV 4/5] END .........alpha=0.1, fit_prior=True;, score=0.892 total time=   0.0s\n",
      "[CV 5/5] END .........alpha=0.1, fit_prior=True;, score=0.882 total time=   0.0s\n",
      "[CV 1/5] END ........alpha=0.1, fit_prior=False;, score=0.878 total time=   0.0s\n",
      "[CV 2/5] END ........alpha=0.1, fit_prior=False;, score=0.871 total time=   0.0s\n",
      "[CV 3/5] END ........alpha=0.1, fit_prior=False;, score=0.888 total time=   0.0s\n",
      "[CV 4/5] END ........alpha=0.1, fit_prior=False;, score=0.892 total time=   0.0s\n",
      "[CV 5/5] END ........alpha=0.1, fit_prior=False;, score=0.882 total time=   0.0s\n",
      "[CV 1/5] END .........alpha=0.5, fit_prior=True;, score=0.869 total time=   0.0s\n",
      "[CV 2/5] END .........alpha=0.5, fit_prior=True;, score=0.863 total time=   0.0s\n",
      "[CV 3/5] END .........alpha=0.5, fit_prior=True;, score=0.876 total time=   0.0s\n",
      "[CV 4/5] END .........alpha=0.5, fit_prior=True;, score=0.878 total time=   0.0s\n",
      "[CV 5/5] END .........alpha=0.5, fit_prior=True;, score=0.873 total time=   0.0s\n",
      "[CV 1/5] END ........alpha=0.5, fit_prior=False;, score=0.869 total time=   0.0s\n",
      "[CV 2/5] END ........alpha=0.5, fit_prior=False;, score=0.863 total time=   0.0s\n",
      "[CV 3/5] END ........alpha=0.5, fit_prior=False;, score=0.876 total time=   0.0s\n",
      "[CV 4/5] END ........alpha=0.5, fit_prior=False;, score=0.878 total time=   0.0s\n",
      "[CV 5/5] END ........alpha=0.5, fit_prior=False;, score=0.873 total time=   0.0s\n",
      "[CV 1/5] END ...........alpha=1, fit_prior=True;, score=0.865 total time=   0.0s\n",
      "[CV 2/5] END ...........alpha=1, fit_prior=True;, score=0.864 total time=   0.0s\n",
      "[CV 3/5] END ...........alpha=1, fit_prior=True;, score=0.870 total time=   0.0s\n",
      "[CV 4/5] END ...........alpha=1, fit_prior=True;, score=0.873 total time=   0.0s\n",
      "[CV 5/5] END ...........alpha=1, fit_prior=True;, score=0.870 total time=   0.0s\n",
      "[CV 1/5] END ..........alpha=1, fit_prior=False;, score=0.865 total time=   0.0s\n",
      "[CV 2/5] END ..........alpha=1, fit_prior=False;, score=0.864 total time=   0.0s\n",
      "[CV 3/5] END ..........alpha=1, fit_prior=False;, score=0.870 total time=   0.0s\n",
      "[CV 4/5] END ..........alpha=1, fit_prior=False;, score=0.873 total time=   0.0s\n",
      "[CV 5/5] END ..........alpha=1, fit_prior=False;, score=0.870 total time=   0.0s\n",
      "[CV 1/5] END ..........alpha=10, fit_prior=True;, score=0.848 total time=   0.0s\n",
      "[CV 2/5] END ..........alpha=10, fit_prior=True;, score=0.848 total time=   0.0s\n",
      "[CV 3/5] END ..........alpha=10, fit_prior=True;, score=0.856 total time=   0.0s\n",
      "[CV 4/5] END ..........alpha=10, fit_prior=True;, score=0.856 total time=   0.0s\n",
      "[CV 5/5] END ..........alpha=10, fit_prior=True;, score=0.852 total time=   0.0s\n",
      "[CV 1/5] END .........alpha=10, fit_prior=False;, score=0.848 total time=   0.0s\n",
      "[CV 2/5] END .........alpha=10, fit_prior=False;, score=0.848 total time=   0.0s\n",
      "[CV 3/5] END .........alpha=10, fit_prior=False;, score=0.856 total time=   0.0s\n",
      "[CV 4/5] END .........alpha=10, fit_prior=False;, score=0.856 total time=   0.0s\n",
      "[CV 5/5] END .........alpha=10, fit_prior=False;, score=0.852 total time=   0.0s\n",
      "[CV 1/5] END .........alpha=100, fit_prior=True;, score=0.740 total time=   0.0s\n",
      "[CV 2/5] END .........alpha=100, fit_prior=True;, score=0.739 total time=   0.0s\n",
      "[CV 3/5] END .........alpha=100, fit_prior=True;, score=0.747 total time=   0.0s\n",
      "[CV 4/5] END .........alpha=100, fit_prior=True;, score=0.764 total time=   0.0s\n",
      "[CV 5/5] END .........alpha=100, fit_prior=True;, score=0.748 total time=   0.0s\n",
      "[CV 1/5] END ........alpha=100, fit_prior=False;, score=0.740 total time=   0.0s\n",
      "[CV 2/5] END ........alpha=100, fit_prior=False;, score=0.739 total time=   0.0s\n",
      "[CV 3/5] END ........alpha=100, fit_prior=False;, score=0.747 total time=   0.0s\n",
      "[CV 4/5] END ........alpha=100, fit_prior=False;, score=0.764 total time=   0.0s\n",
      "[CV 5/5] END ........alpha=100, fit_prior=False;, score=0.748 total time=   0.0s\n",
      "{'alpha': 0.01, 'fit_prior': True}\n",
      "정확도: 0.8635\n",
      "F1 스코어: 0.8575899843505477\n",
      "Recall 값: 0.822\n"
     ]
    }
   ],
   "source": [
    "#나이브 베이즈 모델\n",
    "param_grid = {'alpha': [0.01, 0.1, 0.5, 1, 10, 100],\n",
    "              'fit_prior': [True, False]}\n",
    "\n",
    "grid = GridSearchCV(MultinomialNB(), param_grid, refit=True, verbose=3)\n",
    "\n",
    "grid.fit(tfidfv, y_train)\n",
    "print(grid.best_params_)\n",
    "\n",
    "predicted = grid.predict(tfidfv_test)\n",
    "print(\"정확도:\", accuracy_score(y_test, predicted))"
   ]
  },
  {
   "cell_type": "code",
   "execution_count": 23,
   "id": "c0c583b5",
   "metadata": {},
   "outputs": [
    {
     "name": "stdout",
     "output_type": "stream",
     "text": [
      "Fitting 5 folds for each of 10 candidates, totalling 50 fits\n",
      "[CV 1/5] END ...................C=0.1, penalty=l1;, score=nan total time=   0.0s\n",
      "[CV 2/5] END ...................C=0.1, penalty=l1;, score=nan total time=   0.0s\n",
      "[CV 3/5] END ...................C=0.1, penalty=l1;, score=nan total time=   0.0s\n",
      "[CV 4/5] END ...................C=0.1, penalty=l1;, score=nan total time=   0.0s\n",
      "[CV 5/5] END ...................C=0.1, penalty=l1;, score=nan total time=   0.0s\n",
      "[CV 1/5] END .................C=0.1, penalty=l2;, score=0.795 total time=   0.0s\n",
      "[CV 2/5] END .................C=0.1, penalty=l2;, score=0.797 total time=   0.0s\n",
      "[CV 3/5] END .................C=0.1, penalty=l2;, score=0.801 total time=   0.0s\n",
      "[CV 4/5] END .................C=0.1, penalty=l2;, score=0.808 total time=   0.0s\n",
      "[CV 5/5] END .................C=0.1, penalty=l2;, score=0.800 total time=   0.0s\n",
      "[CV 1/5] END .....................C=1, penalty=l1;, score=nan total time=   0.0s\n",
      "[CV 2/5] END .....................C=1, penalty=l1;, score=nan total time=   0.0s\n",
      "[CV 3/5] END .....................C=1, penalty=l1;, score=nan total time=   0.0s\n",
      "[CV 4/5] END .....................C=1, penalty=l1;, score=nan total time=   0.0s\n",
      "[CV 5/5] END .....................C=1, penalty=l1;, score=nan total time=   0.0s\n",
      "[CV 1/5] END ...................C=1, penalty=l2;, score=0.833 total time=   0.0s\n",
      "[CV 2/5] END ...................C=1, penalty=l2;, score=0.837 total time=   0.0s\n",
      "[CV 3/5] END ...................C=1, penalty=l2;, score=0.841 total time=   0.0s\n",
      "[CV 4/5] END ...................C=1, penalty=l2;, score=0.842 total time=   0.0s\n",
      "[CV 5/5] END ...................C=1, penalty=l2;, score=0.844 total time=   0.0s\n",
      "[CV 1/5] END ....................C=10, penalty=l1;, score=nan total time=   0.0s\n",
      "[CV 2/5] END ....................C=10, penalty=l1;, score=nan total time=   0.0s\n",
      "[CV 3/5] END ....................C=10, penalty=l1;, score=nan total time=   0.0s\n",
      "[CV 4/5] END ....................C=10, penalty=l1;, score=nan total time=   0.0s\n",
      "[CV 5/5] END ....................C=10, penalty=l1;, score=nan total time=   0.0s\n",
      "[CV 1/5] END ..................C=10, penalty=l2;, score=0.870 total time=   0.1s\n"
     ]
    },
    {
     "name": "stderr",
     "output_type": "stream",
     "text": [
      "C:\\ProgramData\\anaconda3\\envs\\class\\lib\\site-packages\\sklearn\\linear_model\\_logistic.py:460: ConvergenceWarning: lbfgs failed to converge (status=1):\n",
      "STOP: TOTAL NO. of ITERATIONS REACHED LIMIT.\n",
      "\n",
      "Increase the number of iterations (max_iter) or scale the data as shown in:\n",
      "    https://scikit-learn.org/stable/modules/preprocessing.html\n",
      "Please also refer to the documentation for alternative solver options:\n",
      "    https://scikit-learn.org/stable/modules/linear_model.html#logistic-regression\n",
      "  n_iter_i = _check_optimize_result(\n"
     ]
    },
    {
     "name": "stdout",
     "output_type": "stream",
     "text": [
      "[CV 2/5] END ..................C=10, penalty=l2;, score=0.874 total time=   0.0s\n",
      "[CV 3/5] END ..................C=10, penalty=l2;, score=0.882 total time=   0.0s\n",
      "[CV 4/5] END ..................C=10, penalty=l2;, score=0.874 total time=   0.0s\n",
      "[CV 5/5] END ..................C=10, penalty=l2;, score=0.877 total time=   0.1s\n",
      "[CV 1/5] END ...................C=100, penalty=l1;, score=nan total time=   0.0s\n",
      "[CV 2/5] END ...................C=100, penalty=l1;, score=nan total time=   0.0s\n",
      "[CV 3/5] END ...................C=100, penalty=l1;, score=nan total time=   0.0s\n",
      "[CV 4/5] END ...................C=100, penalty=l1;, score=nan total time=   0.0s\n",
      "[CV 5/5] END ...................C=100, penalty=l1;, score=nan total time=   0.0s\n"
     ]
    },
    {
     "name": "stderr",
     "output_type": "stream",
     "text": [
      "C:\\ProgramData\\anaconda3\\envs\\class\\lib\\site-packages\\sklearn\\linear_model\\_logistic.py:460: ConvergenceWarning: lbfgs failed to converge (status=1):\n",
      "STOP: TOTAL NO. of ITERATIONS REACHED LIMIT.\n",
      "\n",
      "Increase the number of iterations (max_iter) or scale the data as shown in:\n",
      "    https://scikit-learn.org/stable/modules/preprocessing.html\n",
      "Please also refer to the documentation for alternative solver options:\n",
      "    https://scikit-learn.org/stable/modules/linear_model.html#logistic-regression\n",
      "  n_iter_i = _check_optimize_result(\n",
      "C:\\ProgramData\\anaconda3\\envs\\class\\lib\\site-packages\\sklearn\\linear_model\\_logistic.py:460: ConvergenceWarning: lbfgs failed to converge (status=1):\n",
      "STOP: TOTAL NO. of ITERATIONS REACHED LIMIT.\n",
      "\n",
      "Increase the number of iterations (max_iter) or scale the data as shown in:\n",
      "    https://scikit-learn.org/stable/modules/preprocessing.html\n",
      "Please also refer to the documentation for alternative solver options:\n",
      "    https://scikit-learn.org/stable/modules/linear_model.html#logistic-regression\n",
      "  n_iter_i = _check_optimize_result(\n"
     ]
    },
    {
     "name": "stdout",
     "output_type": "stream",
     "text": [
      "[CV 1/5] END .................C=100, penalty=l2;, score=0.887 total time=   0.1s\n",
      "[CV 2/5] END .................C=100, penalty=l2;, score=0.881 total time=   0.1s\n"
     ]
    },
    {
     "name": "stderr",
     "output_type": "stream",
     "text": [
      "C:\\ProgramData\\anaconda3\\envs\\class\\lib\\site-packages\\sklearn\\linear_model\\_logistic.py:460: ConvergenceWarning: lbfgs failed to converge (status=1):\n",
      "STOP: TOTAL NO. of ITERATIONS REACHED LIMIT.\n",
      "\n",
      "Increase the number of iterations (max_iter) or scale the data as shown in:\n",
      "    https://scikit-learn.org/stable/modules/preprocessing.html\n",
      "Please also refer to the documentation for alternative solver options:\n",
      "    https://scikit-learn.org/stable/modules/linear_model.html#logistic-regression\n",
      "  n_iter_i = _check_optimize_result(\n",
      "C:\\ProgramData\\anaconda3\\envs\\class\\lib\\site-packages\\sklearn\\linear_model\\_logistic.py:460: ConvergenceWarning: lbfgs failed to converge (status=1):\n",
      "STOP: TOTAL NO. of ITERATIONS REACHED LIMIT.\n",
      "\n",
      "Increase the number of iterations (max_iter) or scale the data as shown in:\n",
      "    https://scikit-learn.org/stable/modules/preprocessing.html\n",
      "Please also refer to the documentation for alternative solver options:\n",
      "    https://scikit-learn.org/stable/modules/linear_model.html#logistic-regression\n",
      "  n_iter_i = _check_optimize_result(\n"
     ]
    },
    {
     "name": "stdout",
     "output_type": "stream",
     "text": [
      "[CV 3/5] END .................C=100, penalty=l2;, score=0.892 total time=   0.1s\n",
      "[CV 4/5] END .................C=100, penalty=l2;, score=0.882 total time=   0.1s\n"
     ]
    },
    {
     "name": "stderr",
     "output_type": "stream",
     "text": [
      "C:\\ProgramData\\anaconda3\\envs\\class\\lib\\site-packages\\sklearn\\linear_model\\_logistic.py:460: ConvergenceWarning: lbfgs failed to converge (status=1):\n",
      "STOP: TOTAL NO. of ITERATIONS REACHED LIMIT.\n",
      "\n",
      "Increase the number of iterations (max_iter) or scale the data as shown in:\n",
      "    https://scikit-learn.org/stable/modules/preprocessing.html\n",
      "Please also refer to the documentation for alternative solver options:\n",
      "    https://scikit-learn.org/stable/modules/linear_model.html#logistic-regression\n",
      "  n_iter_i = _check_optimize_result(\n",
      "C:\\ProgramData\\anaconda3\\envs\\class\\lib\\site-packages\\sklearn\\linear_model\\_logistic.py:460: ConvergenceWarning: lbfgs failed to converge (status=1):\n",
      "STOP: TOTAL NO. of ITERATIONS REACHED LIMIT.\n",
      "\n",
      "Increase the number of iterations (max_iter) or scale the data as shown in:\n",
      "    https://scikit-learn.org/stable/modules/preprocessing.html\n",
      "Please also refer to the documentation for alternative solver options:\n",
      "    https://scikit-learn.org/stable/modules/linear_model.html#logistic-regression\n",
      "  n_iter_i = _check_optimize_result(\n"
     ]
    },
    {
     "name": "stdout",
     "output_type": "stream",
     "text": [
      "[CV 5/5] END .................C=100, penalty=l2;, score=0.883 total time=   0.1s\n",
      "[CV 1/5] END ..................C=1000, penalty=l1;, score=nan total time=   0.0s\n",
      "[CV 2/5] END ..................C=1000, penalty=l1;, score=nan total time=   0.0s\n",
      "[CV 3/5] END ..................C=1000, penalty=l1;, score=nan total time=   0.0s\n",
      "[CV 4/5] END ..................C=1000, penalty=l1;, score=nan total time=   0.0s\n",
      "[CV 5/5] END ..................C=1000, penalty=l1;, score=nan total time=   0.0s\n",
      "[CV 1/5] END ................C=1000, penalty=l2;, score=0.873 total time=   0.1s\n"
     ]
    },
    {
     "name": "stderr",
     "output_type": "stream",
     "text": [
      "C:\\ProgramData\\anaconda3\\envs\\class\\lib\\site-packages\\sklearn\\linear_model\\_logistic.py:460: ConvergenceWarning: lbfgs failed to converge (status=1):\n",
      "STOP: TOTAL NO. of ITERATIONS REACHED LIMIT.\n",
      "\n",
      "Increase the number of iterations (max_iter) or scale the data as shown in:\n",
      "    https://scikit-learn.org/stable/modules/preprocessing.html\n",
      "Please also refer to the documentation for alternative solver options:\n",
      "    https://scikit-learn.org/stable/modules/linear_model.html#logistic-regression\n",
      "  n_iter_i = _check_optimize_result(\n",
      "C:\\ProgramData\\anaconda3\\envs\\class\\lib\\site-packages\\sklearn\\linear_model\\_logistic.py:460: ConvergenceWarning: lbfgs failed to converge (status=1):\n",
      "STOP: TOTAL NO. of ITERATIONS REACHED LIMIT.\n",
      "\n",
      "Increase the number of iterations (max_iter) or scale the data as shown in:\n",
      "    https://scikit-learn.org/stable/modules/preprocessing.html\n",
      "Please also refer to the documentation for alternative solver options:\n",
      "    https://scikit-learn.org/stable/modules/linear_model.html#logistic-regression\n",
      "  n_iter_i = _check_optimize_result(\n"
     ]
    },
    {
     "name": "stdout",
     "output_type": "stream",
     "text": [
      "[CV 2/5] END ................C=1000, penalty=l2;, score=0.872 total time=   0.1s\n",
      "[CV 3/5] END ................C=1000, penalty=l2;, score=0.877 total time=   0.1s\n"
     ]
    },
    {
     "name": "stderr",
     "output_type": "stream",
     "text": [
      "C:\\ProgramData\\anaconda3\\envs\\class\\lib\\site-packages\\sklearn\\linear_model\\_logistic.py:460: ConvergenceWarning: lbfgs failed to converge (status=1):\n",
      "STOP: TOTAL NO. of ITERATIONS REACHED LIMIT.\n",
      "\n",
      "Increase the number of iterations (max_iter) or scale the data as shown in:\n",
      "    https://scikit-learn.org/stable/modules/preprocessing.html\n",
      "Please also refer to the documentation for alternative solver options:\n",
      "    https://scikit-learn.org/stable/modules/linear_model.html#logistic-regression\n",
      "  n_iter_i = _check_optimize_result(\n",
      "C:\\ProgramData\\anaconda3\\envs\\class\\lib\\site-packages\\sklearn\\linear_model\\_logistic.py:460: ConvergenceWarning: lbfgs failed to converge (status=1):\n",
      "STOP: TOTAL NO. of ITERATIONS REACHED LIMIT.\n",
      "\n",
      "Increase the number of iterations (max_iter) or scale the data as shown in:\n",
      "    https://scikit-learn.org/stable/modules/preprocessing.html\n",
      "Please also refer to the documentation for alternative solver options:\n",
      "    https://scikit-learn.org/stable/modules/linear_model.html#logistic-regression\n",
      "  n_iter_i = _check_optimize_result(\n",
      "C:\\ProgramData\\anaconda3\\envs\\class\\lib\\site-packages\\sklearn\\model_selection\\_validation.py:425: FitFailedWarning: \n",
      "25 fits failed out of a total of 50.\n",
      "The score on these train-test partitions for these parameters will be set to nan.\n",
      "If these failures are not expected, you can try to debug them by setting error_score='raise'.\n",
      "\n",
      "Below are more details about the failures:\n",
      "--------------------------------------------------------------------------------\n",
      "25 fits failed with the following error:\n",
      "Traceback (most recent call last):\n",
      "  File \"C:\\ProgramData\\anaconda3\\envs\\class\\lib\\site-packages\\sklearn\\model_selection\\_validation.py\", line 729, in _fit_and_score\n",
      "    estimator.fit(X_train, y_train, **fit_params)\n",
      "  File \"C:\\ProgramData\\anaconda3\\envs\\class\\lib\\site-packages\\sklearn\\base.py\", line 1152, in wrapper\n",
      "    return fit_method(estimator, *args, **kwargs)\n",
      "  File \"C:\\ProgramData\\anaconda3\\envs\\class\\lib\\site-packages\\sklearn\\linear_model\\_logistic.py\", line 1169, in fit\n",
      "    solver = _check_solver(self.solver, self.penalty, self.dual)\n",
      "  File \"C:\\ProgramData\\anaconda3\\envs\\class\\lib\\site-packages\\sklearn\\linear_model\\_logistic.py\", line 56, in _check_solver\n",
      "    raise ValueError(\n",
      "ValueError: Solver lbfgs supports only 'l2' or 'none' penalties, got l1 penalty.\n",
      "\n",
      "  warnings.warn(some_fits_failed_message, FitFailedWarning)\n",
      "C:\\ProgramData\\anaconda3\\envs\\class\\lib\\site-packages\\sklearn\\model_selection\\_search.py:979: UserWarning: One or more of the test scores are non-finite: [      nan 0.8005625       nan 0.8395625       nan 0.8754375       nan\n",
      " 0.885           nan 0.874375 ]\n",
      "  warnings.warn(\n"
     ]
    },
    {
     "name": "stdout",
     "output_type": "stream",
     "text": [
      "[CV 4/5] END ................C=1000, penalty=l2;, score=0.874 total time=   0.1s\n",
      "[CV 5/5] END ................C=1000, penalty=l2;, score=0.877 total time=   0.1s\n",
      "{'C': 100, 'penalty': 'l2'}\n",
      "정확도: 0.87275\n",
      "F1 스코어: 0.8720784116612215\n",
      "Recall 값: 0.8675\n"
     ]
    },
    {
     "name": "stderr",
     "output_type": "stream",
     "text": [
      "C:\\ProgramData\\anaconda3\\envs\\class\\lib\\site-packages\\sklearn\\linear_model\\_logistic.py:460: ConvergenceWarning: lbfgs failed to converge (status=1):\n",
      "STOP: TOTAL NO. of ITERATIONS REACHED LIMIT.\n",
      "\n",
      "Increase the number of iterations (max_iter) or scale the data as shown in:\n",
      "    https://scikit-learn.org/stable/modules/preprocessing.html\n",
      "Please also refer to the documentation for alternative solver options:\n",
      "    https://scikit-learn.org/stable/modules/linear_model.html#logistic-regression\n",
      "  n_iter_i = _check_optimize_result(\n"
     ]
    }
   ],
   "source": [
    "#logistic regression 모델\n",
    "param_grid = {'C': [0.1, 1, 10, 100, 1000], \n",
    "              'penalty': ['l1', 'l2']}\n",
    "\n",
    "grid = GridSearchCV(LogisticRegression(), param_grid, refit=True, verbose=3)\n",
    "\n",
    "grid.fit(tfidfv, y_train)\n",
    "print(grid.best_params_)\n",
    "\n",
    "predicted = grid.predict(tfidfv_test)\n",
    "print(\"정확도:\", accuracy_score(y_test, predicted))"
   ]
  },
  {
   "cell_type": "code",
   "execution_count": null,
   "id": "81d00d5e",
   "metadata": {},
   "outputs": [],
   "source": []
  },
  {
   "cell_type": "code",
   "execution_count": null,
   "id": "ba3a6b32",
   "metadata": {},
   "outputs": [],
   "source": []
  }
 ],
 "metadata": {
  "kernelspec": {
   "display_name": "Python 3 (ipykernel)",
   "language": "python",
   "name": "python3"
  },
  "language_info": {
   "codemirror_mode": {
    "name": "ipython",
    "version": 3
   },
   "file_extension": ".py",
   "mimetype": "text/x-python",
   "name": "python",
   "nbconvert_exporter": "python",
   "pygments_lexer": "ipython3",
   "version": "3.8.13"
  }
 },
 "nbformat": 4,
 "nbformat_minor": 5
}
