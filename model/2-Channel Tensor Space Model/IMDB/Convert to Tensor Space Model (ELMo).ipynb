{
 "cells": [
  {
   "cell_type": "markdown",
   "id": "184f59ff",
   "metadata": {},
   "source": [
    "# 패키지 임포트"
   ]
  },
  {
   "cell_type": "code",
   "execution_count": 1,
   "id": "9eea6643",
   "metadata": {},
   "outputs": [],
   "source": [
    "import pandas as pd\n",
    "import numpy as np\n",
    "import tensorflow as tf\n",
    "import nltk\n",
    "import os\n",
    "import string\n",
    "import re\n",
    "import json\n",
    "import keras\n",
    "from data_preprocessing import *\n",
    "from sklearn.preprocessing import LabelEncoder\n",
    "from sklearn.feature_selection import SelectKBest\n",
    "from sklearn.feature_selection import chi2\n",
    "from sklearn.feature_extraction.text import CountVectorizer"
   ]
  },
  {
   "cell_type": "markdown",
   "id": "c2684cc3",
   "metadata": {},
   "source": [
    "# 데이터 로드"
   ]
  },
  {
   "cell_type": "code",
   "execution_count": 2,
   "id": "8fcc25f1",
   "metadata": {},
   "outputs": [],
   "source": [
    "TRAIN_DATA_PATH = \"./IMDB_dataset/train\"   #데이터 경로 설정\n",
    "TEST_DATA_PATH = \"./IMDB_dataset/test\"     #데이터 경로 설정\n",
    "\n",
    "def read_text_file(path):\n",
    "    labels = ['neg','pos']\n",
    "    if os.path.exists(path):\n",
    "        text=[]\n",
    "        text_label =[]\n",
    "        for directory_name in os.listdir(path):\n",
    "            if directory_name in labels:\n",
    "                label_index = labels.index(directory_name)\n",
    "                data_path = os.path.join(path,directory_name)\n",
    "                for file in os.listdir(data_path):\n",
    "                    with open(os.path.join(data_path,file),'r', encoding='utf-8') as f:\n",
    "                        text.append(f.read())\n",
    "                        text_label.append(label_index)\n",
    "        return pd.DataFrame(text,columns =['texts']),pd.DataFrame(text_label,columns =['label'])\n",
    "    \n",
    "x_train,y_train = read_text_file(TRAIN_DATA_PATH) \n",
    "x_test,y_test = read_text_file(TEST_DATA_PATH)\n",
    "\n",
    "#불용어 불러오기\n",
    "with open('./english_stopwords.txt', 'r', encoding='utf-8') as file:\n",
    "    stopwords = [line.strip() for line in file]"
   ]
  },
  {
   "cell_type": "markdown",
   "id": "14bbb70b",
   "metadata": {},
   "source": [
    "# 전처리"
   ]
  },
  {
   "cell_type": "code",
   "execution_count": 3,
   "id": "e0128117",
   "metadata": {},
   "outputs": [],
   "source": [
    "train = pd.concat([x_train, y_train], axis=1)\n",
    "test = pd.concat([x_test, y_test], axis=1)\n",
    "\n",
    "train.drop_duplicates(inplace=True)\n",
    "test.drop_duplicates(inplace=True)\n",
    "\n",
    "train[['texts']] = train[['texts']].applymap(lambda x:remove_punctuation(x))\n",
    "train[['texts']] = train[['texts']].applymap(lambda x:x.lower())\n",
    "test[['texts']] = test[['texts']].applymap(lambda x:remove_punctuation(x))\n",
    "test[['texts']] = test[['texts']].applymap(lambda x:x.lower())\n",
    "\n",
    "X_train = train.drop(columns=['label'])\n",
    "X_test = test.drop(columns=['label'])\n",
    "y_train = train['label']\n",
    "y_test = test['label']\n",
    "\n",
    "X_train = X_train['texts'].apply(clean_text)\n",
    "X_test = X_test['texts'].apply(clean_text)\n",
    "\n",
    "pattern = '[^a-z ]'\n",
    "Clean_X_train=[]\n",
    "Clean_X_test=[]\n",
    "\n",
    "for sen in X_train:\n",
    "    Clean_X_train.append(re.sub(pattern, '', str(sen)))\n",
    "    \n",
    "for sen in X_test:\n",
    "    Clean_X_test.append(re.sub(pattern, '', str(sen)))\n",
    "\n",
    "y_train=list(y_train)\n",
    "y_test=list(y_test)\n",
    "\n",
    "train_df = pd.DataFrame({'X_train': Clean_X_train, 'y_train': y_train})\n",
    "test_df = pd.DataFrame({'X_test': Clean_X_test, 'y_test': y_test})\n",
    "\n",
    "# 레이블 값에 따라 데이터프레임을 그룹화하고 각 그룹에서 8000개의 샘플을 랜덤하게 추출\n",
    "train_df = train_df.groupby('y_train').apply(lambda x: x.sample(n=8000, random_state=42))\n",
    "\n",
    "# 레이블 값에 따라 데이터프레임을 그룹화하고 각 그룹에서 2000개의 샘플을 랜덤하게 추출\n",
    "test_df = test_df.groupby('y_test').apply(lambda x: x.sample(n=2000, random_state=42))\n",
    "\n",
    "# 인덱스를 재설정합니다. drop=True 옵션을 사용하여 기존 인덱스를 제거합니다.\n",
    "train_df = train_df.reset_index(drop=True)\n",
    "test_df = test_df.reset_index(drop=True)\n",
    "\n",
    "x_train = train_df['X_train'].tolist()\n",
    "y_train = train_df['y_train'].tolist()\n",
    "x_test = test_df['X_test'].tolist()\n",
    "y_test = test_df['y_test'].tolist()\n",
    "\n",
    "to_txt=x_train+x_test\n",
    "y=y_train+y_test\n",
    "\n",
    "encoder=LabelEncoder()\n",
    "\n",
    "encoder.fit(y)\n",
    "\n",
    "label=encoder.transform(y)\n",
    "\n",
    "y_train=list(label[:16000])\n",
    "y_test=list(label[16000:])\n",
    "\n"
   ]
  },
  {
   "cell_type": "markdown",
   "id": "c02f3e46",
   "metadata": {},
   "source": [
    "# tensor space model 생성"
   ]
  },
  {
   "cell_type": "code",
   "execution_count": 5,
   "id": "667f38fa",
   "metadata": {},
   "outputs": [
    {
     "name": "stderr",
     "output_type": "stream",
     "text": [
      "C:\\ProgramData\\anaconda3\\envs\\class\\lib\\site-packages\\sklearn\\feature_extraction\\text.py:408: UserWarning: Your stop_words may be inconsistent with your preprocessing. Tokenizing the stop words generated tokens ['ain', 'daren', 'hadn', 'herse', 'himse', 'itse', 'mayn', 'mightn', 'mon', 'mustn', 'myse', 'needn', 'oughtn', 'shan'] not in stop_words.\n",
      "  warnings.warn(\n"
     ]
    }
   ],
   "source": [
    "#문서 분류에 도움되는 10,000개 단어 선별\n",
    "vect = CountVectorizer(stop_words=stopwords)\n",
    "X_dtm = vect.fit_transform(to_txt)\n",
    "X_dtm = X_dtm.toarray()\n",
    "X_new = SelectKBest(chi2, k=10000).fit(X_dtm, y)\n",
    "TorF = X_new.get_support()\n",
    "TorF\n",
    "word_view=np.array(vect.get_feature_names_out())\n",
    "feature_lst10000=word_view[TorF]"
   ]
  },
  {
   "cell_type": "code",
   "execution_count": null,
   "id": "4b2d8c51",
   "metadata": {},
   "outputs": [],
   "source": [
    "doc_lst=[]\n",
    "for sen in x_train:\n",
    "    doc_lst.append(sen.split())\n",
    "\n",
    "test_lst=[]\n",
    "for sen in x_test:\n",
    "    test_lst.append(sen.split())\n",
    "    \n",
    "#Train_data에서 문서가 갖고 있는 선별한 feauture의 수 확인\n",
    "count_lst=[]\n",
    "for i in range(16000):\n",
    "    total_feature_cnt=0\n",
    "    for j in range(10000):\n",
    "        if feature_lst10000[j] in doc_lst[i]:\n",
    "            total_feature_cnt+=1\n",
    "    count_lst.append(total_feature_cnt)\n",
    "    \n",
    "print('Train_data에서 가장 많은 feature를 가진 문서의 경우 feature',max(count_lst),' 개를 가짐')\n",
    "print('Train_data에서 가장 적은 feature를 가진 문서의 경우 feature',min(count_lst),' 개를 가짐')\n",
    "\n",
    "train_max_feature=max(count_lst)\n",
    "\n",
    "#Test_data에서 문서가 갖고 있는 선별한 feauture의 수 확인\n",
    "count_lst=[]\n",
    "for i in range(4000):\n",
    "    \n",
    "    total_feature_cnt=0\n",
    "    for j in range(10000):\n",
    "        if feature_lst10000[j] in test_lst[i]:\n",
    "            total_feature_cnt+=1\n",
    "    count_lst.append(total_feature_cnt)\n",
    "    \n",
    "print('Test_data에서 가장 많은 feature를 가진 문서의 경우 feature',max(count_lst),' 개를 가짐')\n",
    "print('Test_data에서 가장 적은 feature를 가진 문서의 경우 feature',min(count_lst),' 개를 가짐')\n",
    "\n",
    "test_max_feature=max(count_lst)\n",
    "\n",
    "max_feature=max(train_max_feature,test_max_feature)"
   ]
  },
  {
   "cell_type": "code",
   "execution_count": 13,
   "id": "450c858e",
   "metadata": {},
   "outputs": [],
   "source": [
    "#1-Channel TextCuboid 생성\n",
    "textcuboid=[]\n",
    "    \n",
    "\n",
    "for i in range(16000):\n",
    "    frame1=np.zeros((max_feature,256)) #(max_feature, 256)\n",
    "    idx_cnt=0\n",
    "    for j in range(10000):\n",
    "        if feature_lst10000[j] in doc_lst[i]:\n",
    "            #문서에서 선별한 단어(feature)의 위치를 찾아 임베딩 벡터 추출\n",
    "            frame1[idx_cnt]=np.load('./elmo_embedding/train(IMDB256)/doc%d.npy'%i)[doc_lst[i].index(feature_lst10000[j])]\n",
    "            idx_cnt+=1\n",
    "    textcuboid.append(frame1)\n",
    "\n",
    "textcuboid=np.array(textcuboid)\n",
    "\n",
    " np.save('./1-Channel textcuboid_IMDB(elmo).npy',textcuboid)"
   ]
  },
  {
   "cell_type": "code",
   "execution_count": 14,
   "id": "d62745a4",
   "metadata": {},
   "outputs": [],
   "source": [
    "#1-Channel TextCuboid 생성\n",
    "textcuboid_test=[]\n",
    "\n",
    "    \n",
    "for i in range(4000):\n",
    "    frame1=np.zeros((max_feature,256)) #(max_feature, 256)\n",
    "    idx_cnt=0\n",
    "    for j in range(10000):\n",
    "        if feature_lst10000[j] in test_lst[i]:\n",
    "            #문서에서 선별한 단어(feature)의 위치를 찾아 임베딩 벡터 추출\n",
    "            frame1[idx_cnt]=np.load('./elmo_embedding/test(IMDB256)/test%d.npy'%i)[test_lst[i].index(feature_lst10000[j])]\n",
    "            idx_cnt+=1\n",
    "    textcuboid_test.append(frame1)\n",
    "\n",
    "textcuboid_test=np.array(textcuboid_test)\n",
    "np.save('./1-Channel textcuboid_test_IMDB(elmo).npy',textcuboid_test)"
   ]
  },
  {
   "cell_type": "code",
   "execution_count": null,
   "id": "d2e448d4",
   "metadata": {},
   "outputs": [],
   "source": []
  },
  {
   "cell_type": "code",
   "execution_count": null,
   "id": "a3071295",
   "metadata": {},
   "outputs": [],
   "source": []
  }
 ],
 "metadata": {
  "kernelspec": {
   "display_name": "Python 3 (ipykernel)",
   "language": "python",
   "name": "python3"
  },
  "language_info": {
   "codemirror_mode": {
    "name": "ipython",
    "version": 3
   },
   "file_extension": ".py",
   "mimetype": "text/x-python",
   "name": "python",
   "nbconvert_exporter": "python",
   "pygments_lexer": "ipython3",
   "version": "3.8.13"
  }
 },
 "nbformat": 4,
 "nbformat_minor": 5
}
