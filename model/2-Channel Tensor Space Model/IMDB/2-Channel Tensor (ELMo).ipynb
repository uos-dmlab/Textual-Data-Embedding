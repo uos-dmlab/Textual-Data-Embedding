{
 "cells": [
  {
   "cell_type": "markdown",
   "id": "1ed2892d",
   "metadata": {},
   "source": [
    "# 패키지 임포트"
   ]
  },
  {
   "cell_type": "code",
   "execution_count": 1,
   "id": "22d40156",
   "metadata": {},
   "outputs": [],
   "source": [
    "import random\n",
    "import pandas as pd\n",
    "import numpy as np\n",
    "import tensorflow as tf\n",
    "import nltk\n",
    "import os\n",
    "import string\n",
    "import re\n",
    "import json\n",
    "import keras\n",
    "from tensorflow.keras import layers\n",
    "from tensorflow.keras.layers import Input, Conv1D, GlobalMaxPooling1D, Dense, Dropout\n",
    "from tensorflow.keras.models import Model\n",
    "from tensorflow.keras import layers\n",
    "from tensorflow.keras.layers import Attention\n",
    "from keras.models import load_model\n",
    "from tensorflow.keras.preprocessing.text import Tokenizer\n",
    "from transformer_build import  *\n",
    "from data_preprocessing import *\n",
    "from sklearn.metrics import precision_score, recall_score, f1_score\n",
    "from sklearn.model_selection import train_test_split\n",
    "from sklearn.preprocessing import LabelEncoder"
   ]
  },
  {
   "cell_type": "markdown",
   "id": "a8aba1e9",
   "metadata": {},
   "source": [
    "# 데이터 로드"
   ]
  },
  {
   "cell_type": "code",
   "execution_count": 2,
   "id": "ead34dbd",
   "metadata": {},
   "outputs": [],
   "source": [
    "TRAIN_DATA_PATH = \"./aclImdb/train\"   #데이터 경로 설정\n",
    "TEST_DATA_PATH = \"./aclImdb/test\"     #데이터 경로 설정\n",
    "\n",
    "def read_text_file(path):\n",
    "    labels = ['neg','pos']\n",
    "    if os.path.exists(path):\n",
    "        text=[]\n",
    "        text_label =[]\n",
    "        for directory_name in os.listdir(path):\n",
    "            if directory_name in labels:\n",
    "                label_index = labels.index(directory_name)\n",
    "                data_path = os.path.join(path,directory_name)\n",
    "                for file in os.listdir(data_path):\n",
    "                    with open(os.path.join(data_path,file),'r', encoding='utf-8') as f:\n",
    "                        text.append(f.read())\n",
    "                        text_label.append(label_index)\n",
    "        return pd.DataFrame(text,columns =['texts']),pd.DataFrame(text_label,columns =['label'])\n",
    "    \n",
    "x_train,y_train = read_text_file(TRAIN_DATA_PATH) \n",
    "x_test,y_test = read_text_file(TEST_DATA_PATH) \n",
    "\n",
    "textcuboid=np.load('./1-Channel textcuboid_IMDB(elmo).npy')\n",
    "textcuboid_test=np.load('./1-Channel textcuboid_test_IMDB(elmo).npy')"
   ]
  },
  {
   "cell_type": "markdown",
   "id": "2940ba3a",
   "metadata": {},
   "source": [
    "# 전처리"
   ]
  },
  {
   "cell_type": "code",
   "execution_count": 4,
   "id": "9642e3de",
   "metadata": {},
   "outputs": [],
   "source": [
    "train = pd.concat([x_train, y_train], axis=1)\n",
    "test = pd.concat([x_test, y_test], axis=1)\n",
    "\n",
    "train.drop_duplicates(inplace=True)\n",
    "test.drop_duplicates(inplace=True)\n",
    "\n",
    "train[['texts']] = train[['texts']].applymap(lambda x:remove_punctuation(x))\n",
    "train[['texts']] = train[['texts']].applymap(lambda x:x.lower())\n",
    "test[['texts']] = test[['texts']].applymap(lambda x:remove_punctuation(x))\n",
    "test[['texts']] = test[['texts']].applymap(lambda x:x.lower())\n",
    "\n",
    "X_train = train.drop(columns=['label'])\n",
    "X_test = test.drop(columns=['label'])\n",
    "y_train = train['label']\n",
    "y_test = test['label']\n",
    "\n",
    "X_train = X_train['texts'].apply(clean_text)\n",
    "X_test = X_test['texts'].apply(clean_text)\n",
    "\n",
    "pattern = '[^a-z ]'\n",
    "Clean_X_train=[]\n",
    "Clean_X_test=[]\n",
    "\n",
    "for sen in X_train:\n",
    "    Clean_X_train.append(re.sub(pattern, '', str(sen)))\n",
    "    \n",
    "for sen in X_test:\n",
    "    Clean_X_test.append(re.sub(pattern, '', str(sen)))\n",
    "\n",
    "y_train=list(y_train)\n",
    "y_test=list(y_test)\n",
    "\n",
    "train_df = pd.DataFrame({'X_train': Clean_X_train, 'y_train': y_train})\n",
    "test_df = pd.DataFrame({'X_test': Clean_X_test, 'y_test': y_test})\n",
    "\n",
    "# 레이블 값에 따라 데이터프레임을 그룹화하고 각 그룹에서 8000개의 샘플을 랜덤하게 추출\n",
    "train_df = train_df.groupby('y_train').apply(lambda x: x.sample(n=8000, random_state=42))\n",
    "\n",
    "# 레이블 값에 따라 데이터프레임을 그룹화하고 각 그룹에서 2000개의 샘플을 랜덤하게 추출\n",
    "test_df = test_df.groupby('y_test').apply(lambda x: x.sample(n=2000, random_state=42))\n",
    "\n",
    "# 인덱스를 재설정합니다. drop=True 옵션을 사용하여 기존 인덱스를 제거합니다.\n",
    "train_df = train_df.reset_index(drop=True)\n",
    "test_df = test_df.reset_index(drop=True)\n",
    "\n",
    "x_train = train_df['X_train'].tolist()\n",
    "y_train = train_df['y_train'].tolist()\n",
    "x_test = test_df['X_test'].tolist()\n",
    "y_test = test_df['y_test'].tolist()\n",
    "\n",
    "to_txt=x_train+x_test\n",
    "y=y_train+y_test\n",
    "\n",
    "encoder=LabelEncoder()\n",
    "\n",
    "encoder.fit(y)\n",
    "\n",
    "label=encoder.transform(y)\n",
    "\n",
    "y_train=list(label[:16000])\n",
    "y_test=list(label[16000:])\n",
    "\n",
    "    \n",
    "sos_x_train=[]\n",
    "sos_x_test=[]\n",
    "for sen in x_train:\n",
    "    sos_x_train.append('<sos> '+sen)\n",
    "for sen in x_test:\n",
    "    sos_x_test.append('<sos> '+sen)\n",
    "\n",
    "all_txt=sos_x_train+sos_x_test\n",
    "\n",
    "\n",
    "tokenizer = Tokenizer()\n",
    "tokenizer.fit_on_texts(all_txt)\n",
    "\n",
    "vocab_size =len(tokenizer.word_index)+1 #1을 더해야 에러가 안터짐 토큰 영향으로 보임\n",
    "\n",
    "x_train_encoded = tokenizer.texts_to_sequences(sos_x_train)\n",
    "x_test_encoded = tokenizer.texts_to_sequences(sos_x_test)\n",
    "\n",
    "max_len = 1000\n",
    "\n",
    "xtext_train = tf.keras.preprocessing.sequence.pad_sequences(x_train_encoded, maxlen=max_len)\n",
    "xtext_test = tf.keras.preprocessing.sequence.pad_sequences(x_test_encoded, maxlen=max_len)"
   ]
  },
  {
   "cell_type": "markdown",
   "id": "184f59ff",
   "metadata": {},
   "source": [
    "# 모델 빌드\n"
   ]
  },
  {
   "cell_type": "code",
   "execution_count": 5,
   "id": "3a457c12",
   "metadata": {},
   "outputs": [],
   "source": [
    "callbacks = [\n",
    "    keras.callbacks.ModelCheckpoint(\n",
    "        \"best_model_{epoch}.h5\", save_best_only=False, save_freq=5\n",
    "    ),\n",
    "    keras.callbacks.ReduceLROnPlateau(\n",
    "        monitor=\"val_loss\", factor=0.5, patience=2, min_lr=0.0001\n",
    "    ),\n",
    "]"
   ]
  },
  {
   "cell_type": "code",
   "execution_count": 6,
   "id": "532b2e90",
   "metadata": {},
   "outputs": [
    {
     "name": "stdout",
     "output_type": "stream",
     "text": [
      "Model: \"model\"\n",
      "__________________________________________________________________________________________________\n",
      " Layer (type)                   Output Shape         Param #     Connected to                     \n",
      "==================================================================================================\n",
      " input_2 (InputLayer)           [(None, 1000)]       0           []                               \n",
      "                                                                                                  \n",
      " token_and_position_embedding (  (None, 1000, 640)   68590080    ['input_2[0][0]']                \n",
      " TokenAndPositionEmbedding)                                                                       \n",
      "                                                                                                  \n",
      " input_1 (InputLayer)           [(None, 264, 256)]   0           []                               \n",
      "                                                                                                  \n",
      " transformer_block (Transformer  (None, 1000, 640)   1726144     ['token_and_position_embedding[0]\n",
      " Block)                                                          [0]']                            \n",
      "                                                                                                  \n",
      " conv1d (Conv1D)                (None, 264, 1024)    263168      ['input_1[0][0]']                \n",
      "                                                                                                  \n",
      " global_average_pooling1d (Glob  (None, 640)         0           ['transformer_block[0][0]']      \n",
      " alAveragePooling1D)                                                                              \n",
      "                                                                                                  \n",
      " global_max_pooling1d (GlobalMa  (None, 1024)        0           ['conv1d[0][0]']                 \n",
      " xPooling1D)                                                                                      \n",
      "                                                                                                  \n",
      " dropout_2 (Dropout)            (None, 640)          0           ['global_average_pooling1d[0][0]'\n",
      "                                                                 ]                                \n",
      "                                                                                                  \n",
      " dense (Dense)                  (None, 256)          262400      ['global_max_pooling1d[0][0]']   \n",
      "                                                                                                  \n",
      " dense_7 (Dense)                (None, 256)          164096      ['dropout_2[0][0]']              \n",
      "                                                                                                  \n",
      " attention (Attention)          (None, 256)          0           ['dense[0][0]',                  \n",
      "                                                                  'dense[0][0]']                  \n",
      "                                                                                                  \n",
      " attention_1 (Attention)        (None, 256)          0           ['dense_7[0][0]',                \n",
      "                                                                  'dense_7[0][0]']                \n",
      "                                                                                                  \n",
      " concatenate (Concatenate)      (None, 1024)         0           ['dense[0][0]',                  \n",
      "                                                                  'attention[0][0]',              \n",
      "                                                                  'dense_7[0][0]',                \n",
      "                                                                  'attention_1[0][0]']            \n",
      "                                                                                                  \n",
      " dropout_3 (Dropout)            (None, 1024)         0           ['concatenate[0][0]']            \n",
      "                                                                                                  \n",
      " dense_8 (Dense)                (None, 2)            2050        ['dropout_3[0][0]']              \n",
      "                                                                                                  \n",
      "==================================================================================================\n",
      "Total params: 71,007,938\n",
      "Trainable params: 71,007,938\n",
      "Non-trainable params: 0\n",
      "__________________________________________________________________________________________________\n"
     ]
    }
   ],
   "source": [
    "embedding_dim = 640 # 단어의 임베딩 벡터의 차원\n",
    "num_heads = 1  # 어텐션 헤드의 수\n",
    "dff = 64  # 포지션 와이즈 피드 포워드 신경망의 은닉층의 크기\n",
    "\n",
    "#ELMo channel의 학습\n",
    "ELMo_input = Input(shape=(264, 256))\n",
    "conv1 = Conv1D(1024, 1, padding='valid', activation='relu')(ELMo_input)\n",
    "pooling = GlobalMaxPooling1D()(conv1)\n",
    "ELMo_x = Dense(256, activation='relu')(pooling)\n",
    "ELMo_attention_layer = Attention()\n",
    "ELMo_a=ELMo_attention_layer([ELMo_x,ELMo_x])\n",
    "\n",
    "#Sequence channel의 학습\n",
    "Text_inputs = Input(shape=(max_len,))\n",
    "embedding_layer = TokenAndPositionEmbedding(max_len, vocab_size, embedding_dim)\n",
    "Text_x = embedding_layer(Text_inputs)\n",
    "transformer_block = TransformerBlock(embedding_dim, num_heads, dff)\n",
    "Text_x = transformer_block(Text_x)\n",
    "Text_x = tf.keras.layers.GlobalAveragePooling1D()(Text_x)\n",
    "Text_x = tf.keras.layers.Dropout(0.5)(Text_x)\n",
    "Text_x = tf.keras.layers.Dense(256, activation=\"relu\")(Text_x)\n",
    "Text_attention_layer = Attention()\n",
    "Text_a=Text_attention_layer([Text_x,Text_x])\n",
    "\n",
    "#결합 후 분류\n",
    "x = layers.concatenate([ELMo_x,ELMo_a, Text_x,Text_a], axis=-1)\n",
    "x = Dropout(0.5)(x)\n",
    "output_layer = Dense(2, activation='softmax')(x)\n",
    "\n",
    "model = Model(inputs=[ELMo_input, Text_inputs], outputs=output_layer)\n",
    "\n",
    "model.compile(optimizer='adam', loss='sparse_categorical_crossentropy', metrics=['accuracy'])\n",
    "\n",
    "model.summary()"
   ]
  },
  {
   "cell_type": "markdown",
   "id": "c02f3e46",
   "metadata": {},
   "source": [
    "# 모델 학습"
   ]
  },
  {
   "cell_type": "code",
   "execution_count": 7,
   "id": "592095bd",
   "metadata": {},
   "outputs": [
    {
     "ename": "InternalError",
     "evalue": "Failed copying input tensor from /job:localhost/replica:0/task:0/device:CPU:0 to /job:localhost/replica:0/task:0/device:GPU:0 in order to run _EagerConst: Dst tensor is not initialized.",
     "output_type": "error",
     "traceback": [
      "\u001b[1;31m---------------------------------------------------------------------------\u001b[0m",
      "\u001b[1;31mInternalError\u001b[0m                             Traceback (most recent call last)",
      "Input \u001b[1;32mIn [7]\u001b[0m, in \u001b[0;36m<cell line: 22>\u001b[1;34m()\u001b[0m\n\u001b[0;32m     19\u001b[0m y_test\u001b[38;5;241m=\u001b[39mnp\u001b[38;5;241m.\u001b[39marray(y_test)\n\u001b[0;32m     21\u001b[0m \u001b[38;5;66;03m#모델 학습\u001b[39;00m\n\u001b[1;32m---> 22\u001b[0m history \u001b[38;5;241m=\u001b[39m \u001b[43mmodel\u001b[49m\u001b[38;5;241;43m.\u001b[39;49m\u001b[43mfit\u001b[49m\u001b[43m(\u001b[49m\u001b[43m[\u001b[49m\u001b[43mtextcuboid_train\u001b[49m\u001b[43m,\u001b[49m\u001b[43mtext_train\u001b[49m\u001b[43m]\u001b[49m\u001b[43m,\u001b[49m\u001b[43m \u001b[49m\u001b[43my_train\u001b[49m\u001b[43m,\u001b[49m\u001b[43mcallbacks\u001b[49m\u001b[38;5;241;43m=\u001b[39;49m\u001b[43mcallbacks\u001b[49m\u001b[43m,\u001b[49m\u001b[43m \u001b[49m\u001b[43mepochs\u001b[49m\u001b[38;5;241;43m=\u001b[39;49m\u001b[38;5;241;43m30\u001b[39;49m\u001b[43m,\u001b[49m\u001b[43mbatch_size\u001b[49m\u001b[38;5;241;43m=\u001b[39;49m\u001b[38;5;241;43m64\u001b[39;49m\u001b[43m,\u001b[49m\u001b[43mvalidation_data\u001b[49m\u001b[38;5;241;43m=\u001b[39;49m\u001b[43m(\u001b[49m\u001b[43m[\u001b[49m\u001b[43mtextcuboid__val\u001b[49m\u001b[43m,\u001b[49m\u001b[43mtext_val\u001b[49m\u001b[43m]\u001b[49m\u001b[43m,\u001b[49m\u001b[43m \u001b[49m\u001b[43my_val\u001b[49m\u001b[43m)\u001b[49m\u001b[43m)\u001b[49m\n",
      "File \u001b[1;32m~\\anaconda3\\envs\\cuda\\lib\\site-packages\\keras\\utils\\traceback_utils.py:67\u001b[0m, in \u001b[0;36mfilter_traceback.<locals>.error_handler\u001b[1;34m(*args, **kwargs)\u001b[0m\n\u001b[0;32m     65\u001b[0m \u001b[38;5;28;01mexcept\u001b[39;00m \u001b[38;5;167;01mException\u001b[39;00m \u001b[38;5;28;01mas\u001b[39;00m e:  \u001b[38;5;66;03m# pylint: disable=broad-except\u001b[39;00m\n\u001b[0;32m     66\u001b[0m   filtered_tb \u001b[38;5;241m=\u001b[39m _process_traceback_frames(e\u001b[38;5;241m.\u001b[39m__traceback__)\n\u001b[1;32m---> 67\u001b[0m   \u001b[38;5;28;01mraise\u001b[39;00m e\u001b[38;5;241m.\u001b[39mwith_traceback(filtered_tb) \u001b[38;5;28;01mfrom\u001b[39;00m \u001b[38;5;28mNone\u001b[39m\n\u001b[0;32m     68\u001b[0m \u001b[38;5;28;01mfinally\u001b[39;00m:\n\u001b[0;32m     69\u001b[0m   \u001b[38;5;28;01mdel\u001b[39;00m filtered_tb\n",
      "File \u001b[1;32m~\\anaconda3\\envs\\cuda\\lib\\site-packages\\tensorflow\\python\\framework\\constant_op.py:106\u001b[0m, in \u001b[0;36mconvert_to_eager_tensor\u001b[1;34m(value, ctx, dtype)\u001b[0m\n\u001b[0;32m    104\u001b[0m     dtype \u001b[38;5;241m=\u001b[39m dtypes\u001b[38;5;241m.\u001b[39mas_dtype(dtype)\u001b[38;5;241m.\u001b[39mas_datatype_enum\n\u001b[0;32m    105\u001b[0m ctx\u001b[38;5;241m.\u001b[39mensure_initialized()\n\u001b[1;32m--> 106\u001b[0m \u001b[38;5;28;01mreturn\u001b[39;00m \u001b[43mops\u001b[49m\u001b[38;5;241;43m.\u001b[39;49m\u001b[43mEagerTensor\u001b[49m\u001b[43m(\u001b[49m\u001b[43mvalue\u001b[49m\u001b[43m,\u001b[49m\u001b[43m \u001b[49m\u001b[43mctx\u001b[49m\u001b[38;5;241;43m.\u001b[39;49m\u001b[43mdevice_name\u001b[49m\u001b[43m,\u001b[49m\u001b[43m \u001b[49m\u001b[43mdtype\u001b[49m\u001b[43m)\u001b[49m\n",
      "\u001b[1;31mInternalError\u001b[0m: Failed copying input tensor from /job:localhost/replica:0/task:0/device:CPU:0 to /job:localhost/replica:0/task:0/device:GPU:0 in order to run _EagerConst: Dst tensor is not initialized."
     ]
    }
   ],
   "source": [
    "#Train 데이터 섞기\n",
    "tmp = [[x,y,z] for x, y, z in zip(xtext_train, textcuboid, y_train)]\n",
    "random.shuffle(tmp)\n",
    "xtext_train = [n[0] for n in tmp]\n",
    "textcuboid = [n[1] for n in tmp]\n",
    "y_train = [n[2] for n in tmp]\n",
    "xtext_train=np.array(xtext_train)\n",
    "textcuboid=np.array(textcuboid)\n",
    "y_train=np.array(y_train)\n",
    "\n",
    "#Vaiidation 데이터\n",
    "textcuboid_train=textcuboid[1000:]\n",
    "text_train=xtext_train[1000:]\n",
    "textcuboid__val=textcuboid[:1000]\n",
    "text_val=xtext_train[:1000]\n",
    "y_val=y_train[:1000]\n",
    "y_train=y_train[1000:]\n",
    "text_test=xtext_test\n",
    "y_test=np.array(y_test)\n",
    "\n",
    "#모델 학습\n",
    "history = model.fit([textcuboid_train,text_train], y_train,callbacks=callbacks, epochs=30,batch_size=256,validation_data=([textcuboid__val,text_val], y_val))"
   ]
  },
  {
   "cell_type": "code",
   "execution_count": 18,
   "id": "4abfefe7",
   "metadata": {
    "scrolled": true
   },
   "outputs": [
    {
     "name": "stdout",
     "output_type": "stream",
     "text": [
      "125/125 [==============================] - 3s 22ms/step - loss: 0.1573 - accuracy: 0.9463\n"
     ]
    },
    {
     "data": {
      "text/plain": [
       "[0.15725895762443542, 0.9462500214576721]"
      ]
     },
     "execution_count": 18,
     "metadata": {},
     "output_type": "execute_result"
    }
   ],
   "source": [
    "model.evaluate([textcuboid_test,text_test],y_test)"
   ]
  },
  {
   "cell_type": "code",
   "execution_count": 22,
   "id": "eb178a78",
   "metadata": {},
   "outputs": [
    {
     "name": "stdout",
     "output_type": "stream",
     "text": [
      "125/125 [==============================] - 3s 21ms/step - loss: 0.1611 - accuracy: 0.9448\n"
     ]
    },
    {
     "data": {
      "text/plain": [
       "[0.16110362112522125, 0.9447500109672546]"
      ]
     },
     "execution_count": 22,
     "metadata": {},
     "output_type": "execute_result"
    }
   ],
   "source": [
    "custom_objects = {\"TokenAndPositionEmbedding\": TokenAndPositionEmbedding, \"TransformerBlock\": TransformerBlock}\n",
    "model = load_model('best_model_25.h5', custom_objects=custom_objects)\n",
    "model.evaluate([textcuboid_test,text_test],y_test)"
   ]
  },
  {
   "cell_type": "code",
   "execution_count": null,
   "id": "de71922e",
   "metadata": {},
   "outputs": [],
   "source": []
  },
  {
   "cell_type": "code",
   "execution_count": null,
   "id": "41bfa5a3",
   "metadata": {},
   "outputs": [],
   "source": []
  }
 ],
 "metadata": {
  "kernelspec": {
   "display_name": "Python 3 (ipykernel)",
   "language": "python",
   "name": "python3"
  },
  "language_info": {
   "codemirror_mode": {
    "name": "ipython",
    "version": 3
   },
   "file_extension": ".py",
   "mimetype": "text/x-python",
   "name": "python",
   "nbconvert_exporter": "python",
   "pygments_lexer": "ipython3",
   "version": "3.8.13"
  }
 },
 "nbformat": 4,
 "nbformat_minor": 5
}
