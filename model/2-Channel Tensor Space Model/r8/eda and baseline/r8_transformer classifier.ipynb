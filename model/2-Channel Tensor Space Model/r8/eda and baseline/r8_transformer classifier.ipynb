{
 "cells": [
  {
   "cell_type": "code",
   "execution_count": 1,
   "id": "24bd1ee0-78fd-4036-980d-2b640ca7cabd",
   "metadata": {},
   "outputs": [],
   "source": [
    "import numpy as np\n",
    "import pandas as pd\n",
    "import tensorflow as tf\n",
    "from sklearn.preprocessing import LabelEncoder\n",
    "from tensorflow.keras.preprocessing.text import Tokenizer\n",
    "import sys\n",
    "sys.path.append('C:/Users/User/Desktop/r8')\n",
    "from data_preprocessing import *\n",
    "from transformer_build import  *\n",
    "from sklearn.metrics import f1_score"
   ]
  },
  {
   "cell_type": "code",
   "execution_count": 2,
   "id": "68d003ed-2cde-4744-a9f1-3c51d280d2cb",
   "metadata": {},
   "outputs": [
    {
     "data": {
      "text/html": [
       "<div>\n",
       "<style scoped>\n",
       "    .dataframe tbody tr th:only-of-type {\n",
       "        vertical-align: middle;\n",
       "    }\n",
       "\n",
       "    .dataframe tbody tr th {\n",
       "        vertical-align: top;\n",
       "    }\n",
       "\n",
       "    .dataframe thead th {\n",
       "        text-align: right;\n",
       "    }\n",
       "</style>\n",
       "<table border=\"1\" class=\"dataframe\">\n",
       "  <thead>\n",
       "    <tr style=\"text-align: right;\">\n",
       "      <th></th>\n",
       "      <th>text</th>\n",
       "      <th>edge</th>\n",
       "      <th>intent</th>\n",
       "    </tr>\n",
       "  </thead>\n",
       "  <tbody>\n",
       "    <tr>\n",
       "      <th>0</th>\n",
       "      <td>champion product approv stock split champion p...</td>\n",
       "      <td>champion product approv stock split champion p...</td>\n",
       "      <td>earn</td>\n",
       "    </tr>\n",
       "    <tr>\n",
       "      <th>1</th>\n",
       "      <td>comput termin system cpml complet sale comput ...</td>\n",
       "      <td>comput termin system cpml complet sale comput ...</td>\n",
       "      <td>acq</td>\n",
       "    </tr>\n",
       "    <tr>\n",
       "      <th>2</th>\n",
       "      <td>cobanco inc cbco year net shr ct dlr net asset...</td>\n",
       "      <td>cobanco inc cbco year net shr ct dlr net asset...</td>\n",
       "      <td>earn</td>\n",
       "    </tr>\n",
       "    <tr>\n",
       "      <th>3</th>\n",
       "      <td>intern inc qtr jan oper shr loss two ct profit...</td>\n",
       "      <td>intern inc qtr jan oper shr loss two ct profit...</td>\n",
       "      <td>earn</td>\n",
       "    </tr>\n",
       "    <tr>\n",
       "      <th>4</th>\n",
       "      <td>brown forman inc bfd qtr net shr dlr ct net ml...</td>\n",
       "      <td>brown forman inc bfd qtr net shr dlr ct net ml...</td>\n",
       "      <td>earn</td>\n",
       "    </tr>\n",
       "  </tbody>\n",
       "</table>\n",
       "</div>"
      ],
      "text/plain": [
       "                                                text  \\\n",
       "0  champion product approv stock split champion p...   \n",
       "1  comput termin system cpml complet sale comput ...   \n",
       "2  cobanco inc cbco year net shr ct dlr net asset...   \n",
       "3  intern inc qtr jan oper shr loss two ct profit...   \n",
       "4  brown forman inc bfd qtr net shr dlr ct net ml...   \n",
       "\n",
       "                                                edge intent  \n",
       "0  champion product approv stock split champion p...   earn  \n",
       "1  comput termin system cpml complet sale comput ...    acq  \n",
       "2  cobanco inc cbco year net shr ct dlr net asset...   earn  \n",
       "3  intern inc qtr jan oper shr loss two ct profit...   earn  \n",
       "4  brown forman inc bfd qtr net shr dlr ct net ml...   earn  "
      ]
     },
     "execution_count": 2,
     "metadata": {},
     "output_type": "execute_result"
    }
   ],
   "source": [
    "train_df = pd.read_csv('C:/Users/User/Desktop/r8/r8_dataset/r8-train-stemmed.csv')\n",
    "valid_df = pd.read_csv('C:/Users/User/Desktop/r8/r8_dataset/r8-dev-stemmed.csv')\n",
    "test_df = pd.read_csv('C:/Users/User/Desktop/r8/r8_dataset/r8-test-stemmed.csv')\n",
    "train_df.head()"
   ]
  },
  {
   "cell_type": "markdown",
   "id": "9203e637-99cc-4398-a7f3-511593c535f8",
   "metadata": {},
   "source": [
    "text와 edge는 동일한 것으로 판단되므로 text만 활용하여 모델 학습"
   ]
  },
  {
   "cell_type": "code",
   "execution_count": 3,
   "id": "db2b9bb7-eb07-46f9-9504-d3263633ea3e",
   "metadata": {},
   "outputs": [],
   "source": [
    "# train_df와 valid_df 결합\n",
    "train_val_df = pd.concat([train_df, valid_df])"
   ]
  },
  {
   "cell_type": "markdown",
   "id": "c696af65-3906-4c71-8fb6-2fce1acab06c",
   "metadata": {},
   "source": [
    "# 전처리"
   ]
  },
  {
   "cell_type": "code",
   "execution_count": 4,
   "id": "0fd9942a-a03b-4081-8372-3523a3c1d1a1",
   "metadata": {},
   "outputs": [],
   "source": [
    "train_val_df['text']=train_val_df['text'].apply(clean_text)\n",
    "test_df['text']=test_df['text'].apply(clean_text)"
   ]
  },
  {
   "cell_type": "code",
   "execution_count": 5,
   "id": "8d93b744-f5e5-4bc6-85c8-fb18f115ac49",
   "metadata": {},
   "outputs": [],
   "source": [
    "x_train=list(train_val_df['text'])\n",
    "y_train=list(train_val_df['intent'])\n",
    "x_test=list(test_df['text'])\n",
    "y_test=list(test_df['intent'])"
   ]
  },
  {
   "cell_type": "code",
   "execution_count": 6,
   "id": "28292a01-e17d-4922-a08b-17a5d3d26e4c",
   "metadata": {},
   "outputs": [],
   "source": [
    "y=y_train+y_test"
   ]
  },
  {
   "cell_type": "code",
   "execution_count": 7,
   "id": "71da37c7-b6c6-4107-9577-37997f1cad04",
   "metadata": {},
   "outputs": [],
   "source": [
    "encoder=LabelEncoder()\n",
    "encoder.fit(y)\n",
    "label=encoder.transform(y)\n",
    "\n",
    "y_train=list(label[:5484])\n",
    "y_test=list(label[5484:])"
   ]
  },
  {
   "cell_type": "code",
   "execution_count": 8,
   "id": "eefd3cd1-9d7f-49a3-9033-fe2d77af0482",
   "metadata": {},
   "outputs": [],
   "source": [
    "sos_x_train=[]\n",
    "sos_x_test=[]\n",
    "for sen in x_train:\n",
    "    sos_x_train.append('<sos> '+sen)\n",
    "for sen in x_test:\n",
    "    sos_x_test.append('<sos> '+sen)\n",
    "\n",
    "all_txt=sos_x_train+sos_x_test\n",
    "\n",
    "\n",
    "tokenizer = Tokenizer()\n",
    "tokenizer.fit_on_texts(all_txt)\n",
    "\n",
    "vocab_size =len(tokenizer.word_index)+1 #1을 더해야 에러가 안터짐 토큰 영향으로 보임\n",
    "\n",
    "x_train_encoded = tokenizer.texts_to_sequences(sos_x_train)\n",
    "x_test_encoded = tokenizer.texts_to_sequences(sos_x_test)\n",
    "\n",
    "max_len = 300\n",
    "\n",
    "xtext_train = tf.keras.preprocessing.sequence.pad_sequences(x_train_encoded, maxlen=max_len)\n",
    "xtext_test = tf.keras.preprocessing.sequence.pad_sequences(x_test_encoded, maxlen=max_len)"
   ]
  },
  {
   "cell_type": "code",
   "execution_count": 9,
   "id": "078e4e0c-ad8b-4dd3-8dce-514abefd946d",
   "metadata": {},
   "outputs": [
    {
     "data": {
      "text/plain": [
       "(5484, 300)"
      ]
     },
     "execution_count": 9,
     "metadata": {},
     "output_type": "execute_result"
    }
   ],
   "source": [
    "xtext_train.shape"
   ]
  },
  {
   "cell_type": "code",
   "execution_count": 10,
   "id": "7b8079a7-2872-4c9b-9585-805423dde1cc",
   "metadata": {},
   "outputs": [],
   "source": [
    "y_train=np.array(y_train)\n",
    "y_test=np.array(y_test)"
   ]
  },
  {
   "cell_type": "code",
   "execution_count": 11,
   "id": "b349c301-dff3-49e4-b02f-2c481ec6776b",
   "metadata": {},
   "outputs": [],
   "source": [
    "x_train=xtext_train[:4937]\n",
    "x_val=xtext_train[4937:]\n",
    "y_train1=y_train[:4937]\n",
    "y_val=y_train[4937:]"
   ]
  },
  {
   "cell_type": "code",
   "execution_count": 12,
   "id": "1b835552-e5cd-4c0c-86f8-f2af395fb52e",
   "metadata": {},
   "outputs": [],
   "source": [
    "x_test=xtext_test\n",
    "y_test1=y_test"
   ]
  },
  {
   "cell_type": "markdown",
   "id": "68fbdf90-f6a3-4d01-9229-4cd1b71e6a15",
   "metadata": {},
   "source": [
    "# 모델 빌드"
   ]
  },
  {
   "cell_type": "code",
   "execution_count": 13,
   "id": "1b134b3f-5b42-41f8-a6f0-4e203aac9cf4",
   "metadata": {
    "scrolled": true
   },
   "outputs": [],
   "source": [
    "callbacks = [\n",
    "    keras.callbacks.ModelCheckpoint(\n",
    "        \"best_model_{epoch}.h5\", save_best_only=False, save_freq=5\n",
    "    ),\n",
    "    keras.callbacks.ReduceLROnPlateau(\n",
    "        monitor=\"val_loss\", factor=0.5, patience=2, min_lr=0.0001\n",
    "    ),\n",
    "]"
   ]
  },
  {
   "cell_type": "code",
   "execution_count": 14,
   "id": "3188d1d7-a146-4bbf-b286-9cbbde365d9e",
   "metadata": {
    "scrolled": true
   },
   "outputs": [
    {
     "name": "stdout",
     "output_type": "stream",
     "text": [
      "Model: \"model\"\n",
      "_________________________________________________________________\n",
      " Layer (type)                Output Shape              Param #   \n",
      "=================================================================\n",
      " input_1 (InputLayer)        [(None, 300)]             0         \n",
      "                                                                 \n",
      " token_and_position_embeddin  (None, 300, 256)         4528384   \n",
      " g (TokenAndPositionEmbeddin                                     \n",
      " g)                                                              \n",
      "                                                                 \n",
      " transformer_block (Transfor  (None, 300, 256)         297280    \n",
      " merBlock)                                                       \n",
      "                                                                 \n",
      " global_average_pooling1d (G  (None, 256)              0         \n",
      " lobalAveragePooling1D)                                          \n",
      "                                                                 \n",
      " dropout_2 (Dropout)         (None, 256)               0         \n",
      "                                                                 \n",
      " dense_6 (Dense)             (None, 256)               65792     \n",
      "                                                                 \n",
      " dense_7 (Dense)             (None, 8)                 2056      \n",
      "                                                                 \n",
      "=================================================================\n",
      "Total params: 4,893,512\n",
      "Trainable params: 4,893,512\n",
      "Non-trainable params: 0\n",
      "_________________________________________________________________\n"
     ]
    }
   ],
   "source": [
    "embedding_dim = 256  # 각 단어의 임베딩 벡터의 차원   #128 #256 #512 #1024\n",
    "num_heads = 1  # 어텐션 헤드의 수\n",
    "dff = 64 # 포지션 와이즈 피드 포워드 신경망의 은닉층의 크기 #32 #64 #128 #256\n",
    "num_transformer_blocks = 1\n",
    "\n",
    "inputs = tf.keras.layers.Input(shape=(max_len,))\n",
    "embedding_layer = TokenAndPositionEmbedding(max_len, vocab_size, embedding_dim)\n",
    "x = embedding_layer(inputs)\n",
    "\n",
    "for _ in range(num_transformer_blocks):\n",
    "    transformer_block = TransformerBlock(embedding_dim, num_heads, dff)\n",
    "    x = transformer_block(x)\n",
    "\n",
    "x = tf.keras.layers.GlobalAveragePooling1D()(x)\n",
    "x = tf.keras.layers.Dropout(0.5)(x)\n",
    "x = tf.keras.layers.Dense(256, activation=\"relu\")(x)\n",
    "# x = tf.keras.layers.Dropout(0.5)(x)\n",
    "outputs = tf.keras.layers.Dense(8, activation=\"softmax\")(x)\n",
    "\n",
    "model = tf.keras.Model(inputs=inputs, outputs=outputs)\n",
    "model.summary()"
   ]
  },
  {
   "cell_type": "code",
   "execution_count": 27,
   "id": "44ae2f30-b711-48e9-843a-98ccd2978fba",
   "metadata": {
    "scrolled": true
   },
   "outputs": [
    {
     "name": "stdout",
     "output_type": "stream",
     "text": [
      "Epoch 1/20\n",
      "20/20 [==============================] - 2s 54ms/step - loss: 1.4240 - accuracy: 0.4926 - val_loss: 1.4893 - val_accuracy: 0.4388 - lr: 0.0010\n",
      "Epoch 2/20\n",
      "20/20 [==============================] - 1s 46ms/step - loss: 1.0004 - accuracy: 0.6684 - val_loss: 0.9393 - val_accuracy: 0.7057 - lr: 0.0010\n",
      "Epoch 3/20\n",
      "20/20 [==============================] - 1s 46ms/step - loss: 0.3556 - accuracy: 0.8935 - val_loss: 0.3065 - val_accuracy: 0.9141 - lr: 0.0010\n",
      "Epoch 4/20\n",
      "20/20 [==============================] - 1s 46ms/step - loss: 0.0926 - accuracy: 0.9718 - val_loss: 0.1782 - val_accuracy: 0.9378 - lr: 0.0010\n",
      "Epoch 5/20\n",
      "20/20 [==============================] - 1s 46ms/step - loss: 0.0349 - accuracy: 0.9915 - val_loss: 0.1663 - val_accuracy: 0.9470 - lr: 0.0010\n",
      "Epoch 6/20\n",
      "20/20 [==============================] - 1s 46ms/step - loss: 0.0165 - accuracy: 0.9957 - val_loss: 0.1737 - val_accuracy: 0.9452 - lr: 0.0010\n",
      "Epoch 7/20\n",
      "20/20 [==============================] - 1s 46ms/step - loss: 0.0107 - accuracy: 0.9972 - val_loss: 0.1766 - val_accuracy: 0.9488 - lr: 0.0010\n",
      "Epoch 8/20\n",
      "20/20 [==============================] - 1s 46ms/step - loss: 0.0075 - accuracy: 0.9974 - val_loss: 0.1778 - val_accuracy: 0.9470 - lr: 5.0000e-04\n",
      "Epoch 9/20\n",
      "20/20 [==============================] - 1s 46ms/step - loss: 0.0036 - accuracy: 0.9992 - val_loss: 0.1825 - val_accuracy: 0.9488 - lr: 5.0000e-04\n",
      "Epoch 10/20\n",
      "20/20 [==============================] - 1s 45ms/step - loss: 0.0043 - accuracy: 0.9988 - val_loss: 0.1856 - val_accuracy: 0.9470 - lr: 2.5000e-04\n",
      "Epoch 11/20\n",
      "20/20 [==============================] - 1s 49ms/step - loss: 0.0039 - accuracy: 0.9990 - val_loss: 0.1902 - val_accuracy: 0.9488 - lr: 2.5000e-04\n",
      "Epoch 12/20\n",
      "20/20 [==============================] - 1s 48ms/step - loss: 0.0040 - accuracy: 0.9986 - val_loss: 0.1900 - val_accuracy: 0.9470 - lr: 1.2500e-04\n",
      "Epoch 13/20\n",
      "20/20 [==============================] - 1s 49ms/step - loss: 0.0033 - accuracy: 0.9990 - val_loss: 0.1911 - val_accuracy: 0.9488 - lr: 1.2500e-04\n",
      "Epoch 14/20\n",
      "20/20 [==============================] - 1s 47ms/step - loss: 0.0037 - accuracy: 0.9986 - val_loss: 0.1922 - val_accuracy: 0.9470 - lr: 1.0000e-04\n",
      "Epoch 15/20\n",
      "20/20 [==============================] - 1s 47ms/step - loss: 0.0030 - accuracy: 0.9990 - val_loss: 0.1936 - val_accuracy: 0.9470 - lr: 1.0000e-04\n",
      "Epoch 16/20\n",
      "20/20 [==============================] - 1s 46ms/step - loss: 0.0029 - accuracy: 0.9988 - val_loss: 0.1945 - val_accuracy: 0.9470 - lr: 1.0000e-04\n",
      "Epoch 17/20\n",
      "20/20 [==============================] - 1s 46ms/step - loss: 0.0030 - accuracy: 0.9988 - val_loss: 0.1952 - val_accuracy: 0.9470 - lr: 1.0000e-04\n",
      "Epoch 18/20\n",
      "20/20 [==============================] - 1s 45ms/step - loss: 0.0027 - accuracy: 0.9992 - val_loss: 0.1964 - val_accuracy: 0.9470 - lr: 1.0000e-04\n",
      "Epoch 19/20\n",
      "20/20 [==============================] - 1s 46ms/step - loss: 0.0033 - accuracy: 0.9990 - val_loss: 0.1966 - val_accuracy: 0.9470 - lr: 1.0000e-04\n",
      "Epoch 20/20\n",
      "20/20 [==============================] - 1s 46ms/step - loss: 0.0022 - accuracy: 0.9996 - val_loss: 0.1984 - val_accuracy: 0.9470 - lr: 1.0000e-04\n",
      "69/69 [==============================] - 0s 3ms/step - loss: 0.1185 - accuracy: 0.9708\n",
      "테스트 정확도: 0.9708\n"
     ]
    }
   ],
   "source": [
    "model.compile(\"adam\", \"sparse_categorical_crossentropy\", metrics=[\"accuracy\"])\n",
    "history = model.fit(x_train, y_train1, batch_size=256,callbacks=callbacks, epochs=20, validation_data=(x_val, y_val))\n",
    "\n",
    "print(\"테스트 정확도: %.4f\" % (model.evaluate(x_test, y_test1)[1]))"
   ]
  },
  {
   "cell_type": "code",
   "execution_count": 18,
   "id": "41e7d382-9258-47f7-baf5-7a1e343d0690",
   "metadata": {},
   "outputs": [
    {
     "name": "stdout",
     "output_type": "stream",
     "text": [
      "69/69 [==============================] - 0s 3ms/step - loss: 0.1119 - accuracy: 0.9721\n"
     ]
    },
    {
     "data": {
      "text/plain": [
       "[0.11191032826900482, 0.9721333980560303]"
      ]
     },
     "execution_count": 18,
     "metadata": {},
     "output_type": "execute_result"
    }
   ],
   "source": [
    "from keras.models import load_model\n",
    "custom_objects = {\"TokenAndPositionEmbedding\": TokenAndPositionEmbedding, \"TransformerBlock\": TransformerBlock}\n",
    "model = load_model('./save model/best_model_Transformer classifier.h5', custom_objects=custom_objects)\n",
    "model.evaluate(x_test, y_test)"
   ]
  },
  {
   "cell_type": "code",
   "execution_count": 19,
   "id": "45107ad2-3e25-4f23-ab84-fa6b2e6d8639",
   "metadata": {},
   "outputs": [
    {
     "name": "stdout",
     "output_type": "stream",
     "text": [
      "69/69 [==============================] - 0s 2ms/step\n",
      "Macro_F1 스코어: 0.9421381911481157\n",
      "weighted_F1 스코어: 0.9720590094045531\n"
     ]
    }
   ],
   "source": [
    "y_pred = model.predict(x_test)\n",
    "y_pred_labels = np.argmax(y_pred, axis=1)\n",
    "macro_f1 = f1_score(y_test, y_pred_labels, average='macro')\n",
    "print(\"Macro_F1 스코어:\", macro_f1)\n",
    "weighted_f1 = f1_score(y_test, y_pred_labels, average='weighted')\n",
    "print(\"weighted_F1 스코어:\", weighted_f1)"
   ]
  },
  {
   "cell_type": "code",
   "execution_count": null,
   "id": "0af3618f-5cd2-46a5-963e-2d79ecf726c8",
   "metadata": {},
   "outputs": [],
   "source": [
    "10에포크 dropout1 활성화 256 64\n",
    "97.2"
   ]
  },
  {
   "cell_type": "code",
   "execution_count": null,
   "id": "04ac604c-cec6-4e30-9991-4e404ec2eed1",
   "metadata": {},
   "outputs": [],
   "source": []
  }
 ],
 "metadata": {
  "kernelspec": {
   "display_name": "Python 3 (ipykernel)",
   "language": "python",
   "name": "python3"
  },
  "language_info": {
   "codemirror_mode": {
    "name": "ipython",
    "version": 3
   },
   "file_extension": ".py",
   "mimetype": "text/x-python",
   "name": "python",
   "nbconvert_exporter": "python",
   "pygments_lexer": "ipython3",
   "version": "3.8.13"
  }
 },
 "nbformat": 4,
 "nbformat_minor": 5
}
