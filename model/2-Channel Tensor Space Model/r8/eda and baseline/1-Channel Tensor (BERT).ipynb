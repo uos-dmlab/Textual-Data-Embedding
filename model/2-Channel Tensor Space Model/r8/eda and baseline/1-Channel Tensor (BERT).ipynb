{
 "cells": [
  {
   "cell_type": "markdown",
   "id": "1ed2892d",
   "metadata": {},
   "source": [
    "# 패키지 임포트"
   ]
  },
  {
   "cell_type": "code",
   "execution_count": 1,
   "id": "22d40156",
   "metadata": {},
   "outputs": [],
   "source": [
    "import random\n",
    "import pandas as pd\n",
    "import numpy as np\n",
    "import tensorflow as tf\n",
    "import nltk\n",
    "import os\n",
    "import string\n",
    "import re\n",
    "import json\n",
    "import keras\n",
    "from tensorflow.keras import layers\n",
    "from tensorflow.keras.layers import Input, Conv1D, GlobalMaxPooling1D, Dense, Dropout\n",
    "from tensorflow.keras.models import Model\n",
    "from tensorflow.keras import layers\n",
    "from keras.models import load_model\n",
    "from sklearn.preprocessing import LabelEncoder\n",
    "from sklearn.metrics import f1_score"
   ]
  },
  {
   "cell_type": "markdown",
   "id": "a8aba1e9",
   "metadata": {},
   "source": [
    "# 데이터 로드"
   ]
  },
  {
   "cell_type": "code",
   "execution_count": 2,
   "id": "ead34dbd",
   "metadata": {},
   "outputs": [
    {
     "data": {
      "text/html": [
       "<div>\n",
       "<style scoped>\n",
       "    .dataframe tbody tr th:only-of-type {\n",
       "        vertical-align: middle;\n",
       "    }\n",
       "\n",
       "    .dataframe tbody tr th {\n",
       "        vertical-align: top;\n",
       "    }\n",
       "\n",
       "    .dataframe thead th {\n",
       "        text-align: right;\n",
       "    }\n",
       "</style>\n",
       "<table border=\"1\" class=\"dataframe\">\n",
       "  <thead>\n",
       "    <tr style=\"text-align: right;\">\n",
       "      <th></th>\n",
       "      <th>text</th>\n",
       "      <th>edge</th>\n",
       "      <th>intent</th>\n",
       "    </tr>\n",
       "  </thead>\n",
       "  <tbody>\n",
       "    <tr>\n",
       "      <th>0</th>\n",
       "      <td>champion product approv stock split champion p...</td>\n",
       "      <td>champion product approv stock split champion p...</td>\n",
       "      <td>earn</td>\n",
       "    </tr>\n",
       "    <tr>\n",
       "      <th>1</th>\n",
       "      <td>comput termin system cpml complet sale comput ...</td>\n",
       "      <td>comput termin system cpml complet sale comput ...</td>\n",
       "      <td>acq</td>\n",
       "    </tr>\n",
       "    <tr>\n",
       "      <th>2</th>\n",
       "      <td>cobanco inc cbco year net shr ct dlr net asset...</td>\n",
       "      <td>cobanco inc cbco year net shr ct dlr net asset...</td>\n",
       "      <td>earn</td>\n",
       "    </tr>\n",
       "    <tr>\n",
       "      <th>3</th>\n",
       "      <td>intern inc qtr jan oper shr loss two ct profit...</td>\n",
       "      <td>intern inc qtr jan oper shr loss two ct profit...</td>\n",
       "      <td>earn</td>\n",
       "    </tr>\n",
       "    <tr>\n",
       "      <th>4</th>\n",
       "      <td>brown forman inc bfd qtr net shr dlr ct net ml...</td>\n",
       "      <td>brown forman inc bfd qtr net shr dlr ct net ml...</td>\n",
       "      <td>earn</td>\n",
       "    </tr>\n",
       "  </tbody>\n",
       "</table>\n",
       "</div>"
      ],
      "text/plain": [
       "                                                text  \\\n",
       "0  champion product approv stock split champion p...   \n",
       "1  comput termin system cpml complet sale comput ...   \n",
       "2  cobanco inc cbco year net shr ct dlr net asset...   \n",
       "3  intern inc qtr jan oper shr loss two ct profit...   \n",
       "4  brown forman inc bfd qtr net shr dlr ct net ml...   \n",
       "\n",
       "                                                edge intent  \n",
       "0  champion product approv stock split champion p...   earn  \n",
       "1  comput termin system cpml complet sale comput ...    acq  \n",
       "2  cobanco inc cbco year net shr ct dlr net asset...   earn  \n",
       "3  intern inc qtr jan oper shr loss two ct profit...   earn  \n",
       "4  brown forman inc bfd qtr net shr dlr ct net ml...   earn  "
      ]
     },
     "execution_count": 2,
     "metadata": {},
     "output_type": "execute_result"
    }
   ],
   "source": [
    "train_df = pd.read_csv('C:/Users/User/Desktop/r8/r8_dataset/r8-train-stemmed.csv')\n",
    "valid_df = pd.read_csv('C:/Users/User/Desktop/r8/r8_dataset/r8-dev-stemmed.csv')\n",
    "test_df = pd.read_csv('C:/Users/User/Desktop/r8/r8_dataset/r8-test-stemmed.csv')\n",
    "train_df.head()"
   ]
  },
  {
   "cell_type": "code",
   "execution_count": 3,
   "id": "f58203a6-e7c4-4325-9e33-dbba68117b9f",
   "metadata": {},
   "outputs": [],
   "source": [
    "# train_df와 valid_df 결합\n",
    "train_val_df = pd.concat([train_df, valid_df])"
   ]
  },
  {
   "cell_type": "code",
   "execution_count": 4,
   "id": "4d023017-3fc4-487e-b621-8e87192755c6",
   "metadata": {},
   "outputs": [],
   "source": [
    "textcuboid=np.load('C:/Users/User/Desktop/r8/1-Channel textcuboid_r8(bert).npy')\n",
    "textcuboid_test=np.load('C:/Users/User/Desktop/r8/1-Channel textcuboid_test_r8(bert).npy')"
   ]
  },
  {
   "cell_type": "markdown",
   "id": "2940ba3a",
   "metadata": {},
   "source": [
    "# 전처리"
   ]
  },
  {
   "cell_type": "code",
   "execution_count": 5,
   "id": "10824edf-9b0c-42e2-b251-b73f1b856f7a",
   "metadata": {},
   "outputs": [],
   "source": [
    "y_train=list(train_val_df['intent'])\n",
    "y_test=list(test_df['intent'])"
   ]
  },
  {
   "cell_type": "code",
   "execution_count": 6,
   "id": "e163a551-2020-4d9d-9724-1162d43fc5e4",
   "metadata": {},
   "outputs": [],
   "source": [
    "y=y_train+y_test"
   ]
  },
  {
   "cell_type": "code",
   "execution_count": 7,
   "id": "541b6936-f523-4505-8787-c366f6854b06",
   "metadata": {},
   "outputs": [],
   "source": [
    "encoder=LabelEncoder()\n",
    "encoder.fit(y)\n",
    "label=encoder.transform(y)\n",
    "\n",
    "y_train=list(label[:5484])\n",
    "y_test=list(label[5484:])"
   ]
  },
  {
   "cell_type": "code",
   "execution_count": 8,
   "id": "4b930cfe-51f8-4d0b-a3e6-67dd074bff82",
   "metadata": {},
   "outputs": [],
   "source": [
    "y_train=np.array(y_train)\n",
    "y_test=np.array(y_test)"
   ]
  },
  {
   "cell_type": "code",
   "execution_count": 9,
   "id": "e468f395-e0cd-4688-82b4-28e8bcaf25a5",
   "metadata": {},
   "outputs": [],
   "source": [
    "textcuboid_train=textcuboid[:4937]\n",
    "textcuboid_val=textcuboid[4937:]\n",
    "y_train1=y_train[:4937]\n",
    "y_val=y_train[4937:]"
   ]
  },
  {
   "cell_type": "code",
   "execution_count": 10,
   "id": "03af71a3-40bf-49ca-aaff-88c1d5166a55",
   "metadata": {},
   "outputs": [],
   "source": [
    "y_test1=y_test"
   ]
  },
  {
   "cell_type": "markdown",
   "id": "184f59ff",
   "metadata": {},
   "source": [
    "# 모델 빌드\n"
   ]
  },
  {
   "cell_type": "code",
   "execution_count": 11,
   "id": "3a457c12",
   "metadata": {},
   "outputs": [],
   "source": [
    "callbacks = [\n",
    "    keras.callbacks.ModelCheckpoint(\n",
    "        \"best_model_{epoch}.h5\", save_best_only=False, save_freq=5\n",
    "    ),\n",
    "    keras.callbacks.ReduceLROnPlateau(\n",
    "        monitor=\"val_loss\", factor=0.5, patience=2, min_lr=0.0001\n",
    "    ),\n",
    "]"
   ]
  },
  {
   "cell_type": "code",
   "execution_count": 12,
   "id": "532b2e90",
   "metadata": {},
   "outputs": [
    {
     "name": "stdout",
     "output_type": "stream",
     "text": [
      "Model: \"model\"\n",
      "_________________________________________________________________\n",
      " Layer (type)                Output Shape              Param #   \n",
      "=================================================================\n",
      " input_1 (InputLayer)        [(None, 169, 768)]        0         \n",
      "                                                                 \n",
      " conv1d (Conv1D)             (None, 169, 1024)         787456    \n",
      "                                                                 \n",
      " global_max_pooling1d (Globa  (None, 1024)             0         \n",
      " lMaxPooling1D)                                                  \n",
      "                                                                 \n",
      " dropout (Dropout)           (None, 1024)              0         \n",
      "                                                                 \n",
      " dense (Dense)               (None, 256)               262400    \n",
      "                                                                 \n",
      " dropout_1 (Dropout)         (None, 256)               0         \n",
      "                                                                 \n",
      " dense_1 (Dense)             (None, 8)                 2056      \n",
      "                                                                 \n",
      "=================================================================\n",
      "Total params: 1,051,912\n",
      "Trainable params: 1,051,912\n",
      "Non-trainable params: 0\n",
      "_________________________________________________________________\n"
     ]
    }
   ],
   "source": [
    "#ELMo channel의 학습\n",
    "BERT_input = Input(shape=(169, 768))\n",
    "conv1 = Conv1D(1024, 1, padding='valid', activation='relu')(BERT_input)\n",
    "pooling = GlobalMaxPooling1D()(conv1)\n",
    "pooling = Dropout(0.5)(pooling)\n",
    "BERT_x = Dense(256, activation='relu')(pooling)\n",
    "BERT_x = Dropout(0.5)(BERT_x)\n",
    "output_layer = Dense(8, activation='softmax')(BERT_x)\n",
    "\n",
    "model = Model(inputs=BERT_input, outputs=output_layer)\n",
    "\n",
    "model.compile(optimizer='adam', loss='sparse_categorical_crossentropy', metrics=['accuracy'])\n",
    "\n",
    "model.summary()"
   ]
  },
  {
   "cell_type": "markdown",
   "id": "c02f3e46",
   "metadata": {},
   "source": [
    "# 모델 학습"
   ]
  },
  {
   "cell_type": "code",
   "execution_count": 20,
   "id": "592095bd",
   "metadata": {
    "scrolled": true
   },
   "outputs": [
    {
     "name": "stdout",
     "output_type": "stream",
     "text": [
      "Epoch 1/50\n",
      "20/20 [==============================] - 1s 55ms/step - loss: 4.1829 - accuracy: 0.5305 - val_loss: 1.3521 - val_accuracy: 0.5996 - lr: 0.0010\n",
      "Epoch 2/50\n",
      "20/20 [==============================] - 1s 35ms/step - loss: 0.9618 - accuracy: 0.6836 - val_loss: 0.9642 - val_accuracy: 0.6563 - lr: 0.0010\n",
      "Epoch 3/50\n",
      "20/20 [==============================] - 1s 39ms/step - loss: 0.7625 - accuracy: 0.7460 - val_loss: 0.7746 - val_accuracy: 0.7203 - lr: 0.0010\n",
      "Epoch 4/50\n",
      "20/20 [==============================] - 1s 38ms/step - loss: 0.6570 - accuracy: 0.7733 - val_loss: 0.7352 - val_accuracy: 0.7367 - lr: 0.0010\n",
      "Epoch 5/50\n",
      "20/20 [==============================] - 1s 37ms/step - loss: 0.5602 - accuracy: 0.8041 - val_loss: 0.5920 - val_accuracy: 0.7934 - lr: 0.0010\n",
      "Epoch 6/50\n",
      "20/20 [==============================] - 1s 35ms/step - loss: 0.4737 - accuracy: 0.8388 - val_loss: 0.4745 - val_accuracy: 0.8592 - lr: 0.0010\n",
      "Epoch 7/50\n",
      "20/20 [==============================] - 1s 38ms/step - loss: 0.4107 - accuracy: 0.8576 - val_loss: 0.3936 - val_accuracy: 0.8793 - lr: 0.0010\n",
      "Epoch 8/50\n",
      "20/20 [==============================] - 1s 38ms/step - loss: 0.3313 - accuracy: 0.8908 - val_loss: 0.3369 - val_accuracy: 0.8958 - lr: 0.0010\n",
      "Epoch 9/50\n",
      "20/20 [==============================] - 1s 36ms/step - loss: 0.2909 - accuracy: 0.9001 - val_loss: 0.3027 - val_accuracy: 0.9122 - lr: 0.0010\n",
      "Epoch 10/50\n",
      "20/20 [==============================] - 1s 37ms/step - loss: 0.2199 - accuracy: 0.9218 - val_loss: 0.2558 - val_accuracy: 0.9214 - lr: 0.0010\n",
      "Epoch 11/50\n",
      "20/20 [==============================] - 1s 39ms/step - loss: 0.2111 - accuracy: 0.9309 - val_loss: 0.2414 - val_accuracy: 0.9214 - lr: 0.0010\n",
      "Epoch 12/50\n",
      "20/20 [==============================] - 1s 38ms/step - loss: 0.1769 - accuracy: 0.9413 - val_loss: 0.2376 - val_accuracy: 0.9159 - lr: 0.0010\n",
      "Epoch 13/50\n",
      "20/20 [==============================] - 1s 34ms/step - loss: 0.1440 - accuracy: 0.9512 - val_loss: 0.2175 - val_accuracy: 0.9232 - lr: 0.0010\n",
      "Epoch 14/50\n",
      "20/20 [==============================] - 1s 37ms/step - loss: 0.1323 - accuracy: 0.9546 - val_loss: 0.2190 - val_accuracy: 0.9269 - lr: 0.0010\n",
      "Epoch 15/50\n",
      "20/20 [==============================] - 1s 38ms/step - loss: 0.1104 - accuracy: 0.9605 - val_loss: 0.2123 - val_accuracy: 0.9269 - lr: 0.0010\n",
      "Epoch 16/50\n",
      "20/20 [==============================] - 1s 36ms/step - loss: 0.0952 - accuracy: 0.9698 - val_loss: 0.1808 - val_accuracy: 0.9360 - lr: 0.0010\n",
      "Epoch 17/50\n",
      "20/20 [==============================] - 1s 35ms/step - loss: 0.0811 - accuracy: 0.9696 - val_loss: 0.1762 - val_accuracy: 0.9360 - lr: 0.0010\n",
      "Epoch 18/50\n",
      "20/20 [==============================] - 1s 38ms/step - loss: 0.0725 - accuracy: 0.9765 - val_loss: 0.1748 - val_accuracy: 0.9433 - lr: 0.0010\n",
      "Epoch 19/50\n",
      "20/20 [==============================] - 1s 37ms/step - loss: 0.0628 - accuracy: 0.9804 - val_loss: 0.1602 - val_accuracy: 0.9415 - lr: 0.0010\n",
      "Epoch 20/50\n",
      "20/20 [==============================] - 1s 34ms/step - loss: 0.0521 - accuracy: 0.9828 - val_loss: 0.1737 - val_accuracy: 0.9415 - lr: 0.0010\n",
      "Epoch 21/50\n",
      "20/20 [==============================] - 1s 38ms/step - loss: 0.0469 - accuracy: 0.9836 - val_loss: 0.1771 - val_accuracy: 0.9433 - lr: 0.0010\n",
      "Epoch 22/50\n",
      "20/20 [==============================] - 1s 37ms/step - loss: 0.0384 - accuracy: 0.9878 - val_loss: 0.1597 - val_accuracy: 0.9506 - lr: 5.0000e-04\n",
      "Epoch 23/50\n",
      "20/20 [==============================] - 1s 34ms/step - loss: 0.0371 - accuracy: 0.9889 - val_loss: 0.1679 - val_accuracy: 0.9452 - lr: 5.0000e-04\n",
      "Epoch 24/50\n",
      "20/20 [==============================] - 1s 37ms/step - loss: 0.0318 - accuracy: 0.9909 - val_loss: 0.1756 - val_accuracy: 0.9506 - lr: 5.0000e-04\n",
      "Epoch 25/50\n",
      "20/20 [==============================] - 1s 37ms/step - loss: 0.0320 - accuracy: 0.9905 - val_loss: 0.1736 - val_accuracy: 0.9415 - lr: 2.5000e-04\n",
      "Epoch 26/50\n",
      "20/20 [==============================] - 1s 38ms/step - loss: 0.0268 - accuracy: 0.9923 - val_loss: 0.1690 - val_accuracy: 0.9470 - lr: 2.5000e-04\n",
      "Epoch 27/50\n",
      "20/20 [==============================] - 1s 34ms/step - loss: 0.0252 - accuracy: 0.9929 - val_loss: 0.1690 - val_accuracy: 0.9470 - lr: 1.2500e-04\n",
      "Epoch 28/50\n",
      "20/20 [==============================] - 1s 38ms/step - loss: 0.0294 - accuracy: 0.9915 - val_loss: 0.1666 - val_accuracy: 0.9452 - lr: 1.2500e-04\n",
      "Epoch 29/50\n",
      "20/20 [==============================] - 1s 38ms/step - loss: 0.0264 - accuracy: 0.9925 - val_loss: 0.1668 - val_accuracy: 0.9452 - lr: 1.0000e-04\n",
      "Epoch 30/50\n",
      "20/20 [==============================] - 1s 34ms/step - loss: 0.0212 - accuracy: 0.9929 - val_loss: 0.1658 - val_accuracy: 0.9470 - lr: 1.0000e-04\n",
      "Epoch 31/50\n",
      "20/20 [==============================] - 1s 37ms/step - loss: 0.0206 - accuracy: 0.9955 - val_loss: 0.1656 - val_accuracy: 0.9433 - lr: 1.0000e-04\n",
      "Epoch 32/50\n",
      "20/20 [==============================] - 1s 37ms/step - loss: 0.0270 - accuracy: 0.9907 - val_loss: 0.1626 - val_accuracy: 0.9452 - lr: 1.0000e-04\n",
      "Epoch 33/50\n",
      "20/20 [==============================] - 1s 37ms/step - loss: 0.0191 - accuracy: 0.9949 - val_loss: 0.1626 - val_accuracy: 0.9452 - lr: 1.0000e-04\n",
      "Epoch 34/50\n",
      "20/20 [==============================] - 1s 34ms/step - loss: 0.0229 - accuracy: 0.9931 - val_loss: 0.1625 - val_accuracy: 0.9452 - lr: 1.0000e-04\n",
      "Epoch 35/50\n",
      "20/20 [==============================] - 1s 38ms/step - loss: 0.0201 - accuracy: 0.9947 - val_loss: 0.1640 - val_accuracy: 0.9452 - lr: 1.0000e-04\n",
      "Epoch 36/50\n",
      "20/20 [==============================] - 1s 37ms/step - loss: 0.0199 - accuracy: 0.9955 - val_loss: 0.1639 - val_accuracy: 0.9470 - lr: 1.0000e-04\n",
      "Epoch 37/50\n",
      "20/20 [==============================] - 1s 35ms/step - loss: 0.0183 - accuracy: 0.9968 - val_loss: 0.1601 - val_accuracy: 0.9488 - lr: 1.0000e-04\n",
      "Epoch 38/50\n",
      "20/20 [==============================] - 1s 36ms/step - loss: 0.0191 - accuracy: 0.9943 - val_loss: 0.1628 - val_accuracy: 0.9470 - lr: 1.0000e-04\n",
      "Epoch 39/50\n",
      "20/20 [==============================] - 1s 38ms/step - loss: 0.0191 - accuracy: 0.9949 - val_loss: 0.1620 - val_accuracy: 0.9488 - lr: 1.0000e-04\n",
      "Epoch 40/50\n",
      "20/20 [==============================] - 1s 38ms/step - loss: 0.0145 - accuracy: 0.9959 - val_loss: 0.1640 - val_accuracy: 0.9433 - lr: 1.0000e-04\n",
      "Epoch 41/50\n",
      "20/20 [==============================] - 1s 34ms/step - loss: 0.0193 - accuracy: 0.9962 - val_loss: 0.1635 - val_accuracy: 0.9415 - lr: 1.0000e-04\n",
      "Epoch 42/50\n",
      "20/20 [==============================] - 1s 38ms/step - loss: 0.0203 - accuracy: 0.9947 - val_loss: 0.1573 - val_accuracy: 0.9452 - lr: 1.0000e-04\n",
      "Epoch 43/50\n",
      "20/20 [==============================] - 1s 37ms/step - loss: 0.0152 - accuracy: 0.9949 - val_loss: 0.1585 - val_accuracy: 0.9433 - lr: 1.0000e-04\n",
      "Epoch 44/50\n",
      "20/20 [==============================] - 1s 34ms/step - loss: 0.0191 - accuracy: 0.9935 - val_loss: 0.1559 - val_accuracy: 0.9488 - lr: 1.0000e-04\n",
      "Epoch 45/50\n",
      "20/20 [==============================] - 1s 38ms/step - loss: 0.0159 - accuracy: 0.9955 - val_loss: 0.1566 - val_accuracy: 0.9506 - lr: 1.0000e-04\n",
      "Epoch 46/50\n",
      "20/20 [==============================] - 1s 37ms/step - loss: 0.0185 - accuracy: 0.9945 - val_loss: 0.1618 - val_accuracy: 0.9415 - lr: 1.0000e-04\n",
      "Epoch 47/50\n",
      "20/20 [==============================] - 1s 37ms/step - loss: 0.0161 - accuracy: 0.9962 - val_loss: 0.1611 - val_accuracy: 0.9452 - lr: 1.0000e-04\n",
      "Epoch 48/50\n",
      "20/20 [==============================] - 1s 34ms/step - loss: 0.0165 - accuracy: 0.9955 - val_loss: 0.1642 - val_accuracy: 0.9452 - lr: 1.0000e-04\n",
      "Epoch 49/50\n",
      "20/20 [==============================] - 1s 36ms/step - loss: 0.0147 - accuracy: 0.9966 - val_loss: 0.1633 - val_accuracy: 0.9452 - lr: 1.0000e-04\n",
      "Epoch 50/50\n",
      "20/20 [==============================] - 1s 33ms/step - loss: 0.0146 - accuracy: 0.9962 - val_loss: 0.1627 - val_accuracy: 0.9470 - lr: 1.0000e-04\n"
     ]
    }
   ],
   "source": [
    "#모델 학습\n",
    "history = model.fit(textcuboid_train, y_train1,callbacks=callbacks, epochs=50,batch_size=256,validation_data=(textcuboid_val, y_val))"
   ]
  },
  {
   "cell_type": "code",
   "execution_count": 21,
   "id": "4abfefe7",
   "metadata": {
    "scrolled": true
   },
   "outputs": [
    {
     "name": "stdout",
     "output_type": "stream",
     "text": [
      "69/69 [==============================] - 0s 3ms/step - loss: 0.1364 - accuracy: 0.9667\n"
     ]
    },
    {
     "data": {
      "text/plain": [
       "[0.13640496134757996, 0.966651439666748]"
      ]
     },
     "execution_count": 21,
     "metadata": {},
     "output_type": "execute_result"
    }
   ],
   "source": [
    "model.evaluate(textcuboid_test,y_test1)"
   ]
  },
  {
   "cell_type": "code",
   "execution_count": 19,
   "id": "24d7dcbb-9295-483d-8956-d669e2d267f8",
   "metadata": {},
   "outputs": [
    {
     "name": "stdout",
     "output_type": "stream",
     "text": [
      "69/69 [==============================] - 0s 4ms/step - loss: 0.1333 - accuracy: 0.9676\n"
     ]
    },
    {
     "data": {
      "text/plain": [
       "[0.1332753747701645, 0.96756511926651]"
      ]
     },
     "execution_count": 19,
     "metadata": {},
     "output_type": "execute_result"
    }
   ],
   "source": [
    "model = load_model('./save model/best_model_1-Channel Tensor(BERT).h5')\n",
    "model.evaluate(textcuboid_test,y_test1)"
   ]
  },
  {
   "cell_type": "code",
   "execution_count": 20,
   "id": "3e467b41-f11f-457c-9005-e5fab680aadf",
   "metadata": {},
   "outputs": [
    {
     "name": "stdout",
     "output_type": "stream",
     "text": [
      "69/69 [==============================] - 0s 3ms/step\n",
      "Macro_F1 스코어: 0.9284601445543716\n",
      "weighted_F1 스코어: 0.9670420918302938\n"
     ]
    }
   ],
   "source": [
    "y_pred = model.predict(textcuboid_test)\n",
    "y_pred_labels = np.argmax(y_pred, axis=1)\n",
    "macro_f1 = f1_score(y_test, y_pred_labels, average='macro')\n",
    "print(\"Macro_F1 스코어:\", macro_f1)\n",
    "weighted_f1 = f1_score(y_test, y_pred_labels, average='weighted')\n",
    "print(\"weighted_F1 스코어:\", weighted_f1)"
   ]
  },
  {
   "cell_type": "code",
   "execution_count": null,
   "id": "51303dbb-a926-448e-93a2-1d88cca9c52f",
   "metadata": {},
   "outputs": [],
   "source": [
    "45에포크 drop1,2 활성화 1024 96.8"
   ]
  }
 ],
 "metadata": {
  "kernelspec": {
   "display_name": "Python 3 (ipykernel)",
   "language": "python",
   "name": "python3"
  },
  "language_info": {
   "codemirror_mode": {
    "name": "ipython",
    "version": 3
   },
   "file_extension": ".py",
   "mimetype": "text/x-python",
   "name": "python",
   "nbconvert_exporter": "python",
   "pygments_lexer": "ipython3",
   "version": "3.11.7"
  }
 },
 "nbformat": 4,
 "nbformat_minor": 5
}
