{
 "cells": [
  {
   "cell_type": "code",
   "execution_count": 1,
   "id": "24bd1ee0-78fd-4036-980d-2b640ca7cabd",
   "metadata": {},
   "outputs": [],
   "source": [
    "import numpy as np\n",
    "import pandas as pd\n",
    "from sklearn.preprocessing import LabelEncoder\n",
    "from sklearn.feature_selection import SelectKBest\n",
    "from sklearn.feature_selection import chi2\n",
    "from sklearn.feature_extraction.text import CountVectorizer\n",
    "from sklearn.feature_extraction.text import TfidfTransformer\n",
    "from sklearn.svm import LinearSVC\n",
    "from sklearn.linear_model import LogisticRegression\n",
    "from sklearn.naive_bayes import MultinomialNB\n",
    "from sklearn.model_selection import GridSearchCV\n",
    "from sklearn.metrics import accuracy_score, f1_score\n",
    "import sys\n",
    "sys.path.append('C:/Users/User/Desktop/r8')\n",
    "from data_preprocessing import *"
   ]
  },
  {
   "cell_type": "code",
   "execution_count": 2,
   "id": "68d003ed-2cde-4744-a9f1-3c51d280d2cb",
   "metadata": {},
   "outputs": [
    {
     "data": {
      "text/html": [
       "<div>\n",
       "<style scoped>\n",
       "    .dataframe tbody tr th:only-of-type {\n",
       "        vertical-align: middle;\n",
       "    }\n",
       "\n",
       "    .dataframe tbody tr th {\n",
       "        vertical-align: top;\n",
       "    }\n",
       "\n",
       "    .dataframe thead th {\n",
       "        text-align: right;\n",
       "    }\n",
       "</style>\n",
       "<table border=\"1\" class=\"dataframe\">\n",
       "  <thead>\n",
       "    <tr style=\"text-align: right;\">\n",
       "      <th></th>\n",
       "      <th>text</th>\n",
       "      <th>edge</th>\n",
       "      <th>intent</th>\n",
       "    </tr>\n",
       "  </thead>\n",
       "  <tbody>\n",
       "    <tr>\n",
       "      <th>0</th>\n",
       "      <td>champion product approv stock split champion p...</td>\n",
       "      <td>champion product approv stock split champion p...</td>\n",
       "      <td>earn</td>\n",
       "    </tr>\n",
       "    <tr>\n",
       "      <th>1</th>\n",
       "      <td>comput termin system cpml complet sale comput ...</td>\n",
       "      <td>comput termin system cpml complet sale comput ...</td>\n",
       "      <td>acq</td>\n",
       "    </tr>\n",
       "    <tr>\n",
       "      <th>2</th>\n",
       "      <td>cobanco inc cbco year net shr ct dlr net asset...</td>\n",
       "      <td>cobanco inc cbco year net shr ct dlr net asset...</td>\n",
       "      <td>earn</td>\n",
       "    </tr>\n",
       "    <tr>\n",
       "      <th>3</th>\n",
       "      <td>intern inc qtr jan oper shr loss two ct profit...</td>\n",
       "      <td>intern inc qtr jan oper shr loss two ct profit...</td>\n",
       "      <td>earn</td>\n",
       "    </tr>\n",
       "    <tr>\n",
       "      <th>4</th>\n",
       "      <td>brown forman inc bfd qtr net shr dlr ct net ml...</td>\n",
       "      <td>brown forman inc bfd qtr net shr dlr ct net ml...</td>\n",
       "      <td>earn</td>\n",
       "    </tr>\n",
       "  </tbody>\n",
       "</table>\n",
       "</div>"
      ],
      "text/plain": [
       "                                                text  \\\n",
       "0  champion product approv stock split champion p...   \n",
       "1  comput termin system cpml complet sale comput ...   \n",
       "2  cobanco inc cbco year net shr ct dlr net asset...   \n",
       "3  intern inc qtr jan oper shr loss two ct profit...   \n",
       "4  brown forman inc bfd qtr net shr dlr ct net ml...   \n",
       "\n",
       "                                                edge intent  \n",
       "0  champion product approv stock split champion p...   earn  \n",
       "1  comput termin system cpml complet sale comput ...    acq  \n",
       "2  cobanco inc cbco year net shr ct dlr net asset...   earn  \n",
       "3  intern inc qtr jan oper shr loss two ct profit...   earn  \n",
       "4  brown forman inc bfd qtr net shr dlr ct net ml...   earn  "
      ]
     },
     "execution_count": 2,
     "metadata": {},
     "output_type": "execute_result"
    }
   ],
   "source": [
    "train_df = pd.read_csv('C:/Users/User/Desktop/r8/r8_dataset/r8-train-stemmed.csv')\n",
    "valid_df = pd.read_csv('C:/Users/User/Desktop/r8/r8_dataset/r8-dev-stemmed.csv')\n",
    "test_df = pd.read_csv('C:/Users/User/Desktop/r8/r8_dataset/r8-test-stemmed.csv')\n",
    "train_df.head()"
   ]
  },
  {
   "cell_type": "markdown",
   "id": "9203e637-99cc-4398-a7f3-511593c535f8",
   "metadata": {},
   "source": [
    "text와 edge는 동일한 것으로 판단되므로 text만 활용하여 모델 학습"
   ]
  },
  {
   "cell_type": "code",
   "execution_count": 3,
   "id": "db2b9bb7-eb07-46f9-9504-d3263633ea3e",
   "metadata": {},
   "outputs": [],
   "source": [
    "# train_df와 valid_df 결합\n",
    "train_val_df = pd.concat([train_df, valid_df])"
   ]
  },
  {
   "cell_type": "markdown",
   "id": "c696af65-3906-4c71-8fb6-2fce1acab06c",
   "metadata": {},
   "source": [
    "# 전처리"
   ]
  },
  {
   "cell_type": "code",
   "execution_count": 4,
   "id": "0fd9942a-a03b-4081-8372-3523a3c1d1a1",
   "metadata": {},
   "outputs": [],
   "source": [
    "train_val_df['text']=train_val_df['text'].apply(clean_text)\n",
    "test_df['text']=test_df['text'].apply(clean_text)"
   ]
  },
  {
   "cell_type": "code",
   "execution_count": 5,
   "id": "8d93b744-f5e5-4bc6-85c8-fb18f115ac49",
   "metadata": {},
   "outputs": [],
   "source": [
    "x_train=list(train_val_df['text'])\n",
    "y_train=list(train_val_df['intent'])\n",
    "x_test=list(test_df['text'])\n",
    "y_test=list(test_df['intent'])"
   ]
  },
  {
   "cell_type": "code",
   "execution_count": 6,
   "id": "4782851e-9f10-4d53-9b8a-2d9cd37af330",
   "metadata": {},
   "outputs": [],
   "source": [
    "to_txt=x_train+x_test\n",
    "y=list(y_train)+list(y_test)"
   ]
  },
  {
   "cell_type": "code",
   "execution_count": 7,
   "id": "9da49a8a-1adc-440a-90bf-6132cf5f6ef7",
   "metadata": {},
   "outputs": [],
   "source": [
    "#불용어 불러오기\n",
    "with open('C:/Users/user/Desktop/english.txt', 'r', encoding='utf-8') as file:\n",
    "    stopwords = [line.strip() for line in file]"
   ]
  },
  {
   "cell_type": "code",
   "execution_count": 8,
   "id": "60b07f0b-3bdf-4bd0-8a5a-7a98814c3bfe",
   "metadata": {},
   "outputs": [
    {
     "name": "stderr",
     "output_type": "stream",
     "text": [
      "C:\\ProgramData\\anaconda3\\envs\\class\\lib\\site-packages\\sklearn\\feature_extraction\\text.py:408: UserWarning: Your stop_words may be inconsistent with your preprocessing. Tokenizing the stop words generated tokens ['ain', 'daren', 'hadn', 'herse', 'himse', 'itse', 'mayn', 'mightn', 'mon', 'mustn', 'myse', 'needn', 'oughtn', 'shan'] not in stop_words.\n",
      "  warnings.warn(\n"
     ]
    }
   ],
   "source": [
    "#문서 분류에 도움되는 10,000개 단어 선별\n",
    "vect = CountVectorizer(stop_words=stopwords)\n",
    "X_dtm = vect.fit_transform(to_txt)\n",
    "X_dtm = X_dtm.toarray()\n",
    "X_new = SelectKBest(chi2, k=10000).fit(X_dtm, y)\n",
    "TorF = X_new.get_support()\n",
    "TorF\n",
    "word_view=np.array(vect.get_feature_names_out())\n",
    "feature_lst10000=word_view[TorF]"
   ]
  },
  {
   "cell_type": "code",
   "execution_count": 9,
   "id": "851f112e-0de0-4824-ac92-aedbf284e1f1",
   "metadata": {},
   "outputs": [],
   "source": [
    "#훈련데이터에서 선별한 10000개 단어 이외 단어는 <ukn>으로 변경\n",
    "train_transe=[]\n",
    "for i in range(len(x_train)):\n",
    "    a=x_train[i].split()\n",
    "    for j in range(len(a)):\n",
    "        if a[j] not in feature_lst10000:\n",
    "            a[j] = '<ukn>'\n",
    "    train_transe.append(' '.join(a))"
   ]
  },
  {
   "cell_type": "code",
   "execution_count": 10,
   "id": "e2d80944-66a1-438b-9b1c-dab74e7114b4",
   "metadata": {},
   "outputs": [],
   "source": [
    "#테스트데이터에서 선별한 10000개 단어 이외 단어는 <ukn>으로 변경\n",
    "test_transe=[]\n",
    "for i in range(len(x_test)):\n",
    "    a=x_test[i].split()\n",
    "    for j in range(len(a)):\n",
    "        if a[j] not in feature_lst10000:\n",
    "            a[j] = '<ukn>'\n",
    "    test_transe.append(' '.join(a))"
   ]
  },
  {
   "cell_type": "code",
   "execution_count": 11,
   "id": "5454b990-962d-4862-a7f8-317045acd0e4",
   "metadata": {},
   "outputs": [],
   "source": [
    "# DTM 확인\n",
    "dtmvector = CountVectorizer()\n",
    "x_train_dtm = dtmvector.fit_transform(train_transe)\n",
    "# print(x_train.shape)\n",
    "\n",
    "# 테스트데이터\n",
    "x_test_dtm = dtmvector.transform(test_transe) #테스트 데이터를 DTM으로 변환"
   ]
  },
  {
   "cell_type": "code",
   "execution_count": 12,
   "id": "1653028d-12c3-41a9-81c6-b25d07802732",
   "metadata": {},
   "outputs": [
    {
     "name": "stdout",
     "output_type": "stream",
     "text": [
      "(5484, 8881)\n"
     ]
    }
   ],
   "source": [
    "# TF-IDF Matrix확인\n",
    "tfidf_transformer = TfidfTransformer()\n",
    "tfidfv = tfidf_transformer.fit_transform(x_train_dtm)\n",
    "print(tfidfv.shape)\n",
    "\n",
    "# 테스트데이터\n",
    "tfidfv_test = tfidf_transformer.transform(x_test_dtm) #DTM을 TF-IDF 행렬로 변환"
   ]
  },
  {
   "cell_type": "markdown",
   "id": "68fbdf90-f6a3-4d01-9229-4cd1b71e6a15",
   "metadata": {},
   "source": [
    "# 전통적인 머신러닝 모델로 학습"
   ]
  },
  {
   "cell_type": "code",
   "execution_count": 13,
   "id": "1b134b3f-5b42-41f8-a6f0-4e203aac9cf4",
   "metadata": {
    "scrolled": true
   },
   "outputs": [
    {
     "name": "stdout",
     "output_type": "stream",
     "text": [
      "Fitting 5 folds for each of 12 candidates, totalling 60 fits\n",
      "[CV 1/5] END ........alpha=0.01, fit_prior=True;, score=0.927 total time=   0.0s\n",
      "[CV 2/5] END ........alpha=0.01, fit_prior=True;, score=0.918 total time=   0.0s\n",
      "[CV 3/5] END ........alpha=0.01, fit_prior=True;, score=0.937 total time=   0.0s\n",
      "[CV 4/5] END ........alpha=0.01, fit_prior=True;, score=0.931 total time=   0.0s\n",
      "[CV 5/5] END ........alpha=0.01, fit_prior=True;, score=0.919 total time=   0.0s\n",
      "[CV 1/5] END .......alpha=0.01, fit_prior=False;, score=0.902 total time=   0.0s\n",
      "[CV 2/5] END .......alpha=0.01, fit_prior=False;, score=0.885 total time=   0.0s\n",
      "[CV 3/5] END .......alpha=0.01, fit_prior=False;, score=0.900 total time=   0.0s\n",
      "[CV 4/5] END .......alpha=0.01, fit_prior=False;, score=0.902 total time=   0.0s\n",
      "[CV 5/5] END .......alpha=0.01, fit_prior=False;, score=0.877 total time=   0.0s\n",
      "[CV 1/5] END .........alpha=0.1, fit_prior=True;, score=0.935 total time=   0.0s\n",
      "[CV 2/5] END .........alpha=0.1, fit_prior=True;, score=0.935 total time=   0.0s\n",
      "[CV 3/5] END .........alpha=0.1, fit_prior=True;, score=0.944 total time=   0.0s\n",
      "[CV 4/5] END .........alpha=0.1, fit_prior=True;, score=0.940 total time=   0.0s\n",
      "[CV 5/5] END .........alpha=0.1, fit_prior=True;, score=0.930 total time=   0.0s\n",
      "[CV 1/5] END ........alpha=0.1, fit_prior=False;, score=0.935 total time=   0.0s\n",
      "[CV 2/5] END ........alpha=0.1, fit_prior=False;, score=0.922 total time=   0.0s\n",
      "[CV 3/5] END ........alpha=0.1, fit_prior=False;, score=0.923 total time=   0.0s\n",
      "[CV 4/5] END ........alpha=0.1, fit_prior=False;, score=0.928 total time=   0.0s\n",
      "[CV 5/5] END ........alpha=0.1, fit_prior=False;, score=0.913 total time=   0.0s\n",
      "[CV 1/5] END .........alpha=0.5, fit_prior=True;, score=0.897 total time=   0.0s\n",
      "[CV 2/5] END .........alpha=0.5, fit_prior=True;, score=0.886 total time=   0.0s\n",
      "[CV 3/5] END .........alpha=0.5, fit_prior=True;, score=0.910 total time=   0.0s\n",
      "[CV 4/5] END .........alpha=0.5, fit_prior=True;, score=0.882 total time=   0.0s\n",
      "[CV 5/5] END .........alpha=0.5, fit_prior=True;, score=0.886 total time=   0.0s\n",
      "[CV 1/5] END ........alpha=0.5, fit_prior=False;, score=0.943 total time=   0.0s\n",
      "[CV 2/5] END ........alpha=0.5, fit_prior=False;, score=0.937 total time=   0.0s\n",
      "[CV 3/5] END ........alpha=0.5, fit_prior=False;, score=0.946 total time=   0.0s\n",
      "[CV 4/5] END ........alpha=0.5, fit_prior=False;, score=0.952 total time=   0.0s\n",
      "[CV 5/5] END ........alpha=0.5, fit_prior=False;, score=0.942 total time=   0.0s\n",
      "[CV 1/5] END ...........alpha=1, fit_prior=True;, score=0.822 total time=   0.0s\n",
      "[CV 2/5] END ...........alpha=1, fit_prior=True;, score=0.838 total time=   0.0s\n",
      "[CV 3/5] END ...........alpha=1, fit_prior=True;, score=0.838 total time=   0.0s\n",
      "[CV 4/5] END ...........alpha=1, fit_prior=True;, score=0.829 total time=   0.0s\n",
      "[CV 5/5] END ...........alpha=1, fit_prior=True;, score=0.818 total time=   0.0s\n",
      "[CV 1/5] END ..........alpha=1, fit_prior=False;, score=0.929 total time=   0.0s\n",
      "[CV 2/5] END ..........alpha=1, fit_prior=False;, score=0.925 total time=   0.0s\n",
      "[CV 3/5] END ..........alpha=1, fit_prior=False;, score=0.933 total time=   0.0s\n",
      "[CV 4/5] END ..........alpha=1, fit_prior=False;, score=0.939 total time=   0.0s\n",
      "[CV 5/5] END ..........alpha=1, fit_prior=False;, score=0.928 total time=   0.0s\n",
      "[CV 1/5] END ..........alpha=10, fit_prior=True;, score=0.589 total time=   0.0s\n",
      "[CV 2/5] END ..........alpha=10, fit_prior=True;, score=0.592 total time=   0.0s\n",
      "[CV 3/5] END ..........alpha=10, fit_prior=True;, score=0.590 total time=   0.0s\n",
      "[CV 4/5] END ..........alpha=10, fit_prior=True;, score=0.598 total time=   0.0s\n",
      "[CV 5/5] END ..........alpha=10, fit_prior=True;, score=0.589 total time=   0.0s\n",
      "[CV 1/5] END .........alpha=10, fit_prior=False;, score=0.771 total time=   0.0s\n",
      "[CV 2/5] END .........alpha=10, fit_prior=False;, score=0.795 total time=   0.0s\n",
      "[CV 3/5] END .........alpha=10, fit_prior=False;, score=0.791 total time=   0.0s\n",
      "[CV 4/5] END .........alpha=10, fit_prior=False;, score=0.803 total time=   0.0s\n",
      "[CV 5/5] END .........alpha=10, fit_prior=False;, score=0.790 total time=   0.0s\n",
      "[CV 1/5] END .........alpha=100, fit_prior=True;, score=0.518 total time=   0.0s\n",
      "[CV 2/5] END .........alpha=100, fit_prior=True;, score=0.518 total time=   0.0s\n",
      "[CV 3/5] END .........alpha=100, fit_prior=True;, score=0.518 total time=   0.0s\n",
      "[CV 4/5] END .........alpha=100, fit_prior=True;, score=0.518 total time=   0.0s\n",
      "[CV 5/5] END .........alpha=100, fit_prior=True;, score=0.517 total time=   0.0s\n",
      "[CV 1/5] END ........alpha=100, fit_prior=False;, score=0.557 total time=   0.0s\n",
      "[CV 2/5] END ........alpha=100, fit_prior=False;, score=0.568 total time=   0.0s\n",
      "[CV 3/5] END ........alpha=100, fit_prior=False;, score=0.562 total time=   0.0s\n",
      "[CV 4/5] END ........alpha=100, fit_prior=False;, score=0.562 total time=   0.0s\n",
      "[CV 5/5] END ........alpha=100, fit_prior=False;, score=0.556 total time=   0.0s\n",
      "{'alpha': 0.5, 'fit_prior': False}\n",
      "정확도: 0.9529465509365007\n",
      "F1 스코어: 0.8298000733696644\n",
      "F1 스코어: 0.9517197877066944\n"
     ]
    }
   ],
   "source": [
    "#나이브 베이즈 모델\n",
    "param_grid = {'alpha': [0.01, 0.1, 0.5, 1, 10, 100],\n",
    "              'fit_prior': [True, False]}\n",
    "\n",
    "grid = GridSearchCV(MultinomialNB(), param_grid, refit=True, verbose=3)\n",
    "\n",
    "grid.fit(tfidfv, y_train)\n",
    "print(grid.best_params_)\n",
    "\n",
    "predicted = grid.predict(tfidfv_test)\n",
    "print(\"정확도:\", accuracy_score(y_test, predicted))\n",
    "print(\"F1 스코어:\", f1_score(y_test, predicted, average='macro'))\n",
    "print(\"F1 스코어:\", f1_score(y_test, predicted, average='weighted'))"
   ]
  },
  {
   "cell_type": "code",
   "execution_count": 14,
   "id": "3188d1d7-a146-4bbf-b286-9cbbde365d9e",
   "metadata": {
    "scrolled": true
   },
   "outputs": [
    {
     "name": "stdout",
     "output_type": "stream",
     "text": [
      "Fitting 5 folds for each of 10 candidates, totalling 50 fits\n",
      "[CV 1/5] END .................C=0.1, penalty=l1;, score=0.935 total time=   0.0s\n",
      "[CV 2/5] END .................C=0.1, penalty=l1;, score=0.937 total time=   0.0s\n",
      "[CV 3/5] END .................C=0.1, penalty=l1;, score=0.922 total time=   0.0s\n",
      "[CV 4/5] END .................C=0.1, penalty=l1;, score=0.933 total time=   0.0s\n",
      "[CV 5/5] END .................C=0.1, penalty=l1;, score=0.924 total time=   0.0s\n",
      "[CV 1/5] END .................C=0.1, penalty=l2;, score=0.955 total time=   0.0s\n",
      "[CV 2/5] END .................C=0.1, penalty=l2;, score=0.957 total time=   0.0s\n",
      "[CV 3/5] END .................C=0.1, penalty=l2;, score=0.949 total time=   0.0s\n",
      "[CV 4/5] END .................C=0.1, penalty=l2;, score=0.950 total time=   0.0s\n",
      "[CV 5/5] END .................C=0.1, penalty=l2;, score=0.939 total time=   0.0s\n",
      "[CV 1/5] END ...................C=1, penalty=l1;, score=0.965 total time=   0.1s\n",
      "[CV 2/5] END ...................C=1, penalty=l1;, score=0.971 total time=   0.0s\n",
      "[CV 3/5] END ...................C=1, penalty=l1;, score=0.955 total time=   0.1s\n",
      "[CV 4/5] END ...................C=1, penalty=l1;, score=0.964 total time=   0.1s\n",
      "[CV 5/5] END ...................C=1, penalty=l1;, score=0.957 total time=   0.1s\n",
      "[CV 1/5] END ...................C=1, penalty=l2;, score=0.970 total time=   0.0s\n",
      "[CV 2/5] END ...................C=1, penalty=l2;, score=0.972 total time=   0.0s\n",
      "[CV 3/5] END ...................C=1, penalty=l2;, score=0.964 total time=   0.0s\n",
      "[CV 4/5] END ...................C=1, penalty=l2;, score=0.970 total time=   0.0s\n",
      "[CV 5/5] END ...................C=1, penalty=l2;, score=0.962 total time=   0.0s\n"
     ]
    },
    {
     "name": "stderr",
     "output_type": "stream",
     "text": [
      "C:\\ProgramData\\anaconda3\\envs\\class\\lib\\site-packages\\sklearn\\svm\\_base.py:1250: ConvergenceWarning: Liblinear failed to converge, increase the number of iterations.\n",
      "  warnings.warn(\n"
     ]
    },
    {
     "name": "stdout",
     "output_type": "stream",
     "text": [
      "[CV 1/5] END ..................C=10, penalty=l1;, score=0.965 total time=   0.2s\n"
     ]
    },
    {
     "name": "stderr",
     "output_type": "stream",
     "text": [
      "C:\\ProgramData\\anaconda3\\envs\\class\\lib\\site-packages\\sklearn\\svm\\_base.py:1250: ConvergenceWarning: Liblinear failed to converge, increase the number of iterations.\n",
      "  warnings.warn(\n"
     ]
    },
    {
     "name": "stdout",
     "output_type": "stream",
     "text": [
      "[CV 2/5] END ..................C=10, penalty=l1;, score=0.966 total time=   0.2s\n"
     ]
    },
    {
     "name": "stderr",
     "output_type": "stream",
     "text": [
      "C:\\ProgramData\\anaconda3\\envs\\class\\lib\\site-packages\\sklearn\\svm\\_base.py:1250: ConvergenceWarning: Liblinear failed to converge, increase the number of iterations.\n",
      "  warnings.warn(\n"
     ]
    },
    {
     "name": "stdout",
     "output_type": "stream",
     "text": [
      "[CV 3/5] END ..................C=10, penalty=l1;, score=0.954 total time=   0.2s\n"
     ]
    },
    {
     "name": "stderr",
     "output_type": "stream",
     "text": [
      "C:\\ProgramData\\anaconda3\\envs\\class\\lib\\site-packages\\sklearn\\svm\\_base.py:1250: ConvergenceWarning: Liblinear failed to converge, increase the number of iterations.\n",
      "  warnings.warn(\n"
     ]
    },
    {
     "name": "stdout",
     "output_type": "stream",
     "text": [
      "[CV 4/5] END ..................C=10, penalty=l1;, score=0.967 total time=   0.2s\n"
     ]
    },
    {
     "name": "stderr",
     "output_type": "stream",
     "text": [
      "C:\\ProgramData\\anaconda3\\envs\\class\\lib\\site-packages\\sklearn\\svm\\_base.py:1250: ConvergenceWarning: Liblinear failed to converge, increase the number of iterations.\n",
      "  warnings.warn(\n"
     ]
    },
    {
     "name": "stdout",
     "output_type": "stream",
     "text": [
      "[CV 5/5] END ..................C=10, penalty=l1;, score=0.963 total time=   0.2s\n",
      "[CV 1/5] END ..................C=10, penalty=l2;, score=0.965 total time=   0.1s\n",
      "[CV 2/5] END ..................C=10, penalty=l2;, score=0.973 total time=   0.1s\n",
      "[CV 3/5] END ..................C=10, penalty=l2;, score=0.964 total time=   0.1s\n",
      "[CV 4/5] END ..................C=10, penalty=l2;, score=0.968 total time=   0.0s\n",
      "[CV 5/5] END ..................C=10, penalty=l2;, score=0.964 total time=   0.0s\n"
     ]
    },
    {
     "name": "stderr",
     "output_type": "stream",
     "text": [
      "C:\\ProgramData\\anaconda3\\envs\\class\\lib\\site-packages\\sklearn\\svm\\_base.py:1250: ConvergenceWarning: Liblinear failed to converge, increase the number of iterations.\n",
      "  warnings.warn(\n"
     ]
    },
    {
     "name": "stdout",
     "output_type": "stream",
     "text": [
      "[CV 1/5] END .................C=100, penalty=l1;, score=0.963 total time=   0.3s\n"
     ]
    },
    {
     "name": "stderr",
     "output_type": "stream",
     "text": [
      "C:\\ProgramData\\anaconda3\\envs\\class\\lib\\site-packages\\sklearn\\svm\\_base.py:1250: ConvergenceWarning: Liblinear failed to converge, increase the number of iterations.\n",
      "  warnings.warn(\n"
     ]
    },
    {
     "name": "stdout",
     "output_type": "stream",
     "text": [
      "[CV 2/5] END .................C=100, penalty=l1;, score=0.968 total time=   0.3s\n"
     ]
    },
    {
     "name": "stderr",
     "output_type": "stream",
     "text": [
      "C:\\ProgramData\\anaconda3\\envs\\class\\lib\\site-packages\\sklearn\\svm\\_base.py:1250: ConvergenceWarning: Liblinear failed to converge, increase the number of iterations.\n",
      "  warnings.warn(\n"
     ]
    },
    {
     "name": "stdout",
     "output_type": "stream",
     "text": [
      "[CV 3/5] END .................C=100, penalty=l1;, score=0.955 total time=   0.3s\n"
     ]
    },
    {
     "name": "stderr",
     "output_type": "stream",
     "text": [
      "C:\\ProgramData\\anaconda3\\envs\\class\\lib\\site-packages\\sklearn\\svm\\_base.py:1250: ConvergenceWarning: Liblinear failed to converge, increase the number of iterations.\n",
      "  warnings.warn(\n"
     ]
    },
    {
     "name": "stdout",
     "output_type": "stream",
     "text": [
      "[CV 4/5] END .................C=100, penalty=l1;, score=0.973 total time=   0.4s\n"
     ]
    },
    {
     "name": "stderr",
     "output_type": "stream",
     "text": [
      "C:\\ProgramData\\anaconda3\\envs\\class\\lib\\site-packages\\sklearn\\svm\\_base.py:1250: ConvergenceWarning: Liblinear failed to converge, increase the number of iterations.\n",
      "  warnings.warn(\n"
     ]
    },
    {
     "name": "stdout",
     "output_type": "stream",
     "text": [
      "[CV 5/5] END .................C=100, penalty=l1;, score=0.959 total time=   0.3s\n",
      "[CV 1/5] END .................C=100, penalty=l2;, score=0.960 total time=   0.3s\n",
      "[CV 2/5] END .................C=100, penalty=l2;, score=0.972 total time=   0.4s\n",
      "[CV 3/5] END .................C=100, penalty=l2;, score=0.966 total time=   0.4s\n",
      "[CV 4/5] END .................C=100, penalty=l2;, score=0.973 total time=   0.4s\n",
      "[CV 5/5] END .................C=100, penalty=l2;, score=0.962 total time=   0.4s\n"
     ]
    },
    {
     "name": "stderr",
     "output_type": "stream",
     "text": [
      "C:\\ProgramData\\anaconda3\\envs\\class\\lib\\site-packages\\sklearn\\svm\\_base.py:1250: ConvergenceWarning: Liblinear failed to converge, increase the number of iterations.\n",
      "  warnings.warn(\n"
     ]
    },
    {
     "name": "stdout",
     "output_type": "stream",
     "text": [
      "[CV 1/5] END ................C=1000, penalty=l1;, score=0.965 total time=   0.6s\n"
     ]
    },
    {
     "name": "stderr",
     "output_type": "stream",
     "text": [
      "C:\\ProgramData\\anaconda3\\envs\\class\\lib\\site-packages\\sklearn\\svm\\_base.py:1250: ConvergenceWarning: Liblinear failed to converge, increase the number of iterations.\n",
      "  warnings.warn(\n"
     ]
    },
    {
     "name": "stdout",
     "output_type": "stream",
     "text": [
      "[CV 2/5] END ................C=1000, penalty=l1;, score=0.958 total time=   0.6s\n"
     ]
    },
    {
     "name": "stderr",
     "output_type": "stream",
     "text": [
      "C:\\ProgramData\\anaconda3\\envs\\class\\lib\\site-packages\\sklearn\\svm\\_base.py:1250: ConvergenceWarning: Liblinear failed to converge, increase the number of iterations.\n",
      "  warnings.warn(\n"
     ]
    },
    {
     "name": "stdout",
     "output_type": "stream",
     "text": [
      "[CV 3/5] END ................C=1000, penalty=l1;, score=0.956 total time=   0.6s\n"
     ]
    },
    {
     "name": "stderr",
     "output_type": "stream",
     "text": [
      "C:\\ProgramData\\anaconda3\\envs\\class\\lib\\site-packages\\sklearn\\svm\\_base.py:1250: ConvergenceWarning: Liblinear failed to converge, increase the number of iterations.\n",
      "  warnings.warn(\n"
     ]
    },
    {
     "name": "stdout",
     "output_type": "stream",
     "text": [
      "[CV 4/5] END ................C=1000, penalty=l1;, score=0.971 total time=   0.6s\n"
     ]
    },
    {
     "name": "stderr",
     "output_type": "stream",
     "text": [
      "C:\\ProgramData\\anaconda3\\envs\\class\\lib\\site-packages\\sklearn\\svm\\_base.py:1250: ConvergenceWarning: Liblinear failed to converge, increase the number of iterations.\n",
      "  warnings.warn(\n"
     ]
    },
    {
     "name": "stdout",
     "output_type": "stream",
     "text": [
      "[CV 5/5] END ................C=1000, penalty=l1;, score=0.961 total time=   0.6s\n"
     ]
    },
    {
     "name": "stderr",
     "output_type": "stream",
     "text": [
      "C:\\ProgramData\\anaconda3\\envs\\class\\lib\\site-packages\\sklearn\\svm\\_base.py:1250: ConvergenceWarning: Liblinear failed to converge, increase the number of iterations.\n",
      "  warnings.warn(\n"
     ]
    },
    {
     "name": "stdout",
     "output_type": "stream",
     "text": [
      "[CV 1/5] END ................C=1000, penalty=l2;, score=0.955 total time=   0.6s\n",
      "[CV 2/5] END ................C=1000, penalty=l2;, score=0.973 total time=   0.4s\n"
     ]
    },
    {
     "name": "stderr",
     "output_type": "stream",
     "text": [
      "C:\\ProgramData\\anaconda3\\envs\\class\\lib\\site-packages\\sklearn\\svm\\_base.py:1250: ConvergenceWarning: Liblinear failed to converge, increase the number of iterations.\n",
      "  warnings.warn(\n"
     ]
    },
    {
     "name": "stdout",
     "output_type": "stream",
     "text": [
      "[CV 3/5] END ................C=1000, penalty=l2;, score=0.956 total time=   0.5s\n",
      "[CV 4/5] END ................C=1000, penalty=l2;, score=0.974 total time=   0.3s\n",
      "[CV 5/5] END ................C=1000, penalty=l2;, score=0.957 total time=   0.5s\n",
      "{'C': 1, 'penalty': 'l2'}\n",
      "정확도: 0.9725902238465053\n",
      "F1 스코어: 0.9390743752929659\n",
      "F1 스코어: 0.9722473580101436\n"
     ]
    },
    {
     "name": "stderr",
     "output_type": "stream",
     "text": [
      "C:\\ProgramData\\anaconda3\\envs\\class\\lib\\site-packages\\sklearn\\svm\\_base.py:1250: ConvergenceWarning: Liblinear failed to converge, increase the number of iterations.\n",
      "  warnings.warn(\n"
     ]
    }
   ],
   "source": [
    "#SVM 모델\n",
    "param_grid = {'C': [0.1, 1, 10, 100, 1000], \n",
    "              'penalty': ['l1', 'l2']}\n",
    "\n",
    "grid = GridSearchCV(LinearSVC(max_iter=500, dual=False), param_grid, refit=True, verbose=3)\n",
    "\n",
    "grid.fit(tfidfv, y_train)\n",
    "print(grid.best_params_)\n",
    "\n",
    "predicted = grid.predict(tfidfv_test)\n",
    "print(\"정확도:\", accuracy_score(y_test, predicted))\n",
    "print(\"F1 스코어:\", f1_score(y_test, predicted, average='macro'))\n",
    "print(\"F1 스코어:\", f1_score(y_test, predicted, average='weighted'))"
   ]
  },
  {
   "cell_type": "code",
   "execution_count": 15,
   "id": "a821a182-34e4-405c-b5b4-2dcfd9c49686",
   "metadata": {
    "scrolled": true
   },
   "outputs": [
    {
     "name": "stdout",
     "output_type": "stream",
     "text": [
      "Fitting 5 folds for each of 10 candidates, totalling 50 fits\n",
      "[CV 1/5] END ...................C=0.1, penalty=l1;, score=nan total time=   0.0s\n",
      "[CV 2/5] END ...................C=0.1, penalty=l1;, score=nan total time=   0.0s\n",
      "[CV 3/5] END ...................C=0.1, penalty=l1;, score=nan total time=   0.0s\n",
      "[CV 4/5] END ...................C=0.1, penalty=l1;, score=nan total time=   0.0s\n",
      "[CV 5/5] END ...................C=0.1, penalty=l1;, score=nan total time=   0.0s\n",
      "[CV 1/5] END .................C=0.1, penalty=l2;, score=0.837 total time=   0.1s\n",
      "[CV 2/5] END .................C=0.1, penalty=l2;, score=0.838 total time=   0.1s\n",
      "[CV 3/5] END .................C=0.1, penalty=l2;, score=0.822 total time=   0.1s\n",
      "[CV 4/5] END .................C=0.1, penalty=l2;, score=0.821 total time=   0.1s\n",
      "[CV 5/5] END .................C=0.1, penalty=l2;, score=0.818 total time=   0.1s\n",
      "[CV 1/5] END .....................C=1, penalty=l1;, score=nan total time=   0.0s\n",
      "[CV 2/5] END .....................C=1, penalty=l1;, score=nan total time=   0.0s\n",
      "[CV 3/5] END .....................C=1, penalty=l1;, score=nan total time=   0.0s\n",
      "[CV 4/5] END .....................C=1, penalty=l1;, score=nan total time=   0.0s\n",
      "[CV 5/5] END .....................C=1, penalty=l1;, score=nan total time=   0.0s\n",
      "[CV 1/5] END ...................C=1, penalty=l2;, score=0.948 total time=   0.3s\n",
      "[CV 2/5] END ...................C=1, penalty=l2;, score=0.948 total time=   0.3s\n",
      "[CV 3/5] END ...................C=1, penalty=l2;, score=0.943 total time=   0.3s\n",
      "[CV 4/5] END ...................C=1, penalty=l2;, score=0.941 total time=   0.3s\n",
      "[CV 5/5] END ...................C=1, penalty=l2;, score=0.932 total time=   0.2s\n",
      "[CV 1/5] END ....................C=10, penalty=l1;, score=nan total time=   0.0s\n",
      "[CV 2/5] END ....................C=10, penalty=l1;, score=nan total time=   0.0s\n",
      "[CV 3/5] END ....................C=10, penalty=l1;, score=nan total time=   0.0s\n",
      "[CV 4/5] END ....................C=10, penalty=l1;, score=nan total time=   0.0s\n",
      "[CV 5/5] END ....................C=10, penalty=l1;, score=nan total time=   0.0s\n"
     ]
    },
    {
     "name": "stderr",
     "output_type": "stream",
     "text": [
      "C:\\ProgramData\\anaconda3\\envs\\class\\lib\\site-packages\\sklearn\\linear_model\\_logistic.py:460: ConvergenceWarning: lbfgs failed to converge (status=1):\n",
      "STOP: TOTAL NO. of ITERATIONS REACHED LIMIT.\n",
      "\n",
      "Increase the number of iterations (max_iter) or scale the data as shown in:\n",
      "    https://scikit-learn.org/stable/modules/preprocessing.html\n",
      "Please also refer to the documentation for alternative solver options:\n",
      "    https://scikit-learn.org/stable/modules/linear_model.html#logistic-regression\n",
      "  n_iter_i = _check_optimize_result(\n"
     ]
    },
    {
     "name": "stdout",
     "output_type": "stream",
     "text": [
      "[CV 1/5] END ..................C=10, penalty=l2;, score=0.964 total time=   0.4s\n"
     ]
    },
    {
     "name": "stderr",
     "output_type": "stream",
     "text": [
      "C:\\ProgramData\\anaconda3\\envs\\class\\lib\\site-packages\\sklearn\\linear_model\\_logistic.py:460: ConvergenceWarning: lbfgs failed to converge (status=1):\n",
      "STOP: TOTAL NO. of ITERATIONS REACHED LIMIT.\n",
      "\n",
      "Increase the number of iterations (max_iter) or scale the data as shown in:\n",
      "    https://scikit-learn.org/stable/modules/preprocessing.html\n",
      "Please also refer to the documentation for alternative solver options:\n",
      "    https://scikit-learn.org/stable/modules/linear_model.html#logistic-regression\n",
      "  n_iter_i = _check_optimize_result(\n"
     ]
    },
    {
     "name": "stdout",
     "output_type": "stream",
     "text": [
      "[CV 2/5] END ..................C=10, penalty=l2;, score=0.966 total time=   0.4s\n"
     ]
    },
    {
     "name": "stderr",
     "output_type": "stream",
     "text": [
      "C:\\ProgramData\\anaconda3\\envs\\class\\lib\\site-packages\\sklearn\\linear_model\\_logistic.py:460: ConvergenceWarning: lbfgs failed to converge (status=1):\n",
      "STOP: TOTAL NO. of ITERATIONS REACHED LIMIT.\n",
      "\n",
      "Increase the number of iterations (max_iter) or scale the data as shown in:\n",
      "    https://scikit-learn.org/stable/modules/preprocessing.html\n",
      "Please also refer to the documentation for alternative solver options:\n",
      "    https://scikit-learn.org/stable/modules/linear_model.html#logistic-regression\n",
      "  n_iter_i = _check_optimize_result(\n"
     ]
    },
    {
     "name": "stdout",
     "output_type": "stream",
     "text": [
      "[CV 3/5] END ..................C=10, penalty=l2;, score=0.955 total time=   0.4s\n"
     ]
    },
    {
     "name": "stderr",
     "output_type": "stream",
     "text": [
      "C:\\ProgramData\\anaconda3\\envs\\class\\lib\\site-packages\\sklearn\\linear_model\\_logistic.py:460: ConvergenceWarning: lbfgs failed to converge (status=1):\n",
      "STOP: TOTAL NO. of ITERATIONS REACHED LIMIT.\n",
      "\n",
      "Increase the number of iterations (max_iter) or scale the data as shown in:\n",
      "    https://scikit-learn.org/stable/modules/preprocessing.html\n",
      "Please also refer to the documentation for alternative solver options:\n",
      "    https://scikit-learn.org/stable/modules/linear_model.html#logistic-regression\n",
      "  n_iter_i = _check_optimize_result(\n"
     ]
    },
    {
     "name": "stdout",
     "output_type": "stream",
     "text": [
      "[CV 4/5] END ..................C=10, penalty=l2;, score=0.965 total time=   0.4s\n"
     ]
    },
    {
     "name": "stderr",
     "output_type": "stream",
     "text": [
      "C:\\ProgramData\\anaconda3\\envs\\class\\lib\\site-packages\\sklearn\\linear_model\\_logistic.py:460: ConvergenceWarning: lbfgs failed to converge (status=1):\n",
      "STOP: TOTAL NO. of ITERATIONS REACHED LIMIT.\n",
      "\n",
      "Increase the number of iterations (max_iter) or scale the data as shown in:\n",
      "    https://scikit-learn.org/stable/modules/preprocessing.html\n",
      "Please also refer to the documentation for alternative solver options:\n",
      "    https://scikit-learn.org/stable/modules/linear_model.html#logistic-regression\n",
      "  n_iter_i = _check_optimize_result(\n"
     ]
    },
    {
     "name": "stdout",
     "output_type": "stream",
     "text": [
      "[CV 5/5] END ..................C=10, penalty=l2;, score=0.955 total time=   0.4s\n",
      "[CV 1/5] END ...................C=100, penalty=l1;, score=nan total time=   0.0s\n",
      "[CV 2/5] END ...................C=100, penalty=l1;, score=nan total time=   0.0s\n",
      "[CV 3/5] END ...................C=100, penalty=l1;, score=nan total time=   0.0s\n",
      "[CV 4/5] END ...................C=100, penalty=l1;, score=nan total time=   0.0s\n",
      "[CV 5/5] END ...................C=100, penalty=l1;, score=nan total time=   0.0s\n"
     ]
    },
    {
     "name": "stderr",
     "output_type": "stream",
     "text": [
      "C:\\ProgramData\\anaconda3\\envs\\class\\lib\\site-packages\\sklearn\\linear_model\\_logistic.py:460: ConvergenceWarning: lbfgs failed to converge (status=1):\n",
      "STOP: TOTAL NO. of ITERATIONS REACHED LIMIT.\n",
      "\n",
      "Increase the number of iterations (max_iter) or scale the data as shown in:\n",
      "    https://scikit-learn.org/stable/modules/preprocessing.html\n",
      "Please also refer to the documentation for alternative solver options:\n",
      "    https://scikit-learn.org/stable/modules/linear_model.html#logistic-regression\n",
      "  n_iter_i = _check_optimize_result(\n"
     ]
    },
    {
     "name": "stdout",
     "output_type": "stream",
     "text": [
      "[CV 1/5] END .................C=100, penalty=l2;, score=0.965 total time=   0.4s\n"
     ]
    },
    {
     "name": "stderr",
     "output_type": "stream",
     "text": [
      "C:\\ProgramData\\anaconda3\\envs\\class\\lib\\site-packages\\sklearn\\linear_model\\_logistic.py:460: ConvergenceWarning: lbfgs failed to converge (status=1):\n",
      "STOP: TOTAL NO. of ITERATIONS REACHED LIMIT.\n",
      "\n",
      "Increase the number of iterations (max_iter) or scale the data as shown in:\n",
      "    https://scikit-learn.org/stable/modules/preprocessing.html\n",
      "Please also refer to the documentation for alternative solver options:\n",
      "    https://scikit-learn.org/stable/modules/linear_model.html#logistic-regression\n",
      "  n_iter_i = _check_optimize_result(\n"
     ]
    },
    {
     "name": "stdout",
     "output_type": "stream",
     "text": [
      "[CV 2/5] END .................C=100, penalty=l2;, score=0.968 total time=   0.4s\n"
     ]
    },
    {
     "name": "stderr",
     "output_type": "stream",
     "text": [
      "C:\\ProgramData\\anaconda3\\envs\\class\\lib\\site-packages\\sklearn\\linear_model\\_logistic.py:460: ConvergenceWarning: lbfgs failed to converge (status=1):\n",
      "STOP: TOTAL NO. of ITERATIONS REACHED LIMIT.\n",
      "\n",
      "Increase the number of iterations (max_iter) or scale the data as shown in:\n",
      "    https://scikit-learn.org/stable/modules/preprocessing.html\n",
      "Please also refer to the documentation for alternative solver options:\n",
      "    https://scikit-learn.org/stable/modules/linear_model.html#logistic-regression\n",
      "  n_iter_i = _check_optimize_result(\n"
     ]
    },
    {
     "name": "stdout",
     "output_type": "stream",
     "text": [
      "[CV 3/5] END .................C=100, penalty=l2;, score=0.957 total time=   0.4s\n"
     ]
    },
    {
     "name": "stderr",
     "output_type": "stream",
     "text": [
      "C:\\ProgramData\\anaconda3\\envs\\class\\lib\\site-packages\\sklearn\\linear_model\\_logistic.py:460: ConvergenceWarning: lbfgs failed to converge (status=1):\n",
      "STOP: TOTAL NO. of ITERATIONS REACHED LIMIT.\n",
      "\n",
      "Increase the number of iterations (max_iter) or scale the data as shown in:\n",
      "    https://scikit-learn.org/stable/modules/preprocessing.html\n",
      "Please also refer to the documentation for alternative solver options:\n",
      "    https://scikit-learn.org/stable/modules/linear_model.html#logistic-regression\n",
      "  n_iter_i = _check_optimize_result(\n"
     ]
    },
    {
     "name": "stdout",
     "output_type": "stream",
     "text": [
      "[CV 4/5] END .................C=100, penalty=l2;, score=0.965 total time=   0.4s\n"
     ]
    },
    {
     "name": "stderr",
     "output_type": "stream",
     "text": [
      "C:\\ProgramData\\anaconda3\\envs\\class\\lib\\site-packages\\sklearn\\linear_model\\_logistic.py:460: ConvergenceWarning: lbfgs failed to converge (status=1):\n",
      "STOP: TOTAL NO. of ITERATIONS REACHED LIMIT.\n",
      "\n",
      "Increase the number of iterations (max_iter) or scale the data as shown in:\n",
      "    https://scikit-learn.org/stable/modules/preprocessing.html\n",
      "Please also refer to the documentation for alternative solver options:\n",
      "    https://scikit-learn.org/stable/modules/linear_model.html#logistic-regression\n",
      "  n_iter_i = _check_optimize_result(\n"
     ]
    },
    {
     "name": "stdout",
     "output_type": "stream",
     "text": [
      "[CV 5/5] END .................C=100, penalty=l2;, score=0.959 total time=   0.4s\n",
      "[CV 1/5] END ..................C=1000, penalty=l1;, score=nan total time=   0.0s\n",
      "[CV 2/5] END ..................C=1000, penalty=l1;, score=nan total time=   0.0s\n",
      "[CV 3/5] END ..................C=1000, penalty=l1;, score=nan total time=   0.0s\n",
      "[CV 4/5] END ..................C=1000, penalty=l1;, score=nan total time=   0.0s\n",
      "[CV 5/5] END ..................C=1000, penalty=l1;, score=nan total time=   0.0s\n"
     ]
    },
    {
     "name": "stderr",
     "output_type": "stream",
     "text": [
      "C:\\ProgramData\\anaconda3\\envs\\class\\lib\\site-packages\\sklearn\\linear_model\\_logistic.py:460: ConvergenceWarning: lbfgs failed to converge (status=1):\n",
      "STOP: TOTAL NO. of ITERATIONS REACHED LIMIT.\n",
      "\n",
      "Increase the number of iterations (max_iter) or scale the data as shown in:\n",
      "    https://scikit-learn.org/stable/modules/preprocessing.html\n",
      "Please also refer to the documentation for alternative solver options:\n",
      "    https://scikit-learn.org/stable/modules/linear_model.html#logistic-regression\n",
      "  n_iter_i = _check_optimize_result(\n"
     ]
    },
    {
     "name": "stdout",
     "output_type": "stream",
     "text": [
      "[CV 1/5] END ................C=1000, penalty=l2;, score=0.964 total time=   0.4s\n"
     ]
    },
    {
     "name": "stderr",
     "output_type": "stream",
     "text": [
      "C:\\ProgramData\\anaconda3\\envs\\class\\lib\\site-packages\\sklearn\\linear_model\\_logistic.py:460: ConvergenceWarning: lbfgs failed to converge (status=1):\n",
      "STOP: TOTAL NO. of ITERATIONS REACHED LIMIT.\n",
      "\n",
      "Increase the number of iterations (max_iter) or scale the data as shown in:\n",
      "    https://scikit-learn.org/stable/modules/preprocessing.html\n",
      "Please also refer to the documentation for alternative solver options:\n",
      "    https://scikit-learn.org/stable/modules/linear_model.html#logistic-regression\n",
      "  n_iter_i = _check_optimize_result(\n"
     ]
    },
    {
     "name": "stdout",
     "output_type": "stream",
     "text": [
      "[CV 2/5] END ................C=1000, penalty=l2;, score=0.969 total time=   0.4s\n"
     ]
    },
    {
     "name": "stderr",
     "output_type": "stream",
     "text": [
      "C:\\ProgramData\\anaconda3\\envs\\class\\lib\\site-packages\\sklearn\\linear_model\\_logistic.py:460: ConvergenceWarning: lbfgs failed to converge (status=1):\n",
      "STOP: TOTAL NO. of ITERATIONS REACHED LIMIT.\n",
      "\n",
      "Increase the number of iterations (max_iter) or scale the data as shown in:\n",
      "    https://scikit-learn.org/stable/modules/preprocessing.html\n",
      "Please also refer to the documentation for alternative solver options:\n",
      "    https://scikit-learn.org/stable/modules/linear_model.html#logistic-regression\n",
      "  n_iter_i = _check_optimize_result(\n"
     ]
    },
    {
     "name": "stdout",
     "output_type": "stream",
     "text": [
      "[CV 3/5] END ................C=1000, penalty=l2;, score=0.959 total time=   0.4s\n"
     ]
    },
    {
     "name": "stderr",
     "output_type": "stream",
     "text": [
      "C:\\ProgramData\\anaconda3\\envs\\class\\lib\\site-packages\\sklearn\\linear_model\\_logistic.py:460: ConvergenceWarning: lbfgs failed to converge (status=1):\n",
      "STOP: TOTAL NO. of ITERATIONS REACHED LIMIT.\n",
      "\n",
      "Increase the number of iterations (max_iter) or scale the data as shown in:\n",
      "    https://scikit-learn.org/stable/modules/preprocessing.html\n",
      "Please also refer to the documentation for alternative solver options:\n",
      "    https://scikit-learn.org/stable/modules/linear_model.html#logistic-regression\n",
      "  n_iter_i = _check_optimize_result(\n"
     ]
    },
    {
     "name": "stdout",
     "output_type": "stream",
     "text": [
      "[CV 4/5] END ................C=1000, penalty=l2;, score=0.968 total time=   0.4s\n"
     ]
    },
    {
     "name": "stderr",
     "output_type": "stream",
     "text": [
      "C:\\ProgramData\\anaconda3\\envs\\class\\lib\\site-packages\\sklearn\\linear_model\\_logistic.py:460: ConvergenceWarning: lbfgs failed to converge (status=1):\n",
      "STOP: TOTAL NO. of ITERATIONS REACHED LIMIT.\n",
      "\n",
      "Increase the number of iterations (max_iter) or scale the data as shown in:\n",
      "    https://scikit-learn.org/stable/modules/preprocessing.html\n",
      "Please also refer to the documentation for alternative solver options:\n",
      "    https://scikit-learn.org/stable/modules/linear_model.html#logistic-regression\n",
      "  n_iter_i = _check_optimize_result(\n",
      "C:\\ProgramData\\anaconda3\\envs\\class\\lib\\site-packages\\sklearn\\model_selection\\_validation.py:425: FitFailedWarning: \n",
      "25 fits failed out of a total of 50.\n",
      "The score on these train-test partitions for these parameters will be set to nan.\n",
      "If these failures are not expected, you can try to debug them by setting error_score='raise'.\n",
      "\n",
      "Below are more details about the failures:\n",
      "--------------------------------------------------------------------------------\n",
      "25 fits failed with the following error:\n",
      "Traceback (most recent call last):\n",
      "  File \"C:\\ProgramData\\anaconda3\\envs\\class\\lib\\site-packages\\sklearn\\model_selection\\_validation.py\", line 729, in _fit_and_score\n",
      "    estimator.fit(X_train, y_train, **fit_params)\n",
      "  File \"C:\\ProgramData\\anaconda3\\envs\\class\\lib\\site-packages\\sklearn\\base.py\", line 1152, in wrapper\n",
      "    return fit_method(estimator, *args, **kwargs)\n",
      "  File \"C:\\ProgramData\\anaconda3\\envs\\class\\lib\\site-packages\\sklearn\\linear_model\\_logistic.py\", line 1169, in fit\n",
      "    solver = _check_solver(self.solver, self.penalty, self.dual)\n",
      "  File \"C:\\ProgramData\\anaconda3\\envs\\class\\lib\\site-packages\\sklearn\\linear_model\\_logistic.py\", line 56, in _check_solver\n",
      "    raise ValueError(\n",
      "ValueError: Solver lbfgs supports only 'l2' or 'none' penalties, got l1 penalty.\n",
      "\n",
      "  warnings.warn(some_fits_failed_message, FitFailedWarning)\n",
      "C:\\ProgramData\\anaconda3\\envs\\class\\lib\\site-packages\\sklearn\\model_selection\\_search.py:979: UserWarning: One or more of the test scores are non-finite: [       nan 0.82713173        nan 0.94237586        nan 0.96134098\n",
      "        nan 0.96298249        nan 0.96480647]\n",
      "  warnings.warn(\n"
     ]
    },
    {
     "name": "stdout",
     "output_type": "stream",
     "text": [
      "[CV 5/5] END ................C=1000, penalty=l2;, score=0.964 total time=   0.4s\n",
      "{'C': 1000, 'penalty': 'l2'}\n",
      "정확도: 0.9671082686158063\n",
      "F1 스코어: 0.9241564497908625\n",
      "F1 스코어: 0.9666433628703064\n"
     ]
    },
    {
     "name": "stderr",
     "output_type": "stream",
     "text": [
      "C:\\ProgramData\\anaconda3\\envs\\class\\lib\\site-packages\\sklearn\\linear_model\\_logistic.py:460: ConvergenceWarning: lbfgs failed to converge (status=1):\n",
      "STOP: TOTAL NO. of ITERATIONS REACHED LIMIT.\n",
      "\n",
      "Increase the number of iterations (max_iter) or scale the data as shown in:\n",
      "    https://scikit-learn.org/stable/modules/preprocessing.html\n",
      "Please also refer to the documentation for alternative solver options:\n",
      "    https://scikit-learn.org/stable/modules/linear_model.html#logistic-regression\n",
      "  n_iter_i = _check_optimize_result(\n"
     ]
    }
   ],
   "source": [
    "#logistic regression 모델\n",
    "param_grid = {'C': [0.1, 1, 10, 100, 1000], \n",
    "              'penalty': ['l1', 'l2']}\n",
    "\n",
    "grid = GridSearchCV(LogisticRegression(), param_grid, refit=True, verbose=3)\n",
    "\n",
    "grid.fit(tfidfv, y_train)\n",
    "print(grid.best_params_)\n",
    "\n",
    "predicted = grid.predict(tfidfv_test)\n",
    "print(\"정확도:\", accuracy_score(y_test, predicted))\n",
    "print(\"F1 스코어:\", f1_score(y_test, predicted, average='macro'))\n",
    "print(\"F1 스코어:\", f1_score(y_test, predicted, average='weighted'))"
   ]
  },
  {
   "cell_type": "code",
   "execution_count": null,
   "id": "44ae2f30-b711-48e9-843a-98ccd2978fba",
   "metadata": {},
   "outputs": [],
   "source": []
  },
  {
   "cell_type": "code",
   "execution_count": null,
   "id": "da3d485c-1df5-4a23-98d2-9d328ff4d811",
   "metadata": {},
   "outputs": [],
   "source": [
    "\n"
   ]
  }
 ],
 "metadata": {
  "kernelspec": {
   "display_name": "Python 3 (ipykernel)",
   "language": "python",
   "name": "python3"
  },
  "language_info": {
   "codemirror_mode": {
    "name": "ipython",
    "version": 3
   },
   "file_extension": ".py",
   "mimetype": "text/x-python",
   "name": "python",
   "nbconvert_exporter": "python",
   "pygments_lexer": "ipython3",
   "version": "3.8.13"
  }
 },
 "nbformat": 4,
 "nbformat_minor": 5
}
