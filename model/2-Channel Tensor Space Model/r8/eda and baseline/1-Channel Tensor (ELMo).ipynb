{
 "cells": [
  {
   "cell_type": "markdown",
   "id": "1ed2892d",
   "metadata": {},
   "source": [
    "# 패키지 임포트"
   ]
  },
  {
   "cell_type": "code",
   "execution_count": 1,
   "id": "22d40156",
   "metadata": {},
   "outputs": [],
   "source": [
    "import random\n",
    "import pandas as pd\n",
    "import numpy as np\n",
    "import tensorflow as tf\n",
    "import nltk\n",
    "import os\n",
    "import string\n",
    "import re\n",
    "import json\n",
    "import keras\n",
    "from tensorflow.keras import layers\n",
    "from tensorflow.keras.layers import Input, Conv1D, GlobalMaxPooling1D, Dense, Dropout\n",
    "from tensorflow.keras.models import Model\n",
    "from tensorflow.keras import layers\n",
    "from keras.models import load_model\n",
    "from sklearn.preprocessing import LabelEncoder\n",
    "from sklearn.metrics import f1_score"
   ]
  },
  {
   "cell_type": "markdown",
   "id": "a8aba1e9",
   "metadata": {},
   "source": [
    "# 데이터 로드"
   ]
  },
  {
   "cell_type": "code",
   "execution_count": 2,
   "id": "ead34dbd",
   "metadata": {},
   "outputs": [
    {
     "data": {
      "text/html": [
       "<div>\n",
       "<style scoped>\n",
       "    .dataframe tbody tr th:only-of-type {\n",
       "        vertical-align: middle;\n",
       "    }\n",
       "\n",
       "    .dataframe tbody tr th {\n",
       "        vertical-align: top;\n",
       "    }\n",
       "\n",
       "    .dataframe thead th {\n",
       "        text-align: right;\n",
       "    }\n",
       "</style>\n",
       "<table border=\"1\" class=\"dataframe\">\n",
       "  <thead>\n",
       "    <tr style=\"text-align: right;\">\n",
       "      <th></th>\n",
       "      <th>text</th>\n",
       "      <th>edge</th>\n",
       "      <th>intent</th>\n",
       "    </tr>\n",
       "  </thead>\n",
       "  <tbody>\n",
       "    <tr>\n",
       "      <th>0</th>\n",
       "      <td>champion product approv stock split champion p...</td>\n",
       "      <td>champion product approv stock split champion p...</td>\n",
       "      <td>earn</td>\n",
       "    </tr>\n",
       "    <tr>\n",
       "      <th>1</th>\n",
       "      <td>comput termin system cpml complet sale comput ...</td>\n",
       "      <td>comput termin system cpml complet sale comput ...</td>\n",
       "      <td>acq</td>\n",
       "    </tr>\n",
       "    <tr>\n",
       "      <th>2</th>\n",
       "      <td>cobanco inc cbco year net shr ct dlr net asset...</td>\n",
       "      <td>cobanco inc cbco year net shr ct dlr net asset...</td>\n",
       "      <td>earn</td>\n",
       "    </tr>\n",
       "    <tr>\n",
       "      <th>3</th>\n",
       "      <td>intern inc qtr jan oper shr loss two ct profit...</td>\n",
       "      <td>intern inc qtr jan oper shr loss two ct profit...</td>\n",
       "      <td>earn</td>\n",
       "    </tr>\n",
       "    <tr>\n",
       "      <th>4</th>\n",
       "      <td>brown forman inc bfd qtr net shr dlr ct net ml...</td>\n",
       "      <td>brown forman inc bfd qtr net shr dlr ct net ml...</td>\n",
       "      <td>earn</td>\n",
       "    </tr>\n",
       "  </tbody>\n",
       "</table>\n",
       "</div>"
      ],
      "text/plain": [
       "                                                text  \\\n",
       "0  champion product approv stock split champion p...   \n",
       "1  comput termin system cpml complet sale comput ...   \n",
       "2  cobanco inc cbco year net shr ct dlr net asset...   \n",
       "3  intern inc qtr jan oper shr loss two ct profit...   \n",
       "4  brown forman inc bfd qtr net shr dlr ct net ml...   \n",
       "\n",
       "                                                edge intent  \n",
       "0  champion product approv stock split champion p...   earn  \n",
       "1  comput termin system cpml complet sale comput ...    acq  \n",
       "2  cobanco inc cbco year net shr ct dlr net asset...   earn  \n",
       "3  intern inc qtr jan oper shr loss two ct profit...   earn  \n",
       "4  brown forman inc bfd qtr net shr dlr ct net ml...   earn  "
      ]
     },
     "execution_count": 2,
     "metadata": {},
     "output_type": "execute_result"
    }
   ],
   "source": [
    "train_df = pd.read_csv('C:/Users/User/Desktop/r8/r8_dataset/r8-train-stemmed.csv')\n",
    "valid_df = pd.read_csv('C:/Users/User/Desktop/r8/r8_dataset/r8-dev-stemmed.csv')\n",
    "test_df = pd.read_csv('C:/Users/User/Desktop/r8/r8_dataset/r8-test-stemmed.csv')\n",
    "train_df.head()"
   ]
  },
  {
   "cell_type": "code",
   "execution_count": 3,
   "id": "f58203a6-e7c4-4325-9e33-dbba68117b9f",
   "metadata": {},
   "outputs": [],
   "source": [
    "# train_df와 valid_df 결합\n",
    "train_val_df = pd.concat([train_df, valid_df])"
   ]
  },
  {
   "cell_type": "code",
   "execution_count": 4,
   "id": "4d023017-3fc4-487e-b621-8e87192755c6",
   "metadata": {},
   "outputs": [],
   "source": [
    "textcuboid=np.load('C:/Users/User/Desktop/r8/1-Channel textcuboid_r8(elmo).npy')\n",
    "textcuboid_test=np.load('C:/Users/User/Desktop/r8/1-Channel textcuboid_test_r8(elmo).npy')"
   ]
  },
  {
   "cell_type": "markdown",
   "id": "2940ba3a",
   "metadata": {},
   "source": [
    "# 전처리"
   ]
  },
  {
   "cell_type": "code",
   "execution_count": 5,
   "id": "10824edf-9b0c-42e2-b251-b73f1b856f7a",
   "metadata": {},
   "outputs": [],
   "source": [
    "y_train=list(train_val_df['intent'])\n",
    "y_test=list(test_df['intent'])"
   ]
  },
  {
   "cell_type": "code",
   "execution_count": 6,
   "id": "e163a551-2020-4d9d-9724-1162d43fc5e4",
   "metadata": {},
   "outputs": [],
   "source": [
    "y=y_train+y_test"
   ]
  },
  {
   "cell_type": "code",
   "execution_count": 7,
   "id": "541b6936-f523-4505-8787-c366f6854b06",
   "metadata": {},
   "outputs": [],
   "source": [
    "encoder=LabelEncoder()\n",
    "encoder.fit(y)\n",
    "label=encoder.transform(y)\n",
    "\n",
    "y_train=list(label[:5484])\n",
    "y_test=list(label[5484:])"
   ]
  },
  {
   "cell_type": "code",
   "execution_count": 8,
   "id": "4b930cfe-51f8-4d0b-a3e6-67dd074bff82",
   "metadata": {},
   "outputs": [],
   "source": [
    "y_train=np.array(y_train)\n",
    "y_test=np.array(y_test)"
   ]
  },
  {
   "cell_type": "code",
   "execution_count": 9,
   "id": "e468f395-e0cd-4688-82b4-28e8bcaf25a5",
   "metadata": {},
   "outputs": [],
   "source": [
    "textcuboid_train=textcuboid[:4937]\n",
    "textcuboid_val=textcuboid[4937:]\n",
    "y_train1=y_train[:4937]\n",
    "y_val=y_train[4937:]"
   ]
  },
  {
   "cell_type": "code",
   "execution_count": 10,
   "id": "03af71a3-40bf-49ca-aaff-88c1d5166a55",
   "metadata": {},
   "outputs": [],
   "source": [
    "y_test1=y_test"
   ]
  },
  {
   "cell_type": "markdown",
   "id": "184f59ff",
   "metadata": {},
   "source": [
    "# 모델 빌드\n"
   ]
  },
  {
   "cell_type": "code",
   "execution_count": 11,
   "id": "3a457c12",
   "metadata": {},
   "outputs": [],
   "source": [
    "callbacks = [\n",
    "    keras.callbacks.ModelCheckpoint(\n",
    "        \"best_model_{epoch}.h5\", save_best_only=False, save_freq=5\n",
    "    ),\n",
    "    keras.callbacks.ReduceLROnPlateau(\n",
    "        monitor=\"val_loss\", factor=0.5, patience=2, min_lr=0.0001\n",
    "    ),\n",
    "]"
   ]
  },
  {
   "cell_type": "code",
   "execution_count": 12,
   "id": "532b2e90",
   "metadata": {},
   "outputs": [
    {
     "name": "stdout",
     "output_type": "stream",
     "text": [
      "Model: \"model\"\n",
      "_________________________________________________________________\n",
      " Layer (type)                Output Shape              Param #   \n",
      "=================================================================\n",
      " input_1 (InputLayer)        [(None, 237, 256)]        0         \n",
      "                                                                 \n",
      " conv1d (Conv1D)             (None, 237, 512)          131584    \n",
      "                                                                 \n",
      " global_max_pooling1d (Globa  (None, 512)              0         \n",
      " lMaxPooling1D)                                                  \n",
      "                                                                 \n",
      " dropout (Dropout)           (None, 512)               0         \n",
      "                                                                 \n",
      " dense (Dense)               (None, 256)               131328    \n",
      "                                                                 \n",
      " dropout_1 (Dropout)         (None, 256)               0         \n",
      "                                                                 \n",
      " dense_1 (Dense)             (None, 8)                 2056      \n",
      "                                                                 \n",
      "=================================================================\n",
      "Total params: 264,968\n",
      "Trainable params: 264,968\n",
      "Non-trainable params: 0\n",
      "_________________________________________________________________\n"
     ]
    }
   ],
   "source": [
    "#ELMo channel의 학습\n",
    "ELMo_input = Input(shape=(237, 256))\n",
    "conv1 = Conv1D(512, 1, padding='valid', activation='relu')(ELMo_input)\n",
    "pooling = GlobalMaxPooling1D()(conv1)\n",
    "pooling = Dropout(0.5)(pooling)\n",
    "ELMo_x = Dense(256, activation='relu')(pooling)\n",
    "ELMo_x = Dropout(0.5)(ELMo_x)\n",
    "output_layer = Dense(8, activation='softmax')(ELMo_x)\n",
    "\n",
    "model = Model(inputs=ELMo_input, outputs=output_layer)\n",
    "\n",
    "model.compile(optimizer='adam', loss='sparse_categorical_crossentropy', metrics=['accuracy'])\n",
    "\n",
    "model.summary()"
   ]
  },
  {
   "cell_type": "markdown",
   "id": "c02f3e46",
   "metadata": {},
   "source": [
    "# 모델 학습"
   ]
  },
  {
   "cell_type": "code",
   "execution_count": 13,
   "id": "592095bd",
   "metadata": {
    "scrolled": true
   },
   "outputs": [
    {
     "name": "stdout",
     "output_type": "stream",
     "text": [
      "Epoch 1/50\n",
      "20/20 [==============================] - 1s 27ms/step - loss: 1.8228 - accuracy: 0.5850 - val_loss: 0.8227 - val_accuracy: 0.7130 - lr: 0.0010\n",
      "Epoch 2/50\n",
      "20/20 [==============================] - 0s 18ms/step - loss: 0.6660 - accuracy: 0.7800 - val_loss: 0.6298 - val_accuracy: 0.8154 - lr: 0.0010\n",
      "Epoch 3/50\n",
      "20/20 [==============================] - 0s 18ms/step - loss: 0.4768 - accuracy: 0.8416 - val_loss: 0.4503 - val_accuracy: 0.8702 - lr: 0.0010\n",
      "Epoch 4/50\n",
      "20/20 [==============================] - 0s 21ms/step - loss: 0.3640 - accuracy: 0.8829 - val_loss: 0.3337 - val_accuracy: 0.9013 - lr: 0.0010\n",
      "Epoch 5/50\n",
      "20/20 [==============================] - 0s 18ms/step - loss: 0.2946 - accuracy: 0.9048 - val_loss: 0.2772 - val_accuracy: 0.9232 - lr: 0.0010\n",
      "Epoch 6/50\n",
      "20/20 [==============================] - 0s 18ms/step - loss: 0.2376 - accuracy: 0.9216 - val_loss: 0.2452 - val_accuracy: 0.9250 - lr: 0.0010\n",
      "Epoch 7/50\n",
      "20/20 [==============================] - 0s 21ms/step - loss: 0.2280 - accuracy: 0.9267 - val_loss: 0.2257 - val_accuracy: 0.9324 - lr: 0.0010\n",
      "Epoch 8/50\n",
      "20/20 [==============================] - 0s 18ms/step - loss: 0.1969 - accuracy: 0.9360 - val_loss: 0.2028 - val_accuracy: 0.9342 - lr: 0.0010\n",
      "Epoch 9/50\n",
      "20/20 [==============================] - 0s 19ms/step - loss: 0.1750 - accuracy: 0.9427 - val_loss: 0.1976 - val_accuracy: 0.9378 - lr: 0.0010\n",
      "Epoch 10/50\n",
      "20/20 [==============================] - 0s 19ms/step - loss: 0.1686 - accuracy: 0.9433 - val_loss: 0.1912 - val_accuracy: 0.9360 - lr: 0.0010\n",
      "Epoch 11/50\n",
      "20/20 [==============================] - 0s 18ms/step - loss: 0.1482 - accuracy: 0.9520 - val_loss: 0.1895 - val_accuracy: 0.9360 - lr: 0.0010\n",
      "Epoch 12/50\n",
      "20/20 [==============================] - 0s 20ms/step - loss: 0.1343 - accuracy: 0.9575 - val_loss: 0.1746 - val_accuracy: 0.9397 - lr: 0.0010\n",
      "Epoch 13/50\n",
      "20/20 [==============================] - 0s 18ms/step - loss: 0.1219 - accuracy: 0.9635 - val_loss: 0.1662 - val_accuracy: 0.9378 - lr: 0.0010\n",
      "Epoch 14/50\n",
      "20/20 [==============================] - 0s 18ms/step - loss: 0.1238 - accuracy: 0.9609 - val_loss: 0.1630 - val_accuracy: 0.9433 - lr: 0.0010\n",
      "Epoch 15/50\n",
      "20/20 [==============================] - 0s 21ms/step - loss: 0.1033 - accuracy: 0.9648 - val_loss: 0.1597 - val_accuracy: 0.9415 - lr: 0.0010\n",
      "Epoch 16/50\n",
      "20/20 [==============================] - 0s 18ms/step - loss: 0.1025 - accuracy: 0.9658 - val_loss: 0.1582 - val_accuracy: 0.9433 - lr: 0.0010\n",
      "Epoch 17/50\n",
      "20/20 [==============================] - 0s 18ms/step - loss: 0.0989 - accuracy: 0.9674 - val_loss: 0.1586 - val_accuracy: 0.9397 - lr: 0.0010\n",
      "Epoch 18/50\n",
      "20/20 [==============================] - 0s 21ms/step - loss: 0.0931 - accuracy: 0.9680 - val_loss: 0.1521 - val_accuracy: 0.9452 - lr: 0.0010\n",
      "Epoch 19/50\n",
      "20/20 [==============================] - 0s 18ms/step - loss: 0.0847 - accuracy: 0.9747 - val_loss: 0.1509 - val_accuracy: 0.9452 - lr: 0.0010\n",
      "Epoch 20/50\n",
      "20/20 [==============================] - 0s 20ms/step - loss: 0.0835 - accuracy: 0.9735 - val_loss: 0.1393 - val_accuracy: 0.9506 - lr: 0.0010\n",
      "Epoch 21/50\n",
      "20/20 [==============================] - 0s 18ms/step - loss: 0.0718 - accuracy: 0.9763 - val_loss: 0.1535 - val_accuracy: 0.9488 - lr: 0.0010\n",
      "Epoch 22/50\n",
      "20/20 [==============================] - 0s 18ms/step - loss: 0.0715 - accuracy: 0.9755 - val_loss: 0.1488 - val_accuracy: 0.9452 - lr: 0.0010\n",
      "Epoch 23/50\n",
      "20/20 [==============================] - 0s 21ms/step - loss: 0.0698 - accuracy: 0.9749 - val_loss: 0.1520 - val_accuracy: 0.9452 - lr: 5.0000e-04\n",
      "Epoch 24/50\n",
      "20/20 [==============================] - 0s 18ms/step - loss: 0.0663 - accuracy: 0.9795 - val_loss: 0.1479 - val_accuracy: 0.9580 - lr: 5.0000e-04\n",
      "Epoch 25/50\n",
      "20/20 [==============================] - 0s 18ms/step - loss: 0.0607 - accuracy: 0.9804 - val_loss: 0.1459 - val_accuracy: 0.9561 - lr: 2.5000e-04\n",
      "Epoch 26/50\n",
      "20/20 [==============================] - 0s 20ms/step - loss: 0.0541 - accuracy: 0.9799 - val_loss: 0.1466 - val_accuracy: 0.9561 - lr: 2.5000e-04\n",
      "Epoch 27/50\n",
      "20/20 [==============================] - 0s 18ms/step - loss: 0.0504 - accuracy: 0.9834 - val_loss: 0.1492 - val_accuracy: 0.9543 - lr: 1.2500e-04\n",
      "Epoch 28/50\n",
      "20/20 [==============================] - 0s 19ms/step - loss: 0.0518 - accuracy: 0.9846 - val_loss: 0.1484 - val_accuracy: 0.9580 - lr: 1.2500e-04\n",
      "Epoch 29/50\n",
      "20/20 [==============================] - 0s 19ms/step - loss: 0.0534 - accuracy: 0.9824 - val_loss: 0.1479 - val_accuracy: 0.9525 - lr: 1.0000e-04\n",
      "Epoch 30/50\n",
      "20/20 [==============================] - 0s 18ms/step - loss: 0.0487 - accuracy: 0.9862 - val_loss: 0.1478 - val_accuracy: 0.9543 - lr: 1.0000e-04\n",
      "Epoch 31/50\n",
      "20/20 [==============================] - 0s 20ms/step - loss: 0.0530 - accuracy: 0.9836 - val_loss: 0.1464 - val_accuracy: 0.9543 - lr: 1.0000e-04\n",
      "Epoch 32/50\n",
      "20/20 [==============================] - 0s 19ms/step - loss: 0.0501 - accuracy: 0.9832 - val_loss: 0.1484 - val_accuracy: 0.9525 - lr: 1.0000e-04\n",
      "Epoch 33/50\n",
      "20/20 [==============================] - 0s 18ms/step - loss: 0.0510 - accuracy: 0.9826 - val_loss: 0.1483 - val_accuracy: 0.9543 - lr: 1.0000e-04\n",
      "Epoch 34/50\n",
      "20/20 [==============================] - 0s 20ms/step - loss: 0.0494 - accuracy: 0.9844 - val_loss: 0.1485 - val_accuracy: 0.9525 - lr: 1.0000e-04\n",
      "Epoch 35/50\n",
      "20/20 [==============================] - 0s 18ms/step - loss: 0.0533 - accuracy: 0.9838 - val_loss: 0.1495 - val_accuracy: 0.9543 - lr: 1.0000e-04\n",
      "Epoch 36/50\n",
      "20/20 [==============================] - 0s 18ms/step - loss: 0.0475 - accuracy: 0.9838 - val_loss: 0.1488 - val_accuracy: 0.9543 - lr: 1.0000e-04\n",
      "Epoch 37/50\n",
      "20/20 [==============================] - 0s 21ms/step - loss: 0.0469 - accuracy: 0.9858 - val_loss: 0.1483 - val_accuracy: 0.9580 - lr: 1.0000e-04\n",
      "Epoch 38/50\n",
      "20/20 [==============================] - 0s 18ms/step - loss: 0.0437 - accuracy: 0.9854 - val_loss: 0.1488 - val_accuracy: 0.9580 - lr: 1.0000e-04\n",
      "Epoch 39/50\n",
      "20/20 [==============================] - 0s 20ms/step - loss: 0.0438 - accuracy: 0.9848 - val_loss: 0.1519 - val_accuracy: 0.9543 - lr: 1.0000e-04\n",
      "Epoch 40/50\n",
      "20/20 [==============================] - 0s 18ms/step - loss: 0.0470 - accuracy: 0.9854 - val_loss: 0.1500 - val_accuracy: 0.9561 - lr: 1.0000e-04\n",
      "Epoch 41/50\n",
      "20/20 [==============================] - 0s 18ms/step - loss: 0.0481 - accuracy: 0.9844 - val_loss: 0.1507 - val_accuracy: 0.9543 - lr: 1.0000e-04\n",
      "Epoch 42/50\n",
      "20/20 [==============================] - 0s 21ms/step - loss: 0.0453 - accuracy: 0.9850 - val_loss: 0.1517 - val_accuracy: 0.9543 - lr: 1.0000e-04\n",
      "Epoch 43/50\n",
      "20/20 [==============================] - 0s 19ms/step - loss: 0.0496 - accuracy: 0.9832 - val_loss: 0.1524 - val_accuracy: 0.9543 - lr: 1.0000e-04\n",
      "Epoch 44/50\n",
      "20/20 [==============================] - 0s 18ms/step - loss: 0.0452 - accuracy: 0.9856 - val_loss: 0.1509 - val_accuracy: 0.9561 - lr: 1.0000e-04\n",
      "Epoch 45/50\n",
      "20/20 [==============================] - 0s 21ms/step - loss: 0.0485 - accuracy: 0.9836 - val_loss: 0.1519 - val_accuracy: 0.9525 - lr: 1.0000e-04\n",
      "Epoch 46/50\n",
      "20/20 [==============================] - 0s 19ms/step - loss: 0.0443 - accuracy: 0.9846 - val_loss: 0.1514 - val_accuracy: 0.9543 - lr: 1.0000e-04\n",
      "Epoch 47/50\n",
      "20/20 [==============================] - 0s 19ms/step - loss: 0.0485 - accuracy: 0.9836 - val_loss: 0.1518 - val_accuracy: 0.9543 - lr: 1.0000e-04\n",
      "Epoch 48/50\n",
      "20/20 [==============================] - 0s 20ms/step - loss: 0.0417 - accuracy: 0.9850 - val_loss: 0.1499 - val_accuracy: 0.9598 - lr: 1.0000e-04\n",
      "Epoch 49/50\n",
      "20/20 [==============================] - 0s 17ms/step - loss: 0.0415 - accuracy: 0.9860 - val_loss: 0.1492 - val_accuracy: 0.9598 - lr: 1.0000e-04\n",
      "Epoch 50/50\n",
      "20/20 [==============================] - 0s 18ms/step - loss: 0.0422 - accuracy: 0.9866 - val_loss: 0.1506 - val_accuracy: 0.9580 - lr: 1.0000e-04\n"
     ]
    }
   ],
   "source": [
    "#모델 학습\n",
    "history = model.fit(textcuboid_train, y_train1,callbacks=callbacks, epochs=50,batch_size=256,validation_data=(textcuboid_val, y_val))"
   ]
  },
  {
   "cell_type": "code",
   "execution_count": 14,
   "id": "4abfefe7",
   "metadata": {
    "scrolled": true
   },
   "outputs": [
    {
     "name": "stdout",
     "output_type": "stream",
     "text": [
      "69/69 [==============================] - 0s 2ms/step - loss: 0.0847 - accuracy: 0.9749\n"
     ]
    },
    {
     "data": {
      "text/plain": [
       "[0.08473405987024307, 0.9748743772506714]"
      ]
     },
     "execution_count": 14,
     "metadata": {},
     "output_type": "execute_result"
    }
   ],
   "source": [
    "model.evaluate(textcuboid_test,y_test1)"
   ]
  },
  {
   "cell_type": "code",
   "execution_count": 21,
   "id": "90b71f8b-04f4-4b97-8e89-2da6f8c5a3ff",
   "metadata": {},
   "outputs": [
    {
     "name": "stdout",
     "output_type": "stream",
     "text": [
      "69/69 [==============================] - 0s 2ms/step - loss: 0.0814 - accuracy: 0.9772\n"
     ]
    },
    {
     "data": {
      "text/plain": [
       "[0.08144426345825195, 0.9771585464477539]"
      ]
     },
     "execution_count": 21,
     "metadata": {},
     "output_type": "execute_result"
    }
   ],
   "source": [
    "model = load_model('./save model/best_model_1-Channel Tensor(ELMo).h5')\n",
    "model.evaluate(textcuboid_test,y_test1)"
   ]
  },
  {
   "cell_type": "code",
   "execution_count": 22,
   "id": "153ffa05-8ebf-4a06-a1dd-d65d41243414",
   "metadata": {},
   "outputs": [
    {
     "name": "stdout",
     "output_type": "stream",
     "text": [
      "69/69 [==============================] - 0s 2ms/step\n",
      "Macro_F1 스코어: 0.9221368526387348\n",
      "weighted_F1 스코어: 0.9770045106868248\n"
     ]
    }
   ],
   "source": [
    "y_pred = model.predict(textcuboid_test)\n",
    "y_pred_labels = np.argmax(y_pred, axis=1)\n",
    "macro_f1 = f1_score(y_test, y_pred_labels, average='macro')\n",
    "print(\"Macro_F1 스코어:\", macro_f1)\n",
    "weighted_f1 = f1_score(y_test, y_pred_labels, average='weighted')\n",
    "print(\"weighted_F1 스코어:\", weighted_f1)"
   ]
  },
  {
   "cell_type": "code",
   "execution_count": null,
   "id": "9ab95f3b-25cd-4240-b75e-8600f4289afa",
   "metadata": {},
   "outputs": [],
   "source": [
    "35에포크 drop1,2 활성화 512 97.7"
   ]
  },
  {
   "cell_type": "code",
   "execution_count": null,
   "id": "e0dfff48-0feb-4bf3-8817-ac91b4843128",
   "metadata": {},
   "outputs": [],
   "source": []
  }
 ],
 "metadata": {
  "kernelspec": {
   "display_name": "Python 3 (ipykernel)",
   "language": "python",
   "name": "python3"
  },
  "language_info": {
   "codemirror_mode": {
    "name": "ipython",
    "version": 3
   },
   "file_extension": ".py",
   "mimetype": "text/x-python",
   "name": "python",
   "nbconvert_exporter": "python",
   "pygments_lexer": "ipython3",
   "version": "3.8.13"
  }
 },
 "nbformat": 4,
 "nbformat_minor": 5
}
