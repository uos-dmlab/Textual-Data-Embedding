{
 "cells": [
  {
   "cell_type": "markdown",
   "id": "184f59ff",
   "metadata": {},
   "source": [
    "# 패키지 임포트"
   ]
  },
  {
   "cell_type": "code",
   "execution_count": 1,
   "id": "0181526e",
   "metadata": {},
   "outputs": [],
   "source": [
    "import random\n",
    "import pandas as pd\n",
    "import numpy as np\n",
    "import tensorflow as tf\n",
    "import nltk\n",
    "import os\n",
    "import string\n",
    "import wordninja\n",
    "import re\n",
    "import json\n",
    "import keras\n",
    "from tensorflow.keras import layers\n",
    "from tensorflow.keras.layers import Input, Conv1D, GlobalMaxPooling1D, Dense, Dropout\n",
    "from tensorflow.keras.models import Model\n",
    "from tensorflow.keras import layers\n",
    "from tensorflow.keras.layers import Attention\n",
    "from keras.models import load_model\n",
    "from tensorflow.keras.preprocessing.text import Tokenizer\n",
    "from transformer_build import  *\n",
    "from data_preprocessing import *\n",
    "from sklearn.metrics import precision_score, recall_score, f1_score\n",
    "from sklearn.model_selection import train_test_split\n",
    "from sklearn.preprocessing import LabelEncoder"
   ]
  },
  {
   "cell_type": "markdown",
   "id": "42b5088e",
   "metadata": {},
   "source": [
    "# 데이터 로드"
   ]
  },
  {
   "cell_type": "code",
   "execution_count": 2,
   "id": "f6218ba7-44e5-428b-9d46-cd6d30b6d4d3",
   "metadata": {},
   "outputs": [
    {
     "data": {
      "text/html": [
       "<div>\n",
       "<style scoped>\n",
       "    .dataframe tbody tr th:only-of-type {\n",
       "        vertical-align: middle;\n",
       "    }\n",
       "\n",
       "    .dataframe tbody tr th {\n",
       "        vertical-align: top;\n",
       "    }\n",
       "\n",
       "    .dataframe thead th {\n",
       "        text-align: right;\n",
       "    }\n",
       "</style>\n",
       "<table border=\"1\" class=\"dataframe\">\n",
       "  <thead>\n",
       "    <tr style=\"text-align: right;\">\n",
       "      <th></th>\n",
       "      <th>text</th>\n",
       "      <th>edge</th>\n",
       "      <th>intent</th>\n",
       "    </tr>\n",
       "  </thead>\n",
       "  <tbody>\n",
       "    <tr>\n",
       "      <th>0</th>\n",
       "      <td>champion product approv stock split champion p...</td>\n",
       "      <td>champion product approv stock split champion p...</td>\n",
       "      <td>earn</td>\n",
       "    </tr>\n",
       "    <tr>\n",
       "      <th>1</th>\n",
       "      <td>comput termin system cpml complet sale comput ...</td>\n",
       "      <td>comput termin system cpml complet sale comput ...</td>\n",
       "      <td>acq</td>\n",
       "    </tr>\n",
       "    <tr>\n",
       "      <th>2</th>\n",
       "      <td>cobanco inc cbco year net shr ct dlr net asset...</td>\n",
       "      <td>cobanco inc cbco year net shr ct dlr net asset...</td>\n",
       "      <td>earn</td>\n",
       "    </tr>\n",
       "    <tr>\n",
       "      <th>3</th>\n",
       "      <td>intern inc qtr jan oper shr loss two ct profit...</td>\n",
       "      <td>intern inc qtr jan oper shr loss two ct profit...</td>\n",
       "      <td>earn</td>\n",
       "    </tr>\n",
       "    <tr>\n",
       "      <th>4</th>\n",
       "      <td>brown forman inc bfd qtr net shr dlr ct net ml...</td>\n",
       "      <td>brown forman inc bfd qtr net shr dlr ct net ml...</td>\n",
       "      <td>earn</td>\n",
       "    </tr>\n",
       "  </tbody>\n",
       "</table>\n",
       "</div>"
      ],
      "text/plain": [
       "                                                text  \\\n",
       "0  champion product approv stock split champion p...   \n",
       "1  comput termin system cpml complet sale comput ...   \n",
       "2  cobanco inc cbco year net shr ct dlr net asset...   \n",
       "3  intern inc qtr jan oper shr loss two ct profit...   \n",
       "4  brown forman inc bfd qtr net shr dlr ct net ml...   \n",
       "\n",
       "                                                edge intent  \n",
       "0  champion product approv stock split champion p...   earn  \n",
       "1  comput termin system cpml complet sale comput ...    acq  \n",
       "2  cobanco inc cbco year net shr ct dlr net asset...   earn  \n",
       "3  intern inc qtr jan oper shr loss two ct profit...   earn  \n",
       "4  brown forman inc bfd qtr net shr dlr ct net ml...   earn  "
      ]
     },
     "execution_count": 2,
     "metadata": {},
     "output_type": "execute_result"
    }
   ],
   "source": [
    "train_df = pd.read_csv('C:/Users/User/Desktop/r8/r8_dataset/r8-train-stemmed.csv')\n",
    "valid_df = pd.read_csv('C:/Users/User/Desktop/r8/r8_dataset/r8-dev-stemmed.csv')\n",
    "test_df = pd.read_csv('C:/Users/User/Desktop/r8/r8_dataset/r8-test-stemmed.csv')\n",
    "train_df.head()"
   ]
  },
  {
   "cell_type": "code",
   "execution_count": 3,
   "id": "c9c4fde5-5198-48e3-8f38-9d6c112af99f",
   "metadata": {},
   "outputs": [],
   "source": [
    "# train_df와 valid_df 결합\n",
    "train_val_df = pd.concat([train_df, valid_df])"
   ]
  },
  {
   "cell_type": "code",
   "execution_count": 4,
   "id": "b3b0338a-49b9-4ee0-bac4-93e5c8567817",
   "metadata": {},
   "outputs": [],
   "source": [
    "textcuboid=np.load('./1-Channel textcuboid_r8(bert).npy')\n",
    "textcuboid_test=np.load('./1-Channel textcuboid_test_r8(bert).npy')"
   ]
  },
  {
   "cell_type": "markdown",
   "id": "64cd4ddd",
   "metadata": {},
   "source": [
    "# 전처리"
   ]
  },
  {
   "cell_type": "code",
   "execution_count": 5,
   "id": "7f8019c6",
   "metadata": {},
   "outputs": [],
   "source": [
    "train_val_df['text']=train_val_df['text'].apply(clean_text)\n",
    "test_df['text']=test_df['text'].apply(clean_text)"
   ]
  },
  {
   "cell_type": "code",
   "execution_count": 6,
   "id": "af292b05",
   "metadata": {},
   "outputs": [],
   "source": [
    "x_train=list(train_val_df['text'])\n",
    "y_train=list(train_val_df['intent'])\n",
    "x_test=list(test_df['text'])\n",
    "y_test=list(test_df['intent'])"
   ]
  },
  {
   "cell_type": "code",
   "execution_count": 7,
   "id": "eceff7f7-ca86-43b6-9d1f-83732e346e39",
   "metadata": {},
   "outputs": [],
   "source": [
    "y=y_train+y_test"
   ]
  },
  {
   "cell_type": "code",
   "execution_count": 8,
   "id": "8af19697-2ca4-46ba-bb01-e3c784bdc50b",
   "metadata": {},
   "outputs": [],
   "source": [
    "encoder=LabelEncoder()\n",
    "encoder.fit(y)\n",
    "label=encoder.transform(y)\n",
    "\n",
    "y_train=list(label[:5484])\n",
    "y_test=list(label[5484:])"
   ]
  },
  {
   "cell_type": "code",
   "execution_count": 9,
   "id": "0396399c-900f-45ee-badf-201f239d3a92",
   "metadata": {},
   "outputs": [],
   "source": [
    "sos_x_train=[]\n",
    "sos_x_test=[]\n",
    "for sen in x_train:\n",
    "    sos_x_train.append('<sos> '+sen)\n",
    "for sen in x_test:\n",
    "    sos_x_test.append('<sos> '+sen)\n",
    "\n",
    "all_txt=sos_x_train+sos_x_test\n",
    "\n",
    "\n",
    "tokenizer = Tokenizer()\n",
    "tokenizer.fit_on_texts(all_txt)\n",
    "\n",
    "vocab_size =len(tokenizer.word_index)+1 #1을 더해야 에러가 안터짐 토큰 영향으로 보임\n",
    "\n",
    "x_train_encoded = tokenizer.texts_to_sequences(sos_x_train)\n",
    "x_test_encoded = tokenizer.texts_to_sequences(sos_x_test)\n",
    "\n",
    "max_len = 300\n",
    "\n",
    "xtext_train = tf.keras.preprocessing.sequence.pad_sequences(x_train_encoded, maxlen=max_len)\n",
    "xtext_test = tf.keras.preprocessing.sequence.pad_sequences(x_test_encoded, maxlen=max_len)"
   ]
  },
  {
   "cell_type": "code",
   "execution_count": 10,
   "id": "cd7d7e05-cd6a-47b4-9ff8-81f01fdc1762",
   "metadata": {},
   "outputs": [],
   "source": [
    "y_train=np.array(y_train)\n",
    "y_test=np.array(y_test)"
   ]
  },
  {
   "cell_type": "code",
   "execution_count": 11,
   "id": "58ada4f5-45bf-4768-93f9-37361cd39293",
   "metadata": {},
   "outputs": [],
   "source": [
    "textcuboid_train=textcuboid[:4937]\n",
    "textcuboid_val=textcuboid[4937:]\n",
    "text_train=xtext_train[:4937]\n",
    "text_val=xtext_train[4937:]\n",
    "y_train1=y_train[:4937]\n",
    "y_val=y_train[4937:]"
   ]
  },
  {
   "cell_type": "code",
   "execution_count": 12,
   "id": "f12aa55e-0252-42e5-9bdd-82b5ffd3410c",
   "metadata": {},
   "outputs": [],
   "source": [
    "text_test=xtext_test\n",
    "y_test1=y_test"
   ]
  },
  {
   "cell_type": "markdown",
   "id": "fc576c00",
   "metadata": {},
   "source": [
    "# 모델 빌드"
   ]
  },
  {
   "cell_type": "code",
   "execution_count": 13,
   "id": "cda56d50",
   "metadata": {},
   "outputs": [],
   "source": [
    "callbacks = [\n",
    "    keras.callbacks.ModelCheckpoint(\n",
    "        \"best_model_{epoch}.h5\", save_best_only=False, save_freq=5\n",
    "    ),\n",
    "    keras.callbacks.ReduceLROnPlateau(\n",
    "        monitor=\"val_loss\", factor=0.5, patience=2, min_lr=0.0001\n",
    "    ),\n",
    "]"
   ]
  },
  {
   "cell_type": "code",
   "execution_count": 27,
   "id": "ee8ac61e",
   "metadata": {},
   "outputs": [
    {
     "name": "stdout",
     "output_type": "stream",
     "text": [
      "Model: \"model_1\"\n",
      "__________________________________________________________________________________________________\n",
      " Layer (type)                   Output Shape         Param #     Connected to                     \n",
      "==================================================================================================\n",
      " input_4 (InputLayer)           [(None, 300)]        0           []                               \n",
      "                                                                                                  \n",
      " token_and_position_embedding_1  (None, 300, 256)    4528384     ['input_4[0][0]']                \n",
      "  (TokenAndPositionEmbedding)                                                                     \n",
      "                                                                                                  \n",
      " input_3 (InputLayer)           [(None, 169, 768)]   0           []                               \n",
      "                                                                                                  \n",
      " transformer_block_1 (Transform  (None, 300, 256)    280864      ['token_and_position_embedding_1[\n",
      " erBlock)                                                        0][0]']                          \n",
      "                                                                                                  \n",
      " conv1d_1 (Conv1D)              (None, 169, 256)     196864      ['input_3[0][0]']                \n",
      "                                                                                                  \n",
      " global_average_pooling1d_1 (Gl  (None, 256)         0           ['transformer_block_1[0][0]']    \n",
      " obalAveragePooling1D)                                                                            \n",
      "                                                                                                  \n",
      " global_max_pooling1d_1 (Global  (None, 256)         0           ['conv1d_1[0][0]']               \n",
      " MaxPooling1D)                                                                                    \n",
      "                                                                                                  \n",
      " dropout_50 (Dropout)           (None, 256)          0           ['global_average_pooling1d_1[0][0\n",
      "                                                                 ]']                              \n",
      "                                                                                                  \n",
      " dense_141 (Dense)              (None, 256)          65792       ['global_max_pooling1d_1[0][0]'] \n",
      "                                                                                                  \n",
      " dense_148 (Dense)              (None, 256)          65792       ['dropout_50[0][0]']             \n",
      "                                                                                                  \n",
      " concatenate_1 (Concatenate)    (None, 512)          0           ['dense_141[0][0]',              \n",
      "                                                                  'dense_148[0][0]']              \n",
      "                                                                                                  \n",
      " dropout_51 (Dropout)           (None, 512)          0           ['concatenate_1[0][0]']          \n",
      "                                                                                                  \n",
      " dense_149 (Dense)              (None, 8)            4104        ['dropout_51[0][0]']             \n",
      "                                                                                                  \n",
      "==================================================================================================\n",
      "Total params: 5,141,800\n",
      "Trainable params: 5,141,800\n",
      "Non-trainable params: 0\n",
      "__________________________________________________________________________________________________\n"
     ]
    }
   ],
   "source": [
    "embedding_dim = 256 # 단어의 임베딩 벡터의 차원\n",
    "num_heads = 1  # 어텐션 헤드의 수\n",
    "dff = 32  # 포지션 와이즈 피드 포워드 신경망의 은닉층의 크기\n",
    "num_transformer_blocks = 1\n",
    "\n",
    "#BERT channel의 학습\n",
    "BERT_input = Input(shape=(169, 768))\n",
    "conv1 = Conv1D(256, 1, padding='valid', activation='relu')(BERT_input)\n",
    "pooling = GlobalMaxPooling1D()(conv1)\n",
    "# pooling = Dropout(0.5)(pooling)\n",
    "BERT_x = Dense(256, activation='relu')(pooling)\n",
    "# BERT_attention_layer = Attention()\n",
    "# BERT_a=BERT_attention_layer([BERT_x,BERT_x])\n",
    "\n",
    "#Sequence channel의 학습\n",
    "Text_inputs = Input(shape=(max_len,))\n",
    "embedding_layer = TokenAndPositionEmbedding(max_len, vocab_size, embedding_dim)\n",
    "Text_x = embedding_layer(Text_inputs)\n",
    "\n",
    "for _ in range(num_transformer_blocks):\n",
    "    transformer_block = TransformerBlock(embedding_dim, num_heads, dff)\n",
    "    Text_x = transformer_block(Text_x)\n",
    "\n",
    "Text_x = tf.keras.layers.GlobalAveragePooling1D()(Text_x)\n",
    "Text_x = tf.keras.layers.Dropout(0.5)(Text_x)\n",
    "Text_x = tf.keras.layers.Dense(256, activation=\"relu\")(Text_x)\n",
    "# Text_attention_layer = Attention()\n",
    "# Text_a=Text_attention_layer([Text_x,Text_x])\n",
    "\n",
    "#결합 후 분류\n",
    "# x = layers.concatenate([BERT_x,BERT_a, Text_x,Text_a], axis=-1)\n",
    "# x = layers.concatenate([BERT_a, Text_a], axis=-1)\n",
    "x = layers.concatenate([BERT_x, Text_x], axis=-1)\n",
    "x = Dropout(0.5)(x)\n",
    "output_layer = Dense(8, activation='softmax')(x)\n",
    "\n",
    "model = Model(inputs=[BERT_input, Text_inputs], outputs=output_layer)\n",
    "\n",
    "model.compile(optimizer='adam', loss='sparse_categorical_crossentropy', metrics=['accuracy'])\n",
    "\n",
    "model.summary()"
   ]
  },
  {
   "cell_type": "markdown",
   "id": "41a5c6a7",
   "metadata": {},
   "source": [
    "# 모델 학습"
   ]
  },
  {
   "cell_type": "code",
   "execution_count": 28,
   "id": "0706365a",
   "metadata": {
    "scrolled": true
   },
   "outputs": [
    {
     "name": "stdout",
     "output_type": "stream",
     "text": [
      "Epoch 1/50\n",
      "20/20 [==============================] - 3s 89ms/step - loss: 2.8402 - accuracy: 0.5635 - val_loss: 1.0609 - val_accuracy: 0.7075 - lr: 0.0010\n",
      "Epoch 2/50\n",
      "20/20 [==============================] - 1s 68ms/step - loss: 0.6716 - accuracy: 0.7841 - val_loss: 0.6131 - val_accuracy: 0.7751 - lr: 0.0010\n",
      "Epoch 3/50\n",
      "20/20 [==============================] - 1s 66ms/step - loss: 0.4292 - accuracy: 0.8519 - val_loss: 0.4980 - val_accuracy: 0.8190 - lr: 0.0010\n",
      "Epoch 4/50\n",
      "20/20 [==============================] - 1s 67ms/step - loss: 0.2885 - accuracy: 0.9066 - val_loss: 0.3695 - val_accuracy: 0.8629 - lr: 0.0010\n",
      "Epoch 5/50\n",
      "20/20 [==============================] - 1s 71ms/step - loss: 0.1868 - accuracy: 0.9407 - val_loss: 0.2307 - val_accuracy: 0.9232 - lr: 0.0010\n",
      "Epoch 6/50\n",
      "20/20 [==============================] - 1s 70ms/step - loss: 0.0978 - accuracy: 0.9696 - val_loss: 0.1472 - val_accuracy: 0.9470 - lr: 0.0010\n",
      "Epoch 7/50\n",
      "20/20 [==============================] - 1s 67ms/step - loss: 0.0531 - accuracy: 0.9858 - val_loss: 0.1362 - val_accuracy: 0.9525 - lr: 0.0010\n",
      "Epoch 8/50\n",
      "20/20 [==============================] - 1s 70ms/step - loss: 0.0291 - accuracy: 0.9919 - val_loss: 0.1470 - val_accuracy: 0.9543 - lr: 0.0010\n",
      "Epoch 9/50\n",
      "20/20 [==============================] - 1s 68ms/step - loss: 0.0153 - accuracy: 0.9959 - val_loss: 0.1553 - val_accuracy: 0.9452 - lr: 0.0010\n",
      "Epoch 10/50\n",
      "20/20 [==============================] - 1s 66ms/step - loss: 0.0088 - accuracy: 0.9978 - val_loss: 0.1580 - val_accuracy: 0.9525 - lr: 5.0000e-04\n",
      "Epoch 11/50\n",
      "20/20 [==============================] - 1s 68ms/step - loss: 0.0065 - accuracy: 0.9986 - val_loss: 0.1596 - val_accuracy: 0.9525 - lr: 5.0000e-04\n",
      "Epoch 12/50\n",
      "20/20 [==============================] - 1s 66ms/step - loss: 0.0063 - accuracy: 0.9984 - val_loss: 0.1657 - val_accuracy: 0.9506 - lr: 2.5000e-04\n",
      "Epoch 13/50\n",
      "20/20 [==============================] - 1s 66ms/step - loss: 0.0047 - accuracy: 0.9992 - val_loss: 0.1676 - val_accuracy: 0.9470 - lr: 2.5000e-04\n",
      "Epoch 14/50\n",
      "20/20 [==============================] - 1s 66ms/step - loss: 0.0058 - accuracy: 0.9990 - val_loss: 0.1728 - val_accuracy: 0.9470 - lr: 1.2500e-04\n",
      "Epoch 15/50\n",
      "20/20 [==============================] - 1s 66ms/step - loss: 0.0039 - accuracy: 0.9990 - val_loss: 0.1726 - val_accuracy: 0.9525 - lr: 1.2500e-04\n",
      "Epoch 16/50\n",
      "20/20 [==============================] - 1s 67ms/step - loss: 0.0042 - accuracy: 0.9992 - val_loss: 0.1744 - val_accuracy: 0.9543 - lr: 1.0000e-04\n",
      "Epoch 17/50\n",
      "20/20 [==============================] - 1s 66ms/step - loss: 0.0039 - accuracy: 0.9996 - val_loss: 0.1743 - val_accuracy: 0.9525 - lr: 1.0000e-04\n",
      "Epoch 18/50\n",
      "20/20 [==============================] - 1s 66ms/step - loss: 0.0038 - accuracy: 0.9996 - val_loss: 0.1749 - val_accuracy: 0.9525 - lr: 1.0000e-04\n",
      "Epoch 19/50\n",
      "20/20 [==============================] - 1s 66ms/step - loss: 0.0037 - accuracy: 0.9994 - val_loss: 0.1771 - val_accuracy: 0.9506 - lr: 1.0000e-04\n",
      "Epoch 20/50\n",
      "20/20 [==============================] - 1s 66ms/step - loss: 0.0031 - accuracy: 0.9998 - val_loss: 0.1809 - val_accuracy: 0.9506 - lr: 1.0000e-04\n",
      "Epoch 21/50\n",
      "20/20 [==============================] - 1s 67ms/step - loss: 0.0026 - accuracy: 0.9998 - val_loss: 0.1840 - val_accuracy: 0.9506 - lr: 1.0000e-04\n",
      "Epoch 22/50\n",
      "20/20 [==============================] - 1s 69ms/step - loss: 0.0039 - accuracy: 0.9994 - val_loss: 0.1873 - val_accuracy: 0.9506 - lr: 1.0000e-04\n",
      "Epoch 23/50\n",
      "20/20 [==============================] - 1s 67ms/step - loss: 0.0029 - accuracy: 0.9994 - val_loss: 0.1904 - val_accuracy: 0.9506 - lr: 1.0000e-04\n",
      "Epoch 24/50\n",
      "20/20 [==============================] - 1s 67ms/step - loss: 0.0034 - accuracy: 0.9994 - val_loss: 0.1897 - val_accuracy: 0.9488 - lr: 1.0000e-04\n",
      "Epoch 25/50\n",
      "20/20 [==============================] - 1s 65ms/step - loss: 0.0033 - accuracy: 0.9996 - val_loss: 0.1900 - val_accuracy: 0.9506 - lr: 1.0000e-04\n",
      "Epoch 26/50\n",
      "20/20 [==============================] - 1s 66ms/step - loss: 0.0024 - accuracy: 1.0000 - val_loss: 0.1924 - val_accuracy: 0.9506 - lr: 1.0000e-04\n",
      "Epoch 27/50\n",
      "20/20 [==============================] - 1s 66ms/step - loss: 0.0024 - accuracy: 0.9994 - val_loss: 0.1933 - val_accuracy: 0.9525 - lr: 1.0000e-04\n",
      "Epoch 28/50\n",
      "20/20 [==============================] - 1s 65ms/step - loss: 0.0026 - accuracy: 0.9994 - val_loss: 0.1959 - val_accuracy: 0.9525 - lr: 1.0000e-04\n",
      "Epoch 29/50\n",
      "20/20 [==============================] - 1s 67ms/step - loss: 0.0026 - accuracy: 0.9996 - val_loss: 0.1959 - val_accuracy: 0.9506 - lr: 1.0000e-04\n",
      "Epoch 30/50\n",
      "20/20 [==============================] - 1s 65ms/step - loss: 0.0022 - accuracy: 0.9994 - val_loss: 0.1991 - val_accuracy: 0.9488 - lr: 1.0000e-04\n",
      "Epoch 31/50\n",
      "20/20 [==============================] - 1s 66ms/step - loss: 0.0026 - accuracy: 0.9992 - val_loss: 0.2012 - val_accuracy: 0.9488 - lr: 1.0000e-04\n",
      "Epoch 32/50\n",
      "20/20 [==============================] - 1s 64ms/step - loss: 0.0018 - accuracy: 1.0000 - val_loss: 0.2025 - val_accuracy: 0.9488 - lr: 1.0000e-04\n",
      "Epoch 33/50\n",
      "20/20 [==============================] - 1s 68ms/step - loss: 0.0029 - accuracy: 0.9990 - val_loss: 0.2038 - val_accuracy: 0.9470 - lr: 1.0000e-04\n",
      "Epoch 34/50\n",
      "20/20 [==============================] - 1s 68ms/step - loss: 0.0024 - accuracy: 0.9992 - val_loss: 0.2051 - val_accuracy: 0.9506 - lr: 1.0000e-04\n",
      "Epoch 35/50\n",
      "20/20 [==============================] - 1s 66ms/step - loss: 0.0023 - accuracy: 0.9994 - val_loss: 0.2119 - val_accuracy: 0.9488 - lr: 1.0000e-04\n",
      "Epoch 36/50\n",
      "20/20 [==============================] - 1s 68ms/step - loss: 0.0018 - accuracy: 0.9998 - val_loss: 0.2133 - val_accuracy: 0.9488 - lr: 1.0000e-04\n",
      "Epoch 37/50\n",
      "20/20 [==============================] - 1s 67ms/step - loss: 0.0020 - accuracy: 0.9994 - val_loss: 0.2141 - val_accuracy: 0.9488 - lr: 1.0000e-04\n",
      "Epoch 38/50\n",
      "20/20 [==============================] - 1s 67ms/step - loss: 0.0020 - accuracy: 0.9998 - val_loss: 0.2158 - val_accuracy: 0.9488 - lr: 1.0000e-04\n",
      "Epoch 39/50\n",
      "20/20 [==============================] - 1s 66ms/step - loss: 0.0018 - accuracy: 0.9998 - val_loss: 0.2177 - val_accuracy: 0.9488 - lr: 1.0000e-04\n",
      "Epoch 40/50\n",
      "20/20 [==============================] - 1s 67ms/step - loss: 0.0017 - accuracy: 0.9998 - val_loss: 0.2210 - val_accuracy: 0.9470 - lr: 1.0000e-04\n",
      "Epoch 41/50\n",
      "20/20 [==============================] - 1s 69ms/step - loss: 0.0020 - accuracy: 0.9996 - val_loss: 0.2194 - val_accuracy: 0.9488 - lr: 1.0000e-04\n",
      "Epoch 42/50\n",
      "20/20 [==============================] - 1s 66ms/step - loss: 0.0024 - accuracy: 0.9990 - val_loss: 0.2226 - val_accuracy: 0.9506 - lr: 1.0000e-04\n",
      "Epoch 43/50\n",
      "20/20 [==============================] - 1s 65ms/step - loss: 0.0017 - accuracy: 0.9998 - val_loss: 0.2252 - val_accuracy: 0.9470 - lr: 1.0000e-04\n",
      "Epoch 44/50\n",
      "20/20 [==============================] - 1s 66ms/step - loss: 0.0017 - accuracy: 0.9998 - val_loss: 0.2219 - val_accuracy: 0.9452 - lr: 1.0000e-04\n",
      "Epoch 45/50\n",
      "20/20 [==============================] - 1s 66ms/step - loss: 0.0016 - accuracy: 0.9998 - val_loss: 0.2237 - val_accuracy: 0.9452 - lr: 1.0000e-04\n",
      "Epoch 46/50\n",
      "20/20 [==============================] - 1s 67ms/step - loss: 0.0015 - accuracy: 0.9998 - val_loss: 0.2241 - val_accuracy: 0.9452 - lr: 1.0000e-04\n",
      "Epoch 47/50\n",
      "20/20 [==============================] - 1s 66ms/step - loss: 0.0013 - accuracy: 1.0000 - val_loss: 0.2276 - val_accuracy: 0.9470 - lr: 1.0000e-04\n",
      "Epoch 48/50\n",
      "20/20 [==============================] - 1s 68ms/step - loss: 0.0016 - accuracy: 0.9996 - val_loss: 0.2288 - val_accuracy: 0.9470 - lr: 1.0000e-04\n",
      "Epoch 49/50\n",
      "20/20 [==============================] - 1s 66ms/step - loss: 0.0015 - accuracy: 0.9998 - val_loss: 0.2287 - val_accuracy: 0.9470 - lr: 1.0000e-04\n",
      "Epoch 50/50\n",
      "20/20 [==============================] - 1s 63ms/step - loss: 0.0013 - accuracy: 1.0000 - val_loss: 0.2307 - val_accuracy: 0.9470 - lr: 1.0000e-04\n"
     ]
    }
   ],
   "source": [
    "#모델 학습\n",
    "history = model.fit([textcuboid_train,text_train], y_train1,callbacks=callbacks, epochs=50,batch_size=256,validation_data=([textcuboid_val,text_val], y_val))"
   ]
  },
  {
   "cell_type": "code",
   "execution_count": 40,
   "id": "b6c8a0f0-38f5-4116-9ee4-f6cb0ac97efc",
   "metadata": {},
   "outputs": [
    {
     "name": "stdout",
     "output_type": "stream",
     "text": [
      "69/69 [==============================] - 1s 5ms/step - loss: 0.0956 - accuracy: 0.9762\n"
     ]
    },
    {
     "data": {
      "text/plain": [
       "[0.09556616097688675, 0.9762448668479919]"
      ]
     },
     "execution_count": 40,
     "metadata": {},
     "output_type": "execute_result"
    }
   ],
   "source": [
    "custom_objects = {\"TokenAndPositionEmbedding\": TokenAndPositionEmbedding, \"TransformerBlock\": TransformerBlock}\n",
    "model = load_model('./save model/best_model_2-Channel Tensor(BERT).h5'.format(i), custom_objects=custom_objects)\n",
    "model.evaluate([textcuboid_test,text_test],y_test)"
   ]
  },
  {
   "cell_type": "code",
   "execution_count": 41,
   "id": "fdf60bba-ce5d-4b18-984b-d2d97cf44597",
   "metadata": {},
   "outputs": [
    {
     "name": "stdout",
     "output_type": "stream",
     "text": [
      "69/69 [==============================] - 1s 3ms/step\n",
      "Macro_F1 스코어: 0.9482388720147723\n",
      "weighted_F1 스코어: 0.9761210346089404\n"
     ]
    }
   ],
   "source": [
    "y_pred = model.predict([textcuboid_test,text_test])\n",
    "y_pred_labels = np.argmax(y_pred, axis=1)\n",
    "macro_f1 = f1_score(y_test, y_pred_labels, average='macro')\n",
    "print(\"Macro_F1 스코어:\", macro_f1)\n",
    "weighted_f1 = f1_score(y_test, y_pred_labels, average='weighted')\n",
    "print(\"weighted_F1 스코어:\", weighted_f1)"
   ]
  },
  {
   "cell_type": "code",
   "execution_count": null,
   "id": "932de75f-db94-477c-940f-0b64b675cc25",
   "metadata": {},
   "outputs": [],
   "source": []
  },
  {
   "cell_type": "code",
   "execution_count": null,
   "id": "41654d4f-3b69-43a1-948f-4b6beb18a25b",
   "metadata": {},
   "outputs": [],
   "source": []
  },
  {
   "cell_type": "code",
   "execution_count": null,
   "id": "de4d6ea9-965e-4248-ab9d-aac7bedbe20a",
   "metadata": {},
   "outputs": [],
   "source": []
  }
 ],
 "metadata": {
  "kernelspec": {
   "display_name": "Python 3 (ipykernel)",
   "language": "python",
   "name": "python3"
  },
  "language_info": {
   "codemirror_mode": {
    "name": "ipython",
    "version": 3
   },
   "file_extension": ".py",
   "mimetype": "text/x-python",
   "name": "python",
   "nbconvert_exporter": "python",
   "pygments_lexer": "ipython3",
   "version": "3.8.13"
  }
 },
 "nbformat": 4,
 "nbformat_minor": 5
}
