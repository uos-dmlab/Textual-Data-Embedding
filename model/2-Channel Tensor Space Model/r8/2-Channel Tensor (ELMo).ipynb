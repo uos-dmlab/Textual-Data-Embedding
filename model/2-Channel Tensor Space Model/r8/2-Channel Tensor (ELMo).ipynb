{
 "cells": [
  {
   "cell_type": "markdown",
   "id": "1ed2892d",
   "metadata": {},
   "source": [
    "# 패키지 임포트"
   ]
  },
  {
   "cell_type": "code",
   "execution_count": 1,
   "id": "22d40156",
   "metadata": {},
   "outputs": [],
   "source": [
    "import random\n",
    "import pandas as pd\n",
    "import numpy as np\n",
    "import tensorflow as tf\n",
    "import nltk\n",
    "import os\n",
    "import string\n",
    "import re\n",
    "import json\n",
    "import keras\n",
    "from tensorflow.keras import layers\n",
    "from tensorflow.keras.layers import Input, Conv1D, GlobalMaxPooling1D, Dense, Dropout\n",
    "from tensorflow.keras.models import Model\n",
    "from tensorflow.keras import layers\n",
    "from tensorflow.keras.layers import Attention\n",
    "from keras.models import load_model\n",
    "from tensorflow.keras.preprocessing.text import Tokenizer\n",
    "from transformer_build import  *\n",
    "from data_preprocessing import *\n",
    "from sklearn.metrics import precision_score, recall_score, f1_score\n",
    "from sklearn.model_selection import train_test_split\n",
    "from sklearn.preprocessing import LabelEncoder"
   ]
  },
  {
   "cell_type": "markdown",
   "id": "a8aba1e9",
   "metadata": {},
   "source": [
    "# 데이터 로드"
   ]
  },
  {
   "cell_type": "code",
   "execution_count": 2,
   "id": "ead34dbd",
   "metadata": {},
   "outputs": [
    {
     "data": {
      "text/html": [
       "<div>\n",
       "<style scoped>\n",
       "    .dataframe tbody tr th:only-of-type {\n",
       "        vertical-align: middle;\n",
       "    }\n",
       "\n",
       "    .dataframe tbody tr th {\n",
       "        vertical-align: top;\n",
       "    }\n",
       "\n",
       "    .dataframe thead th {\n",
       "        text-align: right;\n",
       "    }\n",
       "</style>\n",
       "<table border=\"1\" class=\"dataframe\">\n",
       "  <thead>\n",
       "    <tr style=\"text-align: right;\">\n",
       "      <th></th>\n",
       "      <th>text</th>\n",
       "      <th>edge</th>\n",
       "      <th>intent</th>\n",
       "    </tr>\n",
       "  </thead>\n",
       "  <tbody>\n",
       "    <tr>\n",
       "      <th>0</th>\n",
       "      <td>champion product approv stock split champion p...</td>\n",
       "      <td>champion product approv stock split champion p...</td>\n",
       "      <td>earn</td>\n",
       "    </tr>\n",
       "    <tr>\n",
       "      <th>1</th>\n",
       "      <td>comput termin system cpml complet sale comput ...</td>\n",
       "      <td>comput termin system cpml complet sale comput ...</td>\n",
       "      <td>acq</td>\n",
       "    </tr>\n",
       "    <tr>\n",
       "      <th>2</th>\n",
       "      <td>cobanco inc cbco year net shr ct dlr net asset...</td>\n",
       "      <td>cobanco inc cbco year net shr ct dlr net asset...</td>\n",
       "      <td>earn</td>\n",
       "    </tr>\n",
       "    <tr>\n",
       "      <th>3</th>\n",
       "      <td>intern inc qtr jan oper shr loss two ct profit...</td>\n",
       "      <td>intern inc qtr jan oper shr loss two ct profit...</td>\n",
       "      <td>earn</td>\n",
       "    </tr>\n",
       "    <tr>\n",
       "      <th>4</th>\n",
       "      <td>brown forman inc bfd qtr net shr dlr ct net ml...</td>\n",
       "      <td>brown forman inc bfd qtr net shr dlr ct net ml...</td>\n",
       "      <td>earn</td>\n",
       "    </tr>\n",
       "  </tbody>\n",
       "</table>\n",
       "</div>"
      ],
      "text/plain": [
       "                                                text  \\\n",
       "0  champion product approv stock split champion p...   \n",
       "1  comput termin system cpml complet sale comput ...   \n",
       "2  cobanco inc cbco year net shr ct dlr net asset...   \n",
       "3  intern inc qtr jan oper shr loss two ct profit...   \n",
       "4  brown forman inc bfd qtr net shr dlr ct net ml...   \n",
       "\n",
       "                                                edge intent  \n",
       "0  champion product approv stock split champion p...   earn  \n",
       "1  comput termin system cpml complet sale comput ...    acq  \n",
       "2  cobanco inc cbco year net shr ct dlr net asset...   earn  \n",
       "3  intern inc qtr jan oper shr loss two ct profit...   earn  \n",
       "4  brown forman inc bfd qtr net shr dlr ct net ml...   earn  "
      ]
     },
     "execution_count": 2,
     "metadata": {},
     "output_type": "execute_result"
    }
   ],
   "source": [
    "train_df = pd.read_csv('C:/Users/User/Desktop/r8/r8_dataset/r8-train-stemmed.csv')\n",
    "valid_df = pd.read_csv('C:/Users/User/Desktop/r8/r8_dataset/r8-dev-stemmed.csv')\n",
    "test_df = pd.read_csv('C:/Users/User/Desktop/r8/r8_dataset/r8-test-stemmed.csv')\n",
    "train_df.head()"
   ]
  },
  {
   "cell_type": "code",
   "execution_count": 3,
   "id": "f58203a6-e7c4-4325-9e33-dbba68117b9f",
   "metadata": {},
   "outputs": [],
   "source": [
    "# train_df와 valid_df 결합\n",
    "train_val_df = pd.concat([train_df, valid_df])"
   ]
  },
  {
   "cell_type": "code",
   "execution_count": 4,
   "id": "4d023017-3fc4-487e-b621-8e87192755c6",
   "metadata": {},
   "outputs": [],
   "source": [
    "textcuboid=np.load('./1-Channel textcuboid_r8(elmo).npy')\n",
    "textcuboid_test=np.load('./1-Channel textcuboid_test_r8(elmo).npy')"
   ]
  },
  {
   "cell_type": "markdown",
   "id": "2940ba3a",
   "metadata": {},
   "source": [
    "# 전처리"
   ]
  },
  {
   "cell_type": "code",
   "execution_count": 5,
   "id": "c9ec3829-1543-4460-9016-704f27e2f019",
   "metadata": {},
   "outputs": [],
   "source": [
    "train_val_df['text']=train_val_df['text'].apply(clean_text)\n",
    "test_df['text']=test_df['text'].apply(clean_text)"
   ]
  },
  {
   "cell_type": "code",
   "execution_count": 6,
   "id": "10824edf-9b0c-42e2-b251-b73f1b856f7a",
   "metadata": {},
   "outputs": [],
   "source": [
    "x_train=list(train_val_df['text'])\n",
    "y_train=list(train_val_df['intent'])\n",
    "x_test=list(test_df['text'])\n",
    "y_test=list(test_df['intent'])"
   ]
  },
  {
   "cell_type": "code",
   "execution_count": 7,
   "id": "e163a551-2020-4d9d-9724-1162d43fc5e4",
   "metadata": {},
   "outputs": [],
   "source": [
    "y=y_train+y_test"
   ]
  },
  {
   "cell_type": "code",
   "execution_count": 8,
   "id": "541b6936-f523-4505-8787-c366f6854b06",
   "metadata": {},
   "outputs": [],
   "source": [
    "encoder=LabelEncoder()\n",
    "encoder.fit(y)\n",
    "label=encoder.transform(y)\n",
    "\n",
    "y_train=list(label[:5484])\n",
    "y_test=list(label[5484:])"
   ]
  },
  {
   "cell_type": "code",
   "execution_count": 9,
   "id": "f3b343f9-24a6-4be0-88a3-c76d8dce5bc9",
   "metadata": {},
   "outputs": [],
   "source": [
    "sos_x_train=[]\n",
    "sos_x_test=[]\n",
    "for sen in x_train:\n",
    "    sos_x_train.append('<sos> '+sen)\n",
    "for sen in x_test:\n",
    "    sos_x_test.append('<sos> '+sen)\n",
    "\n",
    "all_txt=sos_x_train+sos_x_test\n",
    "\n",
    "\n",
    "tokenizer = Tokenizer()\n",
    "tokenizer.fit_on_texts(all_txt)\n",
    "\n",
    "vocab_size =len(tokenizer.word_index)+1 #1을 더해야 에러가 안터짐 토큰 영향으로 보임\n",
    "\n",
    "x_train_encoded = tokenizer.texts_to_sequences(sos_x_train)\n",
    "x_test_encoded = tokenizer.texts_to_sequences(sos_x_test)\n",
    "\n",
    "max_len = 300\n",
    "\n",
    "xtext_train = tf.keras.preprocessing.sequence.pad_sequences(x_train_encoded, maxlen=max_len)\n",
    "xtext_test = tf.keras.preprocessing.sequence.pad_sequences(x_test_encoded, maxlen=max_len)"
   ]
  },
  {
   "cell_type": "code",
   "execution_count": 10,
   "id": "304fa814-ada2-4a93-9e55-bf5218d37212",
   "metadata": {},
   "outputs": [
    {
     "data": {
      "text/plain": [
       "(5484, 300)"
      ]
     },
     "execution_count": 10,
     "metadata": {},
     "output_type": "execute_result"
    }
   ],
   "source": [
    "xtext_train.shape"
   ]
  },
  {
   "cell_type": "code",
   "execution_count": 11,
   "id": "4b930cfe-51f8-4d0b-a3e6-67dd074bff82",
   "metadata": {},
   "outputs": [],
   "source": [
    "y_train=np.array(y_train)\n",
    "y_test=np.array(y_test)"
   ]
  },
  {
   "cell_type": "code",
   "execution_count": 12,
   "id": "e468f395-e0cd-4688-82b4-28e8bcaf25a5",
   "metadata": {},
   "outputs": [],
   "source": [
    "textcuboid_train=textcuboid[:4937]\n",
    "textcuboid_val=textcuboid[4937:]\n",
    "text_train=xtext_train[:4937]\n",
    "text_val=xtext_train[4937:]\n",
    "y_train1=y_train[:4937]\n",
    "y_val=y_train[4937:]"
   ]
  },
  {
   "cell_type": "code",
   "execution_count": 13,
   "id": "03af71a3-40bf-49ca-aaff-88c1d5166a55",
   "metadata": {},
   "outputs": [],
   "source": [
    "text_test=xtext_test\n",
    "y_test1=y_test"
   ]
  },
  {
   "cell_type": "markdown",
   "id": "184f59ff",
   "metadata": {},
   "source": [
    "# 모델 빌드\n"
   ]
  },
  {
   "cell_type": "code",
   "execution_count": 14,
   "id": "3a457c12",
   "metadata": {},
   "outputs": [],
   "source": [
    "callbacks = [\n",
    "    keras.callbacks.ModelCheckpoint(\n",
    "        \"best_model_{epoch}.h5\", save_best_only=False, save_freq=5\n",
    "    ),\n",
    "    keras.callbacks.ReduceLROnPlateau(\n",
    "        monitor=\"val_loss\", factor=0.5, patience=2, min_lr=0.0001\n",
    "    ),\n",
    "]"
   ]
  },
  {
   "cell_type": "code",
   "execution_count": 15,
   "id": "532b2e90",
   "metadata": {},
   "outputs": [
    {
     "name": "stdout",
     "output_type": "stream",
     "text": [
      "Model: \"model\"\n",
      "__________________________________________________________________________________________________\n",
      " Layer (type)                   Output Shape         Param #     Connected to                     \n",
      "==================================================================================================\n",
      " input_2 (InputLayer)           [(None, 300)]        0           []                               \n",
      "                                                                                                  \n",
      " input_1 (InputLayer)           [(None, 237, 256)]   0           []                               \n",
      "                                                                                                  \n",
      " token_and_position_embedding (  (None, 300, 256)    4528384     ['input_2[0][0]']                \n",
      " TokenAndPositionEmbedding)                                                                       \n",
      "                                                                                                  \n",
      " conv1d (Conv1D)                (None, 237, 256)     65792       ['input_1[0][0]']                \n",
      "                                                                                                  \n",
      " transformer_block (Transformer  (None, 300, 256)    280864      ['token_and_position_embedding[0]\n",
      " Block)                                                          [0]']                            \n",
      "                                                                                                  \n",
      " global_max_pooling1d (GlobalMa  (None, 256)         0           ['conv1d[0][0]']                 \n",
      " xPooling1D)                                                                                      \n",
      "                                                                                                  \n",
      " global_average_pooling1d (Glob  (None, 256)         0           ['transformer_block[0][0]']      \n",
      " alAveragePooling1D)                                                                              \n",
      "                                                                                                  \n",
      " dropout (Dropout)              (None, 256)          0           ['global_max_pooling1d[0][0]']   \n",
      "                                                                                                  \n",
      " dropout_3 (Dropout)            (None, 256)          0           ['global_average_pooling1d[0][0]'\n",
      "                                                                 ]                                \n",
      "                                                                                                  \n",
      " dense (Dense)                  (None, 256)          65792       ['dropout[0][0]']                \n",
      "                                                                                                  \n",
      " dense_7 (Dense)                (None, 256)          65792       ['dropout_3[0][0]']              \n",
      "                                                                                                  \n",
      " concatenate (Concatenate)      (None, 512)          0           ['dense[0][0]',                  \n",
      "                                                                  'dense_7[0][0]']                \n",
      "                                                                                                  \n",
      " dense_8 (Dense)                (None, 8)            4104        ['concatenate[0][0]']            \n",
      "                                                                                                  \n",
      "==================================================================================================\n",
      "Total params: 5,010,728\n",
      "Trainable params: 5,010,728\n",
      "Non-trainable params: 0\n",
      "__________________________________________________________________________________________________\n"
     ]
    }
   ],
   "source": [
    "embedding_dim = 256 # 단어의 임베딩 벡터의 차원\n",
    "num_heads = 1  # 어텐션 헤드의 수\n",
    "dff = 32  # 포지션 와이즈 피드 포워드 신경망의 은닉층의 크기\n",
    "num_transformer_blocks = 1\n",
    "\n",
    "#ELMo channel의 학습\n",
    "ELMo_input = Input(shape=(237, 256))\n",
    "conv1 = Conv1D(256, 1, padding='valid', activation='relu')(ELMo_input)\n",
    "pooling = GlobalMaxPooling1D()(conv1)\n",
    "pooling = Dropout(0.5)(pooling)\n",
    "ELMo_x = Dense(256, activation='relu')(pooling)\n",
    "# ELMo_attention_layer = Attention()\n",
    "# ELMo_a=ELMo_attention_layer([ELMo_x,ELMo_x])\n",
    "\n",
    "#Sequence channel의 학습\n",
    "Text_inputs = Input(shape=(max_len,))\n",
    "embedding_layer = TokenAndPositionEmbedding(max_len, vocab_size, embedding_dim)\n",
    "Text_x = embedding_layer(Text_inputs)\n",
    "\n",
    "for _ in range(num_transformer_blocks):\n",
    "    transformer_block = TransformerBlock(embedding_dim, num_heads, dff)\n",
    "    Text_x = transformer_block(Text_x)\n",
    "\n",
    "Text_x = tf.keras.layers.GlobalAveragePooling1D()(Text_x)\n",
    "Text_x = tf.keras.layers.Dropout(0.5)(Text_x)\n",
    "Text_x = tf.keras.layers.Dense(256, activation=\"relu\")(Text_x)\n",
    "# Text_attention_layer = Attention()\n",
    "# Text_a=Text_attention_layer([Text_x,Text_x])\n",
    "\n",
    "#결합 후 분류\n",
    "# x = layers.concatenate([ELMo_x,ELMo_a, Text_x,Text_a], axis=-1)\n",
    "# x = layers.concatenate([ELMo_a, Text_a], axis=-1)\n",
    "x = layers.concatenate([ELMo_x, Text_x], axis=-1)\n",
    "# x = Dropout(0.5)(x)\n",
    "output_layer = Dense(8, activation='softmax')(x)\n",
    "\n",
    "model = Model(inputs=[ELMo_input, Text_inputs], outputs=output_layer)\n",
    "\n",
    "model.compile(optimizer='adam', loss='sparse_categorical_crossentropy', metrics=['accuracy'])\n",
    "\n",
    "model.summary()"
   ]
  },
  {
   "cell_type": "markdown",
   "id": "c02f3e46",
   "metadata": {},
   "source": [
    "# 모델 학습"
   ]
  },
  {
   "cell_type": "code",
   "execution_count": 16,
   "id": "592095bd",
   "metadata": {
    "scrolled": true
   },
   "outputs": [
    {
     "name": "stdout",
     "output_type": "stream",
     "text": [
      "Epoch 1/50\n",
      "20/20 [==============================] - 3s 67ms/step - loss: 1.2184 - accuracy: 0.6504 - val_loss: 0.6582 - val_accuracy: 0.8154 - lr: 0.0010\n",
      "Epoch 2/50\n",
      "20/20 [==============================] - 1s 56ms/step - loss: 0.5055 - accuracy: 0.8444 - val_loss: 0.3894 - val_accuracy: 0.8848 - lr: 0.0010\n",
      "Epoch 3/50\n",
      "20/20 [==============================] - 1s 55ms/step - loss: 0.3133 - accuracy: 0.8987 - val_loss: 0.2877 - val_accuracy: 0.9232 - lr: 0.0010\n",
      "Epoch 4/50\n",
      "20/20 [==============================] - 1s 56ms/step - loss: 0.2033 - accuracy: 0.9346 - val_loss: 0.1998 - val_accuracy: 0.9342 - lr: 0.0010\n",
      "Epoch 5/50\n",
      "20/20 [==============================] - 1s 56ms/step - loss: 0.0995 - accuracy: 0.9680 - val_loss: 0.1343 - val_accuracy: 0.9506 - lr: 0.0010\n",
      "Epoch 6/50\n",
      "20/20 [==============================] - 1s 54ms/step - loss: 0.0357 - accuracy: 0.9876 - val_loss: 0.1521 - val_accuracy: 0.9561 - lr: 0.0010\n",
      "Epoch 7/50\n",
      "20/20 [==============================] - 1s 54ms/step - loss: 0.0184 - accuracy: 0.9939 - val_loss: 0.2059 - val_accuracy: 0.9580 - lr: 0.0010\n",
      "Epoch 8/50\n",
      "20/20 [==============================] - 1s 55ms/step - loss: 0.0127 - accuracy: 0.9959 - val_loss: 0.1803 - val_accuracy: 0.9580 - lr: 5.0000e-04\n",
      "Epoch 9/50\n",
      "20/20 [==============================] - 1s 56ms/step - loss: 0.0066 - accuracy: 0.9984 - val_loss: 0.1966 - val_accuracy: 0.9543 - lr: 5.0000e-04\n",
      "Epoch 10/50\n",
      "20/20 [==============================] - 1s 53ms/step - loss: 0.0047 - accuracy: 0.9988 - val_loss: 0.2030 - val_accuracy: 0.9598 - lr: 2.5000e-04\n",
      "Epoch 11/50\n",
      "20/20 [==============================] - 1s 54ms/step - loss: 0.0037 - accuracy: 0.9990 - val_loss: 0.2090 - val_accuracy: 0.9580 - lr: 2.5000e-04\n",
      "Epoch 12/50\n",
      "20/20 [==============================] - 1s 54ms/step - loss: 0.0039 - accuracy: 0.9988 - val_loss: 0.2113 - val_accuracy: 0.9580 - lr: 1.2500e-04\n",
      "Epoch 13/50\n",
      "20/20 [==============================] - 1s 56ms/step - loss: 0.0034 - accuracy: 0.9986 - val_loss: 0.2146 - val_accuracy: 0.9598 - lr: 1.2500e-04\n",
      "Epoch 14/50\n",
      "20/20 [==============================] - 1s 55ms/step - loss: 0.0039 - accuracy: 0.9988 - val_loss: 0.2194 - val_accuracy: 0.9598 - lr: 1.0000e-04\n",
      "Epoch 15/50\n",
      "20/20 [==============================] - 1s 54ms/step - loss: 0.0033 - accuracy: 0.9990 - val_loss: 0.2167 - val_accuracy: 0.9580 - lr: 1.0000e-04\n",
      "Epoch 16/50\n",
      "20/20 [==============================] - 1s 53ms/step - loss: 0.0034 - accuracy: 0.9988 - val_loss: 0.2154 - val_accuracy: 0.9580 - lr: 1.0000e-04\n",
      "Epoch 17/50\n",
      "20/20 [==============================] - 1s 55ms/step - loss: 0.0030 - accuracy: 0.9994 - val_loss: 0.2188 - val_accuracy: 0.9580 - lr: 1.0000e-04\n",
      "Epoch 18/50\n",
      "20/20 [==============================] - 1s 53ms/step - loss: 0.0034 - accuracy: 0.9988 - val_loss: 0.2201 - val_accuracy: 0.9580 - lr: 1.0000e-04\n",
      "Epoch 19/50\n",
      "20/20 [==============================] - 1s 55ms/step - loss: 0.0030 - accuracy: 0.9992 - val_loss: 0.2259 - val_accuracy: 0.9580 - lr: 1.0000e-04\n",
      "Epoch 20/50\n",
      "20/20 [==============================] - 1s 57ms/step - loss: 0.0029 - accuracy: 0.9994 - val_loss: 0.2228 - val_accuracy: 0.9580 - lr: 1.0000e-04\n",
      "Epoch 21/50\n",
      "20/20 [==============================] - 1s 55ms/step - loss: 0.0028 - accuracy: 0.9986 - val_loss: 0.2251 - val_accuracy: 0.9580 - lr: 1.0000e-04\n",
      "Epoch 22/50\n",
      "20/20 [==============================] - 1s 54ms/step - loss: 0.0029 - accuracy: 0.9988 - val_loss: 0.2250 - val_accuracy: 0.9580 - lr: 1.0000e-04\n",
      "Epoch 23/50\n",
      "20/20 [==============================] - 1s 56ms/step - loss: 0.0031 - accuracy: 0.9986 - val_loss: 0.2302 - val_accuracy: 0.9580 - lr: 1.0000e-04\n",
      "Epoch 24/50\n",
      "20/20 [==============================] - 1s 56ms/step - loss: 0.0035 - accuracy: 0.9992 - val_loss: 0.2265 - val_accuracy: 0.9580 - lr: 1.0000e-04\n",
      "Epoch 25/50\n",
      "20/20 [==============================] - 1s 54ms/step - loss: 0.0030 - accuracy: 0.9992 - val_loss: 0.2245 - val_accuracy: 0.9580 - lr: 1.0000e-04\n",
      "Epoch 26/50\n",
      "20/20 [==============================] - 1s 55ms/step - loss: 0.0026 - accuracy: 0.9988 - val_loss: 0.2263 - val_accuracy: 0.9580 - lr: 1.0000e-04\n",
      "Epoch 27/50\n",
      "20/20 [==============================] - 1s 55ms/step - loss: 0.0024 - accuracy: 0.9990 - val_loss: 0.2250 - val_accuracy: 0.9580 - lr: 1.0000e-04\n",
      "Epoch 28/50\n",
      "20/20 [==============================] - 1s 54ms/step - loss: 0.0020 - accuracy: 0.9992 - val_loss: 0.2244 - val_accuracy: 0.9561 - lr: 1.0000e-04\n",
      "Epoch 29/50\n",
      "20/20 [==============================] - 1s 56ms/step - loss: 0.0030 - accuracy: 0.9988 - val_loss: 0.2283 - val_accuracy: 0.9580 - lr: 1.0000e-04\n",
      "Epoch 30/50\n",
      "20/20 [==============================] - 1s 55ms/step - loss: 0.0030 - accuracy: 0.9990 - val_loss: 0.2312 - val_accuracy: 0.9580 - lr: 1.0000e-04\n",
      "Epoch 31/50\n",
      "20/20 [==============================] - 1s 55ms/step - loss: 0.0027 - accuracy: 0.9992 - val_loss: 0.2347 - val_accuracy: 0.9580 - lr: 1.0000e-04\n",
      "Epoch 32/50\n",
      "20/20 [==============================] - 1s 54ms/step - loss: 0.0024 - accuracy: 0.9996 - val_loss: 0.2373 - val_accuracy: 0.9580 - lr: 1.0000e-04\n",
      "Epoch 33/50\n",
      "20/20 [==============================] - 1s 54ms/step - loss: 0.0022 - accuracy: 0.9992 - val_loss: 0.2331 - val_accuracy: 0.9580 - lr: 1.0000e-04\n",
      "Epoch 34/50\n",
      "20/20 [==============================] - 1s 52ms/step - loss: 0.0024 - accuracy: 0.9992 - val_loss: 0.2316 - val_accuracy: 0.9543 - lr: 1.0000e-04\n",
      "Epoch 35/50\n",
      "20/20 [==============================] - 1s 53ms/step - loss: 0.0023 - accuracy: 0.9988 - val_loss: 0.2339 - val_accuracy: 0.9580 - lr: 1.0000e-04\n",
      "Epoch 36/50\n",
      "20/20 [==============================] - 1s 55ms/step - loss: 0.0021 - accuracy: 0.9994 - val_loss: 0.2361 - val_accuracy: 0.9580 - lr: 1.0000e-04\n",
      "Epoch 37/50\n",
      "20/20 [==============================] - 1s 55ms/step - loss: 0.0015 - accuracy: 0.9994 - val_loss: 0.2370 - val_accuracy: 0.9580 - lr: 1.0000e-04\n",
      "Epoch 38/50\n",
      "20/20 [==============================] - 1s 54ms/step - loss: 0.0017 - accuracy: 0.9992 - val_loss: 0.2412 - val_accuracy: 0.9580 - lr: 1.0000e-04\n",
      "Epoch 39/50\n",
      "20/20 [==============================] - 1s 54ms/step - loss: 0.0019 - accuracy: 0.9990 - val_loss: 0.2383 - val_accuracy: 0.9580 - lr: 1.0000e-04\n",
      "Epoch 40/50\n",
      "20/20 [==============================] - 1s 53ms/step - loss: 0.0024 - accuracy: 0.9994 - val_loss: 0.2363 - val_accuracy: 0.9561 - lr: 1.0000e-04\n",
      "Epoch 41/50\n",
      "20/20 [==============================] - 1s 54ms/step - loss: 0.0021 - accuracy: 0.9992 - val_loss: 0.2417 - val_accuracy: 0.9580 - lr: 1.0000e-04\n",
      "Epoch 42/50\n",
      "20/20 [==============================] - 1s 53ms/step - loss: 0.0024 - accuracy: 0.9992 - val_loss: 0.2485 - val_accuracy: 0.9561 - lr: 1.0000e-04\n",
      "Epoch 43/50\n",
      "20/20 [==============================] - 1s 53ms/step - loss: 0.0020 - accuracy: 0.9994 - val_loss: 0.2343 - val_accuracy: 0.9525 - lr: 1.0000e-04\n",
      "Epoch 44/50\n",
      "20/20 [==============================] - 1s 53ms/step - loss: 0.0028 - accuracy: 0.9990 - val_loss: 0.2419 - val_accuracy: 0.9561 - lr: 1.0000e-04\n",
      "Epoch 45/50\n",
      "20/20 [==============================] - 1s 55ms/step - loss: 0.0025 - accuracy: 0.9988 - val_loss: 0.2402 - val_accuracy: 0.9580 - lr: 1.0000e-04\n",
      "Epoch 46/50\n",
      "20/20 [==============================] - 1s 53ms/step - loss: 0.0018 - accuracy: 0.9994 - val_loss: 0.2447 - val_accuracy: 0.9580 - lr: 1.0000e-04\n",
      "Epoch 47/50\n",
      "20/20 [==============================] - 1s 55ms/step - loss: 0.0015 - accuracy: 0.9994 - val_loss: 0.2452 - val_accuracy: 0.9561 - lr: 1.0000e-04\n",
      "Epoch 48/50\n",
      "20/20 [==============================] - 1s 53ms/step - loss: 0.0020 - accuracy: 0.9992 - val_loss: 0.2431 - val_accuracy: 0.9561 - lr: 1.0000e-04\n",
      "Epoch 49/50\n",
      "20/20 [==============================] - 1s 54ms/step - loss: 0.0021 - accuracy: 0.9988 - val_loss: 0.2438 - val_accuracy: 0.9561 - lr: 1.0000e-04\n",
      "Epoch 50/50\n",
      "20/20 [==============================] - 1s 53ms/step - loss: 0.0016 - accuracy: 0.9992 - val_loss: 0.2435 - val_accuracy: 0.9543 - lr: 1.0000e-04\n"
     ]
    }
   ],
   "source": [
    "#모델 학습\n",
    "history = model.fit([textcuboid_train,text_train], y_train1,callbacks=callbacks, epochs=50,batch_size=256,validation_data=([textcuboid_val,text_val], y_val))"
   ]
  },
  {
   "cell_type": "code",
   "execution_count": 17,
   "id": "4abfefe7",
   "metadata": {
    "scrolled": true
   },
   "outputs": [
    {
     "name": "stdout",
     "output_type": "stream",
     "text": [
      "69/69 [==============================] - 0s 4ms/step - loss: 0.1473 - accuracy: 0.9689\n"
     ]
    },
    {
     "data": {
      "text/plain": [
       "[0.14726504683494568, 0.9689356088638306]"
      ]
     },
     "execution_count": 17,
     "metadata": {},
     "output_type": "execute_result"
    }
   ],
   "source": [
    "model.evaluate([textcuboid_test,text_test],y_test1)"
   ]
  },
  {
   "cell_type": "code",
   "execution_count": 22,
   "id": "8cb3598d-f889-4892-a988-5ec23974c5c0",
   "metadata": {},
   "outputs": [
    {
     "name": "stdout",
     "output_type": "stream",
     "text": [
      "69/69 [==============================] - 0s 4ms/step - loss: 0.0771 - accuracy: 0.9785\n"
     ]
    },
    {
     "data": {
      "text/plain": [
       "[0.07713154703378677, 0.9785290360450745]"
      ]
     },
     "execution_count": 22,
     "metadata": {},
     "output_type": "execute_result"
    }
   ],
   "source": [
    "custom_objects = {\"TokenAndPositionEmbedding\": TokenAndPositionEmbedding, \"TransformerBlock\": TransformerBlock}\n",
    "model = load_model('./save model/best_model_2-Channel Tensor(ELMo).h5'.format(i), custom_objects=custom_objects)\n",
    "model.evaluate([textcuboid_test,text_test],y_test)"
   ]
  },
  {
   "cell_type": "code",
   "execution_count": 23,
   "id": "80188087-07b5-4e57-9114-b8539301e788",
   "metadata": {},
   "outputs": [
    {
     "name": "stdout",
     "output_type": "stream",
     "text": [
      "69/69 [==============================] - 0s 3ms/step\n",
      "Macro_F1 스코어: 0.9451209948786785\n",
      "weighted_F1 스코어: 0.9784417821519337\n"
     ]
    }
   ],
   "source": [
    "y_pred = model.predict([textcuboid_test,text_test])\n",
    "y_pred_labels = np.argmax(y_pred, axis=1)\n",
    "macro_f1 = f1_score(y_test, y_pred_labels, average='macro')\n",
    "print(\"Macro_F1 스코어:\", macro_f1)\n",
    "weighted_f1 = f1_score(y_test, y_pred_labels, average='weighted')\n",
    "print(\"weighted_F1 스코어:\", weighted_f1)"
   ]
  },
  {
   "cell_type": "code",
   "execution_count": null,
   "id": "a6f18b7e-9bd2-4324-aad3-5f3a20059679",
   "metadata": {},
   "outputs": [],
   "source": []
  }
 ],
 "metadata": {
  "kernelspec": {
   "display_name": "Python 3 (ipykernel)",
   "language": "python",
   "name": "python3"
  },
  "language_info": {
   "codemirror_mode": {
    "name": "ipython",
    "version": 3
   },
   "file_extension": ".py",
   "mimetype": "text/x-python",
   "name": "python",
   "nbconvert_exporter": "python",
   "pygments_lexer": "ipython3",
   "version": "3.8.13"
  }
 },
 "nbformat": 4,
 "nbformat_minor": 5
}
