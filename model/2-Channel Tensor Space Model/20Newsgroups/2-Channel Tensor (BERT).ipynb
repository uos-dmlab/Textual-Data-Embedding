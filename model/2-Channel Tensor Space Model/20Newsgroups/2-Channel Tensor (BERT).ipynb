{
 "cells": [
  {
   "cell_type": "markdown",
   "id": "788fddaf-df7d-4e22-b8d6-2ab33ccafaf3",
   "metadata": {},
   "source": [
    "# 패키지 임포트"
   ]
  },
  {
   "cell_type": "code",
   "execution_count": 1,
   "id": "b3a9e367-ac39-4f77-a33a-d45f6fe473ff",
   "metadata": {},
   "outputs": [],
   "source": [
    "import random\n",
    "import pandas as pd\n",
    "import numpy as np\n",
    "import tensorflow as tf\n",
    "import nltk\n",
    "import os\n",
    "import string\n",
    "import wordninja\n",
    "import re\n",
    "import json\n",
    "import keras\n",
    "from tensorflow.keras import layers\n",
    "from tensorflow.keras.layers import Input, Conv1D, GlobalMaxPooling1D, Dense, Dropout\n",
    "from tensorflow.keras.models import Model\n",
    "from tensorflow.keras import layers\n",
    "from tensorflow.keras.layers import Attention\n",
    "from keras.models import load_model\n",
    "from tensorflow.keras.preprocessing.text import Tokenizer\n",
    "from transformer_build import  *\n",
    "from data_preprocessing import *\n",
    "from sklearn.metrics import precision_score, recall_score, f1_score\n",
    "from sklearn.model_selection import train_test_split\n",
    "from sklearn.preprocessing import LabelEncoder\n",
    "from keras.utils.np_utils import to_categorical"
   ]
  },
  {
   "cell_type": "markdown",
   "id": "6594dd54-545f-42d9-a343-d5bfc5665a92",
   "metadata": {},
   "source": [
    "# 데이터 로드"
   ]
  },
  {
   "cell_type": "code",
   "execution_count": 2,
   "id": "660f568b",
   "metadata": {},
   "outputs": [],
   "source": [
    "df_newsgroup = pd.read_csv('C:/Users/user/Desktop/bilm-tf-master/20news_dataset_clear/20newsgroup_preprocessed.csv', sep=';', usecols=['target', 'text_cleaned'])\n",
    "df_newsgroup.rename(columns={'text_cleaned' : 'text'}, inplace=True)"
   ]
  },
  {
   "cell_type": "code",
   "execution_count": null,
   "id": "2029ab79-285a-4889-b0b6-7a13669de852",
   "metadata": {},
   "outputs": [],
   "source": [
    "textcuboid=np.load('./1-Channel textcuboid_20ng(bert).npy')\n",
    "textcuboid_test=np.load('./1-Channel textcuboid_test_20ng(bert).npy')"
   ]
  },
  {
   "cell_type": "markdown",
   "id": "e11f56f8-073e-4687-8b00-a296ce9b2ee4",
   "metadata": {},
   "source": [
    "# 전처리"
   ]
  },
  {
   "cell_type": "code",
   "execution_count": 3,
   "id": "20182c08",
   "metadata": {},
   "outputs": [
    {
     "data": {
      "text/html": [
       "<style>#sk-container-id-1 {color: black;}#sk-container-id-1 pre{padding: 0;}#sk-container-id-1 div.sk-toggleable {background-color: white;}#sk-container-id-1 label.sk-toggleable__label {cursor: pointer;display: block;width: 100%;margin-bottom: 0;padding: 0.3em;box-sizing: border-box;text-align: center;}#sk-container-id-1 label.sk-toggleable__label-arrow:before {content: \"▸\";float: left;margin-right: 0.25em;color: #696969;}#sk-container-id-1 label.sk-toggleable__label-arrow:hover:before {color: black;}#sk-container-id-1 div.sk-estimator:hover label.sk-toggleable__label-arrow:before {color: black;}#sk-container-id-1 div.sk-toggleable__content {max-height: 0;max-width: 0;overflow: hidden;text-align: left;background-color: #f0f8ff;}#sk-container-id-1 div.sk-toggleable__content pre {margin: 0.2em;color: black;border-radius: 0.25em;background-color: #f0f8ff;}#sk-container-id-1 input.sk-toggleable__control:checked~div.sk-toggleable__content {max-height: 200px;max-width: 100%;overflow: auto;}#sk-container-id-1 input.sk-toggleable__control:checked~label.sk-toggleable__label-arrow:before {content: \"▾\";}#sk-container-id-1 div.sk-estimator input.sk-toggleable__control:checked~label.sk-toggleable__label {background-color: #d4ebff;}#sk-container-id-1 div.sk-label input.sk-toggleable__control:checked~label.sk-toggleable__label {background-color: #d4ebff;}#sk-container-id-1 input.sk-hidden--visually {border: 0;clip: rect(1px 1px 1px 1px);clip: rect(1px, 1px, 1px, 1px);height: 1px;margin: -1px;overflow: hidden;padding: 0;position: absolute;width: 1px;}#sk-container-id-1 div.sk-estimator {font-family: monospace;background-color: #f0f8ff;border: 1px dotted black;border-radius: 0.25em;box-sizing: border-box;margin-bottom: 0.5em;}#sk-container-id-1 div.sk-estimator:hover {background-color: #d4ebff;}#sk-container-id-1 div.sk-parallel-item::after {content: \"\";width: 100%;border-bottom: 1px solid gray;flex-grow: 1;}#sk-container-id-1 div.sk-label:hover label.sk-toggleable__label {background-color: #d4ebff;}#sk-container-id-1 div.sk-serial::before {content: \"\";position: absolute;border-left: 1px solid gray;box-sizing: border-box;top: 0;bottom: 0;left: 50%;z-index: 0;}#sk-container-id-1 div.sk-serial {display: flex;flex-direction: column;align-items: center;background-color: white;padding-right: 0.2em;padding-left: 0.2em;position: relative;}#sk-container-id-1 div.sk-item {position: relative;z-index: 1;}#sk-container-id-1 div.sk-parallel {display: flex;align-items: stretch;justify-content: center;background-color: white;position: relative;}#sk-container-id-1 div.sk-item::before, #sk-container-id-1 div.sk-parallel-item::before {content: \"\";position: absolute;border-left: 1px solid gray;box-sizing: border-box;top: 0;bottom: 0;left: 50%;z-index: -1;}#sk-container-id-1 div.sk-parallel-item {display: flex;flex-direction: column;z-index: 1;position: relative;background-color: white;}#sk-container-id-1 div.sk-parallel-item:first-child::after {align-self: flex-end;width: 50%;}#sk-container-id-1 div.sk-parallel-item:last-child::after {align-self: flex-start;width: 50%;}#sk-container-id-1 div.sk-parallel-item:only-child::after {width: 0;}#sk-container-id-1 div.sk-dashed-wrapped {border: 1px dashed gray;margin: 0 0.4em 0.5em 0.4em;box-sizing: border-box;padding-bottom: 0.4em;background-color: white;}#sk-container-id-1 div.sk-label label {font-family: monospace;font-weight: bold;display: inline-block;line-height: 1.2em;}#sk-container-id-1 div.sk-label-container {text-align: center;}#sk-container-id-1 div.sk-container {/* jupyter's `normalize.less` sets `[hidden] { display: none; }` but bootstrap.min.css set `[hidden] { display: none !important; }` so we also need the `!important` here to be able to override the default hidden behavior on the sphinx rendered scikit-learn.org. See: https://github.com/scikit-learn/scikit-learn/issues/21755 */display: inline-block !important;position: relative;}#sk-container-id-1 div.sk-text-repr-fallback {display: none;}</style><div id=\"sk-container-id-1\" class=\"sk-top-container\"><div class=\"sk-text-repr-fallback\"><pre>LabelEncoder()</pre><b>In a Jupyter environment, please rerun this cell to show the HTML representation or trust the notebook. <br />On GitHub, the HTML representation is unable to render, please try loading this page with nbviewer.org.</b></div><div class=\"sk-container\" hidden><div class=\"sk-item\"><div class=\"sk-estimator sk-toggleable\"><input class=\"sk-toggleable__control sk-hidden--visually\" id=\"sk-estimator-id-1\" type=\"checkbox\" checked><label for=\"sk-estimator-id-1\" class=\"sk-toggleable__label sk-toggleable__label-arrow\">LabelEncoder</label><div class=\"sk-toggleable__content\"><pre>LabelEncoder()</pre></div></div></div></div></div>"
      ],
      "text/plain": [
       "LabelEncoder()"
      ]
     },
     "execution_count": 3,
     "metadata": {},
     "output_type": "execute_result"
    }
   ],
   "source": [
    "le = LabelEncoder()\n",
    "le.fit(df_newsgroup['target'].unique())"
   ]
  },
  {
   "cell_type": "code",
   "execution_count": 4,
   "id": "d00d3c71",
   "metadata": {},
   "outputs": [],
   "source": [
    "df_newsgroup['target'] = le.transform(df_newsgroup['target'])"
   ]
  },
  {
   "cell_type": "code",
   "execution_count": 5,
   "id": "7aa761db",
   "metadata": {},
   "outputs": [],
   "source": [
    "X = df_newsgroup['text'].astype(str)\n",
    "y=list(df_newsgroup['target'])\n",
    "X_train, X_test, y_train, y_test = train_test_split(X, y, test_size=0.2, random_state=42, stratify=df_newsgroup['target'])"
   ]
  },
  {
   "cell_type": "code",
   "execution_count": 6,
   "id": "532b2e90",
   "metadata": {},
   "outputs": [],
   "source": [
    "x_train=list(X_train)\n",
    "x_test=list(X_test)\n",
    "\n",
    "sos_x_train=[]\n",
    "sos_x_test=[]\n",
    "for sen in x_train:\n",
    "    sos_x_train.append('<sos> '+sen)\n",
    "for sen in x_test:\n",
    "    sos_x_test.append('<sos> '+sen)\n",
    "\n",
    "all_txt=sos_x_train+sos_x_test\n",
    "\n",
    "from tensorflow.keras.preprocessing.text import Tokenizer\n",
    "tokenizer = Tokenizer()\n",
    "tokenizer.fit_on_texts(all_txt)\n",
    "\n",
    "vocab_size =len(tokenizer.word_index)+1 #1을 더해야 에러가 안터짐 토큰 영향으로 보임\n",
    "\n",
    "x_train_encoded = tokenizer.texts_to_sequences(sos_x_train)\n",
    "x_test_encoded = tokenizer.texts_to_sequences(sos_x_test)\n",
    "\n",
    "max_len = 300\n",
    "\n",
    "xtext_train = tf.keras.preprocessing.sequence.pad_sequences(x_train_encoded, maxlen=max_len)\n",
    "xtext_test = tf.keras.preprocessing.sequence.pad_sequences(x_test_encoded, maxlen=max_len)"
   ]
  },
  {
   "cell_type": "code",
   "execution_count": 7,
   "id": "509aa871",
   "metadata": {},
   "outputs": [],
   "source": [
    "one_hot_train_labels = to_categorical(y_train)\n",
    "one_hot_test_labels = to_categorical(y_test)"
   ]
  },
  {
   "cell_type": "code",
   "execution_count": null,
   "id": "9c5c4bab-d5f1-40c0-9dea-097cc5f362a5",
   "metadata": {},
   "outputs": [],
   "source": [
    "textcuboid_train=textcuboid[1000:]\n",
    "text_train=xtext_train[1000:]\n",
    "textcuboid__val=textcuboid[:1000]\n",
    "text_val=xtext_train[:1000]\n",
    "y_train=one_hot_train_labels[1000:]\n",
    "y_val=one_hot_train_labels[:1000]\n",
    "\n",
    "text_test=xtext_test\n",
    "y_test=one_hot_test_labels"
   ]
  },
  {
   "cell_type": "markdown",
   "id": "3e342cce-8675-4940-9482-a1373aff9011",
   "metadata": {},
   "source": [
    "# 모델 빌드"
   ]
  },
  {
   "cell_type": "code",
   "execution_count": 9,
   "id": "ddec5841",
   "metadata": {},
   "outputs": [
    {
     "name": "stdout",
     "output_type": "stream",
     "text": [
      "WARNING:tensorflow:`period` argument is deprecated. Please use `save_freq` to specify the frequency in number of batches seen.\n"
     ]
    }
   ],
   "source": [
    "callbacks = [\n",
    "    keras.callbacks.ModelCheckpoint(\n",
    "        \"best_model_{epoch}.h5\", save_best_only=False, period=5\n",
    "    ),\n",
    "    keras.callbacks.ReduceLROnPlateau(\n",
    "        monitor=\"val_loss\", factor=0.5, patience=2, min_lr=0.0001\n",
    "    ),\n",
    "]"
   ]
  },
  {
   "cell_type": "code",
   "execution_count": 13,
   "id": "29d4f388-abd4-49dc-b00a-cb9fba96d00f",
   "metadata": {},
   "outputs": [
    {
     "name": "stdout",
     "output_type": "stream",
     "text": [
      "Model: \"model_1\"\n",
      "__________________________________________________________________________________________________\n",
      " Layer (type)                   Output Shape         Param #     Connected to                     \n",
      "==================================================================================================\n",
      " input_4 (InputLayer)           [(None, 300)]        0           []                               \n",
      "                                                                                                  \n",
      " token_and_position_embedding_1  (None, 300, 512)    77491200    ['input_4[0][0]']                \n",
      "  (TokenAndPositionEmbedding)                                                                     \n",
      "                                                                                                  \n",
      " input_3 (InputLayer)           [(None, 155, 768)]   0           []                               \n",
      "                                                                                                  \n",
      " transformer_block_1 (Transform  (None, 300, 512)    1085984     ['token_and_position_embedding_1[\n",
      " erBlock)                                                        0][0]']                          \n",
      "                                                                                                  \n",
      " conv1d_1 (Conv1D)              (None, 155, 1024)    787456      ['input_3[0][0]']                \n",
      "                                                                                                  \n",
      " global_average_pooling1d_1 (Gl  (None, 512)         0           ['transformer_block_1[0][0]']    \n",
      " obalAveragePooling1D)                                                                            \n",
      "                                                                                                  \n",
      " global_max_pooling1d_1 (Global  (None, 1024)        0           ['conv1d_1[0][0]']               \n",
      " MaxPooling1D)                                                                                    \n",
      "                                                                                                  \n",
      " dropout_6 (Dropout)            (None, 512)          0           ['global_average_pooling1d_1[0][0\n",
      "                                                                 ]']                              \n",
      "                                                                                                  \n",
      " dense_9 (Dense)                (None, 1024)         1049600     ['global_max_pooling1d_1[0][0]'] \n",
      "                                                                                                  \n",
      " dense_16 (Dense)               (None, 256)          131328      ['dropout_6[0][0]']              \n",
      "                                                                                                  \n",
      " concatenate_1 (Concatenate)    (None, 1280)         0           ['dense_9[0][0]',                \n",
      "                                                                  'dense_16[0][0]']               \n",
      "                                                                                                  \n",
      " dropout_7 (Dropout)            (None, 1280)         0           ['concatenate_1[0][0]']          \n",
      "                                                                                                  \n",
      " dense_17 (Dense)               (None, 20)           25620       ['dropout_7[0][0]']              \n",
      "                                                                                                  \n",
      "==================================================================================================\n",
      "Total params: 80,571,188\n",
      "Trainable params: 80,571,188\n",
      "Non-trainable params: 0\n",
      "__________________________________________________________________________________________________\n"
     ]
    }
   ],
   "source": [
    "embedding_dim = 512 # 단어의 임베딩 벡터의 차원\n",
    "num_heads = 1  # 어텐션 헤드의 수\n",
    "dff = 32  # 포지션 와이즈 피드 포워드 신경망의 은닉층의 크기\n",
    "num_transformer_blocks = 1\n",
    "\n",
    "#BERT channel의 학습\n",
    "BERT_input = Input(shape=(155, 768))\n",
    "conv1 = Conv1D(1024, 1, padding='valid', activation='relu')(BERT_input)\n",
    "pooling = GlobalMaxPooling1D()(conv1)\n",
    "# pooling = Dropout(0.5)(pooling)\n",
    "BERT_x = Dense(1024, activation='relu')(pooling)\n",
    "# BERT_attention_layer = Attention()\n",
    "# BERT_a=BERT_attention_layer([BERT_x,BERT_x])\n",
    "\n",
    "#Sequence channel의 학습\n",
    "Text_inputs = Input(shape=(max_len,))\n",
    "embedding_layer = TokenAndPositionEmbedding(max_len, vocab_size, embedding_dim)\n",
    "Text_x = embedding_layer(Text_inputs)\n",
    "\n",
    "for _ in range(num_transformer_blocks):\n",
    "    transformer_block = TransformerBlock(embedding_dim, num_heads, dff)\n",
    "    Text_x = transformer_block(Text_x)\n",
    "\n",
    "Text_x = tf.keras.layers.GlobalAveragePooling1D()(Text_x)\n",
    "Text_x = tf.keras.layers.Dropout(0.5)(Text_x)\n",
    "Text_x = tf.keras.layers.Dense(256, activation=\"relu\")(Text_x)\n",
    "# Text_attention_layer = Attention()\n",
    "# Text_a=Text_attention_layer([Text_x,Text_x])\n",
    "\n",
    "#결합 후 분류\n",
    "# x = layers.concatenate([BERT_x,BERT_a, Text_x,Text_a], axis=-1)\n",
    "# x = layers.concatenate([BERT_a, Text_a], axis=-1)\n",
    "x = layers.concatenate([BERT_x, Text_x], axis=-1)\n",
    "x = Dropout(0.5)(x)\n",
    "output_layer = Dense(20, activation='softmax')(x)\n",
    "\n",
    "model = Model(inputs=[BERT_input, Text_inputs], outputs=output_layer)\n",
    "\n",
    "model.compile(optimizer='adam', loss='categorical_crossentropy', metrics=['accuracy'])\n",
    "\n",
    "model.summary()"
   ]
  },
  {
   "cell_type": "code",
   "execution_count": 18,
   "id": "5ee83159",
   "metadata": {
    "scrolled": true
   },
   "outputs": [
    {
     "name": "stdout",
     "output_type": "stream",
     "text": [
      "Epoch 1/30\n",
      "55/55 [==============================] - 27s 424ms/step - loss: 5.2759 - accuracy: 0.2617 - val_loss: 1.4819 - val_accuracy: 0.5450 - lr: 0.0010\n",
      "Epoch 2/30\n",
      "55/55 [==============================] - 22s 409ms/step - loss: 1.3935 - accuracy: 0.5581 - val_loss: 1.1043 - val_accuracy: 0.6670 - lr: 0.0010\n",
      "Epoch 3/30\n",
      "55/55 [==============================] - 23s 410ms/step - loss: 1.0499 - accuracy: 0.6663 - val_loss: 0.9705 - val_accuracy: 0.7100 - lr: 0.0010\n",
      "Epoch 4/30\n",
      "55/55 [==============================] - 22s 409ms/step - loss: 0.8157 - accuracy: 0.7463 - val_loss: 0.8846 - val_accuracy: 0.7330 - lr: 0.0010\n",
      "Epoch 5/30\n",
      "55/55 [==============================] - 23s 428ms/step - loss: 0.6461 - accuracy: 0.7983 - val_loss: 0.8071 - val_accuracy: 0.7470 - lr: 0.0010\n",
      "Epoch 6/30\n",
      "55/55 [==============================] - 22s 408ms/step - loss: 0.5205 - accuracy: 0.8378 - val_loss: 0.7643 - val_accuracy: 0.7640 - lr: 0.0010\n",
      "Epoch 7/30\n",
      "55/55 [==============================] - 23s 409ms/step - loss: 0.4053 - accuracy: 0.8752 - val_loss: 0.7696 - val_accuracy: 0.7630 - lr: 0.0010\n",
      "Epoch 8/30\n",
      "55/55 [==============================] - 22s 409ms/step - loss: 0.3205 - accuracy: 0.9027 - val_loss: 0.7347 - val_accuracy: 0.7800 - lr: 0.0010\n",
      "Epoch 9/30\n",
      "55/55 [==============================] - 22s 409ms/step - loss: 0.2523 - accuracy: 0.9222 - val_loss: 0.7271 - val_accuracy: 0.8010 - lr: 0.0010\n",
      "Epoch 10/30\n",
      "55/55 [==============================] - 23s 427ms/step - loss: 0.2018 - accuracy: 0.9385 - val_loss: 0.7449 - val_accuracy: 0.7910 - lr: 0.0010\n",
      "Epoch 11/30\n",
      "55/55 [==============================] - 22s 409ms/step - loss: 0.1685 - accuracy: 0.9477 - val_loss: 0.7382 - val_accuracy: 0.7950 - lr: 0.0010\n",
      "Epoch 12/30\n",
      "55/55 [==============================] - 23s 411ms/step - loss: 0.1104 - accuracy: 0.9701 - val_loss: 0.7651 - val_accuracy: 0.7980 - lr: 5.0000e-04\n",
      "Epoch 13/30\n",
      "55/55 [==============================] - 23s 415ms/step - loss: 0.0892 - accuracy: 0.9762 - val_loss: 0.7419 - val_accuracy: 0.8020 - lr: 5.0000e-04\n",
      "Epoch 14/30\n",
      "55/55 [==============================] - 23s 411ms/step - loss: 0.0710 - accuracy: 0.9830 - val_loss: 0.7413 - val_accuracy: 0.8070 - lr: 2.5000e-04\n",
      "Epoch 15/30\n",
      "55/55 [==============================] - 24s 430ms/step - loss: 0.0644 - accuracy: 0.9846 - val_loss: 0.7437 - val_accuracy: 0.8080 - lr: 2.5000e-04\n",
      "Epoch 16/30\n",
      "55/55 [==============================] - 23s 409ms/step - loss: 0.0563 - accuracy: 0.9871 - val_loss: 0.7419 - val_accuracy: 0.8090 - lr: 1.2500e-04\n",
      "Epoch 17/30\n",
      "55/55 [==============================] - 23s 410ms/step - loss: 0.0536 - accuracy: 0.9880 - val_loss: 0.7413 - val_accuracy: 0.8110 - lr: 1.2500e-04\n",
      "Epoch 18/30\n",
      "55/55 [==============================] - 23s 414ms/step - loss: 0.0474 - accuracy: 0.9892 - val_loss: 0.7458 - val_accuracy: 0.8080 - lr: 1.0000e-04\n",
      "Epoch 19/30\n",
      "55/55 [==============================] - 23s 417ms/step - loss: 0.0485 - accuracy: 0.9890 - val_loss: 0.7513 - val_accuracy: 0.8130 - lr: 1.0000e-04\n",
      "Epoch 20/30\n",
      "55/55 [==============================] - 23s 428ms/step - loss: 0.0455 - accuracy: 0.9896 - val_loss: 0.7567 - val_accuracy: 0.8100 - lr: 1.0000e-04\n",
      "Epoch 21/30\n",
      "55/55 [==============================] - 22s 409ms/step - loss: 0.0443 - accuracy: 0.9902 - val_loss: 0.7514 - val_accuracy: 0.8080 - lr: 1.0000e-04\n",
      "Epoch 22/30\n",
      "55/55 [==============================] - 22s 409ms/step - loss: 0.0428 - accuracy: 0.9906 - val_loss: 0.7684 - val_accuracy: 0.8110 - lr: 1.0000e-04\n",
      "Epoch 23/30\n",
      "55/55 [==============================] - 22s 409ms/step - loss: 0.0399 - accuracy: 0.9909 - val_loss: 0.7723 - val_accuracy: 0.8130 - lr: 1.0000e-04\n",
      "Epoch 24/30\n",
      "55/55 [==============================] - 23s 409ms/step - loss: 0.0388 - accuracy: 0.9919 - val_loss: 0.7648 - val_accuracy: 0.8130 - lr: 1.0000e-04\n",
      "Epoch 25/30\n",
      "55/55 [==============================] - 24s 433ms/step - loss: 0.0406 - accuracy: 0.9909 - val_loss: 0.7685 - val_accuracy: 0.8110 - lr: 1.0000e-04\n",
      "Epoch 26/30\n",
      "55/55 [==============================] - 22s 409ms/step - loss: 0.0373 - accuracy: 0.9917 - val_loss: 0.7619 - val_accuracy: 0.8150 - lr: 1.0000e-04\n",
      "Epoch 27/30\n",
      "55/55 [==============================] - 22s 408ms/step - loss: 0.0383 - accuracy: 0.9910 - val_loss: 0.7631 - val_accuracy: 0.8130 - lr: 1.0000e-04\n",
      "Epoch 28/30\n",
      "55/55 [==============================] - 22s 408ms/step - loss: 0.0370 - accuracy: 0.9914 - val_loss: 0.7791 - val_accuracy: 0.8110 - lr: 1.0000e-04\n",
      "Epoch 29/30\n",
      "55/55 [==============================] - 23s 409ms/step - loss: 0.0370 - accuracy: 0.9921 - val_loss: 0.7686 - val_accuracy: 0.8200 - lr: 1.0000e-04\n",
      "Epoch 30/30\n",
      "55/55 [==============================] - 23s 426ms/step - loss: 0.0369 - accuracy: 0.9910 - val_loss: 0.7707 - val_accuracy: 0.8150 - lr: 1.0000e-04\n"
     ]
    }
   ],
   "source": [
    "history = model.fit([textcuboid_train,text_train], y_train,callbacks=callbacks, epochs=30,batch_size=256,validation_data=([textcuboid__val,text_val], y_val))"
   ]
  },
  {
   "cell_type": "code",
   "execution_count": 19,
   "id": "0b8710f9",
   "metadata": {},
   "outputs": [
    {
     "name": "stdout",
     "output_type": "stream",
     "text": [
      "118/118 [==============================] - 3s 22ms/step - loss: 0.7534 - accuracy: 0.8128\n"
     ]
    },
    {
     "data": {
      "text/plain": [
       "[0.7534360289573669, 0.8127987384796143]"
      ]
     },
     "execution_count": 19,
     "metadata": {},
     "output_type": "execute_result"
    }
   ],
   "source": [
    "model.evaluate([textcuboid_test,text_test],y_test)"
   ]
  },
  {
   "cell_type": "code",
   "execution_count": 22,
   "id": "eb178a78",
   "metadata": {},
   "outputs": [
    {
     "name": "stdout",
     "output_type": "stream",
     "text": [
      "118/118 [==============================] - 3s 22ms/step - loss: 0.7179 - accuracy: 0.8109\n"
     ]
    },
    {
     "data": {
      "text/plain": [
       "[0.7179048657417297, 0.8109399676322937]"
      ]
     },
     "execution_count": 22,
     "metadata": {},
     "output_type": "execute_result"
    }
   ],
   "source": [
    "from keras.models import load_model\n",
    "custom_objects = {\"TokenAndPositionEmbedding\": TokenAndPositionEmbedding, \"TransformerBlock\": TransformerBlock}\n",
    "model = load_model('best_model_15.h5', custom_objects=custom_objects)\n",
    "model.evaluate([textcuboid_test,text_test],y_test)"
   ]
  },
  {
   "cell_type": "code",
   "execution_count": null,
   "id": "d9286ab2",
   "metadata": {},
   "outputs": [],
   "source": []
  }
 ],
 "metadata": {
  "kernelspec": {
   "display_name": "Python 3 (ipykernel)",
   "language": "python",
   "name": "python3"
  },
  "language_info": {
   "codemirror_mode": {
    "name": "ipython",
    "version": 3
   },
   "file_extension": ".py",
   "mimetype": "text/x-python",
   "name": "python",
   "nbconvert_exporter": "python",
   "pygments_lexer": "ipython3",
   "version": "3.8.13"
  }
 },
 "nbformat": 4,
 "nbformat_minor": 5
}
