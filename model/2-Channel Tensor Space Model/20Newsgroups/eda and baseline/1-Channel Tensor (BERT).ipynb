{
 "cells": [
  {
   "cell_type": "markdown",
   "id": "52bc3bc3-8e50-4d3d-9da0-452ca835595a",
   "metadata": {},
   "source": [
    "# 패키지 임포트"
   ]
  },
  {
   "cell_type": "code",
   "execution_count": 1,
   "id": "f3225efb-751c-4524-9b24-555834209c01",
   "metadata": {},
   "outputs": [],
   "source": [
    "import random\n",
    "import pandas as pd\n",
    "import numpy as np\n",
    "import tensorflow as tf\n",
    "import nltk\n",
    "import os\n",
    "import string\n",
    "import re\n",
    "import json\n",
    "import keras\n",
    "from tensorflow.keras import layers\n",
    "from tensorflow.keras.layers import Input, Conv1D, GlobalMaxPooling1D, Dense, Dropout\n",
    "from tensorflow.keras.models import Model\n",
    "from tensorflow.keras import layers\n",
    "from keras.models import load_model\n",
    "from keras.utils.np_utils import to_categorical\n",
    "from sklearn.preprocessing import LabelEncoder\n",
    "from sklearn.model_selection import train_test_split\n",
    "from sklearn.metrics import f1_score\n",
    "import sys\n",
    "sys.path.append('C:/Users/User/Desktop/20Newsgroups')\n",
    "from data_preprocessing import *"
   ]
  },
  {
   "cell_type": "markdown",
   "id": "8c61eba1",
   "metadata": {},
   "source": [
    "# 데이터 불러오기"
   ]
  },
  {
   "cell_type": "code",
   "execution_count": 2,
   "id": "660f568b",
   "metadata": {},
   "outputs": [],
   "source": [
    "df_newsgroup = pd.read_csv('C:/Users/user/Desktop/bilm-tf-master/20news_dataset_clear/20newsgroup_preprocessed.csv', sep=';', usecols=['target', 'text_cleaned'])\n",
    "df_newsgroup.rename(columns={'text_cleaned' : 'text'}, inplace=True)"
   ]
  },
  {
   "cell_type": "code",
   "execution_count": null,
   "id": "e5903a66-0114-4fbf-aa0a-55e32662f8de",
   "metadata": {},
   "outputs": [],
   "source": [
    "textcuboid=np.load('./1-Channel textcuboid_20ng(bert).npy')\n",
    "textcuboid_test=np.load('./1-Channel textcuboid_test_20ng(bert).npy')"
   ]
  },
  {
   "cell_type": "markdown",
   "id": "e7e45eee-447f-43b7-8088-76d2675327bd",
   "metadata": {},
   "source": [
    "# 데이터 전처리"
   ]
  },
  {
   "cell_type": "code",
   "execution_count": 3,
   "id": "20182c08",
   "metadata": {},
   "outputs": [
    {
     "data": {
      "text/html": [
       "<style>#sk-container-id-1 {color: black;}#sk-container-id-1 pre{padding: 0;}#sk-container-id-1 div.sk-toggleable {background-color: white;}#sk-container-id-1 label.sk-toggleable__label {cursor: pointer;display: block;width: 100%;margin-bottom: 0;padding: 0.3em;box-sizing: border-box;text-align: center;}#sk-container-id-1 label.sk-toggleable__label-arrow:before {content: \"▸\";float: left;margin-right: 0.25em;color: #696969;}#sk-container-id-1 label.sk-toggleable__label-arrow:hover:before {color: black;}#sk-container-id-1 div.sk-estimator:hover label.sk-toggleable__label-arrow:before {color: black;}#sk-container-id-1 div.sk-toggleable__content {max-height: 0;max-width: 0;overflow: hidden;text-align: left;background-color: #f0f8ff;}#sk-container-id-1 div.sk-toggleable__content pre {margin: 0.2em;color: black;border-radius: 0.25em;background-color: #f0f8ff;}#sk-container-id-1 input.sk-toggleable__control:checked~div.sk-toggleable__content {max-height: 200px;max-width: 100%;overflow: auto;}#sk-container-id-1 input.sk-toggleable__control:checked~label.sk-toggleable__label-arrow:before {content: \"▾\";}#sk-container-id-1 div.sk-estimator input.sk-toggleable__control:checked~label.sk-toggleable__label {background-color: #d4ebff;}#sk-container-id-1 div.sk-label input.sk-toggleable__control:checked~label.sk-toggleable__label {background-color: #d4ebff;}#sk-container-id-1 input.sk-hidden--visually {border: 0;clip: rect(1px 1px 1px 1px);clip: rect(1px, 1px, 1px, 1px);height: 1px;margin: -1px;overflow: hidden;padding: 0;position: absolute;width: 1px;}#sk-container-id-1 div.sk-estimator {font-family: monospace;background-color: #f0f8ff;border: 1px dotted black;border-radius: 0.25em;box-sizing: border-box;margin-bottom: 0.5em;}#sk-container-id-1 div.sk-estimator:hover {background-color: #d4ebff;}#sk-container-id-1 div.sk-parallel-item::after {content: \"\";width: 100%;border-bottom: 1px solid gray;flex-grow: 1;}#sk-container-id-1 div.sk-label:hover label.sk-toggleable__label {background-color: #d4ebff;}#sk-container-id-1 div.sk-serial::before {content: \"\";position: absolute;border-left: 1px solid gray;box-sizing: border-box;top: 0;bottom: 0;left: 50%;z-index: 0;}#sk-container-id-1 div.sk-serial {display: flex;flex-direction: column;align-items: center;background-color: white;padding-right: 0.2em;padding-left: 0.2em;position: relative;}#sk-container-id-1 div.sk-item {position: relative;z-index: 1;}#sk-container-id-1 div.sk-parallel {display: flex;align-items: stretch;justify-content: center;background-color: white;position: relative;}#sk-container-id-1 div.sk-item::before, #sk-container-id-1 div.sk-parallel-item::before {content: \"\";position: absolute;border-left: 1px solid gray;box-sizing: border-box;top: 0;bottom: 0;left: 50%;z-index: -1;}#sk-container-id-1 div.sk-parallel-item {display: flex;flex-direction: column;z-index: 1;position: relative;background-color: white;}#sk-container-id-1 div.sk-parallel-item:first-child::after {align-self: flex-end;width: 50%;}#sk-container-id-1 div.sk-parallel-item:last-child::after {align-self: flex-start;width: 50%;}#sk-container-id-1 div.sk-parallel-item:only-child::after {width: 0;}#sk-container-id-1 div.sk-dashed-wrapped {border: 1px dashed gray;margin: 0 0.4em 0.5em 0.4em;box-sizing: border-box;padding-bottom: 0.4em;background-color: white;}#sk-container-id-1 div.sk-label label {font-family: monospace;font-weight: bold;display: inline-block;line-height: 1.2em;}#sk-container-id-1 div.sk-label-container {text-align: center;}#sk-container-id-1 div.sk-container {/* jupyter's `normalize.less` sets `[hidden] { display: none; }` but bootstrap.min.css set `[hidden] { display: none !important; }` so we also need the `!important` here to be able to override the default hidden behavior on the sphinx rendered scikit-learn.org. See: https://github.com/scikit-learn/scikit-learn/issues/21755 */display: inline-block !important;position: relative;}#sk-container-id-1 div.sk-text-repr-fallback {display: none;}</style><div id=\"sk-container-id-1\" class=\"sk-top-container\"><div class=\"sk-text-repr-fallback\"><pre>LabelEncoder()</pre><b>In a Jupyter environment, please rerun this cell to show the HTML representation or trust the notebook. <br />On GitHub, the HTML representation is unable to render, please try loading this page with nbviewer.org.</b></div><div class=\"sk-container\" hidden><div class=\"sk-item\"><div class=\"sk-estimator sk-toggleable\"><input class=\"sk-toggleable__control sk-hidden--visually\" id=\"sk-estimator-id-1\" type=\"checkbox\" checked><label for=\"sk-estimator-id-1\" class=\"sk-toggleable__label sk-toggleable__label-arrow\">LabelEncoder</label><div class=\"sk-toggleable__content\"><pre>LabelEncoder()</pre></div></div></div></div></div>"
      ],
      "text/plain": [
       "LabelEncoder()"
      ]
     },
     "execution_count": 3,
     "metadata": {},
     "output_type": "execute_result"
    }
   ],
   "source": [
    "le = LabelEncoder()\n",
    "le.fit(df_newsgroup['target'].unique())"
   ]
  },
  {
   "cell_type": "code",
   "execution_count": 4,
   "id": "d00d3c71",
   "metadata": {},
   "outputs": [],
   "source": [
    "df_newsgroup['target'] = le.transform(df_newsgroup['target'])"
   ]
  },
  {
   "cell_type": "code",
   "execution_count": 5,
   "id": "7aa761db",
   "metadata": {},
   "outputs": [],
   "source": [
    "X = df_newsgroup['text'].astype(str)\n",
    "y=list(df_newsgroup['target'])\n",
    "X_train, X_test, y_train, y_test = train_test_split(X, y, test_size=0.2, random_state=42, stratify=df_newsgroup['target'])"
   ]
  },
  {
   "cell_type": "code",
   "execution_count": 6,
   "id": "509aa871",
   "metadata": {},
   "outputs": [],
   "source": [
    "one_hot_train_labels = to_categorical(y_train)\n",
    "one_hot_test_labels = to_categorical(y_test)"
   ]
  },
  {
   "cell_type": "code",
   "execution_count": null,
   "id": "11fda966-bb06-48b3-9d3a-6f0808de07ad",
   "metadata": {},
   "outputs": [],
   "source": [
    "x_train=textcuboid[1000:]\n",
    "x_val=textcuboid[:1000]\n",
    "y_train=one_hot_train_labels[1000:]\n",
    "y_val=one_hot_train_labels[:1000]"
   ]
  },
  {
   "cell_type": "markdown",
   "id": "68a38526-5a73-49c9-a581-344f36a61fd6",
   "metadata": {},
   "source": [
    "# 모델 빌드"
   ]
  },
  {
   "cell_type": "code",
   "execution_count": 7,
   "id": "ddec5841",
   "metadata": {},
   "outputs": [
    {
     "name": "stdout",
     "output_type": "stream",
     "text": [
      "WARNING:tensorflow:`period` argument is deprecated. Please use `save_freq` to specify the frequency in number of batches seen.\n"
     ]
    }
   ],
   "source": [
    "callbacks = [\n",
    "    keras.callbacks.ModelCheckpoint(\n",
    "        \"best_model_{epoch}.h5\", save_best_only=False, period=5\n",
    "    ),\n",
    "    keras.callbacks.ReduceLROnPlateau(\n",
    "        monitor=\"val_loss\", factor=0.5, patience=2, min_lr=0.0001\n",
    "    ),\n",
    "]"
   ]
  },
  {
   "cell_type": "code",
   "execution_count": 8,
   "id": "ce1b3b58",
   "metadata": {},
   "outputs": [],
   "source": [
    "input_layer = Input(shape=(155, 768))\n",
    "conv1 = Conv1D(512, 1, padding='valid', activation='relu')(input_layer)\n",
    "pooling = GlobalMaxPooling1D()(conv1)\n",
    "\n",
    "x = Dense(1024, activation='relu')(pooling)\n",
    "x = Dropout(0.5)(x)\n",
    "output_layer = Dense(20, activation='softmax')(x)\n",
    "\n",
    "model = Model(inputs=input_layer, outputs=output_layer)"
   ]
  },
  {
   "cell_type": "code",
   "execution_count": 9,
   "id": "de8bb000",
   "metadata": {},
   "outputs": [],
   "source": [
    "model.compile(optimizer='adam', loss='categorical_crossentropy', metrics=['accuracy'])"
   ]
  },
  {
   "cell_type": "code",
   "execution_count": 10,
   "id": "a4cb157c",
   "metadata": {},
   "outputs": [
    {
     "name": "stdout",
     "output_type": "stream",
     "text": [
      "Model: \"model\"\n",
      "_________________________________________________________________\n",
      " Layer (type)                Output Shape              Param #   \n",
      "=================================================================\n",
      " input_1 (InputLayer)        [(None, 155, 768)]        0         \n",
      "                                                                 \n",
      " conv1d (Conv1D)             (None, 155, 512)          393728    \n",
      "                                                                 \n",
      " global_max_pooling1d (Globa  (None, 512)              0         \n",
      " lMaxPooling1D)                                                  \n",
      "                                                                 \n",
      " dense (Dense)               (None, 1024)              525312    \n",
      "                                                                 \n",
      " dropout (Dropout)           (None, 1024)              0         \n",
      "                                                                 \n",
      " dense_1 (Dense)             (None, 20)                20500     \n",
      "                                                                 \n",
      "=================================================================\n",
      "Total params: 939,540\n",
      "Trainable params: 939,540\n",
      "Non-trainable params: 0\n",
      "_________________________________________________________________\n"
     ]
    }
   ],
   "source": [
    "model.summary()"
   ]
  },
  {
   "cell_type": "markdown",
   "id": "e4b194c3-f8be-4d4d-ac99-ff39c9f00aa3",
   "metadata": {},
   "source": [
    "# 모델 학습"
   ]
  },
  {
   "cell_type": "code",
   "execution_count": 15,
   "id": "e318fb62",
   "metadata": {
    "scrolled": true
   },
   "outputs": [
    {
     "name": "stdout",
     "output_type": "stream",
     "text": [
      "Epoch 1/50\n",
      "55/55 [==============================] - 3s 45ms/step - loss: 4.3070 - accuracy: 0.2587 - val_loss: 1.5028 - val_accuracy: 0.5520 - lr: 0.0010\n",
      "Epoch 2/50\n",
      "55/55 [==============================] - 2s 37ms/step - loss: 1.4443 - accuracy: 0.5349 - val_loss: 1.1703 - val_accuracy: 0.6500 - lr: 0.0010\n",
      "Epoch 3/50\n",
      "55/55 [==============================] - 2s 35ms/step - loss: 1.0919 - accuracy: 0.6553 - val_loss: 1.0171 - val_accuracy: 0.6940 - lr: 0.0010\n",
      "Epoch 4/50\n",
      "55/55 [==============================] - 2s 35ms/step - loss: 0.8685 - accuracy: 0.7283 - val_loss: 0.9405 - val_accuracy: 0.7140 - lr: 0.0010\n",
      "Epoch 5/50\n",
      "55/55 [==============================] - 2s 35ms/step - loss: 0.7107 - accuracy: 0.7766 - val_loss: 0.8598 - val_accuracy: 0.7340 - lr: 0.0010\n",
      "Epoch 6/50\n",
      "55/55 [==============================] - 2s 36ms/step - loss: 0.5709 - accuracy: 0.8215 - val_loss: 0.8103 - val_accuracy: 0.7490 - lr: 0.0010\n",
      "Epoch 7/50\n",
      "55/55 [==============================] - 2s 36ms/step - loss: 0.4611 - accuracy: 0.8554 - val_loss: 0.8366 - val_accuracy: 0.7570 - lr: 0.0010\n",
      "Epoch 8/50\n",
      "55/55 [==============================] - 2s 35ms/step - loss: 0.3658 - accuracy: 0.8873 - val_loss: 0.8143 - val_accuracy: 0.7580 - lr: 0.0010\n",
      "Epoch 9/50\n",
      "55/55 [==============================] - 2s 35ms/step - loss: 0.2574 - accuracy: 0.9208 - val_loss: 0.7994 - val_accuracy: 0.7710 - lr: 5.0000e-04\n",
      "Epoch 10/50\n",
      "55/55 [==============================] - 2s 35ms/step - loss: 0.2070 - accuracy: 0.9397 - val_loss: 0.7696 - val_accuracy: 0.7870 - lr: 5.0000e-04\n",
      "Epoch 11/50\n",
      "55/55 [==============================] - 2s 35ms/step - loss: 0.1683 - accuracy: 0.9523 - val_loss: 0.8063 - val_accuracy: 0.7780 - lr: 5.0000e-04\n",
      "Epoch 12/50\n",
      "55/55 [==============================] - 2s 35ms/step - loss: 0.1439 - accuracy: 0.9605 - val_loss: 0.7854 - val_accuracy: 0.7820 - lr: 5.0000e-04\n",
      "Epoch 13/50\n",
      "55/55 [==============================] - 2s 35ms/step - loss: 0.1158 - accuracy: 0.9696 - val_loss: 0.7860 - val_accuracy: 0.7880 - lr: 2.5000e-04\n",
      "Epoch 14/50\n",
      "55/55 [==============================] - 2s 35ms/step - loss: 0.1030 - accuracy: 0.9742 - val_loss: 0.7939 - val_accuracy: 0.7910 - lr: 2.5000e-04\n",
      "Epoch 15/50\n",
      "55/55 [==============================] - 2s 35ms/step - loss: 0.0850 - accuracy: 0.9794 - val_loss: 0.8091 - val_accuracy: 0.7930 - lr: 1.2500e-04\n",
      "Epoch 16/50\n",
      "55/55 [==============================] - 2s 34ms/step - loss: 0.0743 - accuracy: 0.9834 - val_loss: 0.8125 - val_accuracy: 0.7910 - lr: 1.2500e-04\n",
      "Epoch 17/50\n",
      "55/55 [==============================] - 2s 35ms/step - loss: 0.0758 - accuracy: 0.9818 - val_loss: 0.8090 - val_accuracy: 0.7890 - lr: 1.0000e-04\n",
      "Epoch 18/50\n",
      "55/55 [==============================] - 2s 35ms/step - loss: 0.0695 - accuracy: 0.9851 - val_loss: 0.8165 - val_accuracy: 0.7850 - lr: 1.0000e-04\n",
      "Epoch 19/50\n",
      "55/55 [==============================] - 2s 35ms/step - loss: 0.0687 - accuracy: 0.9841 - val_loss: 0.8263 - val_accuracy: 0.7850 - lr: 1.0000e-04\n",
      "Epoch 20/50\n",
      "55/55 [==============================] - 2s 35ms/step - loss: 0.0645 - accuracy: 0.9845 - val_loss: 0.8162 - val_accuracy: 0.7950 - lr: 1.0000e-04\n",
      "Epoch 21/50\n",
      "55/55 [==============================] - 2s 35ms/step - loss: 0.0632 - accuracy: 0.9868 - val_loss: 0.8292 - val_accuracy: 0.7970 - lr: 1.0000e-04\n",
      "Epoch 22/50\n",
      "55/55 [==============================] - 2s 35ms/step - loss: 0.0614 - accuracy: 0.9845 - val_loss: 0.8381 - val_accuracy: 0.7880 - lr: 1.0000e-04\n",
      "Epoch 23/50\n",
      "55/55 [==============================] - 2s 35ms/step - loss: 0.0577 - accuracy: 0.9871 - val_loss: 0.8355 - val_accuracy: 0.7840 - lr: 1.0000e-04\n",
      "Epoch 24/50\n",
      "55/55 [==============================] - 2s 35ms/step - loss: 0.0544 - accuracy: 0.9873 - val_loss: 0.8379 - val_accuracy: 0.7910 - lr: 1.0000e-04\n",
      "Epoch 25/50\n",
      "55/55 [==============================] - 2s 35ms/step - loss: 0.0544 - accuracy: 0.9877 - val_loss: 0.8415 - val_accuracy: 0.7930 - lr: 1.0000e-04\n",
      "Epoch 26/50\n",
      "55/55 [==============================] - 2s 35ms/step - loss: 0.0549 - accuracy: 0.9869 - val_loss: 0.8501 - val_accuracy: 0.7910 - lr: 1.0000e-04\n",
      "Epoch 27/50\n",
      "55/55 [==============================] - 2s 35ms/step - loss: 0.0502 - accuracy: 0.9889 - val_loss: 0.8574 - val_accuracy: 0.7980 - lr: 1.0000e-04\n",
      "Epoch 28/50\n",
      "55/55 [==============================] - 2s 35ms/step - loss: 0.0496 - accuracy: 0.9886 - val_loss: 0.8489 - val_accuracy: 0.7910 - lr: 1.0000e-04\n",
      "Epoch 29/50\n",
      "55/55 [==============================] - 2s 35ms/step - loss: 0.0470 - accuracy: 0.9898 - val_loss: 0.8549 - val_accuracy: 0.7930 - lr: 1.0000e-04\n",
      "Epoch 30/50\n",
      "55/55 [==============================] - 2s 34ms/step - loss: 0.0483 - accuracy: 0.9894 - val_loss: 0.8559 - val_accuracy: 0.7990 - lr: 1.0000e-04\n",
      "Epoch 31/50\n",
      "55/55 [==============================] - 2s 35ms/step - loss: 0.0453 - accuracy: 0.9902 - val_loss: 0.8624 - val_accuracy: 0.7950 - lr: 1.0000e-04\n",
      "Epoch 32/50\n",
      "55/55 [==============================] - 2s 35ms/step - loss: 0.0430 - accuracy: 0.9910 - val_loss: 0.8641 - val_accuracy: 0.7900 - lr: 1.0000e-04\n",
      "Epoch 33/50\n",
      "55/55 [==============================] - 2s 35ms/step - loss: 0.0442 - accuracy: 0.9898 - val_loss: 0.8638 - val_accuracy: 0.7930 - lr: 1.0000e-04\n",
      "Epoch 34/50\n",
      "55/55 [==============================] - 2s 35ms/step - loss: 0.0400 - accuracy: 0.9915 - val_loss: 0.8733 - val_accuracy: 0.7950 - lr: 1.0000e-04\n",
      "Epoch 35/50\n",
      "55/55 [==============================] - 2s 36ms/step - loss: 0.0424 - accuracy: 0.9910 - val_loss: 0.8717 - val_accuracy: 0.7930 - lr: 1.0000e-04\n",
      "Epoch 36/50\n",
      "55/55 [==============================] - 2s 35ms/step - loss: 0.0403 - accuracy: 0.9910 - val_loss: 0.8821 - val_accuracy: 0.7890 - lr: 1.0000e-04\n",
      "Epoch 37/50\n",
      "55/55 [==============================] - 2s 35ms/step - loss: 0.0369 - accuracy: 0.9926 - val_loss: 0.8848 - val_accuracy: 0.7970 - lr: 1.0000e-04\n",
      "Epoch 38/50\n",
      "55/55 [==============================] - 2s 35ms/step - loss: 0.0380 - accuracy: 0.9910 - val_loss: 0.8774 - val_accuracy: 0.8010 - lr: 1.0000e-04\n",
      "Epoch 39/50\n",
      "55/55 [==============================] - 2s 35ms/step - loss: 0.0371 - accuracy: 0.9917 - val_loss: 0.8791 - val_accuracy: 0.8020 - lr: 1.0000e-04\n",
      "Epoch 40/50\n",
      "55/55 [==============================] - 2s 35ms/step - loss: 0.0374 - accuracy: 0.9915 - val_loss: 0.8833 - val_accuracy: 0.8010 - lr: 1.0000e-04\n",
      "Epoch 41/50\n",
      "55/55 [==============================] - 2s 35ms/step - loss: 0.0351 - accuracy: 0.9919 - val_loss: 0.8910 - val_accuracy: 0.7970 - lr: 1.0000e-04\n",
      "Epoch 42/50\n",
      "55/55 [==============================] - 2s 35ms/step - loss: 0.0339 - accuracy: 0.9927 - val_loss: 0.8876 - val_accuracy: 0.8010 - lr: 1.0000e-04\n",
      "Epoch 43/50\n",
      "55/55 [==============================] - 2s 35ms/step - loss: 0.0341 - accuracy: 0.9917 - val_loss: 0.9049 - val_accuracy: 0.7970 - lr: 1.0000e-04\n",
      "Epoch 44/50\n",
      "55/55 [==============================] - 2s 35ms/step - loss: 0.0335 - accuracy: 0.9915 - val_loss: 0.9032 - val_accuracy: 0.7980 - lr: 1.0000e-04\n",
      "Epoch 45/50\n",
      "55/55 [==============================] - 2s 35ms/step - loss: 0.0314 - accuracy: 0.9929 - val_loss: 0.9005 - val_accuracy: 0.7930 - lr: 1.0000e-04\n",
      "Epoch 46/50\n",
      "55/55 [==============================] - 2s 34ms/step - loss: 0.0309 - accuracy: 0.9932 - val_loss: 0.9060 - val_accuracy: 0.7980 - lr: 1.0000e-04\n",
      "Epoch 47/50\n",
      "55/55 [==============================] - 2s 35ms/step - loss: 0.0298 - accuracy: 0.9937 - val_loss: 0.9159 - val_accuracy: 0.7970 - lr: 1.0000e-04\n",
      "Epoch 48/50\n",
      "55/55 [==============================] - 2s 35ms/step - loss: 0.0285 - accuracy: 0.9940 - val_loss: 0.9277 - val_accuracy: 0.8000 - lr: 1.0000e-04\n",
      "Epoch 49/50\n",
      "55/55 [==============================] - 2s 35ms/step - loss: 0.0293 - accuracy: 0.9940 - val_loss: 0.9179 - val_accuracy: 0.8010 - lr: 1.0000e-04\n",
      "Epoch 50/50\n",
      "55/55 [==============================] - 2s 34ms/step - loss: 0.0284 - accuracy: 0.9940 - val_loss: 0.9123 - val_accuracy: 0.8030 - lr: 1.0000e-04\n"
     ]
    }
   ],
   "source": [
    "history = model.fit(x_train, y_train,callbacks=callbacks, epochs=50,batch_size=256,validation_data=(x_val, y_val))"
   ]
  },
  {
   "cell_type": "code",
   "execution_count": 27,
   "id": "eb178a78",
   "metadata": {},
   "outputs": [
    {
     "name": "stdout",
     "output_type": "stream",
     "text": [
      "118/118 [==============================] - 1s 5ms/step - loss: 0.8410 - accuracy: 0.8062\n"
     ]
    },
    {
     "data": {
      "text/plain": [
       "[0.841046929359436, 0.8061603903770447]"
      ]
     },
     "execution_count": 27,
     "metadata": {},
     "output_type": "execute_result"
    }
   ],
   "source": [
    "from keras.models import load_model\n",
    "model = load_model('best_model_50.h5')\n",
    "model.evaluate(textcuboid_test,one_hot_test_labels)"
   ]
  },
  {
   "cell_type": "code",
   "execution_count": null,
   "id": "2775172f",
   "metadata": {},
   "outputs": [],
   "source": []
  }
 ],
 "metadata": {
  "kernelspec": {
   "display_name": "Python 3 (ipykernel)",
   "language": "python",
   "name": "python3"
  },
  "language_info": {
   "codemirror_mode": {
    "name": "ipython",
    "version": 3
   },
   "file_extension": ".py",
   "mimetype": "text/x-python",
   "name": "python",
   "nbconvert_exporter": "python",
   "pygments_lexer": "ipython3",
   "version": "3.8.13"
  }
 },
 "nbformat": 4,
 "nbformat_minor": 5
}
