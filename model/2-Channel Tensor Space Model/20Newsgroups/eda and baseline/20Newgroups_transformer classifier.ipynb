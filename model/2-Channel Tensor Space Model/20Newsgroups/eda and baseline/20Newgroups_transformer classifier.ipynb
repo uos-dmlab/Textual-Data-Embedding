{
 "cells": [
  {
   "cell_type": "markdown",
   "id": "fea0b4c7-c381-4779-96af-318e688adce1",
   "metadata": {},
   "source": [
    "# 패키지 임포트"
   ]
  },
  {
   "cell_type": "code",
   "execution_count": 1,
   "id": "993e7b7f-ab50-4ca7-be76-b711f6f5dde6",
   "metadata": {},
   "outputs": [],
   "source": [
    "import numpy as np\n",
    "import pandas as pd\n",
    "import tensorflow as tf\n",
    "from sklearn.preprocessing import LabelEncoder\n",
    "from sklearn.model_selection import train_test_split\n",
    "from tensorflow.keras.preprocessing.text import Tokenizer\n",
    "import sys\n",
    "sys.path.append('C:/Users/User/Desktop/20Newsgroups')\n",
    "from data_preprocessing import *\n",
    "from transformer_build import  *"
   ]
  },
  {
   "cell_type": "markdown",
   "id": "2fa0ef18-3ec6-4dff-9814-6a453dd49dcc",
   "metadata": {},
   "source": [
    "# 데이터 로드"
   ]
  },
  {
   "cell_type": "code",
   "execution_count": 2,
   "id": "c58e4378-1709-4e79-8d1b-12e0fc920464",
   "metadata": {},
   "outputs": [],
   "source": [
    "df_newsgroup = pd.read_csv('C:/Users/user/Desktop/bilm-tf-master/20news_dataset_clear/20newsgroup_preprocessed.csv', sep=';', usecols=['target', 'text_cleaned'])\n",
    "df_newsgroup.rename(columns={'text_cleaned' : 'text'}, inplace=True)"
   ]
  },
  {
   "cell_type": "markdown",
   "id": "9f2d0716-a094-4a61-8dae-2a96b80b3a26",
   "metadata": {},
   "source": [
    "# 전처리"
   ]
  },
  {
   "cell_type": "code",
   "execution_count": 3,
   "id": "e31898ec-878d-46ac-8c52-b37d0befcf12",
   "metadata": {},
   "outputs": [],
   "source": [
    "le = LabelEncoder()\n",
    "le.fit(df_newsgroup['target'].unique())\n",
    "\n",
    "df_newsgroup['target'] = le.transform(df_newsgroup['target'])\n",
    "\n",
    "X = df_newsgroup['text'].astype(str)\n",
    "y=list(df_newsgroup['target'])\n",
    "X_train, X_test, y_train, y_test = train_test_split(X, y, test_size=0.2, random_state=42, stratify=df_newsgroup['target'])\n",
    "\n",
    "x_train=list(X_train)\n",
    "x_test=list(X_test)\n",
    "\n",
    "sos_x_train=[]\n",
    "sos_x_test=[]\n",
    "for sen in x_train:\n",
    "    sos_x_train.append('<sos>'+sen)\n",
    "for sen in x_test:\n",
    "    sos_x_test.append('<sos>'+sen)\n",
    "\n",
    "all_txt=sos_x_train+sos_x_test\n",
    "\n",
    "tokenizer = Tokenizer()\n",
    "tokenizer.fit_on_texts(all_txt)\n",
    "\n",
    "vocab_size =len(tokenizer.word_index)\n",
    "\n",
    "x_train_encoded = tokenizer.texts_to_sequences(sos_x_train)\n",
    "x_test_encoded = tokenizer.texts_to_sequences(sos_x_test)\n",
    "\n",
    "max_len = 300\n",
    "\n",
    "x_train = tf.keras.preprocessing.sequence.pad_sequences(x_train_encoded, maxlen=max_len)\n",
    "x_test = tf.keras.preprocessing.sequence.pad_sequences(x_test_encoded, maxlen=max_len)"
   ]
  },
  {
   "cell_type": "code",
   "execution_count": 4,
   "id": "a21c2b43",
   "metadata": {},
   "outputs": [],
   "source": [
    "y_train = np.array(y_train)\n",
    "y_test = np.array(y_test)\n",
    "\n",
    "x_val=x_train[:1000]\n",
    "x_train=x_train[1000:]\n",
    "y_val=y_train[:1000]\n",
    "y_train=y_train[1000:]"
   ]
  },
  {
   "cell_type": "markdown",
   "id": "04402918-7f66-4c56-bf35-10a143dec050",
   "metadata": {},
   "source": [
    "# 모델 빌드"
   ]
  },
  {
   "cell_type": "code",
   "execution_count": 5,
   "id": "869fcb59",
   "metadata": {},
   "outputs": [
    {
     "name": "stdout",
     "output_type": "stream",
     "text": [
      "WARNING:tensorflow:`period` argument is deprecated. Please use `save_freq` to specify the frequency in number of batches seen.\n"
     ]
    }
   ],
   "source": [
    "callbacks = [\n",
    "    keras.callbacks.ModelCheckpoint(\n",
    "        \"best_model_{epoch}.h5\", save_best_only=False, period=5\n",
    "    ),\n",
    "    keras.callbacks.ReduceLROnPlateau(\n",
    "        monitor=\"val_loss\", factor=0.5, patience=2, min_lr=0.0001\n",
    "    ),\n",
    "]"
   ]
  },
  {
   "cell_type": "code",
   "execution_count": 6,
   "id": "82fcc048",
   "metadata": {},
   "outputs": [
    {
     "name": "stdout",
     "output_type": "stream",
     "text": [
      "Model: \"model\"\n",
      "_________________________________________________________________\n",
      " Layer (type)                Output Shape              Param #   \n",
      "=================================================================\n",
      " input_1 (InputLayer)        [(None, 300)]             0         \n",
      "                                                                 \n",
      " token_and_position_embeddin  (None, 300, 256)         38745344  \n",
      " g (TokenAndPositionEmbeddin                                     \n",
      " g)                                                              \n",
      "                                                                 \n",
      " transformer_block (Transfor  (None, 300, 256)         280864    \n",
      " merBlock)                                                       \n",
      "                                                                 \n",
      " global_average_pooling1d (G  (None, 256)              0         \n",
      " lobalAveragePooling1D)                                          \n",
      "                                                                 \n",
      " dropout_2 (Dropout)         (None, 256)               0         \n",
      "                                                                 \n",
      " dense_6 (Dense)             (None, 256)               65792     \n",
      "                                                                 \n",
      " dropout_3 (Dropout)         (None, 256)               0         \n",
      "                                                                 \n",
      " dense_7 (Dense)             (None, 20)                5140      \n",
      "                                                                 \n",
      "=================================================================\n",
      "Total params: 39,097,140\n",
      "Trainable params: 39,097,140\n",
      "Non-trainable params: 0\n",
      "_________________________________________________________________\n"
     ]
    }
   ],
   "source": [
    "embedding_dim = 256  # 각 단어의 임베딩 벡터의 차원\n",
    "num_heads = 1  # 어텐션 헤드의 수\n",
    "dff = 32  # 포지션 와이즈 피드 포워드 신경망의 은닉층의 크기\n",
    "num_transformer_blocks = 1\n",
    "\n",
    "inputs = tf.keras.layers.Input(shape=(max_len,))\n",
    "embedding_layer = TokenAndPositionEmbedding(max_len, vocab_size, embedding_dim)\n",
    "x = embedding_layer(inputs)\n",
    "\n",
    "for _ in range(num_transformer_blocks):\n",
    "    transformer_block = TransformerBlock(embedding_dim, num_heads, dff)\n",
    "    x = transformer_block(x)\n",
    "\n",
    "# transformer_block = TransformerBlock(embedding_dim, num_heads, dff)\n",
    "# x = transformer_block(x)\n",
    "x = tf.keras.layers.GlobalAveragePooling1D()(x)\n",
    "x = tf.keras.layers.Dropout(0.5)(x)\n",
    "x = tf.keras.layers.Dense(256, activation=\"relu\")(x)\n",
    "x = tf.keras.layers.Dropout(0.5)(x)\n",
    "outputs = tf.keras.layers.Dense(20, activation=\"softmax\")(x)\n",
    "\n",
    "model = tf.keras.Model(inputs=inputs, outputs=outputs)\n",
    "\n",
    "\n",
    "model.summary()"
   ]
  },
  {
   "cell_type": "markdown",
   "id": "122bc269-a973-4866-ab81-ab70abf0de2d",
   "metadata": {},
   "source": [
    "# 모델 학습"
   ]
  },
  {
   "cell_type": "code",
   "execution_count": null,
   "id": "e061a58a",
   "metadata": {
    "scrolled": true
   },
   "outputs": [
    {
     "name": "stdout",
     "output_type": "stream",
     "text": [
      "Epoch 1/50\n",
      "55/55 [==============================] - 4s 42ms/step - loss: 3.0007 - accuracy: 0.0855 - val_loss: 2.6530 - val_accuracy: 0.2700 - lr: 0.0010\n",
      "Epoch 2/50\n",
      "55/55 [==============================] - 2s 38ms/step - loss: 1.4547 - accuracy: 0.5545 - val_loss: 0.6715 - val_accuracy: 0.8100 - lr: 0.0010\n",
      "Epoch 3/50\n",
      "23/55 [===========>..................] - ETA: 1s - loss: 0.4223 - accuracy: 0.8818"
     ]
    }
   ],
   "source": [
    "model.compile(\"adam\", \"sparse_categorical_crossentropy\", metrics=[\"accuracy\"])\n",
    "history = model.fit(x_train, y_train, batch_size=256, callbacks=callbacks,epochs=50, validation_data=(x_val, y_val))\n",
    "\n",
    "print(\"테스트 정확도: %.4f\" % (model.evaluate(x_test, y_test)[1]))"
   ]
  },
  {
   "cell_type": "code",
   "execution_count": 14,
   "id": "81a5674f",
   "metadata": {},
   "outputs": [
    {
     "name": "stdout",
     "output_type": "stream",
     "text": [
      "118/118 [==============================] - 1s 7ms/step - loss: 0.8070 - accuracy: 0.8715\n"
     ]
    },
    {
     "data": {
      "text/plain": [
       "[0.8069727420806885, 0.8714816570281982]"
      ]
     },
     "execution_count": 14,
     "metadata": {},
     "output_type": "execute_result"
    }
   ],
   "source": [
    "from keras.models import load_model\n",
    "custom_objects = {\"TokenAndPositionEmbedding\": TokenAndPositionEmbedding, \"TransformerBlock\": TransformerBlock}\n",
    "model = load_model('best_model_45.h5', custom_objects=custom_objects)\n",
    "model.evaluate(x_test, y_test)"
   ]
  },
  {
   "cell_type": "code",
   "execution_count": null,
   "id": "28a8369e",
   "metadata": {},
   "outputs": [],
   "source": []
  },
  {
   "cell_type": "code",
   "execution_count": null,
   "id": "419269eb",
   "metadata": {},
   "outputs": [],
   "source": []
  }
 ],
 "metadata": {
  "kernelspec": {
   "display_name": "Python 3 (ipykernel)",
   "language": "python",
   "name": "python3"
  },
  "language_info": {
   "codemirror_mode": {
    "name": "ipython",
    "version": 3
   },
   "file_extension": ".py",
   "mimetype": "text/x-python",
   "name": "python",
   "nbconvert_exporter": "python",
   "pygments_lexer": "ipython3",
   "version": "3.8.13"
  }
 },
 "nbformat": 4,
 "nbformat_minor": 5
}
