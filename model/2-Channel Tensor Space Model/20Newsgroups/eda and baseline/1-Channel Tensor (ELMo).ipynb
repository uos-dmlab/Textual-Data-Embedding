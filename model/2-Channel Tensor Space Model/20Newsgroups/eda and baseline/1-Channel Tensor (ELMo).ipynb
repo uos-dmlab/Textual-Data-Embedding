{
 "cells": [
  {
   "cell_type": "markdown",
   "id": "f56b0aab-d16c-4486-a4ca-946f4a4ce409",
   "metadata": {},
   "source": [
    "# 패키지 임포트"
   ]
  },
  {
   "cell_type": "code",
   "execution_count": 6,
   "id": "6e09be3d-9b16-4765-8e6e-d15fbcb78463",
   "metadata": {},
   "outputs": [],
   "source": [
    "import random\n",
    "import pandas as pd\n",
    "import numpy as np\n",
    "import tensorflow as tf\n",
    "import nltk\n",
    "import os\n",
    "import string\n",
    "import re\n",
    "import json\n",
    "import keras\n",
    "from tensorflow.keras import layers\n",
    "from tensorflow.keras.layers import Input, Conv1D, GlobalMaxPooling1D, Dense, Dropout\n",
    "from tensorflow.keras.models import Model\n",
    "from tensorflow.keras import layers\n",
    "from keras.models import load_model\n",
    "from sklearn.preprocessing import LabelEncoder\n",
    "from keras.utils.np_utils import to_categorical\n",
    "from sklearn.model_selection import train_test_split\n",
    "from sklearn.metrics import f1_score\n",
    "import sys\n",
    "sys.path.append('C:/Users/User/Desktop/20Newsgroups')\n",
    "from data_preprocessing import *"
   ]
  },
  {
   "cell_type": "markdown",
   "id": "8c61eba1",
   "metadata": {},
   "source": [
    "# 데이터 로드"
   ]
  },
  {
   "cell_type": "code",
   "execution_count": 2,
   "id": "660f568b",
   "metadata": {},
   "outputs": [],
   "source": [
    "df_newsgroup = pd.read_csv('C:/Users/user/Desktop/bilm-tf-master/20news_dataset_clear/20newsgroup_preprocessed.csv', sep=';', usecols=['target', 'text_cleaned'])\n",
    "df_newsgroup.rename(columns={'text_cleaned' : 'text'}, inplace=True)"
   ]
  },
  {
   "cell_type": "code",
   "execution_count": null,
   "id": "ff50489d-0444-4760-be13-17eec44276ea",
   "metadata": {},
   "outputs": [],
   "source": [
    "textcuboid=np.load('./1-Channel textcuboid_20ng(elmo).npy')\n",
    "textcuboid_test=np.load('./1-Channel textcuboid_test_20ng(elmo).npy')"
   ]
  },
  {
   "cell_type": "markdown",
   "id": "9ee26907-0179-465b-804e-0500ff7dd84e",
   "metadata": {},
   "source": [
    "# 데이터 전처리"
   ]
  },
  {
   "cell_type": "code",
   "execution_count": 3,
   "id": "20182c08",
   "metadata": {},
   "outputs": [
    {
     "data": {
      "text/html": [
       "<style>#sk-container-id-1 {color: black;}#sk-container-id-1 pre{padding: 0;}#sk-container-id-1 div.sk-toggleable {background-color: white;}#sk-container-id-1 label.sk-toggleable__label {cursor: pointer;display: block;width: 100%;margin-bottom: 0;padding: 0.3em;box-sizing: border-box;text-align: center;}#sk-container-id-1 label.sk-toggleable__label-arrow:before {content: \"▸\";float: left;margin-right: 0.25em;color: #696969;}#sk-container-id-1 label.sk-toggleable__label-arrow:hover:before {color: black;}#sk-container-id-1 div.sk-estimator:hover label.sk-toggleable__label-arrow:before {color: black;}#sk-container-id-1 div.sk-toggleable__content {max-height: 0;max-width: 0;overflow: hidden;text-align: left;background-color: #f0f8ff;}#sk-container-id-1 div.sk-toggleable__content pre {margin: 0.2em;color: black;border-radius: 0.25em;background-color: #f0f8ff;}#sk-container-id-1 input.sk-toggleable__control:checked~div.sk-toggleable__content {max-height: 200px;max-width: 100%;overflow: auto;}#sk-container-id-1 input.sk-toggleable__control:checked~label.sk-toggleable__label-arrow:before {content: \"▾\";}#sk-container-id-1 div.sk-estimator input.sk-toggleable__control:checked~label.sk-toggleable__label {background-color: #d4ebff;}#sk-container-id-1 div.sk-label input.sk-toggleable__control:checked~label.sk-toggleable__label {background-color: #d4ebff;}#sk-container-id-1 input.sk-hidden--visually {border: 0;clip: rect(1px 1px 1px 1px);clip: rect(1px, 1px, 1px, 1px);height: 1px;margin: -1px;overflow: hidden;padding: 0;position: absolute;width: 1px;}#sk-container-id-1 div.sk-estimator {font-family: monospace;background-color: #f0f8ff;border: 1px dotted black;border-radius: 0.25em;box-sizing: border-box;margin-bottom: 0.5em;}#sk-container-id-1 div.sk-estimator:hover {background-color: #d4ebff;}#sk-container-id-1 div.sk-parallel-item::after {content: \"\";width: 100%;border-bottom: 1px solid gray;flex-grow: 1;}#sk-container-id-1 div.sk-label:hover label.sk-toggleable__label {background-color: #d4ebff;}#sk-container-id-1 div.sk-serial::before {content: \"\";position: absolute;border-left: 1px solid gray;box-sizing: border-box;top: 0;bottom: 0;left: 50%;z-index: 0;}#sk-container-id-1 div.sk-serial {display: flex;flex-direction: column;align-items: center;background-color: white;padding-right: 0.2em;padding-left: 0.2em;position: relative;}#sk-container-id-1 div.sk-item {position: relative;z-index: 1;}#sk-container-id-1 div.sk-parallel {display: flex;align-items: stretch;justify-content: center;background-color: white;position: relative;}#sk-container-id-1 div.sk-item::before, #sk-container-id-1 div.sk-parallel-item::before {content: \"\";position: absolute;border-left: 1px solid gray;box-sizing: border-box;top: 0;bottom: 0;left: 50%;z-index: -1;}#sk-container-id-1 div.sk-parallel-item {display: flex;flex-direction: column;z-index: 1;position: relative;background-color: white;}#sk-container-id-1 div.sk-parallel-item:first-child::after {align-self: flex-end;width: 50%;}#sk-container-id-1 div.sk-parallel-item:last-child::after {align-self: flex-start;width: 50%;}#sk-container-id-1 div.sk-parallel-item:only-child::after {width: 0;}#sk-container-id-1 div.sk-dashed-wrapped {border: 1px dashed gray;margin: 0 0.4em 0.5em 0.4em;box-sizing: border-box;padding-bottom: 0.4em;background-color: white;}#sk-container-id-1 div.sk-label label {font-family: monospace;font-weight: bold;display: inline-block;line-height: 1.2em;}#sk-container-id-1 div.sk-label-container {text-align: center;}#sk-container-id-1 div.sk-container {/* jupyter's `normalize.less` sets `[hidden] { display: none; }` but bootstrap.min.css set `[hidden] { display: none !important; }` so we also need the `!important` here to be able to override the default hidden behavior on the sphinx rendered scikit-learn.org. See: https://github.com/scikit-learn/scikit-learn/issues/21755 */display: inline-block !important;position: relative;}#sk-container-id-1 div.sk-text-repr-fallback {display: none;}</style><div id=\"sk-container-id-1\" class=\"sk-top-container\"><div class=\"sk-text-repr-fallback\"><pre>LabelEncoder()</pre><b>In a Jupyter environment, please rerun this cell to show the HTML representation or trust the notebook. <br />On GitHub, the HTML representation is unable to render, please try loading this page with nbviewer.org.</b></div><div class=\"sk-container\" hidden><div class=\"sk-item\"><div class=\"sk-estimator sk-toggleable\"><input class=\"sk-toggleable__control sk-hidden--visually\" id=\"sk-estimator-id-1\" type=\"checkbox\" checked><label for=\"sk-estimator-id-1\" class=\"sk-toggleable__label sk-toggleable__label-arrow\">LabelEncoder</label><div class=\"sk-toggleable__content\"><pre>LabelEncoder()</pre></div></div></div></div></div>"
      ],
      "text/plain": [
       "LabelEncoder()"
      ]
     },
     "execution_count": 3,
     "metadata": {},
     "output_type": "execute_result"
    }
   ],
   "source": [
    "le = LabelEncoder()\n",
    "le.fit(df_newsgroup['target'].unique())"
   ]
  },
  {
   "cell_type": "code",
   "execution_count": 4,
   "id": "d00d3c71",
   "metadata": {},
   "outputs": [],
   "source": [
    "df_newsgroup['target'] = le.transform(df_newsgroup['target'])"
   ]
  },
  {
   "cell_type": "code",
   "execution_count": 7,
   "id": "7aa761db",
   "metadata": {},
   "outputs": [],
   "source": [
    "X = df_newsgroup['text'].astype(str)\n",
    "y=list(df_newsgroup['target'])\n",
    "X_train, X_test, y_train, y_test = train_test_split(X, y, test_size=0.2, random_state=42, stratify=df_newsgroup['target'])"
   ]
  },
  {
   "cell_type": "code",
   "execution_count": 8,
   "id": "509aa871",
   "metadata": {},
   "outputs": [],
   "source": [
    "one_hot_train_labels = to_categorical(y_train)\n",
    "one_hot_test_labels = to_categorical(y_test)"
   ]
  },
  {
   "cell_type": "code",
   "execution_count": null,
   "id": "b9027033-6928-4322-813b-3e65c50c02bd",
   "metadata": {},
   "outputs": [],
   "source": [
    "x_train=textcuboid[1000:]\n",
    "x_val=textcuboid[:1000]\n",
    "y_train=one_hot_train_labels[1000:]\n",
    "y_val=one_hot_train_labels[:1000]"
   ]
  },
  {
   "cell_type": "markdown",
   "id": "d6791c0b-061f-4225-a1c8-78a6b6db096d",
   "metadata": {},
   "source": [
    "# 모델 빌드"
   ]
  },
  {
   "cell_type": "code",
   "execution_count": 9,
   "id": "ddec5841",
   "metadata": {},
   "outputs": [
    {
     "name": "stdout",
     "output_type": "stream",
     "text": [
      "WARNING:tensorflow:`period` argument is deprecated. Please use `save_freq` to specify the frequency in number of batches seen.\n"
     ]
    }
   ],
   "source": [
    "callbacks = [\n",
    "    keras.callbacks.ModelCheckpoint(\n",
    "        \"best_model_{epoch}.h5\", save_best_only=False, period=5\n",
    "    ),\n",
    "    keras.callbacks.ReduceLROnPlateau(\n",
    "        monitor=\"val_loss\", factor=0.5, patience=2, min_lr=0.0001\n",
    "    ),\n",
    "]"
   ]
  },
  {
   "cell_type": "code",
   "execution_count": 10,
   "id": "ce1b3b58",
   "metadata": {},
   "outputs": [],
   "source": [
    "input_layer = Input(shape=(952, 256))\n",
    "conv1 = Conv1D(256, 1, padding='valid', activation='relu')(input_layer)\n",
    "pooling = GlobalMaxPooling1D()(conv1)\n",
    "\n",
    "x = Dense(256, activation='relu')(pooling)\n",
    "x = Dropout(0.5)(x)\n",
    "output_layer = Dense(20, activation='softmax')(x)\n",
    "\n",
    "model = Model(inputs=input_layer, outputs=output_layer)"
   ]
  },
  {
   "cell_type": "code",
   "execution_count": 11,
   "id": "de8bb000",
   "metadata": {},
   "outputs": [],
   "source": [
    "model.compile(optimizer='adam', loss='categorical_crossentropy', metrics=['accuracy'])"
   ]
  },
  {
   "cell_type": "code",
   "execution_count": 12,
   "id": "a4cb157c",
   "metadata": {},
   "outputs": [
    {
     "name": "stdout",
     "output_type": "stream",
     "text": [
      "Model: \"model\"\n",
      "_________________________________________________________________\n",
      " Layer (type)                Output Shape              Param #   \n",
      "=================================================================\n",
      " input_1 (InputLayer)        [(None, 952, 256)]        0         \n",
      "                                                                 \n",
      " conv1d (Conv1D)             (None, 952, 256)          65792     \n",
      "                                                                 \n",
      " global_max_pooling1d (Globa  (None, 256)              0         \n",
      " lMaxPooling1D)                                                  \n",
      "                                                                 \n",
      " dense (Dense)               (None, 256)               65792     \n",
      "                                                                 \n",
      " dropout (Dropout)           (None, 256)               0         \n",
      "                                                                 \n",
      " dense_1 (Dense)             (None, 20)                5140      \n",
      "                                                                 \n",
      "=================================================================\n",
      "Total params: 136,724\n",
      "Trainable params: 136,724\n",
      "Non-trainable params: 0\n",
      "_________________________________________________________________\n"
     ]
    }
   ],
   "source": [
    "model.summary()"
   ]
  },
  {
   "cell_type": "markdown",
   "id": "b8e6ddd8-4db8-4801-a0e5-b9ddbda90b6b",
   "metadata": {},
   "source": [
    "# 모델 학습"
   ]
  },
  {
   "cell_type": "code",
   "execution_count": 15,
   "id": "f62c0713",
   "metadata": {
    "scrolled": true
   },
   "outputs": [
    {
     "name": "stdout",
     "output_type": "stream",
     "text": [
      "Epoch 1/50\n",
      "55/55 [==============================] - 6s 89ms/step - loss: 2.3059 - accuracy: 0.3348 - val_loss: 1.1695 - val_accuracy: 0.6580 - lr: 0.0010\n",
      "Epoch 2/50\n",
      "55/55 [==============================] - 4s 73ms/step - loss: 1.1341 - accuracy: 0.6348 - val_loss: 0.8475 - val_accuracy: 0.7350 - lr: 0.0010\n",
      "Epoch 3/50\n",
      "55/55 [==============================] - 4s 71ms/step - loss: 0.8821 - accuracy: 0.7148 - val_loss: 0.7388 - val_accuracy: 0.7740 - lr: 0.0010\n",
      "Epoch 4/50\n",
      "55/55 [==============================] - 4s 70ms/step - loss: 0.7524 - accuracy: 0.7549 - val_loss: 0.6983 - val_accuracy: 0.7870 - lr: 0.0010\n",
      "Epoch 5/50\n",
      "55/55 [==============================] - 4s 72ms/step - loss: 0.6785 - accuracy: 0.7834 - val_loss: 0.6559 - val_accuracy: 0.7900 - lr: 0.0010\n",
      "Epoch 6/50\n",
      "55/55 [==============================] - 4s 70ms/step - loss: 0.6094 - accuracy: 0.8030 - val_loss: 0.6501 - val_accuracy: 0.7910 - lr: 0.0010\n",
      "Epoch 7/50\n",
      "55/55 [==============================] - 4s 70ms/step - loss: 0.5645 - accuracy: 0.8182 - val_loss: 0.6270 - val_accuracy: 0.7960 - lr: 0.0010\n",
      "Epoch 8/50\n",
      "55/55 [==============================] - 4s 70ms/step - loss: 0.5073 - accuracy: 0.8370 - val_loss: 0.6124 - val_accuracy: 0.8000 - lr: 0.0010\n",
      "Epoch 9/50\n",
      "55/55 [==============================] - 4s 70ms/step - loss: 0.4725 - accuracy: 0.8449 - val_loss: 0.6022 - val_accuracy: 0.8100 - lr: 0.0010\n",
      "Epoch 10/50\n",
      "55/55 [==============================] - 4s 70ms/step - loss: 0.4319 - accuracy: 0.8593 - val_loss: 0.5906 - val_accuracy: 0.8090 - lr: 0.0010\n",
      "Epoch 11/50\n",
      "55/55 [==============================] - 4s 70ms/step - loss: 0.4048 - accuracy: 0.8687 - val_loss: 0.5874 - val_accuracy: 0.8120 - lr: 0.0010\n",
      "Epoch 12/50\n",
      "55/55 [==============================] - 4s 70ms/step - loss: 0.3625 - accuracy: 0.8821 - val_loss: 0.5744 - val_accuracy: 0.8190 - lr: 0.0010\n",
      "Epoch 13/50\n",
      "55/55 [==============================] - 4s 69ms/step - loss: 0.3333 - accuracy: 0.8943 - val_loss: 0.5648 - val_accuracy: 0.8220 - lr: 0.0010\n",
      "Epoch 14/50\n",
      "55/55 [==============================] - 4s 70ms/step - loss: 0.3101 - accuracy: 0.9011 - val_loss: 0.5775 - val_accuracy: 0.8120 - lr: 0.0010\n",
      "Epoch 15/50\n",
      "55/55 [==============================] - 4s 70ms/step - loss: 0.2812 - accuracy: 0.9095 - val_loss: 0.5637 - val_accuracy: 0.8260 - lr: 0.0010\n",
      "Epoch 16/50\n",
      "55/55 [==============================] - 4s 69ms/step - loss: 0.2585 - accuracy: 0.9172 - val_loss: 0.5699 - val_accuracy: 0.8140 - lr: 0.0010\n",
      "Epoch 17/50\n",
      "55/55 [==============================] - 4s 69ms/step - loss: 0.2297 - accuracy: 0.9283 - val_loss: 0.5766 - val_accuracy: 0.8320 - lr: 0.0010\n",
      "Epoch 18/50\n",
      "55/55 [==============================] - 4s 71ms/step - loss: 0.1991 - accuracy: 0.9406 - val_loss: 0.5781 - val_accuracy: 0.8310 - lr: 5.0000e-04\n",
      "Epoch 19/50\n",
      "55/55 [==============================] - 4s 70ms/step - loss: 0.1813 - accuracy: 0.9457 - val_loss: 0.5743 - val_accuracy: 0.8260 - lr: 5.0000e-04\n",
      "Epoch 20/50\n",
      "55/55 [==============================] - 4s 70ms/step - loss: 0.1636 - accuracy: 0.9535 - val_loss: 0.5665 - val_accuracy: 0.8340 - lr: 2.5000e-04\n",
      "Epoch 21/50\n",
      "55/55 [==============================] - 4s 70ms/step - loss: 0.1584 - accuracy: 0.9539 - val_loss: 0.5688 - val_accuracy: 0.8280 - lr: 2.5000e-04\n",
      "Epoch 22/50\n",
      "55/55 [==============================] - 4s 69ms/step - loss: 0.1475 - accuracy: 0.9593 - val_loss: 0.5672 - val_accuracy: 0.8280 - lr: 1.2500e-04\n",
      "Epoch 23/50\n",
      "55/55 [==============================] - 4s 69ms/step - loss: 0.1458 - accuracy: 0.9572 - val_loss: 0.5697 - val_accuracy: 0.8330 - lr: 1.2500e-04\n",
      "Epoch 24/50\n",
      "55/55 [==============================] - 4s 70ms/step - loss: 0.1389 - accuracy: 0.9617 - val_loss: 0.5684 - val_accuracy: 0.8350 - lr: 1.0000e-04\n",
      "Epoch 25/50\n",
      "55/55 [==============================] - 4s 71ms/step - loss: 0.1404 - accuracy: 0.9604 - val_loss: 0.5755 - val_accuracy: 0.8300 - lr: 1.0000e-04\n",
      "Epoch 26/50\n",
      "55/55 [==============================] - 4s 70ms/step - loss: 0.1370 - accuracy: 0.9612 - val_loss: 0.5747 - val_accuracy: 0.8340 - lr: 1.0000e-04\n",
      "Epoch 27/50\n",
      "55/55 [==============================] - 4s 70ms/step - loss: 0.1326 - accuracy: 0.9624 - val_loss: 0.5736 - val_accuracy: 0.8310 - lr: 1.0000e-04\n",
      "Epoch 28/50\n",
      "55/55 [==============================] - 4s 69ms/step - loss: 0.1320 - accuracy: 0.9634 - val_loss: 0.5756 - val_accuracy: 0.8350 - lr: 1.0000e-04\n",
      "Epoch 29/50\n",
      "55/55 [==============================] - 4s 69ms/step - loss: 0.1362 - accuracy: 0.9617 - val_loss: 0.5752 - val_accuracy: 0.8310 - lr: 1.0000e-04\n",
      "Epoch 30/50\n",
      "55/55 [==============================] - 4s 70ms/step - loss: 0.1275 - accuracy: 0.9646 - val_loss: 0.5717 - val_accuracy: 0.8370 - lr: 1.0000e-04\n",
      "Epoch 31/50\n",
      "55/55 [==============================] - 4s 70ms/step - loss: 0.1269 - accuracy: 0.9651 - val_loss: 0.5730 - val_accuracy: 0.8380 - lr: 1.0000e-04\n",
      "Epoch 32/50\n",
      "55/55 [==============================] - 4s 70ms/step - loss: 0.1239 - accuracy: 0.9657 - val_loss: 0.5718 - val_accuracy: 0.8370 - lr: 1.0000e-04\n",
      "Epoch 33/50\n",
      "55/55 [==============================] - 4s 70ms/step - loss: 0.1226 - accuracy: 0.9664 - val_loss: 0.5757 - val_accuracy: 0.8370 - lr: 1.0000e-04\n",
      "Epoch 34/50\n",
      "55/55 [==============================] - 4s 69ms/step - loss: 0.1222 - accuracy: 0.9670 - val_loss: 0.5782 - val_accuracy: 0.8350 - lr: 1.0000e-04\n",
      "Epoch 35/50\n",
      "55/55 [==============================] - 4s 70ms/step - loss: 0.1202 - accuracy: 0.9668 - val_loss: 0.5790 - val_accuracy: 0.8330 - lr: 1.0000e-04\n",
      "Epoch 36/50\n",
      "55/55 [==============================] - 4s 70ms/step - loss: 0.1192 - accuracy: 0.9683 - val_loss: 0.5783 - val_accuracy: 0.8340 - lr: 1.0000e-04\n",
      "Epoch 37/50\n",
      "55/55 [==============================] - 4s 70ms/step - loss: 0.1147 - accuracy: 0.9700 - val_loss: 0.5798 - val_accuracy: 0.8320 - lr: 1.0000e-04\n",
      "Epoch 38/50\n",
      "55/55 [==============================] - 4s 70ms/step - loss: 0.1131 - accuracy: 0.9703 - val_loss: 0.5858 - val_accuracy: 0.8310 - lr: 1.0000e-04\n",
      "Epoch 39/50\n",
      "55/55 [==============================] - 4s 70ms/step - loss: 0.1093 - accuracy: 0.9708 - val_loss: 0.5820 - val_accuracy: 0.8370 - lr: 1.0000e-04\n",
      "Epoch 40/50\n",
      "55/55 [==============================] - 4s 69ms/step - loss: 0.1067 - accuracy: 0.9732 - val_loss: 0.5842 - val_accuracy: 0.8350 - lr: 1.0000e-04\n",
      "Epoch 41/50\n",
      "55/55 [==============================] - 4s 70ms/step - loss: 0.1091 - accuracy: 0.9714 - val_loss: 0.5826 - val_accuracy: 0.8360 - lr: 1.0000e-04\n",
      "Epoch 42/50\n",
      "55/55 [==============================] - 4s 70ms/step - loss: 0.1045 - accuracy: 0.9727 - val_loss: 0.5862 - val_accuracy: 0.8330 - lr: 1.0000e-04\n",
      "Epoch 43/50\n",
      "55/55 [==============================] - 4s 70ms/step - loss: 0.1033 - accuracy: 0.9730 - val_loss: 0.5897 - val_accuracy: 0.8350 - lr: 1.0000e-04\n",
      "Epoch 44/50\n",
      "55/55 [==============================] - 4s 70ms/step - loss: 0.1019 - accuracy: 0.9733 - val_loss: 0.5884 - val_accuracy: 0.8350 - lr: 1.0000e-04\n",
      "Epoch 45/50\n",
      "55/55 [==============================] - 4s 71ms/step - loss: 0.1047 - accuracy: 0.9728 - val_loss: 0.5896 - val_accuracy: 0.8370 - lr: 1.0000e-04\n",
      "Epoch 46/50\n",
      "55/55 [==============================] - 4s 68ms/step - loss: 0.0968 - accuracy: 0.9748 - val_loss: 0.5981 - val_accuracy: 0.8340 - lr: 1.0000e-04\n",
      "Epoch 47/50\n",
      "55/55 [==============================] - 4s 70ms/step - loss: 0.1031 - accuracy: 0.9732 - val_loss: 0.5920 - val_accuracy: 0.8380 - lr: 1.0000e-04\n",
      "Epoch 48/50\n",
      "55/55 [==============================] - 4s 70ms/step - loss: 0.0999 - accuracy: 0.9741 - val_loss: 0.5929 - val_accuracy: 0.8340 - lr: 1.0000e-04\n",
      "Epoch 49/50\n",
      "55/55 [==============================] - 4s 71ms/step - loss: 0.0973 - accuracy: 0.9745 - val_loss: 0.5922 - val_accuracy: 0.8310 - lr: 1.0000e-04\n",
      "Epoch 50/50\n",
      "55/55 [==============================] - 4s 67ms/step - loss: 0.0952 - accuracy: 0.9754 - val_loss: 0.5952 - val_accuracy: 0.8330 - lr: 1.0000e-04\n"
     ]
    }
   ],
   "source": [
    "history = model.fit(x_train, y_train,callbacks=callbacks, epochs=50,batch_size=256,validation_data=(x_val, y_val))"
   ]
  },
  {
   "cell_type": "code",
   "execution_count": 16,
   "id": "0b8710f9",
   "metadata": {},
   "outputs": [
    {
     "name": "stdout",
     "output_type": "stream",
     "text": [
      "118/118 [==============================] - 1s 9ms/step - loss: 0.5730 - accuracy: 0.8433\n"
     ]
    },
    {
     "data": {
      "text/plain": [
       "[0.5730412006378174, 0.8433350920677185]"
      ]
     },
     "execution_count": 16,
     "metadata": {},
     "output_type": "execute_result"
    }
   ],
   "source": [
    "model.evaluate(textcuboid_test,one_hot_test_labels)"
   ]
  },
  {
   "cell_type": "code",
   "execution_count": 24,
   "id": "eb178a78",
   "metadata": {},
   "outputs": [
    {
     "name": "stdout",
     "output_type": "stream",
     "text": [
      "118/118 [==============================] - 1s 10ms/step - loss: 0.5441 - accuracy: 0.8473\n"
     ]
    },
    {
     "data": {
      "text/plain": [
       "[0.5441328883171082, 0.8473181128501892]"
      ]
     },
     "execution_count": 24,
     "metadata": {},
     "output_type": "execute_result"
    }
   ],
   "source": [
    "from keras.models import load_model\n",
    "model = load_model('best_model_50.h5')\n",
    "model.evaluate(textcuboid_test,one_hot_test_labels)"
   ]
  },
  {
   "cell_type": "code",
   "execution_count": null,
   "id": "829bba21",
   "metadata": {},
   "outputs": [],
   "source": []
  }
 ],
 "metadata": {
  "kernelspec": {
   "display_name": "Python 3 (ipykernel)",
   "language": "python",
   "name": "python3"
  },
  "language_info": {
   "codemirror_mode": {
    "name": "ipython",
    "version": 3
   },
   "file_extension": ".py",
   "mimetype": "text/x-python",
   "name": "python",
   "nbconvert_exporter": "python",
   "pygments_lexer": "ipython3",
   "version": "3.8.13"
  }
 },
 "nbformat": 4,
 "nbformat_minor": 5
}
