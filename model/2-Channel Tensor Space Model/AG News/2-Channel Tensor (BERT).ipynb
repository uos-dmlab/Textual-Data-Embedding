{
 "cells": [
  {
   "cell_type": "markdown",
   "id": "e2bf7be5-b70e-4446-a077-ca261063e584",
   "metadata": {},
   "source": [
    "# 패키지 임포트"
   ]
  },
  {
   "cell_type": "code",
   "execution_count": 1,
   "id": "189cbc23-e8f6-45e5-bbfd-ecd89b66d21b",
   "metadata": {},
   "outputs": [],
   "source": [
    "import random\n",
    "import pandas as pd\n",
    "import numpy as np\n",
    "import tensorflow as tf\n",
    "import nltk\n",
    "import os\n",
    "import string\n",
    "import wordninja\n",
    "import re\n",
    "import json\n",
    "import keras\n",
    "from tensorflow.keras import layers\n",
    "from tensorflow.keras.layers import Input, Conv1D, GlobalMaxPooling1D, Dense, Dropout\n",
    "from tensorflow.keras.models import Model\n",
    "from tensorflow.keras import layers\n",
    "from tensorflow.keras.layers import Attention\n",
    "from keras.models import load_model\n",
    "from tensorflow.keras.preprocessing.text import Tokenizer\n",
    "from transformer_build import  *\n",
    "from data_preprocessing import *\n",
    "from sklearn.metrics import precision_score, recall_score, f1_score\n",
    "from sklearn.model_selection import train_test_split\n",
    "from sklearn.preprocessing import LabelEncoder\n",
    "from keras.utils.np_utils import to_categorical"
   ]
  },
  {
   "cell_type": "markdown",
   "id": "9d3b914d-bf75-473f-a3b2-bc95fc539330",
   "metadata": {},
   "source": [
    "# 데이터 로드"
   ]
  },
  {
   "cell_type": "code",
   "execution_count": 2,
   "id": "5abc1c6d-f951-480a-843e-c797575349d7",
   "metadata": {},
   "outputs": [],
   "source": [
    "train_df = pd.read_csv('C:/Users/user/Desktop/bilm-tf-master/ag_news_dataset/train.csv')\n",
    "test_df = pd.read_csv('C:/Users/user/Desktop/bilm-tf-master/ag_news_dataset/test.csv')"
   ]
  },
  {
   "cell_type": "code",
   "execution_count": null,
   "id": "aa74c5aa-20a2-4f80-a13d-90b5c742eca5",
   "metadata": {},
   "outputs": [],
   "source": [
    "textcuboid=np.load('./1-Channel textcuboid_ag(bert).npy')\n",
    "textcuboid_test=np.load('./1-Channel textcuboid_test_ag(bert).npy')"
   ]
  },
  {
   "cell_type": "markdown",
   "id": "ff3681d5-a28b-4103-892b-a40524b56926",
   "metadata": {},
   "source": [
    "# 전처리"
   ]
  },
  {
   "cell_type": "code",
   "execution_count": 3,
   "id": "c6cde120",
   "metadata": {},
   "outputs": [],
   "source": [
    "train_df = combine_title_and_description(train_df)\n",
    "test_df = combine_title_and_description(test_df)\n",
    "\n",
    "#각 클래스별로 5000개씩 총 2만개의 데이터를 샘플랭(너무 크면 TextCuboid의 용량이 너무 커진다)\n",
    "sampled_df = train_df.groupby(\"Class Index\").apply(lambda x: x.sample(5000, random_state=10))\n",
    "\n",
    "#전처리 특수기호 없애기\n",
    "sampled_df['text']=sampled_df['text'].apply(clean_text)\n",
    "\n",
    "sampled_df = sampled_df.reset_index(drop=True)\n",
    "\n",
    "train_df = sampled_df.groupby(\"Class Index\").apply(lambda x: x.sample(4000, random_state=10))\n",
    "train_idx = [x[1] for x in train_df.index]\n",
    "test_df = sampled_df.drop(train_idx)\n",
    "\n",
    "x_train=list(train_df['text'])\n",
    "y_train=list(train_df['Class Index'])\n",
    "x_test=list(test_df['text'])\n",
    "y_test=list(test_df['Class Index'])\n",
    "\n",
    "to_txt_filter=x_train+x_test\n",
    "y=list(y_train)+list(y_test)"
   ]
  },
  {
   "cell_type": "code",
   "execution_count": 4,
   "id": "3797ff12",
   "metadata": {},
   "outputs": [],
   "source": [
    "encoder=LabelEncoder()\n",
    "\n",
    "encoder.fit(y)\n",
    "\n",
    "label=encoder.transform(y)\n",
    "\n",
    "y_train=label[:16000]\n",
    "y_test=label[16000:]"
   ]
  },
  {
   "cell_type": "code",
   "execution_count": 5,
   "id": "532b2e90",
   "metadata": {},
   "outputs": [],
   "source": [
    "sos_x_train=[]\n",
    "sos_x_test=[]\n",
    "for sen in x_train:\n",
    "    sos_x_train.append('<sos> '+sen)\n",
    "for sen in x_test:\n",
    "    sos_x_test.append('<sos> '+sen)\n",
    "\n",
    "all_txt=sos_x_train+sos_x_test\n",
    "\n",
    "tokenizer = Tokenizer()\n",
    "tokenizer.fit_on_texts(all_txt)\n",
    "\n",
    "vocab_size =len(tokenizer.word_index)+1 #1을 더해야 에러가 안터짐 토큰 영향으로 보임\n",
    "\n",
    "x_train_encoded = tokenizer.texts_to_sequences(sos_x_train)\n",
    "x_test_encoded = tokenizer.texts_to_sequences(sos_x_test)\n",
    "\n",
    "max_len = 176\n",
    "\n",
    "xtext_train = tf.keras.preprocessing.sequence.pad_sequences(x_train_encoded, maxlen=max_len)\n",
    "xtext_test = tf.keras.preprocessing.sequence.pad_sequences(x_test_encoded, maxlen=max_len)"
   ]
  },
  {
   "cell_type": "code",
   "execution_count": null,
   "id": "e2955cef-e99c-484f-bf3b-c987052ab246",
   "metadata": {},
   "outputs": [],
   "source": [
    "tmp = [[x,y,z] for x, y, z in zip(xtext_train, textcuboid, y_train)]\n",
    "random.shuffle(tmp)\n",
    "xtext_train = [n[0] for n in tmp]\n",
    "textcuboid = [n[1] for n in tmp]\n",
    "y_train = [n[2] for n in tmp]\n",
    "xtext_train=np.array(xtext_train)\n",
    "textcuboid=np.array(textcuboid)\n",
    "y_train=np.array(y_train)"
   ]
  },
  {
   "cell_type": "code",
   "execution_count": null,
   "id": "976a2971-4269-495c-9e52-a6799f37b132",
   "metadata": {},
   "outputs": [],
   "source": [
    "textcuboid_train=textcuboid[1000:]\n",
    "text_train=xtext_train[1000:]\n",
    "textcuboid__val=textcuboid[:1000]\n",
    "text_val=xtext_train[:1000]\n",
    "y_val=y_train[:1000]\n",
    "y_train=y_train[1000:]\n",
    "\n",
    "text_test=xtext_test\n",
    "y_test=np.array(y_test)"
   ]
  },
  {
   "cell_type": "markdown",
   "id": "1157fc95-87bf-4921-aab2-51f7aad9d27e",
   "metadata": {},
   "source": [
    "# 모델 빌드"
   ]
  },
  {
   "cell_type": "code",
   "execution_count": 23,
   "id": "ddec5841",
   "metadata": {},
   "outputs": [
    {
     "name": "stdout",
     "output_type": "stream",
     "text": [
      "WARNING:tensorflow:`period` argument is deprecated. Please use `save_freq` to specify the frequency in number of batches seen.\n"
     ]
    }
   ],
   "source": [
    "callbacks = [\n",
    "    keras.callbacks.ModelCheckpoint(\n",
    "        \"best_model_{epoch}.h5\", save_best_only=False, period=5\n",
    "    ),\n",
    "    keras.callbacks.ReduceLROnPlateau(\n",
    "        monitor=\"val_loss\", factor=0.5, patience=2, min_lr=0.0001\n",
    "    ),\n",
    "]"
   ]
  },
  {
   "cell_type": "code",
   "execution_count": 6,
   "id": "97d1b3f2-306c-49ec-9294-25c3fdf98cc2",
   "metadata": {
    "scrolled": true
   },
   "outputs": [
    {
     "name": "stdout",
     "output_type": "stream",
     "text": [
      "Model: \"model\"\n",
      "__________________________________________________________________________________________________\n",
      " Layer (type)                   Output Shape         Param #     Connected to                     \n",
      "==================================================================================================\n",
      " input_2 (InputLayer)           [(None, 176)]        0           []                               \n",
      "                                                                                                  \n",
      " token_and_position_embedding (  (None, 176, 384)    15054720    ['input_2[0][0]']                \n",
      " TokenAndPositionEmbedding)                                                                       \n",
      "                                                                                                  \n",
      " input_1 (InputLayer)           [(None, 46, 768)]    0           []                               \n",
      "                                                                                                  \n",
      " transformer_block (Transformer  (None, 176, 384)    617888      ['token_and_position_embedding[0]\n",
      " Block)                                                          [0]']                            \n",
      "                                                                                                  \n",
      " conv1d (Conv1D)                (None, 46, 1024)     787456      ['input_1[0][0]']                \n",
      "                                                                                                  \n",
      " global_average_pooling1d (Glob  (None, 384)         0           ['transformer_block[0][0]']      \n",
      " alAveragePooling1D)                                                                              \n",
      "                                                                                                  \n",
      " global_max_pooling1d (GlobalMa  (None, 1024)        0           ['conv1d[0][0]']                 \n",
      " xPooling1D)                                                                                      \n",
      "                                                                                                  \n",
      " dropout_2 (Dropout)            (None, 384)          0           ['global_average_pooling1d[0][0]'\n",
      "                                                                 ]                                \n",
      "                                                                                                  \n",
      " dense (Dense)                  (None, 256)          262400      ['global_max_pooling1d[0][0]']   \n",
      "                                                                                                  \n",
      " dense_7 (Dense)                (None, 256)          98560       ['dropout_2[0][0]']              \n",
      "                                                                                                  \n",
      " attention (Attention)          (None, 256)          0           ['dense[0][0]',                  \n",
      "                                                                  'dense[0][0]']                  \n",
      "                                                                                                  \n",
      " attention_1 (Attention)        (None, 256)          0           ['dense_7[0][0]',                \n",
      "                                                                  'dense_7[0][0]']                \n",
      "                                                                                                  \n",
      " concatenate (Concatenate)      (None, 1024)         0           ['dense[0][0]',                  \n",
      "                                                                  'attention[0][0]',              \n",
      "                                                                  'dense_7[0][0]',                \n",
      "                                                                  'attention_1[0][0]']            \n",
      "                                                                                                  \n",
      " dropout_3 (Dropout)            (None, 1024)         0           ['concatenate[0][0]']            \n",
      "                                                                                                  \n",
      " dense_8 (Dense)                (None, 4)            4100        ['dropout_3[0][0]']              \n",
      "                                                                                                  \n",
      "==================================================================================================\n",
      "Total params: 16,825,124\n",
      "Trainable params: 16,825,124\n",
      "Non-trainable params: 0\n",
      "__________________________________________________________________________________________________\n"
     ]
    }
   ],
   "source": [
    "#트랜스포머 블록 적층\n",
    "embedding_dim = 384  # 각 단어의 임베딩 벡터의 차원\n",
    "num_heads = 1  # 어텐션 헤드의 수\n",
    "dff = 32  # 포지션 와이즈 피드 포워드 신경망의 은닉층의 크기\n",
    "num_transformer_blocks = 1\n",
    "\n",
    "#BERT channel의 학습\n",
    "ELMo_input = Input(shape=(46, 768))\n",
    "conv1 = Conv1D(1024, 1, padding='valid', activation='relu')(ELMo_input)\n",
    "pooling = GlobalMaxPooling1D()(conv1)\n",
    "ELMo_x = Dense(256, activation='relu')(pooling)\n",
    "ELMo_attention_layer = Attention()\n",
    "ELMo_a=ELMo_attention_layer([ELMo_x,ELMo_x])\n",
    "\n",
    "#Sequence channel의 학습\n",
    "Text_inputs = Input(shape=(max_len,))\n",
    "embedding_layer = TokenAndPositionEmbedding(max_len, vocab_size, embedding_dim)\n",
    "Text_x = embedding_layer(Text_inputs)\n",
    "\n",
    "for _ in range(num_transformer_blocks):\n",
    "    transformer_block = TransformerBlock(embedding_dim, num_heads, dff)\n",
    "    Text_x = transformer_block(Text_x)\n",
    "\n",
    "Text_x = tf.keras.layers.GlobalAveragePooling1D()(Text_x)\n",
    "Text_x = tf.keras.layers.Dropout(0.5)(Text_x)\n",
    "Text_x = tf.keras.layers.Dense(256, activation=\"relu\")(Text_x)\n",
    "Text_attention_layer = Attention()\n",
    "Text_a=Text_attention_layer([Text_x,Text_x])\n",
    "\n",
    "#결합 후 분류\n",
    "x = layers.concatenate([ELMo_x,ELMo_a, Text_x,Text_a], axis=-1)\n",
    "x = Dropout(0.5)(x)\n",
    "output_layer = Dense(4, activation='softmax')(x)\n",
    "\n",
    "model = Model(inputs=[ELMo_input, Text_inputs], outputs=output_layer)\n",
    "\n",
    "model.compile(optimizer='adam', loss='sparse_categorical_crossentropy', metrics=['accuracy'])\n",
    "\n",
    "model.summary()"
   ]
  },
  {
   "cell_type": "code",
   "execution_count": 68,
   "id": "4d4041a1",
   "metadata": {
    "scrolled": true
   },
   "outputs": [
    {
     "name": "stdout",
     "output_type": "stream",
     "text": [
      "Epoch 1/50\n",
      "59/59 [==============================] - 13s 173ms/step - loss: 2.1194 - accuracy: 0.5854 - val_loss: 0.4558 - val_accuracy: 0.8540 - lr: 0.0010\n",
      "Epoch 2/50\n",
      "59/59 [==============================] - 10s 162ms/step - loss: 0.5764 - accuracy: 0.8178 - val_loss: 0.4300 - val_accuracy: 0.8500 - lr: 0.0010\n",
      "Epoch 3/50\n",
      "59/59 [==============================] - 9s 159ms/step - loss: 0.4633 - accuracy: 0.8549 - val_loss: 0.3833 - val_accuracy: 0.8730 - lr: 0.0010\n",
      "Epoch 4/50\n",
      "59/59 [==============================] - 9s 159ms/step - loss: 0.4205 - accuracy: 0.8718 - val_loss: 0.3380 - val_accuracy: 0.8890 - lr: 0.0010\n",
      "Epoch 5/50\n",
      "59/59 [==============================] - 10s 164ms/step - loss: 0.3886 - accuracy: 0.8803 - val_loss: 0.3410 - val_accuracy: 0.8860 - lr: 0.0010\n",
      "Epoch 6/50\n",
      "59/59 [==============================] - 9s 160ms/step - loss: 0.4761 - accuracy: 0.8371 - val_loss: 0.3474 - val_accuracy: 0.8900 - lr: 0.0010\n",
      "Epoch 7/50\n",
      "59/59 [==============================] - 9s 159ms/step - loss: 0.3633 - accuracy: 0.8893 - val_loss: 0.3246 - val_accuracy: 0.8870 - lr: 5.0000e-04\n",
      "Epoch 8/50\n",
      "59/59 [==============================] - 9s 160ms/step - loss: 0.3247 - accuracy: 0.8997 - val_loss: 0.3281 - val_accuracy: 0.8890 - lr: 5.0000e-04\n",
      "Epoch 9/50\n",
      "59/59 [==============================] - 9s 160ms/step - loss: 0.3739 - accuracy: 0.8731 - val_loss: 0.3292 - val_accuracy: 0.8890 - lr: 5.0000e-04\n",
      "Epoch 10/50\n",
      "59/59 [==============================] - 10s 165ms/step - loss: 0.3159 - accuracy: 0.9004 - val_loss: 0.3154 - val_accuracy: 0.8930 - lr: 2.5000e-04\n",
      "Epoch 11/50\n",
      "59/59 [==============================] - 9s 160ms/step - loss: 0.3046 - accuracy: 0.9037 - val_loss: 0.3490 - val_accuracy: 0.8760 - lr: 2.5000e-04\n",
      "Epoch 12/50\n",
      "59/59 [==============================] - 9s 160ms/step - loss: 0.3062 - accuracy: 0.9033 - val_loss: 0.3123 - val_accuracy: 0.8890 - lr: 2.5000e-04\n",
      "Epoch 13/50\n",
      "59/59 [==============================] - 10s 161ms/step - loss: 0.2771 - accuracy: 0.9153 - val_loss: 0.3288 - val_accuracy: 0.8880 - lr: 2.5000e-04\n",
      "Epoch 14/50\n",
      "59/59 [==============================] - 9s 160ms/step - loss: 0.2651 - accuracy: 0.9161 - val_loss: 0.3121 - val_accuracy: 0.8930 - lr: 2.5000e-04\n",
      "Epoch 15/50\n",
      "59/59 [==============================] - 10s 166ms/step - loss: 0.2604 - accuracy: 0.9194 - val_loss: 0.3113 - val_accuracy: 0.8900 - lr: 2.5000e-04\n",
      "Epoch 16/50\n",
      "59/59 [==============================] - 9s 161ms/step - loss: 0.2552 - accuracy: 0.9215 - val_loss: 0.3088 - val_accuracy: 0.8920 - lr: 2.5000e-04\n",
      "Epoch 17/50\n",
      "59/59 [==============================] - 9s 160ms/step - loss: 0.2763 - accuracy: 0.9174 - val_loss: 0.3288 - val_accuracy: 0.8850 - lr: 2.5000e-04\n",
      "Epoch 18/50\n",
      "59/59 [==============================] - 9s 160ms/step - loss: 0.2792 - accuracy: 0.9141 - val_loss: 0.3514 - val_accuracy: 0.8840 - lr: 2.5000e-04\n",
      "Epoch 19/50\n",
      "59/59 [==============================] - 9s 160ms/step - loss: 0.2480 - accuracy: 0.9235 - val_loss: 0.2998 - val_accuracy: 0.8970 - lr: 1.2500e-04\n",
      "Epoch 20/50\n",
      "59/59 [==============================] - 10s 166ms/step - loss: 0.2358 - accuracy: 0.9273 - val_loss: 0.3348 - val_accuracy: 0.8960 - lr: 1.2500e-04\n",
      "Epoch 21/50\n",
      "59/59 [==============================] - 9s 161ms/step - loss: 0.2338 - accuracy: 0.9305 - val_loss: 0.3010 - val_accuracy: 0.8990 - lr: 1.2500e-04\n",
      "Epoch 22/50\n",
      "59/59 [==============================] - 9s 160ms/step - loss: 0.2138 - accuracy: 0.9329 - val_loss: 0.3310 - val_accuracy: 0.8940 - lr: 1.0000e-04\n",
      "Epoch 23/50\n",
      "59/59 [==============================] - 9s 160ms/step - loss: 0.2155 - accuracy: 0.9346 - val_loss: 0.3196 - val_accuracy: 0.8980 - lr: 1.0000e-04\n",
      "Epoch 24/50\n",
      "59/59 [==============================] - 9s 161ms/step - loss: 0.2072 - accuracy: 0.9358 - val_loss: 0.3151 - val_accuracy: 0.8940 - lr: 1.0000e-04\n",
      "Epoch 25/50\n",
      "59/59 [==============================] - 10s 166ms/step - loss: 0.2008 - accuracy: 0.9387 - val_loss: 0.3303 - val_accuracy: 0.8940 - lr: 1.0000e-04\n",
      "Epoch 26/50\n",
      "59/59 [==============================] - 10s 161ms/step - loss: 0.2001 - accuracy: 0.9393 - val_loss: 0.3171 - val_accuracy: 0.9030 - lr: 1.0000e-04\n",
      "Epoch 27/50\n",
      "59/59 [==============================] - 10s 162ms/step - loss: 0.2169 - accuracy: 0.9315 - val_loss: 0.3506 - val_accuracy: 0.8930 - lr: 1.0000e-04\n",
      "Epoch 28/50\n",
      "59/59 [==============================] - 10s 161ms/step - loss: 0.2102 - accuracy: 0.9361 - val_loss: 0.3433 - val_accuracy: 0.8890 - lr: 1.0000e-04\n",
      "Epoch 29/50\n",
      "59/59 [==============================] - 10s 163ms/step - loss: 0.1995 - accuracy: 0.9374 - val_loss: 0.3262 - val_accuracy: 0.8970 - lr: 1.0000e-04\n",
      "Epoch 30/50\n",
      "59/59 [==============================] - 10s 165ms/step - loss: 0.1913 - accuracy: 0.9398 - val_loss: 0.3157 - val_accuracy: 0.8970 - lr: 1.0000e-04\n",
      "Epoch 31/50\n",
      "59/59 [==============================] - 9s 159ms/step - loss: 0.1860 - accuracy: 0.9441 - val_loss: 0.3154 - val_accuracy: 0.8970 - lr: 1.0000e-04\n",
      "Epoch 32/50\n",
      "59/59 [==============================] - 9s 159ms/step - loss: 0.1965 - accuracy: 0.9401 - val_loss: 0.3286 - val_accuracy: 0.8970 - lr: 1.0000e-04\n",
      "Epoch 33/50\n",
      "59/59 [==============================] - 10s 163ms/step - loss: 0.1758 - accuracy: 0.9461 - val_loss: 0.3380 - val_accuracy: 0.8950 - lr: 1.0000e-04\n",
      "Epoch 34/50\n",
      "59/59 [==============================] - 10s 172ms/step - loss: 0.1792 - accuracy: 0.9453 - val_loss: 0.3336 - val_accuracy: 0.8920 - lr: 1.0000e-04\n",
      "Epoch 35/50\n",
      "59/59 [==============================] - 10s 170ms/step - loss: 0.1737 - accuracy: 0.9464 - val_loss: 0.3692 - val_accuracy: 0.8910 - lr: 1.0000e-04\n",
      "Epoch 36/50\n",
      "59/59 [==============================] - 9s 161ms/step - loss: 0.1748 - accuracy: 0.9449 - val_loss: 0.3347 - val_accuracy: 0.8970 - lr: 1.0000e-04\n",
      "Epoch 37/50\n",
      "59/59 [==============================] - 9s 161ms/step - loss: 0.1648 - accuracy: 0.9486 - val_loss: 0.3511 - val_accuracy: 0.8940 - lr: 1.0000e-04\n",
      "Epoch 38/50\n",
      "59/59 [==============================] - 10s 162ms/step - loss: 0.1574 - accuracy: 0.9512 - val_loss: 0.3452 - val_accuracy: 0.8950 - lr: 1.0000e-04\n",
      "Epoch 39/50\n",
      "59/59 [==============================] - 10s 162ms/step - loss: 0.1520 - accuracy: 0.9537 - val_loss: 0.3443 - val_accuracy: 0.8970 - lr: 1.0000e-04\n",
      "Epoch 40/50\n",
      "59/59 [==============================] - 10s 168ms/step - loss: 0.1543 - accuracy: 0.9537 - val_loss: 0.3653 - val_accuracy: 0.8940 - lr: 1.0000e-04\n",
      "Epoch 41/50\n",
      "59/59 [==============================] - 10s 161ms/step - loss: 0.1452 - accuracy: 0.9566 - val_loss: 0.4005 - val_accuracy: 0.8870 - lr: 1.0000e-04\n",
      "Epoch 42/50\n",
      "59/59 [==============================] - 10s 165ms/step - loss: 0.1464 - accuracy: 0.9554 - val_loss: 0.3713 - val_accuracy: 0.8950 - lr: 1.0000e-04\n",
      "Epoch 43/50\n",
      "59/59 [==============================] - 10s 162ms/step - loss: 0.1415 - accuracy: 0.9569 - val_loss: 0.3786 - val_accuracy: 0.8920 - lr: 1.0000e-04\n",
      "Epoch 44/50\n",
      "59/59 [==============================] - 10s 162ms/step - loss: 0.1295 - accuracy: 0.9608 - val_loss: 0.3690 - val_accuracy: 0.8990 - lr: 1.0000e-04\n",
      "Epoch 45/50\n",
      "59/59 [==============================] - 10s 165ms/step - loss: 0.1392 - accuracy: 0.9564 - val_loss: 0.3752 - val_accuracy: 0.8880 - lr: 1.0000e-04\n",
      "Epoch 46/50\n",
      "59/59 [==============================] - 9s 160ms/step - loss: 0.1328 - accuracy: 0.9581 - val_loss: 0.3645 - val_accuracy: 0.8930 - lr: 1.0000e-04\n",
      "Epoch 47/50\n",
      "59/59 [==============================] - 9s 161ms/step - loss: 0.1277 - accuracy: 0.9612 - val_loss: 0.3979 - val_accuracy: 0.8990 - lr: 1.0000e-04\n",
      "Epoch 48/50\n",
      "59/59 [==============================] - 10s 163ms/step - loss: 0.1437 - accuracy: 0.9554 - val_loss: 0.3637 - val_accuracy: 0.8920 - lr: 1.0000e-04\n",
      "Epoch 49/50\n",
      "59/59 [==============================] - 9s 160ms/step - loss: 0.1205 - accuracy: 0.9639 - val_loss: 0.4044 - val_accuracy: 0.8870 - lr: 1.0000e-04\n",
      "Epoch 50/50\n",
      "59/59 [==============================] - 10s 168ms/step - loss: 0.1271 - accuracy: 0.9612 - val_loss: 0.4116 - val_accuracy: 0.8900 - lr: 1.0000e-04\n"
     ]
    }
   ],
   "source": [
    "history = model.fit([textcuboid_train,text_train], y_train,callbacks=callbacks, epochs=50,batch_size=256,validation_data=([textcuboid__val,text_val], y_val))"
   ]
  },
  {
   "cell_type": "code",
   "execution_count": 69,
   "id": "0b8710f9",
   "metadata": {},
   "outputs": [
    {
     "name": "stdout",
     "output_type": "stream",
     "text": [
      "125/125 [==============================] - 2s 12ms/step - loss: 0.1909 - accuracy: 0.9452\n"
     ]
    },
    {
     "data": {
      "text/plain": [
       "[0.19094263017177582, 0.9452499747276306]"
      ]
     },
     "execution_count": 69,
     "metadata": {},
     "output_type": "execute_result"
    }
   ],
   "source": [
    "model.evaluate([textcuboid_test,text_test],y_test)"
   ]
  },
  {
   "cell_type": "code",
   "execution_count": 71,
   "id": "eb178a78",
   "metadata": {},
   "outputs": [
    {
     "name": "stdout",
     "output_type": "stream",
     "text": [
      "125/125 [==============================] - 1s 8ms/step - loss: 0.1888 - accuracy: 0.9398\n"
     ]
    },
    {
     "data": {
      "text/plain": [
       "[0.1888122260570526, 0.9397500157356262]"
      ]
     },
     "execution_count": 71,
     "metadata": {},
     "output_type": "execute_result"
    }
   ],
   "source": [
    "from keras.models import load_model\n",
    "custom_objects = {\"TokenAndPositionEmbedding\": TokenAndPositionEmbedding, \"TransformerBlock\": TransformerBlock}\n",
    "model = load_model('best_model_40.h5', custom_objects=custom_objects)\n",
    "model.evaluate([textcuboid_test,text_test],y_test)"
   ]
  },
  {
   "cell_type": "code",
   "execution_count": null,
   "id": "de71922e",
   "metadata": {},
   "outputs": [],
   "source": []
  },
  {
   "cell_type": "code",
   "execution_count": null,
   "id": "41bfa5a3",
   "metadata": {},
   "outputs": [],
   "source": []
  }
 ],
 "metadata": {
  "kernelspec": {
   "display_name": "Python 3 (ipykernel)",
   "language": "python",
   "name": "python3"
  },
  "language_info": {
   "codemirror_mode": {
    "name": "ipython",
    "version": 3
   },
   "file_extension": ".py",
   "mimetype": "text/x-python",
   "name": "python",
   "nbconvert_exporter": "python",
   "pygments_lexer": "ipython3",
   "version": "3.8.13"
  }
 },
 "nbformat": 4,
 "nbformat_minor": 5
}
