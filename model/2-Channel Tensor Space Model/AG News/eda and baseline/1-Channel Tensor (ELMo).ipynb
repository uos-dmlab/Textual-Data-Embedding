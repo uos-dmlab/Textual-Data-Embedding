{
 "cells": [
  {
   "cell_type": "markdown",
   "id": "184f59ff",
   "metadata": {},
   "source": [
    "# 패키지 임포트"
   ]
  },
  {
   "cell_type": "code",
   "execution_count": 1,
   "id": "849c1414",
   "metadata": {},
   "outputs": [],
   "source": [
    "import random\n",
    "import pandas as pd\n",
    "import numpy as np\n",
    "import tensorflow as tf\n",
    "import nltk\n",
    "import os\n",
    "import string\n",
    "import re\n",
    "import json\n",
    "import keras\n",
    "from tensorflow.keras import layers\n",
    "from tensorflow.keras.layers import Input, Conv1D, GlobalMaxPooling1D, Dense, Dropout\n",
    "from tensorflow.keras.models import Model\n",
    "from tensorflow.keras import layers\n",
    "from keras.models import load_model\n",
    "from sklearn.preprocessing import LabelEncoder\n",
    "from keras.utils.np_utils import to_categorical\n",
    "from sklearn.model_selection import train_test_split\n",
    "from sklearn.metrics import f1_score\n",
    "import sys\n",
    "sys.path.append('C:/Users/User/Desktop/AG News')\n",
    "from data_preprocessing import *"
   ]
  },
  {
   "cell_type": "markdown",
   "id": "e7e405ea-c708-4a9c-bd36-e2153df3610f",
   "metadata": {},
   "source": [
    "# 데이터 로드"
   ]
  },
  {
   "cell_type": "code",
   "execution_count": 2,
   "id": "4e552f42-ccdd-486b-b1c3-60460583c0f2",
   "metadata": {},
   "outputs": [],
   "source": [
    "train_df = pd.read_csv('C:/Users/user/Desktop/bilm-tf-master/ag_news_dataset/train.csv')\n",
    "test_df = pd.read_csv('C:/Users/user/Desktop/bilm-tf-master/ag_news_dataset/test.csv')"
   ]
  },
  {
   "cell_type": "code",
   "execution_count": null,
   "id": "50a8706d-20c8-4b07-8316-239c31a42b5a",
   "metadata": {},
   "outputs": [],
   "source": [
    "textcuboid=np.load('./1-Channel textcuboid_ag(elmo).npy')\n",
    "textcuboid_test=np.load('./1-Channel textcuboid_test_ag(elmo).npy')"
   ]
  },
  {
   "cell_type": "markdown",
   "id": "c0ee44ca-f8ca-4177-89e9-214e337ef938",
   "metadata": {},
   "source": [
    "# 전처리"
   ]
  },
  {
   "cell_type": "code",
   "execution_count": 3,
   "id": "660f568b",
   "metadata": {},
   "outputs": [],
   "source": [
    "train_df = combine_title_and_description(train_df)\n",
    "test_df = combine_title_and_description(test_df)\n",
    "\n",
    "#각 클래스별로 5000개씩 총 2만개의 데이터를 샘플랭(너무 크면 TextCuboid의 용량이 너무 커진다)\n",
    "sampled_df = train_df.groupby(\"Class Index\").apply(lambda x: x.sample(5000, random_state=10))\n",
    "\n",
    "#전처리 특수기호 없애기\n",
    "sampled_df['text']=sampled_df['text'].apply(clean_text)\n",
    "\n",
    "sampled_df = sampled_df.reset_index(drop=True)\n",
    "\n",
    "train_df = sampled_df.groupby(\"Class Index\").apply(lambda x: x.sample(4000, random_state=10))\n",
    "train_idx = [x[1] for x in train_df.index]\n",
    "test_df = sampled_df.drop(train_idx)\n",
    "\n",
    "x_train=list(train_df['text'])\n",
    "y_train=list(train_df['Class Index'])\n",
    "x_test=list(test_df['text'])\n",
    "y_test=list(test_df['Class Index'])\n",
    "\n",
    "to_txt_filter=x_train+x_test\n",
    "y=list(y_train)+list(y_test)"
   ]
  },
  {
   "cell_type": "code",
   "execution_count": 4,
   "id": "2a3ff88b",
   "metadata": {},
   "outputs": [],
   "source": [
    "encoder=LabelEncoder()\n",
    "\n",
    "encoder.fit(y)\n",
    "\n",
    "label=encoder.transform(y)\n",
    "\n",
    "y_train=list(label[:16000])\n",
    "y_test=list(label[16000:])"
   ]
  },
  {
   "cell_type": "code",
   "execution_count": 8,
   "id": "fee0a7ad",
   "metadata": {},
   "outputs": [],
   "source": [
    "tmp = [[x,y] for x, y in zip(textcuboid, y_train)]\n",
    "random.shuffle(tmp)\n",
    "textcuboid = [n[0] for n in tmp]\n",
    "y_train = [n[1] for n in tmp]\n",
    "textcuboid=np.array(textcuboid)\n",
    "y_train=np.array(y_train)"
   ]
  },
  {
   "cell_type": "code",
   "execution_count": null,
   "id": "8d17faaa-5cca-41ca-b110-4043c838cb15",
   "metadata": {},
   "outputs": [],
   "source": [
    "x_train=textcuboid[1000:]\n",
    "x_val=textcuboid[:1000]\n",
    "y_train1=y_train[1000:]\n",
    "y_val=y_train[:1000]"
   ]
  },
  {
   "cell_type": "markdown",
   "id": "1ac3d51a-aded-4707-9f58-2fa6af440d14",
   "metadata": {},
   "source": [
    "# 모델 빌드"
   ]
  },
  {
   "cell_type": "code",
   "execution_count": 10,
   "id": "ddec5841",
   "metadata": {},
   "outputs": [
    {
     "name": "stdout",
     "output_type": "stream",
     "text": [
      "WARNING:tensorflow:`period` argument is deprecated. Please use `save_freq` to specify the frequency in number of batches seen.\n"
     ]
    }
   ],
   "source": [
    "callbacks = [\n",
    "    keras.callbacks.ModelCheckpoint(\n",
    "        \"best_model_{epoch}.h5\", save_best_only=False, period=5\n",
    "    ),\n",
    "    keras.callbacks.ReduceLROnPlateau(\n",
    "        monitor=\"val_loss\", factor=0.5, patience=2, min_lr=0.0001\n",
    "    ),\n",
    "]"
   ]
  },
  {
   "cell_type": "code",
   "execution_count": 5,
   "id": "ce1b3b58",
   "metadata": {},
   "outputs": [
    {
     "name": "stdout",
     "output_type": "stream",
     "text": [
      "Model: \"model\"\n",
      "_________________________________________________________________\n",
      " Layer (type)                Output Shape              Param #   \n",
      "=================================================================\n",
      " input_1 (InputLayer)        [(None, 46, 256)]         0         \n",
      "                                                                 \n",
      " conv1d (Conv1D)             (None, 46, 1024)          263168    \n",
      "                                                                 \n",
      " global_max_pooling1d (Globa  (None, 1024)             0         \n",
      " lMaxPooling1D)                                                  \n",
      "                                                                 \n",
      " dense (Dense)               (None, 256)               262400    \n",
      "                                                                 \n",
      " dropout (Dropout)           (None, 256)               0         \n",
      "                                                                 \n",
      " dense_1 (Dense)             (None, 4)                 1028      \n",
      "                                                                 \n",
      "=================================================================\n",
      "Total params: 526,596\n",
      "Trainable params: 526,596\n",
      "Non-trainable params: 0\n",
      "_________________________________________________________________\n"
     ]
    }
   ],
   "source": [
    "input_layer = Input(shape=(46, 256))\n",
    "conv1 = Conv1D(1024, 1, padding='valid', activation='relu')(input_layer)\n",
    "pooling = GlobalMaxPooling1D()(conv1)\n",
    "\n",
    "x = Dense(256, activation='relu')(pooling)\n",
    "x = Dropout(0.5)(x)\n",
    "output_layer = Dense(4, activation='softmax')(x)\n",
    "\n",
    "model = Model(inputs=input_layer, outputs=output_layer)\n",
    "\n",
    "model.compile(optimizer='adam', loss='sparse_categorical_crossentropy', metrics=['accuracy'])\n",
    "\n",
    "model.summary()"
   ]
  },
  {
   "cell_type": "code",
   "execution_count": 15,
   "id": "35a26571",
   "metadata": {
    "scrolled": true
   },
   "outputs": [
    {
     "name": "stdout",
     "output_type": "stream",
     "text": [
      "Epoch 1/50\n",
      "59/59 [==============================] - 1s 7ms/step - loss: 0.5619 - accuracy: 0.8073 - val_loss: 0.3524 - val_accuracy: 0.8770 - lr: 0.0010\n",
      "Epoch 2/50\n",
      "59/59 [==============================] - 0s 5ms/step - loss: 0.3085 - accuracy: 0.8996 - val_loss: 0.3425 - val_accuracy: 0.8830 - lr: 0.0010\n",
      "Epoch 3/50\n",
      "59/59 [==============================] - 0s 5ms/step - loss: 0.2633 - accuracy: 0.9125 - val_loss: 0.3099 - val_accuracy: 0.8930 - lr: 0.0010\n",
      "Epoch 4/50\n",
      "59/59 [==============================] - 0s 5ms/step - loss: 0.2259 - accuracy: 0.9236 - val_loss: 0.3178 - val_accuracy: 0.8900 - lr: 0.0010\n",
      "Epoch 5/50\n",
      "59/59 [==============================] - 0s 5ms/step - loss: 0.1914 - accuracy: 0.9335 - val_loss: 0.2915 - val_accuracy: 0.8890 - lr: 0.0010\n",
      "Epoch 6/50\n",
      "59/59 [==============================] - 0s 5ms/step - loss: 0.1672 - accuracy: 0.9423 - val_loss: 0.3377 - val_accuracy: 0.8920 - lr: 0.0010\n",
      "Epoch 7/50\n",
      "59/59 [==============================] - 0s 5ms/step - loss: 0.1386 - accuracy: 0.9521 - val_loss: 0.3045 - val_accuracy: 0.8900 - lr: 0.0010\n",
      "Epoch 8/50\n",
      "59/59 [==============================] - 0s 5ms/step - loss: 0.0934 - accuracy: 0.9687 - val_loss: 0.3041 - val_accuracy: 0.8980 - lr: 5.0000e-04\n",
      "Epoch 9/50\n",
      "59/59 [==============================] - 0s 5ms/step - loss: 0.0734 - accuracy: 0.9765 - val_loss: 0.3301 - val_accuracy: 0.8960 - lr: 5.0000e-04\n",
      "Epoch 10/50\n",
      "59/59 [==============================] - 0s 6ms/step - loss: 0.0537 - accuracy: 0.9860 - val_loss: 0.3411 - val_accuracy: 0.8970 - lr: 2.5000e-04\n",
      "Epoch 11/50\n",
      "59/59 [==============================] - 0s 5ms/step - loss: 0.0465 - accuracy: 0.9881 - val_loss: 0.3406 - val_accuracy: 0.8990 - lr: 2.5000e-04\n",
      "Epoch 12/50\n",
      "59/59 [==============================] - 0s 5ms/step - loss: 0.0384 - accuracy: 0.9913 - val_loss: 0.3491 - val_accuracy: 0.8970 - lr: 1.2500e-04\n",
      "Epoch 13/50\n",
      "59/59 [==============================] - 0s 5ms/step - loss: 0.0361 - accuracy: 0.9911 - val_loss: 0.3508 - val_accuracy: 0.8980 - lr: 1.2500e-04\n",
      "Epoch 14/50\n",
      "59/59 [==============================] - 0s 5ms/step - loss: 0.0329 - accuracy: 0.9937 - val_loss: 0.3573 - val_accuracy: 0.8960 - lr: 1.0000e-04\n",
      "Epoch 15/50\n",
      "59/59 [==============================] - 0s 5ms/step - loss: 0.0311 - accuracy: 0.9936 - val_loss: 0.3577 - val_accuracy: 0.8980 - lr: 1.0000e-04\n",
      "Epoch 16/50\n",
      "59/59 [==============================] - 0s 5ms/step - loss: 0.0290 - accuracy: 0.9948 - val_loss: 0.3674 - val_accuracy: 0.8920 - lr: 1.0000e-04\n",
      "Epoch 17/50\n",
      "59/59 [==============================] - 0s 5ms/step - loss: 0.0275 - accuracy: 0.9954 - val_loss: 0.3655 - val_accuracy: 0.8970 - lr: 1.0000e-04\n",
      "Epoch 18/50\n",
      "59/59 [==============================] - 0s 5ms/step - loss: 0.0256 - accuracy: 0.9955 - val_loss: 0.3709 - val_accuracy: 0.8960 - lr: 1.0000e-04\n",
      "Epoch 19/50\n",
      "59/59 [==============================] - 0s 5ms/step - loss: 0.0251 - accuracy: 0.9955 - val_loss: 0.3674 - val_accuracy: 0.8970 - lr: 1.0000e-04\n",
      "Epoch 20/50\n",
      "59/59 [==============================] - 0s 5ms/step - loss: 0.0222 - accuracy: 0.9967 - val_loss: 0.3793 - val_accuracy: 0.8960 - lr: 1.0000e-04\n",
      "Epoch 21/50\n",
      "59/59 [==============================] - 0s 5ms/step - loss: 0.0214 - accuracy: 0.9967 - val_loss: 0.3839 - val_accuracy: 0.8970 - lr: 1.0000e-04\n",
      "Epoch 22/50\n",
      "59/59 [==============================] - 0s 5ms/step - loss: 0.0195 - accuracy: 0.9969 - val_loss: 0.3872 - val_accuracy: 0.8940 - lr: 1.0000e-04\n",
      "Epoch 23/50\n",
      "59/59 [==============================] - 0s 5ms/step - loss: 0.0183 - accuracy: 0.9977 - val_loss: 0.3887 - val_accuracy: 0.8950 - lr: 1.0000e-04\n",
      "Epoch 24/50\n",
      "59/59 [==============================] - 0s 5ms/step - loss: 0.0182 - accuracy: 0.9975 - val_loss: 0.3935 - val_accuracy: 0.8970 - lr: 1.0000e-04\n",
      "Epoch 25/50\n",
      "59/59 [==============================] - 0s 5ms/step - loss: 0.0170 - accuracy: 0.9980 - val_loss: 0.3996 - val_accuracy: 0.8980 - lr: 1.0000e-04\n",
      "Epoch 26/50\n",
      "59/59 [==============================] - 0s 5ms/step - loss: 0.0154 - accuracy: 0.9982 - val_loss: 0.4049 - val_accuracy: 0.8970 - lr: 1.0000e-04\n",
      "Epoch 27/50\n",
      "59/59 [==============================] - 0s 5ms/step - loss: 0.0157 - accuracy: 0.9979 - val_loss: 0.4022 - val_accuracy: 0.8970 - lr: 1.0000e-04\n",
      "Epoch 28/50\n",
      "59/59 [==============================] - 0s 5ms/step - loss: 0.0148 - accuracy: 0.9979 - val_loss: 0.4098 - val_accuracy: 0.8960 - lr: 1.0000e-04\n",
      "Epoch 29/50\n",
      "59/59 [==============================] - 0s 5ms/step - loss: 0.0138 - accuracy: 0.9982 - val_loss: 0.4132 - val_accuracy: 0.8990 - lr: 1.0000e-04\n",
      "Epoch 30/50\n",
      "59/59 [==============================] - 0s 5ms/step - loss: 0.0130 - accuracy: 0.9985 - val_loss: 0.4227 - val_accuracy: 0.8980 - lr: 1.0000e-04\n",
      "Epoch 31/50\n",
      "59/59 [==============================] - 0s 5ms/step - loss: 0.0118 - accuracy: 0.9988 - val_loss: 0.4209 - val_accuracy: 0.8990 - lr: 1.0000e-04\n",
      "Epoch 32/50\n",
      "59/59 [==============================] - 0s 5ms/step - loss: 0.0115 - accuracy: 0.9989 - val_loss: 0.4259 - val_accuracy: 0.8970 - lr: 1.0000e-04\n",
      "Epoch 33/50\n",
      "59/59 [==============================] - 0s 5ms/step - loss: 0.0104 - accuracy: 0.9992 - val_loss: 0.4333 - val_accuracy: 0.8990 - lr: 1.0000e-04\n",
      "Epoch 34/50\n",
      "59/59 [==============================] - 0s 5ms/step - loss: 0.0092 - accuracy: 0.9995 - val_loss: 0.4386 - val_accuracy: 0.9000 - lr: 1.0000e-04\n",
      "Epoch 35/50\n",
      "59/59 [==============================] - 0s 5ms/step - loss: 0.0097 - accuracy: 0.9992 - val_loss: 0.4339 - val_accuracy: 0.9000 - lr: 1.0000e-04\n",
      "Epoch 36/50\n",
      "59/59 [==============================] - 0s 5ms/step - loss: 0.0090 - accuracy: 0.9994 - val_loss: 0.4373 - val_accuracy: 0.8980 - lr: 1.0000e-04\n",
      "Epoch 37/50\n",
      "59/59 [==============================] - 0s 5ms/step - loss: 0.0088 - accuracy: 0.9991 - val_loss: 0.4458 - val_accuracy: 0.8960 - lr: 1.0000e-04\n",
      "Epoch 38/50\n",
      "59/59 [==============================] - 0s 5ms/step - loss: 0.0080 - accuracy: 0.9993 - val_loss: 0.4517 - val_accuracy: 0.8980 - lr: 1.0000e-04\n",
      "Epoch 39/50\n",
      "59/59 [==============================] - 0s 5ms/step - loss: 0.0078 - accuracy: 0.9995 - val_loss: 0.4528 - val_accuracy: 0.9020 - lr: 1.0000e-04\n",
      "Epoch 40/50\n",
      "59/59 [==============================] - 0s 5ms/step - loss: 0.0075 - accuracy: 0.9990 - val_loss: 0.4531 - val_accuracy: 0.8960 - lr: 1.0000e-04\n",
      "Epoch 41/50\n",
      "59/59 [==============================] - 0s 5ms/step - loss: 0.0070 - accuracy: 0.9994 - val_loss: 0.4566 - val_accuracy: 0.8950 - lr: 1.0000e-04\n",
      "Epoch 42/50\n",
      "59/59 [==============================] - 0s 5ms/step - loss: 0.0066 - accuracy: 0.9995 - val_loss: 0.4671 - val_accuracy: 0.8980 - lr: 1.0000e-04\n",
      "Epoch 43/50\n",
      "59/59 [==============================] - 0s 5ms/step - loss: 0.0062 - accuracy: 0.9997 - val_loss: 0.4693 - val_accuracy: 0.8990 - lr: 1.0000e-04\n",
      "Epoch 44/50\n",
      "59/59 [==============================] - 0s 5ms/step - loss: 0.0062 - accuracy: 0.9995 - val_loss: 0.4678 - val_accuracy: 0.8970 - lr: 1.0000e-04\n",
      "Epoch 45/50\n",
      "59/59 [==============================] - 0s 5ms/step - loss: 0.0057 - accuracy: 0.9997 - val_loss: 0.4759 - val_accuracy: 0.8960 - lr: 1.0000e-04\n",
      "Epoch 46/50\n",
      "59/59 [==============================] - 0s 5ms/step - loss: 0.0052 - accuracy: 0.9999 - val_loss: 0.4775 - val_accuracy: 0.8980 - lr: 1.0000e-04\n",
      "Epoch 47/50\n",
      "59/59 [==============================] - 0s 5ms/step - loss: 0.0048 - accuracy: 0.9998 - val_loss: 0.4853 - val_accuracy: 0.8980 - lr: 1.0000e-04\n",
      "Epoch 48/50\n",
      "59/59 [==============================] - 0s 5ms/step - loss: 0.0051 - accuracy: 0.9995 - val_loss: 0.4852 - val_accuracy: 0.8950 - lr: 1.0000e-04\n",
      "Epoch 49/50\n",
      "59/59 [==============================] - 0s 5ms/step - loss: 0.0052 - accuracy: 0.9996 - val_loss: 0.4858 - val_accuracy: 0.8950 - lr: 1.0000e-04\n",
      "Epoch 50/50\n",
      "59/59 [==============================] - 0s 5ms/step - loss: 0.0043 - accuracy: 0.9999 - val_loss: 0.4915 - val_accuracy: 0.8990 - lr: 1.0000e-04\n"
     ]
    }
   ],
   "source": [
    "history = model.fit(x_train, y_train1,callbacks=callbacks, epochs=50,batch_size=256,validation_data=(x_val, y_val))"
   ]
  },
  {
   "cell_type": "code",
   "execution_count": 16,
   "id": "f7be6476",
   "metadata": {},
   "outputs": [],
   "source": [
    "y_test=np.array(y_test)"
   ]
  },
  {
   "cell_type": "code",
   "execution_count": 17,
   "id": "0b8710f9",
   "metadata": {},
   "outputs": [
    {
     "name": "stdout",
     "output_type": "stream",
     "text": [
      "125/125 [==============================] - 0s 1ms/step - loss: 0.3785 - accuracy: 0.9205\n"
     ]
    },
    {
     "data": {
      "text/plain": [
       "[0.37847012281417847, 0.9204999804496765]"
      ]
     },
     "execution_count": 17,
     "metadata": {},
     "output_type": "execute_result"
    }
   ],
   "source": [
    "model.evaluate(textcuboid_test,y_test)"
   ]
  },
  {
   "cell_type": "code",
   "execution_count": 18,
   "id": "eb178a78",
   "metadata": {},
   "outputs": [
    {
     "name": "stdout",
     "output_type": "stream",
     "text": [
      "125/125 [==============================] - 0s 1ms/step - loss: 0.2311 - accuracy: 0.9183\n"
     ]
    },
    {
     "data": {
      "text/plain": [
       "[0.23106372356414795, 0.9182500243186951]"
      ]
     },
     "execution_count": 18,
     "metadata": {},
     "output_type": "execute_result"
    }
   ],
   "source": [
    "from keras.models import load_model\n",
    "model = load_model('best_model_5.h5')\n",
    "model.evaluate(textcuboid_test,y_test)"
   ]
  },
  {
   "cell_type": "code",
   "execution_count": null,
   "id": "a3e9a566",
   "metadata": {},
   "outputs": [],
   "source": []
  }
 ],
 "metadata": {
  "kernelspec": {
   "display_name": "Python 3 (ipykernel)",
   "language": "python",
   "name": "python3"
  },
  "language_info": {
   "codemirror_mode": {
    "name": "ipython",
    "version": 3
   },
   "file_extension": ".py",
   "mimetype": "text/x-python",
   "name": "python",
   "nbconvert_exporter": "python",
   "pygments_lexer": "ipython3",
   "version": "3.8.13"
  }
 },
 "nbformat": 4,
 "nbformat_minor": 5
}
