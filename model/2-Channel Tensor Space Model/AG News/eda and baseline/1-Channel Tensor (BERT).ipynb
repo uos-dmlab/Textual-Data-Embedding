{
 "cells": [
  {
   "cell_type": "markdown",
   "id": "184f59ff",
   "metadata": {},
   "source": [
    "# 패키지 임포트"
   ]
  },
  {
   "cell_type": "code",
   "execution_count": 1,
   "id": "eb399714",
   "metadata": {},
   "outputs": [],
   "source": [
    "import random\n",
    "import pandas as pd\n",
    "import numpy as np\n",
    "import tensorflow as tf\n",
    "import nltk\n",
    "import os\n",
    "import string\n",
    "import re\n",
    "import json\n",
    "import keras\n",
    "from tensorflow.keras import layers\n",
    "from tensorflow.keras.layers import Input, Conv1D, GlobalMaxPooling1D, Dense, Dropout\n",
    "from tensorflow.keras.models import Model\n",
    "from tensorflow.keras import layers\n",
    "from keras.models import load_model\n",
    "from keras.utils.np_utils import to_categorical\n",
    "from sklearn.preprocessing import LabelEncoder\n",
    "from sklearn.model_selection import train_test_split\n",
    "from sklearn.metrics import f1_score\n",
    "import sys\n",
    "sys.path.append('C:/Users/User/Desktop/AG News')\n",
    "from data_preprocessing import *"
   ]
  },
  {
   "cell_type": "markdown",
   "id": "9aa11758-aa5b-4c7b-8ce0-345450a13178",
   "metadata": {},
   "source": [
    "# 데이터 로드"
   ]
  },
  {
   "cell_type": "code",
   "execution_count": 2,
   "id": "e1a64cf4-30d6-4a25-a431-0a701764f987",
   "metadata": {},
   "outputs": [],
   "source": [
    "train_df = pd.read_csv('C:/Users/user/Desktop/bilm-tf-master/ag_news_dataset/train.csv')\n",
    "test_df = pd.read_csv('C:/Users/user/Desktop/bilm-tf-master/ag_news_dataset/test.csv')"
   ]
  },
  {
   "cell_type": "code",
   "execution_count": null,
   "id": "8224faaa-606f-4e96-b63b-da95994b1264",
   "metadata": {},
   "outputs": [],
   "source": [
    "textcuboid=np.load('./1-Channel textcuboid_ag(bert).npy')\n",
    "textcuboid_test=np.load('./1-Channel textcuboid_test_ag(bert).npy')"
   ]
  },
  {
   "cell_type": "markdown",
   "id": "23880759-1e75-43bf-b414-a01cb297232f",
   "metadata": {},
   "source": [
    "# 전처리"
   ]
  },
  {
   "cell_type": "code",
   "execution_count": 3,
   "id": "acf55854",
   "metadata": {},
   "outputs": [],
   "source": [
    "train_df = combine_title_and_description(train_df)\n",
    "test_df = combine_title_and_description(test_df)\n",
    "\n",
    "#각 클래스별로 5000개씩 총 2만개의 데이터를 샘플랭(너무 크면 TextCuboid의 용량이 너무 커진다)\n",
    "sampled_df = train_df.groupby(\"Class Index\").apply(lambda x: x.sample(5000, random_state=10))\n",
    "\n",
    "#전처리 특수기호 없애기\n",
    "sampled_df['text']=sampled_df['text'].apply(clean_text)\n",
    "\n",
    "sampled_df = sampled_df.reset_index(drop=True)\n",
    "\n",
    "train_df = sampled_df.groupby(\"Class Index\").apply(lambda x: x.sample(4000, random_state=10))\n",
    "train_idx = [x[1] for x in train_df.index]\n",
    "test_df = sampled_df.drop(train_idx)\n",
    "\n",
    "x_train=list(train_df['text'])\n",
    "y_train=list(train_df['Class Index'])\n",
    "x_test=list(test_df['text'])\n",
    "y_test=list(test_df['Class Index'])\n",
    "\n",
    "to_txt_filter=x_train+x_test\n",
    "y=list(y_train)+list(y_test)"
   ]
  },
  {
   "cell_type": "code",
   "execution_count": 4,
   "id": "8476485c",
   "metadata": {},
   "outputs": [],
   "source": [
    "encoder=LabelEncoder()\n",
    "\n",
    "encoder.fit(y)\n",
    "\n",
    "label=encoder.transform(y)\n",
    "\n",
    "y_train=label[:16000]\n",
    "y_test=label[16000:]"
   ]
  },
  {
   "cell_type": "code",
   "execution_count": 6,
   "id": "ba42344b",
   "metadata": {},
   "outputs": [],
   "source": [
    "tmp = [[x,y] for x, y in zip(textcuboid, y_train)]\n",
    "random.shuffle(tmp)\n",
    "textcuboid = [n[0] for n in tmp]\n",
    "y_train = [n[1] for n in tmp]\n",
    "textcuboid=np.array(textcuboid)\n",
    "y_train=np.array(y_train)"
   ]
  },
  {
   "cell_type": "code",
   "execution_count": null,
   "id": "ccca9ff1-e038-43d0-853b-5ce965ab90e2",
   "metadata": {},
   "outputs": [],
   "source": [
    "x_train=textcuboid[1000:]\n",
    "x_val=textcuboid[:1000]\n",
    "y_train1=y_train[1000:]\n",
    "y_val=y_train[:1000]"
   ]
  },
  {
   "cell_type": "markdown",
   "id": "753a80ba-0bf5-4825-9818-4fb454877096",
   "metadata": {},
   "source": [
    "# 모델 빌드"
   ]
  },
  {
   "cell_type": "code",
   "execution_count": 5,
   "id": "ddec5841",
   "metadata": {},
   "outputs": [
    {
     "name": "stdout",
     "output_type": "stream",
     "text": [
      "WARNING:tensorflow:`period` argument is deprecated. Please use `save_freq` to specify the frequency in number of batches seen.\n"
     ]
    }
   ],
   "source": [
    "callbacks = [\n",
    "    keras.callbacks.ModelCheckpoint(\n",
    "        \"best_model_{epoch}.h5\", save_best_only=False, period=5\n",
    "    ),\n",
    "    keras.callbacks.ReduceLROnPlateau(\n",
    "        monitor=\"val_loss\", factor=0.5, patience=2, min_lr=0.0001\n",
    "    ),\n",
    "]"
   ]
  },
  {
   "cell_type": "code",
   "execution_count": 6,
   "id": "ce1b3b58",
   "metadata": {},
   "outputs": [
    {
     "name": "stdout",
     "output_type": "stream",
     "text": [
      "Model: \"model\"\n",
      "_________________________________________________________________\n",
      " Layer (type)                Output Shape              Param #   \n",
      "=================================================================\n",
      " input_1 (InputLayer)        [(None, 46, 768)]         0         \n",
      "                                                                 \n",
      " conv1d (Conv1D)             (None, 46, 256)           196864    \n",
      "                                                                 \n",
      " global_max_pooling1d (Globa  (None, 256)              0         \n",
      " lMaxPooling1D)                                                  \n",
      "                                                                 \n",
      " dense (Dense)               (None, 256)               65792     \n",
      "                                                                 \n",
      " dropout (Dropout)           (None, 256)               0         \n",
      "                                                                 \n",
      " dense_1 (Dense)             (None, 4)                 1028      \n",
      "                                                                 \n",
      "=================================================================\n",
      "Total params: 263,684\n",
      "Trainable params: 263,684\n",
      "Non-trainable params: 0\n",
      "_________________________________________________________________\n"
     ]
    }
   ],
   "source": [
    "input_layer = Input(shape=(46, 768))\n",
    "conv1 = Conv1D(256, 1, padding='valid', activation='relu')(input_layer)\n",
    "pooling = GlobalMaxPooling1D()(conv1)\n",
    "\n",
    "x = Dense(256, activation='relu')(pooling)\n",
    "x = Dropout(0.5)(x)\n",
    "output_layer = Dense(4, activation='softmax')(x)\n",
    "\n",
    "model = Model(inputs=input_layer, outputs=output_layer)\n",
    "\n",
    "model.compile(optimizer='adam', loss='sparse_categorical_crossentropy', metrics=['accuracy'])\n",
    "\n",
    "model.summary()"
   ]
  },
  {
   "cell_type": "code",
   "execution_count": 45,
   "id": "594af0a4",
   "metadata": {
    "scrolled": true
   },
   "outputs": [
    {
     "name": "stdout",
     "output_type": "stream",
     "text": [
      "Epoch 1/50\n",
      "59/59 [==============================] - 1s 14ms/step - loss: 0.9826 - accuracy: 0.7567 - val_loss: 0.3581 - val_accuracy: 0.8940 - lr: 0.0010\n",
      "Epoch 2/50\n",
      "59/59 [==============================] - 1s 11ms/step - loss: 0.3545 - accuracy: 0.8827 - val_loss: 0.3206 - val_accuracy: 0.8990 - lr: 0.0010\n",
      "Epoch 3/50\n",
      "59/59 [==============================] - 1s 11ms/step - loss: 0.2859 - accuracy: 0.9027 - val_loss: 0.3083 - val_accuracy: 0.9010 - lr: 0.0010\n",
      "Epoch 4/50\n",
      "59/59 [==============================] - 1s 12ms/step - loss: 0.2355 - accuracy: 0.9160 - val_loss: 0.3092 - val_accuracy: 0.8960 - lr: 0.0010\n",
      "Epoch 5/50\n",
      "59/59 [==============================] - 1s 11ms/step - loss: 0.1919 - accuracy: 0.9304 - val_loss: 0.2999 - val_accuracy: 0.9050 - lr: 0.0010\n",
      "Epoch 6/50\n",
      "59/59 [==============================] - 1s 11ms/step - loss: 0.1562 - accuracy: 0.9436 - val_loss: 0.3054 - val_accuracy: 0.9010 - lr: 0.0010\n",
      "Epoch 7/50\n",
      "59/59 [==============================] - 1s 11ms/step - loss: 0.1243 - accuracy: 0.9546 - val_loss: 0.3183 - val_accuracy: 0.9100 - lr: 0.0010\n",
      "Epoch 8/50\n",
      "59/59 [==============================] - 1s 11ms/step - loss: 0.0854 - accuracy: 0.9695 - val_loss: 0.3388 - val_accuracy: 0.9020 - lr: 5.0000e-04\n",
      "Epoch 9/50\n",
      "59/59 [==============================] - 1s 11ms/step - loss: 0.0689 - accuracy: 0.9759 - val_loss: 0.3342 - val_accuracy: 0.9110 - lr: 5.0000e-04\n",
      "Epoch 10/50\n",
      "59/59 [==============================] - 1s 11ms/step - loss: 0.0543 - accuracy: 0.9835 - val_loss: 0.3425 - val_accuracy: 0.9140 - lr: 2.5000e-04\n",
      "Epoch 11/50\n",
      "59/59 [==============================] - 1s 10ms/step - loss: 0.0467 - accuracy: 0.9870 - val_loss: 0.3454 - val_accuracy: 0.9140 - lr: 2.5000e-04\n",
      "Epoch 12/50\n",
      "59/59 [==============================] - 1s 10ms/step - loss: 0.0401 - accuracy: 0.9885 - val_loss: 0.3574 - val_accuracy: 0.9130 - lr: 1.2500e-04\n",
      "Epoch 13/50\n",
      "59/59 [==============================] - 1s 11ms/step - loss: 0.0363 - accuracy: 0.9889 - val_loss: 0.3673 - val_accuracy: 0.9130 - lr: 1.2500e-04\n",
      "Epoch 14/50\n",
      "59/59 [==============================] - 1s 11ms/step - loss: 0.0369 - accuracy: 0.9884 - val_loss: 0.3644 - val_accuracy: 0.9170 - lr: 1.0000e-04\n",
      "Epoch 15/50\n",
      "59/59 [==============================] - 1s 11ms/step - loss: 0.0333 - accuracy: 0.9907 - val_loss: 0.3681 - val_accuracy: 0.9150 - lr: 1.0000e-04\n",
      "Epoch 16/50\n",
      "59/59 [==============================] - 1s 11ms/step - loss: 0.0311 - accuracy: 0.9920 - val_loss: 0.3718 - val_accuracy: 0.9140 - lr: 1.0000e-04\n",
      "Epoch 17/50\n",
      "59/59 [==============================] - 1s 11ms/step - loss: 0.0292 - accuracy: 0.9923 - val_loss: 0.3719 - val_accuracy: 0.9130 - lr: 1.0000e-04\n",
      "Epoch 18/50\n",
      "59/59 [==============================] - 1s 11ms/step - loss: 0.0286 - accuracy: 0.9928 - val_loss: 0.3789 - val_accuracy: 0.9130 - lr: 1.0000e-04\n",
      "Epoch 19/50\n",
      "59/59 [==============================] - 1s 11ms/step - loss: 0.0277 - accuracy: 0.9934 - val_loss: 0.3812 - val_accuracy: 0.9130 - lr: 1.0000e-04\n",
      "Epoch 20/50\n",
      "59/59 [==============================] - 1s 12ms/step - loss: 0.0249 - accuracy: 0.9936 - val_loss: 0.3837 - val_accuracy: 0.9150 - lr: 1.0000e-04\n",
      "Epoch 21/50\n",
      "59/59 [==============================] - 1s 11ms/step - loss: 0.0254 - accuracy: 0.9938 - val_loss: 0.3927 - val_accuracy: 0.9120 - lr: 1.0000e-04\n",
      "Epoch 22/50\n",
      "59/59 [==============================] - 1s 11ms/step - loss: 0.0229 - accuracy: 0.9947 - val_loss: 0.3900 - val_accuracy: 0.9140 - lr: 1.0000e-04\n",
      "Epoch 23/50\n",
      "59/59 [==============================] - 1s 12ms/step - loss: 0.0219 - accuracy: 0.9955 - val_loss: 0.3965 - val_accuracy: 0.9150 - lr: 1.0000e-04\n",
      "Epoch 24/50\n",
      "59/59 [==============================] - 1s 12ms/step - loss: 0.0199 - accuracy: 0.9957 - val_loss: 0.3950 - val_accuracy: 0.9140 - lr: 1.0000e-04\n",
      "Epoch 25/50\n",
      "59/59 [==============================] - 1s 12ms/step - loss: 0.0193 - accuracy: 0.9957 - val_loss: 0.4026 - val_accuracy: 0.9120 - lr: 1.0000e-04\n",
      "Epoch 26/50\n",
      "59/59 [==============================] - 1s 12ms/step - loss: 0.0182 - accuracy: 0.9967 - val_loss: 0.4072 - val_accuracy: 0.9130 - lr: 1.0000e-04\n",
      "Epoch 27/50\n",
      "59/59 [==============================] - 1s 11ms/step - loss: 0.0164 - accuracy: 0.9971 - val_loss: 0.4129 - val_accuracy: 0.9130 - lr: 1.0000e-04\n",
      "Epoch 28/50\n",
      "59/59 [==============================] - 1s 11ms/step - loss: 0.0168 - accuracy: 0.9962 - val_loss: 0.4112 - val_accuracy: 0.9140 - lr: 1.0000e-04\n",
      "Epoch 29/50\n",
      "59/59 [==============================] - 1s 11ms/step - loss: 0.0154 - accuracy: 0.9973 - val_loss: 0.4190 - val_accuracy: 0.9140 - lr: 1.0000e-04\n",
      "Epoch 30/50\n",
      "59/59 [==============================] - 1s 11ms/step - loss: 0.0148 - accuracy: 0.9972 - val_loss: 0.4160 - val_accuracy: 0.9130 - lr: 1.0000e-04\n",
      "Epoch 31/50\n",
      "59/59 [==============================] - 1s 11ms/step - loss: 0.0149 - accuracy: 0.9971 - val_loss: 0.4207 - val_accuracy: 0.9150 - lr: 1.0000e-04\n",
      "Epoch 32/50\n",
      "59/59 [==============================] - 1s 11ms/step - loss: 0.0140 - accuracy: 0.9972 - val_loss: 0.4255 - val_accuracy: 0.9140 - lr: 1.0000e-04\n",
      "Epoch 33/50\n",
      "59/59 [==============================] - 1s 11ms/step - loss: 0.0136 - accuracy: 0.9973 - val_loss: 0.4291 - val_accuracy: 0.9140 - lr: 1.0000e-04\n",
      "Epoch 34/50\n",
      "59/59 [==============================] - 1s 12ms/step - loss: 0.0132 - accuracy: 0.9973 - val_loss: 0.4302 - val_accuracy: 0.9130 - lr: 1.0000e-04\n",
      "Epoch 35/50\n",
      "59/59 [==============================] - 1s 12ms/step - loss: 0.0132 - accuracy: 0.9971 - val_loss: 0.4367 - val_accuracy: 0.9140 - lr: 1.0000e-04\n",
      "Epoch 36/50\n",
      "59/59 [==============================] - 1s 11ms/step - loss: 0.0119 - accuracy: 0.9980 - val_loss: 0.4331 - val_accuracy: 0.9150 - lr: 1.0000e-04\n",
      "Epoch 37/50\n",
      "59/59 [==============================] - 1s 11ms/step - loss: 0.0111 - accuracy: 0.9979 - val_loss: 0.4503 - val_accuracy: 0.9140 - lr: 1.0000e-04\n",
      "Epoch 38/50\n",
      "59/59 [==============================] - 1s 12ms/step - loss: 0.0110 - accuracy: 0.9977 - val_loss: 0.4476 - val_accuracy: 0.9160 - lr: 1.0000e-04\n",
      "Epoch 39/50\n",
      "59/59 [==============================] - 1s 11ms/step - loss: 0.0105 - accuracy: 0.9979 - val_loss: 0.4460 - val_accuracy: 0.9130 - lr: 1.0000e-04\n",
      "Epoch 40/50\n",
      "59/59 [==============================] - 1s 11ms/step - loss: 0.0099 - accuracy: 0.9984 - val_loss: 0.4565 - val_accuracy: 0.9120 - lr: 1.0000e-04\n",
      "Epoch 41/50\n",
      "59/59 [==============================] - 1s 11ms/step - loss: 0.0096 - accuracy: 0.9979 - val_loss: 0.4551 - val_accuracy: 0.9140 - lr: 1.0000e-04\n",
      "Epoch 42/50\n",
      "59/59 [==============================] - 1s 11ms/step - loss: 0.0087 - accuracy: 0.9985 - val_loss: 0.4549 - val_accuracy: 0.9130 - lr: 1.0000e-04\n",
      "Epoch 43/50\n",
      "59/59 [==============================] - 1s 11ms/step - loss: 0.0081 - accuracy: 0.9987 - val_loss: 0.4718 - val_accuracy: 0.9130 - lr: 1.0000e-04\n",
      "Epoch 44/50\n",
      "59/59 [==============================] - 1s 11ms/step - loss: 0.0074 - accuracy: 0.9986 - val_loss: 0.4723 - val_accuracy: 0.9120 - lr: 1.0000e-04\n",
      "Epoch 45/50\n",
      "59/59 [==============================] - 1s 12ms/step - loss: 0.0072 - accuracy: 0.9987 - val_loss: 0.4930 - val_accuracy: 0.9090 - lr: 1.0000e-04\n",
      "Epoch 46/50\n",
      "59/59 [==============================] - 1s 12ms/step - loss: 0.0082 - accuracy: 0.9983 - val_loss: 0.4726 - val_accuracy: 0.9150 - lr: 1.0000e-04\n",
      "Epoch 47/50\n",
      "59/59 [==============================] - 1s 11ms/step - loss: 0.0071 - accuracy: 0.9987 - val_loss: 0.4763 - val_accuracy: 0.9130 - lr: 1.0000e-04\n",
      "Epoch 48/50\n",
      "59/59 [==============================] - 1s 11ms/step - loss: 0.0070 - accuracy: 0.9988 - val_loss: 0.4808 - val_accuracy: 0.9140 - lr: 1.0000e-04\n",
      "Epoch 49/50\n",
      "59/59 [==============================] - 1s 11ms/step - loss: 0.0060 - accuracy: 0.9991 - val_loss: 0.4864 - val_accuracy: 0.9140 - lr: 1.0000e-04\n",
      "Epoch 50/50\n",
      "59/59 [==============================] - 1s 11ms/step - loss: 0.0065 - accuracy: 0.9989 - val_loss: 0.4838 - val_accuracy: 0.9140 - lr: 1.0000e-04\n"
     ]
    }
   ],
   "source": [
    "history = model.fit(x_train, y_train1,callbacks=callbacks, epochs=50,batch_size=256,validation_data=(x_val, y_val))"
   ]
  },
  {
   "cell_type": "code",
   "execution_count": 46,
   "id": "0c01aee7",
   "metadata": {},
   "outputs": [],
   "source": [
    "y_test=np.array(y_test)"
   ]
  },
  {
   "cell_type": "code",
   "execution_count": 47,
   "id": "0b8710f9",
   "metadata": {},
   "outputs": [
    {
     "name": "stdout",
     "output_type": "stream",
     "text": [
      "125/125 [==============================] - 0s 2ms/step - loss: 0.4534 - accuracy: 0.9175\n"
     ]
    },
    {
     "data": {
      "text/plain": [
       "[0.45344215631484985, 0.9175000190734863]"
      ]
     },
     "execution_count": 47,
     "metadata": {},
     "output_type": "execute_result"
    }
   ],
   "source": [
    "model.evaluate(textcuboid_test,y_test)"
   ]
  },
  {
   "cell_type": "code",
   "execution_count": 56,
   "id": "eb178a78",
   "metadata": {},
   "outputs": [
    {
     "name": "stdout",
     "output_type": "stream",
     "text": [
      "125/125 [==============================] - 0s 2ms/step - loss: 0.4542 - accuracy: 0.9160\n"
     ]
    },
    {
     "data": {
      "text/plain": [
       "[0.45421871542930603, 0.9160000085830688]"
      ]
     },
     "execution_count": 56,
     "metadata": {},
     "output_type": "execute_result"
    }
   ],
   "source": [
    "from keras.models import load_model\n",
    "model = load_model('best_model_45.h5')\n",
    "model.evaluate(textcuboid_test,y_test)"
   ]
  },
  {
   "cell_type": "code",
   "execution_count": null,
   "id": "2775172f",
   "metadata": {},
   "outputs": [],
   "source": []
  }
 ],
 "metadata": {
  "kernelspec": {
   "display_name": "Python 3 (ipykernel)",
   "language": "python",
   "name": "python3"
  },
  "language_info": {
   "codemirror_mode": {
    "name": "ipython",
    "version": 3
   },
   "file_extension": ".py",
   "mimetype": "text/x-python",
   "name": "python",
   "nbconvert_exporter": "python",
   "pygments_lexer": "ipython3",
   "version": "3.8.13"
  }
 },
 "nbformat": 4,
 "nbformat_minor": 5
}
