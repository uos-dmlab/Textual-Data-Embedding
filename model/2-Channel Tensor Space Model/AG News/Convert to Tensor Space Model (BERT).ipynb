{
 "cells": [
  {
   "cell_type": "markdown",
   "id": "184f59ff",
   "metadata": {},
   "source": [
    "# 패키지 임포트"
   ]
  },
  {
   "cell_type": "code",
   "execution_count": 1,
   "id": "849c1414",
   "metadata": {},
   "outputs": [],
   "source": [
    "import numpy as np\n",
    "import pandas as pd\n",
    "import tensorflow as tf\n",
    "import nltk\n",
    "import re\n",
    "import os\n",
    "import string\n",
    "import json\n",
    "import keras\n",
    "import wordninja\n",
    "import pickle\n",
    "from data_preprocessing import *\n",
    "from sklearn.preprocessing import LabelEncoder\n",
    "from sklearn.feature_selection import SelectKBest\n",
    "from sklearn.feature_selection import chi2\n",
    "from sklearn.feature_extraction.text import CountVectorizer\n",
    "from sklearn.model_selection import train_test_split\n",
    "from sklearn.preprocessing import LabelEncoder"
   ]
  },
  {
   "cell_type": "markdown",
   "id": "3bd34daf-83eb-4e02-8e56-ad29e4d4a9a3",
   "metadata": {},
   "source": [
    "# 데이터 로드"
   ]
  },
  {
   "cell_type": "code",
   "execution_count": 2,
   "id": "b16e87f3-5bc7-48ce-8a22-e7ef77cbc1ff",
   "metadata": {},
   "outputs": [],
   "source": [
    "train_df = pd.read_csv('C:/Users/user/Desktop/bilm-tf-master/ag_news_dataset/train.csv')\n",
    "test_df = pd.read_csv('C:/Users/user/Desktop/bilm-tf-master/ag_news_dataset/test.csv')"
   ]
  },
  {
   "cell_type": "markdown",
   "id": "117bb042-5138-4698-89f3-6686eeafc953",
   "metadata": {},
   "source": [
    "# 전처리"
   ]
  },
  {
   "cell_type": "code",
   "execution_count": 3,
   "id": "287113d1-554f-4998-bb7a-a19102036234",
   "metadata": {},
   "outputs": [],
   "source": [
    "train_df = combine_title_and_description(train_df)\n",
    "test_df = combine_title_and_description(test_df)\n",
    "\n",
    "#각 클래스별로 5000개씩 총 2만개의 데이터를 샘플랭(너무 크면 TextCuboid의 용량이 너무 커진다)\n",
    "sampled_df = train_df.groupby(\"Class Index\").apply(lambda x: x.sample(5000, random_state=10))\n",
    "\n",
    "#전처리 특수기호 없애기\n",
    "sampled_df['text']=sampled_df['text'].apply(clean_text)\n",
    "\n",
    "sampled_df = sampled_df.reset_index(drop=True)\n",
    "\n",
    "train_df = sampled_df.groupby(\"Class Index\").apply(lambda x: x.sample(4000, random_state=10))\n",
    "train_idx = [x[1] for x in train_df.index]\n",
    "test_df = sampled_df.drop(train_idx)\n",
    "\n",
    "x_train=list(train_df['text'])\n",
    "y_train=list(train_df['Class Index'])\n",
    "x_test=list(test_df['text'])\n",
    "y_test=list(test_df['Class Index'])\n",
    "\n",
    "to_txt_filter=x_train+x_test\n",
    "y=list(y_train)+list(y_test)"
   ]
  },
  {
   "cell_type": "code",
   "execution_count": 4,
   "id": "5519719b",
   "metadata": {},
   "outputs": [],
   "source": [
    "encoder=LabelEncoder()\n",
    "\n",
    "encoder.fit(y)\n",
    "\n",
    "label=encoder.transform(y)\n",
    "\n",
    "y_train=label[:16000]\n",
    "y_test=label[16000:]"
   ]
  },
  {
   "cell_type": "code",
   "execution_count": 5,
   "id": "e8096053",
   "metadata": {},
   "outputs": [],
   "source": [
    "#불용어 불러오기\n",
    "with open('C:/Users/user/Desktop/english.txt', 'r', encoding='utf-8') as file:\n",
    "    stopwords = [line.strip() for line in file]"
   ]
  },
  {
   "cell_type": "code",
   "execution_count": 6,
   "id": "ead183b3",
   "metadata": {},
   "outputs": [],
   "source": [
    "stopwords=stopwords+['aa','aaa', 'ab']"
   ]
  },
  {
   "cell_type": "code",
   "execution_count": 7,
   "id": "b5c372fe",
   "metadata": {},
   "outputs": [
    {
     "name": "stderr",
     "output_type": "stream",
     "text": [
      "C:\\ProgramData\\anaconda3\\envs\\class\\lib\\site-packages\\sklearn\\feature_extraction\\text.py:408: UserWarning: Your stop_words may be inconsistent with your preprocessing. Tokenizing the stop words generated tokens ['ain', 'daren', 'hadn', 'herse', 'himse', 'itse', 'mayn', 'mightn', 'mon', 'mustn', 'myse', 'needn', 'oughtn', 'shan'] not in stop_words.\n",
      "  warnings.warn(\n"
     ]
    }
   ],
   "source": [
    "from sklearn.feature_selection import SelectKBest\n",
    "from sklearn.feature_selection import chi2\n",
    "from sklearn.feature_extraction.text import CountVectorizer\n",
    "vect = CountVectorizer(stop_words=stopwords)\n",
    "X_dtm = vect.fit_transform(to_txt_filter)\n",
    "X_dtm = X_dtm.toarray()\n",
    "X_new = SelectKBest(chi2, k=10000).fit(X_dtm, y)\n",
    "TorF = X_new.get_support()\n",
    "TorF\n",
    "import numpy as np\n",
    "word_view=np.array(vect.get_feature_names_out())\n",
    "feature_lst10000=word_view[TorF]"
   ]
  },
  {
   "cell_type": "markdown",
   "id": "c02f3e46",
   "metadata": {},
   "source": [
    "# tensor space model"
   ]
  },
  {
   "cell_type": "code",
   "execution_count": 9,
   "id": "f4efe4ff",
   "metadata": {},
   "outputs": [],
   "source": [
    "doc_lst=[]\n",
    "for sen in x_train:\n",
    "    doc_lst.append(sen.split())"
   ]
  },
  {
   "cell_type": "code",
   "execution_count": 10,
   "id": "1fcda7dc",
   "metadata": {},
   "outputs": [],
   "source": [
    "test_lst=[]\n",
    "for sen in x_test:\n",
    "    test_lst.append(sen.split())"
   ]
  },
  {
   "cell_type": "code",
   "execution_count": 11,
   "id": "c00fdd22",
   "metadata": {},
   "outputs": [
    {
     "name": "stdout",
     "output_type": "stream",
     "text": [
      "Train_data에서 가장 많은 feature를 가진 문서의 경우 feature 46  개를 가짐\n",
      "Train_data에서 가장 적은 feature를 가진 문서의 경우 feature 1  개를 가짐\n"
     ]
    }
   ],
   "source": [
    "#Train_data에서 문서가 갖고 있는 선별한 feauture의 수 확인\n",
    "count_lst=[]\n",
    "for i in range(16000):\n",
    "    total_feature_cnt=0\n",
    "    for j in range(10000):\n",
    "        if feature_lst10000[j] in doc_lst[i]:\n",
    "            total_feature_cnt+=1\n",
    "    count_lst.append(total_feature_cnt)\n",
    "    \n",
    "print('Train_data에서 가장 많은 feature를 가진 문서의 경우 feature',max(count_lst),' 개를 가짐')\n",
    "print('Train_data에서 가장 적은 feature를 가진 문서의 경우 feature',min(count_lst),' 개를 가짐')\n",
    "\n",
    "train_max_feature=max(count_lst)"
   ]
  },
  {
   "cell_type": "code",
   "execution_count": 12,
   "id": "986eda6d",
   "metadata": {},
   "outputs": [
    {
     "name": "stdout",
     "output_type": "stream",
     "text": [
      "Test_data에서 가장 많은 feature를 가진 문서의 경우 feature 40  개를 가짐\n",
      "Test_data에서 가장 적은 feature를 가진 문서의 경우 feature 1  개를 가짐\n"
     ]
    }
   ],
   "source": [
    "#Test_data에서 문서가 갖고 있는 선별한 feauture의 수 확인\n",
    "count_lst=[]\n",
    "for i in range(4000):\n",
    "    \n",
    "    total_feature_cnt=0\n",
    "    for j in range(10000):\n",
    "        if feature_lst10000[j] in test_lst[i]:\n",
    "            total_feature_cnt+=1\n",
    "    count_lst.append(total_feature_cnt)\n",
    "    \n",
    "print('Test_data에서 가장 많은 feature를 가진 문서의 경우 feature',max(count_lst),' 개를 가짐')\n",
    "print('Test_data에서 가장 적은 feature를 가진 문서의 경우 feature',min(count_lst),' 개를 가짐')\n",
    "\n",
    "test_max_feature=max(count_lst)\n",
    "\n",
    "max_feature=max(train_max_feature,test_max_feature)"
   ]
  },
  {
   "cell_type": "code",
   "execution_count": 13,
   "id": "4541e3a9",
   "metadata": {},
   "outputs": [],
   "source": [
    "#1-Channel TextCuboid 생성\n",
    "textcuboid=[]\n",
    "\n",
    "for i in range(16000):\n",
    "    frame1=np.zeros((max_feature,768))\n",
    "    idx_cnt=0\n",
    "    for j in range(10000):\n",
    "        if feature_lst10000[j] in doc_lst[i]:\n",
    "            frame1[idx_cnt]=np.load('./bert_embedding/train(bert)/doc%d.npy'%i)[doc_lst[i].index(feature_lst10000[j])]\n",
    "            idx_cnt+=1\n",
    "    textcuboid.append(frame1)\n",
    "\n",
    "textcuboid=np.array(textcuboid)\n",
    "\n",
    "np.save('./1-Channel textcuboid_ag(bert).npy',textcuboid)"
   ]
  },
  {
   "cell_type": "code",
   "execution_count": 14,
   "id": "d62745a4",
   "metadata": {},
   "outputs": [],
   "source": [
    "#1-Channel TextCuboid 생성\n",
    "textcuboid_test=[]\n",
    "\n",
    "for i in range(4000):\n",
    "    frame1=np.zeros((max_feature,768))\n",
    "    idx_cnt=0\n",
    "    for j in range(10000):\n",
    "        if feature_lst10000[j] in test_lst[i]:\n",
    "            frame1[idx_cnt]=np.load('./bert_embedding/test(bert)/test%d.npy'%i)[test_lst[i].index(feature_lst10000[j])]\n",
    "            idx_cnt+=1\n",
    "\n",
    "    textcuboid_test.append(frame1)\n",
    "\n",
    "textcuboid_test=np.array(textcuboid_test)\n",
    "np.save('./1-Channel textcuboid_test_ag(bert).npy',textcuboid_test)"
   ]
  },
  {
   "cell_type": "code",
   "execution_count": null,
   "id": "a3071295",
   "metadata": {},
   "outputs": [],
   "source": []
  },
  {
   "cell_type": "code",
   "execution_count": null,
   "id": "ea58fb5c",
   "metadata": {},
   "outputs": [],
   "source": []
  }
 ],
 "metadata": {
  "kernelspec": {
   "display_name": "Python 3 (ipykernel)",
   "language": "python",
   "name": "python3"
  },
  "language_info": {
   "codemirror_mode": {
    "name": "ipython",
    "version": 3
   },
   "file_extension": ".py",
   "mimetype": "text/x-python",
   "name": "python",
   "nbconvert_exporter": "python",
   "pygments_lexer": "ipython3",
   "version": "3.8.13"
  }
 },
 "nbformat": 4,
 "nbformat_minor": 5
}
