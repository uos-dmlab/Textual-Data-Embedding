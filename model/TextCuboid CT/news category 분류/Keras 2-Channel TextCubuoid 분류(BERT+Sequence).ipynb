{
 "cells": [
  {
   "cell_type": "markdown",
   "id": "67c39c9f",
   "metadata": {},
   "source": [
    "Base에서 실행"
   ]
  },
  {
   "cell_type": "markdown",
   "id": "184f59ff",
   "metadata": {},
   "source": [
    "# Textcuboid\n"
   ]
  },
  {
   "cell_type": "code",
   "execution_count": 1,
   "id": "e5f5e87a",
   "metadata": {},
   "outputs": [],
   "source": [
    "import os\n",
    "os.environ[\"CUDA_VISIBLE_DEVICES\"] = \"-1\""
   ]
  },
  {
   "cell_type": "code",
   "execution_count": 1,
   "id": "849c1414",
   "metadata": {},
   "outputs": [],
   "source": [
    "import matplotlib.pyplot as plt\n",
    "import numpy as np\n",
    "import pandas as pd\n",
    "import tensorflow as tf\n",
    "import re\n",
    "import string\n",
    "from sklearn.metrics import precision_score, recall_score, f1_score\n",
    "from sklearn.model_selection import train_test_split\n",
    "from sklearn.preprocessing import LabelEncoder\n",
    "\n",
    "## Read the data into a dataframe\n",
    "import json\n",
    "import pandas as pd\n",
    "import numpy as np\n",
    "import re\n",
    "import string\n",
    "import nltk\n",
    "\n",
    "\n",
    "data=[]\n",
    "with open('C:/Users/user/Desktop/bilm-tf-master/textdataset/News_Category_Dataset_v3.json', 'r') as f:\n",
    "    for line in f:\n",
    "        content = json.loads(line)\n",
    "        data.append(content)\n",
    "df = pd.DataFrame(data=data)"
   ]
  },
  {
   "cell_type": "code",
   "execution_count": 2,
   "id": "c6cde120",
   "metadata": {},
   "outputs": [
    {
     "name": "stdout",
     "output_type": "stream",
     "text": [
      "(189815, 6)\n"
     ]
    }
   ],
   "source": [
    "df = df[~df['short_description'].apply(lambda x: len(x)==0)]\n",
    "print(df.shape)\n",
    "\n",
    "#중복되는 카테고리 통합\n",
    "df[\"category\"] = df.category.replace(\n",
    "    {\n",
    "        \"THE WORLDPOST\": \"WORLD NEWS\",\n",
    "        \"WORLDPOST\": \"WORLD NEWS\",\n",
    "        \"ARTS\": \"ARTS & CULTURE\",\n",
    "        \"CULTURE & ARTS\": \"ARTS & CULTURE\",\n",
    "        \"HEALTHY LIVING\": \"WELLNESS\",\n",
    "        \"QUEER VOICES\": \"VOICES\",\n",
    "        \"LATINO VOICES\": \"VOICES\",\n",
    "        \"BLACK VOICES\": \"VOICES\",\n",
    "        \"STYLE\": \"STYLE & BEATUY\",\n",
    "        \"GREEN\": \"ENVIRONMENT\",\n",
    "        \"TASTE\": \"FOOD & DRINK\",\n",
    "        \"MONEY\": \"BUSINESS\",\n",
    "        \"PARENTING\": \"PARENTS\"\n",
    "    }\n",
    ")\n",
    "\n",
    "df = df[['headline', 'short_description','category']]\n",
    "df['input_data']= df.apply(lambda x: str(x['headline']) + str(x['short_description']), axis=1)\n",
    "\n",
    "def clean_text(text):\n",
    "    text=str(text).lower() #Converts text to lowercase\n",
    "    text=re.sub('\\d+', '', text) #removes numbers\n",
    "    text=re.sub('\\[.*?\\]', '', text) #removes HTML tags\n",
    "    text=re.sub('https?://\\S+|www\\.\\S+', '', text) #removes url\n",
    "    text=re.sub(r\"[\"\n",
    "                           u\"\\U0001F600-\\U0001F64F\"  # emoticons\n",
    "                           u\"\\U0001F300-\\U0001F5FF\"  # symbols & pictographs\n",
    "                           u\"\\U0001F680-\\U0001F6FF\"  # transport & map symbols\n",
    "                           u\"\\U0001F1E0-\\U0001F1FF\"  # flags (iOS)\n",
    "                           u\"\\U00002702-\\U000027B0\"\n",
    "                           u\"\\U000024C2-\\U0001F251\"\n",
    "                           \"]+\", \"\", text) #removes emojis\n",
    "    text=re.sub('[%s]' % re.escape(string.punctuation),'',text) #removes punctuations\n",
    "    #text = re.sub('\\n', '', text)\n",
    "    #text = re.sub('\\w*\\d\\w*', '', text)\n",
    "    return text\n",
    "\n",
    "df['clean_text']=df['input_data'].apply(clean_text)\n",
    "\n",
    "class0=list(df[df['category'] == 'POLITICS'].sample(1000, random_state=1)['clean_text'])\n",
    "class1=list(df[df['category'] == 'WELLNESS'].sample(1000, random_state=1)['clean_text'])\n",
    "class2=list(df[df['category'] == 'ENTERTAINMENT'].sample(1000, random_state=1)['clean_text'])\n",
    "class3=list(df[df['category'] == 'PARENTS'].sample(1000, random_state=1)['clean_text'])\n",
    "class4=list(df[df['category'] == 'VOICES'].sample(1000, random_state=1)['clean_text'])\n",
    "class5=list(df[df['category'] == 'STYLE & BEAUTY'].sample(1000, random_state=1)['clean_text'])\n",
    "class6=list(df[df['category'] == 'TRAVEL'].sample(1000, random_state=1)['clean_text'])\n",
    "class7=list(df[df['category'] == 'FOOD & DRINK'].sample(1000, random_state=1)['clean_text'])\n",
    "class8=list(df[df['category'] == 'WORLD NEWS'].sample(1000, random_state=1)['clean_text'])\n",
    "class9=list(df[df['category'] == 'BUSINESS'].sample(1000, random_state=1)['clean_text'])\n",
    "\n",
    "X_list=class0+class1+class2+class3+class4+class5+class6+class7+class8+class9\n",
    "\n",
    "y=[]\n",
    "for i in range(10):\n",
    "    y+=[i]*1000\n",
    "\n",
    "clr_x_data=[]\n",
    "pattern = '[^a-z ]'\n",
    "for sen in X_list:\n",
    "    clr_x_data.append(re.sub(pattern, ' ', sen))\n",
    "\n",
    "X_list=[]\n",
    "for sen in clr_x_data:\n",
    "    X_list.append(' '.join(sen.split()))\n",
    "\n",
    "train_idx=[]\n",
    "for i in range(10):\n",
    "    train_idx+=[j+i*1000 for j in range(800)]\n",
    "\n",
    "test_idx=[]\n",
    "for i in range(10):\n",
    "    test_idx+=[j+800+i*1000 for j in range(200)]\n",
    "\n",
    "x_train=[]\n",
    "y_train=[]\n",
    "for i in train_idx:\n",
    "    x_train.append(X_list[i])\n",
    "    y_train.append(y[i])\n",
    "\n",
    "x_test=[]\n",
    "y_test=[]\n",
    "for i in test_idx:\n",
    "    x_test.append(X_list[i])\n",
    "    y_test.append(y[i])"
   ]
  },
  {
   "cell_type": "code",
   "execution_count": 3,
   "id": "532b2e90",
   "metadata": {},
   "outputs": [],
   "source": [
    "sos_x_train=[]\n",
    "sos_x_test=[]\n",
    "for sen in x_train:\n",
    "    sos_x_train.append('<sos> '+sen)\n",
    "for sen in x_test:\n",
    "    sos_x_test.append('<sos> '+sen)\n",
    "\n",
    "all_txt=sos_x_train+sos_x_test\n",
    "\n",
    "from tensorflow.keras.preprocessing.text import Tokenizer\n",
    "tokenizer = Tokenizer()\n",
    "tokenizer.fit_on_texts(all_txt)\n",
    "\n",
    "vocab_size =len(tokenizer.word_index)+1 #1을 더해야 에러가 안터짐 토큰 영향으로 보임\n",
    "\n",
    "x_train_encoded = tokenizer.texts_to_sequences(sos_x_train)\n",
    "x_test_encoded = tokenizer.texts_to_sequences(sos_x_test)\n",
    "\n",
    "max_len = 165\n",
    "\n",
    "xtext_train = tf.keras.preprocessing.sequence.pad_sequences(x_train_encoded, maxlen=max_len)\n",
    "xtext_test = tf.keras.preprocessing.sequence.pad_sequences(x_test_encoded, maxlen=max_len)"
   ]
  },
  {
   "cell_type": "markdown",
   "id": "fc576c00",
   "metadata": {},
   "source": [
    "## 2) 어텐션 레이어 정의"
   ]
  },
  {
   "cell_type": "code",
   "execution_count": 4,
   "id": "501a2985",
   "metadata": {},
   "outputs": [],
   "source": [
    "class MultiHeadAttention(tf.keras.layers.Layer):\n",
    "    def __init__(self, embedding_dim, num_heads=8):\n",
    "        super(MultiHeadAttention, self).__init__()\n",
    "        self.embedding_dim = embedding_dim # d_model\n",
    "        self.num_heads = num_heads\n",
    "\n",
    "        assert embedding_dim % self.num_heads == 0\n",
    "\n",
    "        self.projection_dim = embedding_dim // num_heads\n",
    "        self.query_dense = tf.keras.layers.Dense(embedding_dim)\n",
    "        self.key_dense = tf.keras.layers.Dense(embedding_dim)\n",
    "        self.value_dense = tf.keras.layers.Dense(embedding_dim)\n",
    "        self.dense = tf.keras.layers.Dense(embedding_dim)\n",
    "\n",
    "    def scaled_dot_product_attention(self, query, key, value):\n",
    "        matmul_qk = tf.matmul(query, key, transpose_b=True)\n",
    "        depth = tf.cast(tf.shape(key)[-1], tf.float32)\n",
    "        logits = matmul_qk / tf.math.sqrt(depth)\n",
    "        attention_weights = tf.nn.softmax(logits, axis=-1)\n",
    "        output = tf.matmul(attention_weights, value)\n",
    "        return output, attention_weights\n",
    "\n",
    "    def split_heads(self, x, batch_size):\n",
    "        x = tf.reshape(x, (batch_size, -1, self.num_heads, self.projection_dim))\n",
    "        return tf.transpose(x, perm=[0, 2, 1, 3])\n",
    "\n",
    "    def call(self, inputs):\n",
    "        # x.shape = [batch_size, seq_len, embedding_dim]\n",
    "        batch_size = tf.shape(inputs)[0]\n",
    "\n",
    "        # (batch_size, seq_len, embedding_dim)\n",
    "        query = self.query_dense(inputs)\n",
    "        key = self.key_dense(inputs)\n",
    "        value = self.value_dense(inputs)\n",
    "\n",
    "        # (batch_size, num_heads, seq_len, projection_dim)\n",
    "        query = self.split_heads(query, batch_size)  \n",
    "        key = self.split_heads(key, batch_size)\n",
    "        value = self.split_heads(value, batch_size)\n",
    "\n",
    "        scaled_attention, _ = self.scaled_dot_product_attention(query, key, value)\n",
    "        # (batch_size, seq_len, num_heads, projection_dim)\n",
    "        scaled_attention = tf.transpose(scaled_attention, perm=[0, 2, 1, 3])  \n",
    "\n",
    "        # (batch_size, seq_len, embedding_dim)\n",
    "        concat_attention = tf.reshape(scaled_attention, (batch_size, -1, self.embedding_dim))\n",
    "        outputs = self.dense(concat_attention)\n",
    "        return outputs\n",
    "\n",
    "\n",
    "class TransformerBlock(tf.keras.layers.Layer):\n",
    "    \n",
    "        \n",
    "    def __init__(self, embedding_dim, num_heads, dff, rate=0.1, **kwargs):\n",
    "        super(TransformerBlock, self).__init__(**kwargs)\n",
    "        self.embedding_dim = embedding_dim\n",
    "        self.num_heads = num_heads\n",
    "        self.dff = dff\n",
    "        self.rate = rate\n",
    "        self.att = MultiHeadAttention(embedding_dim, num_heads)\n",
    "        self.ffn = tf.keras.Sequential(\n",
    "            [tf.keras.layers.Dense(dff, activation=\"relu\"),\n",
    "             tf.keras.layers.Dense(embedding_dim),]\n",
    "        )\n",
    "        self.layernorm1 = tf.keras.layers.LayerNormalization(epsilon=1e-6)\n",
    "        self.layernorm2 = tf.keras.layers.LayerNormalization(epsilon=1e-6)\n",
    "        self.dropout1 = tf.keras.layers.Dropout(rate)\n",
    "        self.dropout2 = tf.keras.layers.Dropout(rate)\n",
    "\n",
    "    def call(self, inputs, training):\n",
    "        attn_output = self.att(inputs) # 첫번째 서브층 : 멀티 헤드 어텐션\n",
    "        attn_output = self.dropout1(attn_output, training=training)\n",
    "        out1 = self.layernorm1(inputs + attn_output) # Add & Norm\n",
    "        ffn_output = self.ffn(out1) # 두번째 서브층 : 포지션 와이즈 피드 포워드 신경망\n",
    "        ffn_output = self.dropout2(ffn_output, training=training)\n",
    "        return self.layernorm2(out1 + ffn_output) # Add & Norm\n",
    "    \n",
    "    def get_config(self):\n",
    "        config = super(TransformerBlock, self).get_config()\n",
    "        config.update({\n",
    "            'embedding_dim': self.embedding_dim,\n",
    "            'num_heads': self.num_heads,\n",
    "            'dff': self.dff,\n",
    "            'rate': self.rate\n",
    "        })\n",
    "        return config\n",
    "\n",
    "\n",
    "class TokenAndPositionEmbedding(tf.keras.layers.Layer):\n",
    "    def __init__(self, max_len, vocab_size, embedding_dim, **kwargs):\n",
    "        super(TokenAndPositionEmbedding, self).__init__(**kwargs)\n",
    "    \n",
    "        self.max_len = max_len\n",
    "        self.vocab_size = vocab_size\n",
    "        self.embedding_dim = embedding_dim\n",
    "        self.token_emb = keras.layers.Embedding(input_dim=vocab_size, output_dim=embedding_dim)\n",
    "        self.pos_emb = keras.layers.Embedding(input_dim=max_len, output_dim=embedding_dim)\n",
    "\n",
    "    def call(self, x):\n",
    "        max_len = tf.shape(x)[-1]\n",
    "        positions = tf.range(start=0, limit=max_len, delta=1)\n",
    "        positions = self.pos_emb(positions)\n",
    "        x = self.token_emb(x)\n",
    "        return x + positions\n",
    "    \n",
    "    def get_config(self):\n",
    "        config = super(TokenAndPositionEmbedding, self).get_config()\n",
    "        config.update({\n",
    "            'max_len': self.max_len,\n",
    "            'vocab_size': self.vocab_size,\n",
    "            'embedding_dim': self.embedding_dim\n",
    "        })\n",
    "        return config"
   ]
  },
  {
   "cell_type": "markdown",
   "id": "c02f3e46",
   "metadata": {},
   "source": [
    "## 3) TextCuboid CT로 분류"
   ]
  },
  {
   "cell_type": "code",
   "execution_count": 5,
   "id": "2ffa92ca",
   "metadata": {},
   "outputs": [],
   "source": [
    "textcuboid=np.load('./1-Channel textcuboid_nc(bert).npy')"
   ]
  },
  {
   "cell_type": "code",
   "execution_count": 6,
   "id": "55f29d23",
   "metadata": {},
   "outputs": [],
   "source": [
    "textcuboid_test=np.load('./1-Channel textcuboid_test_nc(bert).npy')"
   ]
  },
  {
   "cell_type": "code",
   "execution_count": 7,
   "id": "592095bd",
   "metadata": {},
   "outputs": [],
   "source": [
    "tmp = [[x,y,z] for x, y, z in zip(xtext_train, textcuboid, y_train)]\n",
    "import random\n",
    "random.shuffle(tmp)\n",
    "xtext_train = [n[0] for n in tmp]\n",
    "textcuboid = [n[1] for n in tmp]\n",
    "y_train = [n[2] for n in tmp]\n",
    "xtext_train=np.array(xtext_train)\n",
    "textcuboid=np.array(textcuboid)\n",
    "y_train=np.array(y_train)"
   ]
  },
  {
   "cell_type": "code",
   "execution_count": 8,
   "id": "8e27c980",
   "metadata": {},
   "outputs": [],
   "source": [
    "textcuboid_train=textcuboid[1000:]\n",
    "text_train=xtext_train[1000:]\n",
    "textcuboid__val=textcuboid[:1000]\n",
    "text_val=xtext_train[:1000]\n",
    "y_val=y_train[:1000]\n",
    "y_train=y_train[1000:]\n",
    "\n",
    "\n",
    "text_test=xtext_test\n",
    "y_test=np.array(y_test)"
   ]
  },
  {
   "cell_type": "code",
   "execution_count": 9,
   "id": "1f178135",
   "metadata": {},
   "outputs": [],
   "source": [
    "import keras\n",
    "from tensorflow.keras import layers"
   ]
  },
  {
   "cell_type": "code",
   "execution_count": 10,
   "id": "ddec5841",
   "metadata": {},
   "outputs": [],
   "source": [
    "callbacks = [\n",
    "    keras.callbacks.ModelCheckpoint(\n",
    "        \"best_model.h5\", save_best_only=True, monitor=\"val_loss\"\n",
    "    ),\n",
    "    keras.callbacks.ReduceLROnPlateau(\n",
    "        monitor=\"val_loss\", factor=0.5, patience=2, min_lr=0.0001\n",
    "    ),\n",
    "#     keras.callbacks.EarlyStopping(monitor=\"val_loss\", patience=8, verbose=1),\n",
    "]"
   ]
  },
  {
   "cell_type": "code",
   "execution_count": 11,
   "id": "4d2a2fb1",
   "metadata": {
    "scrolled": true
   },
   "outputs": [],
   "source": [
    "from tensorflow.keras.layers import Input, Conv1D, GlobalMaxPooling1D, Dense, Dropout\n",
    "from tensorflow.keras.models import Model\n",
    "from tensorflow.keras import layers\n",
    "from tensorflow.keras.layers import Attention\n",
    "\n",
    "embedding_dim = 512  # 각 단어의 임베딩 벡터의 차원\n",
    "num_heads = 1  # 어텐션 헤드의 수\n",
    "dff = 32  # 포지션 와이즈 피드 포워드 신경망의 은닉층의 크기\n",
    "\n",
    "Text_inputs = Input(shape=(max_len,))\n",
    "embedding_layer = TokenAndPositionEmbedding(max_len, vocab_size, embedding_dim)\n",
    "Text_x = embedding_layer(Text_inputs)\n",
    "transformer_block = TransformerBlock(embedding_dim, num_heads, dff)\n",
    "Text_x = transformer_block(Text_x)\n",
    "Text_x = tf.keras.layers.GlobalAveragePooling1D()(Text_x)\n",
    "Text_x = tf.keras.layers.Dropout(0.5)(Text_x)\n",
    "Text_x = tf.keras.layers.Dense(256, activation=\"relu\")(Text_x)\n",
    "Text_attention_layer = Attention()\n",
    "Text_a=Text_attention_layer([Text_x,Text_x])\n",
    "\n",
    "ELMo_input = Input(shape=(68, 768))\n",
    "conv1 = Conv1D(1024, 1, padding='valid', activation='relu')(ELMo_input)\n",
    "pooling = GlobalMaxPooling1D()(conv1)\n",
    "ELMo_x = Dense(256, activation='relu')(pooling)\n",
    "ELMo_attention_layer = Attention()\n",
    "ELMo_a=ELMo_attention_layer([ELMo_x,ELMo_x])\n",
    "\n",
    "\n",
    "x = layers.concatenate([ELMo_x,ELMo_a, Text_x,Text_a], axis=-1)\n",
    "x = Dropout(0.5)(x)\n",
    "output_layer = Dense(10, activation='softmax')(x)\n",
    "\n",
    "model = Model(inputs=[ELMo_input, Text_inputs], outputs=output_layer)\n",
    "\n"
   ]
  },
  {
   "cell_type": "code",
   "execution_count": 12,
   "id": "de8bb000",
   "metadata": {},
   "outputs": [],
   "source": [
    "model.compile(optimizer='adam', loss='sparse_categorical_crossentropy', metrics=['accuracy'])"
   ]
  },
  {
   "cell_type": "code",
   "execution_count": 13,
   "id": "a4cb157c",
   "metadata": {
    "scrolled": true
   },
   "outputs": [
    {
     "name": "stdout",
     "output_type": "stream",
     "text": [
      "Model: \"model\"\n",
      "__________________________________________________________________________________________________\n",
      " Layer (type)                   Output Shape         Param #     Connected to                     \n",
      "==================================================================================================\n",
      " input_1 (InputLayer)           [(None, 165)]        0           []                               \n",
      "                                                                                                  \n",
      " token_and_position_embedding (  (None, 165, 512)    17780224    ['input_1[0][0]']                \n",
      " TokenAndPositionEmbedding)                                                                       \n",
      "                                                                                                  \n",
      " input_2 (InputLayer)           [(None, 68, 768)]    0           []                               \n",
      "                                                                                                  \n",
      " transformer_block (Transformer  (None, 165, 512)    1085984     ['token_and_position_embedding[0]\n",
      " Block)                                                          [0]']                            \n",
      "                                                                                                  \n",
      " conv1d (Conv1D)                (None, 68, 1024)     787456      ['input_2[0][0]']                \n",
      "                                                                                                  \n",
      " global_average_pooling1d (Glob  (None, 512)         0           ['transformer_block[0][0]']      \n",
      " alAveragePooling1D)                                                                              \n",
      "                                                                                                  \n",
      " global_max_pooling1d (GlobalMa  (None, 1024)        0           ['conv1d[0][0]']                 \n",
      " xPooling1D)                                                                                      \n",
      "                                                                                                  \n",
      " dropout_2 (Dropout)            (None, 512)          0           ['global_average_pooling1d[0][0]'\n",
      "                                                                 ]                                \n",
      "                                                                                                  \n",
      " dense_7 (Dense)                (None, 256)          262400      ['global_max_pooling1d[0][0]']   \n",
      "                                                                                                  \n",
      " dense_6 (Dense)                (None, 256)          131328      ['dropout_2[0][0]']              \n",
      "                                                                                                  \n",
      " attention_1 (Attention)        (None, 256)          0           ['dense_7[0][0]',                \n",
      "                                                                  'dense_7[0][0]']                \n",
      "                                                                                                  \n",
      " attention (Attention)          (None, 256)          0           ['dense_6[0][0]',                \n",
      "                                                                  'dense_6[0][0]']                \n",
      "                                                                                                  \n",
      " concatenate (Concatenate)      (None, 1024)         0           ['dense_7[0][0]',                \n",
      "                                                                  'attention_1[0][0]',            \n",
      "                                                                  'dense_6[0][0]',                \n",
      "                                                                  'attention[0][0]']              \n",
      "                                                                                                  \n",
      " dropout_3 (Dropout)            (None, 1024)         0           ['concatenate[0][0]']            \n",
      "                                                                                                  \n",
      " dense_8 (Dense)                (None, 10)           10250       ['dropout_3[0][0]']              \n",
      "                                                                                                  \n",
      "==================================================================================================\n",
      "Total params: 20,057,642\n",
      "Trainable params: 20,057,642\n",
      "Non-trainable params: 0\n",
      "__________________________________________________________________________________________________\n"
     ]
    }
   ],
   "source": [
    "model.summary()"
   ]
  },
  {
   "cell_type": "code",
   "execution_count": 14,
   "id": "1b735d5d",
   "metadata": {
    "scrolled": true
   },
   "outputs": [
    {
     "name": "stdout",
     "output_type": "stream",
     "text": [
      "Epoch 1/50\n",
      "28/28 [==============================] - 4s 101ms/step - loss: 3.9140 - accuracy: 0.1644 - val_loss: 1.9746 - val_accuracy: 0.3430 - lr: 0.0010\n",
      "Epoch 2/50\n",
      "28/28 [==============================] - 2s 78ms/step - loss: 2.0421 - accuracy: 0.2811 - val_loss: 1.7908 - val_accuracy: 0.3440 - lr: 0.0010\n",
      "Epoch 3/50\n",
      "28/28 [==============================] - 2s 78ms/step - loss: 1.8679 - accuracy: 0.3407 - val_loss: 1.5338 - val_accuracy: 0.5270 - lr: 0.0010\n",
      "Epoch 4/50\n",
      "28/28 [==============================] - 2s 79ms/step - loss: 1.6297 - accuracy: 0.4410 - val_loss: 1.3735 - val_accuracy: 0.5490 - lr: 0.0010\n",
      "Epoch 5/50\n",
      "28/28 [==============================] - 2s 54ms/step - loss: 1.6601 - accuracy: 0.4263 - val_loss: 1.5393 - val_accuracy: 0.4720 - lr: 0.0010\n",
      "Epoch 6/50\n",
      "28/28 [==============================] - 2s 75ms/step - loss: 1.5235 - accuracy: 0.4789 - val_loss: 1.3595 - val_accuracy: 0.5530 - lr: 0.0010\n",
      "Epoch 7/50\n",
      "28/28 [==============================] - 1s 53ms/step - loss: 1.6402 - accuracy: 0.4443 - val_loss: 1.4174 - val_accuracy: 0.5610 - lr: 0.0010\n",
      "Epoch 8/50\n",
      "28/28 [==============================] - 2s 79ms/step - loss: 1.4138 - accuracy: 0.5249 - val_loss: 1.2444 - val_accuracy: 0.5800 - lr: 0.0010\n",
      "Epoch 9/50\n",
      "28/28 [==============================] - 2s 77ms/step - loss: 1.4592 - accuracy: 0.5179 - val_loss: 1.2062 - val_accuracy: 0.6320 - lr: 0.0010\n",
      "Epoch 10/50\n",
      "28/28 [==============================] - 2s 78ms/step - loss: 1.2938 - accuracy: 0.5647 - val_loss: 1.1637 - val_accuracy: 0.6400 - lr: 0.0010\n",
      "Epoch 11/50\n",
      "28/28 [==============================] - 2s 79ms/step - loss: 1.1597 - accuracy: 0.6247 - val_loss: 1.0588 - val_accuracy: 0.6610 - lr: 0.0010\n",
      "Epoch 12/50\n",
      "28/28 [==============================] - 2s 54ms/step - loss: 1.2816 - accuracy: 0.5891 - val_loss: 1.1324 - val_accuracy: 0.6310 - lr: 0.0010\n",
      "Epoch 13/50\n",
      "28/28 [==============================] - 2s 85ms/step - loss: 1.1534 - accuracy: 0.6181 - val_loss: 1.0197 - val_accuracy: 0.6860 - lr: 0.0010\n",
      "Epoch 14/50\n",
      "28/28 [==============================] - 2s 54ms/step - loss: 1.1587 - accuracy: 0.6244 - val_loss: 1.0919 - val_accuracy: 0.6560 - lr: 0.0010\n",
      "Epoch 15/50\n",
      "28/28 [==============================] - 2s 54ms/step - loss: 1.1643 - accuracy: 0.6143 - val_loss: 1.0400 - val_accuracy: 0.6850 - lr: 0.0010\n",
      "Epoch 16/50\n",
      "28/28 [==============================] - 2s 54ms/step - loss: 1.0455 - accuracy: 0.6663 - val_loss: 1.0272 - val_accuracy: 0.6840 - lr: 5.0000e-04\n",
      "Epoch 17/50\n",
      "28/28 [==============================] - 2s 54ms/step - loss: 1.0205 - accuracy: 0.6804 - val_loss: 1.0604 - val_accuracy: 0.6670 - lr: 5.0000e-04\n",
      "Epoch 18/50\n",
      "28/28 [==============================] - 2s 76ms/step - loss: 0.9937 - accuracy: 0.6857 - val_loss: 0.9624 - val_accuracy: 0.7030 - lr: 2.5000e-04\n",
      "Epoch 19/50\n",
      "28/28 [==============================] - 2s 54ms/step - loss: 0.9123 - accuracy: 0.7211 - val_loss: 0.9652 - val_accuracy: 0.7190 - lr: 2.5000e-04\n",
      "Epoch 20/50\n",
      "28/28 [==============================] - 3s 98ms/step - loss: 0.8831 - accuracy: 0.7337 - val_loss: 0.9474 - val_accuracy: 0.7180 - lr: 2.5000e-04\n",
      "Epoch 21/50\n",
      "28/28 [==============================] - 2s 55ms/step - loss: 0.8653 - accuracy: 0.7420 - val_loss: 0.9481 - val_accuracy: 0.6980 - lr: 2.5000e-04\n",
      "Epoch 22/50\n",
      "28/28 [==============================] - 2s 54ms/step - loss: 0.8578 - accuracy: 0.7447 - val_loss: 0.9488 - val_accuracy: 0.7140 - lr: 2.5000e-04\n",
      "Epoch 23/50\n",
      "28/28 [==============================] - 2s 79ms/step - loss: 0.8020 - accuracy: 0.7660 - val_loss: 0.9256 - val_accuracy: 0.7160 - lr: 1.2500e-04\n",
      "Epoch 24/50\n",
      "28/28 [==============================] - 2s 55ms/step - loss: 0.8067 - accuracy: 0.7581 - val_loss: 0.9562 - val_accuracy: 0.7290 - lr: 1.2500e-04\n",
      "Epoch 25/50\n",
      "28/28 [==============================] - 2s 54ms/step - loss: 0.7952 - accuracy: 0.7633 - val_loss: 0.9266 - val_accuracy: 0.7290 - lr: 1.2500e-04\n",
      "Epoch 26/50\n",
      "28/28 [==============================] - 2s 75ms/step - loss: 0.7975 - accuracy: 0.7657 - val_loss: 0.9218 - val_accuracy: 0.7330 - lr: 1.0000e-04\n",
      "Epoch 27/50\n",
      "28/28 [==============================] - 2s 55ms/step - loss: 0.7675 - accuracy: 0.7743 - val_loss: 0.9296 - val_accuracy: 0.7260 - lr: 1.0000e-04\n",
      "Epoch 28/50\n",
      "28/28 [==============================] - 2s 78ms/step - loss: 0.7545 - accuracy: 0.7766 - val_loss: 0.9147 - val_accuracy: 0.7340 - lr: 1.0000e-04\n",
      "Epoch 29/50\n",
      "28/28 [==============================] - 2s 54ms/step - loss: 0.7692 - accuracy: 0.7696 - val_loss: 0.9305 - val_accuracy: 0.7260 - lr: 1.0000e-04\n",
      "Epoch 30/50\n",
      "28/28 [==============================] - 2s 54ms/step - loss: 0.7308 - accuracy: 0.7806 - val_loss: 0.9378 - val_accuracy: 0.7270 - lr: 1.0000e-04\n",
      "Epoch 31/50\n",
      "28/28 [==============================] - 2s 54ms/step - loss: 0.7294 - accuracy: 0.7850 - val_loss: 0.9214 - val_accuracy: 0.7270 - lr: 1.0000e-04\n",
      "Epoch 32/50\n",
      "28/28 [==============================] - 2s 55ms/step - loss: 0.7300 - accuracy: 0.7867 - val_loss: 0.9234 - val_accuracy: 0.7320 - lr: 1.0000e-04\n",
      "Epoch 33/50\n",
      "28/28 [==============================] - 2s 55ms/step - loss: 0.7168 - accuracy: 0.7861 - val_loss: 0.9408 - val_accuracy: 0.7340 - lr: 1.0000e-04\n",
      "Epoch 34/50\n",
      "28/28 [==============================] - 2s 55ms/step - loss: 0.7297 - accuracy: 0.7903 - val_loss: 0.9418 - val_accuracy: 0.7330 - lr: 1.0000e-04\n",
      "Epoch 35/50\n",
      "28/28 [==============================] - 2s 55ms/step - loss: 0.7020 - accuracy: 0.7976 - val_loss: 0.9732 - val_accuracy: 0.7190 - lr: 1.0000e-04\n",
      "Epoch 36/50\n",
      "28/28 [==============================] - 2s 54ms/step - loss: 0.7186 - accuracy: 0.7806 - val_loss: 0.9451 - val_accuracy: 0.7250 - lr: 1.0000e-04\n",
      "Epoch 37/50\n",
      "28/28 [==============================] - 2s 55ms/step - loss: 0.6996 - accuracy: 0.7920 - val_loss: 0.9390 - val_accuracy: 0.7330 - lr: 1.0000e-04\n",
      "Epoch 38/50\n",
      "28/28 [==============================] - 2s 54ms/step - loss: 0.6809 - accuracy: 0.8041 - val_loss: 0.9173 - val_accuracy: 0.7320 - lr: 1.0000e-04\n",
      "Epoch 39/50\n",
      "28/28 [==============================] - 2s 54ms/step - loss: 0.6715 - accuracy: 0.8030 - val_loss: 0.9556 - val_accuracy: 0.7220 - lr: 1.0000e-04\n",
      "Epoch 40/50\n",
      "28/28 [==============================] - 2s 55ms/step - loss: 0.6906 - accuracy: 0.7916 - val_loss: 0.9824 - val_accuracy: 0.7260 - lr: 1.0000e-04\n",
      "Epoch 41/50\n",
      "28/28 [==============================] - 2s 54ms/step - loss: 0.7023 - accuracy: 0.7930 - val_loss: 0.9345 - val_accuracy: 0.7270 - lr: 1.0000e-04\n",
      "Epoch 42/50\n",
      "28/28 [==============================] - 2s 55ms/step - loss: 0.6778 - accuracy: 0.8046 - val_loss: 0.9201 - val_accuracy: 0.7370 - lr: 1.0000e-04\n",
      "Epoch 43/50\n",
      "28/28 [==============================] - 2s 54ms/step - loss: 0.6346 - accuracy: 0.8091 - val_loss: 0.9307 - val_accuracy: 0.7340 - lr: 1.0000e-04\n",
      "Epoch 44/50\n",
      "28/28 [==============================] - 2s 56ms/step - loss: 0.6200 - accuracy: 0.8253 - val_loss: 0.9165 - val_accuracy: 0.7340 - lr: 1.0000e-04\n",
      "Epoch 45/50\n",
      "28/28 [==============================] - 2s 55ms/step - loss: 0.6025 - accuracy: 0.8249 - val_loss: 0.9379 - val_accuracy: 0.7380 - lr: 1.0000e-04\n",
      "Epoch 46/50\n",
      "28/28 [==============================] - 2s 55ms/step - loss: 0.6058 - accuracy: 0.8274 - val_loss: 0.9314 - val_accuracy: 0.7310 - lr: 1.0000e-04\n",
      "Epoch 47/50\n",
      "28/28 [==============================] - 2s 55ms/step - loss: 0.6047 - accuracy: 0.8226 - val_loss: 0.9408 - val_accuracy: 0.7260 - lr: 1.0000e-04\n",
      "Epoch 48/50\n",
      "28/28 [==============================] - 2s 55ms/step - loss: 0.6440 - accuracy: 0.8120 - val_loss: 0.9539 - val_accuracy: 0.7180 - lr: 1.0000e-04\n",
      "Epoch 49/50\n",
      "28/28 [==============================] - 2s 55ms/step - loss: 0.6114 - accuracy: 0.8241 - val_loss: 0.9291 - val_accuracy: 0.7410 - lr: 1.0000e-04\n",
      "Epoch 50/50\n",
      "28/28 [==============================] - 2s 55ms/step - loss: 0.5947 - accuracy: 0.8294 - val_loss: 0.9432 - val_accuracy: 0.7350 - lr: 1.0000e-04\n"
     ]
    }
   ],
   "source": [
    "history = model.fit([textcuboid_train,text_train], y_train,callbacks=callbacks, epochs=50,batch_size=256,validation_data=([textcuboid__val,text_val], y_val))"
   ]
  },
  {
   "cell_type": "code",
   "execution_count": 15,
   "id": "0b8710f9",
   "metadata": {},
   "outputs": [
    {
     "name": "stdout",
     "output_type": "stream",
     "text": [
      "63/63 [==============================] - 0s 5ms/step - loss: 0.6269 - accuracy: 0.8160\n"
     ]
    },
    {
     "data": {
      "text/plain": [
       "[0.626910388469696, 0.8159999847412109]"
      ]
     },
     "execution_count": 15,
     "metadata": {},
     "output_type": "execute_result"
    }
   ],
   "source": [
    "model.evaluate([textcuboid_test,text_test],y_test)"
   ]
  },
  {
   "cell_type": "code",
   "execution_count": 16,
   "id": "eb178a78",
   "metadata": {},
   "outputs": [
    {
     "name": "stdout",
     "output_type": "stream",
     "text": [
      "63/63 [==============================] - 1s 6ms/step - loss: 0.6651 - accuracy: 0.8045\n"
     ]
    },
    {
     "data": {
      "text/plain": [
       "[0.6651499271392822, 0.8044999837875366]"
      ]
     },
     "execution_count": 16,
     "metadata": {},
     "output_type": "execute_result"
    }
   ],
   "source": [
    "from keras.models import load_model\n",
    "custom_objects = {\"TokenAndPositionEmbedding\": TokenAndPositionEmbedding, \"TransformerBlock\": TransformerBlock}\n",
    "model = load_model('best_model.h5', custom_objects=custom_objects)\n",
    "model.evaluate([textcuboid_test,text_test],y_test)"
   ]
  },
  {
   "cell_type": "code",
   "execution_count": 85,
   "id": "f22920dd",
   "metadata": {},
   "outputs": [
    {
     "data": {
      "text/plain": [
       "81.73333333333333"
      ]
     },
     "execution_count": 85,
     "metadata": {},
     "output_type": "execute_result"
    }
   ],
   "source": [
    "np.average([81.6,82.3,81.3])"
   ]
  },
  {
   "cell_type": "code",
   "execution_count": null,
   "id": "a9a9719d",
   "metadata": {},
   "outputs": [],
   "source": []
  },
  {
   "cell_type": "code",
   "execution_count": null,
   "id": "de71922e",
   "metadata": {},
   "outputs": [],
   "source": []
  },
  {
   "cell_type": "code",
   "execution_count": null,
   "id": "41bfa5a3",
   "metadata": {},
   "outputs": [],
   "source": []
  }
 ],
 "metadata": {
  "kernelspec": {
   "display_name": "Python 3 (ipykernel)",
   "language": "python",
   "name": "python3"
  },
  "language_info": {
   "codemirror_mode": {
    "name": "ipython",
    "version": 3
   },
   "file_extension": ".py",
   "mimetype": "text/x-python",
   "name": "python",
   "nbconvert_exporter": "python",
   "pygments_lexer": "ipython3",
   "version": "3.9.12"
  }
 },
 "nbformat": 4,
 "nbformat_minor": 5
}
