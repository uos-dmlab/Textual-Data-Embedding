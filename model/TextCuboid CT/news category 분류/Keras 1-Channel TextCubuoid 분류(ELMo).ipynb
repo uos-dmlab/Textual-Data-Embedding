{
 "cells": [
  {
   "cell_type": "markdown",
   "id": "99beeb90",
   "metadata": {},
   "source": [
    "Base에서 실행"
   ]
  },
  {
   "cell_type": "markdown",
   "id": "184f59ff",
   "metadata": {},
   "source": [
    "# Textcuboid\n"
   ]
  },
  {
   "cell_type": "code",
   "execution_count": 1,
   "id": "e5f5e87a",
   "metadata": {},
   "outputs": [],
   "source": [
    "import os\n",
    "os.environ[\"CUDA_VISIBLE_DEVICES\"] = \"-1\""
   ]
  },
  {
   "cell_type": "code",
   "execution_count": 1,
   "id": "b76e8aca",
   "metadata": {},
   "outputs": [],
   "source": [
    "import matplotlib.pyplot as plt\n",
    "import numpy as np\n",
    "import pandas as pd\n",
    "import tensorflow as tf\n",
    "import re\n",
    "import string\n",
    "from sklearn.metrics import precision_score, recall_score, f1_score\n",
    "from sklearn.model_selection import train_test_split\n",
    "from sklearn.preprocessing import LabelEncoder\n",
    "\n",
    "## Read the data into a dataframe\n",
    "import json\n",
    "import pandas as pd\n",
    "import numpy as np\n",
    "import re\n",
    "import string\n",
    "import nltk\n",
    "\n",
    "\n",
    "data=[]\n",
    "with open('C:/Users/user/Desktop/bilm-tf-master/textdataset/News_Category_Dataset_v3.json', 'r') as f:\n",
    "    for line in f:\n",
    "        content = json.loads(line)\n",
    "        data.append(content)\n",
    "df = pd.DataFrame(data=data)"
   ]
  },
  {
   "cell_type": "code",
   "execution_count": 2,
   "id": "b61e2860",
   "metadata": {},
   "outputs": [
    {
     "name": "stdout",
     "output_type": "stream",
     "text": [
      "(189815, 6)\n"
     ]
    }
   ],
   "source": [
    "df = df[~df['short_description'].apply(lambda x: len(x)==0)]\n",
    "print(df.shape)\n",
    "\n",
    "#중복되는 카테고리 통합\n",
    "df[\"category\"] = df.category.replace(\n",
    "    {\n",
    "        \"THE WORLDPOST\": \"WORLD NEWS\",\n",
    "        \"WORLDPOST\": \"WORLD NEWS\",\n",
    "        \"ARTS\": \"ARTS & CULTURE\",\n",
    "        \"CULTURE & ARTS\": \"ARTS & CULTURE\",\n",
    "        \"HEALTHY LIVING\": \"WELLNESS\",\n",
    "        \"QUEER VOICES\": \"VOICES\",\n",
    "        \"LATINO VOICES\": \"VOICES\",\n",
    "        \"BLACK VOICES\": \"VOICES\",\n",
    "        \"STYLE\": \"STYLE & BEATUY\",\n",
    "        \"GREEN\": \"ENVIRONMENT\",\n",
    "        \"TASTE\": \"FOOD & DRINK\",\n",
    "        \"MONEY\": \"BUSINESS\",\n",
    "        \"PARENTING\": \"PARENTS\"\n",
    "    }\n",
    ")\n",
    "\n",
    "df = df[['headline', 'short_description','category']]\n",
    "df['input_data']= df.apply(lambda x: str(x['headline']) + str(x['short_description']), axis=1)\n",
    "\n",
    "def clean_text(text):\n",
    "    text=str(text).lower() #Converts text to lowercase\n",
    "    text=re.sub('\\d+', '', text) #removes numbers\n",
    "    text=re.sub('\\[.*?\\]', '', text) #removes HTML tags\n",
    "    text=re.sub('https?://\\S+|www\\.\\S+', '', text) #removes url\n",
    "    text=re.sub(r\"[\"\n",
    "                           u\"\\U0001F600-\\U0001F64F\"  # emoticons\n",
    "                           u\"\\U0001F300-\\U0001F5FF\"  # symbols & pictographs\n",
    "                           u\"\\U0001F680-\\U0001F6FF\"  # transport & map symbols\n",
    "                           u\"\\U0001F1E0-\\U0001F1FF\"  # flags (iOS)\n",
    "                           u\"\\U00002702-\\U000027B0\"\n",
    "                           u\"\\U000024C2-\\U0001F251\"\n",
    "                           \"]+\", \"\", text) #removes emojis\n",
    "    text=re.sub('[%s]' % re.escape(string.punctuation),'',text) #removes punctuations\n",
    "    #text = re.sub('\\n', '', text)\n",
    "    #text = re.sub('\\w*\\d\\w*', '', text)\n",
    "    return text\n",
    "\n",
    "df['clean_text']=df['input_data'].apply(clean_text)\n",
    "\n",
    "class0=list(df[df['category'] == 'POLITICS'].sample(1000, random_state=1)['clean_text'])\n",
    "class1=list(df[df['category'] == 'WELLNESS'].sample(1000, random_state=1)['clean_text'])\n",
    "class2=list(df[df['category'] == 'ENTERTAINMENT'].sample(1000, random_state=1)['clean_text'])\n",
    "class3=list(df[df['category'] == 'PARENTS'].sample(1000, random_state=1)['clean_text'])\n",
    "class4=list(df[df['category'] == 'VOICES'].sample(1000, random_state=1)['clean_text'])\n",
    "class5=list(df[df['category'] == 'STYLE & BEAUTY'].sample(1000, random_state=1)['clean_text'])\n",
    "class6=list(df[df['category'] == 'TRAVEL'].sample(1000, random_state=1)['clean_text'])\n",
    "class7=list(df[df['category'] == 'FOOD & DRINK'].sample(1000, random_state=1)['clean_text'])\n",
    "class8=list(df[df['category'] == 'WORLD NEWS'].sample(1000, random_state=1)['clean_text'])\n",
    "class9=list(df[df['category'] == 'BUSINESS'].sample(1000, random_state=1)['clean_text'])\n",
    "\n",
    "X_list=class0+class1+class2+class3+class4+class5+class6+class7+class8+class9\n",
    "\n",
    "y=[]\n",
    "for i in range(10):\n",
    "    y+=[i]*1000\n",
    "\n",
    "clr_x_data=[]\n",
    "pattern = '[^a-z ]'\n",
    "for sen in X_list:\n",
    "    clr_x_data.append(re.sub(pattern, ' ', sen))\n",
    "\n",
    "X_list=[]\n",
    "for sen in clr_x_data:\n",
    "    X_list.append(' '.join(sen.split()))\n",
    "\n",
    "train_idx=[]\n",
    "for i in range(10):\n",
    "    train_idx+=[j+i*1000 for j in range(800)]\n",
    "\n",
    "test_idx=[]\n",
    "for i in range(10):\n",
    "    test_idx+=[j+800+i*1000 for j in range(200)]\n",
    "\n",
    "x_train=[]\n",
    "y_train=[]\n",
    "for i in train_idx:\n",
    "    x_train.append(X_list[i])\n",
    "    y_train.append(y[i])\n",
    "\n",
    "x_test=[]\n",
    "y_test=[]\n",
    "for i in test_idx:\n",
    "    x_test.append(X_list[i])\n",
    "    y_test.append(y[i])\n",
    "\n",
    "to_txt_filter=x_train+x_test\n",
    "y=list(y_train)+list(y_test)"
   ]
  },
  {
   "cell_type": "markdown",
   "id": "c02f3e46",
   "metadata": {},
   "source": [
    "## 2) textcuboid 분류"
   ]
  },
  {
   "cell_type": "code",
   "execution_count": 3,
   "id": "2ffa92ca",
   "metadata": {},
   "outputs": [],
   "source": [
    "textcuboid=np.load('./1-Channel textcuboid_nc(elmo).npy')"
   ]
  },
  {
   "cell_type": "code",
   "execution_count": 4,
   "id": "55f29d23",
   "metadata": {},
   "outputs": [],
   "source": [
    "textcuboid_test=np.load('./1-Channel textcuboid_test_nc(elmo).npy')"
   ]
  },
  {
   "cell_type": "code",
   "execution_count": 5,
   "id": "d6e975a6",
   "metadata": {},
   "outputs": [],
   "source": [
    "tmp = [[x,y] for x, y in zip(textcuboid, y_train)]\n",
    "import random\n",
    "random.shuffle(tmp)\n",
    "textcuboid = [n[0] for n in tmp]\n",
    "y_train = [n[1] for n in tmp]\n",
    "textcuboid=np.array(textcuboid)\n",
    "y_train=np.array(y_train)"
   ]
  },
  {
   "cell_type": "code",
   "execution_count": 6,
   "id": "1f178135",
   "metadata": {},
   "outputs": [],
   "source": [
    "import keras\n",
    "from tensorflow.keras import layers"
   ]
  },
  {
   "cell_type": "code",
   "execution_count": 34,
   "id": "ddec5841",
   "metadata": {},
   "outputs": [],
   "source": [
    "callbacks = [\n",
    "    keras.callbacks.ModelCheckpoint(\n",
    "        \"best_model.h5\", save_best_only=True, monitor=\"val_loss\"\n",
    "    ),\n",
    "    keras.callbacks.ReduceLROnPlateau(\n",
    "        monitor=\"val_loss\", factor=0.5, patience=2, min_lr=0.0001\n",
    "    ),\n",
    "#     keras.callbacks.EarlyStopping(monitor=\"val_loss\", patience=8, verbose=1),\n",
    "]"
   ]
  },
  {
   "cell_type": "code",
   "execution_count": 35,
   "id": "ce1b3b58",
   "metadata": {},
   "outputs": [],
   "source": [
    "from tensorflow.keras.layers import Input, Conv1D, GlobalMaxPooling1D, Dense, Dropout\n",
    "from tensorflow.keras.models import Model\n",
    "\n",
    "\n",
    "input_layer = Input(shape=(68, 256))\n",
    "conv1 = Conv1D(1024, 1, padding='valid', activation='relu')(input_layer)\n",
    "pooling = GlobalMaxPooling1D()(conv1)\n",
    "\n",
    "x = Dense(1024, activation='relu')(pooling)\n",
    "x = Dropout(0.5)(x)\n",
    "output_layer = Dense(10, activation='softmax')(x)\n",
    "\n",
    "model = Model(inputs=input_layer, outputs=output_layer)\n",
    "\n"
   ]
  },
  {
   "cell_type": "code",
   "execution_count": 36,
   "id": "de8bb000",
   "metadata": {},
   "outputs": [],
   "source": [
    "model.compile(optimizer='adam', loss='sparse_categorical_crossentropy', metrics=['accuracy'])"
   ]
  },
  {
   "cell_type": "code",
   "execution_count": 37,
   "id": "a4cb157c",
   "metadata": {},
   "outputs": [
    {
     "name": "stdout",
     "output_type": "stream",
     "text": [
      "Model: \"model_3\"\n",
      "_________________________________________________________________\n",
      " Layer (type)                Output Shape              Param #   \n",
      "=================================================================\n",
      " input_4 (InputLayer)        [(None, 68, 256)]         0         \n",
      "                                                                 \n",
      " conv1d_3 (Conv1D)           (None, 68, 1024)          263168    \n",
      "                                                                 \n",
      " global_max_pooling1d_3 (Glo  (None, 1024)             0         \n",
      " balMaxPooling1D)                                                \n",
      "                                                                 \n",
      " dense_6 (Dense)             (None, 1024)              1049600   \n",
      "                                                                 \n",
      " dropout_3 (Dropout)         (None, 1024)              0         \n",
      "                                                                 \n",
      " dense_7 (Dense)             (None, 10)                10250     \n",
      "                                                                 \n",
      "=================================================================\n",
      "Total params: 1,323,018\n",
      "Trainable params: 1,323,018\n",
      "Non-trainable params: 0\n",
      "_________________________________________________________________\n"
     ]
    }
   ],
   "source": [
    "model.summary()"
   ]
  },
  {
   "cell_type": "code",
   "execution_count": 38,
   "id": "8fa47ead",
   "metadata": {},
   "outputs": [],
   "source": [
    "x_train=textcuboid[1000:]\n",
    "x_val=textcuboid[:1000]\n",
    "y_train1=y_train[1000:]\n",
    "y_val=y_train[:1000]"
   ]
  },
  {
   "cell_type": "code",
   "execution_count": 39,
   "id": "a3071295",
   "metadata": {
    "scrolled": true
   },
   "outputs": [
    {
     "name": "stdout",
     "output_type": "stream",
     "text": [
      "Epoch 1/20\n",
      "28/28 [==============================] - 1s 15ms/step - loss: 1.7830 - accuracy: 0.4359 - val_loss: 1.0024 - val_accuracy: 0.6570 - lr: 0.0010\n",
      "Epoch 2/20\n",
      "28/28 [==============================] - 0s 10ms/step - loss: 0.9238 - accuracy: 0.6959 - val_loss: 0.8508 - val_accuracy: 0.7190 - lr: 0.0010\n",
      "Epoch 3/20\n",
      "28/28 [==============================] - 0s 10ms/step - loss: 0.7759 - accuracy: 0.7500 - val_loss: 0.7915 - val_accuracy: 0.7420 - lr: 0.0010\n",
      "Epoch 4/20\n",
      "28/28 [==============================] - 0s 10ms/step - loss: 0.6586 - accuracy: 0.7806 - val_loss: 0.7803 - val_accuracy: 0.7380 - lr: 0.0010\n",
      "Epoch 5/20\n",
      "28/28 [==============================] - 0s 9ms/step - loss: 0.5644 - accuracy: 0.8137 - val_loss: 0.8045 - val_accuracy: 0.7290 - lr: 0.0010\n",
      "Epoch 6/20\n",
      "28/28 [==============================] - 0s 9ms/step - loss: 0.4764 - accuracy: 0.8469 - val_loss: 0.8204 - val_accuracy: 0.7340 - lr: 0.0010\n",
      "Epoch 7/20\n",
      "28/28 [==============================] - 0s 9ms/step - loss: 0.3795 - accuracy: 0.8840 - val_loss: 0.7984 - val_accuracy: 0.7440 - lr: 5.0000e-04\n",
      "Epoch 8/20\n",
      "28/28 [==============================] - 0s 9ms/step - loss: 0.3197 - accuracy: 0.9041 - val_loss: 0.8062 - val_accuracy: 0.7530 - lr: 5.0000e-04\n",
      "Epoch 9/20\n",
      "28/28 [==============================] - 0s 9ms/step - loss: 0.2703 - accuracy: 0.9206 - val_loss: 0.8174 - val_accuracy: 0.7510 - lr: 2.5000e-04\n",
      "Epoch 10/20\n",
      "28/28 [==============================] - 0s 9ms/step - loss: 0.2422 - accuracy: 0.9326 - val_loss: 0.8357 - val_accuracy: 0.7440 - lr: 2.5000e-04\n",
      "Epoch 11/20\n",
      "28/28 [==============================] - 0s 10ms/step - loss: 0.2191 - accuracy: 0.9387 - val_loss: 0.8259 - val_accuracy: 0.7480 - lr: 1.2500e-04\n",
      "Epoch 12/20\n",
      "28/28 [==============================] - 0s 9ms/step - loss: 0.2051 - accuracy: 0.9483 - val_loss: 0.8427 - val_accuracy: 0.7420 - lr: 1.2500e-04\n",
      "Epoch 13/20\n",
      "28/28 [==============================] - 0s 9ms/step - loss: 0.1906 - accuracy: 0.9513 - val_loss: 0.8413 - val_accuracy: 0.7460 - lr: 1.0000e-04\n",
      "Epoch 14/20\n",
      "28/28 [==============================] - 0s 9ms/step - loss: 0.1815 - accuracy: 0.9549 - val_loss: 0.8441 - val_accuracy: 0.7520 - lr: 1.0000e-04\n",
      "Epoch 15/20\n",
      "28/28 [==============================] - 0s 9ms/step - loss: 0.1830 - accuracy: 0.9543 - val_loss: 0.8499 - val_accuracy: 0.7430 - lr: 1.0000e-04\n",
      "Epoch 16/20\n",
      "28/28 [==============================] - 0s 9ms/step - loss: 0.1703 - accuracy: 0.9617 - val_loss: 0.8548 - val_accuracy: 0.7450 - lr: 1.0000e-04\n",
      "Epoch 17/20\n",
      "28/28 [==============================] - 0s 9ms/step - loss: 0.1627 - accuracy: 0.9657 - val_loss: 0.8530 - val_accuracy: 0.7460 - lr: 1.0000e-04\n",
      "Epoch 18/20\n",
      "28/28 [==============================] - 0s 10ms/step - loss: 0.1557 - accuracy: 0.9694 - val_loss: 0.8567 - val_accuracy: 0.7450 - lr: 1.0000e-04\n",
      "Epoch 19/20\n",
      "28/28 [==============================] - 0s 9ms/step - loss: 0.1473 - accuracy: 0.9690 - val_loss: 0.8744 - val_accuracy: 0.7410 - lr: 1.0000e-04\n",
      "Epoch 20/20\n",
      "28/28 [==============================] - 0s 9ms/step - loss: 0.1418 - accuracy: 0.9731 - val_loss: 0.8851 - val_accuracy: 0.7370 - lr: 1.0000e-04\n"
     ]
    }
   ],
   "source": [
    "history = model.fit(x_train, y_train1,callbacks=callbacks, epochs=20,batch_size=256,validation_data=(x_val, y_val))"
   ]
  },
  {
   "cell_type": "code",
   "execution_count": 40,
   "id": "f5ea4731",
   "metadata": {},
   "outputs": [],
   "source": [
    "y_test=np.array(y_test)"
   ]
  },
  {
   "cell_type": "code",
   "execution_count": 41,
   "id": "0b8710f9",
   "metadata": {
    "scrolled": true
   },
   "outputs": [
    {
     "name": "stdout",
     "output_type": "stream",
     "text": [
      "63/63 [==============================] - 0s 2ms/step - loss: 0.8677 - accuracy: 0.7430\n"
     ]
    },
    {
     "data": {
      "text/plain": [
       "[0.8676668405532837, 0.7429999709129333]"
      ]
     },
     "execution_count": 41,
     "metadata": {},
     "output_type": "execute_result"
    }
   ],
   "source": [
    "model.evaluate(textcuboid_test,y_test)"
   ]
  },
  {
   "cell_type": "code",
   "execution_count": 42,
   "id": "eb178a78",
   "metadata": {},
   "outputs": [
    {
     "name": "stdout",
     "output_type": "stream",
     "text": [
      "63/63 [==============================] - 0s 2ms/step - loss: 0.8016 - accuracy: 0.7465\n"
     ]
    },
    {
     "data": {
      "text/plain": [
       "[0.8016155362129211, 0.7465000152587891]"
      ]
     },
     "execution_count": 42,
     "metadata": {},
     "output_type": "execute_result"
    }
   ],
   "source": [
    "from keras.models import load_model\n",
    "model = load_model('best_model.h5')\n",
    "model.evaluate(textcuboid_test,y_test)"
   ]
  },
  {
   "cell_type": "code",
   "execution_count": 43,
   "id": "5ad22687",
   "metadata": {},
   "outputs": [
    {
     "data": {
      "text/plain": [
       "74.76666666666667"
      ]
     },
     "execution_count": 43,
     "metadata": {},
     "output_type": "execute_result"
    }
   ],
   "source": [
    "np.average([74.7,74.9,74.7])"
   ]
  },
  {
   "cell_type": "code",
   "execution_count": null,
   "id": "3c319af6",
   "metadata": {},
   "outputs": [],
   "source": []
  }
 ],
 "metadata": {
  "kernelspec": {
   "display_name": "Python 3 (ipykernel)",
   "language": "python",
   "name": "python3"
  },
  "language_info": {
   "codemirror_mode": {
    "name": "ipython",
    "version": 3
   },
   "file_extension": ".py",
   "mimetype": "text/x-python",
   "name": "python",
   "nbconvert_exporter": "python",
   "pygments_lexer": "ipython3",
   "version": "3.9.12"
  }
 },
 "nbformat": 4,
 "nbformat_minor": 5
}
