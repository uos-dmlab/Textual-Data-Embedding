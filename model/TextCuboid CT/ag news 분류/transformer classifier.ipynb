{
 "cells": [
  {
   "cell_type": "markdown",
   "id": "f24c1cba",
   "metadata": {},
   "source": [
    "Base에서 실행"
   ]
  },
  {
   "cell_type": "code",
   "execution_count": 36,
   "id": "c86aa95f",
   "metadata": {},
   "outputs": [],
   "source": [
    "import matplotlib.pyplot as plt\n",
    "import numpy as np\n",
    "import pandas as pd\n",
    "import tensorflow as tf\n",
    "import re\n",
    "import string\n",
    "import keras\n",
    "from sklearn.metrics import precision_score, recall_score, f1_score\n",
    "from sklearn.model_selection import train_test_split\n",
    "from sklearn.preprocessing import LabelEncoder"
   ]
  },
  {
   "cell_type": "code",
   "execution_count": 37,
   "id": "2e127047",
   "metadata": {},
   "outputs": [],
   "source": [
    "train_df = pd.read_csv('C:/Users/user/Desktop/bilm-tf-master/ag_news_dataset/train.csv')\n",
    "test_df = pd.read_csv('C:/Users/user/Desktop/bilm-tf-master/ag_news_dataset/test.csv')\n",
    "\n",
    "train_df.head(10)\n",
    "\n",
    "TEXT_LABELS = {0: \"World\", 1: \"Sports\", 2: \"Business\", 3: \"Sci/Tech\"}\n",
    "\n",
    "def combine_title_and_description(df):\n",
    "    # Returns a dataset with the title and description fields combined\n",
    "    df['text'] = df[['Title', 'Description']].agg('. '.join, axis=1)\n",
    "    df = df.drop(['Title', 'Description'], axis=1)\n",
    "    return df\n",
    "\n",
    "train_df = combine_title_and_description(train_df)\n",
    "test_df = combine_title_and_description(test_df)\n",
    "\n",
    "#각 클래스별로 5000개씩 총 2만개의 데이터를 샘플랭(너무 크면 TextCuboid의 용량이 너무 커진다)\n",
    "sampled_df = train_df.groupby(\"Class Index\").apply(lambda x: x.sample(5000, random_state=10))\n",
    "\n",
    "def clean_text(text):\n",
    "    text=str(text).lower() #Converts text to lowercase\n",
    "    text=re.sub('\\d+', '', text) #removes numbers\n",
    "    text=re.sub('\\[.*?\\]', '', text) #removes HTML tags\n",
    "    text=re.sub('https?://\\S+|www\\.\\S+', '', text) #removes url\n",
    "    text=re.sub(r\"[\"\n",
    "                           u\"\\U0001F600-\\U0001F64F\"  # emoticons\n",
    "                           u\"\\U0001F300-\\U0001F5FF\"  # symbols & pictographs\n",
    "                           u\"\\U0001F680-\\U0001F6FF\"  # transport & map symbols\n",
    "                           u\"\\U0001F1E0-\\U0001F1FF\"  # flags (iOS)\n",
    "                           u\"\\U00002702-\\U000027B0\"\n",
    "                           u\"\\U000024C2-\\U0001F251\"\n",
    "                           \"]+\", \"\", text) #removes emojis\n",
    "    text=re.sub('[%s]' % re.escape(string.punctuation),'',text) #removes punctuations\n",
    "    #text = re.sub('\\n', '', text)\n",
    "    #text = re.sub('\\w*\\d\\w*', '', text)\n",
    "    return text\n",
    "\n",
    "#전처리 특수기호 없애기\n",
    "sampled_df['text']=sampled_df['text'].apply(clean_text)\n",
    "\n",
    "sampled_df = sampled_df.reset_index(drop=True)\n",
    "\n",
    "train_df = sampled_df.groupby(\"Class Index\").apply(lambda x: x.sample(4000, random_state=10))\n",
    "train_idx = [x[1] for x in train_df.index]\n",
    "test_df = sampled_df.drop(train_idx)\n",
    "\n",
    "x_train=list(train_df['text'])\n",
    "y_train=list(train_df['Class Index'])\n",
    "x_test=list(test_df['text'])\n",
    "y_test=list(test_df['Class Index'])\n",
    "\n",
    "to_txt_filter=x_train+x_test\n",
    "y=list(y_train)+list(y_test)"
   ]
  },
  {
   "cell_type": "code",
   "execution_count": 38,
   "id": "dc9bb816",
   "metadata": {},
   "outputs": [],
   "source": [
    "encoder=LabelEncoder()\n",
    "\n",
    "encoder.fit(y)\n",
    "\n",
    "label=encoder.transform(y)\n",
    "\n",
    "y_train=label[:16000]\n",
    "y_test=label[16000:]"
   ]
  },
  {
   "cell_type": "code",
   "execution_count": 39,
   "id": "480c6e8e",
   "metadata": {},
   "outputs": [],
   "source": [
    "lst=[]\n",
    "for i in range(16000):\n",
    "    \n",
    "    lst.append(len(x_train[i].split()))"
   ]
  },
  {
   "cell_type": "code",
   "execution_count": 40,
   "id": "5790cf2f",
   "metadata": {},
   "outputs": [
    {
     "data": {
      "text/plain": [
       "176"
      ]
     },
     "execution_count": 40,
     "metadata": {},
     "output_type": "execute_result"
    }
   ],
   "source": [
    "max(lst)"
   ]
  },
  {
   "cell_type": "code",
   "execution_count": 41,
   "id": "82fcc048",
   "metadata": {},
   "outputs": [
    {
     "name": "stdout",
     "output_type": "stream",
     "text": [
      "Model: \"model_3\"\n",
      "_________________________________________________________________\n",
      " Layer (type)                Output Shape              Param #   \n",
      "=================================================================\n",
      " input_4 (InputLayer)        [(None, 176)]             0         \n",
      "                                                                 \n",
      " token_and_position_embeddin  (None, 176, 512)         20072448  \n",
      " g_3 (TokenAndPositionEmbedd                                     \n",
      " ing)                                                            \n",
      "                                                                 \n",
      " transformer_block_3 (Transf  (None, 176, 512)         1085984   \n",
      " ormerBlock)                                                     \n",
      "                                                                 \n",
      " global_average_pooling1d_3   (None, 512)              0         \n",
      " (GlobalAveragePooling1D)                                        \n",
      "                                                                 \n",
      " dropout_20 (Dropout)        (None, 512)               0         \n",
      "                                                                 \n",
      " dense_48 (Dense)            (None, 256)               131328    \n",
      "                                                                 \n",
      " dropout_21 (Dropout)        (None, 256)               0         \n",
      "                                                                 \n",
      " dense_49 (Dense)            (None, 4)                 1028      \n",
      "                                                                 \n",
      "=================================================================\n",
      "Total params: 21,290,788\n",
      "Trainable params: 21,290,788\n",
      "Non-trainable params: 0\n",
      "_________________________________________________________________\n"
     ]
    }
   ],
   "source": [
    "sos_x_train=[]\n",
    "sos_x_test=[]\n",
    "for sen in x_train:\n",
    "    sos_x_train.append('<sos>'+sen)\n",
    "for sen in x_test:\n",
    "    sos_x_test.append('<sos>'+sen)\n",
    "\n",
    "all_txt=sos_x_train+sos_x_test\n",
    "\n",
    "from tensorflow.keras.preprocessing.text import Tokenizer\n",
    "tokenizer = Tokenizer()\n",
    "tokenizer.fit_on_texts(all_txt)\n",
    "\n",
    "vocab_size =len(tokenizer.word_index)\n",
    "\n",
    "x_train_encoded = tokenizer.texts_to_sequences(sos_x_train)\n",
    "x_test_encoded = tokenizer.texts_to_sequences(sos_x_test)\n",
    "\n",
    "max_len = 176\n",
    "\n",
    "x_train = tf.keras.preprocessing.sequence.pad_sequences(x_train_encoded, maxlen=max_len)\n",
    "x_test = tf.keras.preprocessing.sequence.pad_sequences(x_test_encoded, maxlen=max_len)\n",
    "\n",
    "class MultiHeadAttention(tf.keras.layers.Layer):\n",
    "    def __init__(self, embedding_dim, num_heads=8):\n",
    "        super(MultiHeadAttention, self).__init__()\n",
    "        self.embedding_dim = embedding_dim # d_model\n",
    "        self.num_heads = num_heads\n",
    "\n",
    "        assert embedding_dim % self.num_heads == 0\n",
    "\n",
    "        self.projection_dim = embedding_dim // num_heads\n",
    "        self.query_dense = tf.keras.layers.Dense(embedding_dim)\n",
    "        self.key_dense = tf.keras.layers.Dense(embedding_dim)\n",
    "        self.value_dense = tf.keras.layers.Dense(embedding_dim)\n",
    "        self.dense = tf.keras.layers.Dense(embedding_dim)\n",
    "\n",
    "    def scaled_dot_product_attention(self, query, key, value):\n",
    "        matmul_qk = tf.matmul(query, key, transpose_b=True)\n",
    "        depth = tf.cast(tf.shape(key)[-1], tf.float32)\n",
    "        logits = matmul_qk / tf.math.sqrt(depth)\n",
    "        attention_weights = tf.nn.softmax(logits, axis=-1)\n",
    "        output = tf.matmul(attention_weights, value)\n",
    "        return output, attention_weights\n",
    "\n",
    "    def split_heads(self, x, batch_size):\n",
    "        x = tf.reshape(x, (batch_size, -1, self.num_heads, self.projection_dim))\n",
    "        return tf.transpose(x, perm=[0, 2, 1, 3])\n",
    "\n",
    "    def call(self, inputs):\n",
    "        # x.shape = [batch_size, seq_len, embedding_dim]\n",
    "        batch_size = tf.shape(inputs)[0]\n",
    "\n",
    "        # (batch_size, seq_len, embedding_dim)\n",
    "        query = self.query_dense(inputs)\n",
    "        key = self.key_dense(inputs)\n",
    "        value = self.value_dense(inputs)\n",
    "\n",
    "        # (batch_size, num_heads, seq_len, projection_dim)\n",
    "        query = self.split_heads(query, batch_size)  \n",
    "        key = self.split_heads(key, batch_size)\n",
    "        value = self.split_heads(value, batch_size)\n",
    "\n",
    "        scaled_attention, _ = self.scaled_dot_product_attention(query, key, value)\n",
    "        # (batch_size, seq_len, num_heads, projection_dim)\n",
    "        scaled_attention = tf.transpose(scaled_attention, perm=[0, 2, 1, 3])  \n",
    "\n",
    "        # (batch_size, seq_len, embedding_dim)\n",
    "        concat_attention = tf.reshape(scaled_attention, (batch_size, -1, self.embedding_dim))\n",
    "        outputs = self.dense(concat_attention)\n",
    "        return outputs\n",
    "\n",
    "\n",
    "class TransformerBlock(tf.keras.layers.Layer):\n",
    "    \n",
    "        \n",
    "    def __init__(self, embedding_dim, num_heads, dff, rate=0.1, **kwargs):\n",
    "        super(TransformerBlock, self).__init__(**kwargs)\n",
    "        self.embedding_dim = embedding_dim\n",
    "        self.num_heads = num_heads\n",
    "        self.dff = dff\n",
    "        self.rate = rate\n",
    "        self.att = MultiHeadAttention(embedding_dim, num_heads)\n",
    "        self.ffn = tf.keras.Sequential(\n",
    "            [tf.keras.layers.Dense(dff, activation=\"relu\"),\n",
    "             tf.keras.layers.Dense(embedding_dim),]\n",
    "        )\n",
    "        self.layernorm1 = tf.keras.layers.LayerNormalization(epsilon=1e-6)\n",
    "        self.layernorm2 = tf.keras.layers.LayerNormalization(epsilon=1e-6)\n",
    "        self.dropout1 = tf.keras.layers.Dropout(rate)\n",
    "        self.dropout2 = tf.keras.layers.Dropout(rate)\n",
    "\n",
    "    def call(self, inputs, training):\n",
    "        attn_output = self.att(inputs) # 첫번째 서브층 : 멀티 헤드 어텐션\n",
    "        attn_output = self.dropout1(attn_output, training=training)\n",
    "        out1 = self.layernorm1(inputs + attn_output) # Add & Norm\n",
    "        ffn_output = self.ffn(out1) # 두번째 서브층 : 포지션 와이즈 피드 포워드 신경망\n",
    "        ffn_output = self.dropout2(ffn_output, training=training)\n",
    "        return self.layernorm2(out1 + ffn_output) # Add & Norm\n",
    "    \n",
    "    def get_config(self):\n",
    "        config = super(TransformerBlock, self).get_config()\n",
    "        config.update({\n",
    "            'embedding_dim': self.embedding_dim,\n",
    "            'num_heads': self.num_heads,\n",
    "            'dff': self.dff,\n",
    "            'rate': self.rate\n",
    "        })\n",
    "        return config\n",
    "\n",
    "\n",
    "class TokenAndPositionEmbedding(tf.keras.layers.Layer):\n",
    "    def __init__(self, max_len, vocab_size, embedding_dim, **kwargs):\n",
    "        super(TokenAndPositionEmbedding, self).__init__(**kwargs)\n",
    "    \n",
    "        self.max_len = max_len\n",
    "        self.vocab_size = vocab_size\n",
    "        self.embedding_dim = embedding_dim\n",
    "        self.token_emb = keras.layers.Embedding(input_dim=vocab_size, output_dim=embedding_dim)\n",
    "        self.pos_emb = keras.layers.Embedding(input_dim=max_len, output_dim=embedding_dim)\n",
    "\n",
    "    def call(self, x):\n",
    "        max_len = tf.shape(x)[-1]\n",
    "        positions = tf.range(start=0, limit=max_len, delta=1)\n",
    "        positions = self.pos_emb(positions)\n",
    "        x = self.token_emb(x)\n",
    "        return x + positions\n",
    "    \n",
    "    def get_config(self):\n",
    "        config = super(TokenAndPositionEmbedding, self).get_config()\n",
    "        config.update({\n",
    "            'max_len': self.max_len,\n",
    "            'vocab_size': self.vocab_size,\n",
    "            'embedding_dim': self.embedding_dim\n",
    "        })\n",
    "        return config\n",
    "\n",
    "\n",
    "embedding_dim = 512  # 각 단어의 임베딩 벡터의 차원   #128 #256 #512 #1024\n",
    "num_heads = 1  # 어텐션 헤드의 수\n",
    "dff = 32 # 포지션 와이즈 피드 포워드 신경망의 은닉층의 크기 #32 #64 #128 #256\n",
    "num_transformer_blocks = 1\n",
    "\n",
    "inputs = tf.keras.layers.Input(shape=(max_len,))\n",
    "embedding_layer = TokenAndPositionEmbedding(max_len, vocab_size, embedding_dim)\n",
    "x = embedding_layer(inputs)\n",
    "\n",
    "for _ in range(num_transformer_blocks):\n",
    "    transformer_block = TransformerBlock(embedding_dim, num_heads, dff)\n",
    "    x = transformer_block(x)\n",
    "\n",
    "# transformer_block = TransformerBlock(embedding_dim, num_heads, dff)\n",
    "# x = transformer_block(x)\n",
    "x = tf.keras.layers.GlobalAveragePooling1D()(x)\n",
    "x = tf.keras.layers.Dropout(0.5)(x)\n",
    "x = tf.keras.layers.Dense(256, activation=\"relu\")(x)\n",
    "x = tf.keras.layers.Dropout(0.5)(x)\n",
    "\n",
    "outputs = tf.keras.layers.Dense(4, activation=\"softmax\")(x)\n",
    "\n",
    "model = tf.keras.Model(inputs=inputs, outputs=outputs)\n",
    "\n",
    "\n",
    "model.summary()\n",
    "\n",
    "y_train = np.array(y_train)\n",
    "y_test = np.array(y_test)"
   ]
  },
  {
   "cell_type": "code",
   "execution_count": 42,
   "id": "c2705e43",
   "metadata": {},
   "outputs": [],
   "source": [
    "tmp = [[x,y] for x, y in zip(x_train, y_train)]\n",
    "import random\n",
    "random.shuffle(tmp)\n",
    "x_train = [n[0] for n in tmp]\n",
    "y_train = [n[1] for n in tmp]\n",
    "x_train=np.array(x_train)\n",
    "y_train=np.array(y_train)"
   ]
  },
  {
   "cell_type": "code",
   "execution_count": 43,
   "id": "a21c2b43",
   "metadata": {},
   "outputs": [],
   "source": [
    "x_val=x_train[:1000]\n",
    "x_train=x_train[1000:]\n",
    "y_val=y_train[:1000]\n",
    "y_train=y_train[1000:]"
   ]
  },
  {
   "cell_type": "code",
   "execution_count": 44,
   "id": "bc6ee437",
   "metadata": {},
   "outputs": [],
   "source": [
    "callbacks = [\n",
    "    keras.callbacks.ModelCheckpoint(\n",
    "        \"best_model.h5\", save_best_only=True, monitor=\"val_loss\"\n",
    "    ),\n",
    "    keras.callbacks.ReduceLROnPlateau(\n",
    "        monitor=\"val_loss\", factor=0.5, patience=2, min_lr=0.0001\n",
    "    ),\n",
    "#     keras.callbacks.EarlyStopping(monitor=\"val_loss\", patience=8, verbose=1),\n",
    "]"
   ]
  },
  {
   "cell_type": "code",
   "execution_count": 45,
   "id": "e061a58a",
   "metadata": {},
   "outputs": [
    {
     "name": "stdout",
     "output_type": "stream",
     "text": [
      "Epoch 1/5\n",
      "59/59 [==============================] - 5s 64ms/step - loss: 1.5670 - accuracy: 0.2590 - val_loss: 1.3087 - val_accuracy: 0.4330 - lr: 0.0010\n",
      "Epoch 2/5\n",
      "59/59 [==============================] - 4s 61ms/step - loss: 0.5621 - accuracy: 0.7923 - val_loss: 0.3760 - val_accuracy: 0.8730 - lr: 0.0010\n",
      "Epoch 3/5\n",
      "59/59 [==============================] - 4s 60ms/step - loss: 0.1947 - accuracy: 0.9411 - val_loss: 0.3737 - val_accuracy: 0.8810 - lr: 0.0010\n",
      "Epoch 4/5\n",
      "59/59 [==============================] - 3s 50ms/step - loss: 0.0853 - accuracy: 0.9732 - val_loss: 0.5437 - val_accuracy: 0.8700 - lr: 0.0010\n",
      "Epoch 5/5\n",
      "59/59 [==============================] - 3s 51ms/step - loss: 0.0388 - accuracy: 0.9881 - val_loss: 0.6625 - val_accuracy: 0.8620 - lr: 0.0010\n",
      "125/125 [==============================] - 1s 5ms/step - loss: 0.4920 - accuracy: 0.8870\n",
      "테스트 정확도: 0.8870\n"
     ]
    }
   ],
   "source": [
    "model.compile(\"adam\", \"sparse_categorical_crossentropy\", metrics=[\"accuracy\"])\n",
    "history = model.fit(x_train, y_train, batch_size=256,callbacks=callbacks, epochs=5, validation_data=(x_val, y_val))\n",
    "\n",
    "print(\"테스트 정확도: %.4f\" % (model.evaluate(x_test, y_test)[1]))"
   ]
  },
  {
   "cell_type": "code",
   "execution_count": 46,
   "id": "532d234a",
   "metadata": {},
   "outputs": [
    {
     "name": "stdout",
     "output_type": "stream",
     "text": [
      "125/125 [==============================] - 1s 4ms/step - loss: 0.3082 - accuracy: 0.9038\n"
     ]
    },
    {
     "data": {
      "text/plain": [
       "[0.308186799287796, 0.9037500023841858]"
      ]
     },
     "execution_count": 46,
     "metadata": {},
     "output_type": "execute_result"
    }
   ],
   "source": [
    "from keras.models import load_model\n",
    "custom_objects = {\"TokenAndPositionEmbedding\": TokenAndPositionEmbedding, \"TransformerBlock\": TransformerBlock}\n",
    "model = load_model('best_model.h5', custom_objects=custom_objects)\n",
    "model.evaluate(x_test, y_test)"
   ]
  },
  {
   "cell_type": "code",
   "execution_count": null,
   "id": "7e1d499f",
   "metadata": {},
   "outputs": [],
   "source": []
  },
  {
   "cell_type": "code",
   "execution_count": 48,
   "id": "d94a2aa7",
   "metadata": {},
   "outputs": [
    {
     "data": {
      "text/plain": [
       "90.23333333333335"
      ]
     },
     "execution_count": 48,
     "metadata": {},
     "output_type": "execute_result"
    }
   ],
   "source": [
    "np.average([90.5,89.8,90.4])"
   ]
  },
  {
   "cell_type": "code",
   "execution_count": null,
   "id": "28a8369e",
   "metadata": {},
   "outputs": [],
   "source": []
  },
  {
   "cell_type": "code",
   "execution_count": null,
   "id": "419269eb",
   "metadata": {},
   "outputs": [],
   "source": []
  }
 ],
 "metadata": {
  "kernelspec": {
   "display_name": "Python 3 (ipykernel)",
   "language": "python",
   "name": "python3"
  },
  "language_info": {
   "codemirror_mode": {
    "name": "ipython",
    "version": 3
   },
   "file_extension": ".py",
   "mimetype": "text/x-python",
   "name": "python",
   "nbconvert_exporter": "python",
   "pygments_lexer": "ipython3",
   "version": "3.9.12"
  }
 },
 "nbformat": 4,
 "nbformat_minor": 5
}
