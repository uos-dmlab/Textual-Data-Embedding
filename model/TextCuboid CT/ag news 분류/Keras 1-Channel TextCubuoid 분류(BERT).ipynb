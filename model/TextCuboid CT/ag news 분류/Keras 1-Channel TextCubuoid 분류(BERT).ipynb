{
 "cells": [
  {
   "cell_type": "markdown",
   "id": "ec47502c",
   "metadata": {},
   "source": [
    "Base에서 실행"
   ]
  },
  {
   "cell_type": "markdown",
   "id": "184f59ff",
   "metadata": {},
   "source": [
    "# Textcuboid\n"
   ]
  },
  {
   "cell_type": "code",
   "execution_count": 1,
   "id": "eb399714",
   "metadata": {},
   "outputs": [],
   "source": [
    "import os\n",
    "os.environ[\"CUDA_VISIBLE_DEVICES\"] = \"-1\""
   ]
  },
  {
   "cell_type": "code",
   "execution_count": 1,
   "id": "849c1414",
   "metadata": {},
   "outputs": [],
   "source": [
    "import matplotlib.pyplot as plt\n",
    "import numpy as np\n",
    "import pandas as pd\n",
    "import tensorflow as tf\n",
    "import re\n",
    "import string\n",
    "from sklearn.metrics import precision_score, recall_score, f1_score\n",
    "from sklearn.model_selection import train_test_split\n",
    "from sklearn.preprocessing import LabelEncoder"
   ]
  },
  {
   "cell_type": "code",
   "execution_count": 2,
   "id": "acf55854",
   "metadata": {},
   "outputs": [],
   "source": [
    "train_df = pd.read_csv('C:/Users/user/Desktop/bilm-tf-master/ag_news_dataset/train.csv')\n",
    "test_df = pd.read_csv('C:/Users/user/Desktop/bilm-tf-master/ag_news_dataset/test.csv')\n",
    "\n",
    "train_df.head(10)\n",
    "\n",
    "TEXT_LABELS = {0: \"World\", 1: \"Sports\", 2: \"Business\", 3: \"Sci/Tech\"}\n",
    "\n",
    "def combine_title_and_description(df):\n",
    "    # Returns a dataset with the title and description fields combined\n",
    "    df['text'] = df[['Title', 'Description']].agg('. '.join, axis=1)\n",
    "    df = df.drop(['Title', 'Description'], axis=1)\n",
    "    return df\n",
    "\n",
    "train_df = combine_title_and_description(train_df)\n",
    "test_df = combine_title_and_description(test_df)\n",
    "\n",
    "#각 클래스별로 5000개씩 총 2만개의 데이터를 샘플랭(너무 크면 TextCuboid의 용량이 너무 커진다)\n",
    "sampled_df = train_df.groupby(\"Class Index\").apply(lambda x: x.sample(5000, random_state=10))\n",
    "\n",
    "def clean_text(text):\n",
    "    text=str(text).lower() #Converts text to lowercase\n",
    "    text=re.sub('\\d+', '', text) #removes numbers\n",
    "    text=re.sub('\\[.*?\\]', '', text) #removes HTML tags\n",
    "    text=re.sub('https?://\\S+|www\\.\\S+', '', text) #removes url\n",
    "    text=re.sub(r\"[\"\n",
    "                           u\"\\U0001F600-\\U0001F64F\"  # emoticons\n",
    "                           u\"\\U0001F300-\\U0001F5FF\"  # symbols & pictographs\n",
    "                           u\"\\U0001F680-\\U0001F6FF\"  # transport & map symbols\n",
    "                           u\"\\U0001F1E0-\\U0001F1FF\"  # flags (iOS)\n",
    "                           u\"\\U00002702-\\U000027B0\"\n",
    "                           u\"\\U000024C2-\\U0001F251\"\n",
    "                           \"]+\", \"\", text) #removes emojis\n",
    "    text=re.sub('[%s]' % re.escape(string.punctuation),'',text) #removes punctuations\n",
    "    #text = re.sub('\\n', '', text)\n",
    "    #text = re.sub('\\w*\\d\\w*', '', text)\n",
    "    return text\n",
    "\n",
    "#전처리 특수기호 없애기\n",
    "sampled_df['text']=sampled_df['text'].apply(clean_text)\n",
    "\n",
    "sampled_df = sampled_df.reset_index(drop=True)\n",
    "\n",
    "train_df = sampled_df.groupby(\"Class Index\").apply(lambda x: x.sample(4000, random_state=10))\n",
    "train_idx = [x[1] for x in train_df.index]\n",
    "test_df = sampled_df.drop(train_idx)\n",
    "\n",
    "x_train=list(train_df['text'])\n",
    "y_train=list(train_df['Class Index'])\n",
    "x_test=list(test_df['text'])\n",
    "y_test=list(test_df['Class Index'])\n",
    "\n",
    "to_txt_filter=x_train+x_test\n",
    "y=list(y_train)+list(y_test)"
   ]
  },
  {
   "cell_type": "code",
   "execution_count": 3,
   "id": "8476485c",
   "metadata": {},
   "outputs": [],
   "source": [
    "encoder=LabelEncoder()\n",
    "\n",
    "encoder.fit(y)\n",
    "\n",
    "label=encoder.transform(y)\n",
    "\n",
    "y_train=label[:16000]\n",
    "y_test=label[16000:]"
   ]
  },
  {
   "cell_type": "markdown",
   "id": "c02f3e46",
   "metadata": {},
   "source": [
    "## 2) textcuboid 분류"
   ]
  },
  {
   "cell_type": "code",
   "execution_count": 4,
   "id": "2ffa92ca",
   "metadata": {},
   "outputs": [],
   "source": [
    "textcuboid=np.load('./1-Channel textcuboid_ag(bert).npy')"
   ]
  },
  {
   "cell_type": "code",
   "execution_count": 5,
   "id": "55f29d23",
   "metadata": {},
   "outputs": [],
   "source": [
    "textcuboid_test=np.load('./1-Channel textcuboid_test_ag(bert).npy')"
   ]
  },
  {
   "cell_type": "code",
   "execution_count": 6,
   "id": "ba42344b",
   "metadata": {},
   "outputs": [],
   "source": [
    "tmp = [[x,y] for x, y in zip(textcuboid, y_train)]\n",
    "import random\n",
    "random.shuffle(tmp)\n",
    "textcuboid = [n[0] for n in tmp]\n",
    "y_train = [n[1] for n in tmp]\n",
    "textcuboid=np.array(textcuboid)\n",
    "y_train=np.array(y_train)"
   ]
  },
  {
   "cell_type": "code",
   "execution_count": 7,
   "id": "1f178135",
   "metadata": {},
   "outputs": [],
   "source": [
    "import keras\n",
    "from tensorflow.keras import layers"
   ]
  },
  {
   "cell_type": "code",
   "execution_count": 8,
   "id": "ddec5841",
   "metadata": {},
   "outputs": [],
   "source": [
    "callbacks = [\n",
    "    keras.callbacks.ModelCheckpoint(\n",
    "        \"best_model.h5\", save_best_only=True, monitor=\"val_loss\"\n",
    "    ),\n",
    "    keras.callbacks.ReduceLROnPlateau(\n",
    "        monitor=\"val_loss\", factor=0.5, patience=2, min_lr=0.0001\n",
    "    ),\n",
    "#     keras.callbacks.EarlyStopping(monitor=\"val_loss\", patience=8, verbose=1),\n",
    "]"
   ]
  },
  {
   "cell_type": "code",
   "execution_count": 9,
   "id": "ce1b3b58",
   "metadata": {},
   "outputs": [],
   "source": [
    "from tensorflow.keras.layers import Input, Conv1D, GlobalMaxPooling1D, Dense, Dropout\n",
    "from tensorflow.keras.models import Model\n",
    "\n",
    "\n",
    "input_layer = Input(shape=(46, 768))\n",
    "conv1 = Conv1D(256, 1, padding='valid', activation='relu')(input_layer)\n",
    "pooling = GlobalMaxPooling1D()(conv1)\n",
    "\n",
    "x = Dense(256, activation='relu')(pooling)\n",
    "x = Dropout(0.5)(x)\n",
    "output_layer = Dense(4, activation='softmax')(x)\n",
    "\n",
    "model = Model(inputs=input_layer, outputs=output_layer)"
   ]
  },
  {
   "cell_type": "code",
   "execution_count": 10,
   "id": "de8bb000",
   "metadata": {},
   "outputs": [],
   "source": [
    "model.compile(optimizer='adam', loss='sparse_categorical_crossentropy', metrics=['accuracy'])"
   ]
  },
  {
   "cell_type": "code",
   "execution_count": 11,
   "id": "a4cb157c",
   "metadata": {},
   "outputs": [
    {
     "name": "stdout",
     "output_type": "stream",
     "text": [
      "Model: \"model\"\n",
      "_________________________________________________________________\n",
      " Layer (type)                Output Shape              Param #   \n",
      "=================================================================\n",
      " input_1 (InputLayer)        [(None, 46, 768)]         0         \n",
      "                                                                 \n",
      " conv1d (Conv1D)             (None, 46, 256)           196864    \n",
      "                                                                 \n",
      " global_max_pooling1d (Globa  (None, 256)              0         \n",
      " lMaxPooling1D)                                                  \n",
      "                                                                 \n",
      " dense (Dense)               (None, 256)               65792     \n",
      "                                                                 \n",
      " dropout (Dropout)           (None, 256)               0         \n",
      "                                                                 \n",
      " dense_1 (Dense)             (None, 4)                 1028      \n",
      "                                                                 \n",
      "=================================================================\n",
      "Total params: 263,684\n",
      "Trainable params: 263,684\n",
      "Non-trainable params: 0\n",
      "_________________________________________________________________\n"
     ]
    }
   ],
   "source": [
    "model.summary()"
   ]
  },
  {
   "cell_type": "code",
   "execution_count": 12,
   "id": "8fa47ead",
   "metadata": {},
   "outputs": [],
   "source": [
    "x_train=textcuboid[1000:]\n",
    "x_val=textcuboid[:1000]\n",
    "y_train1=y_train[1000:]\n",
    "y_val=y_train[:1000]"
   ]
  },
  {
   "cell_type": "code",
   "execution_count": 13,
   "id": "a3071295",
   "metadata": {
    "scrolled": true
   },
   "outputs": [
    {
     "name": "stdout",
     "output_type": "stream",
     "text": [
      "Epoch 1/20\n",
      "59/59 [==============================] - 2s 14ms/step - loss: 1.5739 - accuracy: 0.7420 - val_loss: 0.3849 - val_accuracy: 0.8820 - lr: 0.0010\n",
      "Epoch 2/20\n",
      "59/59 [==============================] - 1s 11ms/step - loss: 0.4043 - accuracy: 0.8633 - val_loss: 0.3528 - val_accuracy: 0.8930 - lr: 0.0010\n",
      "Epoch 3/20\n",
      "59/59 [==============================] - 1s 10ms/step - loss: 0.3309 - accuracy: 0.8888 - val_loss: 0.3491 - val_accuracy: 0.8990 - lr: 0.0010\n",
      "Epoch 4/20\n",
      "59/59 [==============================] - 1s 11ms/step - loss: 0.2717 - accuracy: 0.9061 - val_loss: 0.3431 - val_accuracy: 0.9030 - lr: 0.0010\n",
      "Epoch 5/20\n",
      "59/59 [==============================] - 1s 11ms/step - loss: 0.2279 - accuracy: 0.9191 - val_loss: 0.3306 - val_accuracy: 0.9040 - lr: 0.0010\n",
      "Epoch 6/20\n",
      "59/59 [==============================] - 1s 11ms/step - loss: 0.1969 - accuracy: 0.9311 - val_loss: 0.3410 - val_accuracy: 0.8970 - lr: 0.0010\n",
      "Epoch 7/20\n",
      "59/59 [==============================] - 1s 11ms/step - loss: 0.1694 - accuracy: 0.9394 - val_loss: 0.3311 - val_accuracy: 0.9030 - lr: 0.0010\n",
      "Epoch 8/20\n",
      "59/59 [==============================] - 1s 12ms/step - loss: 0.1373 - accuracy: 0.9510 - val_loss: 0.3428 - val_accuracy: 0.8990 - lr: 5.0000e-04\n",
      "Epoch 9/20\n",
      "59/59 [==============================] - 1s 11ms/step - loss: 0.1226 - accuracy: 0.9545 - val_loss: 0.3348 - val_accuracy: 0.9050 - lr: 5.0000e-04\n",
      "Epoch 10/20\n",
      "59/59 [==============================] - 1s 11ms/step - loss: 0.1021 - accuracy: 0.9646 - val_loss: 0.3540 - val_accuracy: 0.9000 - lr: 2.5000e-04\n",
      "Epoch 11/20\n",
      "59/59 [==============================] - 1s 11ms/step - loss: 0.0888 - accuracy: 0.9703 - val_loss: 0.3553 - val_accuracy: 0.8970 - lr: 2.5000e-04\n",
      "Epoch 12/20\n",
      "59/59 [==============================] - 1s 11ms/step - loss: 0.0851 - accuracy: 0.9697 - val_loss: 0.3586 - val_accuracy: 0.8990 - lr: 1.2500e-04\n",
      "Epoch 13/20\n",
      "59/59 [==============================] - 1s 12ms/step - loss: 0.0797 - accuracy: 0.9735 - val_loss: 0.3631 - val_accuracy: 0.9000 - lr: 1.2500e-04\n",
      "Epoch 14/20\n",
      "59/59 [==============================] - 1s 12ms/step - loss: 0.0753 - accuracy: 0.9746 - val_loss: 0.3687 - val_accuracy: 0.9000 - lr: 1.0000e-04\n",
      "Epoch 15/20\n",
      "59/59 [==============================] - 1s 11ms/step - loss: 0.0733 - accuracy: 0.9763 - val_loss: 0.3707 - val_accuracy: 0.9000 - lr: 1.0000e-04\n",
      "Epoch 16/20\n",
      "59/59 [==============================] - 1s 12ms/step - loss: 0.0687 - accuracy: 0.9768 - val_loss: 0.3702 - val_accuracy: 0.8990 - lr: 1.0000e-04\n",
      "Epoch 17/20\n",
      "59/59 [==============================] - 1s 12ms/step - loss: 0.0682 - accuracy: 0.9772 - val_loss: 0.3758 - val_accuracy: 0.9000 - lr: 1.0000e-04\n",
      "Epoch 18/20\n",
      "59/59 [==============================] - 1s 11ms/step - loss: 0.0640 - accuracy: 0.9797 - val_loss: 0.3803 - val_accuracy: 0.9000 - lr: 1.0000e-04\n",
      "Epoch 19/20\n",
      "59/59 [==============================] - 1s 11ms/step - loss: 0.0640 - accuracy: 0.9778 - val_loss: 0.3761 - val_accuracy: 0.9000 - lr: 1.0000e-04\n",
      "Epoch 20/20\n",
      "59/59 [==============================] - 1s 11ms/step - loss: 0.0627 - accuracy: 0.9797 - val_loss: 0.3849 - val_accuracy: 0.8970 - lr: 1.0000e-04\n"
     ]
    }
   ],
   "source": [
    "history = model.fit(x_train, y_train1,callbacks=callbacks, epochs=20,batch_size=256,validation_data=(x_val, y_val))"
   ]
  },
  {
   "cell_type": "code",
   "execution_count": 14,
   "id": "0c01aee7",
   "metadata": {},
   "outputs": [],
   "source": [
    "y_test=np.array(y_test)"
   ]
  },
  {
   "cell_type": "code",
   "execution_count": 15,
   "id": "0b8710f9",
   "metadata": {},
   "outputs": [
    {
     "name": "stdout",
     "output_type": "stream",
     "text": [
      "125/125 [==============================] - 0s 2ms/step - loss: 0.3614 - accuracy: 0.9070\n"
     ]
    },
    {
     "data": {
      "text/plain": [
       "[0.3613802194595337, 0.9070000052452087]"
      ]
     },
     "execution_count": 15,
     "metadata": {},
     "output_type": "execute_result"
    }
   ],
   "source": [
    "model.evaluate(textcuboid_test,y_test)"
   ]
  },
  {
   "cell_type": "code",
   "execution_count": 16,
   "id": "eb178a78",
   "metadata": {},
   "outputs": [
    {
     "name": "stdout",
     "output_type": "stream",
     "text": [
      "125/125 [==============================] - 0s 2ms/step - loss: 0.3116 - accuracy: 0.8988\n"
     ]
    },
    {
     "data": {
      "text/plain": [
       "[0.3116104006767273, 0.8987500071525574]"
      ]
     },
     "execution_count": 16,
     "metadata": {},
     "output_type": "execute_result"
    }
   ],
   "source": [
    "from keras.models import load_model\n",
    "model = load_model('best_model.h5')\n",
    "model.evaluate(textcuboid_test,y_test)"
   ]
  },
  {
   "cell_type": "code",
   "execution_count": null,
   "id": "3c319af6",
   "metadata": {},
   "outputs": [],
   "source": []
  },
  {
   "cell_type": "code",
   "execution_count": 40,
   "id": "0be15b04",
   "metadata": {},
   "outputs": [
    {
     "data": {
      "text/plain": [
       "91.40000000000002"
      ]
     },
     "execution_count": 40,
     "metadata": {},
     "output_type": "execute_result"
    }
   ],
   "source": [
    "#사전학습 bert\n",
    "np.average([91.2, 91.4, 91.6])"
   ]
  },
  {
   "cell_type": "code",
   "execution_count": null,
   "id": "2775172f",
   "metadata": {},
   "outputs": [],
   "source": []
  }
 ],
 "metadata": {
  "kernelspec": {
   "display_name": "Python 3 (ipykernel)",
   "language": "python",
   "name": "python3"
  },
  "language_info": {
   "codemirror_mode": {
    "name": "ipython",
    "version": 3
   },
   "file_extension": ".py",
   "mimetype": "text/x-python",
   "name": "python",
   "nbconvert_exporter": "python",
   "pygments_lexer": "ipython3",
   "version": "3.9.12"
  }
 },
 "nbformat": 4,
 "nbformat_minor": 5
}
