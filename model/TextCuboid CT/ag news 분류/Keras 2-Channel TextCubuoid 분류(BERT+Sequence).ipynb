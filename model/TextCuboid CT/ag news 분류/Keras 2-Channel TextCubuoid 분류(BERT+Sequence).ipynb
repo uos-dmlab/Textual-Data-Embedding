{
 "cells": [
  {
   "cell_type": "markdown",
   "id": "eee83b8b",
   "metadata": {},
   "source": [
    "Base에서 실행"
   ]
  },
  {
   "cell_type": "markdown",
   "id": "184f59ff",
   "metadata": {},
   "source": [
    "# Textcuboid\n"
   ]
  },
  {
   "cell_type": "code",
   "execution_count": 1,
   "id": "e5f5e87a",
   "metadata": {},
   "outputs": [],
   "source": [
    "import os\n",
    "os.environ[\"CUDA_VISIBLE_DEVICES\"] = \"-1\""
   ]
  },
  {
   "cell_type": "code",
   "execution_count": 1,
   "id": "849c1414",
   "metadata": {},
   "outputs": [],
   "source": [
    "import matplotlib.pyplot as plt\n",
    "import numpy as np\n",
    "import pandas as pd\n",
    "import tensorflow as tf\n",
    "import re\n",
    "import string\n",
    "import keras\n",
    "from sklearn.metrics import precision_score, recall_score, f1_score\n",
    "from sklearn.model_selection import train_test_split\n",
    "from sklearn.preprocessing import LabelEncoder"
   ]
  },
  {
   "cell_type": "code",
   "execution_count": 2,
   "id": "c6cde120",
   "metadata": {},
   "outputs": [],
   "source": [
    "train_df = pd.read_csv('C:/Users/user/Desktop/bilm-tf-master/ag_news_dataset/train.csv')\n",
    "test_df = pd.read_csv('C:/Users/user/Desktop/bilm-tf-master/ag_news_dataset/test.csv')\n",
    "\n",
    "train_df.head(10)\n",
    "\n",
    "TEXT_LABELS = {0: \"World\", 1: \"Sports\", 2: \"Business\", 3: \"Sci/Tech\"}\n",
    "\n",
    "def combine_title_and_description(df):\n",
    "    # Returns a dataset with the title and description fields combined\n",
    "    df['text'] = df[['Title', 'Description']].agg('. '.join, axis=1)\n",
    "    df = df.drop(['Title', 'Description'], axis=1)\n",
    "    return df\n",
    "\n",
    "train_df = combine_title_and_description(train_df)\n",
    "test_df = combine_title_and_description(test_df)\n",
    "\n",
    "#각 클래스별로 5000개씩 총 2만개의 데이터를 샘플랭(너무 크면 TextCuboid의 용량이 너무 커진다)\n",
    "sampled_df = train_df.groupby(\"Class Index\").apply(lambda x: x.sample(5000, random_state=10))\n",
    "\n",
    "def clean_text(text):\n",
    "    text=str(text).lower() #Converts text to lowercase\n",
    "    text=re.sub('\\d+', '', text) #removes numbers\n",
    "    text=re.sub('\\[.*?\\]', '', text) #removes HTML tags\n",
    "    text=re.sub('https?://\\S+|www\\.\\S+', '', text) #removes url\n",
    "    text=re.sub(r\"[\"\n",
    "                           u\"\\U0001F600-\\U0001F64F\"  # emoticons\n",
    "                           u\"\\U0001F300-\\U0001F5FF\"  # symbols & pictographs\n",
    "                           u\"\\U0001F680-\\U0001F6FF\"  # transport & map symbols\n",
    "                           u\"\\U0001F1E0-\\U0001F1FF\"  # flags (iOS)\n",
    "                           u\"\\U00002702-\\U000027B0\"\n",
    "                           u\"\\U000024C2-\\U0001F251\"\n",
    "                           \"]+\", \"\", text) #removes emojis\n",
    "    text=re.sub('[%s]' % re.escape(string.punctuation),'',text) #removes punctuations\n",
    "    #text = re.sub('\\n', '', text)\n",
    "    #text = re.sub('\\w*\\d\\w*', '', text)\n",
    "    return text\n",
    "\n",
    "#전처리 특수기호 없애기\n",
    "sampled_df['text']=sampled_df['text'].apply(clean_text)\n",
    "\n",
    "sampled_df = sampled_df.reset_index(drop=True)\n",
    "\n",
    "train_df = sampled_df.groupby(\"Class Index\").apply(lambda x: x.sample(4000, random_state=10))\n",
    "train_idx = [x[1] for x in train_df.index]\n",
    "test_df = sampled_df.drop(train_idx)\n",
    "\n",
    "x_train=list(train_df['text'])\n",
    "y_train=list(train_df['Class Index'])\n",
    "x_test=list(test_df['text'])\n",
    "y_test=list(test_df['Class Index'])\n",
    "\n",
    "to_txt_filter=x_train+x_test\n",
    "y=list(y_train)+list(y_test)"
   ]
  },
  {
   "cell_type": "code",
   "execution_count": 3,
   "id": "3797ff12",
   "metadata": {},
   "outputs": [],
   "source": [
    "encoder=LabelEncoder()\n",
    "\n",
    "encoder.fit(y)\n",
    "\n",
    "label=encoder.transform(y)\n",
    "\n",
    "y_train=label[:16000]\n",
    "y_test=label[16000:]"
   ]
  },
  {
   "cell_type": "code",
   "execution_count": 4,
   "id": "532b2e90",
   "metadata": {},
   "outputs": [],
   "source": [
    "sos_x_train=[]\n",
    "sos_x_test=[]\n",
    "for sen in x_train:\n",
    "    sos_x_train.append('<sos> '+sen)\n",
    "for sen in x_test:\n",
    "    sos_x_test.append('<sos> '+sen)\n",
    "\n",
    "all_txt=sos_x_train+sos_x_test\n",
    "\n",
    "from tensorflow.keras.preprocessing.text import Tokenizer\n",
    "tokenizer = Tokenizer()\n",
    "tokenizer.fit_on_texts(all_txt)\n",
    "\n",
    "vocab_size =len(tokenizer.word_index)+1 #1을 더해야 에러가 안터짐 토큰 영향으로 보임\n",
    "\n",
    "x_train_encoded = tokenizer.texts_to_sequences(sos_x_train)\n",
    "x_test_encoded = tokenizer.texts_to_sequences(sos_x_test)\n",
    "\n",
    "max_len = 176\n",
    "\n",
    "xtext_train = tf.keras.preprocessing.sequence.pad_sequences(x_train_encoded, maxlen=max_len)\n",
    "xtext_test = tf.keras.preprocessing.sequence.pad_sequences(x_test_encoded, maxlen=max_len)"
   ]
  },
  {
   "cell_type": "markdown",
   "id": "fc576c00",
   "metadata": {},
   "source": [
    "## 2) 어텐션 레이어 정의"
   ]
  },
  {
   "cell_type": "code",
   "execution_count": 5,
   "id": "501a2985",
   "metadata": {},
   "outputs": [],
   "source": [
    "class MultiHeadAttention(tf.keras.layers.Layer):\n",
    "    def __init__(self, embedding_dim, num_heads=8):\n",
    "        super(MultiHeadAttention, self).__init__()\n",
    "        self.embedding_dim = embedding_dim # d_model\n",
    "        self.num_heads = num_heads\n",
    "\n",
    "        assert embedding_dim % self.num_heads == 0\n",
    "\n",
    "        self.projection_dim = embedding_dim // num_heads\n",
    "        self.query_dense = tf.keras.layers.Dense(embedding_dim)\n",
    "        self.key_dense = tf.keras.layers.Dense(embedding_dim)\n",
    "        self.value_dense = tf.keras.layers.Dense(embedding_dim)\n",
    "        self.dense = tf.keras.layers.Dense(embedding_dim)\n",
    "\n",
    "    def scaled_dot_product_attention(self, query, key, value):\n",
    "        matmul_qk = tf.matmul(query, key, transpose_b=True)\n",
    "        depth = tf.cast(tf.shape(key)[-1], tf.float32)\n",
    "        logits = matmul_qk / tf.math.sqrt(depth)\n",
    "        attention_weights = tf.nn.softmax(logits, axis=-1)\n",
    "        output = tf.matmul(attention_weights, value)\n",
    "        return output, attention_weights\n",
    "\n",
    "    def split_heads(self, x, batch_size):\n",
    "        x = tf.reshape(x, (batch_size, -1, self.num_heads, self.projection_dim))\n",
    "        return tf.transpose(x, perm=[0, 2, 1, 3])\n",
    "\n",
    "    def call(self, inputs):\n",
    "        # x.shape = [batch_size, seq_len, embedding_dim]\n",
    "        batch_size = tf.shape(inputs)[0]\n",
    "\n",
    "        # (batch_size, seq_len, embedding_dim)\n",
    "        query = self.query_dense(inputs)\n",
    "        key = self.key_dense(inputs)\n",
    "        value = self.value_dense(inputs)\n",
    "\n",
    "        # (batch_size, num_heads, seq_len, projection_dim)\n",
    "        query = self.split_heads(query, batch_size)  \n",
    "        key = self.split_heads(key, batch_size)\n",
    "        value = self.split_heads(value, batch_size)\n",
    "\n",
    "        scaled_attention, _ = self.scaled_dot_product_attention(query, key, value)\n",
    "        # (batch_size, seq_len, num_heads, projection_dim)\n",
    "        scaled_attention = tf.transpose(scaled_attention, perm=[0, 2, 1, 3])  \n",
    "\n",
    "        # (batch_size, seq_len, embedding_dim)\n",
    "        concat_attention = tf.reshape(scaled_attention, (batch_size, -1, self.embedding_dim))\n",
    "        outputs = self.dense(concat_attention)\n",
    "        return outputs\n",
    "\n",
    "\n",
    "class TransformerBlock(tf.keras.layers.Layer):\n",
    "    \n",
    "        \n",
    "    def __init__(self, embedding_dim, num_heads, dff, rate=0.1, **kwargs):\n",
    "        super(TransformerBlock, self).__init__(**kwargs)\n",
    "        self.embedding_dim = embedding_dim\n",
    "        self.num_heads = num_heads\n",
    "        self.dff = dff\n",
    "        self.rate = rate\n",
    "        self.att = MultiHeadAttention(embedding_dim, num_heads)\n",
    "        self.ffn = tf.keras.Sequential(\n",
    "            [tf.keras.layers.Dense(dff, activation=\"relu\"),\n",
    "             tf.keras.layers.Dense(embedding_dim),]\n",
    "        )\n",
    "        self.layernorm1 = tf.keras.layers.LayerNormalization(epsilon=1e-6)\n",
    "        self.layernorm2 = tf.keras.layers.LayerNormalization(epsilon=1e-6)\n",
    "        self.dropout1 = tf.keras.layers.Dropout(rate)\n",
    "        self.dropout2 = tf.keras.layers.Dropout(rate)\n",
    "\n",
    "    def call(self, inputs, training):\n",
    "        attn_output = self.att(inputs) # 첫번째 서브층 : 멀티 헤드 어텐션\n",
    "        attn_output = self.dropout1(attn_output, training=training)\n",
    "        out1 = self.layernorm1(inputs + attn_output) # Add & Norm\n",
    "        ffn_output = self.ffn(out1) # 두번째 서브층 : 포지션 와이즈 피드 포워드 신경망\n",
    "        ffn_output = self.dropout2(ffn_output, training=training)\n",
    "        return self.layernorm2(out1 + ffn_output) # Add & Norm\n",
    "    \n",
    "    def get_config(self):\n",
    "        config = super(TransformerBlock, self).get_config()\n",
    "        config.update({\n",
    "            'embedding_dim': self.embedding_dim,\n",
    "            'num_heads': self.num_heads,\n",
    "            'dff': self.dff,\n",
    "            'rate': self.rate\n",
    "        })\n",
    "        return config\n",
    "\n",
    "\n",
    "class TokenAndPositionEmbedding(tf.keras.layers.Layer):\n",
    "    def __init__(self, max_len, vocab_size, embedding_dim, **kwargs):\n",
    "        super(TokenAndPositionEmbedding, self).__init__(**kwargs)\n",
    "    \n",
    "        self.max_len = max_len\n",
    "        self.vocab_size = vocab_size\n",
    "        self.embedding_dim = embedding_dim\n",
    "        self.token_emb = keras.layers.Embedding(input_dim=vocab_size, output_dim=embedding_dim)\n",
    "        self.pos_emb = keras.layers.Embedding(input_dim=max_len, output_dim=embedding_dim)\n",
    "\n",
    "    def call(self, x):\n",
    "        max_len = tf.shape(x)[-1]\n",
    "        positions = tf.range(start=0, limit=max_len, delta=1)\n",
    "        positions = self.pos_emb(positions)\n",
    "        x = self.token_emb(x)\n",
    "        return x + positions\n",
    "    \n",
    "    def get_config(self):\n",
    "        config = super(TokenAndPositionEmbedding, self).get_config()\n",
    "        config.update({\n",
    "            'max_len': self.max_len,\n",
    "            'vocab_size': self.vocab_size,\n",
    "            'embedding_dim': self.embedding_dim\n",
    "        })\n",
    "        return config"
   ]
  },
  {
   "cell_type": "markdown",
   "id": "c02f3e46",
   "metadata": {},
   "source": [
    "## 3) textcuboid 분류"
   ]
  },
  {
   "cell_type": "code",
   "execution_count": 6,
   "id": "2ffa92ca",
   "metadata": {},
   "outputs": [],
   "source": [
    "textcuboid=np.load('./1-Channel textcuboid_ag(bert).npy')"
   ]
  },
  {
   "cell_type": "code",
   "execution_count": 7,
   "id": "55f29d23",
   "metadata": {},
   "outputs": [],
   "source": [
    "textcuboid_test=np.load('./1-Channel textcuboid_test_ag(bert).npy')"
   ]
  },
  {
   "cell_type": "code",
   "execution_count": 8,
   "id": "592095bd",
   "metadata": {},
   "outputs": [],
   "source": [
    "tmp = [[x,y,z] for x, y, z in zip(xtext_train, textcuboid, y_train)]\n",
    "import random\n",
    "random.shuffle(tmp)\n",
    "xtext_train = [n[0] for n in tmp]\n",
    "textcuboid = [n[1] for n in tmp]\n",
    "y_train = [n[2] for n in tmp]\n",
    "xtext_train=np.array(xtext_train)\n",
    "textcuboid=np.array(textcuboid)\n",
    "y_train=np.array(y_train)"
   ]
  },
  {
   "cell_type": "code",
   "execution_count": 9,
   "id": "8e27c980",
   "metadata": {},
   "outputs": [],
   "source": [
    "textcuboid_train=textcuboid[1000:]\n",
    "text_train=xtext_train[1000:]\n",
    "textcuboid__val=textcuboid[:1000]\n",
    "text_val=xtext_train[:1000]\n",
    "y_val=y_train[:1000]\n",
    "y_train=y_train[1000:]\n",
    "\n",
    "\n",
    "text_test=xtext_test\n",
    "y_test=np.array(y_test)"
   ]
  },
  {
   "cell_type": "code",
   "execution_count": 10,
   "id": "1f178135",
   "metadata": {},
   "outputs": [],
   "source": [
    "import keras\n",
    "from tensorflow.keras import layers"
   ]
  },
  {
   "cell_type": "code",
   "execution_count": 55,
   "id": "ddec5841",
   "metadata": {},
   "outputs": [],
   "source": [
    "callbacks = [\n",
    "    keras.callbacks.ModelCheckpoint(\n",
    "        \"best_model.h5\", save_best_only=True, monitor=\"val_loss\"\n",
    "    ),\n",
    "    keras.callbacks.ReduceLROnPlateau(\n",
    "        monitor=\"val_loss\", factor=0.5, patience=2, min_lr=0.0001\n",
    "    ),\n",
    "#     keras.callbacks.EarlyStopping(monitor=\"val_loss\", patience=8, verbose=1),\n",
    "]"
   ]
  },
  {
   "cell_type": "code",
   "execution_count": 56,
   "id": "4d2a2fb1",
   "metadata": {
    "scrolled": true
   },
   "outputs": [],
   "source": [
    "from tensorflow.keras.layers import Input, Conv1D, GlobalMaxPooling1D, Dense, Dropout\n",
    "from tensorflow.keras.models import Model\n",
    "from tensorflow.keras import layers\n",
    "from tensorflow.keras.layers import Attention\n",
    "\n",
    "embedding_dim = 512  # 각 단어의 임베딩 벡터의 차원\n",
    "num_heads = 1  # 어텐션 헤드의 수\n",
    "dff = 32  # 포지션 와이즈 피드 포워드 신경망의 은닉층의 크기\n",
    "\n",
    "Text_inputs = Input(shape=(max_len,))\n",
    "embedding_layer = TokenAndPositionEmbedding(max_len, vocab_size, embedding_dim)\n",
    "Text_x = embedding_layer(Text_inputs)\n",
    "transformer_block = TransformerBlock(embedding_dim, num_heads, dff)\n",
    "Text_x = transformer_block(Text_x)\n",
    "Text_x = tf.keras.layers.GlobalAveragePooling1D()(Text_x)\n",
    "Text_x = tf.keras.layers.Dropout(0.5)(Text_x)\n",
    "Text_x = tf.keras.layers.Dense(256, activation=\"relu\")(Text_x)\n",
    "Text_attention_layer = Attention()\n",
    "Text_a=Text_attention_layer([Text_x,Text_x])\n",
    "\n",
    "ELMo_input = Input(shape=(46, 768))\n",
    "conv1 = Conv1D(1024, 1, padding='valid', activation='relu')(ELMo_input)\n",
    "pooling = GlobalMaxPooling1D()(conv1)\n",
    "ELMo_x = Dense(256, activation='relu')(pooling)\n",
    "ELMo_attention_layer = Attention()\n",
    "ELMo_a=ELMo_attention_layer([ELMo_x,ELMo_x])\n",
    "\n",
    "\n",
    "x = layers.concatenate([ELMo_x,ELMo_a, Text_x,Text_a], axis=-1)\n",
    "x = Dropout(0.5)(x)\n",
    "output_layer = Dense(4, activation='softmax')(x)\n",
    "\n",
    "model = Model(inputs=[ELMo_input, Text_inputs], outputs=output_layer)\n",
    "\n"
   ]
  },
  {
   "cell_type": "code",
   "execution_count": 57,
   "id": "de8bb000",
   "metadata": {},
   "outputs": [],
   "source": [
    "model.compile(optimizer='adam', loss='sparse_categorical_crossentropy', metrics=['accuracy'])"
   ]
  },
  {
   "cell_type": "code",
   "execution_count": 58,
   "id": "a4cb157c",
   "metadata": {
    "scrolled": true
   },
   "outputs": [
    {
     "name": "stdout",
     "output_type": "stream",
     "text": [
      "Model: \"model_6\"\n",
      "__________________________________________________________________________________________________\n",
      " Layer (type)                   Output Shape         Param #     Connected to                     \n",
      "==================================================================================================\n",
      " input_13 (InputLayer)          [(None, 176)]        0           []                               \n",
      "                                                                                                  \n",
      " token_and_position_embedding_6  (None, 176, 512)    20072960    ['input_13[0][0]']               \n",
      "  (TokenAndPositionEmbedding)                                                                     \n",
      "                                                                                                  \n",
      " input_14 (InputLayer)          [(None, 46, 768)]    0           []                               \n",
      "                                                                                                  \n",
      " transformer_block_6 (Transform  (None, 176, 512)    1085984     ['token_and_position_embedding_6[\n",
      " erBlock)                                                        0][0]']                          \n",
      "                                                                                                  \n",
      " conv1d_6 (Conv1D)              (None, 46, 1024)     787456      ['input_14[0][0]']               \n",
      "                                                                                                  \n",
      " global_average_pooling1d_6 (Gl  (None, 512)         0           ['transformer_block_6[0][0]']    \n",
      " obalAveragePooling1D)                                                                            \n",
      "                                                                                                  \n",
      " global_max_pooling1d_6 (Global  (None, 1024)        0           ['conv1d_6[0][0]']               \n",
      " MaxPooling1D)                                                                                    \n",
      "                                                                                                  \n",
      " dropout_38 (Dropout)           (None, 512)          0           ['global_average_pooling1d_6[0][0\n",
      "                                                                 ]']                              \n",
      "                                                                                                  \n",
      " dense_97 (Dense)               (None, 256)          262400      ['global_max_pooling1d_6[0][0]'] \n",
      "                                                                                                  \n",
      " dense_96 (Dense)               (None, 256)          131328      ['dropout_38[0][0]']             \n",
      "                                                                                                  \n",
      " attention_13 (Attention)       (None, 256)          0           ['dense_97[0][0]',               \n",
      "                                                                  'dense_97[0][0]']               \n",
      "                                                                                                  \n",
      " attention_12 (Attention)       (None, 256)          0           ['dense_96[0][0]',               \n",
      "                                                                  'dense_96[0][0]']               \n",
      "                                                                                                  \n",
      " concatenate_6 (Concatenate)    (None, 1024)         0           ['dense_97[0][0]',               \n",
      "                                                                  'attention_13[0][0]',           \n",
      "                                                                  'dense_96[0][0]',               \n",
      "                                                                  'attention_12[0][0]']           \n",
      "                                                                                                  \n",
      " dropout_39 (Dropout)           (None, 1024)         0           ['concatenate_6[0][0]']          \n",
      "                                                                                                  \n",
      " dense_98 (Dense)               (None, 4)            4100        ['dropout_39[0][0]']             \n",
      "                                                                                                  \n",
      "==================================================================================================\n",
      "Total params: 22,344,228\n",
      "Trainable params: 22,344,228\n",
      "Non-trainable params: 0\n",
      "__________________________________________________________________________________________________\n"
     ]
    }
   ],
   "source": [
    "model.summary()"
   ]
  },
  {
   "cell_type": "code",
   "execution_count": 59,
   "id": "1b735d5d",
   "metadata": {
    "scrolled": true
   },
   "outputs": [
    {
     "name": "stdout",
     "output_type": "stream",
     "text": [
      "Epoch 1/40\n",
      "59/59 [==============================] - 5s 69ms/step - loss: 1.7521 - accuracy: 0.6201 - val_loss: 0.4295 - val_accuracy: 0.8550 - lr: 0.0010\n",
      "Epoch 2/40\n",
      "59/59 [==============================] - 4s 64ms/step - loss: 0.5775 - accuracy: 0.8051 - val_loss: 0.4294 - val_accuracy: 0.8630 - lr: 0.0010\n",
      "Epoch 3/40\n",
      "59/59 [==============================] - 4s 64ms/step - loss: 0.5185 - accuracy: 0.8285 - val_loss: 0.4105 - val_accuracy: 0.8780 - lr: 0.0010\n",
      "Epoch 4/40\n",
      "59/59 [==============================] - 4s 65ms/step - loss: 0.4397 - accuracy: 0.8633 - val_loss: 0.3531 - val_accuracy: 0.8860 - lr: 0.0010\n",
      "Epoch 5/40\n",
      "59/59 [==============================] - 3s 53ms/step - loss: 0.4401 - accuracy: 0.8584 - val_loss: 0.3743 - val_accuracy: 0.8750 - lr: 0.0010\n",
      "Epoch 6/40\n",
      "59/59 [==============================] - 3s 53ms/step - loss: 0.3741 - accuracy: 0.8845 - val_loss: 0.3753 - val_accuracy: 0.8790 - lr: 0.0010\n",
      "Epoch 7/40\n",
      "59/59 [==============================] - 4s 64ms/step - loss: 0.3290 - accuracy: 0.8989 - val_loss: 0.3289 - val_accuracy: 0.8980 - lr: 5.0000e-04\n",
      "Epoch 8/40\n",
      "59/59 [==============================] - 3s 54ms/step - loss: 0.3466 - accuracy: 0.8949 - val_loss: 0.3341 - val_accuracy: 0.8950 - lr: 5.0000e-04\n",
      "Epoch 9/40\n",
      "59/59 [==============================] - 3s 53ms/step - loss: 0.3081 - accuracy: 0.9071 - val_loss: 0.3341 - val_accuracy: 0.8980 - lr: 5.0000e-04\n",
      "Epoch 10/40\n",
      "59/59 [==============================] - 3s 53ms/step - loss: 0.3068 - accuracy: 0.9089 - val_loss: 0.3294 - val_accuracy: 0.9030 - lr: 2.5000e-04\n",
      "Epoch 11/40\n",
      "59/59 [==============================] - 3s 53ms/step - loss: 0.2887 - accuracy: 0.9145 - val_loss: 0.3434 - val_accuracy: 0.8900 - lr: 2.5000e-04\n",
      "Epoch 12/40\n",
      "59/59 [==============================] - 3s 53ms/step - loss: 0.2816 - accuracy: 0.9124 - val_loss: 0.3316 - val_accuracy: 0.8980 - lr: 1.2500e-04\n",
      "Epoch 13/40\n",
      "59/59 [==============================] - 3s 54ms/step - loss: 0.2746 - accuracy: 0.9192 - val_loss: 0.3315 - val_accuracy: 0.8980 - lr: 1.2500e-04\n",
      "Epoch 14/40\n",
      "59/59 [==============================] - 3s 53ms/step - loss: 0.2639 - accuracy: 0.9200 - val_loss: 0.3368 - val_accuracy: 0.8970 - lr: 1.0000e-04\n",
      "Epoch 15/40\n",
      "59/59 [==============================] - 3s 54ms/step - loss: 0.2623 - accuracy: 0.9224 - val_loss: 0.3317 - val_accuracy: 0.8940 - lr: 1.0000e-04\n",
      "Epoch 16/40\n",
      "59/59 [==============================] - 3s 54ms/step - loss: 0.2592 - accuracy: 0.9220 - val_loss: 0.3370 - val_accuracy: 0.8910 - lr: 1.0000e-04\n",
      "Epoch 17/40\n",
      "59/59 [==============================] - 3s 53ms/step - loss: 0.2550 - accuracy: 0.9237 - val_loss: 0.3367 - val_accuracy: 0.9010 - lr: 1.0000e-04\n",
      "Epoch 18/40\n",
      "59/59 [==============================] - 3s 53ms/step - loss: 0.2564 - accuracy: 0.9237 - val_loss: 0.3432 - val_accuracy: 0.8910 - lr: 1.0000e-04\n",
      "Epoch 19/40\n",
      "59/59 [==============================] - 3s 53ms/step - loss: 0.2511 - accuracy: 0.9238 - val_loss: 0.3418 - val_accuracy: 0.8950 - lr: 1.0000e-04\n",
      "Epoch 20/40\n",
      "59/59 [==============================] - 4s 64ms/step - loss: 0.2657 - accuracy: 0.9213 - val_loss: 0.3278 - val_accuracy: 0.8970 - lr: 1.0000e-04\n",
      "Epoch 21/40\n",
      "59/59 [==============================] - 3s 53ms/step - loss: 0.2479 - accuracy: 0.9242 - val_loss: 0.3434 - val_accuracy: 0.8970 - lr: 1.0000e-04\n",
      "Epoch 22/40\n",
      "59/59 [==============================] - 3s 53ms/step - loss: 0.2556 - accuracy: 0.9221 - val_loss: 0.3536 - val_accuracy: 0.8930 - lr: 1.0000e-04\n",
      "Epoch 23/40\n",
      "59/59 [==============================] - 3s 53ms/step - loss: 0.2405 - accuracy: 0.9252 - val_loss: 0.3330 - val_accuracy: 0.9020 - lr: 1.0000e-04\n",
      "Epoch 24/40\n",
      "59/59 [==============================] - 3s 53ms/step - loss: 0.2438 - accuracy: 0.9277 - val_loss: 0.3356 - val_accuracy: 0.9010 - lr: 1.0000e-04\n",
      "Epoch 25/40\n",
      "59/59 [==============================] - 3s 54ms/step - loss: 0.2313 - accuracy: 0.9311 - val_loss: 0.3379 - val_accuracy: 0.9010 - lr: 1.0000e-04\n",
      "Epoch 26/40\n",
      "59/59 [==============================] - 3s 54ms/step - loss: 0.2399 - accuracy: 0.9303 - val_loss: 0.3407 - val_accuracy: 0.8950 - lr: 1.0000e-04\n",
      "Epoch 27/40\n",
      "59/59 [==============================] - 3s 53ms/step - loss: 0.2226 - accuracy: 0.9347 - val_loss: 0.3426 - val_accuracy: 0.8950 - lr: 1.0000e-04\n",
      "Epoch 28/40\n",
      "59/59 [==============================] - 3s 54ms/step - loss: 0.2211 - accuracy: 0.9328 - val_loss: 0.3535 - val_accuracy: 0.8910 - lr: 1.0000e-04\n",
      "Epoch 29/40\n",
      "59/59 [==============================] - 3s 53ms/step - loss: 0.2330 - accuracy: 0.9287 - val_loss: 0.3381 - val_accuracy: 0.8940 - lr: 1.0000e-04\n",
      "Epoch 30/40\n",
      "59/59 [==============================] - 3s 53ms/step - loss: 0.2159 - accuracy: 0.9353 - val_loss: 0.3530 - val_accuracy: 0.8960 - lr: 1.0000e-04\n",
      "Epoch 31/40\n",
      "59/59 [==============================] - 3s 53ms/step - loss: 0.2284 - accuracy: 0.9300 - val_loss: 0.3488 - val_accuracy: 0.9050 - lr: 1.0000e-04\n",
      "Epoch 32/40\n",
      "59/59 [==============================] - 3s 54ms/step - loss: 0.2134 - accuracy: 0.9327 - val_loss: 0.3486 - val_accuracy: 0.8980 - lr: 1.0000e-04\n",
      "Epoch 33/40\n",
      "59/59 [==============================] - 3s 53ms/step - loss: 0.2093 - accuracy: 0.9365 - val_loss: 0.3476 - val_accuracy: 0.8960 - lr: 1.0000e-04\n",
      "Epoch 34/40\n",
      "59/59 [==============================] - 3s 54ms/step - loss: 0.2039 - accuracy: 0.9377 - val_loss: 0.3507 - val_accuracy: 0.8980 - lr: 1.0000e-04\n",
      "Epoch 35/40\n",
      "59/59 [==============================] - 3s 54ms/step - loss: 0.2011 - accuracy: 0.9382 - val_loss: 0.3539 - val_accuracy: 0.9010 - lr: 1.0000e-04\n",
      "Epoch 36/40\n",
      "59/59 [==============================] - 3s 53ms/step - loss: 0.2077 - accuracy: 0.9355 - val_loss: 0.3419 - val_accuracy: 0.8970 - lr: 1.0000e-04\n",
      "Epoch 37/40\n",
      "59/59 [==============================] - 3s 53ms/step - loss: 0.2033 - accuracy: 0.9384 - val_loss: 0.3467 - val_accuracy: 0.8950 - lr: 1.0000e-04\n",
      "Epoch 38/40\n",
      "59/59 [==============================] - 3s 53ms/step - loss: 0.2044 - accuracy: 0.9350 - val_loss: 0.3658 - val_accuracy: 0.8980 - lr: 1.0000e-04\n",
      "Epoch 39/40\n",
      "59/59 [==============================] - 3s 54ms/step - loss: 0.1965 - accuracy: 0.9403 - val_loss: 0.3470 - val_accuracy: 0.9060 - lr: 1.0000e-04\n",
      "Epoch 40/40\n",
      "59/59 [==============================] - 3s 54ms/step - loss: 0.1855 - accuracy: 0.9437 - val_loss: 0.3474 - val_accuracy: 0.9070 - lr: 1.0000e-04\n"
     ]
    }
   ],
   "source": [
    "history = model.fit([textcuboid_train,text_train], y_train,callbacks=callbacks, epochs=30,batch_size=256,validation_data=([textcuboid__val,text_val], y_val))"
   ]
  },
  {
   "cell_type": "code",
   "execution_count": 60,
   "id": "0b8710f9",
   "metadata": {},
   "outputs": [
    {
     "name": "stdout",
     "output_type": "stream",
     "text": [
      "125/125 [==============================] - 1s 6ms/step - loss: 0.1905 - accuracy: 0.9398\n"
     ]
    },
    {
     "data": {
      "text/plain": [
       "[0.19052794575691223, 0.9397500157356262]"
      ]
     },
     "execution_count": 60,
     "metadata": {},
     "output_type": "execute_result"
    }
   ],
   "source": [
    "model.evaluate([textcuboid_test,text_test],y_test)"
   ]
  },
  {
   "cell_type": "code",
   "execution_count": 61,
   "id": "eb178a78",
   "metadata": {},
   "outputs": [
    {
     "name": "stdout",
     "output_type": "stream",
     "text": [
      "125/125 [==============================] - 1s 4ms/step - loss: 0.1955 - accuracy: 0.9423\n"
     ]
    },
    {
     "data": {
      "text/plain": [
       "[0.19550958275794983, 0.9422500133514404]"
      ]
     },
     "execution_count": 61,
     "metadata": {},
     "output_type": "execute_result"
    }
   ],
   "source": [
    "from keras.models import load_model\n",
    "custom_objects = {\"TokenAndPositionEmbedding\": TokenAndPositionEmbedding, \"TransformerBlock\": TransformerBlock}\n",
    "model = load_model('best_model.h5', custom_objects=custom_objects)\n",
    "model.evaluate([textcuboid_test,text_test],y_test)"
   ]
  },
  {
   "cell_type": "code",
   "execution_count": 47,
   "id": "f22920dd",
   "metadata": {},
   "outputs": [
    {
     "data": {
      "text/plain": [
       "94.10000000000001"
      ]
     },
     "execution_count": 47,
     "metadata": {},
     "output_type": "execute_result"
    }
   ],
   "source": [
    "np.average([94.2,94.3,93.8])"
   ]
  },
  {
   "cell_type": "code",
   "execution_count": null,
   "id": "a9a9719d",
   "metadata": {},
   "outputs": [],
   "source": []
  },
  {
   "cell_type": "code",
   "execution_count": null,
   "id": "de71922e",
   "metadata": {},
   "outputs": [],
   "source": []
  },
  {
   "cell_type": "code",
   "execution_count": null,
   "id": "41bfa5a3",
   "metadata": {},
   "outputs": [],
   "source": []
  }
 ],
 "metadata": {
  "kernelspec": {
   "display_name": "Python 3 (ipykernel)",
   "language": "python",
   "name": "python3"
  },
  "language_info": {
   "codemirror_mode": {
    "name": "ipython",
    "version": 3
   },
   "file_extension": ".py",
   "mimetype": "text/x-python",
   "name": "python",
   "nbconvert_exporter": "python",
   "pygments_lexer": "ipython3",
   "version": "3.9.12"
  }
 },
 "nbformat": 4,
 "nbformat_minor": 5
}
