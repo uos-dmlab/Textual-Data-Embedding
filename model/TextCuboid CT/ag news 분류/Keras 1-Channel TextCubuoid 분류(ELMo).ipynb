{
 "cells": [
  {
   "cell_type": "markdown",
   "id": "996493f9",
   "metadata": {},
   "source": [
    "Base에서 실행"
   ]
  },
  {
   "cell_type": "markdown",
   "id": "184f59ff",
   "metadata": {},
   "source": [
    "# Textcuboid\n"
   ]
  },
  {
   "cell_type": "code",
   "execution_count": 1,
   "id": "e5f5e87a",
   "metadata": {},
   "outputs": [],
   "source": [
    "import os\n",
    "os.environ[\"CUDA_VISIBLE_DEVICES\"] = \"-1\""
   ]
  },
  {
   "cell_type": "code",
   "execution_count": 1,
   "id": "849c1414",
   "metadata": {},
   "outputs": [],
   "source": [
    "import matplotlib.pyplot as plt\n",
    "import numpy as np\n",
    "import pandas as pd\n",
    "import tensorflow as tf\n",
    "import re\n",
    "import string\n",
    "from sklearn.metrics import precision_score, recall_score, f1_score\n",
    "from sklearn.model_selection import train_test_split\n",
    "from sklearn.preprocessing import LabelEncoder"
   ]
  },
  {
   "cell_type": "code",
   "execution_count": 2,
   "id": "660f568b",
   "metadata": {},
   "outputs": [],
   "source": [
    "train_df = pd.read_csv('C:/Users/user/Desktop/bilm-tf-master/ag_news_dataset/train.csv')\n",
    "test_df = pd.read_csv('C:/Users/user/Desktop/bilm-tf-master/ag_news_dataset/test.csv')\n",
    "\n",
    "train_df.head(10)\n",
    "\n",
    "TEXT_LABELS = {0: \"World\", 1: \"Sports\", 2: \"Business\", 3: \"Sci/Tech\"}\n",
    "\n",
    "def combine_title_and_description(df):\n",
    "    # Returns a dataset with the title and description fields combined\n",
    "    df['text'] = df[['Title', 'Description']].agg('. '.join, axis=1)\n",
    "    df = df.drop(['Title', 'Description'], axis=1)\n",
    "    return df\n",
    "\n",
    "train_df = combine_title_and_description(train_df)\n",
    "test_df = combine_title_and_description(test_df)\n",
    "\n",
    "#각 클래스별로 5000개씩 총 2만개의 데이터를 샘플랭(너무 크면 TextCuboid의 용량이 너무 커진다)\n",
    "sampled_df = train_df.groupby(\"Class Index\").apply(lambda x: x.sample(5000, random_state=10))\n",
    "\n",
    "def clean_text(text):\n",
    "    text=str(text).lower() #Converts text to lowercase\n",
    "    text=re.sub('\\d+', '', text) #removes numbers\n",
    "    text=re.sub('\\[.*?\\]', '', text) #removes HTML tags\n",
    "    text=re.sub('https?://\\S+|www\\.\\S+', '', text) #removes url\n",
    "    text=re.sub(r\"[\"\n",
    "                           u\"\\U0001F600-\\U0001F64F\"  # emoticons\n",
    "                           u\"\\U0001F300-\\U0001F5FF\"  # symbols & pictographs\n",
    "                           u\"\\U0001F680-\\U0001F6FF\"  # transport & map symbols\n",
    "                           u\"\\U0001F1E0-\\U0001F1FF\"  # flags (iOS)\n",
    "                           u\"\\U00002702-\\U000027B0\"\n",
    "                           u\"\\U000024C2-\\U0001F251\"\n",
    "                           \"]+\", \"\", text) #removes emojis\n",
    "    text=re.sub('[%s]' % re.escape(string.punctuation),'',text) #removes punctuations\n",
    "    #text = re.sub('\\n', '', text)\n",
    "    #text = re.sub('\\w*\\d\\w*', '', text)\n",
    "    return text\n",
    "\n",
    "#전처리 특수기호 없애기\n",
    "sampled_df['text']=sampled_df['text'].apply(clean_text)\n",
    "\n",
    "sampled_df = sampled_df.reset_index(drop=True)\n",
    "\n",
    "train_df = sampled_df.groupby(\"Class Index\").apply(lambda x: x.sample(4000, random_state=10))\n",
    "train_idx = [x[1] for x in train_df.index]\n",
    "test_df = sampled_df.drop(train_idx)\n",
    "\n",
    "x_train=list(train_df['text'])\n",
    "y_train=list(train_df['Class Index'])\n",
    "x_test=list(test_df['text'])\n",
    "y_test=list(test_df['Class Index'])\n",
    "\n",
    "to_txt_filter=x_train+x_test\n",
    "y=list(y_train)+list(y_test)"
   ]
  },
  {
   "cell_type": "code",
   "execution_count": 3,
   "id": "2a3ff88b",
   "metadata": {},
   "outputs": [],
   "source": [
    "encoder=LabelEncoder()\n",
    "\n",
    "encoder.fit(y)\n",
    "\n",
    "label=encoder.transform(y)\n",
    "\n",
    "y_train=label[:16000]\n",
    "y_test=label[16000:]"
   ]
  },
  {
   "cell_type": "markdown",
   "id": "c02f3e46",
   "metadata": {},
   "source": [
    "## 2) textcuboid 분류"
   ]
  },
  {
   "cell_type": "code",
   "execution_count": 4,
   "id": "2ffa92ca",
   "metadata": {},
   "outputs": [],
   "source": [
    "textcuboid=np.load('./1-Channel textcuboid_ag(elmo).npy')"
   ]
  },
  {
   "cell_type": "code",
   "execution_count": 5,
   "id": "55f29d23",
   "metadata": {},
   "outputs": [],
   "source": [
    "textcuboid_test=np.load('./1-Channel textcuboid_test_ag(elmo).npy')"
   ]
  },
  {
   "cell_type": "code",
   "execution_count": 6,
   "id": "fee0a7ad",
   "metadata": {},
   "outputs": [],
   "source": [
    "tmp = [[x,y] for x, y in zip(textcuboid, y_train)]\n",
    "import random\n",
    "random.shuffle(tmp)\n",
    "textcuboid = [n[0] for n in tmp]\n",
    "y_train = [n[1] for n in tmp]\n",
    "textcuboid=np.array(textcuboid)\n",
    "y_train=np.array(y_train)"
   ]
  },
  {
   "cell_type": "code",
   "execution_count": 7,
   "id": "1f178135",
   "metadata": {},
   "outputs": [],
   "source": [
    "import keras\n",
    "from tensorflow.keras import layers"
   ]
  },
  {
   "cell_type": "code",
   "execution_count": 26,
   "id": "ddec5841",
   "metadata": {},
   "outputs": [],
   "source": [
    "callbacks = [\n",
    "    keras.callbacks.ModelCheckpoint(\n",
    "        \"best_model.h5\", save_best_only=True, monitor=\"val_loss\"\n",
    "    ),\n",
    "    keras.callbacks.ReduceLROnPlateau(\n",
    "        monitor=\"val_loss\", factor=0.5, patience=2, min_lr=0.0001\n",
    "    ),\n",
    "#     keras.callbacks.EarlyStopping(monitor=\"val_loss\", patience=8, verbose=1),\n",
    "]"
   ]
  },
  {
   "cell_type": "code",
   "execution_count": 27,
   "id": "ce1b3b58",
   "metadata": {},
   "outputs": [],
   "source": [
    "from tensorflow.keras.layers import Input, Conv1D, GlobalMaxPooling1D, Dense, Dropout\n",
    "from tensorflow.keras.models import Model\n",
    "\n",
    "\n",
    "input_layer = Input(shape=(46, 256))\n",
    "conv1 = Conv1D(1024, 1, padding='valid', activation='relu')(input_layer)\n",
    "pooling = GlobalMaxPooling1D()(conv1)\n",
    "\n",
    "x = Dense(256, activation='relu')(pooling)\n",
    "x = Dropout(0.5)(x)\n",
    "output_layer = Dense(4, activation='softmax')(x)\n",
    "\n",
    "model = Model(inputs=input_layer, outputs=output_layer)\n",
    "\n"
   ]
  },
  {
   "cell_type": "code",
   "execution_count": 28,
   "id": "de8bb000",
   "metadata": {},
   "outputs": [],
   "source": [
    "model.compile(optimizer='adam', loss='sparse_categorical_crossentropy', metrics=['accuracy'])"
   ]
  },
  {
   "cell_type": "code",
   "execution_count": 29,
   "id": "a4cb157c",
   "metadata": {},
   "outputs": [
    {
     "name": "stdout",
     "output_type": "stream",
     "text": [
      "Model: \"model_2\"\n",
      "_________________________________________________________________\n",
      " Layer (type)                Output Shape              Param #   \n",
      "=================================================================\n",
      " input_3 (InputLayer)        [(None, 46, 256)]         0         \n",
      "                                                                 \n",
      " conv1d_2 (Conv1D)           (None, 46, 1024)          263168    \n",
      "                                                                 \n",
      " global_max_pooling1d_2 (Glo  (None, 1024)             0         \n",
      " balMaxPooling1D)                                                \n",
      "                                                                 \n",
      " dense_4 (Dense)             (None, 256)               262400    \n",
      "                                                                 \n",
      " dropout_2 (Dropout)         (None, 256)               0         \n",
      "                                                                 \n",
      " dense_5 (Dense)             (None, 4)                 1028      \n",
      "                                                                 \n",
      "=================================================================\n",
      "Total params: 526,596\n",
      "Trainable params: 526,596\n",
      "Non-trainable params: 0\n",
      "_________________________________________________________________\n"
     ]
    }
   ],
   "source": [
    "model.summary()"
   ]
  },
  {
   "cell_type": "code",
   "execution_count": 30,
   "id": "8fa47ead",
   "metadata": {},
   "outputs": [],
   "source": [
    "x_train=textcuboid[1000:]\n",
    "x_val=textcuboid[:1000]\n",
    "y_train1=y_train[1000:]\n",
    "y_val=y_train[:1000]"
   ]
  },
  {
   "cell_type": "code",
   "execution_count": 31,
   "id": "a3071295",
   "metadata": {
    "scrolled": true
   },
   "outputs": [
    {
     "name": "stdout",
     "output_type": "stream",
     "text": [
      "Epoch 1/20\n",
      "59/59 [==============================] - 1s 9ms/step - loss: 0.6436 - accuracy: 0.7905 - val_loss: 0.3059 - val_accuracy: 0.9010 - lr: 0.0010\n",
      "Epoch 2/20\n",
      "59/59 [==============================] - 0s 6ms/step - loss: 0.3158 - accuracy: 0.8981 - val_loss: 0.2830 - val_accuracy: 0.9100 - lr: 0.0010\n",
      "Epoch 3/20\n",
      "59/59 [==============================] - 0s 7ms/step - loss: 0.2715 - accuracy: 0.9110 - val_loss: 0.2718 - val_accuracy: 0.9120 - lr: 0.0010\n",
      "Epoch 4/20\n",
      "59/59 [==============================] - 0s 6ms/step - loss: 0.2361 - accuracy: 0.9195 - val_loss: 0.2641 - val_accuracy: 0.9140 - lr: 0.0010\n",
      "Epoch 5/20\n",
      "59/59 [==============================] - 0s 6ms/step - loss: 0.2088 - accuracy: 0.9282 - val_loss: 0.2632 - val_accuracy: 0.9130 - lr: 0.0010\n",
      "Epoch 6/20\n",
      "59/59 [==============================] - 0s 6ms/step - loss: 0.1776 - accuracy: 0.9400 - val_loss: 0.2821 - val_accuracy: 0.9120 - lr: 0.0010\n",
      "Epoch 7/20\n",
      "59/59 [==============================] - 0s 6ms/step - loss: 0.1535 - accuracy: 0.9496 - val_loss: 0.2703 - val_accuracy: 0.9150 - lr: 0.0010\n",
      "Epoch 8/20\n",
      "59/59 [==============================] - 0s 6ms/step - loss: 0.1126 - accuracy: 0.9619 - val_loss: 0.2752 - val_accuracy: 0.9130 - lr: 5.0000e-04\n",
      "Epoch 9/20\n",
      "59/59 [==============================] - 0s 7ms/step - loss: 0.0936 - accuracy: 0.9707 - val_loss: 0.2739 - val_accuracy: 0.9160 - lr: 5.0000e-04\n",
      "Epoch 10/20\n",
      "59/59 [==============================] - 0s 6ms/step - loss: 0.0742 - accuracy: 0.9787 - val_loss: 0.2808 - val_accuracy: 0.9150 - lr: 2.5000e-04\n",
      "Epoch 11/20\n",
      "59/59 [==============================] - 0s 7ms/step - loss: 0.0661 - accuracy: 0.9813 - val_loss: 0.2864 - val_accuracy: 0.9110 - lr: 2.5000e-04\n",
      "Epoch 12/20\n",
      "59/59 [==============================] - 0s 6ms/step - loss: 0.0593 - accuracy: 0.9845 - val_loss: 0.2846 - val_accuracy: 0.9100 - lr: 1.2500e-04\n",
      "Epoch 13/20\n",
      "59/59 [==============================] - 0s 6ms/step - loss: 0.0544 - accuracy: 0.9862 - val_loss: 0.2824 - val_accuracy: 0.9120 - lr: 1.2500e-04\n",
      "Epoch 14/20\n",
      "59/59 [==============================] - 0s 7ms/step - loss: 0.0519 - accuracy: 0.9869 - val_loss: 0.2879 - val_accuracy: 0.9140 - lr: 1.0000e-04\n",
      "Epoch 15/20\n",
      "59/59 [==============================] - 0s 6ms/step - loss: 0.0489 - accuracy: 0.9893 - val_loss: 0.2950 - val_accuracy: 0.9110 - lr: 1.0000e-04\n",
      "Epoch 16/20\n",
      "59/59 [==============================] - 0s 7ms/step - loss: 0.0449 - accuracy: 0.9893 - val_loss: 0.2903 - val_accuracy: 0.9110 - lr: 1.0000e-04\n",
      "Epoch 17/20\n",
      "59/59 [==============================] - 0s 6ms/step - loss: 0.0429 - accuracy: 0.9911 - val_loss: 0.2949 - val_accuracy: 0.9130 - lr: 1.0000e-04\n",
      "Epoch 18/20\n",
      "59/59 [==============================] - 0s 6ms/step - loss: 0.0412 - accuracy: 0.9911 - val_loss: 0.2955 - val_accuracy: 0.9120 - lr: 1.0000e-04\n",
      "Epoch 19/20\n",
      "59/59 [==============================] - 0s 7ms/step - loss: 0.0393 - accuracy: 0.9912 - val_loss: 0.2984 - val_accuracy: 0.9110 - lr: 1.0000e-04\n",
      "Epoch 20/20\n",
      "59/59 [==============================] - 0s 6ms/step - loss: 0.0368 - accuracy: 0.9917 - val_loss: 0.3035 - val_accuracy: 0.9130 - lr: 1.0000e-04\n"
     ]
    }
   ],
   "source": [
    "history = model.fit(x_train, y_train1,callbacks=callbacks, epochs=20,batch_size=256,validation_data=(x_val, y_val))"
   ]
  },
  {
   "cell_type": "code",
   "execution_count": 32,
   "id": "f7be6476",
   "metadata": {},
   "outputs": [],
   "source": [
    "y_test=np.array(y_test)"
   ]
  },
  {
   "cell_type": "code",
   "execution_count": 33,
   "id": "0b8710f9",
   "metadata": {},
   "outputs": [
    {
     "name": "stdout",
     "output_type": "stream",
     "text": [
      "125/125 [==============================] - 0s 2ms/step - loss: 0.2751 - accuracy: 0.9185\n"
     ]
    },
    {
     "data": {
      "text/plain": [
       "[0.2751215994358063, 0.9185000061988831]"
      ]
     },
     "execution_count": 33,
     "metadata": {},
     "output_type": "execute_result"
    }
   ],
   "source": [
    "model.evaluate(textcuboid_test,y_test)"
   ]
  },
  {
   "cell_type": "code",
   "execution_count": 34,
   "id": "eb178a78",
   "metadata": {},
   "outputs": [
    {
     "name": "stdout",
     "output_type": "stream",
     "text": [
      "125/125 [==============================] - 0s 1ms/step - loss: 0.2327 - accuracy: 0.9185\n"
     ]
    },
    {
     "data": {
      "text/plain": [
       "[0.23272055387496948, 0.9185000061988831]"
      ]
     },
     "execution_count": 34,
     "metadata": {},
     "output_type": "execute_result"
    }
   ],
   "source": [
    "from keras.models import load_model\n",
    "model = load_model('best_model.h5')\n",
    "model.evaluate(textcuboid_test,y_test)"
   ]
  },
  {
   "cell_type": "code",
   "execution_count": 54,
   "id": "5ad22687",
   "metadata": {},
   "outputs": [
    {
     "data": {
      "text/plain": [
       "91.8"
      ]
     },
     "execution_count": 54,
     "metadata": {},
     "output_type": "execute_result"
    }
   ],
   "source": [
    "np.average([92.0,91.6,91.8])"
   ]
  },
  {
   "cell_type": "code",
   "execution_count": null,
   "id": "3c319af6",
   "metadata": {},
   "outputs": [],
   "source": []
  }
 ],
 "metadata": {
  "kernelspec": {
   "display_name": "Python 3 (ipykernel)",
   "language": "python",
   "name": "python3"
  },
  "language_info": {
   "codemirror_mode": {
    "name": "ipython",
    "version": 3
   },
   "file_extension": ".py",
   "mimetype": "text/x-python",
   "name": "python",
   "nbconvert_exporter": "python",
   "pygments_lexer": "ipython3",
   "version": "3.9.12"
  }
 },
 "nbformat": 4,
 "nbformat_minor": 5
}
