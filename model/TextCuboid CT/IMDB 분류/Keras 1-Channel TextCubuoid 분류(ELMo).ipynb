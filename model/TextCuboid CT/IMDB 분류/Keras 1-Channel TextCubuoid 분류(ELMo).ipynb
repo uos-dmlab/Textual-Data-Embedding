{
 "cells": [
  {
   "cell_type": "markdown",
   "id": "184f59ff",
   "metadata": {},
   "source": [
    "# Textcuboid\n"
   ]
  },
  {
   "cell_type": "code",
   "execution_count": 1,
   "id": "fa7557ed",
   "metadata": {},
   "outputs": [],
   "source": [
    "import matplotlib.pyplot as plt\n",
    "import numpy as np\n",
    "import pandas as pd\n",
    "import tensorflow as tf\n",
    "import nltk\n",
    "import re\n",
    "import os\n",
    "import string\n",
    "import json\n",
    "import keras\n",
    "from sklearn.metrics import precision_score, recall_score, f1_score\n",
    "from sklearn.model_selection import train_test_split\n",
    "from sklearn.preprocessing import LabelEncoder"
   ]
  },
  {
   "cell_type": "code",
   "execution_count": 2,
   "id": "849c1414",
   "metadata": {},
   "outputs": [],
   "source": [
    "TRAIN_DATA_PATH = \"C:/Users/user/Desktop/bilm-tf-master/textdataset/IMDB/aclImdb/train\"\n",
    "TEST_DATA_PATH = \"C:/Users/user/Desktop/bilm-tf-master/textdataset/IMDB/aclImdb/test\"\n",
    "\n",
    "def read_text_file(path):\n",
    "    labels = ['neg','pos']\n",
    "    if os.path.exists(path):\n",
    "        text=[]\n",
    "        text_label =[]\n",
    "        for directory_name in os.listdir(path):\n",
    "            if directory_name in labels:\n",
    "                label_index = labels.index(directory_name)\n",
    "                data_path = os.path.join(path,directory_name)\n",
    "                for file in os.listdir(data_path):\n",
    "                    with open(os.path.join(data_path,file),'r', encoding='utf-8') as f:\n",
    "                        text.append(f.read())\n",
    "                        text_label.append(label_index)\n",
    "        return pd.DataFrame(text,columns =['texts']),pd.DataFrame(text_label,columns =['label'])\n",
    "    \n",
    "x_train,y_train = read_text_file(TRAIN_DATA_PATH) \n",
    "x_test,y_test = read_text_file(TEST_DATA_PATH) \n",
    "\n",
    "train = pd.concat([x_train, y_train], axis=1)\n",
    "test = pd.concat([x_test, y_test], axis=1)\n",
    "\n",
    "train.drop_duplicates(inplace=True)\n",
    "test.drop_duplicates(inplace=True)\n",
    "\n",
    "def remove_punctuation(text):\n",
    "    punctuationfree=\"\".join([i for i in text if i not in string.punctuation])\n",
    "    return punctuationfree\n",
    "\n",
    "train[['texts']] = train[['texts']].applymap(lambda x:remove_punctuation(x))\n",
    "train[['texts']] = train[['texts']].applymap(lambda x:x.lower())\n",
    "test[['texts']] = test[['texts']].applymap(lambda x:remove_punctuation(x))\n",
    "test[['texts']] = test[['texts']].applymap(lambda x:x.lower())\n",
    "\n",
    "def clean_text(text):\n",
    "    text=str(text).lower() #Converts text to lowercase\n",
    "    text=re.sub('\\d+', '', text) #removes numbers\n",
    "    text=re.sub('\\[.*?\\]', '', text) #removes HTML tags\n",
    "    text=re.sub('https?://\\S+|www\\.\\S+', '', text) #removes url\n",
    "    text=re.sub(r\"[\"\n",
    "                           u\"\\U0001F600-\\U0001F64F\"  # emoticons\n",
    "                           u\"\\U0001F300-\\U0001F5FF\"  # symbols & pictographs\n",
    "                           u\"\\U0001F680-\\U0001F6FF\"  # transport & map symbols\n",
    "                           u\"\\U0001F1E0-\\U0001F1FF\"  # flags (iOS)\n",
    "                           u\"\\U00002702-\\U000027B0\"\n",
    "                           u\"\\U000024C2-\\U0001F251\"\n",
    "                           \"]+\", \"\", text) #removes emojis\n",
    "    text=re.sub('[%s]' % re.escape(string.punctuation),'',text) #removes punctuations\n",
    "    return text\n",
    "\n",
    "X_train = train.drop(columns=['label'])\n",
    "X_test = test.drop(columns=['label'])\n",
    "y_train = train['label']\n",
    "y_test = test['label']\n",
    "\n",
    "X_train = X_train['texts'].apply(clean_text)\n",
    "X_test = X_test['texts'].apply(clean_text)\n",
    "\n",
    "pattern = '[^a-z ]'\n",
    "Clean_X_train=[]\n",
    "Clean_X_test=[]\n",
    "\n",
    "for sen in X_train:\n",
    "    Clean_X_train.append(re.sub(pattern, '', str(sen)))\n",
    "    \n",
    "for sen in X_test:\n",
    "    Clean_X_test.append(re.sub(pattern, '', str(sen)))\n",
    "\n",
    "y_train=list(y_train)\n",
    "y_test=list(y_test)\n",
    "\n",
    "train_df = pd.DataFrame({'X_train': Clean_X_train, 'y_train': y_train})\n",
    "test_df = pd.DataFrame({'X_test': Clean_X_test, 'y_test': y_test})\n",
    "\n",
    "# 레이블 값에 따라 데이터프레임을 그룹화하고 각 그룹에서 8000개의 샘플을 랜덤하게 추출\n",
    "train_df = train_df.groupby('y_train').apply(lambda x: x.sample(n=8000, random_state=42))\n",
    "\n",
    "# 레이블 값에 따라 데이터프레임을 그룹화하고 각 그룹에서 2000개의 샘플을 랜덤하게 추출\n",
    "test_df = test_df.groupby('y_test').apply(lambda x: x.sample(n=2000, random_state=42))\n",
    "\n",
    "# 인덱스를 재설정합니다. drop=True 옵션을 사용하여 기존 인덱스를 제거합니다.\n",
    "train_df = train_df.reset_index(drop=True)\n",
    "test_df = test_df.reset_index(drop=True)\n",
    "\n",
    "x_train = train_df['X_train'].tolist()\n",
    "y_train = train_df['y_train'].tolist()\n",
    "x_test = test_df['X_test'].tolist()\n",
    "y_test = test_df['y_test'].tolist()\n",
    "\n",
    "to_txt=x_train+x_test\n",
    "y=y_train+y_test"
   ]
  },
  {
   "cell_type": "code",
   "execution_count": 3,
   "id": "2a3ff88b",
   "metadata": {},
   "outputs": [],
   "source": [
    "encoder=LabelEncoder()\n",
    "\n",
    "encoder.fit(y)\n",
    "\n",
    "label=encoder.transform(y)\n",
    "\n",
    "y_train=list(label[:16000])\n",
    "y_test=list(label[16000:])"
   ]
  },
  {
   "cell_type": "code",
   "execution_count": 4,
   "id": "60630372",
   "metadata": {},
   "outputs": [],
   "source": [
    "#수동으로 cross validation을 하기위한 코드\n",
    "cnt=5  #cnt가 2일때 두번째 시행\n",
    "cnt=cnt-2\n",
    "\n",
    "def exclude_list(input_list, cnt):\n",
    "    return input_list[:cnt*2000]+input_list[cnt*2000+2000:8000]+input_list[8000:cnt*2000+8000]+input_list[cnt*2000+10000:]\n",
    "\n",
    "if cnt>-1:\n",
    "    x_train_cnt=exclude_list(x_train,cnt)+x_test\n",
    "    y_train_cnt=exclude_list(y_train,cnt)+y_test\n",
    "    x_test_cnt=x_train[cnt*2000:cnt*2000+2000]+x_train[cnt*2000+8000:cnt*2000+10000]\n",
    "    y_test_cnt=y_train[cnt*2000:cnt*2000+2000]+y_train[cnt*2000+8000:cnt*2000+10000]"
   ]
  },
  {
   "cell_type": "code",
   "execution_count": 5,
   "id": "28b36c0c",
   "metadata": {},
   "outputs": [],
   "source": [
    "if cnt>-1:\n",
    "    x_train=x_train_cnt\n",
    "    y_train=y_train_cnt\n",
    "    x_test=x_test_cnt\n",
    "    y_test=y_test_cnt\n",
    "    to_txt=x_train+x_test\n",
    "    y=y_train+y_test"
   ]
  },
  {
   "cell_type": "markdown",
   "id": "c02f3e46",
   "metadata": {},
   "source": [
    "## 2) textcuboid 분류"
   ]
  },
  {
   "cell_type": "code",
   "execution_count": null,
   "id": "4dcab8c4",
   "metadata": {},
   "outputs": [],
   "source": [
    "import random\n",
    "import keras\n",
    "from tensorflow.keras import layers\n",
    "from tensorflow.keras.layers import Input, Conv1D, GlobalMaxPooling1D, Dense, Dropout\n",
    "from tensorflow.keras.models import Model\n",
    "from keras.models import load_model"
   ]
  },
  {
   "cell_type": "code",
   "execution_count": 6,
   "id": "2ffa92ca",
   "metadata": {},
   "outputs": [],
   "source": [
    "textcuboid=np.load('./1-Channel textcuboid_IMDB(elmo).npy')"
   ]
  },
  {
   "cell_type": "code",
   "execution_count": 7,
   "id": "55f29d23",
   "metadata": {},
   "outputs": [],
   "source": [
    "textcuboid_test=np.load('./1-Channel textcuboid_test_IMDB(elmo).npy')"
   ]
  },
  {
   "cell_type": "code",
   "execution_count": 8,
   "id": "fee0a7ad",
   "metadata": {},
   "outputs": [],
   "source": [
    "#Train 데이터 섞기\n",
    "\n",
    "tmp = [[x,y] for x, y in zip(textcuboid, y_train)]\n",
    "random.shuffle(tmp)\n",
    "textcuboid = [n[0] for n in tmp]\n",
    "y_train = [n[1] for n in tmp]\n",
    "textcuboid=np.array(textcuboid)\n",
    "y_train=np.array(y_train)"
   ]
  },
  {
   "cell_type": "code",
   "execution_count": 10,
   "id": "ddec5841",
   "metadata": {},
   "outputs": [
    {
     "name": "stdout",
     "output_type": "stream",
     "text": [
      "WARNING:tensorflow:`period` argument is deprecated. Please use `save_freq` to specify the frequency in number of batches seen.\n"
     ]
    }
   ],
   "source": [
    "callbacks = [\n",
    "    keras.callbacks.ModelCheckpoint(\n",
    "        \"best_model_{epoch}.h5\", save_best_only=False, period=5\n",
    "    ),\n",
    "    keras.callbacks.ReduceLROnPlateau(\n",
    "        monitor=\"val_loss\", factor=0.5, patience=2, min_lr=0.0001\n",
    "    ),\n",
    "]"
   ]
  },
  {
   "cell_type": "code",
   "execution_count": 11,
   "id": "ce1b3b58",
   "metadata": {},
   "outputs": [],
   "source": [
    "input_layer = Input(shape=(264, 256))\n",
    "conv1 = Conv1D(1024, 1, padding='valid', activation='relu')(input_layer)\n",
    "pooling = GlobalMaxPooling1D()(conv1)\n",
    "pooling = Dropout(0.5)(pooling)\n",
    "x = Dense(256, activation='relu')(pooling)\n",
    "# x = Dropout(0.5)(x)\n",
    "output_layer = Dense(2, activation='softmax')(x)\n",
    "model = Model(inputs=input_layer, outputs=output_layer)"
   ]
  },
  {
   "cell_type": "code",
   "execution_count": 12,
   "id": "de8bb000",
   "metadata": {},
   "outputs": [],
   "source": [
    "model.compile(optimizer='adam', loss='sparse_categorical_crossentropy', metrics=['accuracy'])"
   ]
  },
  {
   "cell_type": "code",
   "execution_count": 13,
   "id": "a4cb157c",
   "metadata": {},
   "outputs": [
    {
     "name": "stdout",
     "output_type": "stream",
     "text": [
      "Model: \"model\"\n",
      "_________________________________________________________________\n",
      " Layer (type)                Output Shape              Param #   \n",
      "=================================================================\n",
      " input_1 (InputLayer)        [(None, 264, 256)]        0         \n",
      "                                                                 \n",
      " conv1d (Conv1D)             (None, 264, 1024)         263168    \n",
      "                                                                 \n",
      " global_max_pooling1d (Globa  (None, 1024)             0         \n",
      " lMaxPooling1D)                                                  \n",
      "                                                                 \n",
      " dropout (Dropout)           (None, 1024)              0         \n",
      "                                                                 \n",
      " dense (Dense)               (None, 256)               262400    \n",
      "                                                                 \n",
      " dense_1 (Dense)             (None, 2)                 514       \n",
      "                                                                 \n",
      "=================================================================\n",
      "Total params: 526,082\n",
      "Trainable params: 526,082\n",
      "Non-trainable params: 0\n",
      "_________________________________________________________________\n"
     ]
    }
   ],
   "source": [
    "model.summary()"
   ]
  },
  {
   "cell_type": "code",
   "execution_count": 14,
   "id": "8fa47ead",
   "metadata": {},
   "outputs": [],
   "source": [
    "x_train=textcuboid[1000:]\n",
    "x_val=textcuboid[:1000]\n",
    "y_train1=y_train[1000:]\n",
    "y_val=y_train[:1000]"
   ]
  },
  {
   "cell_type": "code",
   "execution_count": 15,
   "id": "35a26571",
   "metadata": {
    "scrolled": true
   },
   "outputs": [
    {
     "name": "stdout",
     "output_type": "stream",
     "text": [
      "Epoch 1/20\n",
      "59/59 [==============================] - 3s 31ms/step - loss: 0.5401 - accuracy: 0.7624 - val_loss: 0.2833 - val_accuracy: 0.8830 - lr: 0.0010\n",
      "Epoch 2/20\n",
      "59/59 [==============================] - 2s 26ms/step - loss: 0.2979 - accuracy: 0.8755 - val_loss: 0.2602 - val_accuracy: 0.8890 - lr: 0.0010\n",
      "Epoch 3/20\n",
      "59/59 [==============================] - 1s 25ms/step - loss: 0.2611 - accuracy: 0.8919 - val_loss: 0.2492 - val_accuracy: 0.8930 - lr: 0.0010\n",
      "Epoch 4/20\n",
      "59/59 [==============================] - 1s 25ms/step - loss: 0.2452 - accuracy: 0.8963 - val_loss: 0.2640 - val_accuracy: 0.8820 - lr: 0.0010\n",
      "Epoch 5/20\n",
      "59/59 [==============================] - 2s 27ms/step - loss: 0.2233 - accuracy: 0.9102 - val_loss: 0.2470 - val_accuracy: 0.8980 - lr: 0.0010\n",
      "Epoch 6/20\n",
      "59/59 [==============================] - 1s 25ms/step - loss: 0.2061 - accuracy: 0.9183 - val_loss: 0.2738 - val_accuracy: 0.8840 - lr: 0.0010\n",
      "Epoch 7/20\n",
      "59/59 [==============================] - 2s 26ms/step - loss: 0.1939 - accuracy: 0.9246 - val_loss: 0.2531 - val_accuracy: 0.8980 - lr: 0.0010\n",
      "Epoch 8/20\n",
      "59/59 [==============================] - 1s 25ms/step - loss: 0.1698 - accuracy: 0.9341 - val_loss: 0.2539 - val_accuracy: 0.8960 - lr: 5.0000e-04\n",
      "Epoch 9/20\n",
      "59/59 [==============================] - 2s 25ms/step - loss: 0.1555 - accuracy: 0.9392 - val_loss: 0.2672 - val_accuracy: 0.8900 - lr: 5.0000e-04\n",
      "Epoch 10/20\n",
      "59/59 [==============================] - 2s 27ms/step - loss: 0.1428 - accuracy: 0.9473 - val_loss: 0.2543 - val_accuracy: 0.9020 - lr: 2.5000e-04\n",
      "Epoch 11/20\n",
      "59/59 [==============================] - 1s 25ms/step - loss: 0.1364 - accuracy: 0.9493 - val_loss: 0.2636 - val_accuracy: 0.8930 - lr: 2.5000e-04\n",
      "Epoch 12/20\n",
      "59/59 [==============================] - 1s 24ms/step - loss: 0.1248 - accuracy: 0.9547 - val_loss: 0.2577 - val_accuracy: 0.9000 - lr: 1.2500e-04\n",
      "Epoch 13/20\n",
      "59/59 [==============================] - 1s 25ms/step - loss: 0.1220 - accuracy: 0.9541 - val_loss: 0.2604 - val_accuracy: 0.8980 - lr: 1.2500e-04\n",
      "Epoch 14/20\n",
      "59/59 [==============================] - 1s 24ms/step - loss: 0.1156 - accuracy: 0.9581 - val_loss: 0.2615 - val_accuracy: 0.8990 - lr: 1.0000e-04\n",
      "Epoch 15/20\n",
      "59/59 [==============================] - 2s 26ms/step - loss: 0.1168 - accuracy: 0.9583 - val_loss: 0.2652 - val_accuracy: 0.8980 - lr: 1.0000e-04\n",
      "Epoch 16/20\n",
      "59/59 [==============================] - 1s 25ms/step - loss: 0.1161 - accuracy: 0.9571 - val_loss: 0.2653 - val_accuracy: 0.8970 - lr: 1.0000e-04\n",
      "Epoch 17/20\n",
      "59/59 [==============================] - 1s 25ms/step - loss: 0.1105 - accuracy: 0.9615 - val_loss: 0.2658 - val_accuracy: 0.8970 - lr: 1.0000e-04\n",
      "Epoch 18/20\n",
      "59/59 [==============================] - 1s 25ms/step - loss: 0.1069 - accuracy: 0.9615 - val_loss: 0.2677 - val_accuracy: 0.8940 - lr: 1.0000e-04\n",
      "Epoch 19/20\n",
      "59/59 [==============================] - 1s 25ms/step - loss: 0.1030 - accuracy: 0.9637 - val_loss: 0.2697 - val_accuracy: 0.8950 - lr: 1.0000e-04\n",
      "Epoch 20/20\n",
      "59/59 [==============================] - 1s 25ms/step - loss: 0.1033 - accuracy: 0.9621 - val_loss: 0.2742 - val_accuracy: 0.8970 - lr: 1.0000e-04\n"
     ]
    }
   ],
   "source": [
    "history = model.fit(x_train, y_train1,callbacks=callbacks, epochs=20,batch_size=256,validation_data=(x_val, y_val))"
   ]
  },
  {
   "cell_type": "code",
   "execution_count": 16,
   "id": "f7be6476",
   "metadata": {},
   "outputs": [],
   "source": [
    "y_test=np.array(y_test)"
   ]
  },
  {
   "cell_type": "code",
   "execution_count": 17,
   "id": "0b8710f9",
   "metadata": {},
   "outputs": [
    {
     "name": "stdout",
     "output_type": "stream",
     "text": [
      "125/125 [==============================] - 0s 3ms/step - loss: 0.2563 - accuracy: 0.9018\n"
     ]
    },
    {
     "data": {
      "text/plain": [
       "[0.25629380345344543, 0.9017500281333923]"
      ]
     },
     "execution_count": 17,
     "metadata": {},
     "output_type": "execute_result"
    }
   ],
   "source": [
    "model.evaluate(textcuboid_test,y_test)"
   ]
  },
  {
   "cell_type": "code",
   "execution_count": 19,
   "id": "eb178a78",
   "metadata": {},
   "outputs": [
    {
     "name": "stdout",
     "output_type": "stream",
     "text": [
      "125/125 [==============================] - 1s 3ms/step - loss: 0.2434 - accuracy: 0.9000\n"
     ]
    },
    {
     "data": {
      "text/plain": [
       "[0.24335317313671112, 0.8999999761581421]"
      ]
     },
     "execution_count": 19,
     "metadata": {},
     "output_type": "execute_result"
    }
   ],
   "source": [
    "model = load_model('best_model_10.h5')\n",
    "model.evaluate(textcuboid_test,y_test)"
   ]
  },
  {
   "cell_type": "code",
   "execution_count": null,
   "id": "a3e9a566",
   "metadata": {},
   "outputs": [],
   "source": []
  },
  {
   "cell_type": "code",
   "execution_count": null,
   "id": "7409e1cb",
   "metadata": {},
   "outputs": [],
   "source": []
  }
 ],
 "metadata": {
  "kernelspec": {
   "display_name": "Python 3 (ipykernel)",
   "language": "python",
   "name": "python3"
  },
  "language_info": {
   "codemirror_mode": {
    "name": "ipython",
    "version": 3
   },
   "file_extension": ".py",
   "mimetype": "text/x-python",
   "name": "python",
   "nbconvert_exporter": "python",
   "pygments_lexer": "ipython3",
   "version": "3.9.12"
  }
 },
 "nbformat": 4,
 "nbformat_minor": 5
}
