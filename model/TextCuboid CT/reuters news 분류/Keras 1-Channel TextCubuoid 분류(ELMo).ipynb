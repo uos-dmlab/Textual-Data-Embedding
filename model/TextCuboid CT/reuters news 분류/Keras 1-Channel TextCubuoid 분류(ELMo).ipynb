{
 "cells": [
  {
   "cell_type": "markdown",
   "id": "dd54de89",
   "metadata": {},
   "source": [
    "Base에서 실행"
   ]
  },
  {
   "cell_type": "markdown",
   "id": "184f59ff",
   "metadata": {},
   "source": [
    "# Textcuboid\n"
   ]
  },
  {
   "cell_type": "code",
   "execution_count": 1,
   "id": "e5f5e87a",
   "metadata": {},
   "outputs": [],
   "source": [
    "import os\n",
    "os.environ[\"CUDA_VISIBLE_DEVICES\"] = \"-1\""
   ]
  },
  {
   "cell_type": "markdown",
   "id": "8c61eba1",
   "metadata": {},
   "source": [
    "## 1) Dataload Reuters news  data"
   ]
  },
  {
   "cell_type": "code",
   "execution_count": 3,
   "id": "849c1414",
   "metadata": {},
   "outputs": [],
   "source": [
    "import matplotlib.pyplot as plt\n",
    "import numpy as np\n",
    "import pandas as pd\n",
    "import tensorflow as tf\n",
    "from tensorflow.keras.preprocessing.text import Tokenizer\n",
    "from tensorflow.keras.datasets import reuters\n",
    "\n",
    "from sklearn.metrics import precision_score, recall_score, f1_score\n",
    "from sklearn.model_selection import train_test_split\n",
    "from sklearn.preprocessing import LabelEncoder"
   ]
  },
  {
   "cell_type": "code",
   "execution_count": 4,
   "id": "660f568b",
   "metadata": {},
   "outputs": [
    {
     "name": "stdout",
     "output_type": "stream",
     "text": [
      "46\n"
     ]
    }
   ],
   "source": [
    "(train_data, train_labels), (test_data, test_labels) = reuters.load_data(test_split=0.2)\n",
    "\n",
    "category_list = []\n",
    "for i in range(46):\n",
    "    category_list.append(0)\n",
    "print(len(category_list))\n",
    "\n",
    "for i in train_labels:\n",
    "    category_list[i] += 1\n",
    "\n",
    "extracted_index = []\n",
    "\n",
    "for i, v in enumerate(category_list):\n",
    "    if v >= 100:\n",
    "#         print(i, v)\n",
    "        extracted_index.append(i)\n",
    "\n",
    "\n",
    "extracted_train_data = []\n",
    "for i, v in enumerate(train_labels):\n",
    "    if v in extracted_index:\n",
    "        extracted_train_data.append(train_data[i])\n",
    "\n",
    "extracted_test_data = []\n",
    "for i, v in enumerate(test_labels):\n",
    "    if v in extracted_index:\n",
    "        extracted_test_data.append(test_data[i])\n",
    "\n",
    "extracted_train_labels = []\n",
    "for i, v in enumerate(train_labels):\n",
    "    if v in extracted_index:\n",
    "        extracted_train_labels.append(train_labels[i])\n",
    "\n",
    "extracted_test_labels = []\n",
    "for i, v in enumerate(test_labels):\n",
    "    if v in extracted_index:\n",
    "        extracted_test_labels.append(test_labels[i])\n",
    "\n",
    "word_to_index = reuters.get_word_index()\n",
    "\n",
    "index_to_word = {}\n",
    "for key, value in word_to_index.items():\n",
    "    index_to_word[value+3] = key # pad, sos, unk, NULL 포함\n",
    "\n",
    "for index, token in enumerate((\"<pad>\", \"<sos>\", \"<unk>\")): # index=3은 NULL\n",
    "    index_to_word[index] = token\n",
    "\n",
    "#문장 추출\n",
    "to_txt=[]\n",
    "for i in range(7828):\n",
    "  \n",
    "    to_txt.append(' '.join([index_to_word[index] for index in extracted_train_data[i]])[6:])\n",
    "    \n",
    "for i in range(1934):\n",
    "    to_txt.append(' '.join([index_to_word[index] for index in extracted_test_data[i]])[6:])"
   ]
  },
  {
   "cell_type": "code",
   "execution_count": 5,
   "id": "a214bf9c",
   "metadata": {},
   "outputs": [],
   "source": [
    "y=extracted_train_labels+extracted_test_labels\n",
    "\n",
    "encoder=LabelEncoder()\n",
    "\n",
    "encoder.fit(y)\n",
    "\n",
    "label=encoder.transform(y)\n",
    "\n",
    "y_train=label[:7828]\n",
    "y_test=label[7828:]"
   ]
  },
  {
   "cell_type": "code",
   "execution_count": 6,
   "id": "509aa871",
   "metadata": {},
   "outputs": [],
   "source": [
    "# 방법2) 케라스 내장함수 활용\n",
    "from keras.utils.np_utils import to_categorical\n",
    "\n",
    "one_hot_train_labels = to_categorical(y_train)\n",
    "one_hot_test_labels = to_categorical(y_test)"
   ]
  },
  {
   "cell_type": "markdown",
   "id": "c02f3e46",
   "metadata": {},
   "source": [
    "## 2) textcuboid 분류"
   ]
  },
  {
   "cell_type": "code",
   "execution_count": 7,
   "id": "2ffa92ca",
   "metadata": {},
   "outputs": [],
   "source": [
    "textcuboid=np.load('./1-Channel textcuboid_reuters(elmo).npy')"
   ]
  },
  {
   "cell_type": "code",
   "execution_count": 8,
   "id": "55f29d23",
   "metadata": {},
   "outputs": [],
   "source": [
    "textcuboid_test=np.load('./1-Channel textcuboid_test_reuters(elmo).npy')"
   ]
  },
  {
   "cell_type": "code",
   "execution_count": 9,
   "id": "1f178135",
   "metadata": {},
   "outputs": [],
   "source": [
    "import keras\n",
    "from tensorflow.keras import layers"
   ]
  },
  {
   "cell_type": "code",
   "execution_count": 10,
   "id": "ddec5841",
   "metadata": {},
   "outputs": [],
   "source": [
    "callbacks = [\n",
    "    keras.callbacks.ModelCheckpoint(\n",
    "        \"best_model.h5\", save_best_only=True, monitor=\"val_loss\"\n",
    "    ),\n",
    "    keras.callbacks.ReduceLROnPlateau(\n",
    "        monitor=\"val_loss\", factor=0.5, patience=2, min_lr=0.0001\n",
    "    ),\n",
    "#     keras.callbacks.EarlyStopping(monitor=\"val_loss\", patience=8, verbose=1),\n",
    "]"
   ]
  },
  {
   "cell_type": "code",
   "execution_count": 11,
   "id": "ce1b3b58",
   "metadata": {},
   "outputs": [],
   "source": [
    "from tensorflow.keras.layers import Input, Conv1D, GlobalMaxPooling1D, Dense, Dropout\n",
    "from tensorflow.keras.models import Model\n",
    "\n",
    "\n",
    "input_layer = Input(shape=(252, 256))\n",
    "conv1 = Conv1D(256, 1, padding='valid', activation='relu')(input_layer)\n",
    "pooling = GlobalMaxPooling1D()(conv1)\n",
    "\n",
    "x = Dense(256, activation='relu')(pooling)\n",
    "x = Dropout(0.5)(x)\n",
    "output_layer = Dense(12, activation='softmax')(x)\n",
    "\n",
    "model = Model(inputs=input_layer, outputs=output_layer)\n",
    "\n"
   ]
  },
  {
   "cell_type": "code",
   "execution_count": 12,
   "id": "de8bb000",
   "metadata": {},
   "outputs": [],
   "source": [
    "model.compile(optimizer='adam', loss='categorical_crossentropy', metrics=['accuracy'])"
   ]
  },
  {
   "cell_type": "code",
   "execution_count": 13,
   "id": "a4cb157c",
   "metadata": {},
   "outputs": [
    {
     "name": "stdout",
     "output_type": "stream",
     "text": [
      "Model: \"model\"\n",
      "_________________________________________________________________\n",
      " Layer (type)                Output Shape              Param #   \n",
      "=================================================================\n",
      " input_1 (InputLayer)        [(None, 252, 256)]        0         \n",
      "                                                                 \n",
      " conv1d (Conv1D)             (None, 252, 256)          65792     \n",
      "                                                                 \n",
      " global_max_pooling1d (Globa  (None, 256)              0         \n",
      " lMaxPooling1D)                                                  \n",
      "                                                                 \n",
      " dense (Dense)               (None, 256)               65792     \n",
      "                                                                 \n",
      " dropout (Dropout)           (None, 256)               0         \n",
      "                                                                 \n",
      " dense_1 (Dense)             (None, 12)                3084      \n",
      "                                                                 \n",
      "=================================================================\n",
      "Total params: 134,668\n",
      "Trainable params: 134,668\n",
      "Non-trainable params: 0\n",
      "_________________________________________________________________\n"
     ]
    }
   ],
   "source": [
    "model.summary()"
   ]
  },
  {
   "cell_type": "code",
   "execution_count": 14,
   "id": "8fa47ead",
   "metadata": {},
   "outputs": [],
   "source": [
    "x_train=textcuboid[1000:]\n",
    "x_val=textcuboid[:1000]\n",
    "y_train=one_hot_train_labels[1000:]\n",
    "y_val=one_hot_train_labels[:1000]"
   ]
  },
  {
   "cell_type": "code",
   "execution_count": 15,
   "id": "a3071295",
   "metadata": {
    "scrolled": true
   },
   "outputs": [
    {
     "name": "stdout",
     "output_type": "stream",
     "text": [
      "Epoch 1/20\n",
      "27/27 [==============================] - 2s 35ms/step - loss: 1.6530 - accuracy: 0.5593 - val_loss: 0.9386 - val_accuracy: 0.7400 - lr: 0.0010\n",
      "Epoch 2/20\n",
      "27/27 [==============================] - 1s 19ms/step - loss: 0.8708 - accuracy: 0.7639 - val_loss: 0.7186 - val_accuracy: 0.8000 - lr: 0.0010\n",
      "Epoch 3/20\n",
      "27/27 [==============================] - 1s 22ms/step - loss: 0.7050 - accuracy: 0.8143 - val_loss: 0.6335 - val_accuracy: 0.8240 - lr: 0.0010\n",
      "Epoch 4/20\n",
      "27/27 [==============================] - 1s 22ms/step - loss: 0.6290 - accuracy: 0.8295 - val_loss: 0.5871 - val_accuracy: 0.8410 - lr: 0.0010\n",
      "Epoch 5/20\n",
      "27/27 [==============================] - 1s 19ms/step - loss: 0.5590 - accuracy: 0.8515 - val_loss: 0.5674 - val_accuracy: 0.8510 - lr: 0.0010\n",
      "Epoch 6/20\n",
      "27/27 [==============================] - 1s 22ms/step - loss: 0.5040 - accuracy: 0.8682 - val_loss: 0.5535 - val_accuracy: 0.8630 - lr: 0.0010\n",
      "Epoch 7/20\n",
      "27/27 [==============================] - 1s 21ms/step - loss: 0.4681 - accuracy: 0.8736 - val_loss: 0.5463 - val_accuracy: 0.8620 - lr: 0.0010\n",
      "Epoch 8/20\n",
      "27/27 [==============================] - 1s 22ms/step - loss: 0.4364 - accuracy: 0.8834 - val_loss: 0.5325 - val_accuracy: 0.8620 - lr: 0.0010\n",
      "Epoch 9/20\n",
      "27/27 [==============================] - 1s 20ms/step - loss: 0.4204 - accuracy: 0.8885 - val_loss: 0.5250 - val_accuracy: 0.8750 - lr: 0.0010\n",
      "Epoch 10/20\n",
      "27/27 [==============================] - 1s 23ms/step - loss: 0.3883 - accuracy: 0.8941 - val_loss: 0.5185 - val_accuracy: 0.8820 - lr: 0.0010\n",
      "Epoch 11/20\n",
      "27/27 [==============================] - 1s 23ms/step - loss: 0.3598 - accuracy: 0.9011 - val_loss: 0.5350 - val_accuracy: 0.8700 - lr: 0.0010\n",
      "Epoch 12/20\n",
      "27/27 [==============================] - 1s 20ms/step - loss: 0.3386 - accuracy: 0.9071 - val_loss: 0.5138 - val_accuracy: 0.8790 - lr: 0.0010\n",
      "Epoch 13/20\n",
      "27/27 [==============================] - 1s 23ms/step - loss: 0.3194 - accuracy: 0.9105 - val_loss: 0.5092 - val_accuracy: 0.8770 - lr: 0.0010\n",
      "Epoch 14/20\n",
      "27/27 [==============================] - 1s 20ms/step - loss: 0.3045 - accuracy: 0.9105 - val_loss: 0.5058 - val_accuracy: 0.8740 - lr: 0.0010\n",
      "Epoch 15/20\n",
      "27/27 [==============================] - 1s 22ms/step - loss: 0.2777 - accuracy: 0.9230 - val_loss: 0.5176 - val_accuracy: 0.8780 - lr: 0.0010\n",
      "Epoch 16/20\n",
      "27/27 [==============================] - 1s 19ms/step - loss: 0.2638 - accuracy: 0.9253 - val_loss: 0.5328 - val_accuracy: 0.8730 - lr: 0.0010\n",
      "Epoch 17/20\n",
      "27/27 [==============================] - 1s 21ms/step - loss: 0.2319 - accuracy: 0.9322 - val_loss: 0.5276 - val_accuracy: 0.8770 - lr: 5.0000e-04\n",
      "Epoch 18/20\n",
      "27/27 [==============================] - 1s 23ms/step - loss: 0.2167 - accuracy: 0.9363 - val_loss: 0.5411 - val_accuracy: 0.8690 - lr: 5.0000e-04\n",
      "Epoch 19/20\n",
      "27/27 [==============================] - 1s 20ms/step - loss: 0.2003 - accuracy: 0.9424 - val_loss: 0.5381 - val_accuracy: 0.8730 - lr: 2.5000e-04\n",
      "Epoch 20/20\n",
      "27/27 [==============================] - 1s 22ms/step - loss: 0.1951 - accuracy: 0.9460 - val_loss: 0.5415 - val_accuracy: 0.8700 - lr: 2.5000e-04\n"
     ]
    }
   ],
   "source": [
    "history = model.fit(x_train, y_train,callbacks=callbacks, epochs=20,batch_size=256,validation_data=(x_val, y_val))"
   ]
  },
  {
   "cell_type": "code",
   "execution_count": 16,
   "id": "0b8710f9",
   "metadata": {},
   "outputs": [
    {
     "name": "stdout",
     "output_type": "stream",
     "text": [
      "61/61 [==============================] - 0s 3ms/step - loss: 0.5463 - accuracy: 0.8790\n"
     ]
    },
    {
     "data": {
      "text/plain": [
       "[0.5462568998336792, 0.8790072202682495]"
      ]
     },
     "execution_count": 16,
     "metadata": {},
     "output_type": "execute_result"
    }
   ],
   "source": [
    "model.evaluate(textcuboid_test,one_hot_test_labels)"
   ]
  },
  {
   "cell_type": "code",
   "execution_count": 17,
   "id": "eb178a78",
   "metadata": {},
   "outputs": [
    {
     "name": "stdout",
     "output_type": "stream",
     "text": [
      "61/61 [==============================] - 0s 3ms/step - loss: 0.5160 - accuracy: 0.8744\n"
     ]
    },
    {
     "data": {
      "text/plain": [
       "[0.516044020652771, 0.8743536472320557]"
      ]
     },
     "execution_count": 17,
     "metadata": {},
     "output_type": "execute_result"
    }
   ],
   "source": [
    "from keras.models import load_model\n",
    "model = load_model('best_model.h5')\n",
    "model.evaluate(textcuboid_test,one_hot_test_labels)"
   ]
  },
  {
   "cell_type": "code",
   "execution_count": 32,
   "id": "5ad22687",
   "metadata": {},
   "outputs": [
    {
     "data": {
      "text/plain": [
       "87.63333333333333"
      ]
     },
     "execution_count": 32,
     "metadata": {},
     "output_type": "execute_result"
    }
   ],
   "source": [
    "np.average([88.1,87.6,88.1])"
   ]
  },
  {
   "cell_type": "code",
   "execution_count": null,
   "id": "46eef0da",
   "metadata": {},
   "outputs": [],
   "source": []
  }
 ],
 "metadata": {
  "kernelspec": {
   "display_name": "Python 3 (ipykernel)",
   "language": "python",
   "name": "python3"
  },
  "language_info": {
   "codemirror_mode": {
    "name": "ipython",
    "version": 3
   },
   "file_extension": ".py",
   "mimetype": "text/x-python",
   "name": "python",
   "nbconvert_exporter": "python",
   "pygments_lexer": "ipython3",
   "version": "3.9.12"
  }
 },
 "nbformat": 4,
 "nbformat_minor": 5
}
