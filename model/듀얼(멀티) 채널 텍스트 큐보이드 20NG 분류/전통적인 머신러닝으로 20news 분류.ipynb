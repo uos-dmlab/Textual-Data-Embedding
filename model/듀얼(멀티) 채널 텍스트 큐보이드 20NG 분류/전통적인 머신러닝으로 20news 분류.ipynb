{
 "cells": [
  {
   "cell_type": "code",
   "execution_count": 1,
   "id": "d0c288f9",
   "metadata": {},
   "outputs": [],
   "source": [
    "import matplotlib.pyplot as plt\n",
    "import numpy as np\n",
    "import pandas as pd\n",
    "import tensorflow as tf\n",
    "\n",
    "from sklearn.metrics import precision_score, recall_score, f1_score\n",
    "from sklearn.model_selection import train_test_split\n",
    "from sklearn.preprocessing import LabelEncoder"
   ]
  },
  {
   "cell_type": "code",
   "execution_count": 2,
   "id": "43664feb",
   "metadata": {},
   "outputs": [],
   "source": [
    "df_newsgroup = pd.read_csv('C:/Users/user/Desktop/bilm-tf-master/20news_dataset_clear/20newsgroup_preprocessed.csv', sep=';', usecols=['target', 'text_cleaned'])\n",
    "df_newsgroup.rename(columns={'text_cleaned' : 'text'}, inplace=True)"
   ]
  },
  {
   "cell_type": "code",
   "execution_count": 3,
   "id": "b5ce12c1",
   "metadata": {},
   "outputs": [
    {
     "data": {
      "text/html": [
       "<style>#sk-container-id-1 {color: black;background-color: white;}#sk-container-id-1 pre{padding: 0;}#sk-container-id-1 div.sk-toggleable {background-color: white;}#sk-container-id-1 label.sk-toggleable__label {cursor: pointer;display: block;width: 100%;margin-bottom: 0;padding: 0.3em;box-sizing: border-box;text-align: center;}#sk-container-id-1 label.sk-toggleable__label-arrow:before {content: \"▸\";float: left;margin-right: 0.25em;color: #696969;}#sk-container-id-1 label.sk-toggleable__label-arrow:hover:before {color: black;}#sk-container-id-1 div.sk-estimator:hover label.sk-toggleable__label-arrow:before {color: black;}#sk-container-id-1 div.sk-toggleable__content {max-height: 0;max-width: 0;overflow: hidden;text-align: left;background-color: #f0f8ff;}#sk-container-id-1 div.sk-toggleable__content pre {margin: 0.2em;color: black;border-radius: 0.25em;background-color: #f0f8ff;}#sk-container-id-1 input.sk-toggleable__control:checked~div.sk-toggleable__content {max-height: 200px;max-width: 100%;overflow: auto;}#sk-container-id-1 input.sk-toggleable__control:checked~label.sk-toggleable__label-arrow:before {content: \"▾\";}#sk-container-id-1 div.sk-estimator input.sk-toggleable__control:checked~label.sk-toggleable__label {background-color: #d4ebff;}#sk-container-id-1 div.sk-label input.sk-toggleable__control:checked~label.sk-toggleable__label {background-color: #d4ebff;}#sk-container-id-1 input.sk-hidden--visually {border: 0;clip: rect(1px 1px 1px 1px);clip: rect(1px, 1px, 1px, 1px);height: 1px;margin: -1px;overflow: hidden;padding: 0;position: absolute;width: 1px;}#sk-container-id-1 div.sk-estimator {font-family: monospace;background-color: #f0f8ff;border: 1px dotted black;border-radius: 0.25em;box-sizing: border-box;margin-bottom: 0.5em;}#sk-container-id-1 div.sk-estimator:hover {background-color: #d4ebff;}#sk-container-id-1 div.sk-parallel-item::after {content: \"\";width: 100%;border-bottom: 1px solid gray;flex-grow: 1;}#sk-container-id-1 div.sk-label:hover label.sk-toggleable__label {background-color: #d4ebff;}#sk-container-id-1 div.sk-serial::before {content: \"\";position: absolute;border-left: 1px solid gray;box-sizing: border-box;top: 0;bottom: 0;left: 50%;z-index: 0;}#sk-container-id-1 div.sk-serial {display: flex;flex-direction: column;align-items: center;background-color: white;padding-right: 0.2em;padding-left: 0.2em;position: relative;}#sk-container-id-1 div.sk-item {position: relative;z-index: 1;}#sk-container-id-1 div.sk-parallel {display: flex;align-items: stretch;justify-content: center;background-color: white;position: relative;}#sk-container-id-1 div.sk-item::before, #sk-container-id-1 div.sk-parallel-item::before {content: \"\";position: absolute;border-left: 1px solid gray;box-sizing: border-box;top: 0;bottom: 0;left: 50%;z-index: -1;}#sk-container-id-1 div.sk-parallel-item {display: flex;flex-direction: column;z-index: 1;position: relative;background-color: white;}#sk-container-id-1 div.sk-parallel-item:first-child::after {align-self: flex-end;width: 50%;}#sk-container-id-1 div.sk-parallel-item:last-child::after {align-self: flex-start;width: 50%;}#sk-container-id-1 div.sk-parallel-item:only-child::after {width: 0;}#sk-container-id-1 div.sk-dashed-wrapped {border: 1px dashed gray;margin: 0 0.4em 0.5em 0.4em;box-sizing: border-box;padding-bottom: 0.4em;background-color: white;}#sk-container-id-1 div.sk-label label {font-family: monospace;font-weight: bold;display: inline-block;line-height: 1.2em;}#sk-container-id-1 div.sk-label-container {text-align: center;}#sk-container-id-1 div.sk-container {/* jupyter's `normalize.less` sets `[hidden] { display: none; }` but bootstrap.min.css set `[hidden] { display: none !important; }` so we also need the `!important` here to be able to override the default hidden behavior on the sphinx rendered scikit-learn.org. See: https://github.com/scikit-learn/scikit-learn/issues/21755 */display: inline-block !important;position: relative;}#sk-container-id-1 div.sk-text-repr-fallback {display: none;}</style><div id=\"sk-container-id-1\" class=\"sk-top-container\"><div class=\"sk-text-repr-fallback\"><pre>LabelEncoder()</pre><b>In a Jupyter environment, please rerun this cell to show the HTML representation or trust the notebook. <br />On GitHub, the HTML representation is unable to render, please try loading this page with nbviewer.org.</b></div><div class=\"sk-container\" hidden><div class=\"sk-item\"><div class=\"sk-estimator sk-toggleable\"><input class=\"sk-toggleable__control sk-hidden--visually\" id=\"sk-estimator-id-1\" type=\"checkbox\" checked><label for=\"sk-estimator-id-1\" class=\"sk-toggleable__label sk-toggleable__label-arrow\">LabelEncoder</label><div class=\"sk-toggleable__content\"><pre>LabelEncoder()</pre></div></div></div></div></div>"
      ],
      "text/plain": [
       "LabelEncoder()"
      ]
     },
     "execution_count": 3,
     "metadata": {},
     "output_type": "execute_result"
    }
   ],
   "source": [
    "le = LabelEncoder()\n",
    "le.fit(df_newsgroup['target'].unique())"
   ]
  },
  {
   "cell_type": "code",
   "execution_count": 4,
   "id": "29915457",
   "metadata": {},
   "outputs": [],
   "source": [
    "df_newsgroup['target'] = le.transform(df_newsgroup['target'])"
   ]
  },
  {
   "cell_type": "code",
   "execution_count": 5,
   "id": "cef568ef",
   "metadata": {},
   "outputs": [],
   "source": [
    "X = df_newsgroup['text'].astype(str)\n",
    "# y = tf.keras.utils.to_categorical(df_newsgroup['target'], num_classes=df_newsgroup['target'].nunique())\n",
    "y=list(df_newsgroup['target'])\n",
    "X_train, X_test, y_train, y_test = train_test_split(X, y, test_size=0.2, random_state=42, stratify=df_newsgroup['target'])"
   ]
  },
  {
   "cell_type": "code",
   "execution_count": 6,
   "id": "0bc45bc1",
   "metadata": {},
   "outputs": [],
   "source": [
    "x_train=list(X_train)\n",
    "x_test=list(X_test)"
   ]
  },
  {
   "cell_type": "code",
   "execution_count": 7,
   "id": "dfd6e869",
   "metadata": {},
   "outputs": [],
   "source": [
    "import re\n",
    "pattern = '[^a-z.0-9 ]'\n",
    "clr_x_trian=[]\n",
    "clr_x_test=[]\n",
    "for sen in x_train:\n",
    "    clr_x_trian.append(re.sub(pattern, '', sen))\n",
    "for sen in x_test:\n",
    "    clr_x_test.append(re.sub(pattern, '', sen))"
   ]
  },
  {
   "cell_type": "code",
   "execution_count": 8,
   "id": "88a30d8d",
   "metadata": {},
   "outputs": [],
   "source": [
    "x_train=clr_x_trian\n",
    "x_test=clr_x_test"
   ]
  },
  {
   "cell_type": "markdown",
   "id": "1710ff04",
   "metadata": {},
   "source": [
    "머신러닝"
   ]
  },
  {
   "cell_type": "code",
   "execution_count": 9,
   "id": "28d1c27d",
   "metadata": {},
   "outputs": [],
   "source": [
    "to_txt_filter=x_train+x_test"
   ]
  },
  {
   "cell_type": "code",
   "execution_count": 10,
   "id": "c1a1b346",
   "metadata": {},
   "outputs": [],
   "source": [
    "y=list(y_train)+list(y_test)"
   ]
  },
  {
   "cell_type": "code",
   "execution_count": 11,
   "id": "a14c7cc9",
   "metadata": {},
   "outputs": [
    {
     "name": "stderr",
     "output_type": "stream",
     "text": [
      "C:\\Users\\user\\anaconda3\\lib\\site-packages\\sklearn\\utils\\deprecation.py:87: FutureWarning: Function get_feature_names is deprecated; get_feature_names is deprecated in 1.0 and will be removed in 1.2. Please use get_feature_names_out instead.\n",
      "  warnings.warn(msg, category=FutureWarning)\n"
     ]
    }
   ],
   "source": [
    "#단어 1000개 선별\n",
    "from sklearn.feature_selection import SelectKBest\n",
    "from sklearn.feature_selection import chi2\n",
    "from sklearn.feature_extraction.text import CountVectorizer\n",
    "vect = CountVectorizer()\n",
    "X_dtm = vect.fit_transform(to_txt_filter)\n",
    "X_dtm = X_dtm.toarray()\n",
    "X_new = SelectKBest(chi2, k=1000).fit(X_dtm, y)\n",
    "TorF = X_new.get_support()\n",
    "TorF\n",
    "import numpy as np\n",
    "word_view=np.array(vect.get_feature_names())\n",
    "sw=word_view[TorF]"
   ]
  },
  {
   "cell_type": "code",
   "execution_count": 12,
   "id": "93647000",
   "metadata": {
    "scrolled": true
   },
   "outputs": [
    {
     "data": {
      "text/plain": [
       "array(['accept', 'access', 'acts', 'adaptec', 'adirondack', 'adl',\n",
       "       'administration', 'agencies', 'agents', 'ahl', 'aids', 'algorithm',\n",
       "       'alink', 'allergic', 'alomar', 'altatheism', 'ama', 'amendment',\n",
       "       'american', 'amp', 'anatolia', 'andi', 'animation', 'ankara',\n",
       "       'anonymity', 'anonymous', 'apartment', 'apostles', 'apple',\n",
       "       'application', 'applications', 'appressian', 'apps', 'arab',\n",
       "       'arabs', 'argic', 'argument', 'armed', 'armenia', 'armenian',\n",
       "       'armenians', 'arms', 'army', 'article', 'asking', 'assault',\n",
       "       'astronomy', 'atf', 'atheism', 'atheist', 'atheists', 'atmosphere',\n",
       "       'attack', 'attacks', 'attorney', 'authority', 'auto', 'available',\n",
       "       'ax', 'axaxax', 'azerbaijan', 'azerbaijani', 'azerbaijanis',\n",
       "       'azeri', 'azeris', 'bagged', 'baku', 'balcony', 'ball', 'banks',\n",
       "       'baptism', 'baseball', 'batf', 'batter', 'batters', 'battery',\n",
       "       'batting', 'bds', 'beauchaine', 'belief', 'beliefs', 'believe',\n",
       "       'benedikt', 'beyer', 'bible', 'biblical', 'bike', 'biker', 'bikes',\n",
       "       'bill', 'billion', 'bios', 'bit', 'bits', 'bj', 'block', 'blood',\n",
       "       'blues', 'bmw', 'board', 'bonds', 'book', 'border', 'borders',\n",
       "       'bos', 'bosnia', 'bosnian', 'boston', 'brake', 'braves', 'brian',\n",
       "       'bruins', 'buf', 'buffalo', 'bullock', 'bus', 'cal', 'calgary',\n",
       "       'cancer', 'candida', 'canucks', 'caps', 'car', 'card', 'care',\n",
       "       'career', 'cars', 'catholic', 'centris', 'champs', 'char',\n",
       "       'chastity', 'chi', 'children', 'chip', 'chips', 'christ',\n",
       "       'christian', 'christianity', 'christians', 'christs', 'chronic',\n",
       "       'church', 'churches', 'cipher', 'circuit', 'circuits', 'citizens',\n",
       "       'civilians', 'claim', 'classified', 'clayton', 'clemens', 'clh',\n",
       "       'client', 'clients', 'clinical', 'clinton', 'clipper', 'closed',\n",
       "       'clutch', 'coach', 'code', 'color', 'colormap', 'com', 'come',\n",
       "       'comet', 'comics', 'communications', 'compound', 'computer',\n",
       "       'concealed', 'condition', 'congress', 'consent', 'constitution',\n",
       "       'contest', 'control', 'controller', 'conversations', 'conversion',\n",
       "       'convert', 'cor', 'countersteering', 'countries', 'country',\n",
       "       'court', 'cpu', 'cramer', 'crime', 'criminal', 'criminals',\n",
       "       'croats', 'crypto', 'cryptographic', 'cryptography',\n",
       "       'cryptosystem', 'cubs', 'cult', 'cup', 'cursor', 'cyprus', 'data',\n",
       "       'davidian', 'davidians', 'db', 'dcx', 'dead', 'dealer', 'death',\n",
       "       'deaths', 'decrypt', 'dee', 'defenseman', 'deficit', 'degrees',\n",
       "       'denning', 'des', 'det', 'detroit', 'devils', 'di', 'diet',\n",
       "       'directory', 'disease', 'diseases', 'disk', 'display', 'division',\n",
       "       'dma', 'doctor', 'doctors', 'doctrine', 'dod', 'dodgers', 'dog',\n",
       "       'dont', 'dos', 'draft', 'drive', 'driver', 'drivers', 'drives',\n",
       "       'driving', 'drug', 'drugs', 'duo', 'dx', 'dy', 'earth', 'earths',\n",
       "       'echo', 'economy', 'ed', 'edm', 'edmonton', 'eff', 'effects', 'ei',\n",
       "       'elohim', 'email', 'empire', 'encrypt', 'encrypted', 'encryption',\n",
       "       'enforcement', 'engine', 'engines', 'entries', 'entry', 'eofnotok',\n",
       "       'eq', 'ermeni', 'error', 'erzurum', 'escape', 'escrow', 'espn',\n",
       "       'eternal', 'ethnic', 'even', 'evidence', 'exist', 'existence',\n",
       "       'exists', 'exploration', 'export', 'exportlcsmitedu', 'expose',\n",
       "       'extermination', 'ey', 'fact', 'faith', 'fallacy', 'fan', 'fans',\n",
       "       'father', 'fb', 'fbi', 'federal', 'file', 'files', 'fire',\n",
       "       'firearm', 'firearms', 'first', 'flight', 'floppy', 'flyers',\n",
       "       'font', 'fonts', 'food', 'foods', 'force', 'forces', 'ford',\n",
       "       'foreign', 'format', 'formats', 'fpu', 'fq', 'ftp', 'fuhr', 'fz',\n",
       "       'gainey', 'game', 'games', 'gant', 'gas', 'gateway', 'gay', 'gaza',\n",
       "       'genocide', 'gerard', 'giants', 'gif', 'gilmour', 'gm', 'go',\n",
       "       'goal', 'goalie', 'goals', 'god', 'gods', 'going', 'gordon',\n",
       "       'gospel', 'government', 'grace', 'graphics', 'greece', 'greek',\n",
       "       'greeks', 'gregg', 'gretzky', 'ground', 'gun', 'guns', 'habs',\n",
       "       'handgun', 'handguns', 'har', 'hardware', 'hartford', 'hawks',\n",
       "       'health', 'heaven', 'hell', 'helmet', 'hendricks', 'henrik',\n",
       "       'henry', 'hes', 'hicnet', 'hirschbeck', 'history', 'hit', 'hitter',\n",
       "       'hitting', 'hiv', 'hockey', 'holocaust', 'holy', 'homeland',\n",
       "       'homicide', 'homicides', 'homosexual', 'homosexuality',\n",
       "       'homosexuals', 'honda', 'house', 'hst', 'hulk', 'human', 'ice',\n",
       "       'ide', 'iisi', 'image', 'images', 'independence', 'infection',\n",
       "       'infections', 'information', 'inhabitants', 'inning', 'innings',\n",
       "       'insurance', 'int', 'intellect', 'interface', 'interpretation',\n",
       "       'iran', 'irgun', 'irq', 'isa', 'islam', 'islamic', 'islanders',\n",
       "       'israel', 'israeli', 'israelis', 'israels', 'istanbul', 'jaeger',\n",
       "       'jagr', 'jake', 'jays', 'jehovah', 'jerusalem', 'jesus', 'jets',\n",
       "       'jew', 'jewish', 'jews', 'jfif', 'jobs', 'jon', 'jpeg', 'judas',\n",
       "       'jumper', 'jumpers', 'jupiter', 'jxp', 'kaldis', 'karabakh',\n",
       "       'karina', 'keith', 'kendig', 'kent', 'key', 'keys', 'kidney',\n",
       "       'kill', 'killed', 'killing', 'kilometers', 'kings', 'kinsey',\n",
       "       'kirlian', 'koresh', 'kratz', 'ksand', 'kurds', 'kuwait', 'la',\n",
       "       'land', 'last', 'launch', 'launched', 'law', 'laws', 'lc', 'lciii',\n",
       "       'leafs', 'league', 'lebanese', 'lebanon', 'leds', 'lemieux',\n",
       "       'liefeld', 'life', 'lindros', 'liver', 'livesey', 'livni', 'lopez',\n",
       "       'lord', 'louis', 'love', 'lunar', 'lyme', 'mac', 'macs', 'magi',\n",
       "       'malcolm', 'male', 'mamma', 'man', 'manager', 'many', 'mario',\n",
       "       'marriage', 'mars', 'mary', 'massacre', 'massacres', 'mathew',\n",
       "       'mattingly', 'maxaxaxaxaxaxaxaxaxaxaxaxaxaxax', 'mb', 'mbs',\n",
       "       'mcconkie', 'md', 'mean', 'meaning', 'medical', 'medicine', 'meg',\n",
       "       'melkonian', 'members', 'memory', 'men', 'message', 'mets', 'mf',\n",
       "       'mg', 'mh', 'mhz', 'mi', 'microsoft', 'miles', 'military',\n",
       "       'militia', 'million', 'min', 'mission', 'missions', 'mj', 'mk',\n",
       "       'ml', 'modem', 'mon', 'moncton', 'monitor', 'montreal', 'moon',\n",
       "       'moral', 'morality', 'mormon', 'morris', 'motherboard', 'motif',\n",
       "       'motorcycle', 'motto', 'mountain', 'mouse', 'mov', 'mozumder',\n",
       "       'mp', 'mph', 'mq', 'mr', 'ms', 'msg', 'mt', 'mu', 'murder',\n",
       "       'muslim', 'muslims', 'must', 'mustang', 'mv', 'mw', 'mx', 'myers',\n",
       "       'mz', 'nasa', 'national', 'nature', 'nazi', 'nazis', 'neighbors',\n",
       "       'newsletter', 'nhl', 'nj', 'nl', 'norris', 'nra', 'nsa', 'nt',\n",
       "       'nubus', 'null', 'nutrition', 'nyi', 'nyr', 'objective', 'obo',\n",
       "       'obp', 'observatory', 'occupation', 'occupied', 'odwyer', 'offer',\n",
       "       'ohanus', 'oil', 'oilers', 'olwm', 'oname', 'one', 'openwindows',\n",
       "       'orbit', 'orbital', 'orbiter', 'orbiting', 'os', 'ott', 'ottoman',\n",
       "       'output', 'overtime', 'package', 'pain', 'palestine',\n",
       "       'palestinian', 'palestinians', 'partners', 'party', 'passes',\n",
       "       'pat', 'patient', 'patients', 'paul', 'pauls', 'payload', 'pc',\n",
       "       'pds', 'peace', 'penalties', 'penalty', 'penguins', 'pens',\n",
       "       'people', 'period', 'person', 'pgp', 'phi', 'phigs', 'phill',\n",
       "       'phillies', 'phone', 'phones', 'physician', 'physicians', 'pin',\n",
       "       'pit', 'pitch', 'pitched', 'pitcher', 'pitchers', 'pitches',\n",
       "       'pitching', 'pittsburgh', 'pixmap', 'pl', 'plaintext', 'planet',\n",
       "       'planetary', 'planets', 'play', 'played', 'player', 'players',\n",
       "       'playing', 'playoff', 'playoffs', 'plo', 'pluto', 'point',\n",
       "       'police', 'policy', 'political', 'polygon', 'polygons', 'pope',\n",
       "       'population', 'port', 'postscript', 'potvin', 'powerbook', 'pp',\n",
       "       'prayer', 'president', 'press', 'price', 'printer', 'privacy',\n",
       "       'private', 'probe', 'probes', 'proceeded', 'processing',\n",
       "       'professor', 'program', 'programs', 'project', 'promiscuous',\n",
       "       'proposal', 'propulsion', 'protect', 'pt', 'pts', 'public', 'puck',\n",
       "       'qb', 'ql', 'qq', 'qs', 'quack', 'quadra', 'que', 'quebec',\n",
       "       'quicktime', 'quran', 'ra', 'racism', 'radar', 'ram', 'rangers',\n",
       "       'rayshade', 'rb', 'rbi', 'rear', 'reds', 'reform', 'refugees',\n",
       "       'religion', 'religions', 'religious', 'reno', 'republic',\n",
       "       'republicans', 'research', 'resource', 'resurrection',\n",
       "       'revelation', 'revolver', 'ride', 'rider', 'riders', 'riding',\n",
       "       'right', 'rights', 'ripem', 'rkba', 'roads', 'rocket', 'roger',\n",
       "       'romans', 'rsa', 'run', 'running', 'runs', 'rushdie', 'russia',\n",
       "       'russian', 'sabbath', 'sabres', 'sabretooth', 'safety', 'sahak',\n",
       "       'said', 'sale', 'salvation', 'satan', 'satellite', 'satellites',\n",
       "       'saturn', 'say', 'scheme', 'scicrypt', 'science', 'scispace',\n",
       "       'score', 'scored', 'scorer', 'scoring', 'screen', 'scripture',\n",
       "       'scriptures', 'scsi', 'sdpa', 'season', 'secret', 'secretary',\n",
       "       'secure', 'security', 'see', 'selanne', 'senate', 'serbs',\n",
       "       'serdar', 'serial', 'series', 'serve', 'server', 'session', 'set',\n",
       "       'sex', 'sexual', 'sgi', 'shall', 'shameful', 'sharks', 'shipping',\n",
       "       'sho', 'shot', 'shots', 'shuttle', 'siggraph', 'simm', 'simms',\n",
       "       'sin', 'sins', 'sj', 'skepticism', 'skipjack', 'sky', 'slave',\n",
       "       'society', 'soderstrom', 'software', 'solar', 'soldiers', 'son',\n",
       "       'soul', 'soviet', 'sox', 'space', 'spacecraft', 'speed', 'spencer',\n",
       "       'spiderman', 'spirit', 'spiritual', 'st', 'stanley', 'stars',\n",
       "       'started', 'state', 'statement', 'states', 'station', 'stats',\n",
       "       'stephanopoulos', 'sternlight', 'stimulus', 'stl', 'string',\n",
       "       'studies', 'study', 'sumgait', 'sun', 'sunos', 'surface',\n",
       "       'surgery', 'symptoms', 'syndrome', 'syria', 'system', 'tanks',\n",
       "       'tap', 'tartar', 'tartars', 'tarz', 'tax', 'taxes', 'team',\n",
       "       'teams', 'technology', 'tei', 'telescope', 'territories',\n",
       "       'territory', 'terrorism', 'testament', 'tf', 'thanks', 'theism',\n",
       "       'theists', 'therapy', 'things', 'think', 'thou', 'tiff', 'tires',\n",
       "       'titan', 'tm', 'today', 'toolkit', 'tor', 'toronto', 'toyota',\n",
       "       'tq', 'traded', 'treatment', 'troops', 'true', 'trust', 'truth',\n",
       "       'turk', 'turkey', 'turkish', 'turks', 'tw', 'ulf', 'um', 'un',\n",
       "       'united', 'universe', 'unix', 'unto', 'us', 'use', 'user', 'using',\n",
       "       'usrlibx', 'uunetpyramidoptilinkcramer', 'uw', 'van', 'vancouver',\n",
       "       'vat', 'vc', 'venus', 'verse', 'verses', 'version', 'vg', 'video',\n",
       "       'viewer', 'village', 'villages', 'visual', 'visualization',\n",
       "       'vitamin', 'vlb', 'voltage', 'vq', 'vram', 'vs', 'vz', 'waco',\n",
       "       'war', 'warrant', 'water', 'weapon', 'weapons', 'weiss', 'went',\n",
       "       'wheel', 'widget', 'widgets', 'win', 'window', 'windows',\n",
       "       'winfield', 'wings', 'winnipeg', 'wire', 'wiretap', 'wiretaps',\n",
       "       'wiring', 'wolverine', 'women', 'word', 'words', 'world',\n",
       "       'worship', 'would', 'wounded', 'writes', 'wt', 'ww', 'www', 'xdm',\n",
       "       'xforce', 'xlib', 'xsoviet', 'xt', 'xterm', 'xv', 'xview',\n",
       "       'yamaha', 'yankees', 'yassin', 'year', 'years', 'yeast', 'zd',\n",
       "       'zionism', 'zionist'], dtype='<U208')"
      ]
     },
     "execution_count": 12,
     "metadata": {},
     "output_type": "execute_result"
    }
   ],
   "source": [
    "sw"
   ]
  },
  {
   "cell_type": "code",
   "execution_count": 13,
   "id": "69219007",
   "metadata": {},
   "outputs": [],
   "source": [
    "# 모든 프로젝트에 해당되는 패키지를 먼저 임포트\n",
    "from tensorflow.keras.datasets import reuters\n",
    "import matplotlib.pyplot as plt\n",
    "import seaborn as sns\n",
    "import numpy as np\n",
    "import pandas as pd\n",
    "\n",
    "from sklearn.feature_extraction.text import CountVectorizer\n",
    "from sklearn.feature_extraction.text import TfidfTransformer\n",
    "\n",
    "from sklearn.naive_bayes import MultinomialNB #다항분포 나이브 베이즈 모델\n",
    "from sklearn.linear_model import LogisticRegression, SGDClassifier\n",
    "from sklearn.naive_bayes import ComplementNB\n",
    "from sklearn.tree import DecisionTreeClassifier\n",
    "from sklearn.ensemble import RandomForestClassifier\n",
    "from sklearn.ensemble import GradientBoostingClassifier\n",
    "from sklearn.ensemble import VotingClassifier\n",
    "from sklearn.svm import LinearSVC\n",
    "from sklearn.metrics import accuracy_score #정확도 계산\n",
    "from sklearn.metrics import classification_report\n",
    "from sklearn.metrics import confusion_matrix"
   ]
  },
  {
   "cell_type": "code",
   "execution_count": 14,
   "id": "2a0d0336",
   "metadata": {},
   "outputs": [],
   "source": [
    "#훈련데이터에서 선별한 1000개 단어 이외 단어는 <ukn>으로 변경\n",
    "train_transe=[]\n",
    "for i in range(len(x_train)):\n",
    "    a=x_train[i].split()\n",
    "    for j in range(len(a)):\n",
    "        if a[j] not in sw:\n",
    "            a[j] = '<ukn>'\n",
    "    train_transe.append(' '.join(a))"
   ]
  },
  {
   "cell_type": "code",
   "execution_count": 15,
   "id": "89ecc38c",
   "metadata": {},
   "outputs": [],
   "source": [
    "#테스트데이터에서 선별한 1000개 단어 이외 단어는 <ukn>으로 변경\n",
    "test_transe=[]\n",
    "for i in range(len(x_test)):\n",
    "    a=x_test[i].split()\n",
    "    for j in range(len(a)):\n",
    "        if a[j] not in sw:\n",
    "            a[j] = '<ukn>'\n",
    "    test_transe.append(' '.join(a))"
   ]
  },
  {
   "cell_type": "code",
   "execution_count": 16,
   "id": "371a8921",
   "metadata": {},
   "outputs": [],
   "source": [
    "# DTM 확인\n",
    "dtmvector = CountVectorizer()\n",
    "x_train_dtm = dtmvector.fit_transform(train_transe)\n",
    "# print(x_train.shape)\n",
    "\n",
    "# 테스트데이터\n",
    "x_test_dtm = dtmvector.transform(test_transe) #테스트 데이터를 DTM으로 변환"
   ]
  },
  {
   "cell_type": "code",
   "execution_count": 17,
   "id": "87a85698",
   "metadata": {},
   "outputs": [
    {
     "name": "stdout",
     "output_type": "stream",
     "text": [
      "(15062, 1001)\n"
     ]
    }
   ],
   "source": [
    "# TF-IDF Matrix확인\n",
    "tfidf_transformer = TfidfTransformer()\n",
    "tfidfv = tfidf_transformer.fit_transform(x_train_dtm)\n",
    "print(tfidfv.shape)\n",
    "\n",
    "# 테스트데이터\n",
    "tfidfv_test = tfidf_transformer.transform(x_test_dtm) #DTM을 TF-IDF 행렬로 변환"
   ]
  },
  {
   "cell_type": "code",
   "execution_count": 18,
   "id": "48b094bc",
   "metadata": {
    "scrolled": true
   },
   "outputs": [
    {
     "name": "stdout",
     "output_type": "stream",
     "text": [
      "정확도: 0.7142857142857143\n"
     ]
    },
    {
     "name": "stderr",
     "output_type": "stream",
     "text": [
      "C:\\Users\\user\\anaconda3\\lib\\site-packages\\sklearn\\svm\\_base.py:1225: ConvergenceWarning: Liblinear failed to converge, increase the number of iterations.\n",
      "  warnings.warn(\n"
     ]
    }
   ],
   "source": [
    "lsvc = LinearSVC(C=1000, penalty='l1', max_iter=500, dual=False)\n",
    "lsvc.fit(tfidfv, y_train)\n",
    "\n",
    "predicted = lsvc.predict(tfidfv_test) #테스트 데이터에 대한 예측\n",
    "print(\"정확도:\", accuracy_score(y_test, predicted)) #예측값과 실제값 비교"
   ]
  },
  {
   "cell_type": "code",
   "execution_count": 19,
   "id": "5c78e4aa",
   "metadata": {},
   "outputs": [
    {
     "name": "stdout",
     "output_type": "stream",
     "text": [
      "정확도: 0.7145512480084971\n"
     ]
    }
   ],
   "source": [
    "mod = MultinomialNB()\n",
    "mod.fit(tfidfv, y_train)\n",
    "\n",
    "predicted = mod.predict(tfidfv_test) #테스트 데이터에 대한 예측\n",
    "print(\"정확도:\", accuracy_score(y_test, predicted)) #예측값과 실제값 비교"
   ]
  },
  {
   "cell_type": "code",
   "execution_count": 20,
   "id": "e8b2ee19",
   "metadata": {},
   "outputs": [
    {
     "name": "stdout",
     "output_type": "stream",
     "text": [
      "정확도: 0.7357939458311206\n"
     ]
    },
    {
     "name": "stderr",
     "output_type": "stream",
     "text": [
      "C:\\Users\\user\\anaconda3\\lib\\site-packages\\sklearn\\linear_model\\_logistic.py:444: ConvergenceWarning: lbfgs failed to converge (status=1):\n",
      "STOP: TOTAL NO. of ITERATIONS REACHED LIMIT.\n",
      "\n",
      "Increase the number of iterations (max_iter) or scale the data as shown in:\n",
      "    https://scikit-learn.org/stable/modules/preprocessing.html\n",
      "Please also refer to the documentation for alternative solver options:\n",
      "    https://scikit-learn.org/stable/modules/linear_model.html#logistic-regression\n",
      "  n_iter_i = _check_optimize_result(\n"
     ]
    }
   ],
   "source": [
    "lr = LogisticRegression(C=10000, penalty='l2')\n",
    "lr.fit(tfidfv, y_train)\n",
    "\n",
    "predicted = lr.predict(tfidfv_test) #테스트 데이터에 대한 예측\n",
    "print(\"정확도:\", accuracy_score(y_test, predicted)) #예측값과 실제값 비교"
   ]
  },
  {
   "cell_type": "code",
   "execution_count": null,
   "id": "a8fb36a8",
   "metadata": {},
   "outputs": [],
   "source": []
  },
  {
   "cell_type": "code",
   "execution_count": null,
   "id": "31ca8809",
   "metadata": {},
   "outputs": [],
   "source": []
  },
  {
   "cell_type": "code",
   "execution_count": null,
   "id": "a798c4b7",
   "metadata": {},
   "outputs": [],
   "source": []
  },
  {
   "cell_type": "code",
   "execution_count": null,
   "id": "b2ca1bd2",
   "metadata": {},
   "outputs": [],
   "source": []
  }
 ],
 "metadata": {
  "kernelspec": {
   "display_name": "Python 3 (ipykernel)",
   "language": "python",
   "name": "python3"
  },
  "language_info": {
   "codemirror_mode": {
    "name": "ipython",
    "version": 3
   },
   "file_extension": ".py",
   "mimetype": "text/x-python",
   "name": "python",
   "nbconvert_exporter": "python",
   "pygments_lexer": "ipython3",
   "version": "3.9.12"
  }
 },
 "nbformat": 4,
 "nbformat_minor": 5
}
