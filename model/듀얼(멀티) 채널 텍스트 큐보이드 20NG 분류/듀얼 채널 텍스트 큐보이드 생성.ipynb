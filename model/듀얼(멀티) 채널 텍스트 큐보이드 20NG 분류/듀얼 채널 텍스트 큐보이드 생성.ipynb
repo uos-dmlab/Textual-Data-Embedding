{
 "cells": [
  {
   "cell_type": "code",
   "execution_count": 1,
   "id": "79aad6cb",
   "metadata": {},
   "outputs": [],
   "source": [
    "import matplotlib.pyplot as plt\n",
    "import numpy as np\n",
    "import pandas as pd\n",
    "import tensorflow as tf\n",
    "\n",
    "from sklearn.metrics import precision_score, recall_score, f1_score\n",
    "from sklearn.model_selection import train_test_split\n",
    "from sklearn.preprocessing import LabelEncoder"
   ]
  },
  {
   "cell_type": "code",
   "execution_count": 2,
   "id": "805d7609",
   "metadata": {},
   "outputs": [],
   "source": [
    "df_newsgroup = pd.read_csv('C:/Users/user/Desktop/bilm-tf-master/20news_dataset_clear/20newsgroup_preprocessed.csv', sep=';', usecols=['target', 'text_cleaned'])\n",
    "df_newsgroup.rename(columns={'text_cleaned' : 'text'}, inplace=True)"
   ]
  },
  {
   "cell_type": "code",
   "execution_count": 3,
   "id": "8a7236b0",
   "metadata": {},
   "outputs": [
    {
     "data": {
      "text/html": [
       "<style>#sk-container-id-1 {color: black;background-color: white;}#sk-container-id-1 pre{padding: 0;}#sk-container-id-1 div.sk-toggleable {background-color: white;}#sk-container-id-1 label.sk-toggleable__label {cursor: pointer;display: block;width: 100%;margin-bottom: 0;padding: 0.3em;box-sizing: border-box;text-align: center;}#sk-container-id-1 label.sk-toggleable__label-arrow:before {content: \"▸\";float: left;margin-right: 0.25em;color: #696969;}#sk-container-id-1 label.sk-toggleable__label-arrow:hover:before {color: black;}#sk-container-id-1 div.sk-estimator:hover label.sk-toggleable__label-arrow:before {color: black;}#sk-container-id-1 div.sk-toggleable__content {max-height: 0;max-width: 0;overflow: hidden;text-align: left;background-color: #f0f8ff;}#sk-container-id-1 div.sk-toggleable__content pre {margin: 0.2em;color: black;border-radius: 0.25em;background-color: #f0f8ff;}#sk-container-id-1 input.sk-toggleable__control:checked~div.sk-toggleable__content {max-height: 200px;max-width: 100%;overflow: auto;}#sk-container-id-1 input.sk-toggleable__control:checked~label.sk-toggleable__label-arrow:before {content: \"▾\";}#sk-container-id-1 div.sk-estimator input.sk-toggleable__control:checked~label.sk-toggleable__label {background-color: #d4ebff;}#sk-container-id-1 div.sk-label input.sk-toggleable__control:checked~label.sk-toggleable__label {background-color: #d4ebff;}#sk-container-id-1 input.sk-hidden--visually {border: 0;clip: rect(1px 1px 1px 1px);clip: rect(1px, 1px, 1px, 1px);height: 1px;margin: -1px;overflow: hidden;padding: 0;position: absolute;width: 1px;}#sk-container-id-1 div.sk-estimator {font-family: monospace;background-color: #f0f8ff;border: 1px dotted black;border-radius: 0.25em;box-sizing: border-box;margin-bottom: 0.5em;}#sk-container-id-1 div.sk-estimator:hover {background-color: #d4ebff;}#sk-container-id-1 div.sk-parallel-item::after {content: \"\";width: 100%;border-bottom: 1px solid gray;flex-grow: 1;}#sk-container-id-1 div.sk-label:hover label.sk-toggleable__label {background-color: #d4ebff;}#sk-container-id-1 div.sk-serial::before {content: \"\";position: absolute;border-left: 1px solid gray;box-sizing: border-box;top: 0;bottom: 0;left: 50%;z-index: 0;}#sk-container-id-1 div.sk-serial {display: flex;flex-direction: column;align-items: center;background-color: white;padding-right: 0.2em;padding-left: 0.2em;position: relative;}#sk-container-id-1 div.sk-item {position: relative;z-index: 1;}#sk-container-id-1 div.sk-parallel {display: flex;align-items: stretch;justify-content: center;background-color: white;position: relative;}#sk-container-id-1 div.sk-item::before, #sk-container-id-1 div.sk-parallel-item::before {content: \"\";position: absolute;border-left: 1px solid gray;box-sizing: border-box;top: 0;bottom: 0;left: 50%;z-index: -1;}#sk-container-id-1 div.sk-parallel-item {display: flex;flex-direction: column;z-index: 1;position: relative;background-color: white;}#sk-container-id-1 div.sk-parallel-item:first-child::after {align-self: flex-end;width: 50%;}#sk-container-id-1 div.sk-parallel-item:last-child::after {align-self: flex-start;width: 50%;}#sk-container-id-1 div.sk-parallel-item:only-child::after {width: 0;}#sk-container-id-1 div.sk-dashed-wrapped {border: 1px dashed gray;margin: 0 0.4em 0.5em 0.4em;box-sizing: border-box;padding-bottom: 0.4em;background-color: white;}#sk-container-id-1 div.sk-label label {font-family: monospace;font-weight: bold;display: inline-block;line-height: 1.2em;}#sk-container-id-1 div.sk-label-container {text-align: center;}#sk-container-id-1 div.sk-container {/* jupyter's `normalize.less` sets `[hidden] { display: none; }` but bootstrap.min.css set `[hidden] { display: none !important; }` so we also need the `!important` here to be able to override the default hidden behavior on the sphinx rendered scikit-learn.org. See: https://github.com/scikit-learn/scikit-learn/issues/21755 */display: inline-block !important;position: relative;}#sk-container-id-1 div.sk-text-repr-fallback {display: none;}</style><div id=\"sk-container-id-1\" class=\"sk-top-container\"><div class=\"sk-text-repr-fallback\"><pre>LabelEncoder()</pre><b>In a Jupyter environment, please rerun this cell to show the HTML representation or trust the notebook. <br />On GitHub, the HTML representation is unable to render, please try loading this page with nbviewer.org.</b></div><div class=\"sk-container\" hidden><div class=\"sk-item\"><div class=\"sk-estimator sk-toggleable\"><input class=\"sk-toggleable__control sk-hidden--visually\" id=\"sk-estimator-id-1\" type=\"checkbox\" checked><label for=\"sk-estimator-id-1\" class=\"sk-toggleable__label sk-toggleable__label-arrow\">LabelEncoder</label><div class=\"sk-toggleable__content\"><pre>LabelEncoder()</pre></div></div></div></div></div>"
      ],
      "text/plain": [
       "LabelEncoder()"
      ]
     },
     "execution_count": 3,
     "metadata": {},
     "output_type": "execute_result"
    }
   ],
   "source": [
    "le = LabelEncoder()\n",
    "le.fit(df_newsgroup['target'].unique())"
   ]
  },
  {
   "cell_type": "code",
   "execution_count": 4,
   "id": "5a546563",
   "metadata": {},
   "outputs": [],
   "source": [
    "df_newsgroup['target'] = le.transform(df_newsgroup['target'])"
   ]
  },
  {
   "cell_type": "code",
   "execution_count": 5,
   "id": "b1fcb33b",
   "metadata": {},
   "outputs": [],
   "source": [
    "X = df_newsgroup['text'].astype(str)\n",
    "# y = tf.keras.utils.to_categorical(df_newsgroup['target'], num_classes=df_newsgroup['target'].nunique())\n",
    "y=list(df_newsgroup['target'])\n",
    "X_train, X_test, y_train, y_test = train_test_split(X, y, test_size=0.2, random_state=42, stratify=df_newsgroup['target'])"
   ]
  },
  {
   "cell_type": "code",
   "execution_count": 6,
   "id": "494e3e70",
   "metadata": {},
   "outputs": [],
   "source": [
    "x_train=list(X_train)\n",
    "x_test=list(X_test)"
   ]
  },
  {
   "cell_type": "code",
   "execution_count": 7,
   "id": "579fe040",
   "metadata": {},
   "outputs": [],
   "source": [
    "import re\n",
    "pattern = '[^a-z.0-9 ]'\n",
    "clr_x_trian=[]\n",
    "clr_x_test=[]\n",
    "for sen in x_train:\n",
    "    clr_x_trian.append(re.sub(pattern, '', sen))\n",
    "for sen in x_test:\n",
    "    clr_x_test.append(re.sub(pattern, '', sen))"
   ]
  },
  {
   "cell_type": "code",
   "execution_count": 8,
   "id": "baa76953",
   "metadata": {},
   "outputs": [],
   "source": [
    "x_train=clr_x_trian\n",
    "x_test=clr_x_test"
   ]
  },
  {
   "cell_type": "code",
   "execution_count": 9,
   "id": "628532e6",
   "metadata": {},
   "outputs": [],
   "source": [
    "to_txt_filter=x_train+x_test"
   ]
  },
  {
   "cell_type": "code",
   "execution_count": 10,
   "id": "4c1ae3f7",
   "metadata": {},
   "outputs": [],
   "source": [
    "y=list(y_train)+list(y_test)"
   ]
  },
  {
   "cell_type": "code",
   "execution_count": 11,
   "id": "db7a05cc",
   "metadata": {},
   "outputs": [
    {
     "name": "stderr",
     "output_type": "stream",
     "text": [
      "C:\\Users\\user\\anaconda3\\lib\\site-packages\\sklearn\\utils\\deprecation.py:87: FutureWarning: Function get_feature_names is deprecated; get_feature_names is deprecated in 1.0 and will be removed in 1.2. Please use get_feature_names_out instead.\n",
      "  warnings.warn(msg, category=FutureWarning)\n"
     ]
    }
   ],
   "source": [
    "from sklearn.feature_selection import SelectKBest\n",
    "from sklearn.feature_selection import chi2\n",
    "from sklearn.feature_extraction.text import CountVectorizer\n",
    "vect = CountVectorizer()\n",
    "X_dtm = vect.fit_transform(to_txt_filter)\n",
    "X_dtm = X_dtm.toarray()\n",
    "X_new = SelectKBest(chi2, k=1000).fit(X_dtm, y)\n",
    "TorF = X_new.get_support()\n",
    "TorF\n",
    "import numpy as np\n",
    "word_view=np.array(vect.get_feature_names())\n",
    "sw=word_view[TorF]"
   ]
  },
  {
   "cell_type": "code",
   "execution_count": 12,
   "id": "2ec3d66a",
   "metadata": {},
   "outputs": [
    {
     "data": {
      "text/plain": [
       "array(['accept', 'access', 'acts', 'adaptec', 'adirondack', 'adl',\n",
       "       'administration', 'agencies', 'agents', 'ahl', 'aids', 'algorithm',\n",
       "       'alink', 'allergic', 'alomar', 'altatheism', 'ama', 'amendment',\n",
       "       'american', 'amp', 'anatolia', 'andi', 'animation', 'ankara',\n",
       "       'anonymity', 'anonymous', 'apartment', 'apostles', 'apple',\n",
       "       'application', 'applications', 'appressian', 'apps', 'arab',\n",
       "       'arabs', 'argic', 'argument', 'armed', 'armenia', 'armenian',\n",
       "       'armenians', 'arms', 'army', 'article', 'asking', 'assault',\n",
       "       'astronomy', 'atf', 'atheism', 'atheist', 'atheists', 'atmosphere',\n",
       "       'attack', 'attacks', 'attorney', 'authority', 'auto', 'available',\n",
       "       'ax', 'axaxax', 'azerbaijan', 'azerbaijani', 'azerbaijanis',\n",
       "       'azeri', 'azeris', 'bagged', 'baku', 'balcony', 'ball', 'banks',\n",
       "       'baptism', 'baseball', 'batf', 'batter', 'batters', 'battery',\n",
       "       'batting', 'bds', 'beauchaine', 'belief', 'beliefs', 'believe',\n",
       "       'benedikt', 'beyer', 'bible', 'biblical', 'bike', 'biker', 'bikes',\n",
       "       'bill', 'billion', 'bios', 'bit', 'bits', 'bj', 'block', 'blood',\n",
       "       'blues', 'bmw', 'board', 'bonds', 'book', 'border', 'borders',\n",
       "       'bos', 'bosnia', 'bosnian', 'boston', 'brake', 'braves', 'brian',\n",
       "       'bruins', 'buf', 'buffalo', 'bullock', 'bus', 'cal', 'calgary',\n",
       "       'cancer', 'candida', 'canucks', 'caps', 'car', 'card', 'care',\n",
       "       'career', 'cars', 'catholic', 'centris', 'champs', 'char',\n",
       "       'chastity', 'chi', 'children', 'chip', 'chips', 'christ',\n",
       "       'christian', 'christianity', 'christians', 'christs', 'chronic',\n",
       "       'church', 'churches', 'cipher', 'circuit', 'circuits', 'citizens',\n",
       "       'civilians', 'claim', 'classified', 'clayton', 'clemens', 'clh',\n",
       "       'client', 'clients', 'clinical', 'clinton', 'clipper', 'closed',\n",
       "       'clutch', 'coach', 'code', 'color', 'colormap', 'com', 'come',\n",
       "       'comet', 'comics', 'communications', 'compound', 'computer',\n",
       "       'concealed', 'condition', 'congress', 'consent', 'constitution',\n",
       "       'contest', 'control', 'controller', 'conversations', 'conversion',\n",
       "       'convert', 'cor', 'countersteering', 'countries', 'country',\n",
       "       'court', 'cpu', 'cramer', 'crime', 'criminal', 'criminals',\n",
       "       'croats', 'crypto', 'cryptographic', 'cryptography',\n",
       "       'cryptosystem', 'cubs', 'cult', 'cup', 'cursor', 'cyprus', 'data',\n",
       "       'davidian', 'davidians', 'db', 'dcx', 'dead', 'dealer', 'death',\n",
       "       'deaths', 'decrypt', 'dee', 'defenseman', 'deficit', 'degrees',\n",
       "       'denning', 'des', 'det', 'detroit', 'devils', 'di', 'diet',\n",
       "       'directory', 'disease', 'diseases', 'disk', 'display', 'division',\n",
       "       'dma', 'doctor', 'doctors', 'doctrine', 'dod', 'dodgers', 'dog',\n",
       "       'dont', 'dos', 'draft', 'drive', 'driver', 'drivers', 'drives',\n",
       "       'driving', 'drug', 'drugs', 'duo', 'dx', 'dy', 'earth', 'earths',\n",
       "       'echo', 'economy', 'ed', 'edm', 'edmonton', 'eff', 'effects', 'ei',\n",
       "       'elohim', 'email', 'empire', 'encrypt', 'encrypted', 'encryption',\n",
       "       'enforcement', 'engine', 'engines', 'entries', 'entry', 'eofnotok',\n",
       "       'eq', 'ermeni', 'error', 'erzurum', 'escape', 'escrow', 'espn',\n",
       "       'eternal', 'ethnic', 'even', 'evidence', 'exist', 'existence',\n",
       "       'exists', 'exploration', 'export', 'exportlcsmitedu', 'expose',\n",
       "       'extermination', 'ey', 'fact', 'faith', 'fallacy', 'fan', 'fans',\n",
       "       'father', 'fb', 'fbi', 'federal', 'file', 'files', 'fire',\n",
       "       'firearm', 'firearms', 'first', 'flight', 'floppy', 'flyers',\n",
       "       'font', 'fonts', 'food', 'foods', 'force', 'forces', 'ford',\n",
       "       'foreign', 'format', 'formats', 'fpu', 'fq', 'ftp', 'fuhr', 'fz',\n",
       "       'gainey', 'game', 'games', 'gant', 'gas', 'gateway', 'gay', 'gaza',\n",
       "       'genocide', 'gerard', 'giants', 'gif', 'gilmour', 'gm', 'go',\n",
       "       'goal', 'goalie', 'goals', 'god', 'gods', 'going', 'gordon',\n",
       "       'gospel', 'government', 'grace', 'graphics', 'greece', 'greek',\n",
       "       'greeks', 'gregg', 'gretzky', 'ground', 'gun', 'guns', 'habs',\n",
       "       'handgun', 'handguns', 'har', 'hardware', 'hartford', 'hawks',\n",
       "       'health', 'heaven', 'hell', 'helmet', 'hendricks', 'henrik',\n",
       "       'henry', 'hes', 'hicnet', 'hirschbeck', 'history', 'hit', 'hitter',\n",
       "       'hitting', 'hiv', 'hockey', 'holocaust', 'holy', 'homeland',\n",
       "       'homicide', 'homicides', 'homosexual', 'homosexuality',\n",
       "       'homosexuals', 'honda', 'house', 'hst', 'hulk', 'human', 'ice',\n",
       "       'ide', 'iisi', 'image', 'images', 'independence', 'infection',\n",
       "       'infections', 'information', 'inhabitants', 'inning', 'innings',\n",
       "       'insurance', 'int', 'intellect', 'interface', 'interpretation',\n",
       "       'iran', 'irgun', 'irq', 'isa', 'islam', 'islamic', 'islanders',\n",
       "       'israel', 'israeli', 'israelis', 'israels', 'istanbul', 'jaeger',\n",
       "       'jagr', 'jake', 'jays', 'jehovah', 'jerusalem', 'jesus', 'jets',\n",
       "       'jew', 'jewish', 'jews', 'jfif', 'jobs', 'jon', 'jpeg', 'judas',\n",
       "       'jumper', 'jumpers', 'jupiter', 'jxp', 'kaldis', 'karabakh',\n",
       "       'karina', 'keith', 'kendig', 'kent', 'key', 'keys', 'kidney',\n",
       "       'kill', 'killed', 'killing', 'kilometers', 'kings', 'kinsey',\n",
       "       'kirlian', 'koresh', 'kratz', 'ksand', 'kurds', 'kuwait', 'la',\n",
       "       'land', 'last', 'launch', 'launched', 'law', 'laws', 'lc', 'lciii',\n",
       "       'leafs', 'league', 'lebanese', 'lebanon', 'leds', 'lemieux',\n",
       "       'liefeld', 'life', 'lindros', 'liver', 'livesey', 'livni', 'lopez',\n",
       "       'lord', 'louis', 'love', 'lunar', 'lyme', 'mac', 'macs', 'magi',\n",
       "       'malcolm', 'male', 'mamma', 'man', 'manager', 'many', 'mario',\n",
       "       'marriage', 'mars', 'mary', 'massacre', 'massacres', 'mathew',\n",
       "       'mattingly', 'maxaxaxaxaxaxaxaxaxaxaxaxaxaxax', 'mb', 'mbs',\n",
       "       'mcconkie', 'md', 'mean', 'meaning', 'medical', 'medicine', 'meg',\n",
       "       'melkonian', 'members', 'memory', 'men', 'message', 'mets', 'mf',\n",
       "       'mg', 'mh', 'mhz', 'mi', 'microsoft', 'miles', 'military',\n",
       "       'militia', 'million', 'min', 'mission', 'missions', 'mj', 'mk',\n",
       "       'ml', 'modem', 'mon', 'moncton', 'monitor', 'montreal', 'moon',\n",
       "       'moral', 'morality', 'mormon', 'morris', 'motherboard', 'motif',\n",
       "       'motorcycle', 'motto', 'mountain', 'mouse', 'mov', 'mozumder',\n",
       "       'mp', 'mph', 'mq', 'mr', 'ms', 'msg', 'mt', 'mu', 'murder',\n",
       "       'muslim', 'muslims', 'must', 'mustang', 'mv', 'mw', 'mx', 'myers',\n",
       "       'mz', 'nasa', 'national', 'nature', 'nazi', 'nazis', 'neighbors',\n",
       "       'newsletter', 'nhl', 'nj', 'nl', 'norris', 'nra', 'nsa', 'nt',\n",
       "       'nubus', 'null', 'nutrition', 'nyi', 'nyr', 'objective', 'obo',\n",
       "       'obp', 'observatory', 'occupation', 'occupied', 'odwyer', 'offer',\n",
       "       'ohanus', 'oil', 'oilers', 'olwm', 'oname', 'one', 'openwindows',\n",
       "       'orbit', 'orbital', 'orbiter', 'orbiting', 'os', 'ott', 'ottoman',\n",
       "       'output', 'overtime', 'package', 'pain', 'palestine',\n",
       "       'palestinian', 'palestinians', 'partners', 'party', 'passes',\n",
       "       'pat', 'patient', 'patients', 'paul', 'pauls', 'payload', 'pc',\n",
       "       'pds', 'peace', 'penalties', 'penalty', 'penguins', 'pens',\n",
       "       'people', 'period', 'person', 'pgp', 'phi', 'phigs', 'phill',\n",
       "       'phillies', 'phone', 'phones', 'physician', 'physicians', 'pin',\n",
       "       'pit', 'pitch', 'pitched', 'pitcher', 'pitchers', 'pitches',\n",
       "       'pitching', 'pittsburgh', 'pixmap', 'pl', 'plaintext', 'planet',\n",
       "       'planetary', 'planets', 'play', 'played', 'player', 'players',\n",
       "       'playing', 'playoff', 'playoffs', 'plo', 'pluto', 'point',\n",
       "       'police', 'policy', 'political', 'polygon', 'polygons', 'pope',\n",
       "       'population', 'port', 'postscript', 'potvin', 'powerbook', 'pp',\n",
       "       'prayer', 'president', 'press', 'price', 'printer', 'privacy',\n",
       "       'private', 'probe', 'probes', 'proceeded', 'processing',\n",
       "       'professor', 'program', 'programs', 'project', 'promiscuous',\n",
       "       'proposal', 'propulsion', 'protect', 'pt', 'pts', 'public', 'puck',\n",
       "       'qb', 'ql', 'qq', 'qs', 'quack', 'quadra', 'que', 'quebec',\n",
       "       'quicktime', 'quran', 'ra', 'racism', 'radar', 'ram', 'rangers',\n",
       "       'rayshade', 'rb', 'rbi', 'rear', 'reds', 'reform', 'refugees',\n",
       "       'religion', 'religions', 'religious', 'reno', 'republic',\n",
       "       'republicans', 'research', 'resource', 'resurrection',\n",
       "       'revelation', 'revolver', 'ride', 'rider', 'riders', 'riding',\n",
       "       'right', 'rights', 'ripem', 'rkba', 'roads', 'rocket', 'roger',\n",
       "       'romans', 'rsa', 'run', 'running', 'runs', 'rushdie', 'russia',\n",
       "       'russian', 'sabbath', 'sabres', 'sabretooth', 'safety', 'sahak',\n",
       "       'said', 'sale', 'salvation', 'satan', 'satellite', 'satellites',\n",
       "       'saturn', 'say', 'scheme', 'scicrypt', 'science', 'scispace',\n",
       "       'score', 'scored', 'scorer', 'scoring', 'screen', 'scripture',\n",
       "       'scriptures', 'scsi', 'sdpa', 'season', 'secret', 'secretary',\n",
       "       'secure', 'security', 'see', 'selanne', 'senate', 'serbs',\n",
       "       'serdar', 'serial', 'series', 'serve', 'server', 'session', 'set',\n",
       "       'sex', 'sexual', 'sgi', 'shall', 'shameful', 'sharks', 'shipping',\n",
       "       'sho', 'shot', 'shots', 'shuttle', 'siggraph', 'simm', 'simms',\n",
       "       'sin', 'sins', 'sj', 'skepticism', 'skipjack', 'sky', 'slave',\n",
       "       'society', 'soderstrom', 'software', 'solar', 'soldiers', 'son',\n",
       "       'soul', 'soviet', 'sox', 'space', 'spacecraft', 'speed', 'spencer',\n",
       "       'spiderman', 'spirit', 'spiritual', 'st', 'stanley', 'stars',\n",
       "       'started', 'state', 'statement', 'states', 'station', 'stats',\n",
       "       'stephanopoulos', 'sternlight', 'stimulus', 'stl', 'string',\n",
       "       'studies', 'study', 'sumgait', 'sun', 'sunos', 'surface',\n",
       "       'surgery', 'symptoms', 'syndrome', 'syria', 'system', 'tanks',\n",
       "       'tap', 'tartar', 'tartars', 'tarz', 'tax', 'taxes', 'team',\n",
       "       'teams', 'technology', 'tei', 'telescope', 'territories',\n",
       "       'territory', 'terrorism', 'testament', 'tf', 'thanks', 'theism',\n",
       "       'theists', 'therapy', 'things', 'think', 'thou', 'tiff', 'tires',\n",
       "       'titan', 'tm', 'today', 'toolkit', 'tor', 'toronto', 'toyota',\n",
       "       'tq', 'traded', 'treatment', 'troops', 'true', 'trust', 'truth',\n",
       "       'turk', 'turkey', 'turkish', 'turks', 'tw', 'ulf', 'um', 'un',\n",
       "       'united', 'universe', 'unix', 'unto', 'us', 'use', 'user', 'using',\n",
       "       'usrlibx', 'uunetpyramidoptilinkcramer', 'uw', 'van', 'vancouver',\n",
       "       'vat', 'vc', 'venus', 'verse', 'verses', 'version', 'vg', 'video',\n",
       "       'viewer', 'village', 'villages', 'visual', 'visualization',\n",
       "       'vitamin', 'vlb', 'voltage', 'vq', 'vram', 'vs', 'vz', 'waco',\n",
       "       'war', 'warrant', 'water', 'weapon', 'weapons', 'weiss', 'went',\n",
       "       'wheel', 'widget', 'widgets', 'win', 'window', 'windows',\n",
       "       'winfield', 'wings', 'winnipeg', 'wire', 'wiretap', 'wiretaps',\n",
       "       'wiring', 'wolverine', 'women', 'word', 'words', 'world',\n",
       "       'worship', 'would', 'wounded', 'writes', 'wt', 'ww', 'www', 'xdm',\n",
       "       'xforce', 'xlib', 'xsoviet', 'xt', 'xterm', 'xv', 'xview',\n",
       "       'yamaha', 'yankees', 'yassin', 'year', 'years', 'yeast', 'zd',\n",
       "       'zionism', 'zionist'], dtype='<U208')"
      ]
     },
     "execution_count": 12,
     "metadata": {},
     "output_type": "execute_result"
    }
   ],
   "source": [
    "sw"
   ]
  },
  {
   "cell_type": "markdown",
   "id": "d14f26c7",
   "metadata": {},
   "source": [
    "듀얼채널 큐보이드 생성(hub+ng)"
   ]
  },
  {
   "cell_type": "code",
   "execution_count": 13,
   "id": "1e86f326",
   "metadata": {},
   "outputs": [],
   "source": [
    "sen_lst=[]\n",
    "for sentence in x_train:\n",
    "    sen_lst.append(sentence.split())"
   ]
  },
  {
   "cell_type": "code",
   "execution_count": 14,
   "id": "25c8617c",
   "metadata": {},
   "outputs": [],
   "source": [
    "#큐보이드\n",
    "for i in range(len(x_train)):\n",
    "    frame1=np.zeros((1000,1024))\n",
    "    frame2=np.zeros((1000,1024))\n",
    "    for j in range(1000):\n",
    "        if sw[j] in sen_lst[i]:\n",
    "            frame1[j]=np.load('C:/Users/user/Desktop/Textcuboid/20new_elmo_vetor/train/doc%d.npy'%i)[sen_lst[i].index(sw[j])]\n",
    "            frame2[j]=np.load('./embedding/train(20ng pro)/doc%d.npy'%i)[sen_lst[i].index(sw[j])]            \n",
    "    frame=np.stack((frame1,frame2),axis=0)\n",
    "    np.save('D:/textcuboid_20ng_dual/cuboid%d.npy'%i,frame)"
   ]
  },
  {
   "cell_type": "code",
   "execution_count": 19,
   "id": "53c89219",
   "metadata": {},
   "outputs": [],
   "source": [
    "sen_lst=[]\n",
    "for sentence in x_test:\n",
    "    sen_lst.append(sentence.split())"
   ]
  },
  {
   "cell_type": "code",
   "execution_count": 20,
   "id": "b637db12",
   "metadata": {},
   "outputs": [],
   "source": [
    "#테스트 큐보이드\n",
    "for i in range(len(x_test)):\n",
    "    frame1=np.zeros((1000,1024))\n",
    "    frame2=np.zeros((1000,1024))\n",
    "    for j in range(1000):\n",
    "        if sw[j] in sen_lst[i]:\n",
    "            frame1[j]=np.load('C:/Users/user/Desktop/Textcuboid/20new_elmo_vetor/test/test%d.npy'%i)[sen_lst[i].index(sw[j])]\n",
    "            frame2[j]=np.load('./embedding/test(20ng pro)/test%d.npy'%i)[sen_lst[i].index(sw[j])]\n",
    "    frame=np.stack((frame1,frame2),axis=0)\n",
    "    np.save('D:/textcuboid_20ng_dual_test/cuboid_test%d.npy'%i,frame)"
   ]
  },
  {
   "cell_type": "markdown",
   "id": "44dcdee1",
   "metadata": {},
   "source": [
    "듀얼채널 큐보이드 생성(ng+ag)"
   ]
  },
  {
   "cell_type": "code",
   "execution_count": 13,
   "id": "90cb63c7",
   "metadata": {},
   "outputs": [],
   "source": [
    "sen_lst=[]\n",
    "for sentence in x_train:\n",
    "    sen_lst.append(sentence.split())"
   ]
  },
  {
   "cell_type": "code",
   "execution_count": 16,
   "id": "71bf0f4c",
   "metadata": {},
   "outputs": [],
   "source": [
    "#큐보이드\n",
    "for i in range(len(x_train)):\n",
    "    frame1=np.zeros((1000,1024))\n",
    "    frame2=np.zeros((1000,1024))\n",
    "    for j in range(1000):\n",
    "        if sw[j] in sen_lst[i]:\n",
    "            frame1[j]=np.load('./embedding/train(ag)/doc%d.npy'%i)[sen_lst[i].index(sw[j])]\n",
    "            frame2[j]=np.load('./embedding/train(20ng pro)/doc%d.npy'%i)[sen_lst[i].index(sw[j])]            \n",
    "    frame=np.stack((frame1,frame2),axis=0)\n",
    "    np.save('D:/textcuboid_20ng_dual(ng+ag)/cuboid%d.npy'%i,frame)"
   ]
  },
  {
   "cell_type": "code",
   "execution_count": 17,
   "id": "1f7dfba5",
   "metadata": {},
   "outputs": [],
   "source": [
    "sen_lst=[]\n",
    "for sentence in x_test:\n",
    "    sen_lst.append(sentence.split())"
   ]
  },
  {
   "cell_type": "code",
   "execution_count": 18,
   "id": "0e564f33",
   "metadata": {},
   "outputs": [],
   "source": [
    "#테스트 큐보이드\n",
    "for i in range(len(x_test)):\n",
    "    frame1=np.zeros((1000,1024))\n",
    "    frame2=np.zeros((1000,1024))\n",
    "    for j in range(1000):\n",
    "        if sw[j] in sen_lst[i]:\n",
    "            frame1[j]=np.load('./embedding/test(ag)/test%d.npy'%i)[sen_lst[i].index(sw[j])]\n",
    "            frame2[j]=np.load('./embedding/test(20ng pro)/test%d.npy'%i)[sen_lst[i].index(sw[j])]\n",
    "    frame=np.stack((frame1,frame2),axis=0)\n",
    "    np.save('D:/textcuboid_20ng_dual_test(ng+ag)/cuboid_test%d.npy'%i,frame)"
   ]
  },
  {
   "cell_type": "markdown",
   "id": "9832a711",
   "metadata": {},
   "source": [
    "듀얼채널 큐보이드 생성(hub+ag)"
   ]
  },
  {
   "cell_type": "code",
   "execution_count": 13,
   "id": "5bb6d7da",
   "metadata": {},
   "outputs": [],
   "source": [
    "sen_lst=[]\n",
    "for sentence in x_train:\n",
    "    sen_lst.append(sentence.split())"
   ]
  },
  {
   "cell_type": "code",
   "execution_count": 15,
   "id": "0d53d4ca",
   "metadata": {},
   "outputs": [],
   "source": [
    "#큐보이드\n",
    "for i in range(len(x_train)):\n",
    "    frame1=np.zeros((1000,1024))\n",
    "    frame2=np.zeros((1000,1024))\n",
    "    for j in range(1000):\n",
    "        if sw[j] in sen_lst[i]:\n",
    "            frame1[j]=np.load('./embedding/train(ag)/doc%d.npy'%i)[sen_lst[i].index(sw[j])]\n",
    "            frame2[j]=np.load('C:/Users/user/Desktop/Textcuboid/20new_elmo_vetor/train/doc%d.npy'%i)[sen_lst[i].index(sw[j])]         \n",
    "    frame=np.stack((frame1,frame2),axis=0)\n",
    "    np.save('D:/textcuboid_20ng_dual(hub+ag)/cuboid%d.npy'%i,frame)"
   ]
  },
  {
   "cell_type": "code",
   "execution_count": 16,
   "id": "eb7436c4",
   "metadata": {},
   "outputs": [],
   "source": [
    "sen_lst=[]\n",
    "for sentence in x_test:\n",
    "    sen_lst.append(sentence.split())"
   ]
  },
  {
   "cell_type": "code",
   "execution_count": 17,
   "id": "33b7fe6c",
   "metadata": {},
   "outputs": [],
   "source": [
    "#테스트 큐보이드\n",
    "for i in range(len(x_test)):\n",
    "    frame1=np.zeros((1000,1024))\n",
    "    frame2=np.zeros((1000,1024))\n",
    "    for j in range(1000):\n",
    "        if sw[j] in sen_lst[i]:\n",
    "            frame1[j]=np.load('./embedding/test(ag)/test%d.npy'%i)[sen_lst[i].index(sw[j])]\n",
    "            frame2[j]=np.load('C:/Users/user/Desktop/Textcuboid/20new_elmo_vetor/test/test%d.npy'%i)[sen_lst[i].index(sw[j])]\n",
    "    frame=np.stack((frame1,frame2),axis=0)\n",
    "    np.save('D:/textcuboid_20ng_dual_test(hub+ag)/cuboid_test%d.npy'%i,frame)"
   ]
  },
  {
   "cell_type": "code",
   "execution_count": null,
   "id": "7f4edbc7",
   "metadata": {},
   "outputs": [],
   "source": []
  }
 ],
 "metadata": {
  "kernelspec": {
   "display_name": "Python 3 (ipykernel)",
   "language": "python",
   "name": "python3"
  },
  "language_info": {
   "codemirror_mode": {
    "name": "ipython",
    "version": 3
   },
   "file_extension": ".py",
   "mimetype": "text/x-python",
   "name": "python",
   "nbconvert_exporter": "python",
   "pygments_lexer": "ipython3",
   "version": "3.9.12"
  }
 },
 "nbformat": 4,
 "nbformat_minor": 5
}
