{
 "cells": [
  {
   "cell_type": "code",
   "execution_count": 88,
   "id": "a6e79e42",
   "metadata": {},
   "outputs": [],
   "source": [
    "#참고링크 https://github.com/allenai/bilm-tf\n",
    "#참고링크 https://appliedmachinelearning.wordpress.com/2019/11/30/training-elmo-from-scratch-on-custom-data-set-for-generating-embeddings-tensorflow/"
   ]
  },
  {
   "cell_type": "code",
   "execution_count": 16,
   "id": "68e0e1f9",
   "metadata": {},
   "outputs": [],
   "source": [
    "import matplotlib.pyplot as plt\n",
    "import numpy as np\n",
    "import pandas as pd\n",
    "import tensorflow as tf\n",
    "\n",
    "from sklearn.metrics import precision_score, recall_score, f1_score\n",
    "from sklearn.model_selection import train_test_split\n",
    "from sklearn.preprocessing import LabelEncoder"
   ]
  },
  {
   "cell_type": "code",
   "execution_count": 17,
   "id": "a0432d2d",
   "metadata": {},
   "outputs": [],
   "source": [
    "df_newsgroup = pd.read_csv('C:/Users/user/Desktop/bilm-tf-master/20news_dataset_clear/20newsgroup_preprocessed.csv', sep=';', usecols=['target', 'text_cleaned'])\n",
    "df_newsgroup.rename(columns={'text_cleaned' : 'text'}, inplace=True)"
   ]
  },
  {
   "cell_type": "code",
   "execution_count": 18,
   "id": "6bb502c5",
   "metadata": {},
   "outputs": [
    {
     "data": {
      "text/html": [
       "<style>#sk-container-id-2 {color: black;background-color: white;}#sk-container-id-2 pre{padding: 0;}#sk-container-id-2 div.sk-toggleable {background-color: white;}#sk-container-id-2 label.sk-toggleable__label {cursor: pointer;display: block;width: 100%;margin-bottom: 0;padding: 0.3em;box-sizing: border-box;text-align: center;}#sk-container-id-2 label.sk-toggleable__label-arrow:before {content: \"▸\";float: left;margin-right: 0.25em;color: #696969;}#sk-container-id-2 label.sk-toggleable__label-arrow:hover:before {color: black;}#sk-container-id-2 div.sk-estimator:hover label.sk-toggleable__label-arrow:before {color: black;}#sk-container-id-2 div.sk-toggleable__content {max-height: 0;max-width: 0;overflow: hidden;text-align: left;background-color: #f0f8ff;}#sk-container-id-2 div.sk-toggleable__content pre {margin: 0.2em;color: black;border-radius: 0.25em;background-color: #f0f8ff;}#sk-container-id-2 input.sk-toggleable__control:checked~div.sk-toggleable__content {max-height: 200px;max-width: 100%;overflow: auto;}#sk-container-id-2 input.sk-toggleable__control:checked~label.sk-toggleable__label-arrow:before {content: \"▾\";}#sk-container-id-2 div.sk-estimator input.sk-toggleable__control:checked~label.sk-toggleable__label {background-color: #d4ebff;}#sk-container-id-2 div.sk-label input.sk-toggleable__control:checked~label.sk-toggleable__label {background-color: #d4ebff;}#sk-container-id-2 input.sk-hidden--visually {border: 0;clip: rect(1px 1px 1px 1px);clip: rect(1px, 1px, 1px, 1px);height: 1px;margin: -1px;overflow: hidden;padding: 0;position: absolute;width: 1px;}#sk-container-id-2 div.sk-estimator {font-family: monospace;background-color: #f0f8ff;border: 1px dotted black;border-radius: 0.25em;box-sizing: border-box;margin-bottom: 0.5em;}#sk-container-id-2 div.sk-estimator:hover {background-color: #d4ebff;}#sk-container-id-2 div.sk-parallel-item::after {content: \"\";width: 100%;border-bottom: 1px solid gray;flex-grow: 1;}#sk-container-id-2 div.sk-label:hover label.sk-toggleable__label {background-color: #d4ebff;}#sk-container-id-2 div.sk-serial::before {content: \"\";position: absolute;border-left: 1px solid gray;box-sizing: border-box;top: 0;bottom: 0;left: 50%;z-index: 0;}#sk-container-id-2 div.sk-serial {display: flex;flex-direction: column;align-items: center;background-color: white;padding-right: 0.2em;padding-left: 0.2em;position: relative;}#sk-container-id-2 div.sk-item {position: relative;z-index: 1;}#sk-container-id-2 div.sk-parallel {display: flex;align-items: stretch;justify-content: center;background-color: white;position: relative;}#sk-container-id-2 div.sk-item::before, #sk-container-id-2 div.sk-parallel-item::before {content: \"\";position: absolute;border-left: 1px solid gray;box-sizing: border-box;top: 0;bottom: 0;left: 50%;z-index: -1;}#sk-container-id-2 div.sk-parallel-item {display: flex;flex-direction: column;z-index: 1;position: relative;background-color: white;}#sk-container-id-2 div.sk-parallel-item:first-child::after {align-self: flex-end;width: 50%;}#sk-container-id-2 div.sk-parallel-item:last-child::after {align-self: flex-start;width: 50%;}#sk-container-id-2 div.sk-parallel-item:only-child::after {width: 0;}#sk-container-id-2 div.sk-dashed-wrapped {border: 1px dashed gray;margin: 0 0.4em 0.5em 0.4em;box-sizing: border-box;padding-bottom: 0.4em;background-color: white;}#sk-container-id-2 div.sk-label label {font-family: monospace;font-weight: bold;display: inline-block;line-height: 1.2em;}#sk-container-id-2 div.sk-label-container {text-align: center;}#sk-container-id-2 div.sk-container {/* jupyter's `normalize.less` sets `[hidden] { display: none; }` but bootstrap.min.css set `[hidden] { display: none !important; }` so we also need the `!important` here to be able to override the default hidden behavior on the sphinx rendered scikit-learn.org. See: https://github.com/scikit-learn/scikit-learn/issues/21755 */display: inline-block !important;position: relative;}#sk-container-id-2 div.sk-text-repr-fallback {display: none;}</style><div id=\"sk-container-id-2\" class=\"sk-top-container\"><div class=\"sk-text-repr-fallback\"><pre>LabelEncoder()</pre><b>In a Jupyter environment, please rerun this cell to show the HTML representation or trust the notebook. <br />On GitHub, the HTML representation is unable to render, please try loading this page with nbviewer.org.</b></div><div class=\"sk-container\" hidden><div class=\"sk-item\"><div class=\"sk-estimator sk-toggleable\"><input class=\"sk-toggleable__control sk-hidden--visually\" id=\"sk-estimator-id-2\" type=\"checkbox\" checked><label for=\"sk-estimator-id-2\" class=\"sk-toggleable__label sk-toggleable__label-arrow\">LabelEncoder</label><div class=\"sk-toggleable__content\"><pre>LabelEncoder()</pre></div></div></div></div></div>"
      ],
      "text/plain": [
       "LabelEncoder()"
      ]
     },
     "execution_count": 18,
     "metadata": {},
     "output_type": "execute_result"
    }
   ],
   "source": [
    "le = LabelEncoder()\n",
    "le.fit(df_newsgroup['target'].unique())"
   ]
  },
  {
   "cell_type": "code",
   "execution_count": 19,
   "id": "ba0454c8",
   "metadata": {},
   "outputs": [],
   "source": [
    "df_newsgroup['target'] = le.transform(df_newsgroup['target'])"
   ]
  },
  {
   "cell_type": "code",
   "execution_count": 20,
   "id": "4bb254bc",
   "metadata": {},
   "outputs": [],
   "source": [
    "X = df_newsgroup['text'].astype(str)\n",
    "# y = tf.keras.utils.to_categorical(df_newsgroup['target'], num_classes=df_newsgroup['target'].nunique())\n",
    "y=list(df_newsgroup['target'])\n",
    "X_train, X_test, y_train, y_test = train_test_split(X, y, test_size=0.2, random_state=42, stratify=df_newsgroup['target'])"
   ]
  },
  {
   "cell_type": "code",
   "execution_count": 21,
   "id": "bef47644",
   "metadata": {},
   "outputs": [],
   "source": [
    "x_train=list(X_train)\n",
    "x_test=list(X_test)"
   ]
  },
  {
   "cell_type": "code",
   "execution_count": 22,
   "id": "d552897b",
   "metadata": {},
   "outputs": [],
   "source": [
    "import re\n",
    "pattern = '[^a-z.0-9 ]'\n",
    "clr_x_trian=[]\n",
    "clr_x_test=[]\n",
    "for sen in x_train:\n",
    "    clr_x_trian.append(re.sub(pattern, '', sen))\n",
    "for sen in x_test:\n",
    "    clr_x_test.append(re.sub(pattern, '', sen))"
   ]
  },
  {
   "cell_type": "code",
   "execution_count": 23,
   "id": "17cb6d0f",
   "metadata": {},
   "outputs": [],
   "source": [
    "to_txt=clr_x_trian+clr_x_test"
   ]
  },
  {
   "cell_type": "code",
   "execution_count": 24,
   "id": "17481a98",
   "metadata": {},
   "outputs": [],
   "source": [
    "#문장 끝에 온점 추가\n",
    "for i in range(len(to_txt)):\n",
    "    to_txt[i]=to_txt[i] + \" .\""
   ]
  },
  {
   "cell_type": "code",
   "execution_count": 25,
   "id": "792fc4b1",
   "metadata": {},
   "outputs": [],
   "source": [
    "import numpy as np\n",
    "\n",
    "train_data=np.array(to_txt)"
   ]
  },
  {
   "cell_type": "code",
   "execution_count": 26,
   "id": "61a7b5c6",
   "metadata": {
    "scrolled": true
   },
   "outputs": [],
   "source": [
    "import os\n",
    "if not os.path.exists(\"swb/train\"):\n",
    "    os.makedirs(\"swb/train\")\n",
    "for i in range(0,train_data.shape[0],6):\n",
    "    text = \"\\n\".join(train_data[i:i+5].tolist())\n",
    "    fp = open(\"swb/train/\"+str(i)+\".txt\",\"w\")\n",
    "    fp.write(text)\n",
    "    fp.close()\n"
   ]
  },
  {
   "cell_type": "code",
   "execution_count": 27,
   "id": "98901ea0",
   "metadata": {},
   "outputs": [
    {
     "name": "stdout",
     "output_type": "stream",
     "text": [
      "Number of tokens in Training data =  2639533\n",
      "Size of Vocab 150994\n"
     ]
    }
   ],
   "source": [
    "#소문자\n",
    "from collections import Counter\n",
    "\n",
    "texts = \" \".join(train_data.tolist())\n",
    "words = texts.split(\" \")\n",
    "print(\"Number of tokens in Training data = \",len(words))\n",
    "dictionary = Counter(words)\n",
    "print(\"Size of Vocab\",len(dictionary))\n",
    "sorted_vocab = [\"<S>\",\"</S>\",\"<UNK>\"]\n",
    "sorted_vocab.extend([pair[0] for pair in dictionary.most_common()])\n",
    " \n",
    "text = \"\\n\".join(sorted_vocab)\n",
    "fp = open(\"swb/vocab.txt\",\"w\") #,encoding='UTF-8'\n",
    "fp.write(text)\n",
    "fp.close()"
   ]
  },
  {
   "cell_type": "markdown",
   "id": "ef34eefc",
   "metadata": {},
   "source": [
    "from collections import Counter\n",
    "\n",
    "texts = \" \".join(dev_data.tolist())\n",
    "words = texts.split(\" \")\n",
    "print(\"Number of tokens in Training data = \",len(words))\n",
    "dictionary = Counter(words)\n",
    "print(\"Size of Vocab\",len(dictionary))\n",
    "sorted_vocab = [\"<S>\",\"</S>\",\"<UNK>\"]\n",
    "sorted_vocab.extend([pair[0] for pair in dictionary.most_common()])\n",
    " \n",
    "text = \"\\n\".join(sorted_vocab)\n",
    "fp = open(\"swb/vocab.txt\",\"w\")\n",
    "fp.write(text)\n",
    "fp.close()"
   ]
  },
  {
   "cell_type": "markdown",
   "id": "333f708d",
   "metadata": {},
   "source": [
    "option.json 파일 설치"
   ]
  },
  {
   "cell_type": "code",
   "execution_count": 1,
   "id": "d57b2e11",
   "metadata": {},
   "outputs": [
    {
     "data": {
      "text/plain": [
       "'C:\\\\Users\\\\user\\\\Desktop\\\\bilm-tf-master'"
      ]
     },
     "execution_count": 1,
     "metadata": {},
     "output_type": "execute_result"
    }
   ],
   "source": [
    "import os\n",
    "os.getcwd()"
   ]
  },
  {
   "cell_type": "code",
   "execution_count": 2,
   "id": "441d391c",
   "metadata": {},
   "outputs": [],
   "source": [
    "#하이퍼 파라미터 옵션(학습이 끝난 뒤엔 꼭 n_character=262로 해줘야 하므로 재설정. 기본값이 261로 돼있을 것임)\n",
    "options = {\n",
    "     'bidirectional': True,\n",
    "\n",
    "     'char_cnn': {'activation': 'relu',\n",
    "      'embedding': {'dim': 16},\n",
    "      'filters': [[1, 32],\n",
    "       [2, 32],\n",
    "       [3, 64],\n",
    "       [4, 128],\n",
    "       [5, 256],\n",
    "       [6, 512],\n",
    "       [7, 1024]],\n",
    "      'max_characters_per_token': 50,\n",
    "      'n_characters': 262,\n",
    "      'n_highway': 2},\n",
    "    \n",
    "     'dropout': 0.1,\n",
    "    \n",
    "     'lstm': {\n",
    "      'cell_clip': 3,\n",
    "      'dim': 4096,\n",
    "      'n_layers': 2,\n",
    "      'proj_clip': 3,\n",
    "      'projection_dim': 512,\n",
    "      'use_skip_connections': True},\n",
    "    \n",
    "     'all_clip_norm_val': 10.0,\n",
    "    \n",
    "     'n_epochs': 10,\n",
    "     'n_train_tokens': 2639533,\n",
    "     'batch_size': 64,\n",
    "     'n_tokens_vocab': 150994,\n",
    "     'unroll_steps': 20,\n",
    "     'n_negative_samples_batch': 8192,\n",
    "    }"
   ]
  },
  {
   "cell_type": "code",
   "execution_count": 3,
   "id": "7d867755",
   "metadata": {},
   "outputs": [],
   "source": [
    "import json\n",
    "file_path = \"./swb/options.json\"\n",
    "with open(file_path, 'w') as outfile:\n",
    "    json.dump(options, outfile, indent=4)"
   ]
  },
  {
   "cell_type": "code",
   "execution_count": null,
   "id": "2b7a17a7",
   "metadata": {},
   "outputs": [],
   "source": []
  },
  {
   "cell_type": "code",
   "execution_count": null,
   "id": "aca7878c",
   "metadata": {},
   "outputs": [],
   "source": []
  },
  {
   "cell_type": "code",
   "execution_count": null,
   "id": "87e21100",
   "metadata": {},
   "outputs": [],
   "source": []
  },
  {
   "cell_type": "code",
   "execution_count": null,
   "id": "74ff57fb",
   "metadata": {},
   "outputs": [],
   "source": []
  },
  {
   "cell_type": "code",
   "execution_count": null,
   "id": "f8bd7713",
   "metadata": {},
   "outputs": [],
   "source": []
  }
 ],
 "metadata": {
  "kernelspec": {
   "display_name": "Python 3 (ipykernel)",
   "language": "python",
   "name": "python3"
  },
  "language_info": {
   "codemirror_mode": {
    "name": "ipython",
    "version": 3
   },
   "file_extension": ".py",
   "mimetype": "text/x-python",
   "name": "python",
   "nbconvert_exporter": "python",
   "pygments_lexer": "ipython3",
   "version": "3.9.12"
  }
 },
 "nbformat": 4,
 "nbformat_minor": 5
}
